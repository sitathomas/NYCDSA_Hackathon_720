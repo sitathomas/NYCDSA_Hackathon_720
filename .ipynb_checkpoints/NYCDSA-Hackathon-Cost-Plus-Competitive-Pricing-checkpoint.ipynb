{
 "cells": [
  {
   "cell_type": "markdown",
   "metadata": {
    "toc": true
   },
   "source": [
    "<h1>Table of Contents<span class=\"tocSkip\"></span></h1>\n",
    "<div class=\"toc\"><ul class=\"toc-item\"><li><span><a href=\"#Setup\" data-toc-modified-id=\"Setup-1\"><span class=\"toc-item-num\">1&nbsp;&nbsp;</span>Setup</a></span></li><li><span><a href=\"#Cost-Plus-Pricing\" data-toc-modified-id=\"Cost-Plus-Pricing-2\"><span class=\"toc-item-num\">2&nbsp;&nbsp;</span>Cost-Plus Pricing</a></span></li><li><span><a href=\"#Competitive-Pricing\" data-toc-modified-id=\"Competitive-Pricing-3\"><span class=\"toc-item-num\">3&nbsp;&nbsp;</span>Competitive Pricing</a></span></li></ul></div>"
   ]
  },
  {
   "cell_type": "markdown",
   "metadata": {},
   "source": [
    "## Setup"
   ]
  },
  {
   "cell_type": "code",
   "execution_count": 1,
   "metadata": {},
   "outputs": [],
   "source": [
    "import pandas as pd\n",
    "pd.set_option('display.max_columns', None)\n",
    "pd.set_option('display.max_rows', None)\n",
    "\n",
    "import numpy as np\n",
    "\n",
    "import plotly.express as px\n",
    "import plotly.graph_objects as go\n",
    "\n",
    "import datetime\n",
    "\n",
    "import os\n",
    "if not os.path.exists(\"images\"):\n",
    "    os.mkdir(\"images\")"
   ]
  },
  {
   "cell_type": "code",
   "execution_count": 2,
   "metadata": {},
   "outputs": [
    {
     "name": "stdout",
     "output_type": "stream",
     "text": [
      "(168, 26)\n",
      "Index(['Id', 'Price-Max', 'Price-Min', 'Availability', 'Condition',\n",
      "       'Price-Currency', 'Date-Seen', 'On-Sale', 'Merchant', 'Shipping',\n",
      "       'Price-Source-URLs', 'ASINS', 'Brand', 'Category-Labels', 'Date-Added',\n",
      "       'Date-Updated', 'EAN', 'Image URLs', 'Keys', 'Manufacturer',\n",
      "       'Manufacturer-Id', 'Name', 'Primary-Category', 'Review-Source-URLs',\n",
      "       'UPC', 'Weight'],\n",
      "      dtype='object')\n"
     ]
    }
   ],
   "source": [
    "df = pd.read_csv(\"Products.csv\")\n",
    "print(df.shape)\n",
    "print(df.columns)"
   ]
  },
  {
   "cell_type": "code",
   "execution_count": 3,
   "metadata": {},
   "outputs": [],
   "source": [
    "# Remove erroneously priced product\n",
    "\n",
    "df =  df[df[\"Price-Min\"] > 1]"
   ]
  },
  {
   "cell_type": "code",
   "execution_count": 4,
   "metadata": {},
   "outputs": [],
   "source": [
    "# Convert Date Seen string to datetime\n",
    "\n",
    "df[\"Date-Seen\"] = df[\"Date-Seen\"].apply(lambda x: x.split(\",\"))\n",
    "df[\"Date-Seen\"] = df[\"Date-Seen\"].apply(lambda x: [datetime.datetime.strptime(y,\"%Y-%m-%dT%H:%M:%SZ\") for y in x])"
   ]
  },
  {
   "cell_type": "markdown",
   "metadata": {},
   "source": [
    "## Cost-Plus Pricing\n",
    "\n",
    "This graph shows the range of minimum and maximum pricing for each TV model. Some of the ranges are quite large, indicating that the markup of other retailers varies largely as well, in which case cost-plus pricing for those models may be advantageous. However, some models have very small ranges, in which case cost-plus pricing may not be the most effective strategy - a markup well beyond that of other retailers may deter consumers."
   ]
  },
  {
   "cell_type": "code",
   "execution_count": 6,
   "metadata": {},
   "outputs": [
    {
     "data": {
      "application/vnd.plotly.v1+json": {
       "config": {
        "plotlyServerURL": "https://plot.ly"
       },
       "data": [
        {
         "name": "Price-Min",
         "type": "box",
         "x": [
          "Hisense - 55 class - led - h9 series - 2160p - smart - 4k uhd tv with hdr\"",
          "Hisense - 55 class - led - h9 series - 2160p - smart - 4k uhd tv with hdr\"",
          "Hisense - 55 class - led - h9 series - 2160p - smart - 4k uhd tv with hdr\"",
          "Hisense - 55 class - led - h9 series - 2160p - smart - 4k uhd tv with hdr\"",
          "Hisense - 55 class - led - h9 series - 2160p - smart - 4k uhd tv with hdr\"",
          "Samsung 55 class 4k (2160p) smart led tv (un55ku7000)\"",
          "Samsung 55 class 4k (2160p) smart led tv (un55ku7000)\"",
          "Samsung 55 class 4k (2160p) smart led tv (un55ku7000)\"",
          "Samsung 55 class 4k (2160p) smart led tv (un55ku7000)\"",
          "Samsung 55 class 4k (2160p) smart led tv (un55ku7000)\"",
          "Samsung 55 class 4k (2160p) smart led tv (un55ku7000)\"",
          "Samsung 55 class 4k (2160p) smart led tv (un55ku7000)\"",
          "Samsung 55 class 4k (2160p) smart led tv (un55ku7000)\"",
          "Sony - 55 class - oled - a1e series - 2160p - smart - 4k uhd tv with hdr\"",
          "Sony - 55 class - oled - a1e series - 2160p - smart - 4k uhd tv with hdr\"",
          "Sony - 55 class - oled - a1e series - 2160p - smart - 4k uhd tv with hdr\"",
          "Sony - 55 class - oled - a1e series - 2160p - smart - 4k uhd tv with hdr\"",
          "Sony - 55 class - oled - a1e series - 2160p - smart - 4k uhd tv with hdr\"",
          "Sony - 55 class - oled - a1e series - 2160p - smart - 4k uhd tv with hdr\"",
          "Sony - 55 class - oled - a1e series - 2160p - smart - 4k uhd tv with hdr\"",
          "Sony - 55 class - oled - a1e series - 2160p - smart - 4k uhd tv with hdr\"",
          "Sony - 55 class - oled - a1e series - 2160p - smart - 4k uhd tv with hdr\"",
          "Sony - 55 class - oled - a1e series - 2160p - smart - 4k uhd tv with hdr\"",
          "Sony - 55 class - oled - a1e series - 2160p - smart - 4k uhd tv with hdr\"",
          "Sony - 55 class - oled - a1e series - 2160p - smart - 4k uhd tv with hdr\"",
          "Sony - 55 class - oled - a1e series - 2160p - smart - 4k uhd tv with hdr\"",
          "Sony - 55 class - oled - a1e series - 2160p - smart - 4k uhd tv with hdr\"",
          "Sony - 55 class - oled - a1e series - 2160p - smart - 4k uhd tv with hdr\"",
          "Sony - 55 class - oled - a1e series - 2160p - smart - 4k uhd tv with hdr\"",
          "Sony - 55 class - oled - a1e series - 2160p - smart - 4k uhd tv with hdr\"",
          "Sony - 55 class - oled - a1e series - 2160p - smart - 4k uhd tv with hdr\"",
          "Sony - 55 class - oled - a1e series - 2160p - smart - 4k uhd tv with hdr\"",
          "Sony - 55 class - oled - a1e series - 2160p - smart - 4k uhd tv with hdr\"",
          "Sony - 55 class - oled - a1e series - 2160p - smart - 4k uhd tv with hdr\"",
          "Sony - 55 class - oled - a1e series - 2160p - smart - 4k uhd tv with hdr\"",
          "Sony - 55 class - oled - a1e series - 2160p - smart - 4k uhd tv with hdr\"",
          "Sony - 55 class - oled - a1e series - 2160p - smart - 4k uhd tv with hdr\"",
          "Sony - 55 class - oled - a1e series - 2160p - smart - 4k uhd tv with hdr\"",
          "Sony - 55 class - oled - a1e series - 2160p - smart - 4k uhd tv with hdr\"",
          "Samsung - 55 class - led - q8f series - 2160p - smart - 4k uhd tv with hdr\"",
          "Samsung - 55 class - led - q8f series - 2160p - smart - 4k uhd tv with hdr\"",
          "Samsung - 55 class - led - q8f series - 2160p - smart - 4k uhd tv with hdr\"",
          "Samsung - 55 class - led - q8f series - 2160p - smart - 4k uhd tv with hdr\"",
          "Samsung - 55 class - led - q8f series - 2160p - smart - 4k uhd tv with hdr\"",
          "Samsung - 55 class - led - q8f series - 2160p - smart - 4k uhd tv with hdr\"",
          "Samsung - 55 class - led - q8f series - 2160p - smart - 4k uhd tv with hdr\"",
          "X900f-series 55-class hdr uhd smart led tv",
          "X900f-series 55-class hdr uhd smart led tv",
          "X900f-series 55-class hdr uhd smart led tv",
          "X900f-series 55-class hdr uhd smart led tv",
          "X900f-series 55-class hdr uhd smart led tv",
          "X900f-series 55-class hdr uhd smart led tv",
          "Samsung - 55 class - led - curved - mu6490 series - 2160p - smart - 4k ultra hd tv with hdr\"",
          "Samsung - 55 class - led - curved - mu6490 series - 2160p - smart - 4k ultra hd tv with hdr\"",
          "Samsung - 55 class - led - curved - mu6490 series - 2160p - smart - 4k ultra hd tv with hdr\"",
          "Samsung - 55 class - led - curved - mu6490 series - 2160p - smart - 4k ultra hd tv with hdr\"",
          "Samsung - 55 class - led - curved - mu6490 series - 2160p - smart - 4k ultra hd tv with hdr\"",
          "Samsung - 55 class - led - curved - mu6490 series - 2160p - smart - 4k ultra hd tv with hdr\"",
          "Samsung - 55 class - led - curved - mu6490 series - 2160p - smart - 4k ultra hd tv with hdr\"",
          "Samsung - 55 class - led - curved - mu6490 series - 2160p - smart - 4k ultra hd tv with hdr\"",
          "Samsung - 55 class - led - curved - mu6490 series - 2160p - smart - 4k ultra hd tv with hdr\"",
          "Samsung - 55 class - led - curved - mu6490 series - 2160p - smart - 4k ultra hd tv with hdr\"",
          "Samsung - 55 class - led - curved - mu6490 series - 2160p - smart - 4k ultra hd tv with hdr\"",
          "Samsung - 55 class - led - curved - mu6490 series - 2160p - smart - 4k ultra hd tv with hdr\"",
          "Samsung - 55 class - led - curved - mu6490 series - 2160p - smart - 4k ultra hd tv with hdr\"",
          "Lg - 55 class - led - uj7700 series - 2160p - smart - 4k uhd tv with hdr\"",
          "Lg - 55 class - led - uj7700 series - 2160p - smart - 4k uhd tv with hdr\"",
          "Lg - 55 class - led - uj7700 series - 2160p - smart - 4k uhd tv with hdr\"",
          "Lg - 55 class - led - uj7700 series - 2160p - smart - 4k uhd tv with hdr\"",
          "Lg - 55 class - led - uj7700 series - 2160p - smart - 4k uhd tv with hdr\"",
          "Lg - 55 class - led - uj7700 series - 2160p - smart - 4k uhd tv with hdr\"",
          "Lg - 55 class - led - uj7700 series - 2160p - smart - 4k uhd tv with hdr\"",
          "Lg - 55 class - led - uj7700 series - 2160p - smart - 4k uhd tv with hdr\"",
          "Samsung - 55 class - led - curved - q7c series - 2160p - smart - 4k uhd tv with hdr\"",
          "Samsung - 55 class - led - curved - q7c series - 2160p - smart - 4k uhd tv with hdr\"",
          "Samsung - 55 class - led - curved - q7c series - 2160p - smart - 4k uhd tv with hdr\"",
          "Samsung - 55 class - led - curved - q7c series - 2160p - smart - 4k uhd tv with hdr\"",
          "Samsung - 55 class - led - curved - q7c series - 2160p - smart - 4k uhd tv with hdr\"",
          "Samsung - 55 class - led - curved - q7c series - 2160p - smart - 4k uhd tv with hdr\"",
          "Samsung - 55 class - led - curved - q7c series - 2160p - smart - 4k uhd tv with hdr\"",
          "Samsung - 55 class - led - curved - q7c series - 2160p - smart - 4k uhd tv with hdr\"",
          "Samsung - 55 class - led - curved - q7c series - 2160p - smart - 4k uhd tv with hdr\"",
          "Samsung - 55 class - led - curved - q7c series - 2160p - smart - 4k uhd tv with hdr\"",
          "Samsung - 55 class - led - curved - q7c series - 2160p - smart - 4k uhd tv with hdr\"",
          "Samsung - 55 class - led - curved - q7c series - 2160p - smart - 4k uhd tv with hdr\"",
          "Samsung - 55 class - led - curved - q7c series - 2160p - smart - 4k uhd tv with hdr\"",
          "Samsung - 55 class - led - curved - q7c series - 2160p - smart - 4k uhd tv with hdr\"",
          "Samsung - 55 class - led - curved - q7c series - 2160p - smart - 4k uhd tv with hdr\"",
          "Samsung - 55 class - led - curved - q7c series - 2160p - smart - 4k uhd tv with hdr\"",
          "Samsung - 55 class - led - curved - q7c series - 2160p - smart - 4k uhd tv with hdr\"",
          "Samsung - 55 class - led - curved - q7c series - 2160p - smart - 4k uhd tv with hdr\"",
          "Samsung - 55 class - led - curved - q7c series - 2160p - smart - 4k uhd tv with hdr\"",
          "Samsung - 55 class - led - curved - q7c series - 2160p - smart - 4k uhd tv with hdr\"",
          "Samsung - 55 class - led - curved - q7c series - 2160p - smart - 4k uhd tv with hdr\"",
          "Samsung - 55 class - led - curved - q7c series - 2160p - smart - 4k uhd tv with hdr\"",
          "Samsung - 55 class - led - curved - q7c series - 2160p - smart - 4k uhd tv with hdr\"",
          "Samsung - 55 class - led - curved - q7c series - 2160p - smart - 4k uhd tv with hdr\"",
          "Samsung - 55 class - led - curved - q7c series - 2160p - smart - 4k uhd tv with hdr\"",
          "Samsung - 55 class - led - curved - q7c series - 2160p - smart - 4k uhd tv with hdr\"",
          "Samsung - 55 class - led - curved - q7c series - 2160p - smart - 4k uhd tv with hdr\"",
          "Samsung - 55 class - led - curved - q7c series - 2160p - smart - 4k uhd tv with hdr\"",
          "Samsung - 55 class - led - curved - q7c series - 2160p - smart - 4k uhd tv with hdr\"",
          "Samsung - 55 class - led - curved - q7c series - 2160p - smart - 4k uhd tv with hdr\"",
          "Samsung - 55 class - led - curved - q7c series - 2160p - smart - 4k uhd tv with hdr\"",
          "Samsung - 55 class - led - curved - q7c series - 2160p - smart - 4k uhd tv with hdr\"",
          "Samsung - 55 class - led - curved - q7c series - 2160p - smart - 4k uhd tv with hdr\"",
          "Samsung - 55 class - led - curved - q7c series - 2160p - smart - 4k uhd tv with hdr\"",
          "Samsung - 55 class - led - curved - q7c series - 2160p - smart - 4k uhd tv with hdr\"",
          "Samsung - 55 class - led - curved - q7c series - 2160p - smart - 4k uhd tv with hdr\"",
          "Samsung - 55 class - led - curved - q7c series - 2160p - smart - 4k uhd tv with hdr\"",
          "Samsung - 55 class - led - curved - q7c series - 2160p - smart - 4k uhd tv with hdr\"",
          "Samsung - 55 class - led - curved - q7c series - 2160p - smart - 4k uhd tv with hdr\"",
          "Hisense - 55 class - led - h8 series - 2160p - smart - 4k uhd tv with hdr\"",
          "Hisense - 55 class - led - h8 series - 2160p - smart - 4k uhd tv with hdr\"",
          "Hisense - 55 class - led - h8 series - 2160p - smart - 4k uhd tv with hdr\"",
          "Hisense - 55 class - led - h8 series - 2160p - smart - 4k uhd tv with hdr\"",
          "Hisense - 55 class - led - h8 series - 2160p - smart - 4k uhd tv with hdr\"",
          "Hisense - 55 class - led - h8 series - 2160p - smart - 4k uhd tv with hdr\"",
          "Hisense - 55 class - led - h8 series - 2160p - smart - 4k uhd tv with hdr\"",
          "Hisense - 55 class - led - h8 series - 2160p - smart - 4k uhd tv with hdr\"",
          "Hisense - 55 class - led - h8 series - 2160p - smart - 4k uhd tv with hdr\"",
          "Hisense - 55 class - led - h8 series - 2160p - smart - 4k uhd tv with hdr\"",
          "Sony xbr55x700d 55-inch 4k ultra hd smart led tv (2016 model)",
          "Sony xbr55x700d 55-inch 4k ultra hd smart led tv (2016 model)",
          "Sony xbr55x700d 55-inch 4k ultra hd smart led tv (2016 model)",
          "Sony xbr55x700d 55-inch 4k ultra hd smart led tv (2016 model)",
          "Sony xbr55x700d 55-inch 4k ultra hd smart led tv (2016 model)",
          "Sony xbr55x700d 55-inch 4k ultra hd smart led tv (2016 model)",
          "Sony xbr55x700d 55-inch 4k ultra hd smart led tv (2016 model)",
          "Sony xbr55x700d 55-inch 4k ultra hd smart led tv (2016 model)",
          "Sony xbr55x700d 55-inch 4k ultra hd smart led tv (2016 model)",
          "Sony xbr55x700d 55-inch 4k ultra hd smart led tv (2016 model)",
          "Sony xbr55x700d 55-inch 4k ultra hd smart led tv (2016 model)",
          "Sony xbr55x700d 55-inch 4k ultra hd smart led tv (2016 model)",
          "Sony xbr55x700d 55-inch 4k ultra hd smart led tv (2016 model)",
          "Sony - 55 class - led - x800e series - 2160p - smart - 4k uhd tv with hdr\"",
          "Sony - 55 class - led - x800e series - 2160p - smart - 4k uhd tv with hdr\"",
          "Sony - 55 class - led - x800e series - 2160p - smart - 4k uhd tv with hdr\"",
          "Sony - 55 class - led - x800e series - 2160p - smart - 4k uhd tv with hdr\"",
          "Sony - 55 class - led - x800e series - 2160p - smart - 4k uhd tv with hdr\"",
          "Sony - 55 class - led - x800e series - 2160p - smart - 4k uhd tv with hdr\"",
          "Sony - 55 class - led - x800e series - 2160p - smart - 4k uhd tv with hdr\"",
          "Sony - 55 class - led - x800e series - 2160p - smart - 4k uhd tv with hdr\"",
          "Sony - 55 class - led - x800e series - 2160p - smart - 4k uhd tv with hdr\"",
          "Sony - 55 class - led - x800e series - 2160p - smart - 4k uhd tv with hdr\"",
          "Sony - 55 class - led - x800e series - 2160p - smart - 4k uhd tv with hdr\"",
          "Sony - 55 class - led - x800e series - 2160p - smart - 4k uhd tv with hdr\"",
          "Sony - 55 class - led - x800e series - 2160p - smart - 4k uhd tv with hdr\"",
          "Sony - 55 class - led - x800e series - 2160p - smart - 4k uhd tv with hdr\"",
          "Sony - 55 class - led - x800e series - 2160p - smart - 4k uhd tv with hdr\"",
          "Sony - 55 class - led - x800e series - 2160p - smart - 4k uhd tv with hdr\"",
          "Sony - 55 class - led - x800e series - 2160p - smart - 4k uhd tv with hdr\"",
          "Sony - 55 class - led - x800e series - 2160p - smart - 4k uhd tv with hdr\"",
          "Sony - 55 class - led - x800e series - 2160p - smart - 4k uhd tv with hdr\"",
          "Sony - 55 class - led - x800e series - 2160p - smart - 4k uhd tv with hdr\"",
          "Sony - 55 class - led - x800e series - 2160p - smart - 4k uhd tv with hdr\"",
          "Sony - 55 class - led - x800e series - 2160p - smart - 4k uhd tv with hdr\"",
          "Sony - 55 class - led - x800e series - 2160p - smart - 4k uhd tv with hdr\"",
          "Sony - 55 class - led - x800e series - 2160p - smart - 4k uhd tv with hdr\"",
          "Sony - 55 class - led - x800e series - 2160p - smart - 4k uhd tv with hdr\"",
          "Sony - 55 class - led - x800e series - 2160p - smart - 4k uhd tv with hdr\"",
          "Sony - 55 class - led - x800e series - 2160p - smart - 4k uhd tv with hdr\"",
          "Sony - 55 class - led - x800e series - 2160p - smart - 4k uhd tv with hdr\"",
          "Sony - 55 class - led - x800e series - 2160p - smart - 4k uhd tv with hdr\"",
          "Sony - 55 class - led - x800e series - 2160p - smart - 4k uhd tv with hdr\"",
          "Sony - 55 class - led - x800e series - 2160p - smart - 4k uhd tv with hdr\"",
          "Sony - 55 class - led - x800e series - 2160p - smart - 4k uhd tv with hdr\""
         ],
         "y": [
          799.99,
          599.99,
          599.99,
          699.99,
          699.99,
          1197.99,
          1197.99,
          489.99,
          499.99,
          999.99,
          809.99,
          909.99,
          1199.99,
          3050,
          2799.99,
          2999.99,
          2499.99,
          3596,
          4999.99,
          4296,
          2798,
          2798,
          4096,
          3298,
          3219.99,
          2498,
          3499.99,
          3498,
          2998,
          3999.99,
          3040,
          3099.52,
          2498,
          3298,
          3099.18,
          2798,
          2498,
          3050,
          2998,
          2199.99,
          2097.99,
          2097.99,
          1997.99,
          1999.99,
          2197.99,
          1997.99,
          1498,
          1298,
          1498,
          1298,
          1499.99,
          1299.99,
          797.99,
          549.99,
          1097.99,
          799.99,
          1197.99,
          799.99,
          797.99,
          797.99,
          747.85,
          597.99,
          1197.99,
          597.99,
          797.99,
          796.99,
          846.99,
          749,
          799.99,
          659.42,
          1296.99,
          796.99,
          751.99,
          2395.98,
          1697.99,
          1497.99,
          2197.99,
          1797.99,
          2199.99,
          2797.99,
          1897.99,
          1549.95,
          1997.99,
          2075.98,
          1997.99,
          1898.95,
          1759.99,
          1997.99,
          1399.99,
          1999.99,
          2197.99,
          1797.99,
          2197.99,
          2475.98,
          1978.01,
          1972.95,
          1299.99,
          2197.99,
          1797.99,
          1997.95,
          1599,
          2197.99,
          1998.95,
          1755.95,
          1982.95,
          1900,
          2197.99,
          2125.98,
          2797.99,
          2016.95,
          2997.99,
          2197.99,
          549.99,
          768.98,
          449.99,
          429.99,
          449.99,
          723.6,
          619.96,
          427.99,
          549.99,
          724.7,
          798,
          629.99,
          600,
          699.95,
          848,
          450,
          798,
          746.24,
          550,
          798,
          789.99,
          848,
          798,
          1896,
          898,
          998,
          1899.99,
          998,
          909.99,
          695.47,
          998,
          1098,
          898,
          1198,
          2196,
          998,
          998,
          919.99,
          1098,
          838,
          1295.2,
          898,
          1198,
          1099,
          798,
          2096,
          1199.99,
          899.99,
          1091.99,
          998,
          998,
          798,
          998,
          898,
          999.99
         ]
        },
        {
         "name": "Price-Max",
         "type": "box",
         "x": [
          "Hisense - 55 class - led - h9 series - 2160p - smart - 4k uhd tv with hdr\"",
          "Hisense - 55 class - led - h9 series - 2160p - smart - 4k uhd tv with hdr\"",
          "Hisense - 55 class - led - h9 series - 2160p - smart - 4k uhd tv with hdr\"",
          "Hisense - 55 class - led - h9 series - 2160p - smart - 4k uhd tv with hdr\"",
          "Hisense - 55 class - led - h9 series - 2160p - smart - 4k uhd tv with hdr\"",
          "Samsung 55 class 4k (2160p) smart led tv (un55ku7000)\"",
          "Samsung 55 class 4k (2160p) smart led tv (un55ku7000)\"",
          "Samsung 55 class 4k (2160p) smart led tv (un55ku7000)\"",
          "Samsung 55 class 4k (2160p) smart led tv (un55ku7000)\"",
          "Samsung 55 class 4k (2160p) smart led tv (un55ku7000)\"",
          "Samsung 55 class 4k (2160p) smart led tv (un55ku7000)\"",
          "Samsung 55 class 4k (2160p) smart led tv (un55ku7000)\"",
          "Samsung 55 class 4k (2160p) smart led tv (un55ku7000)\"",
          "Sony - 55 class - oled - a1e series - 2160p - smart - 4k uhd tv with hdr\"",
          "Sony - 55 class - oled - a1e series - 2160p - smart - 4k uhd tv with hdr\"",
          "Sony - 55 class - oled - a1e series - 2160p - smart - 4k uhd tv with hdr\"",
          "Sony - 55 class - oled - a1e series - 2160p - smart - 4k uhd tv with hdr\"",
          "Sony - 55 class - oled - a1e series - 2160p - smart - 4k uhd tv with hdr\"",
          "Sony - 55 class - oled - a1e series - 2160p - smart - 4k uhd tv with hdr\"",
          "Sony - 55 class - oled - a1e series - 2160p - smart - 4k uhd tv with hdr\"",
          "Sony - 55 class - oled - a1e series - 2160p - smart - 4k uhd tv with hdr\"",
          "Sony - 55 class - oled - a1e series - 2160p - smart - 4k uhd tv with hdr\"",
          "Sony - 55 class - oled - a1e series - 2160p - smart - 4k uhd tv with hdr\"",
          "Sony - 55 class - oled - a1e series - 2160p - smart - 4k uhd tv with hdr\"",
          "Sony - 55 class - oled - a1e series - 2160p - smart - 4k uhd tv with hdr\"",
          "Sony - 55 class - oled - a1e series - 2160p - smart - 4k uhd tv with hdr\"",
          "Sony - 55 class - oled - a1e series - 2160p - smart - 4k uhd tv with hdr\"",
          "Sony - 55 class - oled - a1e series - 2160p - smart - 4k uhd tv with hdr\"",
          "Sony - 55 class - oled - a1e series - 2160p - smart - 4k uhd tv with hdr\"",
          "Sony - 55 class - oled - a1e series - 2160p - smart - 4k uhd tv with hdr\"",
          "Sony - 55 class - oled - a1e series - 2160p - smart - 4k uhd tv with hdr\"",
          "Sony - 55 class - oled - a1e series - 2160p - smart - 4k uhd tv with hdr\"",
          "Sony - 55 class - oled - a1e series - 2160p - smart - 4k uhd tv with hdr\"",
          "Sony - 55 class - oled - a1e series - 2160p - smart - 4k uhd tv with hdr\"",
          "Sony - 55 class - oled - a1e series - 2160p - smart - 4k uhd tv with hdr\"",
          "Sony - 55 class - oled - a1e series - 2160p - smart - 4k uhd tv with hdr\"",
          "Sony - 55 class - oled - a1e series - 2160p - smart - 4k uhd tv with hdr\"",
          "Sony - 55 class - oled - a1e series - 2160p - smart - 4k uhd tv with hdr\"",
          "Sony - 55 class - oled - a1e series - 2160p - smart - 4k uhd tv with hdr\"",
          "Samsung - 55 class - led - q8f series - 2160p - smart - 4k uhd tv with hdr\"",
          "Samsung - 55 class - led - q8f series - 2160p - smart - 4k uhd tv with hdr\"",
          "Samsung - 55 class - led - q8f series - 2160p - smart - 4k uhd tv with hdr\"",
          "Samsung - 55 class - led - q8f series - 2160p - smart - 4k uhd tv with hdr\"",
          "Samsung - 55 class - led - q8f series - 2160p - smart - 4k uhd tv with hdr\"",
          "Samsung - 55 class - led - q8f series - 2160p - smart - 4k uhd tv with hdr\"",
          "Samsung - 55 class - led - q8f series - 2160p - smart - 4k uhd tv with hdr\"",
          "X900f-series 55-class hdr uhd smart led tv",
          "X900f-series 55-class hdr uhd smart led tv",
          "X900f-series 55-class hdr uhd smart led tv",
          "X900f-series 55-class hdr uhd smart led tv",
          "X900f-series 55-class hdr uhd smart led tv",
          "X900f-series 55-class hdr uhd smart led tv",
          "Samsung - 55 class - led - curved - mu6490 series - 2160p - smart - 4k ultra hd tv with hdr\"",
          "Samsung - 55 class - led - curved - mu6490 series - 2160p - smart - 4k ultra hd tv with hdr\"",
          "Samsung - 55 class - led - curved - mu6490 series - 2160p - smart - 4k ultra hd tv with hdr\"",
          "Samsung - 55 class - led - curved - mu6490 series - 2160p - smart - 4k ultra hd tv with hdr\"",
          "Samsung - 55 class - led - curved - mu6490 series - 2160p - smart - 4k ultra hd tv with hdr\"",
          "Samsung - 55 class - led - curved - mu6490 series - 2160p - smart - 4k ultra hd tv with hdr\"",
          "Samsung - 55 class - led - curved - mu6490 series - 2160p - smart - 4k ultra hd tv with hdr\"",
          "Samsung - 55 class - led - curved - mu6490 series - 2160p - smart - 4k ultra hd tv with hdr\"",
          "Samsung - 55 class - led - curved - mu6490 series - 2160p - smart - 4k ultra hd tv with hdr\"",
          "Samsung - 55 class - led - curved - mu6490 series - 2160p - smart - 4k ultra hd tv with hdr\"",
          "Samsung - 55 class - led - curved - mu6490 series - 2160p - smart - 4k ultra hd tv with hdr\"",
          "Samsung - 55 class - led - curved - mu6490 series - 2160p - smart - 4k ultra hd tv with hdr\"",
          "Samsung - 55 class - led - curved - mu6490 series - 2160p - smart - 4k ultra hd tv with hdr\"",
          "Lg - 55 class - led - uj7700 series - 2160p - smart - 4k uhd tv with hdr\"",
          "Lg - 55 class - led - uj7700 series - 2160p - smart - 4k uhd tv with hdr\"",
          "Lg - 55 class - led - uj7700 series - 2160p - smart - 4k uhd tv with hdr\"",
          "Lg - 55 class - led - uj7700 series - 2160p - smart - 4k uhd tv with hdr\"",
          "Lg - 55 class - led - uj7700 series - 2160p - smart - 4k uhd tv with hdr\"",
          "Lg - 55 class - led - uj7700 series - 2160p - smart - 4k uhd tv with hdr\"",
          "Lg - 55 class - led - uj7700 series - 2160p - smart - 4k uhd tv with hdr\"",
          "Lg - 55 class - led - uj7700 series - 2160p - smart - 4k uhd tv with hdr\"",
          "Samsung - 55 class - led - curved - q7c series - 2160p - smart - 4k uhd tv with hdr\"",
          "Samsung - 55 class - led - curved - q7c series - 2160p - smart - 4k uhd tv with hdr\"",
          "Samsung - 55 class - led - curved - q7c series - 2160p - smart - 4k uhd tv with hdr\"",
          "Samsung - 55 class - led - curved - q7c series - 2160p - smart - 4k uhd tv with hdr\"",
          "Samsung - 55 class - led - curved - q7c series - 2160p - smart - 4k uhd tv with hdr\"",
          "Samsung - 55 class - led - curved - q7c series - 2160p - smart - 4k uhd tv with hdr\"",
          "Samsung - 55 class - led - curved - q7c series - 2160p - smart - 4k uhd tv with hdr\"",
          "Samsung - 55 class - led - curved - q7c series - 2160p - smart - 4k uhd tv with hdr\"",
          "Samsung - 55 class - led - curved - q7c series - 2160p - smart - 4k uhd tv with hdr\"",
          "Samsung - 55 class - led - curved - q7c series - 2160p - smart - 4k uhd tv with hdr\"",
          "Samsung - 55 class - led - curved - q7c series - 2160p - smart - 4k uhd tv with hdr\"",
          "Samsung - 55 class - led - curved - q7c series - 2160p - smart - 4k uhd tv with hdr\"",
          "Samsung - 55 class - led - curved - q7c series - 2160p - smart - 4k uhd tv with hdr\"",
          "Samsung - 55 class - led - curved - q7c series - 2160p - smart - 4k uhd tv with hdr\"",
          "Samsung - 55 class - led - curved - q7c series - 2160p - smart - 4k uhd tv with hdr\"",
          "Samsung - 55 class - led - curved - q7c series - 2160p - smart - 4k uhd tv with hdr\"",
          "Samsung - 55 class - led - curved - q7c series - 2160p - smart - 4k uhd tv with hdr\"",
          "Samsung - 55 class - led - curved - q7c series - 2160p - smart - 4k uhd tv with hdr\"",
          "Samsung - 55 class - led - curved - q7c series - 2160p - smart - 4k uhd tv with hdr\"",
          "Samsung - 55 class - led - curved - q7c series - 2160p - smart - 4k uhd tv with hdr\"",
          "Samsung - 55 class - led - curved - q7c series - 2160p - smart - 4k uhd tv with hdr\"",
          "Samsung - 55 class - led - curved - q7c series - 2160p - smart - 4k uhd tv with hdr\"",
          "Samsung - 55 class - led - curved - q7c series - 2160p - smart - 4k uhd tv with hdr\"",
          "Samsung - 55 class - led - curved - q7c series - 2160p - smart - 4k uhd tv with hdr\"",
          "Samsung - 55 class - led - curved - q7c series - 2160p - smart - 4k uhd tv with hdr\"",
          "Samsung - 55 class - led - curved - q7c series - 2160p - smart - 4k uhd tv with hdr\"",
          "Samsung - 55 class - led - curved - q7c series - 2160p - smart - 4k uhd tv with hdr\"",
          "Samsung - 55 class - led - curved - q7c series - 2160p - smart - 4k uhd tv with hdr\"",
          "Samsung - 55 class - led - curved - q7c series - 2160p - smart - 4k uhd tv with hdr\"",
          "Samsung - 55 class - led - curved - q7c series - 2160p - smart - 4k uhd tv with hdr\"",
          "Samsung - 55 class - led - curved - q7c series - 2160p - smart - 4k uhd tv with hdr\"",
          "Samsung - 55 class - led - curved - q7c series - 2160p - smart - 4k uhd tv with hdr\"",
          "Samsung - 55 class - led - curved - q7c series - 2160p - smart - 4k uhd tv with hdr\"",
          "Samsung - 55 class - led - curved - q7c series - 2160p - smart - 4k uhd tv with hdr\"",
          "Samsung - 55 class - led - curved - q7c series - 2160p - smart - 4k uhd tv with hdr\"",
          "Samsung - 55 class - led - curved - q7c series - 2160p - smart - 4k uhd tv with hdr\"",
          "Samsung - 55 class - led - curved - q7c series - 2160p - smart - 4k uhd tv with hdr\"",
          "Samsung - 55 class - led - curved - q7c series - 2160p - smart - 4k uhd tv with hdr\"",
          "Samsung - 55 class - led - curved - q7c series - 2160p - smart - 4k uhd tv with hdr\"",
          "Hisense - 55 class - led - h8 series - 2160p - smart - 4k uhd tv with hdr\"",
          "Hisense - 55 class - led - h8 series - 2160p - smart - 4k uhd tv with hdr\"",
          "Hisense - 55 class - led - h8 series - 2160p - smart - 4k uhd tv with hdr\"",
          "Hisense - 55 class - led - h8 series - 2160p - smart - 4k uhd tv with hdr\"",
          "Hisense - 55 class - led - h8 series - 2160p - smart - 4k uhd tv with hdr\"",
          "Hisense - 55 class - led - h8 series - 2160p - smart - 4k uhd tv with hdr\"",
          "Hisense - 55 class - led - h8 series - 2160p - smart - 4k uhd tv with hdr\"",
          "Hisense - 55 class - led - h8 series - 2160p - smart - 4k uhd tv with hdr\"",
          "Hisense - 55 class - led - h8 series - 2160p - smart - 4k uhd tv with hdr\"",
          "Hisense - 55 class - led - h8 series - 2160p - smart - 4k uhd tv with hdr\"",
          "Sony xbr55x700d 55-inch 4k ultra hd smart led tv (2016 model)",
          "Sony xbr55x700d 55-inch 4k ultra hd smart led tv (2016 model)",
          "Sony xbr55x700d 55-inch 4k ultra hd smart led tv (2016 model)",
          "Sony xbr55x700d 55-inch 4k ultra hd smart led tv (2016 model)",
          "Sony xbr55x700d 55-inch 4k ultra hd smart led tv (2016 model)",
          "Sony xbr55x700d 55-inch 4k ultra hd smart led tv (2016 model)",
          "Sony xbr55x700d 55-inch 4k ultra hd smart led tv (2016 model)",
          "Sony xbr55x700d 55-inch 4k ultra hd smart led tv (2016 model)",
          "Sony xbr55x700d 55-inch 4k ultra hd smart led tv (2016 model)",
          "Sony xbr55x700d 55-inch 4k ultra hd smart led tv (2016 model)",
          "Sony xbr55x700d 55-inch 4k ultra hd smart led tv (2016 model)",
          "Sony xbr55x700d 55-inch 4k ultra hd smart led tv (2016 model)",
          "Sony xbr55x700d 55-inch 4k ultra hd smart led tv (2016 model)",
          "Sony - 55 class - led - x800e series - 2160p - smart - 4k uhd tv with hdr\"",
          "Sony - 55 class - led - x800e series - 2160p - smart - 4k uhd tv with hdr\"",
          "Sony - 55 class - led - x800e series - 2160p - smart - 4k uhd tv with hdr\"",
          "Sony - 55 class - led - x800e series - 2160p - smart - 4k uhd tv with hdr\"",
          "Sony - 55 class - led - x800e series - 2160p - smart - 4k uhd tv with hdr\"",
          "Sony - 55 class - led - x800e series - 2160p - smart - 4k uhd tv with hdr\"",
          "Sony - 55 class - led - x800e series - 2160p - smart - 4k uhd tv with hdr\"",
          "Sony - 55 class - led - x800e series - 2160p - smart - 4k uhd tv with hdr\"",
          "Sony - 55 class - led - x800e series - 2160p - smart - 4k uhd tv with hdr\"",
          "Sony - 55 class - led - x800e series - 2160p - smart - 4k uhd tv with hdr\"",
          "Sony - 55 class - led - x800e series - 2160p - smart - 4k uhd tv with hdr\"",
          "Sony - 55 class - led - x800e series - 2160p - smart - 4k uhd tv with hdr\"",
          "Sony - 55 class - led - x800e series - 2160p - smart - 4k uhd tv with hdr\"",
          "Sony - 55 class - led - x800e series - 2160p - smart - 4k uhd tv with hdr\"",
          "Sony - 55 class - led - x800e series - 2160p - smart - 4k uhd tv with hdr\"",
          "Sony - 55 class - led - x800e series - 2160p - smart - 4k uhd tv with hdr\"",
          "Sony - 55 class - led - x800e series - 2160p - smart - 4k uhd tv with hdr\"",
          "Sony - 55 class - led - x800e series - 2160p - smart - 4k uhd tv with hdr\"",
          "Sony - 55 class - led - x800e series - 2160p - smart - 4k uhd tv with hdr\"",
          "Sony - 55 class - led - x800e series - 2160p - smart - 4k uhd tv with hdr\"",
          "Sony - 55 class - led - x800e series - 2160p - smart - 4k uhd tv with hdr\"",
          "Sony - 55 class - led - x800e series - 2160p - smart - 4k uhd tv with hdr\"",
          "Sony - 55 class - led - x800e series - 2160p - smart - 4k uhd tv with hdr\"",
          "Sony - 55 class - led - x800e series - 2160p - smart - 4k uhd tv with hdr\"",
          "Sony - 55 class - led - x800e series - 2160p - smart - 4k uhd tv with hdr\"",
          "Sony - 55 class - led - x800e series - 2160p - smart - 4k uhd tv with hdr\"",
          "Sony - 55 class - led - x800e series - 2160p - smart - 4k uhd tv with hdr\"",
          "Sony - 55 class - led - x800e series - 2160p - smart - 4k uhd tv with hdr\"",
          "Sony - 55 class - led - x800e series - 2160p - smart - 4k uhd tv with hdr\"",
          "Sony - 55 class - led - x800e series - 2160p - smart - 4k uhd tv with hdr\"",
          "Sony - 55 class - led - x800e series - 2160p - smart - 4k uhd tv with hdr\"",
          "Sony - 55 class - led - x800e series - 2160p - smart - 4k uhd tv with hdr\""
         ],
         "y": [
          799.99,
          599.99,
          599.99,
          699.99,
          699.99,
          2399.99,
          1197.99,
          489.99,
          499.99,
          999.99,
          809.99,
          909.99,
          1199.99,
          3050,
          2799.99,
          2999.99,
          2499.99,
          4999.99,
          4999.99,
          4999.99,
          3998,
          2798,
          4999.99,
          4999.99,
          3219.99,
          4999.99,
          3499.99,
          3498,
          2998,
          3999.99,
          3040,
          3099.52,
          2498,
          3298,
          3099.18,
          2798,
          2498,
          3050,
          2998,
          2199.99,
          2599.99,
          2097.99,
          1997.99,
          1999.99,
          2197.99,
          2599.99,
          1498,
          1298,
          1498,
          1298,
          1499.99,
          1299.99,
          999.99,
          549.99,
          1399.99,
          799.99,
          1399.99,
          799.99,
          797.99,
          797.99,
          747.85,
          999.99,
          1197.99,
          597.99,
          797.99,
          1299.99,
          1299.99,
          1299,
          799.99,
          1299.99,
          1296.99,
          1299,
          751.99,
          2997.99,
          1697.99,
          2999.99,
          2997.99,
          2997.99,
          2199.99,
          2797.99,
          3699.99,
          1549.95,
          3699.99,
          2997.99,
          2997.99,
          1898.95,
          1759.99,
          1997.99,
          2999.99,
          1999.99,
          2197.99,
          2997.99,
          2197.99,
          2997.99,
          2997.99,
          1972.95,
          1299.99,
          3699.99,
          1797.99,
          1997.95,
          2997.99,
          2197.99,
          1998.95,
          1755.95,
          1982.95,
          1900,
          2197.99,
          2997.99,
          3599.99,
          2016.95,
          2997.99,
          2197.99,
          549.99,
          916.4,
          449.99,
          429.99,
          449.99,
          723.6,
          619.96,
          427.99,
          749.99,
          724.7,
          798,
          629.99,
          600,
          699.95,
          848,
          450,
          999.99,
          746.24,
          550,
          798,
          789.99,
          848,
          798,
          1896,
          898,
          998,
          1899.99,
          998,
          909.99,
          821.14,
          1899.99,
          1098,
          898,
          1198,
          2196,
          998,
          998,
          919.99,
          1098,
          1199.99,
          1295.2,
          1199.99,
          1198,
          1099,
          1199.99,
          2096,
          1199.99,
          899.99,
          1091.99,
          1199.99,
          1199.99,
          798,
          998,
          1199.99,
          999.99
         ]
        }
       ],
       "layout": {
        "boxmode": "group",
        "template": {
         "data": {
          "bar": [
           {
            "error_x": {
             "color": "#2a3f5f"
            },
            "error_y": {
             "color": "#2a3f5f"
            },
            "marker": {
             "line": {
              "color": "#E5ECF6",
              "width": 0.5
             }
            },
            "type": "bar"
           }
          ],
          "barpolar": [
           {
            "marker": {
             "line": {
              "color": "#E5ECF6",
              "width": 0.5
             }
            },
            "type": "barpolar"
           }
          ],
          "carpet": [
           {
            "aaxis": {
             "endlinecolor": "#2a3f5f",
             "gridcolor": "white",
             "linecolor": "white",
             "minorgridcolor": "white",
             "startlinecolor": "#2a3f5f"
            },
            "baxis": {
             "endlinecolor": "#2a3f5f",
             "gridcolor": "white",
             "linecolor": "white",
             "minorgridcolor": "white",
             "startlinecolor": "#2a3f5f"
            },
            "type": "carpet"
           }
          ],
          "choropleth": [
           {
            "colorbar": {
             "outlinewidth": 0,
             "ticks": ""
            },
            "type": "choropleth"
           }
          ],
          "contour": [
           {
            "colorbar": {
             "outlinewidth": 0,
             "ticks": ""
            },
            "colorscale": [
             [
              0,
              "#0d0887"
             ],
             [
              0.1111111111111111,
              "#46039f"
             ],
             [
              0.2222222222222222,
              "#7201a8"
             ],
             [
              0.3333333333333333,
              "#9c179e"
             ],
             [
              0.4444444444444444,
              "#bd3786"
             ],
             [
              0.5555555555555556,
              "#d8576b"
             ],
             [
              0.6666666666666666,
              "#ed7953"
             ],
             [
              0.7777777777777778,
              "#fb9f3a"
             ],
             [
              0.8888888888888888,
              "#fdca26"
             ],
             [
              1,
              "#f0f921"
             ]
            ],
            "type": "contour"
           }
          ],
          "contourcarpet": [
           {
            "colorbar": {
             "outlinewidth": 0,
             "ticks": ""
            },
            "type": "contourcarpet"
           }
          ],
          "heatmap": [
           {
            "colorbar": {
             "outlinewidth": 0,
             "ticks": ""
            },
            "colorscale": [
             [
              0,
              "#0d0887"
             ],
             [
              0.1111111111111111,
              "#46039f"
             ],
             [
              0.2222222222222222,
              "#7201a8"
             ],
             [
              0.3333333333333333,
              "#9c179e"
             ],
             [
              0.4444444444444444,
              "#bd3786"
             ],
             [
              0.5555555555555556,
              "#d8576b"
             ],
             [
              0.6666666666666666,
              "#ed7953"
             ],
             [
              0.7777777777777778,
              "#fb9f3a"
             ],
             [
              0.8888888888888888,
              "#fdca26"
             ],
             [
              1,
              "#f0f921"
             ]
            ],
            "type": "heatmap"
           }
          ],
          "heatmapgl": [
           {
            "colorbar": {
             "outlinewidth": 0,
             "ticks": ""
            },
            "colorscale": [
             [
              0,
              "#0d0887"
             ],
             [
              0.1111111111111111,
              "#46039f"
             ],
             [
              0.2222222222222222,
              "#7201a8"
             ],
             [
              0.3333333333333333,
              "#9c179e"
             ],
             [
              0.4444444444444444,
              "#bd3786"
             ],
             [
              0.5555555555555556,
              "#d8576b"
             ],
             [
              0.6666666666666666,
              "#ed7953"
             ],
             [
              0.7777777777777778,
              "#fb9f3a"
             ],
             [
              0.8888888888888888,
              "#fdca26"
             ],
             [
              1,
              "#f0f921"
             ]
            ],
            "type": "heatmapgl"
           }
          ],
          "histogram": [
           {
            "marker": {
             "colorbar": {
              "outlinewidth": 0,
              "ticks": ""
             }
            },
            "type": "histogram"
           }
          ],
          "histogram2d": [
           {
            "colorbar": {
             "outlinewidth": 0,
             "ticks": ""
            },
            "colorscale": [
             [
              0,
              "#0d0887"
             ],
             [
              0.1111111111111111,
              "#46039f"
             ],
             [
              0.2222222222222222,
              "#7201a8"
             ],
             [
              0.3333333333333333,
              "#9c179e"
             ],
             [
              0.4444444444444444,
              "#bd3786"
             ],
             [
              0.5555555555555556,
              "#d8576b"
             ],
             [
              0.6666666666666666,
              "#ed7953"
             ],
             [
              0.7777777777777778,
              "#fb9f3a"
             ],
             [
              0.8888888888888888,
              "#fdca26"
             ],
             [
              1,
              "#f0f921"
             ]
            ],
            "type": "histogram2d"
           }
          ],
          "histogram2dcontour": [
           {
            "colorbar": {
             "outlinewidth": 0,
             "ticks": ""
            },
            "colorscale": [
             [
              0,
              "#0d0887"
             ],
             [
              0.1111111111111111,
              "#46039f"
             ],
             [
              0.2222222222222222,
              "#7201a8"
             ],
             [
              0.3333333333333333,
              "#9c179e"
             ],
             [
              0.4444444444444444,
              "#bd3786"
             ],
             [
              0.5555555555555556,
              "#d8576b"
             ],
             [
              0.6666666666666666,
              "#ed7953"
             ],
             [
              0.7777777777777778,
              "#fb9f3a"
             ],
             [
              0.8888888888888888,
              "#fdca26"
             ],
             [
              1,
              "#f0f921"
             ]
            ],
            "type": "histogram2dcontour"
           }
          ],
          "mesh3d": [
           {
            "colorbar": {
             "outlinewidth": 0,
             "ticks": ""
            },
            "type": "mesh3d"
           }
          ],
          "parcoords": [
           {
            "line": {
             "colorbar": {
              "outlinewidth": 0,
              "ticks": ""
             }
            },
            "type": "parcoords"
           }
          ],
          "pie": [
           {
            "automargin": true,
            "type": "pie"
           }
          ],
          "scatter": [
           {
            "marker": {
             "colorbar": {
              "outlinewidth": 0,
              "ticks": ""
             }
            },
            "type": "scatter"
           }
          ],
          "scatter3d": [
           {
            "line": {
             "colorbar": {
              "outlinewidth": 0,
              "ticks": ""
             }
            },
            "marker": {
             "colorbar": {
              "outlinewidth": 0,
              "ticks": ""
             }
            },
            "type": "scatter3d"
           }
          ],
          "scattercarpet": [
           {
            "marker": {
             "colorbar": {
              "outlinewidth": 0,
              "ticks": ""
             }
            },
            "type": "scattercarpet"
           }
          ],
          "scattergeo": [
           {
            "marker": {
             "colorbar": {
              "outlinewidth": 0,
              "ticks": ""
             }
            },
            "type": "scattergeo"
           }
          ],
          "scattergl": [
           {
            "marker": {
             "colorbar": {
              "outlinewidth": 0,
              "ticks": ""
             }
            },
            "type": "scattergl"
           }
          ],
          "scattermapbox": [
           {
            "marker": {
             "colorbar": {
              "outlinewidth": 0,
              "ticks": ""
             }
            },
            "type": "scattermapbox"
           }
          ],
          "scatterpolar": [
           {
            "marker": {
             "colorbar": {
              "outlinewidth": 0,
              "ticks": ""
             }
            },
            "type": "scatterpolar"
           }
          ],
          "scatterpolargl": [
           {
            "marker": {
             "colorbar": {
              "outlinewidth": 0,
              "ticks": ""
             }
            },
            "type": "scatterpolargl"
           }
          ],
          "scatterternary": [
           {
            "marker": {
             "colorbar": {
              "outlinewidth": 0,
              "ticks": ""
             }
            },
            "type": "scatterternary"
           }
          ],
          "surface": [
           {
            "colorbar": {
             "outlinewidth": 0,
             "ticks": ""
            },
            "colorscale": [
             [
              0,
              "#0d0887"
             ],
             [
              0.1111111111111111,
              "#46039f"
             ],
             [
              0.2222222222222222,
              "#7201a8"
             ],
             [
              0.3333333333333333,
              "#9c179e"
             ],
             [
              0.4444444444444444,
              "#bd3786"
             ],
             [
              0.5555555555555556,
              "#d8576b"
             ],
             [
              0.6666666666666666,
              "#ed7953"
             ],
             [
              0.7777777777777778,
              "#fb9f3a"
             ],
             [
              0.8888888888888888,
              "#fdca26"
             ],
             [
              1,
              "#f0f921"
             ]
            ],
            "type": "surface"
           }
          ],
          "table": [
           {
            "cells": {
             "fill": {
              "color": "#EBF0F8"
             },
             "line": {
              "color": "white"
             }
            },
            "header": {
             "fill": {
              "color": "#C8D4E3"
             },
             "line": {
              "color": "white"
             }
            },
            "type": "table"
           }
          ]
         },
         "layout": {
          "annotationdefaults": {
           "arrowcolor": "#2a3f5f",
           "arrowhead": 0,
           "arrowwidth": 1
          },
          "coloraxis": {
           "colorbar": {
            "outlinewidth": 0,
            "ticks": ""
           }
          },
          "colorscale": {
           "diverging": [
            [
             0,
             "#8e0152"
            ],
            [
             0.1,
             "#c51b7d"
            ],
            [
             0.2,
             "#de77ae"
            ],
            [
             0.3,
             "#f1b6da"
            ],
            [
             0.4,
             "#fde0ef"
            ],
            [
             0.5,
             "#f7f7f7"
            ],
            [
             0.6,
             "#e6f5d0"
            ],
            [
             0.7,
             "#b8e186"
            ],
            [
             0.8,
             "#7fbc41"
            ],
            [
             0.9,
             "#4d9221"
            ],
            [
             1,
             "#276419"
            ]
           ],
           "sequential": [
            [
             0,
             "#0d0887"
            ],
            [
             0.1111111111111111,
             "#46039f"
            ],
            [
             0.2222222222222222,
             "#7201a8"
            ],
            [
             0.3333333333333333,
             "#9c179e"
            ],
            [
             0.4444444444444444,
             "#bd3786"
            ],
            [
             0.5555555555555556,
             "#d8576b"
            ],
            [
             0.6666666666666666,
             "#ed7953"
            ],
            [
             0.7777777777777778,
             "#fb9f3a"
            ],
            [
             0.8888888888888888,
             "#fdca26"
            ],
            [
             1,
             "#f0f921"
            ]
           ],
           "sequentialminus": [
            [
             0,
             "#0d0887"
            ],
            [
             0.1111111111111111,
             "#46039f"
            ],
            [
             0.2222222222222222,
             "#7201a8"
            ],
            [
             0.3333333333333333,
             "#9c179e"
            ],
            [
             0.4444444444444444,
             "#bd3786"
            ],
            [
             0.5555555555555556,
             "#d8576b"
            ],
            [
             0.6666666666666666,
             "#ed7953"
            ],
            [
             0.7777777777777778,
             "#fb9f3a"
            ],
            [
             0.8888888888888888,
             "#fdca26"
            ],
            [
             1,
             "#f0f921"
            ]
           ]
          },
          "colorway": [
           "#636efa",
           "#EF553B",
           "#00cc96",
           "#ab63fa",
           "#FFA15A",
           "#19d3f3",
           "#FF6692",
           "#B6E880",
           "#FF97FF",
           "#FECB52"
          ],
          "font": {
           "color": "#2a3f5f"
          },
          "geo": {
           "bgcolor": "white",
           "lakecolor": "white",
           "landcolor": "#E5ECF6",
           "showlakes": true,
           "showland": true,
           "subunitcolor": "white"
          },
          "hoverlabel": {
           "align": "left"
          },
          "hovermode": "closest",
          "mapbox": {
           "style": "light"
          },
          "paper_bgcolor": "white",
          "plot_bgcolor": "#E5ECF6",
          "polar": {
           "angularaxis": {
            "gridcolor": "white",
            "linecolor": "white",
            "ticks": ""
           },
           "bgcolor": "#E5ECF6",
           "radialaxis": {
            "gridcolor": "white",
            "linecolor": "white",
            "ticks": ""
           }
          },
          "scene": {
           "xaxis": {
            "backgroundcolor": "#E5ECF6",
            "gridcolor": "white",
            "gridwidth": 2,
            "linecolor": "white",
            "showbackground": true,
            "ticks": "",
            "zerolinecolor": "white"
           },
           "yaxis": {
            "backgroundcolor": "#E5ECF6",
            "gridcolor": "white",
            "gridwidth": 2,
            "linecolor": "white",
            "showbackground": true,
            "ticks": "",
            "zerolinecolor": "white"
           },
           "zaxis": {
            "backgroundcolor": "#E5ECF6",
            "gridcolor": "white",
            "gridwidth": 2,
            "linecolor": "white",
            "showbackground": true,
            "ticks": "",
            "zerolinecolor": "white"
           }
          },
          "shapedefaults": {
           "line": {
            "color": "#2a3f5f"
           }
          },
          "ternary": {
           "aaxis": {
            "gridcolor": "white",
            "linecolor": "white",
            "ticks": ""
           },
           "baxis": {
            "gridcolor": "white",
            "linecolor": "white",
            "ticks": ""
           },
           "bgcolor": "#E5ECF6",
           "caxis": {
            "gridcolor": "white",
            "linecolor": "white",
            "ticks": ""
           }
          },
          "title": {
           "x": 0.05
          },
          "xaxis": {
           "automargin": true,
           "gridcolor": "white",
           "linecolor": "white",
           "ticks": "",
           "title": {
            "standoff": 15
           },
           "zerolinecolor": "white",
           "zerolinewidth": 2
          },
          "yaxis": {
           "automargin": true,
           "gridcolor": "white",
           "linecolor": "white",
           "ticks": "",
           "title": {
            "standoff": 15
           },
           "zerolinecolor": "white",
           "zerolinewidth": 2
          }
         }
        },
        "yaxis": {
         "title": {
          "text": "Price"
         }
        }
       }
      },
      "text/html": [
       "<div>\n",
       "        \n",
       "        \n",
       "            <div id=\"6452a93d-a1af-4048-a385-e8c9227515be\" class=\"plotly-graph-div\" style=\"height:525px; width:100%;\"></div>\n",
       "            <script type=\"text/javascript\">\n",
       "                require([\"plotly\"], function(Plotly) {\n",
       "                    window.PLOTLYENV=window.PLOTLYENV || {};\n",
       "                    \n",
       "                if (document.getElementById(\"6452a93d-a1af-4048-a385-e8c9227515be\")) {\n",
       "                    Plotly.newPlot(\n",
       "                        '6452a93d-a1af-4048-a385-e8c9227515be',\n",
       "                        [{\"name\": \"Price-Min\", \"type\": \"box\", \"x\": [\"Hisense - 55 class - led - h9 series - 2160p - smart - 4k uhd tv with hdr\\\"\", \"Hisense - 55 class - led - h9 series - 2160p - smart - 4k uhd tv with hdr\\\"\", \"Hisense - 55 class - led - h9 series - 2160p - smart - 4k uhd tv with hdr\\\"\", \"Hisense - 55 class - led - h9 series - 2160p - smart - 4k uhd tv with hdr\\\"\", \"Hisense - 55 class - led - h9 series - 2160p - smart - 4k uhd tv with hdr\\\"\", \"Samsung 55 class 4k (2160p) smart led tv (un55ku7000)\\\"\", \"Samsung 55 class 4k (2160p) smart led tv (un55ku7000)\\\"\", \"Samsung 55 class 4k (2160p) smart led tv (un55ku7000)\\\"\", \"Samsung 55 class 4k (2160p) smart led tv (un55ku7000)\\\"\", \"Samsung 55 class 4k (2160p) smart led tv (un55ku7000)\\\"\", \"Samsung 55 class 4k (2160p) smart led tv (un55ku7000)\\\"\", \"Samsung 55 class 4k (2160p) smart led tv (un55ku7000)\\\"\", \"Samsung 55 class 4k (2160p) smart led tv (un55ku7000)\\\"\", \"Sony - 55 class - oled - a1e series - 2160p - smart - 4k uhd tv with hdr\\\"\", \"Sony - 55 class - oled - a1e series - 2160p - smart - 4k uhd tv with hdr\\\"\", \"Sony - 55 class - oled - a1e series - 2160p - smart - 4k uhd tv with hdr\\\"\", \"Sony - 55 class - oled - a1e series - 2160p - smart - 4k uhd tv with hdr\\\"\", \"Sony - 55 class - oled - a1e series - 2160p - smart - 4k uhd tv with hdr\\\"\", \"Sony - 55 class - oled - a1e series - 2160p - smart - 4k uhd tv with hdr\\\"\", \"Sony - 55 class - oled - a1e series - 2160p - smart - 4k uhd tv with hdr\\\"\", \"Sony - 55 class - oled - a1e series - 2160p - smart - 4k uhd tv with hdr\\\"\", \"Sony - 55 class - oled - a1e series - 2160p - smart - 4k uhd tv with hdr\\\"\", \"Sony - 55 class - oled - a1e series - 2160p - smart - 4k uhd tv with hdr\\\"\", \"Sony - 55 class - oled - a1e series - 2160p - smart - 4k uhd tv with hdr\\\"\", \"Sony - 55 class - oled - a1e series - 2160p - smart - 4k uhd tv with hdr\\\"\", \"Sony - 55 class - oled - a1e series - 2160p - smart - 4k uhd tv with hdr\\\"\", \"Sony - 55 class - oled - a1e series - 2160p - smart - 4k uhd tv with hdr\\\"\", \"Sony - 55 class - oled - a1e series - 2160p - smart - 4k uhd tv with hdr\\\"\", \"Sony - 55 class - oled - a1e series - 2160p - smart - 4k uhd tv with hdr\\\"\", \"Sony - 55 class - oled - a1e series - 2160p - smart - 4k uhd tv with hdr\\\"\", \"Sony - 55 class - oled - a1e series - 2160p - smart - 4k uhd tv with hdr\\\"\", \"Sony - 55 class - oled - a1e series - 2160p - smart - 4k uhd tv with hdr\\\"\", \"Sony - 55 class - oled - a1e series - 2160p - smart - 4k uhd tv with hdr\\\"\", \"Sony - 55 class - oled - a1e series - 2160p - smart - 4k uhd tv with hdr\\\"\", \"Sony - 55 class - oled - a1e series - 2160p - smart - 4k uhd tv with hdr\\\"\", \"Sony - 55 class - oled - a1e series - 2160p - smart - 4k uhd tv with hdr\\\"\", \"Sony - 55 class - oled - a1e series - 2160p - smart - 4k uhd tv with hdr\\\"\", \"Sony - 55 class - oled - a1e series - 2160p - smart - 4k uhd tv with hdr\\\"\", \"Sony - 55 class - oled - a1e series - 2160p - smart - 4k uhd tv with hdr\\\"\", \"Samsung - 55 class - led - q8f series - 2160p - smart - 4k uhd tv with hdr\\\"\", \"Samsung - 55 class - led - q8f series - 2160p - smart - 4k uhd tv with hdr\\\"\", \"Samsung - 55 class - led - q8f series - 2160p - smart - 4k uhd tv with hdr\\\"\", \"Samsung - 55 class - led - q8f series - 2160p - smart - 4k uhd tv with hdr\\\"\", \"Samsung - 55 class - led - q8f series - 2160p - smart - 4k uhd tv with hdr\\\"\", \"Samsung - 55 class - led - q8f series - 2160p - smart - 4k uhd tv with hdr\\\"\", \"Samsung - 55 class - led - q8f series - 2160p - smart - 4k uhd tv with hdr\\\"\", \"X900f-series 55-class hdr uhd smart led tv\", \"X900f-series 55-class hdr uhd smart led tv\", \"X900f-series 55-class hdr uhd smart led tv\", \"X900f-series 55-class hdr uhd smart led tv\", \"X900f-series 55-class hdr uhd smart led tv\", \"X900f-series 55-class hdr uhd smart led tv\", \"Samsung - 55 class - led - curved - mu6490 series - 2160p - smart - 4k ultra hd tv with hdr\\\"\", \"Samsung - 55 class - led - curved - mu6490 series - 2160p - smart - 4k ultra hd tv with hdr\\\"\", \"Samsung - 55 class - led - curved - mu6490 series - 2160p - smart - 4k ultra hd tv with hdr\\\"\", \"Samsung - 55 class - led - curved - mu6490 series - 2160p - smart - 4k ultra hd tv with hdr\\\"\", \"Samsung - 55 class - led - curved - mu6490 series - 2160p - smart - 4k ultra hd tv with hdr\\\"\", \"Samsung - 55 class - led - curved - mu6490 series - 2160p - smart - 4k ultra hd tv with hdr\\\"\", \"Samsung - 55 class - led - curved - mu6490 series - 2160p - smart - 4k ultra hd tv with hdr\\\"\", \"Samsung - 55 class - led - curved - mu6490 series - 2160p - smart - 4k ultra hd tv with hdr\\\"\", \"Samsung - 55 class - led - curved - mu6490 series - 2160p - smart - 4k ultra hd tv with hdr\\\"\", \"Samsung - 55 class - led - curved - mu6490 series - 2160p - smart - 4k ultra hd tv with hdr\\\"\", \"Samsung - 55 class - led - curved - mu6490 series - 2160p - smart - 4k ultra hd tv with hdr\\\"\", \"Samsung - 55 class - led - curved - mu6490 series - 2160p - smart - 4k ultra hd tv with hdr\\\"\", \"Samsung - 55 class - led - curved - mu6490 series - 2160p - smart - 4k ultra hd tv with hdr\\\"\", \"Lg - 55 class - led - uj7700 series - 2160p - smart - 4k uhd tv with hdr\\\"\", \"Lg - 55 class - led - uj7700 series - 2160p - smart - 4k uhd tv with hdr\\\"\", \"Lg - 55 class - led - uj7700 series - 2160p - smart - 4k uhd tv with hdr\\\"\", \"Lg - 55 class - led - uj7700 series - 2160p - smart - 4k uhd tv with hdr\\\"\", \"Lg - 55 class - led - uj7700 series - 2160p - smart - 4k uhd tv with hdr\\\"\", \"Lg - 55 class - led - uj7700 series - 2160p - smart - 4k uhd tv with hdr\\\"\", \"Lg - 55 class - led - uj7700 series - 2160p - smart - 4k uhd tv with hdr\\\"\", \"Lg - 55 class - led - uj7700 series - 2160p - smart - 4k uhd tv with hdr\\\"\", \"Samsung - 55 class - led - curved - q7c series - 2160p - smart - 4k uhd tv with hdr\\\"\", \"Samsung - 55 class - led - curved - q7c series - 2160p - smart - 4k uhd tv with hdr\\\"\", \"Samsung - 55 class - led - curved - q7c series - 2160p - smart - 4k uhd tv with hdr\\\"\", \"Samsung - 55 class - led - curved - q7c series - 2160p - smart - 4k uhd tv with hdr\\\"\", \"Samsung - 55 class - led - curved - q7c series - 2160p - smart - 4k uhd tv with hdr\\\"\", \"Samsung - 55 class - led - curved - q7c series - 2160p - smart - 4k uhd tv with hdr\\\"\", \"Samsung - 55 class - led - curved - q7c series - 2160p - smart - 4k uhd tv with hdr\\\"\", \"Samsung - 55 class - led - curved - q7c series - 2160p - smart - 4k uhd tv with hdr\\\"\", \"Samsung - 55 class - led - curved - q7c series - 2160p - smart - 4k uhd tv with hdr\\\"\", \"Samsung - 55 class - led - curved - q7c series - 2160p - smart - 4k uhd tv with hdr\\\"\", \"Samsung - 55 class - led - curved - q7c series - 2160p - smart - 4k uhd tv with hdr\\\"\", \"Samsung - 55 class - led - curved - q7c series - 2160p - smart - 4k uhd tv with hdr\\\"\", \"Samsung - 55 class - led - curved - q7c series - 2160p - smart - 4k uhd tv with hdr\\\"\", \"Samsung - 55 class - led - curved - q7c series - 2160p - smart - 4k uhd tv with hdr\\\"\", \"Samsung - 55 class - led - curved - q7c series - 2160p - smart - 4k uhd tv with hdr\\\"\", \"Samsung - 55 class - led - curved - q7c series - 2160p - smart - 4k uhd tv with hdr\\\"\", \"Samsung - 55 class - led - curved - q7c series - 2160p - smart - 4k uhd tv with hdr\\\"\", \"Samsung - 55 class - led - curved - q7c series - 2160p - smart - 4k uhd tv with hdr\\\"\", \"Samsung - 55 class - led - curved - q7c series - 2160p - smart - 4k uhd tv with hdr\\\"\", \"Samsung - 55 class - led - curved - q7c series - 2160p - smart - 4k uhd tv with hdr\\\"\", \"Samsung - 55 class - led - curved - q7c series - 2160p - smart - 4k uhd tv with hdr\\\"\", \"Samsung - 55 class - led - curved - q7c series - 2160p - smart - 4k uhd tv with hdr\\\"\", \"Samsung - 55 class - led - curved - q7c series - 2160p - smart - 4k uhd tv with hdr\\\"\", \"Samsung - 55 class - led - curved - q7c series - 2160p - smart - 4k uhd tv with hdr\\\"\", \"Samsung - 55 class - led - curved - q7c series - 2160p - smart - 4k uhd tv with hdr\\\"\", \"Samsung - 55 class - led - curved - q7c series - 2160p - smart - 4k uhd tv with hdr\\\"\", \"Samsung - 55 class - led - curved - q7c series - 2160p - smart - 4k uhd tv with hdr\\\"\", \"Samsung - 55 class - led - curved - q7c series - 2160p - smart - 4k uhd tv with hdr\\\"\", \"Samsung - 55 class - led - curved - q7c series - 2160p - smart - 4k uhd tv with hdr\\\"\", \"Samsung - 55 class - led - curved - q7c series - 2160p - smart - 4k uhd tv with hdr\\\"\", \"Samsung - 55 class - led - curved - q7c series - 2160p - smart - 4k uhd tv with hdr\\\"\", \"Samsung - 55 class - led - curved - q7c series - 2160p - smart - 4k uhd tv with hdr\\\"\", \"Samsung - 55 class - led - curved - q7c series - 2160p - smart - 4k uhd tv with hdr\\\"\", \"Samsung - 55 class - led - curved - q7c series - 2160p - smart - 4k uhd tv with hdr\\\"\", \"Samsung - 55 class - led - curved - q7c series - 2160p - smart - 4k uhd tv with hdr\\\"\", \"Samsung - 55 class - led - curved - q7c series - 2160p - smart - 4k uhd tv with hdr\\\"\", \"Samsung - 55 class - led - curved - q7c series - 2160p - smart - 4k uhd tv with hdr\\\"\", \"Samsung - 55 class - led - curved - q7c series - 2160p - smart - 4k uhd tv with hdr\\\"\", \"Samsung - 55 class - led - curved - q7c series - 2160p - smart - 4k uhd tv with hdr\\\"\", \"Hisense - 55 class - led - h8 series - 2160p - smart - 4k uhd tv with hdr\\\"\", \"Hisense - 55 class - led - h8 series - 2160p - smart - 4k uhd tv with hdr\\\"\", \"Hisense - 55 class - led - h8 series - 2160p - smart - 4k uhd tv with hdr\\\"\", \"Hisense - 55 class - led - h8 series - 2160p - smart - 4k uhd tv with hdr\\\"\", \"Hisense - 55 class - led - h8 series - 2160p - smart - 4k uhd tv with hdr\\\"\", \"Hisense - 55 class - led - h8 series - 2160p - smart - 4k uhd tv with hdr\\\"\", \"Hisense - 55 class - led - h8 series - 2160p - smart - 4k uhd tv with hdr\\\"\", \"Hisense - 55 class - led - h8 series - 2160p - smart - 4k uhd tv with hdr\\\"\", \"Hisense - 55 class - led - h8 series - 2160p - smart - 4k uhd tv with hdr\\\"\", \"Hisense - 55 class - led - h8 series - 2160p - smart - 4k uhd tv with hdr\\\"\", \"Sony xbr55x700d 55-inch 4k ultra hd smart led tv (2016 model)\", \"Sony xbr55x700d 55-inch 4k ultra hd smart led tv (2016 model)\", \"Sony xbr55x700d 55-inch 4k ultra hd smart led tv (2016 model)\", \"Sony xbr55x700d 55-inch 4k ultra hd smart led tv (2016 model)\", \"Sony xbr55x700d 55-inch 4k ultra hd smart led tv (2016 model)\", \"Sony xbr55x700d 55-inch 4k ultra hd smart led tv (2016 model)\", \"Sony xbr55x700d 55-inch 4k ultra hd smart led tv (2016 model)\", \"Sony xbr55x700d 55-inch 4k ultra hd smart led tv (2016 model)\", \"Sony xbr55x700d 55-inch 4k ultra hd smart led tv (2016 model)\", \"Sony xbr55x700d 55-inch 4k ultra hd smart led tv (2016 model)\", \"Sony xbr55x700d 55-inch 4k ultra hd smart led tv (2016 model)\", \"Sony xbr55x700d 55-inch 4k ultra hd smart led tv (2016 model)\", \"Sony xbr55x700d 55-inch 4k ultra hd smart led tv (2016 model)\", \"Sony - 55 class - led - x800e series - 2160p - smart - 4k uhd tv with hdr\\\"\", \"Sony - 55 class - led - x800e series - 2160p - smart - 4k uhd tv with hdr\\\"\", \"Sony - 55 class - led - x800e series - 2160p - smart - 4k uhd tv with hdr\\\"\", \"Sony - 55 class - led - x800e series - 2160p - smart - 4k uhd tv with hdr\\\"\", \"Sony - 55 class - led - x800e series - 2160p - smart - 4k uhd tv with hdr\\\"\", \"Sony - 55 class - led - x800e series - 2160p - smart - 4k uhd tv with hdr\\\"\", \"Sony - 55 class - led - x800e series - 2160p - smart - 4k uhd tv with hdr\\\"\", \"Sony - 55 class - led - x800e series - 2160p - smart - 4k uhd tv with hdr\\\"\", \"Sony - 55 class - led - x800e series - 2160p - smart - 4k uhd tv with hdr\\\"\", \"Sony - 55 class - led - x800e series - 2160p - smart - 4k uhd tv with hdr\\\"\", \"Sony - 55 class - led - x800e series - 2160p - smart - 4k uhd tv with hdr\\\"\", \"Sony - 55 class - led - x800e series - 2160p - smart - 4k uhd tv with hdr\\\"\", \"Sony - 55 class - led - x800e series - 2160p - smart - 4k uhd tv with hdr\\\"\", \"Sony - 55 class - led - x800e series - 2160p - smart - 4k uhd tv with hdr\\\"\", \"Sony - 55 class - led - x800e series - 2160p - smart - 4k uhd tv with hdr\\\"\", \"Sony - 55 class - led - x800e series - 2160p - smart - 4k uhd tv with hdr\\\"\", \"Sony - 55 class - led - x800e series - 2160p - smart - 4k uhd tv with hdr\\\"\", \"Sony - 55 class - led - x800e series - 2160p - smart - 4k uhd tv with hdr\\\"\", \"Sony - 55 class - led - x800e series - 2160p - smart - 4k uhd tv with hdr\\\"\", \"Sony - 55 class - led - x800e series - 2160p - smart - 4k uhd tv with hdr\\\"\", \"Sony - 55 class - led - x800e series - 2160p - smart - 4k uhd tv with hdr\\\"\", \"Sony - 55 class - led - x800e series - 2160p - smart - 4k uhd tv with hdr\\\"\", \"Sony - 55 class - led - x800e series - 2160p - smart - 4k uhd tv with hdr\\\"\", \"Sony - 55 class - led - x800e series - 2160p - smart - 4k uhd tv with hdr\\\"\", \"Sony - 55 class - led - x800e series - 2160p - smart - 4k uhd tv with hdr\\\"\", \"Sony - 55 class - led - x800e series - 2160p - smart - 4k uhd tv with hdr\\\"\", \"Sony - 55 class - led - x800e series - 2160p - smart - 4k uhd tv with hdr\\\"\", \"Sony - 55 class - led - x800e series - 2160p - smart - 4k uhd tv with hdr\\\"\", \"Sony - 55 class - led - x800e series - 2160p - smart - 4k uhd tv with hdr\\\"\", \"Sony - 55 class - led - x800e series - 2160p - smart - 4k uhd tv with hdr\\\"\", \"Sony - 55 class - led - x800e series - 2160p - smart - 4k uhd tv with hdr\\\"\", \"Sony - 55 class - led - x800e series - 2160p - smart - 4k uhd tv with hdr\\\"\"], \"y\": [799.99, 599.99, 599.99, 699.99, 699.99, 1197.99, 1197.99, 489.99, 499.99, 999.99, 809.99, 909.99, 1199.99, 3050.0, 2799.99, 2999.99, 2499.99, 3596.0, 4999.99, 4296.0, 2798.0, 2798.0, 4096.0, 3298.0, 3219.99, 2498.0, 3499.99, 3498.0, 2998.0, 3999.99, 3040.0, 3099.52, 2498.0, 3298.0, 3099.18, 2798.0, 2498.0, 3050.0, 2998.0, 2199.99, 2097.99, 2097.99, 1997.99, 1999.99, 2197.99, 1997.99, 1498.0, 1298.0, 1498.0, 1298.0, 1499.99, 1299.99, 797.99, 549.99, 1097.99, 799.99, 1197.99, 799.99, 797.99, 797.99, 747.85, 597.99, 1197.99, 597.99, 797.99, 796.99, 846.99, 749.0, 799.99, 659.42, 1296.99, 796.99, 751.99, 2395.98, 1697.99, 1497.99, 2197.99, 1797.99, 2199.99, 2797.99, 1897.99, 1549.95, 1997.99, 2075.98, 1997.99, 1898.95, 1759.99, 1997.99, 1399.99, 1999.99, 2197.99, 1797.99, 2197.99, 2475.98, 1978.01, 1972.95, 1299.99, 2197.99, 1797.99, 1997.95, 1599.0, 2197.99, 1998.95, 1755.95, 1982.95, 1900.0, 2197.99, 2125.98, 2797.99, 2016.95, 2997.99, 2197.99, 549.99, 768.98, 449.99, 429.99, 449.99, 723.6, 619.96, 427.99, 549.99, 724.7, 798.0, 629.99, 600.0, 699.95, 848.0, 450.0, 798.0, 746.24, 550.0, 798.0, 789.99, 848.0, 798.0, 1896.0, 898.0, 998.0, 1899.99, 998.0, 909.99, 695.47, 998.0, 1098.0, 898.0, 1198.0, 2196.0, 998.0, 998.0, 919.99, 1098.0, 838.0, 1295.2, 898.0, 1198.0, 1099.0, 798.0, 2096.0, 1199.99, 899.99, 1091.99, 998.0, 998.0, 798.0, 998.0, 898.0, 999.99]}, {\"name\": \"Price-Max\", \"type\": \"box\", \"x\": [\"Hisense - 55 class - led - h9 series - 2160p - smart - 4k uhd tv with hdr\\\"\", \"Hisense - 55 class - led - h9 series - 2160p - smart - 4k uhd tv with hdr\\\"\", \"Hisense - 55 class - led - h9 series - 2160p - smart - 4k uhd tv with hdr\\\"\", \"Hisense - 55 class - led - h9 series - 2160p - smart - 4k uhd tv with hdr\\\"\", \"Hisense - 55 class - led - h9 series - 2160p - smart - 4k uhd tv with hdr\\\"\", \"Samsung 55 class 4k (2160p) smart led tv (un55ku7000)\\\"\", \"Samsung 55 class 4k (2160p) smart led tv (un55ku7000)\\\"\", \"Samsung 55 class 4k (2160p) smart led tv (un55ku7000)\\\"\", \"Samsung 55 class 4k (2160p) smart led tv (un55ku7000)\\\"\", \"Samsung 55 class 4k (2160p) smart led tv (un55ku7000)\\\"\", \"Samsung 55 class 4k (2160p) smart led tv (un55ku7000)\\\"\", \"Samsung 55 class 4k (2160p) smart led tv (un55ku7000)\\\"\", \"Samsung 55 class 4k (2160p) smart led tv (un55ku7000)\\\"\", \"Sony - 55 class - oled - a1e series - 2160p - smart - 4k uhd tv with hdr\\\"\", \"Sony - 55 class - oled - a1e series - 2160p - smart - 4k uhd tv with hdr\\\"\", \"Sony - 55 class - oled - a1e series - 2160p - smart - 4k uhd tv with hdr\\\"\", \"Sony - 55 class - oled - a1e series - 2160p - smart - 4k uhd tv with hdr\\\"\", \"Sony - 55 class - oled - a1e series - 2160p - smart - 4k uhd tv with hdr\\\"\", \"Sony - 55 class - oled - a1e series - 2160p - smart - 4k uhd tv with hdr\\\"\", \"Sony - 55 class - oled - a1e series - 2160p - smart - 4k uhd tv with hdr\\\"\", \"Sony - 55 class - oled - a1e series - 2160p - smart - 4k uhd tv with hdr\\\"\", \"Sony - 55 class - oled - a1e series - 2160p - smart - 4k uhd tv with hdr\\\"\", \"Sony - 55 class - oled - a1e series - 2160p - smart - 4k uhd tv with hdr\\\"\", \"Sony - 55 class - oled - a1e series - 2160p - smart - 4k uhd tv with hdr\\\"\", \"Sony - 55 class - oled - a1e series - 2160p - smart - 4k uhd tv with hdr\\\"\", \"Sony - 55 class - oled - a1e series - 2160p - smart - 4k uhd tv with hdr\\\"\", \"Sony - 55 class - oled - a1e series - 2160p - smart - 4k uhd tv with hdr\\\"\", \"Sony - 55 class - oled - a1e series - 2160p - smart - 4k uhd tv with hdr\\\"\", \"Sony - 55 class - oled - a1e series - 2160p - smart - 4k uhd tv with hdr\\\"\", \"Sony - 55 class - oled - a1e series - 2160p - smart - 4k uhd tv with hdr\\\"\", \"Sony - 55 class - oled - a1e series - 2160p - smart - 4k uhd tv with hdr\\\"\", \"Sony - 55 class - oled - a1e series - 2160p - smart - 4k uhd tv with hdr\\\"\", \"Sony - 55 class - oled - a1e series - 2160p - smart - 4k uhd tv with hdr\\\"\", \"Sony - 55 class - oled - a1e series - 2160p - smart - 4k uhd tv with hdr\\\"\", \"Sony - 55 class - oled - a1e series - 2160p - smart - 4k uhd tv with hdr\\\"\", \"Sony - 55 class - oled - a1e series - 2160p - smart - 4k uhd tv with hdr\\\"\", \"Sony - 55 class - oled - a1e series - 2160p - smart - 4k uhd tv with hdr\\\"\", \"Sony - 55 class - oled - a1e series - 2160p - smart - 4k uhd tv with hdr\\\"\", \"Sony - 55 class - oled - a1e series - 2160p - smart - 4k uhd tv with hdr\\\"\", \"Samsung - 55 class - led - q8f series - 2160p - smart - 4k uhd tv with hdr\\\"\", \"Samsung - 55 class - led - q8f series - 2160p - smart - 4k uhd tv with hdr\\\"\", \"Samsung - 55 class - led - q8f series - 2160p - smart - 4k uhd tv with hdr\\\"\", \"Samsung - 55 class - led - q8f series - 2160p - smart - 4k uhd tv with hdr\\\"\", \"Samsung - 55 class - led - q8f series - 2160p - smart - 4k uhd tv with hdr\\\"\", \"Samsung - 55 class - led - q8f series - 2160p - smart - 4k uhd tv with hdr\\\"\", \"Samsung - 55 class - led - q8f series - 2160p - smart - 4k uhd tv with hdr\\\"\", \"X900f-series 55-class hdr uhd smart led tv\", \"X900f-series 55-class hdr uhd smart led tv\", \"X900f-series 55-class hdr uhd smart led tv\", \"X900f-series 55-class hdr uhd smart led tv\", \"X900f-series 55-class hdr uhd smart led tv\", \"X900f-series 55-class hdr uhd smart led tv\", \"Samsung - 55 class - led - curved - mu6490 series - 2160p - smart - 4k ultra hd tv with hdr\\\"\", \"Samsung - 55 class - led - curved - mu6490 series - 2160p - smart - 4k ultra hd tv with hdr\\\"\", \"Samsung - 55 class - led - curved - mu6490 series - 2160p - smart - 4k ultra hd tv with hdr\\\"\", \"Samsung - 55 class - led - curved - mu6490 series - 2160p - smart - 4k ultra hd tv with hdr\\\"\", \"Samsung - 55 class - led - curved - mu6490 series - 2160p - smart - 4k ultra hd tv with hdr\\\"\", \"Samsung - 55 class - led - curved - mu6490 series - 2160p - smart - 4k ultra hd tv with hdr\\\"\", \"Samsung - 55 class - led - curved - mu6490 series - 2160p - smart - 4k ultra hd tv with hdr\\\"\", \"Samsung - 55 class - led - curved - mu6490 series - 2160p - smart - 4k ultra hd tv with hdr\\\"\", \"Samsung - 55 class - led - curved - mu6490 series - 2160p - smart - 4k ultra hd tv with hdr\\\"\", \"Samsung - 55 class - led - curved - mu6490 series - 2160p - smart - 4k ultra hd tv with hdr\\\"\", \"Samsung - 55 class - led - curved - mu6490 series - 2160p - smart - 4k ultra hd tv with hdr\\\"\", \"Samsung - 55 class - led - curved - mu6490 series - 2160p - smart - 4k ultra hd tv with hdr\\\"\", \"Samsung - 55 class - led - curved - mu6490 series - 2160p - smart - 4k ultra hd tv with hdr\\\"\", \"Lg - 55 class - led - uj7700 series - 2160p - smart - 4k uhd tv with hdr\\\"\", \"Lg - 55 class - led - uj7700 series - 2160p - smart - 4k uhd tv with hdr\\\"\", \"Lg - 55 class - led - uj7700 series - 2160p - smart - 4k uhd tv with hdr\\\"\", \"Lg - 55 class - led - uj7700 series - 2160p - smart - 4k uhd tv with hdr\\\"\", \"Lg - 55 class - led - uj7700 series - 2160p - smart - 4k uhd tv with hdr\\\"\", \"Lg - 55 class - led - uj7700 series - 2160p - smart - 4k uhd tv with hdr\\\"\", \"Lg - 55 class - led - uj7700 series - 2160p - smart - 4k uhd tv with hdr\\\"\", \"Lg - 55 class - led - uj7700 series - 2160p - smart - 4k uhd tv with hdr\\\"\", \"Samsung - 55 class - led - curved - q7c series - 2160p - smart - 4k uhd tv with hdr\\\"\", \"Samsung - 55 class - led - curved - q7c series - 2160p - smart - 4k uhd tv with hdr\\\"\", \"Samsung - 55 class - led - curved - q7c series - 2160p - smart - 4k uhd tv with hdr\\\"\", \"Samsung - 55 class - led - curved - q7c series - 2160p - smart - 4k uhd tv with hdr\\\"\", \"Samsung - 55 class - led - curved - q7c series - 2160p - smart - 4k uhd tv with hdr\\\"\", \"Samsung - 55 class - led - curved - q7c series - 2160p - smart - 4k uhd tv with hdr\\\"\", \"Samsung - 55 class - led - curved - q7c series - 2160p - smart - 4k uhd tv with hdr\\\"\", \"Samsung - 55 class - led - curved - q7c series - 2160p - smart - 4k uhd tv with hdr\\\"\", \"Samsung - 55 class - led - curved - q7c series - 2160p - smart - 4k uhd tv with hdr\\\"\", \"Samsung - 55 class - led - curved - q7c series - 2160p - smart - 4k uhd tv with hdr\\\"\", \"Samsung - 55 class - led - curved - q7c series - 2160p - smart - 4k uhd tv with hdr\\\"\", \"Samsung - 55 class - led - curved - q7c series - 2160p - smart - 4k uhd tv with hdr\\\"\", \"Samsung - 55 class - led - curved - q7c series - 2160p - smart - 4k uhd tv with hdr\\\"\", \"Samsung - 55 class - led - curved - q7c series - 2160p - smart - 4k uhd tv with hdr\\\"\", \"Samsung - 55 class - led - curved - q7c series - 2160p - smart - 4k uhd tv with hdr\\\"\", \"Samsung - 55 class - led - curved - q7c series - 2160p - smart - 4k uhd tv with hdr\\\"\", \"Samsung - 55 class - led - curved - q7c series - 2160p - smart - 4k uhd tv with hdr\\\"\", \"Samsung - 55 class - led - curved - q7c series - 2160p - smart - 4k uhd tv with hdr\\\"\", \"Samsung - 55 class - led - curved - q7c series - 2160p - smart - 4k uhd tv with hdr\\\"\", \"Samsung - 55 class - led - curved - q7c series - 2160p - smart - 4k uhd tv with hdr\\\"\", \"Samsung - 55 class - led - curved - q7c series - 2160p - smart - 4k uhd tv with hdr\\\"\", \"Samsung - 55 class - led - curved - q7c series - 2160p - smart - 4k uhd tv with hdr\\\"\", \"Samsung - 55 class - led - curved - q7c series - 2160p - smart - 4k uhd tv with hdr\\\"\", \"Samsung - 55 class - led - curved - q7c series - 2160p - smart - 4k uhd tv with hdr\\\"\", \"Samsung - 55 class - led - curved - q7c series - 2160p - smart - 4k uhd tv with hdr\\\"\", \"Samsung - 55 class - led - curved - q7c series - 2160p - smart - 4k uhd tv with hdr\\\"\", \"Samsung - 55 class - led - curved - q7c series - 2160p - smart - 4k uhd tv with hdr\\\"\", \"Samsung - 55 class - led - curved - q7c series - 2160p - smart - 4k uhd tv with hdr\\\"\", \"Samsung - 55 class - led - curved - q7c series - 2160p - smart - 4k uhd tv with hdr\\\"\", \"Samsung - 55 class - led - curved - q7c series - 2160p - smart - 4k uhd tv with hdr\\\"\", \"Samsung - 55 class - led - curved - q7c series - 2160p - smart - 4k uhd tv with hdr\\\"\", \"Samsung - 55 class - led - curved - q7c series - 2160p - smart - 4k uhd tv with hdr\\\"\", \"Samsung - 55 class - led - curved - q7c series - 2160p - smart - 4k uhd tv with hdr\\\"\", \"Samsung - 55 class - led - curved - q7c series - 2160p - smart - 4k uhd tv with hdr\\\"\", \"Samsung - 55 class - led - curved - q7c series - 2160p - smart - 4k uhd tv with hdr\\\"\", \"Samsung - 55 class - led - curved - q7c series - 2160p - smart - 4k uhd tv with hdr\\\"\", \"Samsung - 55 class - led - curved - q7c series - 2160p - smart - 4k uhd tv with hdr\\\"\", \"Samsung - 55 class - led - curved - q7c series - 2160p - smart - 4k uhd tv with hdr\\\"\", \"Samsung - 55 class - led - curved - q7c series - 2160p - smart - 4k uhd tv with hdr\\\"\", \"Hisense - 55 class - led - h8 series - 2160p - smart - 4k uhd tv with hdr\\\"\", \"Hisense - 55 class - led - h8 series - 2160p - smart - 4k uhd tv with hdr\\\"\", \"Hisense - 55 class - led - h8 series - 2160p - smart - 4k uhd tv with hdr\\\"\", \"Hisense - 55 class - led - h8 series - 2160p - smart - 4k uhd tv with hdr\\\"\", \"Hisense - 55 class - led - h8 series - 2160p - smart - 4k uhd tv with hdr\\\"\", \"Hisense - 55 class - led - h8 series - 2160p - smart - 4k uhd tv with hdr\\\"\", \"Hisense - 55 class - led - h8 series - 2160p - smart - 4k uhd tv with hdr\\\"\", \"Hisense - 55 class - led - h8 series - 2160p - smart - 4k uhd tv with hdr\\\"\", \"Hisense - 55 class - led - h8 series - 2160p - smart - 4k uhd tv with hdr\\\"\", \"Hisense - 55 class - led - h8 series - 2160p - smart - 4k uhd tv with hdr\\\"\", \"Sony xbr55x700d 55-inch 4k ultra hd smart led tv (2016 model)\", \"Sony xbr55x700d 55-inch 4k ultra hd smart led tv (2016 model)\", \"Sony xbr55x700d 55-inch 4k ultra hd smart led tv (2016 model)\", \"Sony xbr55x700d 55-inch 4k ultra hd smart led tv (2016 model)\", \"Sony xbr55x700d 55-inch 4k ultra hd smart led tv (2016 model)\", \"Sony xbr55x700d 55-inch 4k ultra hd smart led tv (2016 model)\", \"Sony xbr55x700d 55-inch 4k ultra hd smart led tv (2016 model)\", \"Sony xbr55x700d 55-inch 4k ultra hd smart led tv (2016 model)\", \"Sony xbr55x700d 55-inch 4k ultra hd smart led tv (2016 model)\", \"Sony xbr55x700d 55-inch 4k ultra hd smart led tv (2016 model)\", \"Sony xbr55x700d 55-inch 4k ultra hd smart led tv (2016 model)\", \"Sony xbr55x700d 55-inch 4k ultra hd smart led tv (2016 model)\", \"Sony xbr55x700d 55-inch 4k ultra hd smart led tv (2016 model)\", \"Sony - 55 class - led - x800e series - 2160p - smart - 4k uhd tv with hdr\\\"\", \"Sony - 55 class - led - x800e series - 2160p - smart - 4k uhd tv with hdr\\\"\", \"Sony - 55 class - led - x800e series - 2160p - smart - 4k uhd tv with hdr\\\"\", \"Sony - 55 class - led - x800e series - 2160p - smart - 4k uhd tv with hdr\\\"\", \"Sony - 55 class - led - x800e series - 2160p - smart - 4k uhd tv with hdr\\\"\", \"Sony - 55 class - led - x800e series - 2160p - smart - 4k uhd tv with hdr\\\"\", \"Sony - 55 class - led - x800e series - 2160p - smart - 4k uhd tv with hdr\\\"\", \"Sony - 55 class - led - x800e series - 2160p - smart - 4k uhd tv with hdr\\\"\", \"Sony - 55 class - led - x800e series - 2160p - smart - 4k uhd tv with hdr\\\"\", \"Sony - 55 class - led - x800e series - 2160p - smart - 4k uhd tv with hdr\\\"\", \"Sony - 55 class - led - x800e series - 2160p - smart - 4k uhd tv with hdr\\\"\", \"Sony - 55 class - led - x800e series - 2160p - smart - 4k uhd tv with hdr\\\"\", \"Sony - 55 class - led - x800e series - 2160p - smart - 4k uhd tv with hdr\\\"\", \"Sony - 55 class - led - x800e series - 2160p - smart - 4k uhd tv with hdr\\\"\", \"Sony - 55 class - led - x800e series - 2160p - smart - 4k uhd tv with hdr\\\"\", \"Sony - 55 class - led - x800e series - 2160p - smart - 4k uhd tv with hdr\\\"\", \"Sony - 55 class - led - x800e series - 2160p - smart - 4k uhd tv with hdr\\\"\", \"Sony - 55 class - led - x800e series - 2160p - smart - 4k uhd tv with hdr\\\"\", \"Sony - 55 class - led - x800e series - 2160p - smart - 4k uhd tv with hdr\\\"\", \"Sony - 55 class - led - x800e series - 2160p - smart - 4k uhd tv with hdr\\\"\", \"Sony - 55 class - led - x800e series - 2160p - smart - 4k uhd tv with hdr\\\"\", \"Sony - 55 class - led - x800e series - 2160p - smart - 4k uhd tv with hdr\\\"\", \"Sony - 55 class - led - x800e series - 2160p - smart - 4k uhd tv with hdr\\\"\", \"Sony - 55 class - led - x800e series - 2160p - smart - 4k uhd tv with hdr\\\"\", \"Sony - 55 class - led - x800e series - 2160p - smart - 4k uhd tv with hdr\\\"\", \"Sony - 55 class - led - x800e series - 2160p - smart - 4k uhd tv with hdr\\\"\", \"Sony - 55 class - led - x800e series - 2160p - smart - 4k uhd tv with hdr\\\"\", \"Sony - 55 class - led - x800e series - 2160p - smart - 4k uhd tv with hdr\\\"\", \"Sony - 55 class - led - x800e series - 2160p - smart - 4k uhd tv with hdr\\\"\", \"Sony - 55 class - led - x800e series - 2160p - smart - 4k uhd tv with hdr\\\"\", \"Sony - 55 class - led - x800e series - 2160p - smart - 4k uhd tv with hdr\\\"\", \"Sony - 55 class - led - x800e series - 2160p - smart - 4k uhd tv with hdr\\\"\"], \"y\": [799.99, 599.99, 599.99, 699.99, 699.99, 2399.99, 1197.99, 489.99, 499.99, 999.99, 809.99, 909.99, 1199.99, 3050.0, 2799.99, 2999.99, 2499.99, 4999.99, 4999.99, 4999.99, 3998.0, 2798.0, 4999.99, 4999.99, 3219.99, 4999.99, 3499.99, 3498.0, 2998.0, 3999.99, 3040.0, 3099.52, 2498.0, 3298.0, 3099.18, 2798.0, 2498.0, 3050.0, 2998.0, 2199.99, 2599.99, 2097.99, 1997.99, 1999.99, 2197.99, 2599.99, 1498.0, 1298.0, 1498.0, 1298.0, 1499.99, 1299.99, 999.99, 549.99, 1399.99, 799.99, 1399.99, 799.99, 797.99, 797.99, 747.85, 999.99, 1197.99, 597.99, 797.99, 1299.99, 1299.99, 1299.0, 799.99, 1299.99, 1296.99, 1299.0, 751.99, 2997.99, 1697.99, 2999.99, 2997.99, 2997.99, 2199.99, 2797.99, 3699.99, 1549.95, 3699.99, 2997.99, 2997.99, 1898.95, 1759.99, 1997.99, 2999.99, 1999.99, 2197.99, 2997.99, 2197.99, 2997.99, 2997.99, 1972.95, 1299.99, 3699.99, 1797.99, 1997.95, 2997.99, 2197.99, 1998.95, 1755.95, 1982.95, 1900.0, 2197.99, 2997.99, 3599.99, 2016.95, 2997.99, 2197.99, 549.99, 916.4, 449.99, 429.99, 449.99, 723.6, 619.96, 427.99, 749.99, 724.7, 798.0, 629.99, 600.0, 699.95, 848.0, 450.0, 999.99, 746.24, 550.0, 798.0, 789.99, 848.0, 798.0, 1896.0, 898.0, 998.0, 1899.99, 998.0, 909.99, 821.14, 1899.99, 1098.0, 898.0, 1198.0, 2196.0, 998.0, 998.0, 919.99, 1098.0, 1199.99, 1295.2, 1199.99, 1198.0, 1099.0, 1199.99, 2096.0, 1199.99, 899.99, 1091.99, 1199.99, 1199.99, 798.0, 998.0, 1199.99, 999.99]}],\n",
       "                        {\"boxmode\": \"group\", \"template\": {\"data\": {\"bar\": [{\"error_x\": {\"color\": \"#2a3f5f\"}, \"error_y\": {\"color\": \"#2a3f5f\"}, \"marker\": {\"line\": {\"color\": \"#E5ECF6\", \"width\": 0.5}}, \"type\": \"bar\"}], \"barpolar\": [{\"marker\": {\"line\": {\"color\": \"#E5ECF6\", \"width\": 0.5}}, \"type\": \"barpolar\"}], \"carpet\": [{\"aaxis\": {\"endlinecolor\": \"#2a3f5f\", \"gridcolor\": \"white\", \"linecolor\": \"white\", \"minorgridcolor\": \"white\", \"startlinecolor\": \"#2a3f5f\"}, \"baxis\": {\"endlinecolor\": \"#2a3f5f\", \"gridcolor\": \"white\", \"linecolor\": \"white\", \"minorgridcolor\": \"white\", \"startlinecolor\": \"#2a3f5f\"}, \"type\": \"carpet\"}], \"choropleth\": [{\"colorbar\": {\"outlinewidth\": 0, \"ticks\": \"\"}, \"type\": \"choropleth\"}], \"contour\": [{\"colorbar\": {\"outlinewidth\": 0, \"ticks\": \"\"}, \"colorscale\": [[0.0, \"#0d0887\"], [0.1111111111111111, \"#46039f\"], [0.2222222222222222, \"#7201a8\"], [0.3333333333333333, \"#9c179e\"], [0.4444444444444444, \"#bd3786\"], [0.5555555555555556, \"#d8576b\"], [0.6666666666666666, \"#ed7953\"], [0.7777777777777778, \"#fb9f3a\"], [0.8888888888888888, \"#fdca26\"], [1.0, \"#f0f921\"]], \"type\": \"contour\"}], \"contourcarpet\": [{\"colorbar\": {\"outlinewidth\": 0, \"ticks\": \"\"}, \"type\": \"contourcarpet\"}], \"heatmap\": [{\"colorbar\": {\"outlinewidth\": 0, \"ticks\": \"\"}, \"colorscale\": [[0.0, \"#0d0887\"], [0.1111111111111111, \"#46039f\"], [0.2222222222222222, \"#7201a8\"], [0.3333333333333333, \"#9c179e\"], [0.4444444444444444, \"#bd3786\"], [0.5555555555555556, \"#d8576b\"], [0.6666666666666666, \"#ed7953\"], [0.7777777777777778, \"#fb9f3a\"], [0.8888888888888888, \"#fdca26\"], [1.0, \"#f0f921\"]], \"type\": \"heatmap\"}], \"heatmapgl\": [{\"colorbar\": {\"outlinewidth\": 0, \"ticks\": \"\"}, \"colorscale\": [[0.0, \"#0d0887\"], [0.1111111111111111, \"#46039f\"], [0.2222222222222222, \"#7201a8\"], [0.3333333333333333, \"#9c179e\"], [0.4444444444444444, \"#bd3786\"], [0.5555555555555556, \"#d8576b\"], [0.6666666666666666, \"#ed7953\"], [0.7777777777777778, \"#fb9f3a\"], [0.8888888888888888, \"#fdca26\"], [1.0, \"#f0f921\"]], \"type\": \"heatmapgl\"}], \"histogram\": [{\"marker\": {\"colorbar\": {\"outlinewidth\": 0, \"ticks\": \"\"}}, \"type\": \"histogram\"}], \"histogram2d\": [{\"colorbar\": {\"outlinewidth\": 0, \"ticks\": \"\"}, \"colorscale\": [[0.0, \"#0d0887\"], [0.1111111111111111, \"#46039f\"], [0.2222222222222222, \"#7201a8\"], [0.3333333333333333, \"#9c179e\"], [0.4444444444444444, \"#bd3786\"], [0.5555555555555556, \"#d8576b\"], [0.6666666666666666, \"#ed7953\"], [0.7777777777777778, \"#fb9f3a\"], [0.8888888888888888, \"#fdca26\"], [1.0, \"#f0f921\"]], \"type\": \"histogram2d\"}], \"histogram2dcontour\": [{\"colorbar\": {\"outlinewidth\": 0, \"ticks\": \"\"}, \"colorscale\": [[0.0, \"#0d0887\"], [0.1111111111111111, \"#46039f\"], [0.2222222222222222, \"#7201a8\"], [0.3333333333333333, \"#9c179e\"], [0.4444444444444444, \"#bd3786\"], [0.5555555555555556, \"#d8576b\"], [0.6666666666666666, \"#ed7953\"], [0.7777777777777778, \"#fb9f3a\"], [0.8888888888888888, \"#fdca26\"], [1.0, \"#f0f921\"]], \"type\": \"histogram2dcontour\"}], \"mesh3d\": [{\"colorbar\": {\"outlinewidth\": 0, \"ticks\": \"\"}, \"type\": \"mesh3d\"}], \"parcoords\": [{\"line\": {\"colorbar\": {\"outlinewidth\": 0, \"ticks\": \"\"}}, \"type\": \"parcoords\"}], \"pie\": [{\"automargin\": true, \"type\": \"pie\"}], \"scatter\": [{\"marker\": {\"colorbar\": {\"outlinewidth\": 0, \"ticks\": \"\"}}, \"type\": \"scatter\"}], \"scatter3d\": [{\"line\": {\"colorbar\": {\"outlinewidth\": 0, \"ticks\": \"\"}}, \"marker\": {\"colorbar\": {\"outlinewidth\": 0, \"ticks\": \"\"}}, \"type\": \"scatter3d\"}], \"scattercarpet\": [{\"marker\": {\"colorbar\": {\"outlinewidth\": 0, \"ticks\": \"\"}}, \"type\": \"scattercarpet\"}], \"scattergeo\": [{\"marker\": {\"colorbar\": {\"outlinewidth\": 0, \"ticks\": \"\"}}, \"type\": \"scattergeo\"}], \"scattergl\": [{\"marker\": {\"colorbar\": {\"outlinewidth\": 0, \"ticks\": \"\"}}, \"type\": \"scattergl\"}], \"scattermapbox\": [{\"marker\": {\"colorbar\": {\"outlinewidth\": 0, \"ticks\": \"\"}}, \"type\": \"scattermapbox\"}], \"scatterpolar\": [{\"marker\": {\"colorbar\": {\"outlinewidth\": 0, \"ticks\": \"\"}}, \"type\": \"scatterpolar\"}], \"scatterpolargl\": [{\"marker\": {\"colorbar\": {\"outlinewidth\": 0, \"ticks\": \"\"}}, \"type\": \"scatterpolargl\"}], \"scatterternary\": [{\"marker\": {\"colorbar\": {\"outlinewidth\": 0, \"ticks\": \"\"}}, \"type\": \"scatterternary\"}], \"surface\": [{\"colorbar\": {\"outlinewidth\": 0, \"ticks\": \"\"}, \"colorscale\": [[0.0, \"#0d0887\"], [0.1111111111111111, \"#46039f\"], [0.2222222222222222, \"#7201a8\"], [0.3333333333333333, \"#9c179e\"], [0.4444444444444444, \"#bd3786\"], [0.5555555555555556, \"#d8576b\"], [0.6666666666666666, \"#ed7953\"], [0.7777777777777778, \"#fb9f3a\"], [0.8888888888888888, \"#fdca26\"], [1.0, \"#f0f921\"]], \"type\": \"surface\"}], \"table\": [{\"cells\": {\"fill\": {\"color\": \"#EBF0F8\"}, \"line\": {\"color\": \"white\"}}, \"header\": {\"fill\": {\"color\": \"#C8D4E3\"}, \"line\": {\"color\": \"white\"}}, \"type\": \"table\"}]}, \"layout\": {\"annotationdefaults\": {\"arrowcolor\": \"#2a3f5f\", \"arrowhead\": 0, \"arrowwidth\": 1}, \"coloraxis\": {\"colorbar\": {\"outlinewidth\": 0, \"ticks\": \"\"}}, \"colorscale\": {\"diverging\": [[0, \"#8e0152\"], [0.1, \"#c51b7d\"], [0.2, \"#de77ae\"], [0.3, \"#f1b6da\"], [0.4, \"#fde0ef\"], [0.5, \"#f7f7f7\"], [0.6, \"#e6f5d0\"], [0.7, \"#b8e186\"], [0.8, \"#7fbc41\"], [0.9, \"#4d9221\"], [1, \"#276419\"]], \"sequential\": [[0.0, \"#0d0887\"], [0.1111111111111111, \"#46039f\"], [0.2222222222222222, \"#7201a8\"], [0.3333333333333333, \"#9c179e\"], [0.4444444444444444, \"#bd3786\"], [0.5555555555555556, \"#d8576b\"], [0.6666666666666666, \"#ed7953\"], [0.7777777777777778, \"#fb9f3a\"], [0.8888888888888888, \"#fdca26\"], [1.0, \"#f0f921\"]], \"sequentialminus\": [[0.0, \"#0d0887\"], [0.1111111111111111, \"#46039f\"], [0.2222222222222222, \"#7201a8\"], [0.3333333333333333, \"#9c179e\"], [0.4444444444444444, \"#bd3786\"], [0.5555555555555556, \"#d8576b\"], [0.6666666666666666, \"#ed7953\"], [0.7777777777777778, \"#fb9f3a\"], [0.8888888888888888, \"#fdca26\"], [1.0, \"#f0f921\"]]}, \"colorway\": [\"#636efa\", \"#EF553B\", \"#00cc96\", \"#ab63fa\", \"#FFA15A\", \"#19d3f3\", \"#FF6692\", \"#B6E880\", \"#FF97FF\", \"#FECB52\"], \"font\": {\"color\": \"#2a3f5f\"}, \"geo\": {\"bgcolor\": \"white\", \"lakecolor\": \"white\", \"landcolor\": \"#E5ECF6\", \"showlakes\": true, \"showland\": true, \"subunitcolor\": \"white\"}, \"hoverlabel\": {\"align\": \"left\"}, \"hovermode\": \"closest\", \"mapbox\": {\"style\": \"light\"}, \"paper_bgcolor\": \"white\", \"plot_bgcolor\": \"#E5ECF6\", \"polar\": {\"angularaxis\": {\"gridcolor\": \"white\", \"linecolor\": \"white\", \"ticks\": \"\"}, \"bgcolor\": \"#E5ECF6\", \"radialaxis\": {\"gridcolor\": \"white\", \"linecolor\": \"white\", \"ticks\": \"\"}}, \"scene\": {\"xaxis\": {\"backgroundcolor\": \"#E5ECF6\", \"gridcolor\": \"white\", \"gridwidth\": 2, \"linecolor\": \"white\", \"showbackground\": true, \"ticks\": \"\", \"zerolinecolor\": \"white\"}, \"yaxis\": {\"backgroundcolor\": \"#E5ECF6\", \"gridcolor\": \"white\", \"gridwidth\": 2, \"linecolor\": \"white\", \"showbackground\": true, \"ticks\": \"\", \"zerolinecolor\": \"white\"}, \"zaxis\": {\"backgroundcolor\": \"#E5ECF6\", \"gridcolor\": \"white\", \"gridwidth\": 2, \"linecolor\": \"white\", \"showbackground\": true, \"ticks\": \"\", \"zerolinecolor\": \"white\"}}, \"shapedefaults\": {\"line\": {\"color\": \"#2a3f5f\"}}, \"ternary\": {\"aaxis\": {\"gridcolor\": \"white\", \"linecolor\": \"white\", \"ticks\": \"\"}, \"baxis\": {\"gridcolor\": \"white\", \"linecolor\": \"white\", \"ticks\": \"\"}, \"bgcolor\": \"#E5ECF6\", \"caxis\": {\"gridcolor\": \"white\", \"linecolor\": \"white\", \"ticks\": \"\"}}, \"title\": {\"x\": 0.05}, \"xaxis\": {\"automargin\": true, \"gridcolor\": \"white\", \"linecolor\": \"white\", \"ticks\": \"\", \"title\": {\"standoff\": 15}, \"zerolinecolor\": \"white\", \"zerolinewidth\": 2}, \"yaxis\": {\"automargin\": true, \"gridcolor\": \"white\", \"linecolor\": \"white\", \"ticks\": \"\", \"title\": {\"standoff\": 15}, \"zerolinecolor\": \"white\", \"zerolinewidth\": 2}}}, \"yaxis\": {\"title\": {\"text\": \"Price\"}}},\n",
       "                        {\"responsive\": true}\n",
       "                    ).then(function(){\n",
       "                            \n",
       "var gd = document.getElementById('6452a93d-a1af-4048-a385-e8c9227515be');\n",
       "var x = new MutationObserver(function (mutations, observer) {{\n",
       "        var display = window.getComputedStyle(gd).display;\n",
       "        if (!display || display === 'none') {{\n",
       "            console.log([gd, 'removed!']);\n",
       "            Plotly.purge(gd);\n",
       "            observer.disconnect();\n",
       "        }}\n",
       "}});\n",
       "\n",
       "// Listen for the removal of the full notebook cells\n",
       "var notebookContainer = gd.closest('#notebook-container');\n",
       "if (notebookContainer) {{\n",
       "    x.observe(notebookContainer, {childList: true});\n",
       "}}\n",
       "\n",
       "// Listen for the clearing of the current output cell\n",
       "var outputEl = gd.closest('.output');\n",
       "if (outputEl) {{\n",
       "    x.observe(outputEl, {childList: true});\n",
       "}}\n",
       "\n",
       "                        })\n",
       "                };\n",
       "                });\n",
       "            </script>\n",
       "        </div>"
      ]
     },
     "metadata": {},
     "output_type": "display_data"
    }
   ],
   "source": [
    "fig = go.Figure()\n",
    "fig.add_trace(go.Box(x=df.Name, y=df[\"Price-Min\"], name=\"Price-Min\"))\n",
    "fig.add_trace(go.Box(x=df.Name, y=df[\"Price-Max\"], name=\"Price-Max\"))\n",
    "fig.update_layout(\n",
    "    yaxis_title='Price',\n",
    "    boxmode='group'\n",
    ")\n",
    "fig.show()"
   ]
  },
  {
   "cell_type": "code",
   "execution_count": 7,
   "metadata": {},
   "outputs": [],
   "source": [
    "# fig.write_image(\"images/cost_plus_pricing.png\")"
   ]
  },
  {
   "cell_type": "markdown",
   "metadata": {},
   "source": [
    "## Competitive Pricing"
   ]
  },
  {
   "cell_type": "markdown",
   "metadata": {},
   "source": [
    "Using the median values, high-end models can be grouped as those \\\\$2,000 and above, mid-range models \\\\$1,000 - \\\\$1,999, and low-end models $999 and below."
   ]
  },
  {
   "cell_type": "code",
   "execution_count": 8,
   "metadata": {
    "scrolled": true
   },
   "outputs": [
    {
     "data": {
      "text/html": [
       "<div>\n",
       "<style scoped>\n",
       "    .dataframe tbody tr th:only-of-type {\n",
       "        vertical-align: middle;\n",
       "    }\n",
       "\n",
       "    .dataframe tbody tr th {\n",
       "        vertical-align: top;\n",
       "    }\n",
       "\n",
       "    .dataframe thead th {\n",
       "        text-align: right;\n",
       "    }\n",
       "</style>\n",
       "<table border=\"1\" class=\"dataframe\">\n",
       "  <thead>\n",
       "    <tr style=\"text-align: right;\">\n",
       "      <th></th>\n",
       "      <th>Price-Max</th>\n",
       "      <th>Price-Min</th>\n",
       "      <th>On-Sale</th>\n",
       "      <th>EAN</th>\n",
       "      <th>UPC</th>\n",
       "    </tr>\n",
       "    <tr>\n",
       "      <th>Name</th>\n",
       "      <th></th>\n",
       "      <th></th>\n",
       "      <th></th>\n",
       "      <th></th>\n",
       "      <th></th>\n",
       "    </tr>\n",
       "  </thead>\n",
       "  <tbody>\n",
       "    <tr>\n",
       "      <th>Sony - 55 class - oled - a1e series - 2160p - smart - 4k uhd tv with hdr\"</th>\n",
       "      <td>3099.350</td>\n",
       "      <td>3050.000</td>\n",
       "      <td>False</td>\n",
       "      <td>NaN</td>\n",
       "      <td>2.724291e+10</td>\n",
       "    </tr>\n",
       "    <tr>\n",
       "      <th>Samsung - 55 class - led - q8f series - 2160p - smart - 4k uhd tv with hdr\"</th>\n",
       "      <td>2197.990</td>\n",
       "      <td>2097.990</td>\n",
       "      <td>True</td>\n",
       "      <td>NaN</td>\n",
       "      <td>8.870000e+11</td>\n",
       "    </tr>\n",
       "    <tr>\n",
       "      <th>Samsung - 55 class - led - curved - q7c series - 2160p - smart - 4k uhd tv with hdr\"</th>\n",
       "      <td>2197.990</td>\n",
       "      <td>1997.990</td>\n",
       "      <td>True</td>\n",
       "      <td>NaN</td>\n",
       "      <td>8.870000e+11</td>\n",
       "    </tr>\n",
       "    <tr>\n",
       "      <th>X900f-series 55-class hdr uhd smart led tv</th>\n",
       "      <td>1398.995</td>\n",
       "      <td>1398.995</td>\n",
       "      <td>False</td>\n",
       "      <td>NaN</td>\n",
       "      <td>2.724291e+10</td>\n",
       "    </tr>\n",
       "    <tr>\n",
       "      <th>Sony - 55 class - led - x800e series - 2160p - smart - 4k uhd tv with hdr\"</th>\n",
       "      <td>1098.500</td>\n",
       "      <td>998.000</td>\n",
       "      <td>False</td>\n",
       "      <td>NaN</td>\n",
       "      <td>2.724290e+10</td>\n",
       "    </tr>\n",
       "    <tr>\n",
       "      <th>Samsung 55 class 4k (2160p) smart led tv (un55ku7000)\"</th>\n",
       "      <td>954.990</td>\n",
       "      <td>954.990</td>\n",
       "      <td>False</td>\n",
       "      <td>NaN</td>\n",
       "      <td>8.870000e+11</td>\n",
       "    </tr>\n",
       "    <tr>\n",
       "      <th>Samsung - 55 class - led - curved - mu6490 series - 2160p - smart - 4k ultra hd tv with hdr\"</th>\n",
       "      <td>799.990</td>\n",
       "      <td>797.990</td>\n",
       "      <td>False</td>\n",
       "      <td>NaN</td>\n",
       "      <td>8.870000e+11</td>\n",
       "    </tr>\n",
       "    <tr>\n",
       "      <th>Lg - 55 class - led - uj7700 series - 2160p - smart - 4k uhd tv with hdr\"</th>\n",
       "      <td>1299.000</td>\n",
       "      <td>796.990</td>\n",
       "      <td>True</td>\n",
       "      <td>NaN</td>\n",
       "      <td>7.190000e+11</td>\n",
       "    </tr>\n",
       "    <tr>\n",
       "      <th>Sony xbr55x700d 55-inch 4k ultra hd smart led tv (2016 model)</th>\n",
       "      <td>789.990</td>\n",
       "      <td>789.990</td>\n",
       "      <td>False</td>\n",
       "      <td>NaN</td>\n",
       "      <td>2.724290e+10</td>\n",
       "    </tr>\n",
       "    <tr>\n",
       "      <th>Hisense - 55 class - led - h9 series - 2160p - smart - 4k uhd tv with hdr\"</th>\n",
       "      <td>699.990</td>\n",
       "      <td>699.990</td>\n",
       "      <td>False</td>\n",
       "      <td>NaN</td>\n",
       "      <td>8.880000e+11</td>\n",
       "    </tr>\n",
       "    <tr>\n",
       "      <th>Hisense - 55 class - led - h8 series - 2160p - smart - 4k uhd tv with hdr\"</th>\n",
       "      <td>584.975</td>\n",
       "      <td>549.990</td>\n",
       "      <td>False</td>\n",
       "      <td>6.500000e+11</td>\n",
       "      <td>8.880000e+11</td>\n",
       "    </tr>\n",
       "  </tbody>\n",
       "</table>\n",
       "</div>"
      ],
      "text/plain": [
       "                                                    Price-Max  Price-Min  \\\n",
       "Name                                                                       \n",
       "Sony - 55 class - oled - a1e series - 2160p - s...   3099.350   3050.000   \n",
       "Samsung - 55 class - led - q8f series - 2160p -...   2197.990   2097.990   \n",
       "Samsung - 55 class - led - curved - q7c series ...   2197.990   1997.990   \n",
       "X900f-series 55-class hdr uhd smart led tv           1398.995   1398.995   \n",
       "Sony - 55 class - led - x800e series - 2160p - ...   1098.500    998.000   \n",
       "Samsung 55 class 4k (2160p) smart led tv (un55k...    954.990    954.990   \n",
       "Samsung - 55 class - led - curved - mu6490 seri...    799.990    797.990   \n",
       "Lg - 55 class - led - uj7700 series - 2160p - s...   1299.000    796.990   \n",
       "Sony xbr55x700d 55-inch 4k ultra hd smart led t...    789.990    789.990   \n",
       "Hisense - 55 class - led - h9 series - 2160p - ...    699.990    699.990   \n",
       "Hisense - 55 class - led - h8 series - 2160p - ...    584.975    549.990   \n",
       "\n",
       "                                                    On-Sale           EAN  \\\n",
       "Name                                                                        \n",
       "Sony - 55 class - oled - a1e series - 2160p - s...    False           NaN   \n",
       "Samsung - 55 class - led - q8f series - 2160p -...     True           NaN   \n",
       "Samsung - 55 class - led - curved - q7c series ...     True           NaN   \n",
       "X900f-series 55-class hdr uhd smart led tv            False           NaN   \n",
       "Sony - 55 class - led - x800e series - 2160p - ...    False           NaN   \n",
       "Samsung 55 class 4k (2160p) smart led tv (un55k...    False           NaN   \n",
       "Samsung - 55 class - led - curved - mu6490 seri...    False           NaN   \n",
       "Lg - 55 class - led - uj7700 series - 2160p - s...     True           NaN   \n",
       "Sony xbr55x700d 55-inch 4k ultra hd smart led t...    False           NaN   \n",
       "Hisense - 55 class - led - h9 series - 2160p - ...    False           NaN   \n",
       "Hisense - 55 class - led - h8 series - 2160p - ...    False  6.500000e+11   \n",
       "\n",
       "                                                             UPC  \n",
       "Name                                                              \n",
       "Sony - 55 class - oled - a1e series - 2160p - s...  2.724291e+10  \n",
       "Samsung - 55 class - led - q8f series - 2160p -...  8.870000e+11  \n",
       "Samsung - 55 class - led - curved - q7c series ...  8.870000e+11  \n",
       "X900f-series 55-class hdr uhd smart led tv          2.724291e+10  \n",
       "Sony - 55 class - led - x800e series - 2160p - ...  2.724290e+10  \n",
       "Samsung 55 class 4k (2160p) smart led tv (un55k...  8.870000e+11  \n",
       "Samsung - 55 class - led - curved - mu6490 seri...  8.870000e+11  \n",
       "Lg - 55 class - led - uj7700 series - 2160p - s...  7.190000e+11  \n",
       "Sony xbr55x700d 55-inch 4k ultra hd smart led t...  2.724290e+10  \n",
       "Hisense - 55 class - led - h9 series - 2160p - ...  8.880000e+11  \n",
       "Hisense - 55 class - led - h8 series - 2160p - ...  8.880000e+11  "
      ]
     },
     "execution_count": 8,
     "metadata": {},
     "output_type": "execute_result"
    }
   ],
   "source": [
    "# Median values by product\n",
    "df.groupby(\"Name\").median().sort_values(\"Price-Min\", ascending=False)"
   ]
  },
  {
   "cell_type": "code",
   "execution_count": 11,
   "metadata": {},
   "outputs": [
    {
     "data": {
      "application/vnd.plotly.v1+json": {
       "config": {
        "plotlyServerURL": "https://plot.ly"
       },
       "data": [
        {
         "hovertemplate": "Name=Sony - 55 class - oled - a1e series - 2160p - smart - 4k uhd tv with hdr\"<br>Date-Seen=%{x}<br>Price-Min=%{y}<extra></extra>",
         "legendgroup": "Sony - 55 class - oled - a1e series - 2160p - smart - 4k uhd tv with hdr\"",
         "line": {
          "color": "#636efa",
          "dash": "solid"
         },
         "mode": "lines",
         "name": "Sony - 55 class - oled - a1e series - 2160p - smart - 4k uhd tv with hdr\"",
         "orientation": "v",
         "showlegend": true,
         "type": "scatter",
         "x": [
          "2017-03-30T02:00:00",
          "2017-04-04T04:00:00",
          "2017-05-01T06:00:00",
          "2017-05-09T03:00:00",
          "2017-05-18T02:00:00",
          "2017-05-31T16:00:00",
          "2017-05-31T19:00:00",
          "2017-06-19T04:00:00",
          "2017-06-24T03:00:00",
          "2017-06-24T20:00:00",
          "2017-06-25T15:00:00",
          "2017-06-26T22:00:00",
          "2017-06-27T11:00:00",
          "2017-06-28T04:00:00",
          "2017-06-28T23:00:00",
          "2017-06-29T17:00:00",
          "2017-07-11T05:00:00",
          "2017-07-11T22:00:00",
          "2017-07-23T00:00:00",
          "2017-07-23T02:00:00",
          "2017-07-24T14:00:00",
          "2017-07-25T18:00:00",
          "2017-07-25T18:00:00",
          "2017-07-26T15:00:00",
          "2017-07-26T15:00:00",
          "2017-07-26T15:00:00",
          "2017-07-27T19:00:00",
          "2017-07-27T21:00:00",
          "2017-08-01T03:00:00",
          "2017-08-01T03:00:00",
          "2017-08-15T21:00:00",
          "2017-08-19T02:00:00",
          "2017-08-22T04:00:00",
          "2017-08-22T19:00:00",
          "2017-08-29T12:00:00",
          "2017-08-29T12:00:00",
          "2017-09-24T03:00:00",
          "2017-09-24T03:00:00",
          "2017-09-28T04:00:00",
          "2017-10-24T22:00:00",
          "2017-10-24T22:00:00",
          "2017-10-28T17:00:00",
          "2017-10-28T18:00:00",
          "2017-10-30T14:00:00",
          "2017-11-08T20:00:00",
          "2017-11-08T20:00:00",
          "2017-11-18T10:00:00",
          "2017-11-18T10:00:00",
          "2017-12-04T20:00:00",
          "2017-12-04T21:00:00",
          "2017-12-04T21:00:00",
          "2017-12-06T20:00:00",
          "2017-12-06T20:00:00",
          "2017-12-06T22:00:00",
          "2017-12-06T22:00:00",
          "2017-12-07T06:00:00",
          "2018-01-09T20:00:00",
          "2018-01-09T20:00:00",
          "2018-01-10T07:00:00",
          "2018-03-09T18:00:00",
          "2018-04-26T17:00:00",
          "2018-04-26T17:00:00",
          "2018-04-26T17:00:00",
          "2018-05-04T11:00:00",
          "2018-05-04T11:00:00",
          "2018-05-24T11:00:00",
          "2018-05-26T07:00:00",
          "2018-05-26T07:00:00",
          "2018-05-27T16:00:00",
          "2018-05-28T10:00:00",
          "2018-06-01T15:00:00",
          "2018-06-01T15:00:00"
         ],
         "xaxis": "x",
         "y": [
          4999.99,
          3999.99,
          3999.99,
          3999.99,
          3999.99,
          3999.99,
          3999.99,
          3099.52,
          2999.99,
          2999.99,
          2999.99,
          2999.99,
          2999.99,
          2999.99,
          2999.99,
          2999.99,
          3219.99,
          2999.99,
          3498,
          3099.52,
          3099.52,
          3040,
          3050,
          3219.99,
          3040,
          3499.99,
          3050,
          3050,
          3219.99,
          3499.99,
          3298,
          3298,
          3298,
          3099.18,
          3298,
          2998,
          2998,
          3298,
          2998,
          4096,
          2798,
          2798,
          4096,
          4096,
          4096,
          2798,
          2798,
          3298,
          2498,
          3298,
          2498,
          2498,
          3298,
          3298,
          2498,
          3596,
          2998,
          3298,
          4296,
          2798,
          2498,
          2498,
          2998,
          2498,
          2998,
          2498,
          2499.99,
          2799.99,
          2498,
          2498,
          2498,
          2998
         ],
         "yaxis": "y"
        },
        {
         "hovertemplate": "Name=Samsung - 55 class - led - curved - q7c series - 2160p - smart - 4k uhd tv with hdr\"<br>Date-Seen=%{x}<br>Price-Min=%{y}<extra></extra>",
         "legendgroup": "Samsung - 55 class - led - curved - q7c series - 2160p - smart - 4k uhd tv with hdr\"",
         "line": {
          "color": "#EF553B",
          "dash": "solid"
         },
         "mode": "lines",
         "name": "Samsung - 55 class - led - curved - q7c series - 2160p - smart - 4k uhd tv with hdr\"",
         "orientation": "v",
         "showlegend": true,
         "type": "scatter",
         "x": [
          "2017-07-08T20:00:00",
          "2017-07-09T22:00:00",
          "2017-07-10T18:00:00",
          "2017-07-12T15:00:00",
          "2017-07-14T14:00:00",
          "2017-07-16T20:00:00",
          "2017-07-18T06:00:00",
          "2017-07-21T14:00:00",
          "2017-07-21T16:00:00",
          "2017-07-22T23:00:00",
          "2017-07-25T23:00:00",
          "2017-07-25T23:00:00",
          "2017-07-25T23:00:00",
          "2017-07-25T23:00:00",
          "2017-07-26T15:00:00",
          "2017-07-28T07:00:00",
          "2017-08-01T03:00:00",
          "2017-08-15T15:00:00",
          "2017-08-15T21:00:00",
          "2017-08-19T02:00:00",
          "2017-08-19T02:00:00",
          "2017-08-22T10:00:00",
          "2017-08-22T10:00:00",
          "2017-09-17T08:00:00",
          "2017-09-18T18:00:00",
          "2017-09-24T10:00:00",
          "2017-09-24T10:00:00",
          "2017-10-28T18:00:00",
          "2017-11-08T20:00:00",
          "2017-11-16T23:00:00",
          "2017-12-05T10:00:00",
          "2017-12-07T06:00:00",
          "2017-12-07T23:00:00",
          "2017-12-08T01:00:00",
          "2018-01-09T20:00:00",
          "2018-01-27T10:00:00",
          "2018-04-10T14:00:00",
          "2018-04-26T17:00:00",
          "2018-04-26T17:00:00",
          "2018-05-24T11:00:00",
          "2018-06-01T15:00:00",
          "2018-06-01T15:00:00"
         ],
         "xaxis": "x",
         "y": [
          2197.99,
          2016.95,
          2197.99,
          2197.99,
          2197.99,
          2197.99,
          2197.99,
          2197.99,
          2197.99,
          2197.99,
          2197.99,
          2197.99,
          2197.99,
          2197.99,
          2199.99,
          2197.99,
          2199.99,
          2197.99,
          2197.99,
          2197.99,
          2997.99,
          2997.99,
          2197.99,
          2475.98,
          2197.99,
          2997.99,
          2197.99,
          2395.98,
          2075.98,
          2075.98,
          2997.99,
          2125.98,
          2997.99,
          2997.99,
          2997.99,
          2997.99,
          2997.99,
          2797.99,
          2997.99,
          2797.99,
          2797.99,
          2997.99
         ],
         "yaxis": "y"
        },
        {
         "hovertemplate": "Name=Sony - 55 class - led - x800e series - 2160p - smart - 4k uhd tv with hdr\"<br>Date-Seen=%{x}<br>Price-Min=%{y}<extra></extra>",
         "legendgroup": "Sony - 55 class - led - x800e series - 2160p - smart - 4k uhd tv with hdr\"",
         "line": {
          "color": "#00cc96",
          "dash": "solid"
         },
         "mode": "lines",
         "name": "Sony - 55 class - led - x800e series - 2160p - smart - 4k uhd tv with hdr\"",
         "orientation": "v",
         "showlegend": true,
         "type": "scatter",
         "x": [
          "2017-10-24T22:00:00",
          "2017-10-28T17:00:00",
          "2017-11-16T19:00:00",
          "2018-01-10T07:00:00"
         ],
         "xaxis": "x",
         "y": [
          2196,
          2196,
          2196,
          2096
         ],
         "yaxis": "y"
        },
        {
         "hovertemplate": "Name=Samsung - 55 class - led - q8f series - 2160p - smart - 4k uhd tv with hdr\"<br>Date-Seen=%{x}<br>Price-Min=%{y}<extra></extra>",
         "legendgroup": "Samsung - 55 class - led - q8f series - 2160p - smart - 4k uhd tv with hdr\"",
         "line": {
          "color": "#ab63fa",
          "dash": "solid"
         },
         "mode": "lines",
         "name": "Samsung - 55 class - led - q8f series - 2160p - smart - 4k uhd tv with hdr\"",
         "orientation": "v",
         "showlegend": true,
         "type": "scatter",
         "x": [
          "2018-04-26T17:00:00",
          "2018-04-26T17:00:00",
          "2018-04-26T17:00:00",
          "2018-05-26T15:00:00",
          "2018-06-01T09:00:00"
         ],
         "xaxis": "x",
         "y": [
          2197.99,
          2097.99,
          2097.99,
          2199.99,
          2197.99
         ],
         "yaxis": "y"
        }
       ],
       "layout": {
        "legend": {
         "title": {
          "text": "Name"
         },
         "tracegroupgap": 0
        },
        "margin": {
         "t": 60
        },
        "showlegend": false,
        "template": {
         "data": {
          "bar": [
           {
            "error_x": {
             "color": "#2a3f5f"
            },
            "error_y": {
             "color": "#2a3f5f"
            },
            "marker": {
             "line": {
              "color": "#E5ECF6",
              "width": 0.5
             }
            },
            "type": "bar"
           }
          ],
          "barpolar": [
           {
            "marker": {
             "line": {
              "color": "#E5ECF6",
              "width": 0.5
             }
            },
            "type": "barpolar"
           }
          ],
          "carpet": [
           {
            "aaxis": {
             "endlinecolor": "#2a3f5f",
             "gridcolor": "white",
             "linecolor": "white",
             "minorgridcolor": "white",
             "startlinecolor": "#2a3f5f"
            },
            "baxis": {
             "endlinecolor": "#2a3f5f",
             "gridcolor": "white",
             "linecolor": "white",
             "minorgridcolor": "white",
             "startlinecolor": "#2a3f5f"
            },
            "type": "carpet"
           }
          ],
          "choropleth": [
           {
            "colorbar": {
             "outlinewidth": 0,
             "ticks": ""
            },
            "type": "choropleth"
           }
          ],
          "contour": [
           {
            "colorbar": {
             "outlinewidth": 0,
             "ticks": ""
            },
            "colorscale": [
             [
              0,
              "#0d0887"
             ],
             [
              0.1111111111111111,
              "#46039f"
             ],
             [
              0.2222222222222222,
              "#7201a8"
             ],
             [
              0.3333333333333333,
              "#9c179e"
             ],
             [
              0.4444444444444444,
              "#bd3786"
             ],
             [
              0.5555555555555556,
              "#d8576b"
             ],
             [
              0.6666666666666666,
              "#ed7953"
             ],
             [
              0.7777777777777778,
              "#fb9f3a"
             ],
             [
              0.8888888888888888,
              "#fdca26"
             ],
             [
              1,
              "#f0f921"
             ]
            ],
            "type": "contour"
           }
          ],
          "contourcarpet": [
           {
            "colorbar": {
             "outlinewidth": 0,
             "ticks": ""
            },
            "type": "contourcarpet"
           }
          ],
          "heatmap": [
           {
            "colorbar": {
             "outlinewidth": 0,
             "ticks": ""
            },
            "colorscale": [
             [
              0,
              "#0d0887"
             ],
             [
              0.1111111111111111,
              "#46039f"
             ],
             [
              0.2222222222222222,
              "#7201a8"
             ],
             [
              0.3333333333333333,
              "#9c179e"
             ],
             [
              0.4444444444444444,
              "#bd3786"
             ],
             [
              0.5555555555555556,
              "#d8576b"
             ],
             [
              0.6666666666666666,
              "#ed7953"
             ],
             [
              0.7777777777777778,
              "#fb9f3a"
             ],
             [
              0.8888888888888888,
              "#fdca26"
             ],
             [
              1,
              "#f0f921"
             ]
            ],
            "type": "heatmap"
           }
          ],
          "heatmapgl": [
           {
            "colorbar": {
             "outlinewidth": 0,
             "ticks": ""
            },
            "colorscale": [
             [
              0,
              "#0d0887"
             ],
             [
              0.1111111111111111,
              "#46039f"
             ],
             [
              0.2222222222222222,
              "#7201a8"
             ],
             [
              0.3333333333333333,
              "#9c179e"
             ],
             [
              0.4444444444444444,
              "#bd3786"
             ],
             [
              0.5555555555555556,
              "#d8576b"
             ],
             [
              0.6666666666666666,
              "#ed7953"
             ],
             [
              0.7777777777777778,
              "#fb9f3a"
             ],
             [
              0.8888888888888888,
              "#fdca26"
             ],
             [
              1,
              "#f0f921"
             ]
            ],
            "type": "heatmapgl"
           }
          ],
          "histogram": [
           {
            "marker": {
             "colorbar": {
              "outlinewidth": 0,
              "ticks": ""
             }
            },
            "type": "histogram"
           }
          ],
          "histogram2d": [
           {
            "colorbar": {
             "outlinewidth": 0,
             "ticks": ""
            },
            "colorscale": [
             [
              0,
              "#0d0887"
             ],
             [
              0.1111111111111111,
              "#46039f"
             ],
             [
              0.2222222222222222,
              "#7201a8"
             ],
             [
              0.3333333333333333,
              "#9c179e"
             ],
             [
              0.4444444444444444,
              "#bd3786"
             ],
             [
              0.5555555555555556,
              "#d8576b"
             ],
             [
              0.6666666666666666,
              "#ed7953"
             ],
             [
              0.7777777777777778,
              "#fb9f3a"
             ],
             [
              0.8888888888888888,
              "#fdca26"
             ],
             [
              1,
              "#f0f921"
             ]
            ],
            "type": "histogram2d"
           }
          ],
          "histogram2dcontour": [
           {
            "colorbar": {
             "outlinewidth": 0,
             "ticks": ""
            },
            "colorscale": [
             [
              0,
              "#0d0887"
             ],
             [
              0.1111111111111111,
              "#46039f"
             ],
             [
              0.2222222222222222,
              "#7201a8"
             ],
             [
              0.3333333333333333,
              "#9c179e"
             ],
             [
              0.4444444444444444,
              "#bd3786"
             ],
             [
              0.5555555555555556,
              "#d8576b"
             ],
             [
              0.6666666666666666,
              "#ed7953"
             ],
             [
              0.7777777777777778,
              "#fb9f3a"
             ],
             [
              0.8888888888888888,
              "#fdca26"
             ],
             [
              1,
              "#f0f921"
             ]
            ],
            "type": "histogram2dcontour"
           }
          ],
          "mesh3d": [
           {
            "colorbar": {
             "outlinewidth": 0,
             "ticks": ""
            },
            "type": "mesh3d"
           }
          ],
          "parcoords": [
           {
            "line": {
             "colorbar": {
              "outlinewidth": 0,
              "ticks": ""
             }
            },
            "type": "parcoords"
           }
          ],
          "pie": [
           {
            "automargin": true,
            "type": "pie"
           }
          ],
          "scatter": [
           {
            "marker": {
             "colorbar": {
              "outlinewidth": 0,
              "ticks": ""
             }
            },
            "type": "scatter"
           }
          ],
          "scatter3d": [
           {
            "line": {
             "colorbar": {
              "outlinewidth": 0,
              "ticks": ""
             }
            },
            "marker": {
             "colorbar": {
              "outlinewidth": 0,
              "ticks": ""
             }
            },
            "type": "scatter3d"
           }
          ],
          "scattercarpet": [
           {
            "marker": {
             "colorbar": {
              "outlinewidth": 0,
              "ticks": ""
             }
            },
            "type": "scattercarpet"
           }
          ],
          "scattergeo": [
           {
            "marker": {
             "colorbar": {
              "outlinewidth": 0,
              "ticks": ""
             }
            },
            "type": "scattergeo"
           }
          ],
          "scattergl": [
           {
            "marker": {
             "colorbar": {
              "outlinewidth": 0,
              "ticks": ""
             }
            },
            "type": "scattergl"
           }
          ],
          "scattermapbox": [
           {
            "marker": {
             "colorbar": {
              "outlinewidth": 0,
              "ticks": ""
             }
            },
            "type": "scattermapbox"
           }
          ],
          "scatterpolar": [
           {
            "marker": {
             "colorbar": {
              "outlinewidth": 0,
              "ticks": ""
             }
            },
            "type": "scatterpolar"
           }
          ],
          "scatterpolargl": [
           {
            "marker": {
             "colorbar": {
              "outlinewidth": 0,
              "ticks": ""
             }
            },
            "type": "scatterpolargl"
           }
          ],
          "scatterternary": [
           {
            "marker": {
             "colorbar": {
              "outlinewidth": 0,
              "ticks": ""
             }
            },
            "type": "scatterternary"
           }
          ],
          "surface": [
           {
            "colorbar": {
             "outlinewidth": 0,
             "ticks": ""
            },
            "colorscale": [
             [
              0,
              "#0d0887"
             ],
             [
              0.1111111111111111,
              "#46039f"
             ],
             [
              0.2222222222222222,
              "#7201a8"
             ],
             [
              0.3333333333333333,
              "#9c179e"
             ],
             [
              0.4444444444444444,
              "#bd3786"
             ],
             [
              0.5555555555555556,
              "#d8576b"
             ],
             [
              0.6666666666666666,
              "#ed7953"
             ],
             [
              0.7777777777777778,
              "#fb9f3a"
             ],
             [
              0.8888888888888888,
              "#fdca26"
             ],
             [
              1,
              "#f0f921"
             ]
            ],
            "type": "surface"
           }
          ],
          "table": [
           {
            "cells": {
             "fill": {
              "color": "#EBF0F8"
             },
             "line": {
              "color": "white"
             }
            },
            "header": {
             "fill": {
              "color": "#C8D4E3"
             },
             "line": {
              "color": "white"
             }
            },
            "type": "table"
           }
          ]
         },
         "layout": {
          "annotationdefaults": {
           "arrowcolor": "#2a3f5f",
           "arrowhead": 0,
           "arrowwidth": 1
          },
          "coloraxis": {
           "colorbar": {
            "outlinewidth": 0,
            "ticks": ""
           }
          },
          "colorscale": {
           "diverging": [
            [
             0,
             "#8e0152"
            ],
            [
             0.1,
             "#c51b7d"
            ],
            [
             0.2,
             "#de77ae"
            ],
            [
             0.3,
             "#f1b6da"
            ],
            [
             0.4,
             "#fde0ef"
            ],
            [
             0.5,
             "#f7f7f7"
            ],
            [
             0.6,
             "#e6f5d0"
            ],
            [
             0.7,
             "#b8e186"
            ],
            [
             0.8,
             "#7fbc41"
            ],
            [
             0.9,
             "#4d9221"
            ],
            [
             1,
             "#276419"
            ]
           ],
           "sequential": [
            [
             0,
             "#0d0887"
            ],
            [
             0.1111111111111111,
             "#46039f"
            ],
            [
             0.2222222222222222,
             "#7201a8"
            ],
            [
             0.3333333333333333,
             "#9c179e"
            ],
            [
             0.4444444444444444,
             "#bd3786"
            ],
            [
             0.5555555555555556,
             "#d8576b"
            ],
            [
             0.6666666666666666,
             "#ed7953"
            ],
            [
             0.7777777777777778,
             "#fb9f3a"
            ],
            [
             0.8888888888888888,
             "#fdca26"
            ],
            [
             1,
             "#f0f921"
            ]
           ],
           "sequentialminus": [
            [
             0,
             "#0d0887"
            ],
            [
             0.1111111111111111,
             "#46039f"
            ],
            [
             0.2222222222222222,
             "#7201a8"
            ],
            [
             0.3333333333333333,
             "#9c179e"
            ],
            [
             0.4444444444444444,
             "#bd3786"
            ],
            [
             0.5555555555555556,
             "#d8576b"
            ],
            [
             0.6666666666666666,
             "#ed7953"
            ],
            [
             0.7777777777777778,
             "#fb9f3a"
            ],
            [
             0.8888888888888888,
             "#fdca26"
            ],
            [
             1,
             "#f0f921"
            ]
           ]
          },
          "colorway": [
           "#636efa",
           "#EF553B",
           "#00cc96",
           "#ab63fa",
           "#FFA15A",
           "#19d3f3",
           "#FF6692",
           "#B6E880",
           "#FF97FF",
           "#FECB52"
          ],
          "font": {
           "color": "#2a3f5f"
          },
          "geo": {
           "bgcolor": "white",
           "lakecolor": "white",
           "landcolor": "#E5ECF6",
           "showlakes": true,
           "showland": true,
           "subunitcolor": "white"
          },
          "hoverlabel": {
           "align": "left"
          },
          "hovermode": "closest",
          "mapbox": {
           "style": "light"
          },
          "paper_bgcolor": "white",
          "plot_bgcolor": "#E5ECF6",
          "polar": {
           "angularaxis": {
            "gridcolor": "white",
            "linecolor": "white",
            "ticks": ""
           },
           "bgcolor": "#E5ECF6",
           "radialaxis": {
            "gridcolor": "white",
            "linecolor": "white",
            "ticks": ""
           }
          },
          "scene": {
           "xaxis": {
            "backgroundcolor": "#E5ECF6",
            "gridcolor": "white",
            "gridwidth": 2,
            "linecolor": "white",
            "showbackground": true,
            "ticks": "",
            "zerolinecolor": "white"
           },
           "yaxis": {
            "backgroundcolor": "#E5ECF6",
            "gridcolor": "white",
            "gridwidth": 2,
            "linecolor": "white",
            "showbackground": true,
            "ticks": "",
            "zerolinecolor": "white"
           },
           "zaxis": {
            "backgroundcolor": "#E5ECF6",
            "gridcolor": "white",
            "gridwidth": 2,
            "linecolor": "white",
            "showbackground": true,
            "ticks": "",
            "zerolinecolor": "white"
           }
          },
          "shapedefaults": {
           "line": {
            "color": "#2a3f5f"
           }
          },
          "ternary": {
           "aaxis": {
            "gridcolor": "white",
            "linecolor": "white",
            "ticks": ""
           },
           "baxis": {
            "gridcolor": "white",
            "linecolor": "white",
            "ticks": ""
           },
           "bgcolor": "#E5ECF6",
           "caxis": {
            "gridcolor": "white",
            "linecolor": "white",
            "ticks": ""
           }
          },
          "title": {
           "x": 0.05
          },
          "xaxis": {
           "automargin": true,
           "gridcolor": "white",
           "linecolor": "white",
           "ticks": "",
           "title": {
            "standoff": 15
           },
           "zerolinecolor": "white",
           "zerolinewidth": 2
          },
          "yaxis": {
           "automargin": true,
           "gridcolor": "white",
           "linecolor": "white",
           "ticks": "",
           "title": {
            "standoff": 15
           },
           "zerolinecolor": "white",
           "zerolinewidth": 2
          }
         }
        },
        "xaxis": {
         "anchor": "y",
         "domain": [
          0,
          1
         ],
         "title": {
          "text": "Date-Seen"
         }
        },
        "yaxis": {
         "anchor": "x",
         "domain": [
          0,
          1
         ],
         "title": {
          "text": "Price-Min"
         }
        }
       }
      },
      "text/html": [
       "<div>\n",
       "        \n",
       "        \n",
       "            <div id=\"59ec4a34-bc56-408f-8e2b-68aa33b97b89\" class=\"plotly-graph-div\" style=\"height:525px; width:100%;\"></div>\n",
       "            <script type=\"text/javascript\">\n",
       "                require([\"plotly\"], function(Plotly) {\n",
       "                    window.PLOTLYENV=window.PLOTLYENV || {};\n",
       "                    \n",
       "                if (document.getElementById(\"59ec4a34-bc56-408f-8e2b-68aa33b97b89\")) {\n",
       "                    Plotly.newPlot(\n",
       "                        '59ec4a34-bc56-408f-8e2b-68aa33b97b89',\n",
       "                        [{\"hovertemplate\": \"Name=Sony - 55 class - oled - a1e series - 2160p - smart - 4k uhd tv with hdr\\\"<br>Date-Seen=%{x}<br>Price-Min=%{y}<extra></extra>\", \"legendgroup\": \"Sony - 55 class - oled - a1e series - 2160p - smart - 4k uhd tv with hdr\\\"\", \"line\": {\"color\": \"#636efa\", \"dash\": \"solid\"}, \"mode\": \"lines\", \"name\": \"Sony - 55 class - oled - a1e series - 2160p - smart - 4k uhd tv with hdr\\\"\", \"orientation\": \"v\", \"showlegend\": true, \"type\": \"scatter\", \"x\": [\"2017-03-30T02:00:00\", \"2017-04-04T04:00:00\", \"2017-05-01T06:00:00\", \"2017-05-09T03:00:00\", \"2017-05-18T02:00:00\", \"2017-05-31T16:00:00\", \"2017-05-31T19:00:00\", \"2017-06-19T04:00:00\", \"2017-06-24T03:00:00\", \"2017-06-24T20:00:00\", \"2017-06-25T15:00:00\", \"2017-06-26T22:00:00\", \"2017-06-27T11:00:00\", \"2017-06-28T04:00:00\", \"2017-06-28T23:00:00\", \"2017-06-29T17:00:00\", \"2017-07-11T05:00:00\", \"2017-07-11T22:00:00\", \"2017-07-23T00:00:00\", \"2017-07-23T02:00:00\", \"2017-07-24T14:00:00\", \"2017-07-25T18:00:00\", \"2017-07-25T18:00:00\", \"2017-07-26T15:00:00\", \"2017-07-26T15:00:00\", \"2017-07-26T15:00:00\", \"2017-07-27T19:00:00\", \"2017-07-27T21:00:00\", \"2017-08-01T03:00:00\", \"2017-08-01T03:00:00\", \"2017-08-15T21:00:00\", \"2017-08-19T02:00:00\", \"2017-08-22T04:00:00\", \"2017-08-22T19:00:00\", \"2017-08-29T12:00:00\", \"2017-08-29T12:00:00\", \"2017-09-24T03:00:00\", \"2017-09-24T03:00:00\", \"2017-09-28T04:00:00\", \"2017-10-24T22:00:00\", \"2017-10-24T22:00:00\", \"2017-10-28T17:00:00\", \"2017-10-28T18:00:00\", \"2017-10-30T14:00:00\", \"2017-11-08T20:00:00\", \"2017-11-08T20:00:00\", \"2017-11-18T10:00:00\", \"2017-11-18T10:00:00\", \"2017-12-04T20:00:00\", \"2017-12-04T21:00:00\", \"2017-12-04T21:00:00\", \"2017-12-06T20:00:00\", \"2017-12-06T20:00:00\", \"2017-12-06T22:00:00\", \"2017-12-06T22:00:00\", \"2017-12-07T06:00:00\", \"2018-01-09T20:00:00\", \"2018-01-09T20:00:00\", \"2018-01-10T07:00:00\", \"2018-03-09T18:00:00\", \"2018-04-26T17:00:00\", \"2018-04-26T17:00:00\", \"2018-04-26T17:00:00\", \"2018-05-04T11:00:00\", \"2018-05-04T11:00:00\", \"2018-05-24T11:00:00\", \"2018-05-26T07:00:00\", \"2018-05-26T07:00:00\", \"2018-05-27T16:00:00\", \"2018-05-28T10:00:00\", \"2018-06-01T15:00:00\", \"2018-06-01T15:00:00\"], \"xaxis\": \"x\", \"y\": [4999.99, 3999.99, 3999.99, 3999.99, 3999.99, 3999.99, 3999.99, 3099.52, 2999.99, 2999.99, 2999.99, 2999.99, 2999.99, 2999.99, 2999.99, 2999.99, 3219.99, 2999.99, 3498.0, 3099.52, 3099.52, 3040.0, 3050.0, 3219.99, 3040.0, 3499.99, 3050.0, 3050.0, 3219.99, 3499.99, 3298.0, 3298.0, 3298.0, 3099.18, 3298.0, 2998.0, 2998.0, 3298.0, 2998.0, 4096.0, 2798.0, 2798.0, 4096.0, 4096.0, 4096.0, 2798.0, 2798.0, 3298.0, 2498.0, 3298.0, 2498.0, 2498.0, 3298.0, 3298.0, 2498.0, 3596.0, 2998.0, 3298.0, 4296.0, 2798.0, 2498.0, 2498.0, 2998.0, 2498.0, 2998.0, 2498.0, 2499.99, 2799.99, 2498.0, 2498.0, 2498.0, 2998.0], \"yaxis\": \"y\"}, {\"hovertemplate\": \"Name=Samsung - 55 class - led - curved - q7c series - 2160p - smart - 4k uhd tv with hdr\\\"<br>Date-Seen=%{x}<br>Price-Min=%{y}<extra></extra>\", \"legendgroup\": \"Samsung - 55 class - led - curved - q7c series - 2160p - smart - 4k uhd tv with hdr\\\"\", \"line\": {\"color\": \"#EF553B\", \"dash\": \"solid\"}, \"mode\": \"lines\", \"name\": \"Samsung - 55 class - led - curved - q7c series - 2160p - smart - 4k uhd tv with hdr\\\"\", \"orientation\": \"v\", \"showlegend\": true, \"type\": \"scatter\", \"x\": [\"2017-07-08T20:00:00\", \"2017-07-09T22:00:00\", \"2017-07-10T18:00:00\", \"2017-07-12T15:00:00\", \"2017-07-14T14:00:00\", \"2017-07-16T20:00:00\", \"2017-07-18T06:00:00\", \"2017-07-21T14:00:00\", \"2017-07-21T16:00:00\", \"2017-07-22T23:00:00\", \"2017-07-25T23:00:00\", \"2017-07-25T23:00:00\", \"2017-07-25T23:00:00\", \"2017-07-25T23:00:00\", \"2017-07-26T15:00:00\", \"2017-07-28T07:00:00\", \"2017-08-01T03:00:00\", \"2017-08-15T15:00:00\", \"2017-08-15T21:00:00\", \"2017-08-19T02:00:00\", \"2017-08-19T02:00:00\", \"2017-08-22T10:00:00\", \"2017-08-22T10:00:00\", \"2017-09-17T08:00:00\", \"2017-09-18T18:00:00\", \"2017-09-24T10:00:00\", \"2017-09-24T10:00:00\", \"2017-10-28T18:00:00\", \"2017-11-08T20:00:00\", \"2017-11-16T23:00:00\", \"2017-12-05T10:00:00\", \"2017-12-07T06:00:00\", \"2017-12-07T23:00:00\", \"2017-12-08T01:00:00\", \"2018-01-09T20:00:00\", \"2018-01-27T10:00:00\", \"2018-04-10T14:00:00\", \"2018-04-26T17:00:00\", \"2018-04-26T17:00:00\", \"2018-05-24T11:00:00\", \"2018-06-01T15:00:00\", \"2018-06-01T15:00:00\"], \"xaxis\": \"x\", \"y\": [2197.99, 2016.95, 2197.99, 2197.99, 2197.99, 2197.99, 2197.99, 2197.99, 2197.99, 2197.99, 2197.99, 2197.99, 2197.99, 2197.99, 2199.99, 2197.99, 2199.99, 2197.99, 2197.99, 2197.99, 2997.99, 2997.99, 2197.99, 2475.98, 2197.99, 2997.99, 2197.99, 2395.98, 2075.98, 2075.98, 2997.99, 2125.98, 2997.99, 2997.99, 2997.99, 2997.99, 2997.99, 2797.99, 2997.99, 2797.99, 2797.99, 2997.99], \"yaxis\": \"y\"}, {\"hovertemplate\": \"Name=Sony - 55 class - led - x800e series - 2160p - smart - 4k uhd tv with hdr\\\"<br>Date-Seen=%{x}<br>Price-Min=%{y}<extra></extra>\", \"legendgroup\": \"Sony - 55 class - led - x800e series - 2160p - smart - 4k uhd tv with hdr\\\"\", \"line\": {\"color\": \"#00cc96\", \"dash\": \"solid\"}, \"mode\": \"lines\", \"name\": \"Sony - 55 class - led - x800e series - 2160p - smart - 4k uhd tv with hdr\\\"\", \"orientation\": \"v\", \"showlegend\": true, \"type\": \"scatter\", \"x\": [\"2017-10-24T22:00:00\", \"2017-10-28T17:00:00\", \"2017-11-16T19:00:00\", \"2018-01-10T07:00:00\"], \"xaxis\": \"x\", \"y\": [2196.0, 2196.0, 2196.0, 2096.0], \"yaxis\": \"y\"}, {\"hovertemplate\": \"Name=Samsung - 55 class - led - q8f series - 2160p - smart - 4k uhd tv with hdr\\\"<br>Date-Seen=%{x}<br>Price-Min=%{y}<extra></extra>\", \"legendgroup\": \"Samsung - 55 class - led - q8f series - 2160p - smart - 4k uhd tv with hdr\\\"\", \"line\": {\"color\": \"#ab63fa\", \"dash\": \"solid\"}, \"mode\": \"lines\", \"name\": \"Samsung - 55 class - led - q8f series - 2160p - smart - 4k uhd tv with hdr\\\"\", \"orientation\": \"v\", \"showlegend\": true, \"type\": \"scatter\", \"x\": [\"2018-04-26T17:00:00\", \"2018-04-26T17:00:00\", \"2018-04-26T17:00:00\", \"2018-05-26T15:00:00\", \"2018-06-01T09:00:00\"], \"xaxis\": \"x\", \"y\": [2197.99, 2097.99, 2097.99, 2199.99, 2197.99], \"yaxis\": \"y\"}],\n",
       "                        {\"legend\": {\"title\": {\"text\": \"Name\"}, \"tracegroupgap\": 0}, \"margin\": {\"t\": 60}, \"showlegend\": false, \"template\": {\"data\": {\"bar\": [{\"error_x\": {\"color\": \"#2a3f5f\"}, \"error_y\": {\"color\": \"#2a3f5f\"}, \"marker\": {\"line\": {\"color\": \"#E5ECF6\", \"width\": 0.5}}, \"type\": \"bar\"}], \"barpolar\": [{\"marker\": {\"line\": {\"color\": \"#E5ECF6\", \"width\": 0.5}}, \"type\": \"barpolar\"}], \"carpet\": [{\"aaxis\": {\"endlinecolor\": \"#2a3f5f\", \"gridcolor\": \"white\", \"linecolor\": \"white\", \"minorgridcolor\": \"white\", \"startlinecolor\": \"#2a3f5f\"}, \"baxis\": {\"endlinecolor\": \"#2a3f5f\", \"gridcolor\": \"white\", \"linecolor\": \"white\", \"minorgridcolor\": \"white\", \"startlinecolor\": \"#2a3f5f\"}, \"type\": \"carpet\"}], \"choropleth\": [{\"colorbar\": {\"outlinewidth\": 0, \"ticks\": \"\"}, \"type\": \"choropleth\"}], \"contour\": [{\"colorbar\": {\"outlinewidth\": 0, \"ticks\": \"\"}, \"colorscale\": [[0.0, \"#0d0887\"], [0.1111111111111111, \"#46039f\"], [0.2222222222222222, \"#7201a8\"], [0.3333333333333333, \"#9c179e\"], [0.4444444444444444, \"#bd3786\"], [0.5555555555555556, \"#d8576b\"], [0.6666666666666666, \"#ed7953\"], [0.7777777777777778, \"#fb9f3a\"], [0.8888888888888888, \"#fdca26\"], [1.0, \"#f0f921\"]], \"type\": \"contour\"}], \"contourcarpet\": [{\"colorbar\": {\"outlinewidth\": 0, \"ticks\": \"\"}, \"type\": \"contourcarpet\"}], \"heatmap\": [{\"colorbar\": {\"outlinewidth\": 0, \"ticks\": \"\"}, \"colorscale\": [[0.0, \"#0d0887\"], [0.1111111111111111, \"#46039f\"], [0.2222222222222222, \"#7201a8\"], [0.3333333333333333, \"#9c179e\"], [0.4444444444444444, \"#bd3786\"], [0.5555555555555556, \"#d8576b\"], [0.6666666666666666, \"#ed7953\"], [0.7777777777777778, \"#fb9f3a\"], [0.8888888888888888, \"#fdca26\"], [1.0, \"#f0f921\"]], \"type\": \"heatmap\"}], \"heatmapgl\": [{\"colorbar\": {\"outlinewidth\": 0, \"ticks\": \"\"}, \"colorscale\": [[0.0, \"#0d0887\"], [0.1111111111111111, \"#46039f\"], [0.2222222222222222, \"#7201a8\"], [0.3333333333333333, \"#9c179e\"], [0.4444444444444444, \"#bd3786\"], [0.5555555555555556, \"#d8576b\"], [0.6666666666666666, \"#ed7953\"], [0.7777777777777778, \"#fb9f3a\"], [0.8888888888888888, \"#fdca26\"], [1.0, \"#f0f921\"]], \"type\": \"heatmapgl\"}], \"histogram\": [{\"marker\": {\"colorbar\": {\"outlinewidth\": 0, \"ticks\": \"\"}}, \"type\": \"histogram\"}], \"histogram2d\": [{\"colorbar\": {\"outlinewidth\": 0, \"ticks\": \"\"}, \"colorscale\": [[0.0, \"#0d0887\"], [0.1111111111111111, \"#46039f\"], [0.2222222222222222, \"#7201a8\"], [0.3333333333333333, \"#9c179e\"], [0.4444444444444444, \"#bd3786\"], [0.5555555555555556, \"#d8576b\"], [0.6666666666666666, \"#ed7953\"], [0.7777777777777778, \"#fb9f3a\"], [0.8888888888888888, \"#fdca26\"], [1.0, \"#f0f921\"]], \"type\": \"histogram2d\"}], \"histogram2dcontour\": [{\"colorbar\": {\"outlinewidth\": 0, \"ticks\": \"\"}, \"colorscale\": [[0.0, \"#0d0887\"], [0.1111111111111111, \"#46039f\"], [0.2222222222222222, \"#7201a8\"], [0.3333333333333333, \"#9c179e\"], [0.4444444444444444, \"#bd3786\"], [0.5555555555555556, \"#d8576b\"], [0.6666666666666666, \"#ed7953\"], [0.7777777777777778, \"#fb9f3a\"], [0.8888888888888888, \"#fdca26\"], [1.0, \"#f0f921\"]], \"type\": \"histogram2dcontour\"}], \"mesh3d\": [{\"colorbar\": {\"outlinewidth\": 0, \"ticks\": \"\"}, \"type\": \"mesh3d\"}], \"parcoords\": [{\"line\": {\"colorbar\": {\"outlinewidth\": 0, \"ticks\": \"\"}}, \"type\": \"parcoords\"}], \"pie\": [{\"automargin\": true, \"type\": \"pie\"}], \"scatter\": [{\"marker\": {\"colorbar\": {\"outlinewidth\": 0, \"ticks\": \"\"}}, \"type\": \"scatter\"}], \"scatter3d\": [{\"line\": {\"colorbar\": {\"outlinewidth\": 0, \"ticks\": \"\"}}, \"marker\": {\"colorbar\": {\"outlinewidth\": 0, \"ticks\": \"\"}}, \"type\": \"scatter3d\"}], \"scattercarpet\": [{\"marker\": {\"colorbar\": {\"outlinewidth\": 0, \"ticks\": \"\"}}, \"type\": \"scattercarpet\"}], \"scattergeo\": [{\"marker\": {\"colorbar\": {\"outlinewidth\": 0, \"ticks\": \"\"}}, \"type\": \"scattergeo\"}], \"scattergl\": [{\"marker\": {\"colorbar\": {\"outlinewidth\": 0, \"ticks\": \"\"}}, \"type\": \"scattergl\"}], \"scattermapbox\": [{\"marker\": {\"colorbar\": {\"outlinewidth\": 0, \"ticks\": \"\"}}, \"type\": \"scattermapbox\"}], \"scatterpolar\": [{\"marker\": {\"colorbar\": {\"outlinewidth\": 0, \"ticks\": \"\"}}, \"type\": \"scatterpolar\"}], \"scatterpolargl\": [{\"marker\": {\"colorbar\": {\"outlinewidth\": 0, \"ticks\": \"\"}}, \"type\": \"scatterpolargl\"}], \"scatterternary\": [{\"marker\": {\"colorbar\": {\"outlinewidth\": 0, \"ticks\": \"\"}}, \"type\": \"scatterternary\"}], \"surface\": [{\"colorbar\": {\"outlinewidth\": 0, \"ticks\": \"\"}, \"colorscale\": [[0.0, \"#0d0887\"], [0.1111111111111111, \"#46039f\"], [0.2222222222222222, \"#7201a8\"], [0.3333333333333333, \"#9c179e\"], [0.4444444444444444, \"#bd3786\"], [0.5555555555555556, \"#d8576b\"], [0.6666666666666666, \"#ed7953\"], [0.7777777777777778, \"#fb9f3a\"], [0.8888888888888888, \"#fdca26\"], [1.0, \"#f0f921\"]], \"type\": \"surface\"}], \"table\": [{\"cells\": {\"fill\": {\"color\": \"#EBF0F8\"}, \"line\": {\"color\": \"white\"}}, \"header\": {\"fill\": {\"color\": \"#C8D4E3\"}, \"line\": {\"color\": \"white\"}}, \"type\": \"table\"}]}, \"layout\": {\"annotationdefaults\": {\"arrowcolor\": \"#2a3f5f\", \"arrowhead\": 0, \"arrowwidth\": 1}, \"coloraxis\": {\"colorbar\": {\"outlinewidth\": 0, \"ticks\": \"\"}}, \"colorscale\": {\"diverging\": [[0, \"#8e0152\"], [0.1, \"#c51b7d\"], [0.2, \"#de77ae\"], [0.3, \"#f1b6da\"], [0.4, \"#fde0ef\"], [0.5, \"#f7f7f7\"], [0.6, \"#e6f5d0\"], [0.7, \"#b8e186\"], [0.8, \"#7fbc41\"], [0.9, \"#4d9221\"], [1, \"#276419\"]], \"sequential\": [[0.0, \"#0d0887\"], [0.1111111111111111, \"#46039f\"], [0.2222222222222222, \"#7201a8\"], [0.3333333333333333, \"#9c179e\"], [0.4444444444444444, \"#bd3786\"], [0.5555555555555556, \"#d8576b\"], [0.6666666666666666, \"#ed7953\"], [0.7777777777777778, \"#fb9f3a\"], [0.8888888888888888, \"#fdca26\"], [1.0, \"#f0f921\"]], \"sequentialminus\": [[0.0, \"#0d0887\"], [0.1111111111111111, \"#46039f\"], [0.2222222222222222, \"#7201a8\"], [0.3333333333333333, \"#9c179e\"], [0.4444444444444444, \"#bd3786\"], [0.5555555555555556, \"#d8576b\"], [0.6666666666666666, \"#ed7953\"], [0.7777777777777778, \"#fb9f3a\"], [0.8888888888888888, \"#fdca26\"], [1.0, \"#f0f921\"]]}, \"colorway\": [\"#636efa\", \"#EF553B\", \"#00cc96\", \"#ab63fa\", \"#FFA15A\", \"#19d3f3\", \"#FF6692\", \"#B6E880\", \"#FF97FF\", \"#FECB52\"], \"font\": {\"color\": \"#2a3f5f\"}, \"geo\": {\"bgcolor\": \"white\", \"lakecolor\": \"white\", \"landcolor\": \"#E5ECF6\", \"showlakes\": true, \"showland\": true, \"subunitcolor\": \"white\"}, \"hoverlabel\": {\"align\": \"left\"}, \"hovermode\": \"closest\", \"mapbox\": {\"style\": \"light\"}, \"paper_bgcolor\": \"white\", \"plot_bgcolor\": \"#E5ECF6\", \"polar\": {\"angularaxis\": {\"gridcolor\": \"white\", \"linecolor\": \"white\", \"ticks\": \"\"}, \"bgcolor\": \"#E5ECF6\", \"radialaxis\": {\"gridcolor\": \"white\", \"linecolor\": \"white\", \"ticks\": \"\"}}, \"scene\": {\"xaxis\": {\"backgroundcolor\": \"#E5ECF6\", \"gridcolor\": \"white\", \"gridwidth\": 2, \"linecolor\": \"white\", \"showbackground\": true, \"ticks\": \"\", \"zerolinecolor\": \"white\"}, \"yaxis\": {\"backgroundcolor\": \"#E5ECF6\", \"gridcolor\": \"white\", \"gridwidth\": 2, \"linecolor\": \"white\", \"showbackground\": true, \"ticks\": \"\", \"zerolinecolor\": \"white\"}, \"zaxis\": {\"backgroundcolor\": \"#E5ECF6\", \"gridcolor\": \"white\", \"gridwidth\": 2, \"linecolor\": \"white\", \"showbackground\": true, \"ticks\": \"\", \"zerolinecolor\": \"white\"}}, \"shapedefaults\": {\"line\": {\"color\": \"#2a3f5f\"}}, \"ternary\": {\"aaxis\": {\"gridcolor\": \"white\", \"linecolor\": \"white\", \"ticks\": \"\"}, \"baxis\": {\"gridcolor\": \"white\", \"linecolor\": \"white\", \"ticks\": \"\"}, \"bgcolor\": \"#E5ECF6\", \"caxis\": {\"gridcolor\": \"white\", \"linecolor\": \"white\", \"ticks\": \"\"}}, \"title\": {\"x\": 0.05}, \"xaxis\": {\"automargin\": true, \"gridcolor\": \"white\", \"linecolor\": \"white\", \"ticks\": \"\", \"title\": {\"standoff\": 15}, \"zerolinecolor\": \"white\", \"zerolinewidth\": 2}, \"yaxis\": {\"automargin\": true, \"gridcolor\": \"white\", \"linecolor\": \"white\", \"ticks\": \"\", \"title\": {\"standoff\": 15}, \"zerolinecolor\": \"white\", \"zerolinewidth\": 2}}}, \"xaxis\": {\"anchor\": \"y\", \"domain\": [0.0, 1.0], \"title\": {\"text\": \"Date-Seen\"}}, \"yaxis\": {\"anchor\": \"x\", \"domain\": [0.0, 1.0], \"title\": {\"text\": \"Price-Min\"}}},\n",
       "                        {\"responsive\": true}\n",
       "                    ).then(function(){\n",
       "                            \n",
       "var gd = document.getElementById('59ec4a34-bc56-408f-8e2b-68aa33b97b89');\n",
       "var x = new MutationObserver(function (mutations, observer) {{\n",
       "        var display = window.getComputedStyle(gd).display;\n",
       "        if (!display || display === 'none') {{\n",
       "            console.log([gd, 'removed!']);\n",
       "            Plotly.purge(gd);\n",
       "            observer.disconnect();\n",
       "        }}\n",
       "}});\n",
       "\n",
       "// Listen for the removal of the full notebook cells\n",
       "var notebookContainer = gd.closest('#notebook-container');\n",
       "if (notebookContainer) {{\n",
       "    x.observe(notebookContainer, {childList: true});\n",
       "}}\n",
       "\n",
       "// Listen for the clearing of the current output cell\n",
       "var outputEl = gd.closest('.output');\n",
       "if (outputEl) {{\n",
       "    x.observe(outputEl, {childList: true});\n",
       "}}\n",
       "\n",
       "                        })\n",
       "                };\n",
       "                });\n",
       "            </script>\n",
       "        </div>"
      ]
     },
     "metadata": {},
     "output_type": "display_data"
    },
    {
     "data": {
      "application/vnd.plotly.v1+json": {
       "config": {
        "plotlyServerURL": "https://plot.ly"
       },
       "data": [
        {
         "hovertemplate": "Name=Sony - 55 class - led - x800e series - 2160p - smart - 4k uhd tv with hdr\"<br>Date-Seen=%{x}<br>Price-Min=%{y}<extra></extra>",
         "legendgroup": "Sony - 55 class - led - x800e series - 2160p - smart - 4k uhd tv with hdr\"",
         "line": {
          "color": "#636efa",
          "dash": "solid"
         },
         "mode": "lines",
         "name": "Sony - 55 class - led - x800e series - 2160p - smart - 4k uhd tv with hdr\"",
         "orientation": "v",
         "showlegend": true,
         "type": "scatter",
         "x": [
          "2017-03-04T10:00:00",
          "2017-03-10T19:00:00",
          "2017-03-30T05:00:00",
          "2017-05-01T20:00:00",
          "2017-05-09T07:00:00",
          "2017-05-18T05:00:00",
          "2017-05-31T17:00:00",
          "2017-05-31T17:00:00",
          "2017-06-01T19:00:00",
          "2017-06-01T19:00:00",
          "2017-06-07T18:00:00",
          "2017-06-15T17:00:00",
          "2017-06-17T23:00:00",
          "2017-06-20T09:00:00",
          "2017-06-23T12:00:00",
          "2017-06-24T07:00:00",
          "2017-06-24T22:00:00",
          "2017-07-09T03:00:00",
          "2017-08-19T05:00:00",
          "2017-08-22T10:00:00",
          "2017-08-29T12:00:00",
          "2017-09-24T03:00:00",
          "2017-09-28T04:00:00",
          "2017-11-18T10:00:00",
          "2017-12-04T21:00:00",
          "2017-12-06T01:00:00",
          "2017-12-06T20:00:00",
          "2017-12-06T22:00:00",
          "2018-01-09T20:00:00",
          "2018-04-26T17:00:00",
          "2018-05-04T11:00:00"
         ],
         "xaxis": "x",
         "y": [
          1899.99,
          1899.99,
          1899.99,
          1199.99,
          1199.99,
          1199.99,
          1091.99,
          1199.99,
          1091.99,
          1199.99,
          1198,
          1098,
          1098,
          1098,
          1098,
          1098,
          1098,
          1295.2,
          1198,
          1198,
          1198,
          1198,
          1099,
          1198,
          1198,
          1896,
          1198,
          1198,
          1198,
          1198,
          1198
         ],
         "yaxis": "y"
        },
        {
         "hovertemplate": "Name=Samsung 55 class 4k (2160p) smart led tv (un55ku7000)\"<br>Date-Seen=%{x}<br>Price-Min=%{y}<extra></extra>",
         "legendgroup": "Samsung 55 class 4k (2160p) smart led tv (un55ku7000)\"",
         "line": {
          "color": "#EF553B",
          "dash": "solid"
         },
         "mode": "lines",
         "name": "Samsung 55 class 4k (2160p) smart led tv (un55ku7000)\"",
         "orientation": "v",
         "showlegend": true,
         "type": "scatter",
         "x": [
          "2017-03-04T10:00:00",
          "2017-07-25T23:00:00",
          "2017-07-26T01:00:00",
          "2017-08-14T14:00:00",
          "2017-10-24T01:00:00",
          "2017-11-08T20:00:00",
          "2017-12-06T01:00:00"
         ],
         "xaxis": "x",
         "y": [
          1199.99,
          1197.99,
          1197.99,
          1197.99,
          1197.99,
          1197.99,
          1197.99
         ],
         "yaxis": "y"
        },
        {
         "hovertemplate": "Name=Samsung - 55 class - led - curved - q7c series - 2160p - smart - 4k uhd tv with hdr\"<br>Date-Seen=%{x}<br>Price-Min=%{y}<extra></extra>",
         "legendgroup": "Samsung - 55 class - led - curved - q7c series - 2160p - smart - 4k uhd tv with hdr\"",
         "line": {
          "color": "#00cc96",
          "dash": "solid"
         },
         "mode": "lines",
         "name": "Samsung - 55 class - led - curved - q7c series - 2160p - smart - 4k uhd tv with hdr\"",
         "orientation": "v",
         "showlegend": true,
         "type": "scatter",
         "x": [
          "2017-07-15T12:00:00",
          "2017-07-16T06:00:00",
          "2017-07-17T19:00:00",
          "2017-07-18T08:00:00",
          "2017-07-21T02:00:00",
          "2017-07-22T07:00:00",
          "2017-07-24T14:00:00",
          "2017-07-25T17:00:00",
          "2017-07-25T18:00:00",
          "2017-07-25T23:00:00",
          "2017-07-26T15:00:00",
          "2017-07-26T18:00:00",
          "2017-07-26T20:00:00",
          "2017-07-27T11:00:00",
          "2017-07-27T21:00:00",
          "2017-08-01T03:00:00",
          "2017-08-22T19:00:00",
          "2017-09-08T03:00:00",
          "2017-10-24T22:00:00",
          "2017-10-24T22:00:00",
          "2017-10-24T22:00:00",
          "2017-10-28T17:00:00",
          "2017-10-28T17:00:00",
          "2017-10-28T18:00:00",
          "2017-11-08T20:00:00",
          "2017-11-08T20:00:00",
          "2017-11-08T20:00:00",
          "2017-11-16T19:00:00",
          "2017-11-16T22:00:00",
          "2017-11-16T22:00:00",
          "2017-12-05T10:00:00",
          "2017-12-06T01:00:00",
          "2017-12-06T01:00:00",
          "2017-12-07T06:00:00",
          "2017-12-07T23:00:00",
          "2017-12-08T01:00:00",
          "2017-12-08T10:00:00",
          "2018-01-09T20:00:00",
          "2018-01-27T10:00:00",
          "2018-01-27T10:00:00",
          "2018-03-09T18:00:00",
          "2018-03-09T18:00:00",
          "2018-04-26T17:00:00",
          "2018-04-26T17:00:00",
          "2018-04-26T17:00:00",
          "2018-05-24T11:00:00",
          "2018-05-24T11:00:00",
          "2018-05-26T07:00:00",
          "2018-05-27T16:00:00",
          "2018-05-27T16:00:00",
          "2018-05-28T10:00:00"
         ],
         "xaxis": "x",
         "y": [
          1998.95,
          1998.95,
          1998.95,
          1998.95,
          1998.95,
          1997.95,
          1997.95,
          1982.95,
          1972.95,
          1982.95,
          1759.99,
          1982.95,
          1900,
          1900,
          1898.95,
          1759.99,
          1755.95,
          1897.99,
          1997.99,
          1997.99,
          1599,
          1997.99,
          1599,
          1997.99,
          1797.99,
          1599,
          1797.99,
          1599,
          1797.99,
          1797.99,
          1797.99,
          1797.99,
          1599,
          1797.99,
          1797.99,
          1797.99,
          1599,
          1997.99,
          1697.99,
          1549.95,
          1797.99,
          1497.99,
          1797.99,
          1549.95,
          1797.99,
          1399.99,
          1978.01,
          1299.99,
          1978.01,
          1399.99,
          1399.99
         ],
         "yaxis": "y"
        },
        {
         "hovertemplate": "Name=X900f-series 55-class hdr uhd smart led tv<br>Date-Seen=%{x}<br>Price-Min=%{y}<extra></extra>",
         "legendgroup": "X900f-series 55-class hdr uhd smart led tv",
         "line": {
          "color": "#ab63fa",
          "dash": "solid"
         },
         "mode": "lines",
         "name": "X900f-series 55-class hdr uhd smart led tv",
         "orientation": "v",
         "showlegend": true,
         "type": "scatter",
         "x": [
          "2018-03-31T19:00:00",
          "2018-04-26T17:00:00",
          "2018-04-26T17:00:00",
          "2018-05-25T21:00:00",
          "2018-05-25T21:00:00",
          "2018-05-26T15:00:00",
          "2018-05-26T15:00:00",
          "2018-05-27T16:00:00",
          "2018-06-01T09:00:00",
          "2018-06-01T09:00:00",
          "2018-07-25T18:00:00"
         ],
         "xaxis": "x",
         "y": [
          1498,
          1498,
          1498,
          1499.99,
          1299.99,
          1299.99,
          1499.99,
          1298,
          1498,
          1298,
          1498
         ],
         "yaxis": "y"
        },
        {
         "hovertemplate": "Name=Samsung - 55 class - led - curved - mu6490 series - 2160p - smart - 4k ultra hd tv with hdr\"<br>Date-Seen=%{x}<br>Price-Min=%{y}<extra></extra>",
         "legendgroup": "Samsung - 55 class - led - curved - mu6490 series - 2160p - smart - 4k ultra hd tv with hdr\"",
         "line": {
          "color": "#FFA15A",
          "dash": "solid"
         },
         "mode": "lines",
         "name": "Samsung - 55 class - led - curved - mu6490 series - 2160p - smart - 4k ultra hd tv with hdr\"",
         "orientation": "v",
         "showlegend": true,
         "type": "scatter",
         "x": [
          "2018-03-31T19:00:00",
          "2018-04-26T17:00:00",
          "2018-05-24T11:00:00",
          "2018-05-27T16:00:00",
          "2018-05-28T11:00:00"
         ],
         "xaxis": "x",
         "y": [
          1197.99,
          1197.99,
          1097.99,
          1097.99,
          1097.99
         ],
         "yaxis": "y"
        },
        {
         "hovertemplate": "Name=Lg - 55 class - led - uj7700 series - 2160p - smart - 4k uhd tv with hdr\"<br>Date-Seen=%{x}<br>Price-Min=%{y}<extra></extra>",
         "legendgroup": "Lg - 55 class - led - uj7700 series - 2160p - smart - 4k uhd tv with hdr\"",
         "line": {
          "color": "#19d3f3",
          "dash": "solid"
         },
         "mode": "lines",
         "name": "Lg - 55 class - led - uj7700 series - 2160p - smart - 4k uhd tv with hdr\"",
         "orientation": "v",
         "showlegend": true,
         "type": "scatter",
         "x": [
          "2018-04-26T17:00:00",
          "2018-05-06T17:00:00"
         ],
         "xaxis": "x",
         "y": [
          1296.99,
          1296.99
         ],
         "yaxis": "y"
        },
        {
         "hovertemplate": "Name=Samsung - 55 class - led - q8f series - 2160p - smart - 4k uhd tv with hdr\"<br>Date-Seen=%{x}<br>Price-Min=%{y}<extra></extra>",
         "legendgroup": "Samsung - 55 class - led - q8f series - 2160p - smart - 4k uhd tv with hdr\"",
         "line": {
          "color": "#FF6692",
          "dash": "solid"
         },
         "mode": "lines",
         "name": "Samsung - 55 class - led - q8f series - 2160p - smart - 4k uhd tv with hdr\"",
         "orientation": "v",
         "showlegend": true,
         "type": "scatter",
         "x": [
          "2018-05-24T11:00:00",
          "2018-05-27T16:00:00",
          "2018-05-28T10:00:00",
          "2018-06-01T09:00:00"
         ],
         "xaxis": "x",
         "y": [
          1997.99,
          1997.99,
          1997.99,
          1997.99
         ],
         "yaxis": "y"
        }
       ],
       "layout": {
        "legend": {
         "title": {
          "text": "Name"
         },
         "tracegroupgap": 0
        },
        "margin": {
         "t": 60
        },
        "showlegend": false,
        "template": {
         "data": {
          "bar": [
           {
            "error_x": {
             "color": "#2a3f5f"
            },
            "error_y": {
             "color": "#2a3f5f"
            },
            "marker": {
             "line": {
              "color": "#E5ECF6",
              "width": 0.5
             }
            },
            "type": "bar"
           }
          ],
          "barpolar": [
           {
            "marker": {
             "line": {
              "color": "#E5ECF6",
              "width": 0.5
             }
            },
            "type": "barpolar"
           }
          ],
          "carpet": [
           {
            "aaxis": {
             "endlinecolor": "#2a3f5f",
             "gridcolor": "white",
             "linecolor": "white",
             "minorgridcolor": "white",
             "startlinecolor": "#2a3f5f"
            },
            "baxis": {
             "endlinecolor": "#2a3f5f",
             "gridcolor": "white",
             "linecolor": "white",
             "minorgridcolor": "white",
             "startlinecolor": "#2a3f5f"
            },
            "type": "carpet"
           }
          ],
          "choropleth": [
           {
            "colorbar": {
             "outlinewidth": 0,
             "ticks": ""
            },
            "type": "choropleth"
           }
          ],
          "contour": [
           {
            "colorbar": {
             "outlinewidth": 0,
             "ticks": ""
            },
            "colorscale": [
             [
              0,
              "#0d0887"
             ],
             [
              0.1111111111111111,
              "#46039f"
             ],
             [
              0.2222222222222222,
              "#7201a8"
             ],
             [
              0.3333333333333333,
              "#9c179e"
             ],
             [
              0.4444444444444444,
              "#bd3786"
             ],
             [
              0.5555555555555556,
              "#d8576b"
             ],
             [
              0.6666666666666666,
              "#ed7953"
             ],
             [
              0.7777777777777778,
              "#fb9f3a"
             ],
             [
              0.8888888888888888,
              "#fdca26"
             ],
             [
              1,
              "#f0f921"
             ]
            ],
            "type": "contour"
           }
          ],
          "contourcarpet": [
           {
            "colorbar": {
             "outlinewidth": 0,
             "ticks": ""
            },
            "type": "contourcarpet"
           }
          ],
          "heatmap": [
           {
            "colorbar": {
             "outlinewidth": 0,
             "ticks": ""
            },
            "colorscale": [
             [
              0,
              "#0d0887"
             ],
             [
              0.1111111111111111,
              "#46039f"
             ],
             [
              0.2222222222222222,
              "#7201a8"
             ],
             [
              0.3333333333333333,
              "#9c179e"
             ],
             [
              0.4444444444444444,
              "#bd3786"
             ],
             [
              0.5555555555555556,
              "#d8576b"
             ],
             [
              0.6666666666666666,
              "#ed7953"
             ],
             [
              0.7777777777777778,
              "#fb9f3a"
             ],
             [
              0.8888888888888888,
              "#fdca26"
             ],
             [
              1,
              "#f0f921"
             ]
            ],
            "type": "heatmap"
           }
          ],
          "heatmapgl": [
           {
            "colorbar": {
             "outlinewidth": 0,
             "ticks": ""
            },
            "colorscale": [
             [
              0,
              "#0d0887"
             ],
             [
              0.1111111111111111,
              "#46039f"
             ],
             [
              0.2222222222222222,
              "#7201a8"
             ],
             [
              0.3333333333333333,
              "#9c179e"
             ],
             [
              0.4444444444444444,
              "#bd3786"
             ],
             [
              0.5555555555555556,
              "#d8576b"
             ],
             [
              0.6666666666666666,
              "#ed7953"
             ],
             [
              0.7777777777777778,
              "#fb9f3a"
             ],
             [
              0.8888888888888888,
              "#fdca26"
             ],
             [
              1,
              "#f0f921"
             ]
            ],
            "type": "heatmapgl"
           }
          ],
          "histogram": [
           {
            "marker": {
             "colorbar": {
              "outlinewidth": 0,
              "ticks": ""
             }
            },
            "type": "histogram"
           }
          ],
          "histogram2d": [
           {
            "colorbar": {
             "outlinewidth": 0,
             "ticks": ""
            },
            "colorscale": [
             [
              0,
              "#0d0887"
             ],
             [
              0.1111111111111111,
              "#46039f"
             ],
             [
              0.2222222222222222,
              "#7201a8"
             ],
             [
              0.3333333333333333,
              "#9c179e"
             ],
             [
              0.4444444444444444,
              "#bd3786"
             ],
             [
              0.5555555555555556,
              "#d8576b"
             ],
             [
              0.6666666666666666,
              "#ed7953"
             ],
             [
              0.7777777777777778,
              "#fb9f3a"
             ],
             [
              0.8888888888888888,
              "#fdca26"
             ],
             [
              1,
              "#f0f921"
             ]
            ],
            "type": "histogram2d"
           }
          ],
          "histogram2dcontour": [
           {
            "colorbar": {
             "outlinewidth": 0,
             "ticks": ""
            },
            "colorscale": [
             [
              0,
              "#0d0887"
             ],
             [
              0.1111111111111111,
              "#46039f"
             ],
             [
              0.2222222222222222,
              "#7201a8"
             ],
             [
              0.3333333333333333,
              "#9c179e"
             ],
             [
              0.4444444444444444,
              "#bd3786"
             ],
             [
              0.5555555555555556,
              "#d8576b"
             ],
             [
              0.6666666666666666,
              "#ed7953"
             ],
             [
              0.7777777777777778,
              "#fb9f3a"
             ],
             [
              0.8888888888888888,
              "#fdca26"
             ],
             [
              1,
              "#f0f921"
             ]
            ],
            "type": "histogram2dcontour"
           }
          ],
          "mesh3d": [
           {
            "colorbar": {
             "outlinewidth": 0,
             "ticks": ""
            },
            "type": "mesh3d"
           }
          ],
          "parcoords": [
           {
            "line": {
             "colorbar": {
              "outlinewidth": 0,
              "ticks": ""
             }
            },
            "type": "parcoords"
           }
          ],
          "pie": [
           {
            "automargin": true,
            "type": "pie"
           }
          ],
          "scatter": [
           {
            "marker": {
             "colorbar": {
              "outlinewidth": 0,
              "ticks": ""
             }
            },
            "type": "scatter"
           }
          ],
          "scatter3d": [
           {
            "line": {
             "colorbar": {
              "outlinewidth": 0,
              "ticks": ""
             }
            },
            "marker": {
             "colorbar": {
              "outlinewidth": 0,
              "ticks": ""
             }
            },
            "type": "scatter3d"
           }
          ],
          "scattercarpet": [
           {
            "marker": {
             "colorbar": {
              "outlinewidth": 0,
              "ticks": ""
             }
            },
            "type": "scattercarpet"
           }
          ],
          "scattergeo": [
           {
            "marker": {
             "colorbar": {
              "outlinewidth": 0,
              "ticks": ""
             }
            },
            "type": "scattergeo"
           }
          ],
          "scattergl": [
           {
            "marker": {
             "colorbar": {
              "outlinewidth": 0,
              "ticks": ""
             }
            },
            "type": "scattergl"
           }
          ],
          "scattermapbox": [
           {
            "marker": {
             "colorbar": {
              "outlinewidth": 0,
              "ticks": ""
             }
            },
            "type": "scattermapbox"
           }
          ],
          "scatterpolar": [
           {
            "marker": {
             "colorbar": {
              "outlinewidth": 0,
              "ticks": ""
             }
            },
            "type": "scatterpolar"
           }
          ],
          "scatterpolargl": [
           {
            "marker": {
             "colorbar": {
              "outlinewidth": 0,
              "ticks": ""
             }
            },
            "type": "scatterpolargl"
           }
          ],
          "scatterternary": [
           {
            "marker": {
             "colorbar": {
              "outlinewidth": 0,
              "ticks": ""
             }
            },
            "type": "scatterternary"
           }
          ],
          "surface": [
           {
            "colorbar": {
             "outlinewidth": 0,
             "ticks": ""
            },
            "colorscale": [
             [
              0,
              "#0d0887"
             ],
             [
              0.1111111111111111,
              "#46039f"
             ],
             [
              0.2222222222222222,
              "#7201a8"
             ],
             [
              0.3333333333333333,
              "#9c179e"
             ],
             [
              0.4444444444444444,
              "#bd3786"
             ],
             [
              0.5555555555555556,
              "#d8576b"
             ],
             [
              0.6666666666666666,
              "#ed7953"
             ],
             [
              0.7777777777777778,
              "#fb9f3a"
             ],
             [
              0.8888888888888888,
              "#fdca26"
             ],
             [
              1,
              "#f0f921"
             ]
            ],
            "type": "surface"
           }
          ],
          "table": [
           {
            "cells": {
             "fill": {
              "color": "#EBF0F8"
             },
             "line": {
              "color": "white"
             }
            },
            "header": {
             "fill": {
              "color": "#C8D4E3"
             },
             "line": {
              "color": "white"
             }
            },
            "type": "table"
           }
          ]
         },
         "layout": {
          "annotationdefaults": {
           "arrowcolor": "#2a3f5f",
           "arrowhead": 0,
           "arrowwidth": 1
          },
          "coloraxis": {
           "colorbar": {
            "outlinewidth": 0,
            "ticks": ""
           }
          },
          "colorscale": {
           "diverging": [
            [
             0,
             "#8e0152"
            ],
            [
             0.1,
             "#c51b7d"
            ],
            [
             0.2,
             "#de77ae"
            ],
            [
             0.3,
             "#f1b6da"
            ],
            [
             0.4,
             "#fde0ef"
            ],
            [
             0.5,
             "#f7f7f7"
            ],
            [
             0.6,
             "#e6f5d0"
            ],
            [
             0.7,
             "#b8e186"
            ],
            [
             0.8,
             "#7fbc41"
            ],
            [
             0.9,
             "#4d9221"
            ],
            [
             1,
             "#276419"
            ]
           ],
           "sequential": [
            [
             0,
             "#0d0887"
            ],
            [
             0.1111111111111111,
             "#46039f"
            ],
            [
             0.2222222222222222,
             "#7201a8"
            ],
            [
             0.3333333333333333,
             "#9c179e"
            ],
            [
             0.4444444444444444,
             "#bd3786"
            ],
            [
             0.5555555555555556,
             "#d8576b"
            ],
            [
             0.6666666666666666,
             "#ed7953"
            ],
            [
             0.7777777777777778,
             "#fb9f3a"
            ],
            [
             0.8888888888888888,
             "#fdca26"
            ],
            [
             1,
             "#f0f921"
            ]
           ],
           "sequentialminus": [
            [
             0,
             "#0d0887"
            ],
            [
             0.1111111111111111,
             "#46039f"
            ],
            [
             0.2222222222222222,
             "#7201a8"
            ],
            [
             0.3333333333333333,
             "#9c179e"
            ],
            [
             0.4444444444444444,
             "#bd3786"
            ],
            [
             0.5555555555555556,
             "#d8576b"
            ],
            [
             0.6666666666666666,
             "#ed7953"
            ],
            [
             0.7777777777777778,
             "#fb9f3a"
            ],
            [
             0.8888888888888888,
             "#fdca26"
            ],
            [
             1,
             "#f0f921"
            ]
           ]
          },
          "colorway": [
           "#636efa",
           "#EF553B",
           "#00cc96",
           "#ab63fa",
           "#FFA15A",
           "#19d3f3",
           "#FF6692",
           "#B6E880",
           "#FF97FF",
           "#FECB52"
          ],
          "font": {
           "color": "#2a3f5f"
          },
          "geo": {
           "bgcolor": "white",
           "lakecolor": "white",
           "landcolor": "#E5ECF6",
           "showlakes": true,
           "showland": true,
           "subunitcolor": "white"
          },
          "hoverlabel": {
           "align": "left"
          },
          "hovermode": "closest",
          "mapbox": {
           "style": "light"
          },
          "paper_bgcolor": "white",
          "plot_bgcolor": "#E5ECF6",
          "polar": {
           "angularaxis": {
            "gridcolor": "white",
            "linecolor": "white",
            "ticks": ""
           },
           "bgcolor": "#E5ECF6",
           "radialaxis": {
            "gridcolor": "white",
            "linecolor": "white",
            "ticks": ""
           }
          },
          "scene": {
           "xaxis": {
            "backgroundcolor": "#E5ECF6",
            "gridcolor": "white",
            "gridwidth": 2,
            "linecolor": "white",
            "showbackground": true,
            "ticks": "",
            "zerolinecolor": "white"
           },
           "yaxis": {
            "backgroundcolor": "#E5ECF6",
            "gridcolor": "white",
            "gridwidth": 2,
            "linecolor": "white",
            "showbackground": true,
            "ticks": "",
            "zerolinecolor": "white"
           },
           "zaxis": {
            "backgroundcolor": "#E5ECF6",
            "gridcolor": "white",
            "gridwidth": 2,
            "linecolor": "white",
            "showbackground": true,
            "ticks": "",
            "zerolinecolor": "white"
           }
          },
          "shapedefaults": {
           "line": {
            "color": "#2a3f5f"
           }
          },
          "ternary": {
           "aaxis": {
            "gridcolor": "white",
            "linecolor": "white",
            "ticks": ""
           },
           "baxis": {
            "gridcolor": "white",
            "linecolor": "white",
            "ticks": ""
           },
           "bgcolor": "#E5ECF6",
           "caxis": {
            "gridcolor": "white",
            "linecolor": "white",
            "ticks": ""
           }
          },
          "title": {
           "x": 0.05
          },
          "xaxis": {
           "automargin": true,
           "gridcolor": "white",
           "linecolor": "white",
           "ticks": "",
           "title": {
            "standoff": 15
           },
           "zerolinecolor": "white",
           "zerolinewidth": 2
          },
          "yaxis": {
           "automargin": true,
           "gridcolor": "white",
           "linecolor": "white",
           "ticks": "",
           "title": {
            "standoff": 15
           },
           "zerolinecolor": "white",
           "zerolinewidth": 2
          }
         }
        },
        "xaxis": {
         "anchor": "y",
         "domain": [
          0,
          1
         ],
         "title": {
          "text": "Date-Seen"
         }
        },
        "yaxis": {
         "anchor": "x",
         "domain": [
          0,
          1
         ],
         "title": {
          "text": "Price-Min"
         }
        }
       }
      },
      "text/html": [
       "<div>\n",
       "        \n",
       "        \n",
       "            <div id=\"00c4d4fd-9567-42ab-a82c-10f6f4005587\" class=\"plotly-graph-div\" style=\"height:525px; width:100%;\"></div>\n",
       "            <script type=\"text/javascript\">\n",
       "                require([\"plotly\"], function(Plotly) {\n",
       "                    window.PLOTLYENV=window.PLOTLYENV || {};\n",
       "                    \n",
       "                if (document.getElementById(\"00c4d4fd-9567-42ab-a82c-10f6f4005587\")) {\n",
       "                    Plotly.newPlot(\n",
       "                        '00c4d4fd-9567-42ab-a82c-10f6f4005587',\n",
       "                        [{\"hovertemplate\": \"Name=Sony - 55 class - led - x800e series - 2160p - smart - 4k uhd tv with hdr\\\"<br>Date-Seen=%{x}<br>Price-Min=%{y}<extra></extra>\", \"legendgroup\": \"Sony - 55 class - led - x800e series - 2160p - smart - 4k uhd tv with hdr\\\"\", \"line\": {\"color\": \"#636efa\", \"dash\": \"solid\"}, \"mode\": \"lines\", \"name\": \"Sony - 55 class - led - x800e series - 2160p - smart - 4k uhd tv with hdr\\\"\", \"orientation\": \"v\", \"showlegend\": true, \"type\": \"scatter\", \"x\": [\"2017-03-04T10:00:00\", \"2017-03-10T19:00:00\", \"2017-03-30T05:00:00\", \"2017-05-01T20:00:00\", \"2017-05-09T07:00:00\", \"2017-05-18T05:00:00\", \"2017-05-31T17:00:00\", \"2017-05-31T17:00:00\", \"2017-06-01T19:00:00\", \"2017-06-01T19:00:00\", \"2017-06-07T18:00:00\", \"2017-06-15T17:00:00\", \"2017-06-17T23:00:00\", \"2017-06-20T09:00:00\", \"2017-06-23T12:00:00\", \"2017-06-24T07:00:00\", \"2017-06-24T22:00:00\", \"2017-07-09T03:00:00\", \"2017-08-19T05:00:00\", \"2017-08-22T10:00:00\", \"2017-08-29T12:00:00\", \"2017-09-24T03:00:00\", \"2017-09-28T04:00:00\", \"2017-11-18T10:00:00\", \"2017-12-04T21:00:00\", \"2017-12-06T01:00:00\", \"2017-12-06T20:00:00\", \"2017-12-06T22:00:00\", \"2018-01-09T20:00:00\", \"2018-04-26T17:00:00\", \"2018-05-04T11:00:00\"], \"xaxis\": \"x\", \"y\": [1899.99, 1899.99, 1899.99, 1199.99, 1199.99, 1199.99, 1091.99, 1199.99, 1091.99, 1199.99, 1198.0, 1098.0, 1098.0, 1098.0, 1098.0, 1098.0, 1098.0, 1295.2, 1198.0, 1198.0, 1198.0, 1198.0, 1099.0, 1198.0, 1198.0, 1896.0, 1198.0, 1198.0, 1198.0, 1198.0, 1198.0], \"yaxis\": \"y\"}, {\"hovertemplate\": \"Name=Samsung 55 class 4k (2160p) smart led tv (un55ku7000)\\\"<br>Date-Seen=%{x}<br>Price-Min=%{y}<extra></extra>\", \"legendgroup\": \"Samsung 55 class 4k (2160p) smart led tv (un55ku7000)\\\"\", \"line\": {\"color\": \"#EF553B\", \"dash\": \"solid\"}, \"mode\": \"lines\", \"name\": \"Samsung 55 class 4k (2160p) smart led tv (un55ku7000)\\\"\", \"orientation\": \"v\", \"showlegend\": true, \"type\": \"scatter\", \"x\": [\"2017-03-04T10:00:00\", \"2017-07-25T23:00:00\", \"2017-07-26T01:00:00\", \"2017-08-14T14:00:00\", \"2017-10-24T01:00:00\", \"2017-11-08T20:00:00\", \"2017-12-06T01:00:00\"], \"xaxis\": \"x\", \"y\": [1199.99, 1197.99, 1197.99, 1197.99, 1197.99, 1197.99, 1197.99], \"yaxis\": \"y\"}, {\"hovertemplate\": \"Name=Samsung - 55 class - led - curved - q7c series - 2160p - smart - 4k uhd tv with hdr\\\"<br>Date-Seen=%{x}<br>Price-Min=%{y}<extra></extra>\", \"legendgroup\": \"Samsung - 55 class - led - curved - q7c series - 2160p - smart - 4k uhd tv with hdr\\\"\", \"line\": {\"color\": \"#00cc96\", \"dash\": \"solid\"}, \"mode\": \"lines\", \"name\": \"Samsung - 55 class - led - curved - q7c series - 2160p - smart - 4k uhd tv with hdr\\\"\", \"orientation\": \"v\", \"showlegend\": true, \"type\": \"scatter\", \"x\": [\"2017-07-15T12:00:00\", \"2017-07-16T06:00:00\", \"2017-07-17T19:00:00\", \"2017-07-18T08:00:00\", \"2017-07-21T02:00:00\", \"2017-07-22T07:00:00\", \"2017-07-24T14:00:00\", \"2017-07-25T17:00:00\", \"2017-07-25T18:00:00\", \"2017-07-25T23:00:00\", \"2017-07-26T15:00:00\", \"2017-07-26T18:00:00\", \"2017-07-26T20:00:00\", \"2017-07-27T11:00:00\", \"2017-07-27T21:00:00\", \"2017-08-01T03:00:00\", \"2017-08-22T19:00:00\", \"2017-09-08T03:00:00\", \"2017-10-24T22:00:00\", \"2017-10-24T22:00:00\", \"2017-10-24T22:00:00\", \"2017-10-28T17:00:00\", \"2017-10-28T17:00:00\", \"2017-10-28T18:00:00\", \"2017-11-08T20:00:00\", \"2017-11-08T20:00:00\", \"2017-11-08T20:00:00\", \"2017-11-16T19:00:00\", \"2017-11-16T22:00:00\", \"2017-11-16T22:00:00\", \"2017-12-05T10:00:00\", \"2017-12-06T01:00:00\", \"2017-12-06T01:00:00\", \"2017-12-07T06:00:00\", \"2017-12-07T23:00:00\", \"2017-12-08T01:00:00\", \"2017-12-08T10:00:00\", \"2018-01-09T20:00:00\", \"2018-01-27T10:00:00\", \"2018-01-27T10:00:00\", \"2018-03-09T18:00:00\", \"2018-03-09T18:00:00\", \"2018-04-26T17:00:00\", \"2018-04-26T17:00:00\", \"2018-04-26T17:00:00\", \"2018-05-24T11:00:00\", \"2018-05-24T11:00:00\", \"2018-05-26T07:00:00\", \"2018-05-27T16:00:00\", \"2018-05-27T16:00:00\", \"2018-05-28T10:00:00\"], \"xaxis\": \"x\", \"y\": [1998.95, 1998.95, 1998.95, 1998.95, 1998.95, 1997.95, 1997.95, 1982.95, 1972.95, 1982.95, 1759.99, 1982.95, 1900.0, 1900.0, 1898.95, 1759.99, 1755.95, 1897.99, 1997.99, 1997.99, 1599.0, 1997.99, 1599.0, 1997.99, 1797.99, 1599.0, 1797.99, 1599.0, 1797.99, 1797.99, 1797.99, 1797.99, 1599.0, 1797.99, 1797.99, 1797.99, 1599.0, 1997.99, 1697.99, 1549.95, 1797.99, 1497.99, 1797.99, 1549.95, 1797.99, 1399.99, 1978.01, 1299.99, 1978.01, 1399.99, 1399.99], \"yaxis\": \"y\"}, {\"hovertemplate\": \"Name=X900f-series 55-class hdr uhd smart led tv<br>Date-Seen=%{x}<br>Price-Min=%{y}<extra></extra>\", \"legendgroup\": \"X900f-series 55-class hdr uhd smart led tv\", \"line\": {\"color\": \"#ab63fa\", \"dash\": \"solid\"}, \"mode\": \"lines\", \"name\": \"X900f-series 55-class hdr uhd smart led tv\", \"orientation\": \"v\", \"showlegend\": true, \"type\": \"scatter\", \"x\": [\"2018-03-31T19:00:00\", \"2018-04-26T17:00:00\", \"2018-04-26T17:00:00\", \"2018-05-25T21:00:00\", \"2018-05-25T21:00:00\", \"2018-05-26T15:00:00\", \"2018-05-26T15:00:00\", \"2018-05-27T16:00:00\", \"2018-06-01T09:00:00\", \"2018-06-01T09:00:00\", \"2018-07-25T18:00:00\"], \"xaxis\": \"x\", \"y\": [1498.0, 1498.0, 1498.0, 1499.99, 1299.99, 1299.99, 1499.99, 1298.0, 1498.0, 1298.0, 1498.0], \"yaxis\": \"y\"}, {\"hovertemplate\": \"Name=Samsung - 55 class - led - curved - mu6490 series - 2160p - smart - 4k ultra hd tv with hdr\\\"<br>Date-Seen=%{x}<br>Price-Min=%{y}<extra></extra>\", \"legendgroup\": \"Samsung - 55 class - led - curved - mu6490 series - 2160p - smart - 4k ultra hd tv with hdr\\\"\", \"line\": {\"color\": \"#FFA15A\", \"dash\": \"solid\"}, \"mode\": \"lines\", \"name\": \"Samsung - 55 class - led - curved - mu6490 series - 2160p - smart - 4k ultra hd tv with hdr\\\"\", \"orientation\": \"v\", \"showlegend\": true, \"type\": \"scatter\", \"x\": [\"2018-03-31T19:00:00\", \"2018-04-26T17:00:00\", \"2018-05-24T11:00:00\", \"2018-05-27T16:00:00\", \"2018-05-28T11:00:00\"], \"xaxis\": \"x\", \"y\": [1197.99, 1197.99, 1097.99, 1097.99, 1097.99], \"yaxis\": \"y\"}, {\"hovertemplate\": \"Name=Lg - 55 class - led - uj7700 series - 2160p - smart - 4k uhd tv with hdr\\\"<br>Date-Seen=%{x}<br>Price-Min=%{y}<extra></extra>\", \"legendgroup\": \"Lg - 55 class - led - uj7700 series - 2160p - smart - 4k uhd tv with hdr\\\"\", \"line\": {\"color\": \"#19d3f3\", \"dash\": \"solid\"}, \"mode\": \"lines\", \"name\": \"Lg - 55 class - led - uj7700 series - 2160p - smart - 4k uhd tv with hdr\\\"\", \"orientation\": \"v\", \"showlegend\": true, \"type\": \"scatter\", \"x\": [\"2018-04-26T17:00:00\", \"2018-05-06T17:00:00\"], \"xaxis\": \"x\", \"y\": [1296.99, 1296.99], \"yaxis\": \"y\"}, {\"hovertemplate\": \"Name=Samsung - 55 class - led - q8f series - 2160p - smart - 4k uhd tv with hdr\\\"<br>Date-Seen=%{x}<br>Price-Min=%{y}<extra></extra>\", \"legendgroup\": \"Samsung - 55 class - led - q8f series - 2160p - smart - 4k uhd tv with hdr\\\"\", \"line\": {\"color\": \"#FF6692\", \"dash\": \"solid\"}, \"mode\": \"lines\", \"name\": \"Samsung - 55 class - led - q8f series - 2160p - smart - 4k uhd tv with hdr\\\"\", \"orientation\": \"v\", \"showlegend\": true, \"type\": \"scatter\", \"x\": [\"2018-05-24T11:00:00\", \"2018-05-27T16:00:00\", \"2018-05-28T10:00:00\", \"2018-06-01T09:00:00\"], \"xaxis\": \"x\", \"y\": [1997.99, 1997.99, 1997.99, 1997.99], \"yaxis\": \"y\"}],\n",
       "                        {\"legend\": {\"title\": {\"text\": \"Name\"}, \"tracegroupgap\": 0}, \"margin\": {\"t\": 60}, \"showlegend\": false, \"template\": {\"data\": {\"bar\": [{\"error_x\": {\"color\": \"#2a3f5f\"}, \"error_y\": {\"color\": \"#2a3f5f\"}, \"marker\": {\"line\": {\"color\": \"#E5ECF6\", \"width\": 0.5}}, \"type\": \"bar\"}], \"barpolar\": [{\"marker\": {\"line\": {\"color\": \"#E5ECF6\", \"width\": 0.5}}, \"type\": \"barpolar\"}], \"carpet\": [{\"aaxis\": {\"endlinecolor\": \"#2a3f5f\", \"gridcolor\": \"white\", \"linecolor\": \"white\", \"minorgridcolor\": \"white\", \"startlinecolor\": \"#2a3f5f\"}, \"baxis\": {\"endlinecolor\": \"#2a3f5f\", \"gridcolor\": \"white\", \"linecolor\": \"white\", \"minorgridcolor\": \"white\", \"startlinecolor\": \"#2a3f5f\"}, \"type\": \"carpet\"}], \"choropleth\": [{\"colorbar\": {\"outlinewidth\": 0, \"ticks\": \"\"}, \"type\": \"choropleth\"}], \"contour\": [{\"colorbar\": {\"outlinewidth\": 0, \"ticks\": \"\"}, \"colorscale\": [[0.0, \"#0d0887\"], [0.1111111111111111, \"#46039f\"], [0.2222222222222222, \"#7201a8\"], [0.3333333333333333, \"#9c179e\"], [0.4444444444444444, \"#bd3786\"], [0.5555555555555556, \"#d8576b\"], [0.6666666666666666, \"#ed7953\"], [0.7777777777777778, \"#fb9f3a\"], [0.8888888888888888, \"#fdca26\"], [1.0, \"#f0f921\"]], \"type\": \"contour\"}], \"contourcarpet\": [{\"colorbar\": {\"outlinewidth\": 0, \"ticks\": \"\"}, \"type\": \"contourcarpet\"}], \"heatmap\": [{\"colorbar\": {\"outlinewidth\": 0, \"ticks\": \"\"}, \"colorscale\": [[0.0, \"#0d0887\"], [0.1111111111111111, \"#46039f\"], [0.2222222222222222, \"#7201a8\"], [0.3333333333333333, \"#9c179e\"], [0.4444444444444444, \"#bd3786\"], [0.5555555555555556, \"#d8576b\"], [0.6666666666666666, \"#ed7953\"], [0.7777777777777778, \"#fb9f3a\"], [0.8888888888888888, \"#fdca26\"], [1.0, \"#f0f921\"]], \"type\": \"heatmap\"}], \"heatmapgl\": [{\"colorbar\": {\"outlinewidth\": 0, \"ticks\": \"\"}, \"colorscale\": [[0.0, \"#0d0887\"], [0.1111111111111111, \"#46039f\"], [0.2222222222222222, \"#7201a8\"], [0.3333333333333333, \"#9c179e\"], [0.4444444444444444, \"#bd3786\"], [0.5555555555555556, \"#d8576b\"], [0.6666666666666666, \"#ed7953\"], [0.7777777777777778, \"#fb9f3a\"], [0.8888888888888888, \"#fdca26\"], [1.0, \"#f0f921\"]], \"type\": \"heatmapgl\"}], \"histogram\": [{\"marker\": {\"colorbar\": {\"outlinewidth\": 0, \"ticks\": \"\"}}, \"type\": \"histogram\"}], \"histogram2d\": [{\"colorbar\": {\"outlinewidth\": 0, \"ticks\": \"\"}, \"colorscale\": [[0.0, \"#0d0887\"], [0.1111111111111111, \"#46039f\"], [0.2222222222222222, \"#7201a8\"], [0.3333333333333333, \"#9c179e\"], [0.4444444444444444, \"#bd3786\"], [0.5555555555555556, \"#d8576b\"], [0.6666666666666666, \"#ed7953\"], [0.7777777777777778, \"#fb9f3a\"], [0.8888888888888888, \"#fdca26\"], [1.0, \"#f0f921\"]], \"type\": \"histogram2d\"}], \"histogram2dcontour\": [{\"colorbar\": {\"outlinewidth\": 0, \"ticks\": \"\"}, \"colorscale\": [[0.0, \"#0d0887\"], [0.1111111111111111, \"#46039f\"], [0.2222222222222222, \"#7201a8\"], [0.3333333333333333, \"#9c179e\"], [0.4444444444444444, \"#bd3786\"], [0.5555555555555556, \"#d8576b\"], [0.6666666666666666, \"#ed7953\"], [0.7777777777777778, \"#fb9f3a\"], [0.8888888888888888, \"#fdca26\"], [1.0, \"#f0f921\"]], \"type\": \"histogram2dcontour\"}], \"mesh3d\": [{\"colorbar\": {\"outlinewidth\": 0, \"ticks\": \"\"}, \"type\": \"mesh3d\"}], \"parcoords\": [{\"line\": {\"colorbar\": {\"outlinewidth\": 0, \"ticks\": \"\"}}, \"type\": \"parcoords\"}], \"pie\": [{\"automargin\": true, \"type\": \"pie\"}], \"scatter\": [{\"marker\": {\"colorbar\": {\"outlinewidth\": 0, \"ticks\": \"\"}}, \"type\": \"scatter\"}], \"scatter3d\": [{\"line\": {\"colorbar\": {\"outlinewidth\": 0, \"ticks\": \"\"}}, \"marker\": {\"colorbar\": {\"outlinewidth\": 0, \"ticks\": \"\"}}, \"type\": \"scatter3d\"}], \"scattercarpet\": [{\"marker\": {\"colorbar\": {\"outlinewidth\": 0, \"ticks\": \"\"}}, \"type\": \"scattercarpet\"}], \"scattergeo\": [{\"marker\": {\"colorbar\": {\"outlinewidth\": 0, \"ticks\": \"\"}}, \"type\": \"scattergeo\"}], \"scattergl\": [{\"marker\": {\"colorbar\": {\"outlinewidth\": 0, \"ticks\": \"\"}}, \"type\": \"scattergl\"}], \"scattermapbox\": [{\"marker\": {\"colorbar\": {\"outlinewidth\": 0, \"ticks\": \"\"}}, \"type\": \"scattermapbox\"}], \"scatterpolar\": [{\"marker\": {\"colorbar\": {\"outlinewidth\": 0, \"ticks\": \"\"}}, \"type\": \"scatterpolar\"}], \"scatterpolargl\": [{\"marker\": {\"colorbar\": {\"outlinewidth\": 0, \"ticks\": \"\"}}, \"type\": \"scatterpolargl\"}], \"scatterternary\": [{\"marker\": {\"colorbar\": {\"outlinewidth\": 0, \"ticks\": \"\"}}, \"type\": \"scatterternary\"}], \"surface\": [{\"colorbar\": {\"outlinewidth\": 0, \"ticks\": \"\"}, \"colorscale\": [[0.0, \"#0d0887\"], [0.1111111111111111, \"#46039f\"], [0.2222222222222222, \"#7201a8\"], [0.3333333333333333, \"#9c179e\"], [0.4444444444444444, \"#bd3786\"], [0.5555555555555556, \"#d8576b\"], [0.6666666666666666, \"#ed7953\"], [0.7777777777777778, \"#fb9f3a\"], [0.8888888888888888, \"#fdca26\"], [1.0, \"#f0f921\"]], \"type\": \"surface\"}], \"table\": [{\"cells\": {\"fill\": {\"color\": \"#EBF0F8\"}, \"line\": {\"color\": \"white\"}}, \"header\": {\"fill\": {\"color\": \"#C8D4E3\"}, \"line\": {\"color\": \"white\"}}, \"type\": \"table\"}]}, \"layout\": {\"annotationdefaults\": {\"arrowcolor\": \"#2a3f5f\", \"arrowhead\": 0, \"arrowwidth\": 1}, \"coloraxis\": {\"colorbar\": {\"outlinewidth\": 0, \"ticks\": \"\"}}, \"colorscale\": {\"diverging\": [[0, \"#8e0152\"], [0.1, \"#c51b7d\"], [0.2, \"#de77ae\"], [0.3, \"#f1b6da\"], [0.4, \"#fde0ef\"], [0.5, \"#f7f7f7\"], [0.6, \"#e6f5d0\"], [0.7, \"#b8e186\"], [0.8, \"#7fbc41\"], [0.9, \"#4d9221\"], [1, \"#276419\"]], \"sequential\": [[0.0, \"#0d0887\"], [0.1111111111111111, \"#46039f\"], [0.2222222222222222, \"#7201a8\"], [0.3333333333333333, \"#9c179e\"], [0.4444444444444444, \"#bd3786\"], [0.5555555555555556, \"#d8576b\"], [0.6666666666666666, \"#ed7953\"], [0.7777777777777778, \"#fb9f3a\"], [0.8888888888888888, \"#fdca26\"], [1.0, \"#f0f921\"]], \"sequentialminus\": [[0.0, \"#0d0887\"], [0.1111111111111111, \"#46039f\"], [0.2222222222222222, \"#7201a8\"], [0.3333333333333333, \"#9c179e\"], [0.4444444444444444, \"#bd3786\"], [0.5555555555555556, \"#d8576b\"], [0.6666666666666666, \"#ed7953\"], [0.7777777777777778, \"#fb9f3a\"], [0.8888888888888888, \"#fdca26\"], [1.0, \"#f0f921\"]]}, \"colorway\": [\"#636efa\", \"#EF553B\", \"#00cc96\", \"#ab63fa\", \"#FFA15A\", \"#19d3f3\", \"#FF6692\", \"#B6E880\", \"#FF97FF\", \"#FECB52\"], \"font\": {\"color\": \"#2a3f5f\"}, \"geo\": {\"bgcolor\": \"white\", \"lakecolor\": \"white\", \"landcolor\": \"#E5ECF6\", \"showlakes\": true, \"showland\": true, \"subunitcolor\": \"white\"}, \"hoverlabel\": {\"align\": \"left\"}, \"hovermode\": \"closest\", \"mapbox\": {\"style\": \"light\"}, \"paper_bgcolor\": \"white\", \"plot_bgcolor\": \"#E5ECF6\", \"polar\": {\"angularaxis\": {\"gridcolor\": \"white\", \"linecolor\": \"white\", \"ticks\": \"\"}, \"bgcolor\": \"#E5ECF6\", \"radialaxis\": {\"gridcolor\": \"white\", \"linecolor\": \"white\", \"ticks\": \"\"}}, \"scene\": {\"xaxis\": {\"backgroundcolor\": \"#E5ECF6\", \"gridcolor\": \"white\", \"gridwidth\": 2, \"linecolor\": \"white\", \"showbackground\": true, \"ticks\": \"\", \"zerolinecolor\": \"white\"}, \"yaxis\": {\"backgroundcolor\": \"#E5ECF6\", \"gridcolor\": \"white\", \"gridwidth\": 2, \"linecolor\": \"white\", \"showbackground\": true, \"ticks\": \"\", \"zerolinecolor\": \"white\"}, \"zaxis\": {\"backgroundcolor\": \"#E5ECF6\", \"gridcolor\": \"white\", \"gridwidth\": 2, \"linecolor\": \"white\", \"showbackground\": true, \"ticks\": \"\", \"zerolinecolor\": \"white\"}}, \"shapedefaults\": {\"line\": {\"color\": \"#2a3f5f\"}}, \"ternary\": {\"aaxis\": {\"gridcolor\": \"white\", \"linecolor\": \"white\", \"ticks\": \"\"}, \"baxis\": {\"gridcolor\": \"white\", \"linecolor\": \"white\", \"ticks\": \"\"}, \"bgcolor\": \"#E5ECF6\", \"caxis\": {\"gridcolor\": \"white\", \"linecolor\": \"white\", \"ticks\": \"\"}}, \"title\": {\"x\": 0.05}, \"xaxis\": {\"automargin\": true, \"gridcolor\": \"white\", \"linecolor\": \"white\", \"ticks\": \"\", \"title\": {\"standoff\": 15}, \"zerolinecolor\": \"white\", \"zerolinewidth\": 2}, \"yaxis\": {\"automargin\": true, \"gridcolor\": \"white\", \"linecolor\": \"white\", \"ticks\": \"\", \"title\": {\"standoff\": 15}, \"zerolinecolor\": \"white\", \"zerolinewidth\": 2}}}, \"xaxis\": {\"anchor\": \"y\", \"domain\": [0.0, 1.0], \"title\": {\"text\": \"Date-Seen\"}}, \"yaxis\": {\"anchor\": \"x\", \"domain\": [0.0, 1.0], \"title\": {\"text\": \"Price-Min\"}}},\n",
       "                        {\"responsive\": true}\n",
       "                    ).then(function(){\n",
       "                            \n",
       "var gd = document.getElementById('00c4d4fd-9567-42ab-a82c-10f6f4005587');\n",
       "var x = new MutationObserver(function (mutations, observer) {{\n",
       "        var display = window.getComputedStyle(gd).display;\n",
       "        if (!display || display === 'none') {{\n",
       "            console.log([gd, 'removed!']);\n",
       "            Plotly.purge(gd);\n",
       "            observer.disconnect();\n",
       "        }}\n",
       "}});\n",
       "\n",
       "// Listen for the removal of the full notebook cells\n",
       "var notebookContainer = gd.closest('#notebook-container');\n",
       "if (notebookContainer) {{\n",
       "    x.observe(notebookContainer, {childList: true});\n",
       "}}\n",
       "\n",
       "// Listen for the clearing of the current output cell\n",
       "var outputEl = gd.closest('.output');\n",
       "if (outputEl) {{\n",
       "    x.observe(outputEl, {childList: true});\n",
       "}}\n",
       "\n",
       "                        })\n",
       "                };\n",
       "                });\n",
       "            </script>\n",
       "        </div>"
      ]
     },
     "metadata": {},
     "output_type": "display_data"
    },
    {
     "data": {
      "application/vnd.plotly.v1+json": {
       "config": {
        "plotlyServerURL": "https://plot.ly"
       },
       "data": [
        {
         "hovertemplate": "Name=Hisense - 55 class - led - h8 series - 2160p - smart - 4k uhd tv with hdr\"<br>Date-Seen=%{x}<br>Price-Min=%{y}<extra></extra>",
         "legendgroup": "Hisense - 55 class - led - h8 series - 2160p - smart - 4k uhd tv with hdr\"",
         "line": {
          "color": "#636efa",
          "dash": "solid"
         },
         "mode": "lines",
         "name": "Hisense - 55 class - led - h8 series - 2160p - smart - 4k uhd tv with hdr\"",
         "orientation": "v",
         "showlegend": true,
         "type": "scatter",
         "x": [
          "2017-03-04T10:00:00",
          "2017-03-10T19:00:00",
          "2017-03-30T05:00:00",
          "2017-05-01T20:00:00",
          "2017-05-09T07:00:00",
          "2017-05-18T05:00:00",
          "2017-05-31T17:00:00",
          "2017-06-01T19:00:00",
          "2017-07-11T12:00:00",
          "2017-07-11T22:00:00",
          "2017-07-21T16:00:00",
          "2017-07-25T18:00:00",
          "2017-07-25T18:00:00",
          "2017-07-26T20:00:00",
          "2017-07-31T22:00:00",
          "2017-08-01T07:00:00",
          "2017-10-24T22:00:00",
          "2017-10-28T17:00:00",
          "2018-03-09T18:00:00",
          "2018-04-26T17:00:00",
          "2018-05-25T21:00:00",
          "2018-05-25T21:00:00",
          "2018-05-26T16:00:00",
          "2018-05-26T16:00:00"
         ],
         "xaxis": "x",
         "y": [
          549.99,
          549.99,
          549.99,
          549.99,
          549.99,
          549.99,
          549.99,
          549.99,
          619.96,
          619.96,
          768.98,
          723.6,
          619.96,
          549.99,
          549.99,
          549.99,
          724.7,
          549.99,
          429.99,
          449.99,
          449.99,
          427.99,
          449.99,
          427.99
         ],
         "yaxis": "y"
        },
        {
         "hovertemplate": "Name=Samsung 55 class 4k (2160p) smart led tv (un55ku7000)\"<br>Date-Seen=%{x}<br>Price-Min=%{y}<extra></extra>",
         "legendgroup": "Samsung 55 class 4k (2160p) smart led tv (un55ku7000)\"",
         "line": {
          "color": "#EF553B",
          "dash": "solid"
         },
         "mode": "lines",
         "name": "Samsung 55 class 4k (2160p) smart led tv (un55ku7000)\"",
         "orientation": "v",
         "showlegend": true,
         "type": "scatter",
         "x": [
          "2017-03-10T19:00:00",
          "2017-03-30T05:00:00",
          "2017-07-10T04:00:00",
          "2017-07-11T07:00:00",
          "2017-07-11T22:00:00",
          "2017-07-14T12:00:00",
          "2017-07-23T11:00:00",
          "2017-07-24T21:00:00",
          "2017-07-25T18:00:00"
         ],
         "xaxis": "x",
         "y": [
          909.99,
          809.99,
          499.99,
          499.99,
          499.99,
          499.99,
          489.99,
          489.99,
          489.99
         ],
         "yaxis": "y"
        },
        {
         "hovertemplate": "Name=Sony - 55 class - led - x800e series - 2160p - smart - 4k uhd tv with hdr\"<br>Date-Seen=%{x}<br>Price-Min=%{y}<extra></extra>",
         "legendgroup": "Sony - 55 class - led - x800e series - 2160p - smart - 4k uhd tv with hdr\"",
         "line": {
          "color": "#00cc96",
          "dash": "solid"
         },
         "mode": "lines",
         "name": "Sony - 55 class - led - x800e series - 2160p - smart - 4k uhd tv with hdr\"",
         "orientation": "v",
         "showlegend": true,
         "type": "scatter",
         "x": [
          "2017-06-27T00:00:00",
          "2017-06-27T11:00:00",
          "2017-06-27T20:00:00",
          "2017-06-28T04:00:00",
          "2017-06-28T04:00:00",
          "2017-06-29T03:00:00",
          "2017-06-29T13:00:00",
          "2017-06-29T17:00:00",
          "2017-06-29T22:00:00",
          "2017-07-08T07:00:00",
          "2017-07-08T22:00:00",
          "2017-07-09T03:00:00",
          "2017-07-09T03:00:00",
          "2017-07-09T22:00:00",
          "2017-07-11T07:00:00",
          "2017-07-15T00:00:00",
          "2017-07-15T16:00:00",
          "2017-07-15T16:00:00",
          "2017-07-16T01:00:00",
          "2017-07-18T00:00:00",
          "2017-07-18T11:00:00",
          "2017-07-21T16:00:00",
          "2017-07-21T16:00:00",
          "2017-07-23T08:00:00",
          "2017-07-23T11:00:00",
          "2017-07-24T21:00:00",
          "2017-07-25T18:00:00",
          "2017-07-25T18:00:00",
          "2017-07-25T21:00:00",
          "2017-07-25T21:00:00",
          "2017-07-25T21:00:00",
          "2017-07-26T15:00:00",
          "2017-07-26T18:00:00",
          "2017-08-01T03:00:00",
          "2017-08-19T05:00:00",
          "2017-08-22T10:00:00",
          "2017-08-28T12:00:00",
          "2017-08-29T12:00:00",
          "2017-09-15T00:00:00",
          "2017-09-24T03:00:00",
          "2017-10-24T01:00:00",
          "2017-10-24T01:00:00",
          "2017-11-16T19:00:00",
          "2017-11-16T22:00:00",
          "2017-11-18T10:00:00",
          "2017-12-04T21:00:00",
          "2017-12-06T20:00:00",
          "2017-12-06T22:00:00",
          "2018-01-09T20:00:00",
          "2018-01-10T14:00:00",
          "2018-03-09T18:00:00",
          "2018-03-09T18:00:00",
          "2018-03-15T19:00:00",
          "2018-04-26T17:00:00",
          "2018-04-26T17:00:00",
          "2018-05-04T11:00:00",
          "2018-05-24T11:00:00",
          "2018-05-26T15:00:00",
          "2018-05-27T16:00:00",
          "2018-05-28T11:00:00"
         ],
         "xaxis": "x",
         "y": [
          998,
          998,
          998,
          998,
          998,
          998,
          998,
          998,
          909.99,
          998,
          998,
          998,
          998,
          998,
          998,
          998,
          998,
          998,
          998,
          998,
          998,
          998,
          998,
          998,
          998,
          998,
          998,
          998,
          998,
          998,
          998,
          909.99,
          998,
          919.99,
          898,
          998,
          898,
          898,
          998,
          898,
          898,
          898,
          898,
          798,
          798,
          798,
          798,
          798,
          798,
          695.47,
          838,
          798,
          898,
          898,
          898,
          898,
          898,
          899.99,
          898,
          898
         ],
         "yaxis": "y"
        },
        {
         "hovertemplate": "Name=Sony xbr55x700d 55-inch 4k ultra hd smart led tv (2016 model)<br>Date-Seen=%{x}<br>Price-Min=%{y}<extra></extra>",
         "legendgroup": "Sony xbr55x700d 55-inch 4k ultra hd smart led tv (2016 model)",
         "line": {
          "color": "#ab63fa",
          "dash": "solid"
         },
         "mode": "lines",
         "name": "Sony xbr55x700d 55-inch 4k ultra hd smart led tv (2016 model)",
         "orientation": "v",
         "showlegend": true,
         "type": "scatter",
         "x": [
          "2017-07-08T20:00:00",
          "2017-07-09T22:00:00",
          "2017-07-10T18:00:00",
          "2017-07-12T15:00:00",
          "2017-07-14T10:00:00",
          "2017-07-14T12:00:00",
          "2017-07-14T14:00:00",
          "2017-07-15T12:00:00",
          "2017-07-15T14:00:00",
          "2017-07-15T23:00:00",
          "2017-07-17T01:00:00",
          "2017-07-17T06:00:00",
          "2017-07-17T10:00:00",
          "2017-07-17T19:00:00",
          "2017-07-17T21:00:00",
          "2017-07-18T00:00:00",
          "2017-07-18T06:00:00",
          "2017-07-18T11:00:00",
          "2017-07-18T14:00:00",
          "2017-07-18T14:00:00",
          "2017-07-21T14:00:00",
          "2017-07-21T15:00:00",
          "2017-07-21T16:00:00",
          "2017-07-22T04:00:00",
          "2017-07-23T08:00:00",
          "2017-07-24T17:00:00",
          "2017-07-24T19:00:00",
          "2017-07-24T21:00:00",
          "2017-07-25T17:00:00",
          "2017-07-25T17:00:00",
          "2017-07-25T18:00:00",
          "2017-07-25T18:00:00",
          "2017-07-25T18:00:00",
          "2017-07-25T18:00:00",
          "2017-07-25T21:00:00",
          "2017-07-26T15:00:00",
          "2017-07-26T20:00:00",
          "2017-07-26T23:00:00",
          "2017-07-27T11:00:00",
          "2017-07-27T19:00:00",
          "2017-08-14T14:00:00",
          "2017-09-28T04:00:00"
         ],
         "xaxis": "x",
         "y": [
          798,
          629.99,
          798,
          848,
          798,
          848,
          848,
          798,
          746.24,
          798,
          798,
          699.95,
          550,
          798,
          450,
          848,
          848,
          798,
          629.99,
          450,
          848,
          798,
          848,
          798,
          629.99,
          798,
          629.99,
          798,
          629.99,
          798,
          629.99,
          789.99,
          798,
          600,
          798,
          789.99,
          798,
          629.99,
          629.99,
          789.99,
          798,
          789.99
         ],
         "yaxis": "y"
        },
        {
         "hovertemplate": "Name=Samsung - 55 class - led - curved - mu6490 series - 2160p - smart - 4k ultra hd tv with hdr\"<br>Date-Seen=%{x}<br>Price-Min=%{y}<extra></extra>",
         "legendgroup": "Samsung - 55 class - led - curved - mu6490 series - 2160p - smart - 4k ultra hd tv with hdr\"",
         "line": {
          "color": "#FFA15A",
          "dash": "solid"
         },
         "mode": "lines",
         "name": "Samsung - 55 class - led - curved - mu6490 series - 2160p - smart - 4k ultra hd tv with hdr\"",
         "orientation": "v",
         "showlegend": true,
         "type": "scatter",
         "x": [
          "2017-08-19T05:00:00",
          "2017-08-22T10:00:00",
          "2017-08-29T12:00:00",
          "2017-09-17T08:00:00",
          "2017-10-24T01:00:00",
          "2017-10-24T08:00:00",
          "2017-11-08T20:00:00",
          "2017-11-16T19:00:00",
          "2017-11-16T19:00:00",
          "2017-11-18T13:00:00",
          "2017-11-18T13:00:00",
          "2017-12-04T21:00:00",
          "2017-12-04T21:00:00",
          "2017-12-06T01:00:00",
          "2017-12-06T20:00:00",
          "2017-12-06T20:00:00",
          "2017-12-06T22:00:00",
          "2017-12-06T22:00:00",
          "2018-01-09T20:00:00",
          "2018-04-26T17:00:00",
          "2018-05-06T17:00:00",
          "2018-05-26T07:00:00",
          "2018-05-26T07:00:00"
         ],
         "xaxis": "x",
         "y": [
          797.99,
          797.99,
          797.99,
          797.99,
          797.99,
          797.99,
          799.99,
          799.99,
          597.99,
          597.99,
          797.99,
          597.99,
          797.99,
          797.99,
          597.99,
          797.99,
          597.99,
          797.99,
          797.99,
          747.85,
          797.99,
          549.99,
          799.99
         ],
         "yaxis": "y"
        },
        {
         "hovertemplate": "Name=Lg - 55 class - led - uj7700 series - 2160p - smart - 4k uhd tv with hdr\"<br>Date-Seen=%{x}<br>Price-Min=%{y}<extra></extra>",
         "legendgroup": "Lg - 55 class - led - uj7700 series - 2160p - smart - 4k uhd tv with hdr\"",
         "line": {
          "color": "#19d3f3",
          "dash": "solid"
         },
         "mode": "lines",
         "name": "Lg - 55 class - led - uj7700 series - 2160p - smart - 4k uhd tv with hdr\"",
         "orientation": "v",
         "showlegend": true,
         "type": "scatter",
         "x": [
          "2018-02-05T20:00:00",
          "2018-03-09T18:00:00",
          "2018-03-09T18:00:00",
          "2018-04-26T17:00:00",
          "2018-05-26T16:00:00",
          "2018-05-26T16:00:00",
          "2018-05-27T16:00:00",
          "2018-05-28T10:00:00"
         ],
         "xaxis": "x",
         "y": [
          796.99,
          749,
          659.42,
          846.99,
          751.99,
          799.99,
          796.99,
          796.99
         ],
         "yaxis": "y"
        },
        {
         "hovertemplate": "Name=Hisense - 55 class - led - h9 series - 2160p - smart - 4k uhd tv with hdr\"<br>Date-Seen=%{x}<br>Price-Min=%{y}<extra></extra>",
         "legendgroup": "Hisense - 55 class - led - h9 series - 2160p - smart - 4k uhd tv with hdr\"",
         "line": {
          "color": "#FF6692",
          "dash": "solid"
         },
         "mode": "lines",
         "name": "Hisense - 55 class - led - h9 series - 2160p - smart - 4k uhd tv with hdr\"",
         "orientation": "v",
         "showlegend": true,
         "type": "scatter",
         "x": [
          "2018-03-09T18:00:00",
          "2018-04-26T17:00:00",
          "2018-05-02T14:00:00",
          "2018-05-02T14:00:00",
          "2018-05-26T15:00:00",
          "2018-05-26T15:00:00"
         ],
         "xaxis": "x",
         "y": [
          699.99,
          599.99,
          799.99,
          699.99,
          599.99,
          799.99
         ],
         "yaxis": "y"
        }
       ],
       "layout": {
        "legend": {
         "title": {
          "text": "Name"
         },
         "tracegroupgap": 0
        },
        "margin": {
         "t": 60
        },
        "showlegend": false,
        "template": {
         "data": {
          "bar": [
           {
            "error_x": {
             "color": "#2a3f5f"
            },
            "error_y": {
             "color": "#2a3f5f"
            },
            "marker": {
             "line": {
              "color": "#E5ECF6",
              "width": 0.5
             }
            },
            "type": "bar"
           }
          ],
          "barpolar": [
           {
            "marker": {
             "line": {
              "color": "#E5ECF6",
              "width": 0.5
             }
            },
            "type": "barpolar"
           }
          ],
          "carpet": [
           {
            "aaxis": {
             "endlinecolor": "#2a3f5f",
             "gridcolor": "white",
             "linecolor": "white",
             "minorgridcolor": "white",
             "startlinecolor": "#2a3f5f"
            },
            "baxis": {
             "endlinecolor": "#2a3f5f",
             "gridcolor": "white",
             "linecolor": "white",
             "minorgridcolor": "white",
             "startlinecolor": "#2a3f5f"
            },
            "type": "carpet"
           }
          ],
          "choropleth": [
           {
            "colorbar": {
             "outlinewidth": 0,
             "ticks": ""
            },
            "type": "choropleth"
           }
          ],
          "contour": [
           {
            "colorbar": {
             "outlinewidth": 0,
             "ticks": ""
            },
            "colorscale": [
             [
              0,
              "#0d0887"
             ],
             [
              0.1111111111111111,
              "#46039f"
             ],
             [
              0.2222222222222222,
              "#7201a8"
             ],
             [
              0.3333333333333333,
              "#9c179e"
             ],
             [
              0.4444444444444444,
              "#bd3786"
             ],
             [
              0.5555555555555556,
              "#d8576b"
             ],
             [
              0.6666666666666666,
              "#ed7953"
             ],
             [
              0.7777777777777778,
              "#fb9f3a"
             ],
             [
              0.8888888888888888,
              "#fdca26"
             ],
             [
              1,
              "#f0f921"
             ]
            ],
            "type": "contour"
           }
          ],
          "contourcarpet": [
           {
            "colorbar": {
             "outlinewidth": 0,
             "ticks": ""
            },
            "type": "contourcarpet"
           }
          ],
          "heatmap": [
           {
            "colorbar": {
             "outlinewidth": 0,
             "ticks": ""
            },
            "colorscale": [
             [
              0,
              "#0d0887"
             ],
             [
              0.1111111111111111,
              "#46039f"
             ],
             [
              0.2222222222222222,
              "#7201a8"
             ],
             [
              0.3333333333333333,
              "#9c179e"
             ],
             [
              0.4444444444444444,
              "#bd3786"
             ],
             [
              0.5555555555555556,
              "#d8576b"
             ],
             [
              0.6666666666666666,
              "#ed7953"
             ],
             [
              0.7777777777777778,
              "#fb9f3a"
             ],
             [
              0.8888888888888888,
              "#fdca26"
             ],
             [
              1,
              "#f0f921"
             ]
            ],
            "type": "heatmap"
           }
          ],
          "heatmapgl": [
           {
            "colorbar": {
             "outlinewidth": 0,
             "ticks": ""
            },
            "colorscale": [
             [
              0,
              "#0d0887"
             ],
             [
              0.1111111111111111,
              "#46039f"
             ],
             [
              0.2222222222222222,
              "#7201a8"
             ],
             [
              0.3333333333333333,
              "#9c179e"
             ],
             [
              0.4444444444444444,
              "#bd3786"
             ],
             [
              0.5555555555555556,
              "#d8576b"
             ],
             [
              0.6666666666666666,
              "#ed7953"
             ],
             [
              0.7777777777777778,
              "#fb9f3a"
             ],
             [
              0.8888888888888888,
              "#fdca26"
             ],
             [
              1,
              "#f0f921"
             ]
            ],
            "type": "heatmapgl"
           }
          ],
          "histogram": [
           {
            "marker": {
             "colorbar": {
              "outlinewidth": 0,
              "ticks": ""
             }
            },
            "type": "histogram"
           }
          ],
          "histogram2d": [
           {
            "colorbar": {
             "outlinewidth": 0,
             "ticks": ""
            },
            "colorscale": [
             [
              0,
              "#0d0887"
             ],
             [
              0.1111111111111111,
              "#46039f"
             ],
             [
              0.2222222222222222,
              "#7201a8"
             ],
             [
              0.3333333333333333,
              "#9c179e"
             ],
             [
              0.4444444444444444,
              "#bd3786"
             ],
             [
              0.5555555555555556,
              "#d8576b"
             ],
             [
              0.6666666666666666,
              "#ed7953"
             ],
             [
              0.7777777777777778,
              "#fb9f3a"
             ],
             [
              0.8888888888888888,
              "#fdca26"
             ],
             [
              1,
              "#f0f921"
             ]
            ],
            "type": "histogram2d"
           }
          ],
          "histogram2dcontour": [
           {
            "colorbar": {
             "outlinewidth": 0,
             "ticks": ""
            },
            "colorscale": [
             [
              0,
              "#0d0887"
             ],
             [
              0.1111111111111111,
              "#46039f"
             ],
             [
              0.2222222222222222,
              "#7201a8"
             ],
             [
              0.3333333333333333,
              "#9c179e"
             ],
             [
              0.4444444444444444,
              "#bd3786"
             ],
             [
              0.5555555555555556,
              "#d8576b"
             ],
             [
              0.6666666666666666,
              "#ed7953"
             ],
             [
              0.7777777777777778,
              "#fb9f3a"
             ],
             [
              0.8888888888888888,
              "#fdca26"
             ],
             [
              1,
              "#f0f921"
             ]
            ],
            "type": "histogram2dcontour"
           }
          ],
          "mesh3d": [
           {
            "colorbar": {
             "outlinewidth": 0,
             "ticks": ""
            },
            "type": "mesh3d"
           }
          ],
          "parcoords": [
           {
            "line": {
             "colorbar": {
              "outlinewidth": 0,
              "ticks": ""
             }
            },
            "type": "parcoords"
           }
          ],
          "pie": [
           {
            "automargin": true,
            "type": "pie"
           }
          ],
          "scatter": [
           {
            "marker": {
             "colorbar": {
              "outlinewidth": 0,
              "ticks": ""
             }
            },
            "type": "scatter"
           }
          ],
          "scatter3d": [
           {
            "line": {
             "colorbar": {
              "outlinewidth": 0,
              "ticks": ""
             }
            },
            "marker": {
             "colorbar": {
              "outlinewidth": 0,
              "ticks": ""
             }
            },
            "type": "scatter3d"
           }
          ],
          "scattercarpet": [
           {
            "marker": {
             "colorbar": {
              "outlinewidth": 0,
              "ticks": ""
             }
            },
            "type": "scattercarpet"
           }
          ],
          "scattergeo": [
           {
            "marker": {
             "colorbar": {
              "outlinewidth": 0,
              "ticks": ""
             }
            },
            "type": "scattergeo"
           }
          ],
          "scattergl": [
           {
            "marker": {
             "colorbar": {
              "outlinewidth": 0,
              "ticks": ""
             }
            },
            "type": "scattergl"
           }
          ],
          "scattermapbox": [
           {
            "marker": {
             "colorbar": {
              "outlinewidth": 0,
              "ticks": ""
             }
            },
            "type": "scattermapbox"
           }
          ],
          "scatterpolar": [
           {
            "marker": {
             "colorbar": {
              "outlinewidth": 0,
              "ticks": ""
             }
            },
            "type": "scatterpolar"
           }
          ],
          "scatterpolargl": [
           {
            "marker": {
             "colorbar": {
              "outlinewidth": 0,
              "ticks": ""
             }
            },
            "type": "scatterpolargl"
           }
          ],
          "scatterternary": [
           {
            "marker": {
             "colorbar": {
              "outlinewidth": 0,
              "ticks": ""
             }
            },
            "type": "scatterternary"
           }
          ],
          "surface": [
           {
            "colorbar": {
             "outlinewidth": 0,
             "ticks": ""
            },
            "colorscale": [
             [
              0,
              "#0d0887"
             ],
             [
              0.1111111111111111,
              "#46039f"
             ],
             [
              0.2222222222222222,
              "#7201a8"
             ],
             [
              0.3333333333333333,
              "#9c179e"
             ],
             [
              0.4444444444444444,
              "#bd3786"
             ],
             [
              0.5555555555555556,
              "#d8576b"
             ],
             [
              0.6666666666666666,
              "#ed7953"
             ],
             [
              0.7777777777777778,
              "#fb9f3a"
             ],
             [
              0.8888888888888888,
              "#fdca26"
             ],
             [
              1,
              "#f0f921"
             ]
            ],
            "type": "surface"
           }
          ],
          "table": [
           {
            "cells": {
             "fill": {
              "color": "#EBF0F8"
             },
             "line": {
              "color": "white"
             }
            },
            "header": {
             "fill": {
              "color": "#C8D4E3"
             },
             "line": {
              "color": "white"
             }
            },
            "type": "table"
           }
          ]
         },
         "layout": {
          "annotationdefaults": {
           "arrowcolor": "#2a3f5f",
           "arrowhead": 0,
           "arrowwidth": 1
          },
          "coloraxis": {
           "colorbar": {
            "outlinewidth": 0,
            "ticks": ""
           }
          },
          "colorscale": {
           "diverging": [
            [
             0,
             "#8e0152"
            ],
            [
             0.1,
             "#c51b7d"
            ],
            [
             0.2,
             "#de77ae"
            ],
            [
             0.3,
             "#f1b6da"
            ],
            [
             0.4,
             "#fde0ef"
            ],
            [
             0.5,
             "#f7f7f7"
            ],
            [
             0.6,
             "#e6f5d0"
            ],
            [
             0.7,
             "#b8e186"
            ],
            [
             0.8,
             "#7fbc41"
            ],
            [
             0.9,
             "#4d9221"
            ],
            [
             1,
             "#276419"
            ]
           ],
           "sequential": [
            [
             0,
             "#0d0887"
            ],
            [
             0.1111111111111111,
             "#46039f"
            ],
            [
             0.2222222222222222,
             "#7201a8"
            ],
            [
             0.3333333333333333,
             "#9c179e"
            ],
            [
             0.4444444444444444,
             "#bd3786"
            ],
            [
             0.5555555555555556,
             "#d8576b"
            ],
            [
             0.6666666666666666,
             "#ed7953"
            ],
            [
             0.7777777777777778,
             "#fb9f3a"
            ],
            [
             0.8888888888888888,
             "#fdca26"
            ],
            [
             1,
             "#f0f921"
            ]
           ],
           "sequentialminus": [
            [
             0,
             "#0d0887"
            ],
            [
             0.1111111111111111,
             "#46039f"
            ],
            [
             0.2222222222222222,
             "#7201a8"
            ],
            [
             0.3333333333333333,
             "#9c179e"
            ],
            [
             0.4444444444444444,
             "#bd3786"
            ],
            [
             0.5555555555555556,
             "#d8576b"
            ],
            [
             0.6666666666666666,
             "#ed7953"
            ],
            [
             0.7777777777777778,
             "#fb9f3a"
            ],
            [
             0.8888888888888888,
             "#fdca26"
            ],
            [
             1,
             "#f0f921"
            ]
           ]
          },
          "colorway": [
           "#636efa",
           "#EF553B",
           "#00cc96",
           "#ab63fa",
           "#FFA15A",
           "#19d3f3",
           "#FF6692",
           "#B6E880",
           "#FF97FF",
           "#FECB52"
          ],
          "font": {
           "color": "#2a3f5f"
          },
          "geo": {
           "bgcolor": "white",
           "lakecolor": "white",
           "landcolor": "#E5ECF6",
           "showlakes": true,
           "showland": true,
           "subunitcolor": "white"
          },
          "hoverlabel": {
           "align": "left"
          },
          "hovermode": "closest",
          "mapbox": {
           "style": "light"
          },
          "paper_bgcolor": "white",
          "plot_bgcolor": "#E5ECF6",
          "polar": {
           "angularaxis": {
            "gridcolor": "white",
            "linecolor": "white",
            "ticks": ""
           },
           "bgcolor": "#E5ECF6",
           "radialaxis": {
            "gridcolor": "white",
            "linecolor": "white",
            "ticks": ""
           }
          },
          "scene": {
           "xaxis": {
            "backgroundcolor": "#E5ECF6",
            "gridcolor": "white",
            "gridwidth": 2,
            "linecolor": "white",
            "showbackground": true,
            "ticks": "",
            "zerolinecolor": "white"
           },
           "yaxis": {
            "backgroundcolor": "#E5ECF6",
            "gridcolor": "white",
            "gridwidth": 2,
            "linecolor": "white",
            "showbackground": true,
            "ticks": "",
            "zerolinecolor": "white"
           },
           "zaxis": {
            "backgroundcolor": "#E5ECF6",
            "gridcolor": "white",
            "gridwidth": 2,
            "linecolor": "white",
            "showbackground": true,
            "ticks": "",
            "zerolinecolor": "white"
           }
          },
          "shapedefaults": {
           "line": {
            "color": "#2a3f5f"
           }
          },
          "ternary": {
           "aaxis": {
            "gridcolor": "white",
            "linecolor": "white",
            "ticks": ""
           },
           "baxis": {
            "gridcolor": "white",
            "linecolor": "white",
            "ticks": ""
           },
           "bgcolor": "#E5ECF6",
           "caxis": {
            "gridcolor": "white",
            "linecolor": "white",
            "ticks": ""
           }
          },
          "title": {
           "x": 0.05
          },
          "xaxis": {
           "automargin": true,
           "gridcolor": "white",
           "linecolor": "white",
           "ticks": "",
           "title": {
            "standoff": 15
           },
           "zerolinecolor": "white",
           "zerolinewidth": 2
          },
          "yaxis": {
           "automargin": true,
           "gridcolor": "white",
           "linecolor": "white",
           "ticks": "",
           "title": {
            "standoff": 15
           },
           "zerolinecolor": "white",
           "zerolinewidth": 2
          }
         }
        },
        "xaxis": {
         "anchor": "y",
         "domain": [
          0,
          1
         ],
         "title": {
          "text": "Date-Seen"
         }
        },
        "yaxis": {
         "anchor": "x",
         "domain": [
          0,
          1
         ],
         "title": {
          "text": "Price-Min"
         }
        }
       }
      },
      "text/html": [
       "<div>\n",
       "        \n",
       "        \n",
       "            <div id=\"3cc7e060-d857-48be-afa7-9b945ad2e49c\" class=\"plotly-graph-div\" style=\"height:525px; width:100%;\"></div>\n",
       "            <script type=\"text/javascript\">\n",
       "                require([\"plotly\"], function(Plotly) {\n",
       "                    window.PLOTLYENV=window.PLOTLYENV || {};\n",
       "                    \n",
       "                if (document.getElementById(\"3cc7e060-d857-48be-afa7-9b945ad2e49c\")) {\n",
       "                    Plotly.newPlot(\n",
       "                        '3cc7e060-d857-48be-afa7-9b945ad2e49c',\n",
       "                        [{\"hovertemplate\": \"Name=Hisense - 55 class - led - h8 series - 2160p - smart - 4k uhd tv with hdr\\\"<br>Date-Seen=%{x}<br>Price-Min=%{y}<extra></extra>\", \"legendgroup\": \"Hisense - 55 class - led - h8 series - 2160p - smart - 4k uhd tv with hdr\\\"\", \"line\": {\"color\": \"#636efa\", \"dash\": \"solid\"}, \"mode\": \"lines\", \"name\": \"Hisense - 55 class - led - h8 series - 2160p - smart - 4k uhd tv with hdr\\\"\", \"orientation\": \"v\", \"showlegend\": true, \"type\": \"scatter\", \"x\": [\"2017-03-04T10:00:00\", \"2017-03-10T19:00:00\", \"2017-03-30T05:00:00\", \"2017-05-01T20:00:00\", \"2017-05-09T07:00:00\", \"2017-05-18T05:00:00\", \"2017-05-31T17:00:00\", \"2017-06-01T19:00:00\", \"2017-07-11T12:00:00\", \"2017-07-11T22:00:00\", \"2017-07-21T16:00:00\", \"2017-07-25T18:00:00\", \"2017-07-25T18:00:00\", \"2017-07-26T20:00:00\", \"2017-07-31T22:00:00\", \"2017-08-01T07:00:00\", \"2017-10-24T22:00:00\", \"2017-10-28T17:00:00\", \"2018-03-09T18:00:00\", \"2018-04-26T17:00:00\", \"2018-05-25T21:00:00\", \"2018-05-25T21:00:00\", \"2018-05-26T16:00:00\", \"2018-05-26T16:00:00\"], \"xaxis\": \"x\", \"y\": [549.99, 549.99, 549.99, 549.99, 549.99, 549.99, 549.99, 549.99, 619.96, 619.96, 768.98, 723.6, 619.96, 549.99, 549.99, 549.99, 724.7, 549.99, 429.99, 449.99, 449.99, 427.99, 449.99, 427.99], \"yaxis\": \"y\"}, {\"hovertemplate\": \"Name=Samsung 55 class 4k (2160p) smart led tv (un55ku7000)\\\"<br>Date-Seen=%{x}<br>Price-Min=%{y}<extra></extra>\", \"legendgroup\": \"Samsung 55 class 4k (2160p) smart led tv (un55ku7000)\\\"\", \"line\": {\"color\": \"#EF553B\", \"dash\": \"solid\"}, \"mode\": \"lines\", \"name\": \"Samsung 55 class 4k (2160p) smart led tv (un55ku7000)\\\"\", \"orientation\": \"v\", \"showlegend\": true, \"type\": \"scatter\", \"x\": [\"2017-03-10T19:00:00\", \"2017-03-30T05:00:00\", \"2017-07-10T04:00:00\", \"2017-07-11T07:00:00\", \"2017-07-11T22:00:00\", \"2017-07-14T12:00:00\", \"2017-07-23T11:00:00\", \"2017-07-24T21:00:00\", \"2017-07-25T18:00:00\"], \"xaxis\": \"x\", \"y\": [909.99, 809.99, 499.99, 499.99, 499.99, 499.99, 489.99, 489.99, 489.99], \"yaxis\": \"y\"}, {\"hovertemplate\": \"Name=Sony - 55 class - led - x800e series - 2160p - smart - 4k uhd tv with hdr\\\"<br>Date-Seen=%{x}<br>Price-Min=%{y}<extra></extra>\", \"legendgroup\": \"Sony - 55 class - led - x800e series - 2160p - smart - 4k uhd tv with hdr\\\"\", \"line\": {\"color\": \"#00cc96\", \"dash\": \"solid\"}, \"mode\": \"lines\", \"name\": \"Sony - 55 class - led - x800e series - 2160p - smart - 4k uhd tv with hdr\\\"\", \"orientation\": \"v\", \"showlegend\": true, \"type\": \"scatter\", \"x\": [\"2017-06-27T00:00:00\", \"2017-06-27T11:00:00\", \"2017-06-27T20:00:00\", \"2017-06-28T04:00:00\", \"2017-06-28T04:00:00\", \"2017-06-29T03:00:00\", \"2017-06-29T13:00:00\", \"2017-06-29T17:00:00\", \"2017-06-29T22:00:00\", \"2017-07-08T07:00:00\", \"2017-07-08T22:00:00\", \"2017-07-09T03:00:00\", \"2017-07-09T03:00:00\", \"2017-07-09T22:00:00\", \"2017-07-11T07:00:00\", \"2017-07-15T00:00:00\", \"2017-07-15T16:00:00\", \"2017-07-15T16:00:00\", \"2017-07-16T01:00:00\", \"2017-07-18T00:00:00\", \"2017-07-18T11:00:00\", \"2017-07-21T16:00:00\", \"2017-07-21T16:00:00\", \"2017-07-23T08:00:00\", \"2017-07-23T11:00:00\", \"2017-07-24T21:00:00\", \"2017-07-25T18:00:00\", \"2017-07-25T18:00:00\", \"2017-07-25T21:00:00\", \"2017-07-25T21:00:00\", \"2017-07-25T21:00:00\", \"2017-07-26T15:00:00\", \"2017-07-26T18:00:00\", \"2017-08-01T03:00:00\", \"2017-08-19T05:00:00\", \"2017-08-22T10:00:00\", \"2017-08-28T12:00:00\", \"2017-08-29T12:00:00\", \"2017-09-15T00:00:00\", \"2017-09-24T03:00:00\", \"2017-10-24T01:00:00\", \"2017-10-24T01:00:00\", \"2017-11-16T19:00:00\", \"2017-11-16T22:00:00\", \"2017-11-18T10:00:00\", \"2017-12-04T21:00:00\", \"2017-12-06T20:00:00\", \"2017-12-06T22:00:00\", \"2018-01-09T20:00:00\", \"2018-01-10T14:00:00\", \"2018-03-09T18:00:00\", \"2018-03-09T18:00:00\", \"2018-03-15T19:00:00\", \"2018-04-26T17:00:00\", \"2018-04-26T17:00:00\", \"2018-05-04T11:00:00\", \"2018-05-24T11:00:00\", \"2018-05-26T15:00:00\", \"2018-05-27T16:00:00\", \"2018-05-28T11:00:00\"], \"xaxis\": \"x\", \"y\": [998.0, 998.0, 998.0, 998.0, 998.0, 998.0, 998.0, 998.0, 909.99, 998.0, 998.0, 998.0, 998.0, 998.0, 998.0, 998.0, 998.0, 998.0, 998.0, 998.0, 998.0, 998.0, 998.0, 998.0, 998.0, 998.0, 998.0, 998.0, 998.0, 998.0, 998.0, 909.99, 998.0, 919.99, 898.0, 998.0, 898.0, 898.0, 998.0, 898.0, 898.0, 898.0, 898.0, 798.0, 798.0, 798.0, 798.0, 798.0, 798.0, 695.47, 838.0, 798.0, 898.0, 898.0, 898.0, 898.0, 898.0, 899.99, 898.0, 898.0], \"yaxis\": \"y\"}, {\"hovertemplate\": \"Name=Sony xbr55x700d 55-inch 4k ultra hd smart led tv (2016 model)<br>Date-Seen=%{x}<br>Price-Min=%{y}<extra></extra>\", \"legendgroup\": \"Sony xbr55x700d 55-inch 4k ultra hd smart led tv (2016 model)\", \"line\": {\"color\": \"#ab63fa\", \"dash\": \"solid\"}, \"mode\": \"lines\", \"name\": \"Sony xbr55x700d 55-inch 4k ultra hd smart led tv (2016 model)\", \"orientation\": \"v\", \"showlegend\": true, \"type\": \"scatter\", \"x\": [\"2017-07-08T20:00:00\", \"2017-07-09T22:00:00\", \"2017-07-10T18:00:00\", \"2017-07-12T15:00:00\", \"2017-07-14T10:00:00\", \"2017-07-14T12:00:00\", \"2017-07-14T14:00:00\", \"2017-07-15T12:00:00\", \"2017-07-15T14:00:00\", \"2017-07-15T23:00:00\", \"2017-07-17T01:00:00\", \"2017-07-17T06:00:00\", \"2017-07-17T10:00:00\", \"2017-07-17T19:00:00\", \"2017-07-17T21:00:00\", \"2017-07-18T00:00:00\", \"2017-07-18T06:00:00\", \"2017-07-18T11:00:00\", \"2017-07-18T14:00:00\", \"2017-07-18T14:00:00\", \"2017-07-21T14:00:00\", \"2017-07-21T15:00:00\", \"2017-07-21T16:00:00\", \"2017-07-22T04:00:00\", \"2017-07-23T08:00:00\", \"2017-07-24T17:00:00\", \"2017-07-24T19:00:00\", \"2017-07-24T21:00:00\", \"2017-07-25T17:00:00\", \"2017-07-25T17:00:00\", \"2017-07-25T18:00:00\", \"2017-07-25T18:00:00\", \"2017-07-25T18:00:00\", \"2017-07-25T18:00:00\", \"2017-07-25T21:00:00\", \"2017-07-26T15:00:00\", \"2017-07-26T20:00:00\", \"2017-07-26T23:00:00\", \"2017-07-27T11:00:00\", \"2017-07-27T19:00:00\", \"2017-08-14T14:00:00\", \"2017-09-28T04:00:00\"], \"xaxis\": \"x\", \"y\": [798.0, 629.99, 798.0, 848.0, 798.0, 848.0, 848.0, 798.0, 746.24, 798.0, 798.0, 699.95, 550.0, 798.0, 450.0, 848.0, 848.0, 798.0, 629.99, 450.0, 848.0, 798.0, 848.0, 798.0, 629.99, 798.0, 629.99, 798.0, 629.99, 798.0, 629.99, 789.99, 798.0, 600.0, 798.0, 789.99, 798.0, 629.99, 629.99, 789.99, 798.0, 789.99], \"yaxis\": \"y\"}, {\"hovertemplate\": \"Name=Samsung - 55 class - led - curved - mu6490 series - 2160p - smart - 4k ultra hd tv with hdr\\\"<br>Date-Seen=%{x}<br>Price-Min=%{y}<extra></extra>\", \"legendgroup\": \"Samsung - 55 class - led - curved - mu6490 series - 2160p - smart - 4k ultra hd tv with hdr\\\"\", \"line\": {\"color\": \"#FFA15A\", \"dash\": \"solid\"}, \"mode\": \"lines\", \"name\": \"Samsung - 55 class - led - curved - mu6490 series - 2160p - smart - 4k ultra hd tv with hdr\\\"\", \"orientation\": \"v\", \"showlegend\": true, \"type\": \"scatter\", \"x\": [\"2017-08-19T05:00:00\", \"2017-08-22T10:00:00\", \"2017-08-29T12:00:00\", \"2017-09-17T08:00:00\", \"2017-10-24T01:00:00\", \"2017-10-24T08:00:00\", \"2017-11-08T20:00:00\", \"2017-11-16T19:00:00\", \"2017-11-16T19:00:00\", \"2017-11-18T13:00:00\", \"2017-11-18T13:00:00\", \"2017-12-04T21:00:00\", \"2017-12-04T21:00:00\", \"2017-12-06T01:00:00\", \"2017-12-06T20:00:00\", \"2017-12-06T20:00:00\", \"2017-12-06T22:00:00\", \"2017-12-06T22:00:00\", \"2018-01-09T20:00:00\", \"2018-04-26T17:00:00\", \"2018-05-06T17:00:00\", \"2018-05-26T07:00:00\", \"2018-05-26T07:00:00\"], \"xaxis\": \"x\", \"y\": [797.99, 797.99, 797.99, 797.99, 797.99, 797.99, 799.99, 799.99, 597.99, 597.99, 797.99, 597.99, 797.99, 797.99, 597.99, 797.99, 597.99, 797.99, 797.99, 747.85, 797.99, 549.99, 799.99], \"yaxis\": \"y\"}, {\"hovertemplate\": \"Name=Lg - 55 class - led - uj7700 series - 2160p - smart - 4k uhd tv with hdr\\\"<br>Date-Seen=%{x}<br>Price-Min=%{y}<extra></extra>\", \"legendgroup\": \"Lg - 55 class - led - uj7700 series - 2160p - smart - 4k uhd tv with hdr\\\"\", \"line\": {\"color\": \"#19d3f3\", \"dash\": \"solid\"}, \"mode\": \"lines\", \"name\": \"Lg - 55 class - led - uj7700 series - 2160p - smart - 4k uhd tv with hdr\\\"\", \"orientation\": \"v\", \"showlegend\": true, \"type\": \"scatter\", \"x\": [\"2018-02-05T20:00:00\", \"2018-03-09T18:00:00\", \"2018-03-09T18:00:00\", \"2018-04-26T17:00:00\", \"2018-05-26T16:00:00\", \"2018-05-26T16:00:00\", \"2018-05-27T16:00:00\", \"2018-05-28T10:00:00\"], \"xaxis\": \"x\", \"y\": [796.99, 749.0, 659.42, 846.99, 751.99, 799.99, 796.99, 796.99], \"yaxis\": \"y\"}, {\"hovertemplate\": \"Name=Hisense - 55 class - led - h9 series - 2160p - smart - 4k uhd tv with hdr\\\"<br>Date-Seen=%{x}<br>Price-Min=%{y}<extra></extra>\", \"legendgroup\": \"Hisense - 55 class - led - h9 series - 2160p - smart - 4k uhd tv with hdr\\\"\", \"line\": {\"color\": \"#FF6692\", \"dash\": \"solid\"}, \"mode\": \"lines\", \"name\": \"Hisense - 55 class - led - h9 series - 2160p - smart - 4k uhd tv with hdr\\\"\", \"orientation\": \"v\", \"showlegend\": true, \"type\": \"scatter\", \"x\": [\"2018-03-09T18:00:00\", \"2018-04-26T17:00:00\", \"2018-05-02T14:00:00\", \"2018-05-02T14:00:00\", \"2018-05-26T15:00:00\", \"2018-05-26T15:00:00\"], \"xaxis\": \"x\", \"y\": [699.99, 599.99, 799.99, 699.99, 599.99, 799.99], \"yaxis\": \"y\"}],\n",
       "                        {\"legend\": {\"title\": {\"text\": \"Name\"}, \"tracegroupgap\": 0}, \"margin\": {\"t\": 60}, \"showlegend\": false, \"template\": {\"data\": {\"bar\": [{\"error_x\": {\"color\": \"#2a3f5f\"}, \"error_y\": {\"color\": \"#2a3f5f\"}, \"marker\": {\"line\": {\"color\": \"#E5ECF6\", \"width\": 0.5}}, \"type\": \"bar\"}], \"barpolar\": [{\"marker\": {\"line\": {\"color\": \"#E5ECF6\", \"width\": 0.5}}, \"type\": \"barpolar\"}], \"carpet\": [{\"aaxis\": {\"endlinecolor\": \"#2a3f5f\", \"gridcolor\": \"white\", \"linecolor\": \"white\", \"minorgridcolor\": \"white\", \"startlinecolor\": \"#2a3f5f\"}, \"baxis\": {\"endlinecolor\": \"#2a3f5f\", \"gridcolor\": \"white\", \"linecolor\": \"white\", \"minorgridcolor\": \"white\", \"startlinecolor\": \"#2a3f5f\"}, \"type\": \"carpet\"}], \"choropleth\": [{\"colorbar\": {\"outlinewidth\": 0, \"ticks\": \"\"}, \"type\": \"choropleth\"}], \"contour\": [{\"colorbar\": {\"outlinewidth\": 0, \"ticks\": \"\"}, \"colorscale\": [[0.0, \"#0d0887\"], [0.1111111111111111, \"#46039f\"], [0.2222222222222222, \"#7201a8\"], [0.3333333333333333, \"#9c179e\"], [0.4444444444444444, \"#bd3786\"], [0.5555555555555556, \"#d8576b\"], [0.6666666666666666, \"#ed7953\"], [0.7777777777777778, \"#fb9f3a\"], [0.8888888888888888, \"#fdca26\"], [1.0, \"#f0f921\"]], \"type\": \"contour\"}], \"contourcarpet\": [{\"colorbar\": {\"outlinewidth\": 0, \"ticks\": \"\"}, \"type\": \"contourcarpet\"}], \"heatmap\": [{\"colorbar\": {\"outlinewidth\": 0, \"ticks\": \"\"}, \"colorscale\": [[0.0, \"#0d0887\"], [0.1111111111111111, \"#46039f\"], [0.2222222222222222, \"#7201a8\"], [0.3333333333333333, \"#9c179e\"], [0.4444444444444444, \"#bd3786\"], [0.5555555555555556, \"#d8576b\"], [0.6666666666666666, \"#ed7953\"], [0.7777777777777778, \"#fb9f3a\"], [0.8888888888888888, \"#fdca26\"], [1.0, \"#f0f921\"]], \"type\": \"heatmap\"}], \"heatmapgl\": [{\"colorbar\": {\"outlinewidth\": 0, \"ticks\": \"\"}, \"colorscale\": [[0.0, \"#0d0887\"], [0.1111111111111111, \"#46039f\"], [0.2222222222222222, \"#7201a8\"], [0.3333333333333333, \"#9c179e\"], [0.4444444444444444, \"#bd3786\"], [0.5555555555555556, \"#d8576b\"], [0.6666666666666666, \"#ed7953\"], [0.7777777777777778, \"#fb9f3a\"], [0.8888888888888888, \"#fdca26\"], [1.0, \"#f0f921\"]], \"type\": \"heatmapgl\"}], \"histogram\": [{\"marker\": {\"colorbar\": {\"outlinewidth\": 0, \"ticks\": \"\"}}, \"type\": \"histogram\"}], \"histogram2d\": [{\"colorbar\": {\"outlinewidth\": 0, \"ticks\": \"\"}, \"colorscale\": [[0.0, \"#0d0887\"], [0.1111111111111111, \"#46039f\"], [0.2222222222222222, \"#7201a8\"], [0.3333333333333333, \"#9c179e\"], [0.4444444444444444, \"#bd3786\"], [0.5555555555555556, \"#d8576b\"], [0.6666666666666666, \"#ed7953\"], [0.7777777777777778, \"#fb9f3a\"], [0.8888888888888888, \"#fdca26\"], [1.0, \"#f0f921\"]], \"type\": \"histogram2d\"}], \"histogram2dcontour\": [{\"colorbar\": {\"outlinewidth\": 0, \"ticks\": \"\"}, \"colorscale\": [[0.0, \"#0d0887\"], [0.1111111111111111, \"#46039f\"], [0.2222222222222222, \"#7201a8\"], [0.3333333333333333, \"#9c179e\"], [0.4444444444444444, \"#bd3786\"], [0.5555555555555556, \"#d8576b\"], [0.6666666666666666, \"#ed7953\"], [0.7777777777777778, \"#fb9f3a\"], [0.8888888888888888, \"#fdca26\"], [1.0, \"#f0f921\"]], \"type\": \"histogram2dcontour\"}], \"mesh3d\": [{\"colorbar\": {\"outlinewidth\": 0, \"ticks\": \"\"}, \"type\": \"mesh3d\"}], \"parcoords\": [{\"line\": {\"colorbar\": {\"outlinewidth\": 0, \"ticks\": \"\"}}, \"type\": \"parcoords\"}], \"pie\": [{\"automargin\": true, \"type\": \"pie\"}], \"scatter\": [{\"marker\": {\"colorbar\": {\"outlinewidth\": 0, \"ticks\": \"\"}}, \"type\": \"scatter\"}], \"scatter3d\": [{\"line\": {\"colorbar\": {\"outlinewidth\": 0, \"ticks\": \"\"}}, \"marker\": {\"colorbar\": {\"outlinewidth\": 0, \"ticks\": \"\"}}, \"type\": \"scatter3d\"}], \"scattercarpet\": [{\"marker\": {\"colorbar\": {\"outlinewidth\": 0, \"ticks\": \"\"}}, \"type\": \"scattercarpet\"}], \"scattergeo\": [{\"marker\": {\"colorbar\": {\"outlinewidth\": 0, \"ticks\": \"\"}}, \"type\": \"scattergeo\"}], \"scattergl\": [{\"marker\": {\"colorbar\": {\"outlinewidth\": 0, \"ticks\": \"\"}}, \"type\": \"scattergl\"}], \"scattermapbox\": [{\"marker\": {\"colorbar\": {\"outlinewidth\": 0, \"ticks\": \"\"}}, \"type\": \"scattermapbox\"}], \"scatterpolar\": [{\"marker\": {\"colorbar\": {\"outlinewidth\": 0, \"ticks\": \"\"}}, \"type\": \"scatterpolar\"}], \"scatterpolargl\": [{\"marker\": {\"colorbar\": {\"outlinewidth\": 0, \"ticks\": \"\"}}, \"type\": \"scatterpolargl\"}], \"scatterternary\": [{\"marker\": {\"colorbar\": {\"outlinewidth\": 0, \"ticks\": \"\"}}, \"type\": \"scatterternary\"}], \"surface\": [{\"colorbar\": {\"outlinewidth\": 0, \"ticks\": \"\"}, \"colorscale\": [[0.0, \"#0d0887\"], [0.1111111111111111, \"#46039f\"], [0.2222222222222222, \"#7201a8\"], [0.3333333333333333, \"#9c179e\"], [0.4444444444444444, \"#bd3786\"], [0.5555555555555556, \"#d8576b\"], [0.6666666666666666, \"#ed7953\"], [0.7777777777777778, \"#fb9f3a\"], [0.8888888888888888, \"#fdca26\"], [1.0, \"#f0f921\"]], \"type\": \"surface\"}], \"table\": [{\"cells\": {\"fill\": {\"color\": \"#EBF0F8\"}, \"line\": {\"color\": \"white\"}}, \"header\": {\"fill\": {\"color\": \"#C8D4E3\"}, \"line\": {\"color\": \"white\"}}, \"type\": \"table\"}]}, \"layout\": {\"annotationdefaults\": {\"arrowcolor\": \"#2a3f5f\", \"arrowhead\": 0, \"arrowwidth\": 1}, \"coloraxis\": {\"colorbar\": {\"outlinewidth\": 0, \"ticks\": \"\"}}, \"colorscale\": {\"diverging\": [[0, \"#8e0152\"], [0.1, \"#c51b7d\"], [0.2, \"#de77ae\"], [0.3, \"#f1b6da\"], [0.4, \"#fde0ef\"], [0.5, \"#f7f7f7\"], [0.6, \"#e6f5d0\"], [0.7, \"#b8e186\"], [0.8, \"#7fbc41\"], [0.9, \"#4d9221\"], [1, \"#276419\"]], \"sequential\": [[0.0, \"#0d0887\"], [0.1111111111111111, \"#46039f\"], [0.2222222222222222, \"#7201a8\"], [0.3333333333333333, \"#9c179e\"], [0.4444444444444444, \"#bd3786\"], [0.5555555555555556, \"#d8576b\"], [0.6666666666666666, \"#ed7953\"], [0.7777777777777778, \"#fb9f3a\"], [0.8888888888888888, \"#fdca26\"], [1.0, \"#f0f921\"]], \"sequentialminus\": [[0.0, \"#0d0887\"], [0.1111111111111111, \"#46039f\"], [0.2222222222222222, \"#7201a8\"], [0.3333333333333333, \"#9c179e\"], [0.4444444444444444, \"#bd3786\"], [0.5555555555555556, \"#d8576b\"], [0.6666666666666666, \"#ed7953\"], [0.7777777777777778, \"#fb9f3a\"], [0.8888888888888888, \"#fdca26\"], [1.0, \"#f0f921\"]]}, \"colorway\": [\"#636efa\", \"#EF553B\", \"#00cc96\", \"#ab63fa\", \"#FFA15A\", \"#19d3f3\", \"#FF6692\", \"#B6E880\", \"#FF97FF\", \"#FECB52\"], \"font\": {\"color\": \"#2a3f5f\"}, \"geo\": {\"bgcolor\": \"white\", \"lakecolor\": \"white\", \"landcolor\": \"#E5ECF6\", \"showlakes\": true, \"showland\": true, \"subunitcolor\": \"white\"}, \"hoverlabel\": {\"align\": \"left\"}, \"hovermode\": \"closest\", \"mapbox\": {\"style\": \"light\"}, \"paper_bgcolor\": \"white\", \"plot_bgcolor\": \"#E5ECF6\", \"polar\": {\"angularaxis\": {\"gridcolor\": \"white\", \"linecolor\": \"white\", \"ticks\": \"\"}, \"bgcolor\": \"#E5ECF6\", \"radialaxis\": {\"gridcolor\": \"white\", \"linecolor\": \"white\", \"ticks\": \"\"}}, \"scene\": {\"xaxis\": {\"backgroundcolor\": \"#E5ECF6\", \"gridcolor\": \"white\", \"gridwidth\": 2, \"linecolor\": \"white\", \"showbackground\": true, \"ticks\": \"\", \"zerolinecolor\": \"white\"}, \"yaxis\": {\"backgroundcolor\": \"#E5ECF6\", \"gridcolor\": \"white\", \"gridwidth\": 2, \"linecolor\": \"white\", \"showbackground\": true, \"ticks\": \"\", \"zerolinecolor\": \"white\"}, \"zaxis\": {\"backgroundcolor\": \"#E5ECF6\", \"gridcolor\": \"white\", \"gridwidth\": 2, \"linecolor\": \"white\", \"showbackground\": true, \"ticks\": \"\", \"zerolinecolor\": \"white\"}}, \"shapedefaults\": {\"line\": {\"color\": \"#2a3f5f\"}}, \"ternary\": {\"aaxis\": {\"gridcolor\": \"white\", \"linecolor\": \"white\", \"ticks\": \"\"}, \"baxis\": {\"gridcolor\": \"white\", \"linecolor\": \"white\", \"ticks\": \"\"}, \"bgcolor\": \"#E5ECF6\", \"caxis\": {\"gridcolor\": \"white\", \"linecolor\": \"white\", \"ticks\": \"\"}}, \"title\": {\"x\": 0.05}, \"xaxis\": {\"automargin\": true, \"gridcolor\": \"white\", \"linecolor\": \"white\", \"ticks\": \"\", \"title\": {\"standoff\": 15}, \"zerolinecolor\": \"white\", \"zerolinewidth\": 2}, \"yaxis\": {\"automargin\": true, \"gridcolor\": \"white\", \"linecolor\": \"white\", \"ticks\": \"\", \"title\": {\"standoff\": 15}, \"zerolinecolor\": \"white\", \"zerolinewidth\": 2}}}, \"xaxis\": {\"anchor\": \"y\", \"domain\": [0.0, 1.0], \"title\": {\"text\": \"Date-Seen\"}}, \"yaxis\": {\"anchor\": \"x\", \"domain\": [0.0, 1.0], \"title\": {\"text\": \"Price-Min\"}}},\n",
       "                        {\"responsive\": true}\n",
       "                    ).then(function(){\n",
       "                            \n",
       "var gd = document.getElementById('3cc7e060-d857-48be-afa7-9b945ad2e49c');\n",
       "var x = new MutationObserver(function (mutations, observer) {{\n",
       "        var display = window.getComputedStyle(gd).display;\n",
       "        if (!display || display === 'none') {{\n",
       "            console.log([gd, 'removed!']);\n",
       "            Plotly.purge(gd);\n",
       "            observer.disconnect();\n",
       "        }}\n",
       "}});\n",
       "\n",
       "// Listen for the removal of the full notebook cells\n",
       "var notebookContainer = gd.closest('#notebook-container');\n",
       "if (notebookContainer) {{\n",
       "    x.observe(notebookContainer, {childList: true});\n",
       "}}\n",
       "\n",
       "// Listen for the clearing of the current output cell\n",
       "var outputEl = gd.closest('.output');\n",
       "if (outputEl) {{\n",
       "    x.observe(outputEl, {childList: true});\n",
       "}}\n",
       "\n",
       "                        })\n",
       "                };\n",
       "                });\n",
       "            </script>\n",
       "        </div>"
      ]
     },
     "metadata": {},
     "output_type": "display_data"
    }
   ],
   "source": [
    "exploded_date_seen = df.explode(\"Date-Seen\").sort_values(\"Date-Seen\")\n",
    "\n",
    "fig1 = px.line(exploded_date_seen[exploded_date_seen[\"Price-Min\"] > 2000], x=\"Date-Seen\", y=\"Price-Min\", color=\"Name\")\n",
    "fig1.update_layout(showlegend=False)#, title=\"High-End Price by Date Seen\")\n",
    "fig1.show()\n",
    "\n",
    "fig2 = px.line(exploded_date_seen[(exploded_date_seen[\"Price-Min\"] > 1000) & (exploded_date_seen[\"Price-Min\"] < 1999)],\n",
    "              x=\"Date-Seen\", y=\"Price-Min\", color=\"Name\")\n",
    "fig2.update_layout(showlegend=False)#, title=\"Mid-Range Price by Date Seen\")\n",
    "fig2.show()\n",
    "\n",
    "fig3 = px.line(exploded_date_seen[exploded_date_seen[\"Price-Min\"] < 999], x=\"Date-Seen\", y=\"Price-Min\", color=\"Name\")\n",
    "fig3.update_layout(showlegend=False)#, title=\"Low-End Price by Date Seen\")\n",
    "fig3.show()"
   ]
  },
  {
   "cell_type": "code",
   "execution_count": 12,
   "metadata": {},
   "outputs": [],
   "source": [
    "# fig1.write_image(\"images/high_end_time_series.png\")\n",
    "# fig2.write_image(\"images/mid_range_time_series.png\")\n",
    "# fig3.write_image(\"images/low_end_time_series.png\")"
   ]
  },
  {
   "cell_type": "markdown",
   "metadata": {},
   "source": [
    "The graphs above show price fluctuations over time for each product. Higher end models fluctuate by more than $2000, which make a case for Premium competitive pricing - if the eCommerce platform can provide incentives that justify the added price, these higher end models may sell well. These same high-end models may be loss leaders as well - if they are sold below market rate, the eCommerce platform may be able to pair other high-end products with them that have a greater markup, as customers shopping for high-end products likely have the income to make additional purchases. <br><br> Mid-range and low-end product prices fluctuate by \\\\$800 and \\\\$600 respectively, making them the best candidates for price matching, or possibly loss leading. Price matching is likely the safest route, allowing the eCommerce platform to make a relatively small but less risky profit, while loss leading may result in overall losses if the eCommerce platform cannot persuade consumers to buy additional products to offset the loss."
   ]
  }
 ],
 "metadata": {
  "kernelspec": {
   "display_name": "Python 3",
   "language": "python",
   "name": "python3"
  },
  "language_info": {
   "codemirror_mode": {
    "name": "ipython",
    "version": 3
   },
   "file_extension": ".py",
   "mimetype": "text/x-python",
   "name": "python",
   "nbconvert_exporter": "python",
   "pygments_lexer": "ipython3",
   "version": "3.7.6"
  },
  "toc": {
   "base_numbering": 1,
   "nav_menu": {},
   "number_sections": true,
   "sideBar": true,
   "skip_h1_title": true,
   "title_cell": "Table of Contents",
   "title_sidebar": "Contents",
   "toc_cell": true,
   "toc_position": {
    "height": "calc(100% - 180px)",
    "left": "10px",
    "top": "150px",
    "width": "384px"
   },
   "toc_section_display": true,
   "toc_window_display": true
  }
 },
 "nbformat": 4,
 "nbformat_minor": 4
}
