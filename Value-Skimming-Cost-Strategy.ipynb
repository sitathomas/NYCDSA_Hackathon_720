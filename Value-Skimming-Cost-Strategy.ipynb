{
 "cells": [
  {
   "cell_type": "code",
   "execution_count": 444,
   "metadata": {},
   "outputs": [
    {
     "data": {
      "text/html": [
       "        <script type=\"text/javascript\">\n",
       "        window.PlotlyConfig = {MathJaxConfig: 'local'};\n",
       "        if (window.MathJax) {MathJax.Hub.Config({SVG: {font: \"STIX-Web\"}});}\n",
       "        if (typeof require !== 'undefined') {\n",
       "        require.undef(\"plotly\");\n",
       "        requirejs.config({\n",
       "            paths: {\n",
       "                'plotly': ['https://cdn.plot.ly/plotly-latest.min']\n",
       "            }\n",
       "        });\n",
       "        require(['plotly'], function(Plotly) {\n",
       "            window._Plotly = Plotly;\n",
       "        });\n",
       "        }\n",
       "        </script>\n",
       "        "
      ]
     },
     "metadata": {},
     "output_type": "display_data"
    }
   ],
   "source": [
    "# Load the required libraries\n",
    "\n",
    "import pandas as pd\n",
    "pd.set_option('display.max_columns', None)\n",
    "pd.set_option('display.max_rows', None)\n",
    "\n",
    "import numpy as np\n",
    "\n",
    "import plotly.express as px\n",
    "import plotly.graph_objects as go\n",
    "\n",
    "import datetime\n"
   ]
  },
  {
   "cell_type": "code",
   "execution_count": 445,
   "metadata": {},
   "outputs": [
    {
     "name": "stdout",
     "output_type": "stream",
     "text": [
      "(168, 26)\n",
      "Index(['Id', 'Price-Max', 'Price-Min', 'Availability', 'Condition',\n",
      "       'Price-Currency', 'Date-Seen', 'On-Sale', 'Merchant', 'Shipping',\n",
      "       'Price-Source-URLs', 'ASINS', 'Brand', 'Category-Labels', 'Date-Added',\n",
      "       'Date-Updated', 'EAN', 'Image URLs', 'Keys', 'Manufacturer',\n",
      "       'Manufacturer-Id', 'Name', 'Primary-Category', 'Review-Source-URLs',\n",
      "       'UPC', 'Weight'],\n",
      "      dtype='object')\n"
     ]
    }
   ],
   "source": [
    "#Load the dataframe\n",
    "df = pd.read_csv('C:\\\\Users\\\\Aniruddha\\\\Documents\\\\Personal\\\\NYC_Data_Science\\\\Hackathon-July-2020\\\\NYCDSA-Hackathon-July-2020\\\\Products.csv')\n",
    "df['Date-Added'] = pd.to_datetime(df['Date-Added'])\n",
    "print(df.shape)\n",
    "print(df.columns)\n"
   ]
  },
  {
   "cell_type": "code",
   "execution_count": 446,
   "metadata": {},
   "outputs": [],
   "source": [
    "# Remove erroneously priced product\n",
    "\n",
    "df =  df[df[\"Price-Min\"] > 1]\n"
   ]
  },
  {
   "cell_type": "code",
   "execution_count": 447,
   "metadata": {},
   "outputs": [],
   "source": [
    "\n",
    "# Convert Date Seen string to datetime\n",
    "\n",
    "df[\"Date-Seen\"] = df[\"Date-Seen\"].apply(lambda x: x.split(\",\"))\n",
    "df[\"Date-Seen\"] = df[\"Date-Seen\"].apply(lambda x: [datetime.datetime.strptime(y,\"%Y-%m-%dT%H:%M:%SZ\") for y in x])\n"
   ]
  },
  {
   "cell_type": "code",
   "execution_count": 448,
   "metadata": {},
   "outputs": [],
   "source": [
    "# Bucket the products based on the average price across sellers\n",
    "\n",
    "dfmean = df.groupby('Name').agg(AvgPrice = ('Price-Min', 'mean')).reset_index()\n",
    "Low = dfmean.loc[dfmean['AvgPrice'] < 1000]['Name'].to_list()\n",
    "Medium = dfmean.loc[dfmean['AvgPrice'] > 1000].loc[dfmean['AvgPrice'] < 2000]['Name'].to_list()\n",
    "High = dfmean.loc[dfmean['AvgPrice'] > 2000]['Name'].to_list()\n",
    "ldf = df.loc[df['Name'].isin(Low)].loc[df['Condition'] == 'New']\n",
    "mdf = df.loc[df['Name'].isin(Medium)].loc[df['Condition'] == 'New']\n",
    "hdf = df.loc[df['Name'].isin(High)].loc[df['Condition'] == 'New']\n",
    "ldf['Label'] = 'Low'\n",
    "mdf['Label'] = 'Medium'\n",
    "hdf['Label'] = 'High'\n",
    "df = pd.concat([pd.concat([ldf,mdf], axis = 0), hdf], axis = 0)\n"
   ]
  },
  {
   "cell_type": "code",
   "execution_count": 449,
   "metadata": {},
   "outputs": [],
   "source": [
    "# Define fuction to collapse list elements in Date-Seen column to rows, keeping all other column values same\n",
    "\n",
    "def splitDataFrameList(df,target_column,separator):\n",
    "    ''' df = dataframe to split,\n",
    "    target_column = the column containing the values to split\n",
    "    separator = the symbol used to perform the split\n",
    "    returns: a dataframe with each entry for the target column separated, with each element moved into a new row. \n",
    "    The values in the other columns are duplicated across the newly divided rows.\n",
    "    '''\n",
    "    def splitListToRows(row,row_accumulator,target_column,separator):\n",
    "        for s in row[target_column]:\n",
    "            new_row = row.to_dict()\n",
    "            new_row[target_column] = s\n",
    "            row_accumulator.append(new_row)\n",
    "    new_rows = []\n",
    "    df.apply(splitListToRows,axis=1,args = (new_rows,target_column,separator))\n",
    "    new_df = pd.DataFrame(new_rows)\n",
    "    return new_df\n"
   ]
  },
  {
   "cell_type": "markdown",
   "metadata": {},
   "source": [
    "## Price Skimming\n",
    "\n",
    "Price skimming is a product pricing strategy by which a firm charges the highest initial price that customers will pay and then lowers it over time. As the demand of the first customers is satisfied and competition enters the market, the firm lowers the price to attract another, more price-sensitive segment of the population."
   ]
  },
  {
   "cell_type": "code",
   "execution_count": 511,
   "metadata": {
    "scrolled": true
   },
   "outputs": [
    {
     "data": {
      "application/vnd.plotly.v1+json": {
       "config": {
        "plotlyServerURL": "https://plot.ly"
       },
       "data": [
        {
         "cells": {
          "align": "left",
          "fill": {
           "color": "lavender"
          },
          "values": [
           [
            "Hisense - 55 class - led - h8 series - 2160p - smart - 4k uhd tv with hdr\"",
            "Hisense - 55 class - led - h9 series - 2160p - smart - 4k uhd tv with hdr\"",
            "Lg - 55 class - led - uj7700 series - 2160p - smart - 4k uhd tv with hdr\"",
            "Samsung - 55 class - led - curved - mu6490 series - 2160p - smart - 4k ultra hd tv with hdr\"",
            "Samsung - 55 class - led - curved - q7c series - 2160p - smart - 4k uhd tv with hdr\"",
            "Samsung - 55 class - led - q8f series - 2160p - smart - 4k uhd tv with hdr\"",
            "Samsung 55 class 4k (2160p) smart led tv (un55ku7000)\"",
            "Sony - 55 class - led - x800e series - 2160p - smart - 4k uhd tv with hdr\"",
            "Sony - 55 class - oled - a1e series - 2160p - smart - 4k uhd tv with hdr\"",
            "Sony xbr55x700d 55-inch 4k ultra hd smart led tv (2016 model)",
            "X900f-series 55-class hdr uhd smart led tv"
           ],
           [
            "2017-01-06T13:06:45+00:00",
            "2018-03-16T01:47:45+00:00",
            "2018-01-30T03:37:32+00:00",
            "2017-08-21T19:24:49+00:00",
            "2017-07-18T23:53:02+00:00",
            "2018-04-18T02:41:34+00:00",
            "2016-05-18T18:25:06+00:00",
            "2017-03-06T14:57:09+00:00",
            "2017-04-04T09:37:00+00:00",
            "2017-07-18T23:34:09+00:00",
            "2018-03-14T20:50:02+00:00"
           ],
           [
            "2017-03-04T10:00:00",
            "2018-03-09T18:00:00",
            "2018-02-05T20:00:00",
            "2017-08-19T05:00:00",
            "2017-07-08T20:00:00",
            "2018-04-26T17:00:00",
            "2017-03-04T10:00:00",
            "2017-03-04T10:00:00",
            "2017-03-30T02:00:00",
            "2017-07-08T20:00:00",
            "2018-03-31T19:00:00"
           ]
          ]
         },
         "header": {
          "align": "left",
          "fill": {
           "color": "paleturquoise"
          },
          "values": [
           "Name",
           "Date-Added-Min",
           "Date-Seen-Min"
          ]
         },
         "type": "table"
        }
       ],
       "layout": {
        "template": {
         "data": {
          "bar": [
           {
            "error_x": {
             "color": "#2a3f5f"
            },
            "error_y": {
             "color": "#2a3f5f"
            },
            "marker": {
             "line": {
              "color": "#E5ECF6",
              "width": 0.5
             }
            },
            "type": "bar"
           }
          ],
          "barpolar": [
           {
            "marker": {
             "line": {
              "color": "#E5ECF6",
              "width": 0.5
             }
            },
            "type": "barpolar"
           }
          ],
          "carpet": [
           {
            "aaxis": {
             "endlinecolor": "#2a3f5f",
             "gridcolor": "white",
             "linecolor": "white",
             "minorgridcolor": "white",
             "startlinecolor": "#2a3f5f"
            },
            "baxis": {
             "endlinecolor": "#2a3f5f",
             "gridcolor": "white",
             "linecolor": "white",
             "minorgridcolor": "white",
             "startlinecolor": "#2a3f5f"
            },
            "type": "carpet"
           }
          ],
          "choropleth": [
           {
            "colorbar": {
             "outlinewidth": 0,
             "ticks": ""
            },
            "type": "choropleth"
           }
          ],
          "contour": [
           {
            "colorbar": {
             "outlinewidth": 0,
             "ticks": ""
            },
            "colorscale": [
             [
              0,
              "#0d0887"
             ],
             [
              0.1111111111111111,
              "#46039f"
             ],
             [
              0.2222222222222222,
              "#7201a8"
             ],
             [
              0.3333333333333333,
              "#9c179e"
             ],
             [
              0.4444444444444444,
              "#bd3786"
             ],
             [
              0.5555555555555556,
              "#d8576b"
             ],
             [
              0.6666666666666666,
              "#ed7953"
             ],
             [
              0.7777777777777778,
              "#fb9f3a"
             ],
             [
              0.8888888888888888,
              "#fdca26"
             ],
             [
              1,
              "#f0f921"
             ]
            ],
            "type": "contour"
           }
          ],
          "contourcarpet": [
           {
            "colorbar": {
             "outlinewidth": 0,
             "ticks": ""
            },
            "type": "contourcarpet"
           }
          ],
          "heatmap": [
           {
            "colorbar": {
             "outlinewidth": 0,
             "ticks": ""
            },
            "colorscale": [
             [
              0,
              "#0d0887"
             ],
             [
              0.1111111111111111,
              "#46039f"
             ],
             [
              0.2222222222222222,
              "#7201a8"
             ],
             [
              0.3333333333333333,
              "#9c179e"
             ],
             [
              0.4444444444444444,
              "#bd3786"
             ],
             [
              0.5555555555555556,
              "#d8576b"
             ],
             [
              0.6666666666666666,
              "#ed7953"
             ],
             [
              0.7777777777777778,
              "#fb9f3a"
             ],
             [
              0.8888888888888888,
              "#fdca26"
             ],
             [
              1,
              "#f0f921"
             ]
            ],
            "type": "heatmap"
           }
          ],
          "heatmapgl": [
           {
            "colorbar": {
             "outlinewidth": 0,
             "ticks": ""
            },
            "colorscale": [
             [
              0,
              "#0d0887"
             ],
             [
              0.1111111111111111,
              "#46039f"
             ],
             [
              0.2222222222222222,
              "#7201a8"
             ],
             [
              0.3333333333333333,
              "#9c179e"
             ],
             [
              0.4444444444444444,
              "#bd3786"
             ],
             [
              0.5555555555555556,
              "#d8576b"
             ],
             [
              0.6666666666666666,
              "#ed7953"
             ],
             [
              0.7777777777777778,
              "#fb9f3a"
             ],
             [
              0.8888888888888888,
              "#fdca26"
             ],
             [
              1,
              "#f0f921"
             ]
            ],
            "type": "heatmapgl"
           }
          ],
          "histogram": [
           {
            "marker": {
             "colorbar": {
              "outlinewidth": 0,
              "ticks": ""
             }
            },
            "type": "histogram"
           }
          ],
          "histogram2d": [
           {
            "colorbar": {
             "outlinewidth": 0,
             "ticks": ""
            },
            "colorscale": [
             [
              0,
              "#0d0887"
             ],
             [
              0.1111111111111111,
              "#46039f"
             ],
             [
              0.2222222222222222,
              "#7201a8"
             ],
             [
              0.3333333333333333,
              "#9c179e"
             ],
             [
              0.4444444444444444,
              "#bd3786"
             ],
             [
              0.5555555555555556,
              "#d8576b"
             ],
             [
              0.6666666666666666,
              "#ed7953"
             ],
             [
              0.7777777777777778,
              "#fb9f3a"
             ],
             [
              0.8888888888888888,
              "#fdca26"
             ],
             [
              1,
              "#f0f921"
             ]
            ],
            "type": "histogram2d"
           }
          ],
          "histogram2dcontour": [
           {
            "colorbar": {
             "outlinewidth": 0,
             "ticks": ""
            },
            "colorscale": [
             [
              0,
              "#0d0887"
             ],
             [
              0.1111111111111111,
              "#46039f"
             ],
             [
              0.2222222222222222,
              "#7201a8"
             ],
             [
              0.3333333333333333,
              "#9c179e"
             ],
             [
              0.4444444444444444,
              "#bd3786"
             ],
             [
              0.5555555555555556,
              "#d8576b"
             ],
             [
              0.6666666666666666,
              "#ed7953"
             ],
             [
              0.7777777777777778,
              "#fb9f3a"
             ],
             [
              0.8888888888888888,
              "#fdca26"
             ],
             [
              1,
              "#f0f921"
             ]
            ],
            "type": "histogram2dcontour"
           }
          ],
          "mesh3d": [
           {
            "colorbar": {
             "outlinewidth": 0,
             "ticks": ""
            },
            "type": "mesh3d"
           }
          ],
          "parcoords": [
           {
            "line": {
             "colorbar": {
              "outlinewidth": 0,
              "ticks": ""
             }
            },
            "type": "parcoords"
           }
          ],
          "pie": [
           {
            "automargin": true,
            "type": "pie"
           }
          ],
          "scatter": [
           {
            "marker": {
             "colorbar": {
              "outlinewidth": 0,
              "ticks": ""
             }
            },
            "type": "scatter"
           }
          ],
          "scatter3d": [
           {
            "line": {
             "colorbar": {
              "outlinewidth": 0,
              "ticks": ""
             }
            },
            "marker": {
             "colorbar": {
              "outlinewidth": 0,
              "ticks": ""
             }
            },
            "type": "scatter3d"
           }
          ],
          "scattercarpet": [
           {
            "marker": {
             "colorbar": {
              "outlinewidth": 0,
              "ticks": ""
             }
            },
            "type": "scattercarpet"
           }
          ],
          "scattergeo": [
           {
            "marker": {
             "colorbar": {
              "outlinewidth": 0,
              "ticks": ""
             }
            },
            "type": "scattergeo"
           }
          ],
          "scattergl": [
           {
            "marker": {
             "colorbar": {
              "outlinewidth": 0,
              "ticks": ""
             }
            },
            "type": "scattergl"
           }
          ],
          "scattermapbox": [
           {
            "marker": {
             "colorbar": {
              "outlinewidth": 0,
              "ticks": ""
             }
            },
            "type": "scattermapbox"
           }
          ],
          "scatterpolar": [
           {
            "marker": {
             "colorbar": {
              "outlinewidth": 0,
              "ticks": ""
             }
            },
            "type": "scatterpolar"
           }
          ],
          "scatterpolargl": [
           {
            "marker": {
             "colorbar": {
              "outlinewidth": 0,
              "ticks": ""
             }
            },
            "type": "scatterpolargl"
           }
          ],
          "scatterternary": [
           {
            "marker": {
             "colorbar": {
              "outlinewidth": 0,
              "ticks": ""
             }
            },
            "type": "scatterternary"
           }
          ],
          "surface": [
           {
            "colorbar": {
             "outlinewidth": 0,
             "ticks": ""
            },
            "colorscale": [
             [
              0,
              "#0d0887"
             ],
             [
              0.1111111111111111,
              "#46039f"
             ],
             [
              0.2222222222222222,
              "#7201a8"
             ],
             [
              0.3333333333333333,
              "#9c179e"
             ],
             [
              0.4444444444444444,
              "#bd3786"
             ],
             [
              0.5555555555555556,
              "#d8576b"
             ],
             [
              0.6666666666666666,
              "#ed7953"
             ],
             [
              0.7777777777777778,
              "#fb9f3a"
             ],
             [
              0.8888888888888888,
              "#fdca26"
             ],
             [
              1,
              "#f0f921"
             ]
            ],
            "type": "surface"
           }
          ],
          "table": [
           {
            "cells": {
             "fill": {
              "color": "#EBF0F8"
             },
             "line": {
              "color": "white"
             }
            },
            "header": {
             "fill": {
              "color": "#C8D4E3"
             },
             "line": {
              "color": "white"
             }
            },
            "type": "table"
           }
          ]
         },
         "layout": {
          "annotationdefaults": {
           "arrowcolor": "#2a3f5f",
           "arrowhead": 0,
           "arrowwidth": 1
          },
          "coloraxis": {
           "colorbar": {
            "outlinewidth": 0,
            "ticks": ""
           }
          },
          "colorscale": {
           "diverging": [
            [
             0,
             "#8e0152"
            ],
            [
             0.1,
             "#c51b7d"
            ],
            [
             0.2,
             "#de77ae"
            ],
            [
             0.3,
             "#f1b6da"
            ],
            [
             0.4,
             "#fde0ef"
            ],
            [
             0.5,
             "#f7f7f7"
            ],
            [
             0.6,
             "#e6f5d0"
            ],
            [
             0.7,
             "#b8e186"
            ],
            [
             0.8,
             "#7fbc41"
            ],
            [
             0.9,
             "#4d9221"
            ],
            [
             1,
             "#276419"
            ]
           ],
           "sequential": [
            [
             0,
             "#0d0887"
            ],
            [
             0.1111111111111111,
             "#46039f"
            ],
            [
             0.2222222222222222,
             "#7201a8"
            ],
            [
             0.3333333333333333,
             "#9c179e"
            ],
            [
             0.4444444444444444,
             "#bd3786"
            ],
            [
             0.5555555555555556,
             "#d8576b"
            ],
            [
             0.6666666666666666,
             "#ed7953"
            ],
            [
             0.7777777777777778,
             "#fb9f3a"
            ],
            [
             0.8888888888888888,
             "#fdca26"
            ],
            [
             1,
             "#f0f921"
            ]
           ],
           "sequentialminus": [
            [
             0,
             "#0d0887"
            ],
            [
             0.1111111111111111,
             "#46039f"
            ],
            [
             0.2222222222222222,
             "#7201a8"
            ],
            [
             0.3333333333333333,
             "#9c179e"
            ],
            [
             0.4444444444444444,
             "#bd3786"
            ],
            [
             0.5555555555555556,
             "#d8576b"
            ],
            [
             0.6666666666666666,
             "#ed7953"
            ],
            [
             0.7777777777777778,
             "#fb9f3a"
            ],
            [
             0.8888888888888888,
             "#fdca26"
            ],
            [
             1,
             "#f0f921"
            ]
           ]
          },
          "colorway": [
           "#636efa",
           "#EF553B",
           "#00cc96",
           "#ab63fa",
           "#FFA15A",
           "#19d3f3",
           "#FF6692",
           "#B6E880",
           "#FF97FF",
           "#FECB52"
          ],
          "font": {
           "color": "#2a3f5f"
          },
          "geo": {
           "bgcolor": "white",
           "lakecolor": "white",
           "landcolor": "#E5ECF6",
           "showlakes": true,
           "showland": true,
           "subunitcolor": "white"
          },
          "hoverlabel": {
           "align": "left"
          },
          "hovermode": "closest",
          "mapbox": {
           "style": "light"
          },
          "paper_bgcolor": "white",
          "plot_bgcolor": "#E5ECF6",
          "polar": {
           "angularaxis": {
            "gridcolor": "white",
            "linecolor": "white",
            "ticks": ""
           },
           "bgcolor": "#E5ECF6",
           "radialaxis": {
            "gridcolor": "white",
            "linecolor": "white",
            "ticks": ""
           }
          },
          "scene": {
           "xaxis": {
            "backgroundcolor": "#E5ECF6",
            "gridcolor": "white",
            "gridwidth": 2,
            "linecolor": "white",
            "showbackground": true,
            "ticks": "",
            "zerolinecolor": "white"
           },
           "yaxis": {
            "backgroundcolor": "#E5ECF6",
            "gridcolor": "white",
            "gridwidth": 2,
            "linecolor": "white",
            "showbackground": true,
            "ticks": "",
            "zerolinecolor": "white"
           },
           "zaxis": {
            "backgroundcolor": "#E5ECF6",
            "gridcolor": "white",
            "gridwidth": 2,
            "linecolor": "white",
            "showbackground": true,
            "ticks": "",
            "zerolinecolor": "white"
           }
          },
          "shapedefaults": {
           "line": {
            "color": "#2a3f5f"
           }
          },
          "ternary": {
           "aaxis": {
            "gridcolor": "white",
            "linecolor": "white",
            "ticks": ""
           },
           "baxis": {
            "gridcolor": "white",
            "linecolor": "white",
            "ticks": ""
           },
           "bgcolor": "#E5ECF6",
           "caxis": {
            "gridcolor": "white",
            "linecolor": "white",
            "ticks": ""
           }
          },
          "title": {
           "x": 0.05
          },
          "xaxis": {
           "automargin": true,
           "gridcolor": "white",
           "linecolor": "white",
           "ticks": "",
           "title": {
            "standoff": 15
           },
           "zerolinecolor": "white",
           "zerolinewidth": 2
          },
          "yaxis": {
           "automargin": true,
           "gridcolor": "white",
           "linecolor": "white",
           "ticks": "",
           "title": {
            "standoff": 15
           },
           "zerolinecolor": "white",
           "zerolinewidth": 2
          }
         }
        }
       }
      },
      "text/html": [
       "<div>\n",
       "        \n",
       "        \n",
       "            <div id=\"0f389276-65b8-4d48-84f4-f0896d5f23a4\" class=\"plotly-graph-div\" style=\"height:525px; width:100%;\"></div>\n",
       "            <script type=\"text/javascript\">\n",
       "                require([\"plotly\"], function(Plotly) {\n",
       "                    window.PLOTLYENV=window.PLOTLYENV || {};\n",
       "                    \n",
       "                if (document.getElementById(\"0f389276-65b8-4d48-84f4-f0896d5f23a4\")) {\n",
       "                    Plotly.newPlot(\n",
       "                        '0f389276-65b8-4d48-84f4-f0896d5f23a4',\n",
       "                        [{\"cells\": {\"align\": \"left\", \"fill\": {\"color\": \"lavender\"}, \"values\": [[\"Hisense - 55 class - led - h8 series - 2160p - smart - 4k uhd tv with hdr\\\"\", \"Hisense - 55 class - led - h9 series - 2160p - smart - 4k uhd tv with hdr\\\"\", \"Lg - 55 class - led - uj7700 series - 2160p - smart - 4k uhd tv with hdr\\\"\", \"Samsung - 55 class - led - curved - mu6490 series - 2160p - smart - 4k ultra hd tv with hdr\\\"\", \"Samsung - 55 class - led - curved - q7c series - 2160p - smart - 4k uhd tv with hdr\\\"\", \"Samsung - 55 class - led - q8f series - 2160p - smart - 4k uhd tv with hdr\\\"\", \"Samsung 55 class 4k (2160p) smart led tv (un55ku7000)\\\"\", \"Sony - 55 class - led - x800e series - 2160p - smart - 4k uhd tv with hdr\\\"\", \"Sony - 55 class - oled - a1e series - 2160p - smart - 4k uhd tv with hdr\\\"\", \"Sony xbr55x700d 55-inch 4k ultra hd smart led tv (2016 model)\", \"X900f-series 55-class hdr uhd smart led tv\"], [\"2017-01-06T13:06:45+00:00\", \"2018-03-16T01:47:45+00:00\", \"2018-01-30T03:37:32+00:00\", \"2017-08-21T19:24:49+00:00\", \"2017-07-18T23:53:02+00:00\", \"2018-04-18T02:41:34+00:00\", \"2016-05-18T18:25:06+00:00\", \"2017-03-06T14:57:09+00:00\", \"2017-04-04T09:37:00+00:00\", \"2017-07-18T23:34:09+00:00\", \"2018-03-14T20:50:02+00:00\"], [\"2017-03-04T10:00:00\", \"2018-03-09T18:00:00\", \"2018-02-05T20:00:00\", \"2017-08-19T05:00:00\", \"2017-07-08T20:00:00\", \"2018-04-26T17:00:00\", \"2017-03-04T10:00:00\", \"2017-03-04T10:00:00\", \"2017-03-30T02:00:00\", \"2017-07-08T20:00:00\", \"2018-03-31T19:00:00\"]]}, \"header\": {\"align\": \"left\", \"fill\": {\"color\": \"paleturquoise\"}, \"values\": [\"Name\", \"Date-Added-Min\", \"Date-Seen-Min\"]}, \"type\": \"table\"}],\n",
       "                        {\"template\": {\"data\": {\"bar\": [{\"error_x\": {\"color\": \"#2a3f5f\"}, \"error_y\": {\"color\": \"#2a3f5f\"}, \"marker\": {\"line\": {\"color\": \"#E5ECF6\", \"width\": 0.5}}, \"type\": \"bar\"}], \"barpolar\": [{\"marker\": {\"line\": {\"color\": \"#E5ECF6\", \"width\": 0.5}}, \"type\": \"barpolar\"}], \"carpet\": [{\"aaxis\": {\"endlinecolor\": \"#2a3f5f\", \"gridcolor\": \"white\", \"linecolor\": \"white\", \"minorgridcolor\": \"white\", \"startlinecolor\": \"#2a3f5f\"}, \"baxis\": {\"endlinecolor\": \"#2a3f5f\", \"gridcolor\": \"white\", \"linecolor\": \"white\", \"minorgridcolor\": \"white\", \"startlinecolor\": \"#2a3f5f\"}, \"type\": \"carpet\"}], \"choropleth\": [{\"colorbar\": {\"outlinewidth\": 0, \"ticks\": \"\"}, \"type\": \"choropleth\"}], \"contour\": [{\"colorbar\": {\"outlinewidth\": 0, \"ticks\": \"\"}, \"colorscale\": [[0.0, \"#0d0887\"], [0.1111111111111111, \"#46039f\"], [0.2222222222222222, \"#7201a8\"], [0.3333333333333333, \"#9c179e\"], [0.4444444444444444, \"#bd3786\"], [0.5555555555555556, \"#d8576b\"], [0.6666666666666666, \"#ed7953\"], [0.7777777777777778, \"#fb9f3a\"], [0.8888888888888888, \"#fdca26\"], [1.0, \"#f0f921\"]], \"type\": \"contour\"}], \"contourcarpet\": [{\"colorbar\": {\"outlinewidth\": 0, \"ticks\": \"\"}, \"type\": \"contourcarpet\"}], \"heatmap\": [{\"colorbar\": {\"outlinewidth\": 0, \"ticks\": \"\"}, \"colorscale\": [[0.0, \"#0d0887\"], [0.1111111111111111, \"#46039f\"], [0.2222222222222222, \"#7201a8\"], [0.3333333333333333, \"#9c179e\"], [0.4444444444444444, \"#bd3786\"], [0.5555555555555556, \"#d8576b\"], [0.6666666666666666, \"#ed7953\"], [0.7777777777777778, \"#fb9f3a\"], [0.8888888888888888, \"#fdca26\"], [1.0, \"#f0f921\"]], \"type\": \"heatmap\"}], \"heatmapgl\": [{\"colorbar\": {\"outlinewidth\": 0, \"ticks\": \"\"}, \"colorscale\": [[0.0, \"#0d0887\"], [0.1111111111111111, \"#46039f\"], [0.2222222222222222, \"#7201a8\"], [0.3333333333333333, \"#9c179e\"], [0.4444444444444444, \"#bd3786\"], [0.5555555555555556, \"#d8576b\"], [0.6666666666666666, \"#ed7953\"], [0.7777777777777778, \"#fb9f3a\"], [0.8888888888888888, \"#fdca26\"], [1.0, \"#f0f921\"]], \"type\": \"heatmapgl\"}], \"histogram\": [{\"marker\": {\"colorbar\": {\"outlinewidth\": 0, \"ticks\": \"\"}}, \"type\": \"histogram\"}], \"histogram2d\": [{\"colorbar\": {\"outlinewidth\": 0, \"ticks\": \"\"}, \"colorscale\": [[0.0, \"#0d0887\"], [0.1111111111111111, \"#46039f\"], [0.2222222222222222, \"#7201a8\"], [0.3333333333333333, \"#9c179e\"], [0.4444444444444444, \"#bd3786\"], [0.5555555555555556, \"#d8576b\"], [0.6666666666666666, \"#ed7953\"], [0.7777777777777778, \"#fb9f3a\"], [0.8888888888888888, \"#fdca26\"], [1.0, \"#f0f921\"]], \"type\": \"histogram2d\"}], \"histogram2dcontour\": [{\"colorbar\": {\"outlinewidth\": 0, \"ticks\": \"\"}, \"colorscale\": [[0.0, \"#0d0887\"], [0.1111111111111111, \"#46039f\"], [0.2222222222222222, \"#7201a8\"], [0.3333333333333333, \"#9c179e\"], [0.4444444444444444, \"#bd3786\"], [0.5555555555555556, \"#d8576b\"], [0.6666666666666666, \"#ed7953\"], [0.7777777777777778, \"#fb9f3a\"], [0.8888888888888888, \"#fdca26\"], [1.0, \"#f0f921\"]], \"type\": \"histogram2dcontour\"}], \"mesh3d\": [{\"colorbar\": {\"outlinewidth\": 0, \"ticks\": \"\"}, \"type\": \"mesh3d\"}], \"parcoords\": [{\"line\": {\"colorbar\": {\"outlinewidth\": 0, \"ticks\": \"\"}}, \"type\": \"parcoords\"}], \"pie\": [{\"automargin\": true, \"type\": \"pie\"}], \"scatter\": [{\"marker\": {\"colorbar\": {\"outlinewidth\": 0, \"ticks\": \"\"}}, \"type\": \"scatter\"}], \"scatter3d\": [{\"line\": {\"colorbar\": {\"outlinewidth\": 0, \"ticks\": \"\"}}, \"marker\": {\"colorbar\": {\"outlinewidth\": 0, \"ticks\": \"\"}}, \"type\": \"scatter3d\"}], \"scattercarpet\": [{\"marker\": {\"colorbar\": {\"outlinewidth\": 0, \"ticks\": \"\"}}, \"type\": \"scattercarpet\"}], \"scattergeo\": [{\"marker\": {\"colorbar\": {\"outlinewidth\": 0, \"ticks\": \"\"}}, \"type\": \"scattergeo\"}], \"scattergl\": [{\"marker\": {\"colorbar\": {\"outlinewidth\": 0, \"ticks\": \"\"}}, \"type\": \"scattergl\"}], \"scattermapbox\": [{\"marker\": {\"colorbar\": {\"outlinewidth\": 0, \"ticks\": \"\"}}, \"type\": \"scattermapbox\"}], \"scatterpolar\": [{\"marker\": {\"colorbar\": {\"outlinewidth\": 0, \"ticks\": \"\"}}, \"type\": \"scatterpolar\"}], \"scatterpolargl\": [{\"marker\": {\"colorbar\": {\"outlinewidth\": 0, \"ticks\": \"\"}}, \"type\": \"scatterpolargl\"}], \"scatterternary\": [{\"marker\": {\"colorbar\": {\"outlinewidth\": 0, \"ticks\": \"\"}}, \"type\": \"scatterternary\"}], \"surface\": [{\"colorbar\": {\"outlinewidth\": 0, \"ticks\": \"\"}, \"colorscale\": [[0.0, \"#0d0887\"], [0.1111111111111111, \"#46039f\"], [0.2222222222222222, \"#7201a8\"], [0.3333333333333333, \"#9c179e\"], [0.4444444444444444, \"#bd3786\"], [0.5555555555555556, \"#d8576b\"], [0.6666666666666666, \"#ed7953\"], [0.7777777777777778, \"#fb9f3a\"], [0.8888888888888888, \"#fdca26\"], [1.0, \"#f0f921\"]], \"type\": \"surface\"}], \"table\": [{\"cells\": {\"fill\": {\"color\": \"#EBF0F8\"}, \"line\": {\"color\": \"white\"}}, \"header\": {\"fill\": {\"color\": \"#C8D4E3\"}, \"line\": {\"color\": \"white\"}}, \"type\": \"table\"}]}, \"layout\": {\"annotationdefaults\": {\"arrowcolor\": \"#2a3f5f\", \"arrowhead\": 0, \"arrowwidth\": 1}, \"coloraxis\": {\"colorbar\": {\"outlinewidth\": 0, \"ticks\": \"\"}}, \"colorscale\": {\"diverging\": [[0, \"#8e0152\"], [0.1, \"#c51b7d\"], [0.2, \"#de77ae\"], [0.3, \"#f1b6da\"], [0.4, \"#fde0ef\"], [0.5, \"#f7f7f7\"], [0.6, \"#e6f5d0\"], [0.7, \"#b8e186\"], [0.8, \"#7fbc41\"], [0.9, \"#4d9221\"], [1, \"#276419\"]], \"sequential\": [[0.0, \"#0d0887\"], [0.1111111111111111, \"#46039f\"], [0.2222222222222222, \"#7201a8\"], [0.3333333333333333, \"#9c179e\"], [0.4444444444444444, \"#bd3786\"], [0.5555555555555556, \"#d8576b\"], [0.6666666666666666, \"#ed7953\"], [0.7777777777777778, \"#fb9f3a\"], [0.8888888888888888, \"#fdca26\"], [1.0, \"#f0f921\"]], \"sequentialminus\": [[0.0, \"#0d0887\"], [0.1111111111111111, \"#46039f\"], [0.2222222222222222, \"#7201a8\"], [0.3333333333333333, \"#9c179e\"], [0.4444444444444444, \"#bd3786\"], [0.5555555555555556, \"#d8576b\"], [0.6666666666666666, \"#ed7953\"], [0.7777777777777778, \"#fb9f3a\"], [0.8888888888888888, \"#fdca26\"], [1.0, \"#f0f921\"]]}, \"colorway\": [\"#636efa\", \"#EF553B\", \"#00cc96\", \"#ab63fa\", \"#FFA15A\", \"#19d3f3\", \"#FF6692\", \"#B6E880\", \"#FF97FF\", \"#FECB52\"], \"font\": {\"color\": \"#2a3f5f\"}, \"geo\": {\"bgcolor\": \"white\", \"lakecolor\": \"white\", \"landcolor\": \"#E5ECF6\", \"showlakes\": true, \"showland\": true, \"subunitcolor\": \"white\"}, \"hoverlabel\": {\"align\": \"left\"}, \"hovermode\": \"closest\", \"mapbox\": {\"style\": \"light\"}, \"paper_bgcolor\": \"white\", \"plot_bgcolor\": \"#E5ECF6\", \"polar\": {\"angularaxis\": {\"gridcolor\": \"white\", \"linecolor\": \"white\", \"ticks\": \"\"}, \"bgcolor\": \"#E5ECF6\", \"radialaxis\": {\"gridcolor\": \"white\", \"linecolor\": \"white\", \"ticks\": \"\"}}, \"scene\": {\"xaxis\": {\"backgroundcolor\": \"#E5ECF6\", \"gridcolor\": \"white\", \"gridwidth\": 2, \"linecolor\": \"white\", \"showbackground\": true, \"ticks\": \"\", \"zerolinecolor\": \"white\"}, \"yaxis\": {\"backgroundcolor\": \"#E5ECF6\", \"gridcolor\": \"white\", \"gridwidth\": 2, \"linecolor\": \"white\", \"showbackground\": true, \"ticks\": \"\", \"zerolinecolor\": \"white\"}, \"zaxis\": {\"backgroundcolor\": \"#E5ECF6\", \"gridcolor\": \"white\", \"gridwidth\": 2, \"linecolor\": \"white\", \"showbackground\": true, \"ticks\": \"\", \"zerolinecolor\": \"white\"}}, \"shapedefaults\": {\"line\": {\"color\": \"#2a3f5f\"}}, \"ternary\": {\"aaxis\": {\"gridcolor\": \"white\", \"linecolor\": \"white\", \"ticks\": \"\"}, \"baxis\": {\"gridcolor\": \"white\", \"linecolor\": \"white\", \"ticks\": \"\"}, \"bgcolor\": \"#E5ECF6\", \"caxis\": {\"gridcolor\": \"white\", \"linecolor\": \"white\", \"ticks\": \"\"}}, \"title\": {\"x\": 0.05}, \"xaxis\": {\"automargin\": true, \"gridcolor\": \"white\", \"linecolor\": \"white\", \"ticks\": \"\", \"title\": {\"standoff\": 15}, \"zerolinecolor\": \"white\", \"zerolinewidth\": 2}, \"yaxis\": {\"automargin\": true, \"gridcolor\": \"white\", \"linecolor\": \"white\", \"ticks\": \"\", \"title\": {\"standoff\": 15}, \"zerolinecolor\": \"white\", \"zerolinewidth\": 2}}}},\n",
       "                        {\"responsive\": true}\n",
       "                    ).then(function(){\n",
       "                            \n",
       "var gd = document.getElementById('0f389276-65b8-4d48-84f4-f0896d5f23a4');\n",
       "var x = new MutationObserver(function (mutations, observer) {{\n",
       "        var display = window.getComputedStyle(gd).display;\n",
       "        if (!display || display === 'none') {{\n",
       "            console.log([gd, 'removed!']);\n",
       "            Plotly.purge(gd);\n",
       "            observer.disconnect();\n",
       "        }}\n",
       "}});\n",
       "\n",
       "// Listen for the removal of the full notebook cells\n",
       "var notebookContainer = gd.closest('#notebook-container');\n",
       "if (notebookContainer) {{\n",
       "    x.observe(notebookContainer, {childList: true});\n",
       "}}\n",
       "\n",
       "// Listen for the clearing of the current output cell\n",
       "var outputEl = gd.closest('.output');\n",
       "if (outputEl) {{\n",
       "    x.observe(outputEl, {childList: true});\n",
       "}}\n",
       "\n",
       "                        })\n",
       "                };\n",
       "                });\n",
       "            </script>\n",
       "        </div>"
      ]
     },
     "metadata": {},
     "output_type": "display_data"
    }
   ],
   "source": [
    "# Launch date against the date when a price was first recorded for the item\n",
    "\n",
    "data = splitDataFrameList(df, 'Date-Seen', ',') \n",
    "data = data.groupby('Name').agg({'Date-Added': ['min'], 'Date-Seen': ['min']}).reset_index()\n",
    "data.columns = ['Name', 'Date-Added-Min', 'Date-Seen-Min']\n",
    "\n",
    "fig = go.Figure(data=[go.Table(\n",
    "    header=dict(values=list(data.columns),\n",
    "                fill_color='paleturquoise',\n",
    "                align='left'),\n",
    "    cells=dict(values=[data.Name, data['Date-Added-Min'], data['Date-Seen-Min']],\n",
    "               fill_color='lavender',\n",
    "               align='left'))\n",
    "])\n",
    "\n",
    "fig.show()\n",
    "\n",
    "#fig.write_image(\"images/fig1.png\")\n"
   ]
  },
  {
   "cell_type": "code",
   "execution_count": 451,
   "metadata": {},
   "outputs": [
    {
     "data": {
      "application/vnd.plotly.v1+json": {
       "config": {
        "plotlyServerURL": "https://plot.ly"
       },
       "data": [
        {
         "marker": {
          "color": [
           "rgb(215,48,39)",
           "rgb(215,48,39)",
           "rgb(215,48,39)",
           "rgb(215,48,39)",
           "rgb(215,48,39)",
           "rgb(215,48,39)",
           "rgb(215,48,39)",
           "rgb(215,48,39)",
           "rgb(215,48,39)",
           "rgb(215,48,39)",
           "rgb(215,48,39)",
           "rgb(215,48,39)",
           "rgb(215,48,39)",
           "rgb(215,48,39)",
           "rgb(215,48,39)",
           "rgb(215,48,39)",
           "rgb(215,48,39)",
           "rgb(215,48,39)",
           "rgb(215,48,39)",
           "rgb(215,48,39)",
           "rgb(215,48,39)",
           "rgb(215,48,39)",
           "rgb(215,48,39)",
           "rgb(215,48,39)",
           "rgb(215,48,39)",
           "rgb(215,48,39)",
           "rgb(215,48,39)",
           "rgb(215,48,39)",
           "rgb(215,48,39)",
           "rgb(215,48,39)",
           "rgb(215,48,39)",
           "rgb(215,48,39)",
           "rgb(215,48,39)",
           "rgb(215,48,39)",
           "rgb(215,48,39)",
           "rgb(215,48,39)",
           "rgb(215,48,39)",
           "rgb(215,48,39)",
           "rgb(215,48,39)",
           "rgb(215,48,39)",
           "rgb(215,48,39)",
           "rgb(215,48,39)",
           "rgb(215,48,39)",
           "rgb(215,48,39)",
           "rgb(215,48,39)",
           "rgb(215,48,39)",
           "rgb(215,48,39)",
           "rgb(215,48,39)",
           "rgb(215,48,39)",
           "rgb(215,48,39)",
           "rgb(215,48,39)",
           "rgb(215,48,39)",
           "rgb(215,48,39)",
           "rgb(215,48,39)",
           "rgb(215,48,39)",
           "rgb(215,48,39)",
           "rgb(215,48,39)",
           "rgb(215,48,39)",
           "rgb(215,48,39)",
           "rgb(215,48,39)",
           "rgb(215,48,39)",
           "rgb(215,48,39)",
           "rgb(215,48,39)",
           "rgb(215,48,39)",
           "rgb(215,48,39)",
           "rgb(215,48,39)",
           "rgb(215,48,39)",
           "rgb(215,48,39)",
           "rgb(215,48,39)",
           "rgb(215,48,39)",
           "rgb(215,48,39)",
           "rgb(215,48,39)",
           "rgb(228, 247, 15)",
           "rgb(228, 247, 15)",
           "rgb(228, 247, 15)",
           "rgb(228, 247, 15)",
           "rgb(228, 247, 15)",
           "rgb(228, 247, 15)",
           "rgb(228, 247, 15)",
           "rgb(228, 247, 15)",
           "rgb(228, 247, 15)",
           "rgb(228, 247, 15)",
           "rgb(39, 60, 215)",
           "rgb(39, 60, 215)",
           "rgb(39, 60, 215)",
           "rgb(39, 60, 215)",
           "rgb(39, 60, 215)",
           "rgb(39, 60, 215)",
           "rgb(39, 60, 215)",
           "rgb(39, 60, 215)",
           "rgb(39, 60, 215)",
           "rgb(39, 60, 215)",
           "rgb(39, 60, 215)",
           "rgb(39, 60, 215)",
           "rgb(39, 60, 215)",
           "rgb(39, 60, 215)",
           "rgb(39, 60, 215)",
           "rgb(39, 60, 215)",
           "rgb(39, 60, 215)",
           "rgb(39, 60, 215)",
           "rgb(39, 60, 215)",
           "rgb(39, 60, 215)",
           "rgb(39, 60, 215)",
           "rgb(39, 60, 215)",
           "rgb(39, 60, 215)",
           "rgb(39, 60, 215)",
           "rgb(39, 60, 215)",
           "rgb(39, 60, 215)",
           "rgb(39, 60, 215)",
           "rgb(39, 60, 215)",
           "rgb(39, 60, 215)",
           "rgb(39, 60, 215)",
           "rgb(39, 60, 215)",
           "rgb(39, 60, 215)",
           "rgb(39, 60, 215)",
           "rgb(39, 60, 215)",
           "rgb(39, 60, 215)",
           "rgb(39, 60, 215)",
           "rgb(39, 60, 215)",
           "rgb(39, 60, 215)",
           "rgb(39, 60, 215)",
           "rgb(39, 60, 215)",
           "rgb(39, 60, 215)",
           "rgb(39, 60, 215)",
           "rgb(39, 60, 215)",
           "rgb(39, 60, 215)",
           "rgb(39, 60, 215)",
           "rgb(39, 60, 215)",
           "rgb(39, 60, 215)",
           "rgb(39, 60, 215)",
           "rgb(39, 60, 215)",
           "rgb(39, 60, 215)",
           "rgb(39, 60, 215)",
           "rgb(39, 60, 215)",
           "rgb(39, 60, 215)",
           "rgb(39, 60, 215)",
           "rgb(39, 60, 215)",
           "rgb(39, 60, 215)",
           "rgb(39, 60, 215)",
           "rgb(39, 60, 215)",
           "rgb(39, 60, 215)",
           "rgb(39, 60, 215)",
           "rgb(39, 60, 215)",
           "rgb(39, 60, 215)",
           "rgb(39, 60, 215)",
           "rgb(39, 60, 215)",
           "rgb(39, 60, 215)",
           "rgb(39, 60, 215)",
           "rgb(39, 60, 215)",
           "rgb(39, 60, 215)",
           "rgb(39, 60, 215)",
           "rgb(39, 60, 215)",
           "rgb(39, 60, 215)",
           "rgb(39, 60, 215)",
           "rgb(39, 60, 215)",
           "rgb(39, 60, 215)",
           "rgb(39, 60, 215)",
           "rgb(39, 60, 215)",
           "rgb(39, 60, 215)",
           "rgb(39, 60, 215)",
           "rgb(39, 60, 215)",
           "rgb(39, 60, 215)",
           "rgb(39, 60, 215)",
           "rgb(39, 60, 215)",
           "rgb(39, 60, 215)",
           "rgb(39, 60, 215)",
           "rgb(39, 60, 215)",
           "rgb(39, 60, 215)",
           "rgb(39, 60, 215)",
           "rgb(39, 60, 215)",
           "rgb(39, 60, 215)",
           "rgb(39, 60, 215)",
           "rgb(39, 60, 215)",
           "rgb(39, 60, 215)",
           "rgb(39, 60, 215)",
           "rgb(39, 60, 215)"
          ],
          "size": 10
         },
         "mode": "markers",
         "text": [
          "Sony - 55 class - oled - a1e series - 2160p - smart - 4k uhd tv with hdr\"",
          "Sony - 55 class - oled - a1e series - 2160p - smart - 4k uhd tv with hdr\"",
          "Sony - 55 class - oled - a1e series - 2160p - smart - 4k uhd tv with hdr\"",
          "Sony - 55 class - oled - a1e series - 2160p - smart - 4k uhd tv with hdr\"",
          "Sony - 55 class - oled - a1e series - 2160p - smart - 4k uhd tv with hdr\"",
          "Sony - 55 class - oled - a1e series - 2160p - smart - 4k uhd tv with hdr\"",
          "Sony - 55 class - oled - a1e series - 2160p - smart - 4k uhd tv with hdr\"",
          "Sony - 55 class - oled - a1e series - 2160p - smart - 4k uhd tv with hdr\"",
          "Sony - 55 class - oled - a1e series - 2160p - smart - 4k uhd tv with hdr\"",
          "Sony - 55 class - oled - a1e series - 2160p - smart - 4k uhd tv with hdr\"",
          "Sony - 55 class - oled - a1e series - 2160p - smart - 4k uhd tv with hdr\"",
          "Sony - 55 class - oled - a1e series - 2160p - smart - 4k uhd tv with hdr\"",
          "Sony - 55 class - oled - a1e series - 2160p - smart - 4k uhd tv with hdr\"",
          "Sony - 55 class - oled - a1e series - 2160p - smart - 4k uhd tv with hdr\"",
          "Sony - 55 class - oled - a1e series - 2160p - smart - 4k uhd tv with hdr\"",
          "Sony - 55 class - oled - a1e series - 2160p - smart - 4k uhd tv with hdr\"",
          "Sony - 55 class - oled - a1e series - 2160p - smart - 4k uhd tv with hdr\"",
          "Sony - 55 class - oled - a1e series - 2160p - smart - 4k uhd tv with hdr\"",
          "Sony - 55 class - oled - a1e series - 2160p - smart - 4k uhd tv with hdr\"",
          "Sony - 55 class - oled - a1e series - 2160p - smart - 4k uhd tv with hdr\"",
          "Sony - 55 class - oled - a1e series - 2160p - smart - 4k uhd tv with hdr\"",
          "Sony - 55 class - oled - a1e series - 2160p - smart - 4k uhd tv with hdr\"",
          "Sony - 55 class - oled - a1e series - 2160p - smart - 4k uhd tv with hdr\"",
          "Sony - 55 class - oled - a1e series - 2160p - smart - 4k uhd tv with hdr\"",
          "Sony - 55 class - oled - a1e series - 2160p - smart - 4k uhd tv with hdr\"",
          "Sony - 55 class - oled - a1e series - 2160p - smart - 4k uhd tv with hdr\"",
          "Sony - 55 class - oled - a1e series - 2160p - smart - 4k uhd tv with hdr\"",
          "Sony - 55 class - oled - a1e series - 2160p - smart - 4k uhd tv with hdr\"",
          "Sony - 55 class - oled - a1e series - 2160p - smart - 4k uhd tv with hdr\"",
          "Sony - 55 class - oled - a1e series - 2160p - smart - 4k uhd tv with hdr\"",
          "Sony - 55 class - oled - a1e series - 2160p - smart - 4k uhd tv with hdr\"",
          "Sony - 55 class - oled - a1e series - 2160p - smart - 4k uhd tv with hdr\"",
          "Sony - 55 class - oled - a1e series - 2160p - smart - 4k uhd tv with hdr\"",
          "Sony - 55 class - oled - a1e series - 2160p - smart - 4k uhd tv with hdr\"",
          "Sony - 55 class - oled - a1e series - 2160p - smart - 4k uhd tv with hdr\"",
          "Sony - 55 class - oled - a1e series - 2160p - smart - 4k uhd tv with hdr\"",
          "Sony - 55 class - oled - a1e series - 2160p - smart - 4k uhd tv with hdr\"",
          "Sony - 55 class - oled - a1e series - 2160p - smart - 4k uhd tv with hdr\"",
          "Sony - 55 class - oled - a1e series - 2160p - smart - 4k uhd tv with hdr\"",
          "Sony - 55 class - oled - a1e series - 2160p - smart - 4k uhd tv with hdr\"",
          "Sony - 55 class - oled - a1e series - 2160p - smart - 4k uhd tv with hdr\"",
          "Sony - 55 class - oled - a1e series - 2160p - smart - 4k uhd tv with hdr\"",
          "Sony - 55 class - oled - a1e series - 2160p - smart - 4k uhd tv with hdr\"",
          "Sony - 55 class - oled - a1e series - 2160p - smart - 4k uhd tv with hdr\"",
          "Sony - 55 class - oled - a1e series - 2160p - smart - 4k uhd tv with hdr\"",
          "Sony - 55 class - oled - a1e series - 2160p - smart - 4k uhd tv with hdr\"",
          "Sony - 55 class - oled - a1e series - 2160p - smart - 4k uhd tv with hdr\"",
          "Sony - 55 class - oled - a1e series - 2160p - smart - 4k uhd tv with hdr\"",
          "Sony - 55 class - oled - a1e series - 2160p - smart - 4k uhd tv with hdr\"",
          "Sony - 55 class - oled - a1e series - 2160p - smart - 4k uhd tv with hdr\"",
          "Sony - 55 class - oled - a1e series - 2160p - smart - 4k uhd tv with hdr\"",
          "Sony - 55 class - oled - a1e series - 2160p - smart - 4k uhd tv with hdr\"",
          "Sony - 55 class - oled - a1e series - 2160p - smart - 4k uhd tv with hdr\"",
          "Sony - 55 class - oled - a1e series - 2160p - smart - 4k uhd tv with hdr\"",
          "Sony - 55 class - oled - a1e series - 2160p - smart - 4k uhd tv with hdr\"",
          "Sony - 55 class - oled - a1e series - 2160p - smart - 4k uhd tv with hdr\"",
          "Sony - 55 class - oled - a1e series - 2160p - smart - 4k uhd tv with hdr\"",
          "Sony - 55 class - oled - a1e series - 2160p - smart - 4k uhd tv with hdr\"",
          "Sony - 55 class - oled - a1e series - 2160p - smart - 4k uhd tv with hdr\"",
          "Sony - 55 class - oled - a1e series - 2160p - smart - 4k uhd tv with hdr\"",
          "Sony - 55 class - oled - a1e series - 2160p - smart - 4k uhd tv with hdr\"",
          "Sony - 55 class - oled - a1e series - 2160p - smart - 4k uhd tv with hdr\"",
          "Sony - 55 class - oled - a1e series - 2160p - smart - 4k uhd tv with hdr\"",
          "Sony - 55 class - oled - a1e series - 2160p - smart - 4k uhd tv with hdr\"",
          "Sony - 55 class - oled - a1e series - 2160p - smart - 4k uhd tv with hdr\"",
          "Sony - 55 class - oled - a1e series - 2160p - smart - 4k uhd tv with hdr\"",
          "Sony - 55 class - oled - a1e series - 2160p - smart - 4k uhd tv with hdr\"",
          "Sony - 55 class - oled - a1e series - 2160p - smart - 4k uhd tv with hdr\"",
          "Sony - 55 class - oled - a1e series - 2160p - smart - 4k uhd tv with hdr\"",
          "Sony - 55 class - oled - a1e series - 2160p - smart - 4k uhd tv with hdr\"",
          "Sony - 55 class - oled - a1e series - 2160p - smart - 4k uhd tv with hdr\"",
          "Sony - 55 class - oled - a1e series - 2160p - smart - 4k uhd tv with hdr\"",
          "Samsung - 55 class - led - q8f series - 2160p - smart - 4k uhd tv with hdr\"",
          "Samsung - 55 class - led - q8f series - 2160p - smart - 4k uhd tv with hdr\"",
          "Samsung - 55 class - led - q8f series - 2160p - smart - 4k uhd tv with hdr\"",
          "Samsung - 55 class - led - q8f series - 2160p - smart - 4k uhd tv with hdr\"",
          "Samsung - 55 class - led - q8f series - 2160p - smart - 4k uhd tv with hdr\"",
          "Samsung - 55 class - led - q8f series - 2160p - smart - 4k uhd tv with hdr\"",
          "Samsung - 55 class - led - q8f series - 2160p - smart - 4k uhd tv with hdr\"",
          "Samsung - 55 class - led - q8f series - 2160p - smart - 4k uhd tv with hdr\"",
          "Samsung - 55 class - led - q8f series - 2160p - smart - 4k uhd tv with hdr\"",
          "Samsung - 55 class - led - q8f series - 2160p - smart - 4k uhd tv with hdr\"",
          "Samsung - 55 class - led - curved - q7c series - 2160p - smart - 4k uhd tv with hdr\"",
          "Samsung - 55 class - led - curved - q7c series - 2160p - smart - 4k uhd tv with hdr\"",
          "Samsung - 55 class - led - curved - q7c series - 2160p - smart - 4k uhd tv with hdr\"",
          "Samsung - 55 class - led - curved - q7c series - 2160p - smart - 4k uhd tv with hdr\"",
          "Samsung - 55 class - led - curved - q7c series - 2160p - smart - 4k uhd tv with hdr\"",
          "Samsung - 55 class - led - curved - q7c series - 2160p - smart - 4k uhd tv with hdr\"",
          "Samsung - 55 class - led - curved - q7c series - 2160p - smart - 4k uhd tv with hdr\"",
          "Samsung - 55 class - led - curved - q7c series - 2160p - smart - 4k uhd tv with hdr\"",
          "Samsung - 55 class - led - curved - q7c series - 2160p - smart - 4k uhd tv with hdr\"",
          "Samsung - 55 class - led - curved - q7c series - 2160p - smart - 4k uhd tv with hdr\"",
          "Samsung - 55 class - led - curved - q7c series - 2160p - smart - 4k uhd tv with hdr\"",
          "Samsung - 55 class - led - curved - q7c series - 2160p - smart - 4k uhd tv with hdr\"",
          "Samsung - 55 class - led - curved - q7c series - 2160p - smart - 4k uhd tv with hdr\"",
          "Samsung - 55 class - led - curved - q7c series - 2160p - smart - 4k uhd tv with hdr\"",
          "Samsung - 55 class - led - curved - q7c series - 2160p - smart - 4k uhd tv with hdr\"",
          "Samsung - 55 class - led - curved - q7c series - 2160p - smart - 4k uhd tv with hdr\"",
          "Samsung - 55 class - led - curved - q7c series - 2160p - smart - 4k uhd tv with hdr\"",
          "Samsung - 55 class - led - curved - q7c series - 2160p - smart - 4k uhd tv with hdr\"",
          "Samsung - 55 class - led - curved - q7c series - 2160p - smart - 4k uhd tv with hdr\"",
          "Samsung - 55 class - led - curved - q7c series - 2160p - smart - 4k uhd tv with hdr\"",
          "Samsung - 55 class - led - curved - q7c series - 2160p - smart - 4k uhd tv with hdr\"",
          "Samsung - 55 class - led - curved - q7c series - 2160p - smart - 4k uhd tv with hdr\"",
          "Samsung - 55 class - led - curved - q7c series - 2160p - smart - 4k uhd tv with hdr\"",
          "Samsung - 55 class - led - curved - q7c series - 2160p - smart - 4k uhd tv with hdr\"",
          "Samsung - 55 class - led - curved - q7c series - 2160p - smart - 4k uhd tv with hdr\"",
          "Samsung - 55 class - led - curved - q7c series - 2160p - smart - 4k uhd tv with hdr\"",
          "Samsung - 55 class - led - curved - q7c series - 2160p - smart - 4k uhd tv with hdr\"",
          "Samsung - 55 class - led - curved - q7c series - 2160p - smart - 4k uhd tv with hdr\"",
          "Samsung - 55 class - led - curved - q7c series - 2160p - smart - 4k uhd tv with hdr\"",
          "Samsung - 55 class - led - curved - q7c series - 2160p - smart - 4k uhd tv with hdr\"",
          "Samsung - 55 class - led - curved - q7c series - 2160p - smart - 4k uhd tv with hdr\"",
          "Samsung - 55 class - led - curved - q7c series - 2160p - smart - 4k uhd tv with hdr\"",
          "Samsung - 55 class - led - curved - q7c series - 2160p - smart - 4k uhd tv with hdr\"",
          "Samsung - 55 class - led - curved - q7c series - 2160p - smart - 4k uhd tv with hdr\"",
          "Samsung - 55 class - led - curved - q7c series - 2160p - smart - 4k uhd tv with hdr\"",
          "Samsung - 55 class - led - curved - q7c series - 2160p - smart - 4k uhd tv with hdr\"",
          "Samsung - 55 class - led - curved - q7c series - 2160p - smart - 4k uhd tv with hdr\"",
          "Samsung - 55 class - led - curved - q7c series - 2160p - smart - 4k uhd tv with hdr\"",
          "Samsung - 55 class - led - curved - q7c series - 2160p - smart - 4k uhd tv with hdr\"",
          "Samsung - 55 class - led - curved - q7c series - 2160p - smart - 4k uhd tv with hdr\"",
          "Samsung - 55 class - led - curved - q7c series - 2160p - smart - 4k uhd tv with hdr\"",
          "Samsung - 55 class - led - curved - q7c series - 2160p - smart - 4k uhd tv with hdr\"",
          "Samsung - 55 class - led - curved - q7c series - 2160p - smart - 4k uhd tv with hdr\"",
          "Samsung - 55 class - led - curved - q7c series - 2160p - smart - 4k uhd tv with hdr\"",
          "Samsung - 55 class - led - curved - q7c series - 2160p - smart - 4k uhd tv with hdr\"",
          "Samsung - 55 class - led - curved - q7c series - 2160p - smart - 4k uhd tv with hdr\"",
          "Samsung - 55 class - led - curved - q7c series - 2160p - smart - 4k uhd tv with hdr\"",
          "Samsung - 55 class - led - curved - q7c series - 2160p - smart - 4k uhd tv with hdr\"",
          "Samsung - 55 class - led - curved - q7c series - 2160p - smart - 4k uhd tv with hdr\"",
          "Samsung - 55 class - led - curved - q7c series - 2160p - smart - 4k uhd tv with hdr\"",
          "Samsung - 55 class - led - curved - q7c series - 2160p - smart - 4k uhd tv with hdr\"",
          "Samsung - 55 class - led - curved - q7c series - 2160p - smart - 4k uhd tv with hdr\"",
          "Samsung - 55 class - led - curved - q7c series - 2160p - smart - 4k uhd tv with hdr\"",
          "Samsung - 55 class - led - curved - q7c series - 2160p - smart - 4k uhd tv with hdr\"",
          "Samsung - 55 class - led - curved - q7c series - 2160p - smart - 4k uhd tv with hdr\"",
          "Samsung - 55 class - led - curved - q7c series - 2160p - smart - 4k uhd tv with hdr\"",
          "Samsung - 55 class - led - curved - q7c series - 2160p - smart - 4k uhd tv with hdr\"",
          "Samsung - 55 class - led - curved - q7c series - 2160p - smart - 4k uhd tv with hdr\"",
          "Samsung - 55 class - led - curved - q7c series - 2160p - smart - 4k uhd tv with hdr\"",
          "Samsung - 55 class - led - curved - q7c series - 2160p - smart - 4k uhd tv with hdr\"",
          "Samsung - 55 class - led - curved - q7c series - 2160p - smart - 4k uhd tv with hdr\"",
          "Samsung - 55 class - led - curved - q7c series - 2160p - smart - 4k uhd tv with hdr\"",
          "Samsung - 55 class - led - curved - q7c series - 2160p - smart - 4k uhd tv with hdr\"",
          "Samsung - 55 class - led - curved - q7c series - 2160p - smart - 4k uhd tv with hdr\"",
          "Samsung - 55 class - led - curved - q7c series - 2160p - smart - 4k uhd tv with hdr\"",
          "Samsung - 55 class - led - curved - q7c series - 2160p - smart - 4k uhd tv with hdr\"",
          "Samsung - 55 class - led - curved - q7c series - 2160p - smart - 4k uhd tv with hdr\"",
          "Samsung - 55 class - led - curved - q7c series - 2160p - smart - 4k uhd tv with hdr\"",
          "Samsung - 55 class - led - curved - q7c series - 2160p - smart - 4k uhd tv with hdr\"",
          "Samsung - 55 class - led - curved - q7c series - 2160p - smart - 4k uhd tv with hdr\"",
          "Samsung - 55 class - led - curved - q7c series - 2160p - smart - 4k uhd tv with hdr\"",
          "Samsung - 55 class - led - curved - q7c series - 2160p - smart - 4k uhd tv with hdr\"",
          "Samsung - 55 class - led - curved - q7c series - 2160p - smart - 4k uhd tv with hdr\"",
          "Samsung - 55 class - led - curved - q7c series - 2160p - smart - 4k uhd tv with hdr\"",
          "Samsung - 55 class - led - curved - q7c series - 2160p - smart - 4k uhd tv with hdr\"",
          "Samsung - 55 class - led - curved - q7c series - 2160p - smart - 4k uhd tv with hdr\"",
          "Samsung - 55 class - led - curved - q7c series - 2160p - smart - 4k uhd tv with hdr\"",
          "Samsung - 55 class - led - curved - q7c series - 2160p - smart - 4k uhd tv with hdr\"",
          "Samsung - 55 class - led - curved - q7c series - 2160p - smart - 4k uhd tv with hdr\"",
          "Samsung - 55 class - led - curved - q7c series - 2160p - smart - 4k uhd tv with hdr\"",
          "Samsung - 55 class - led - curved - q7c series - 2160p - smart - 4k uhd tv with hdr\"",
          "Samsung - 55 class - led - curved - q7c series - 2160p - smart - 4k uhd tv with hdr\"",
          "Samsung - 55 class - led - curved - q7c series - 2160p - smart - 4k uhd tv with hdr\"",
          "Samsung - 55 class - led - curved - q7c series - 2160p - smart - 4k uhd tv with hdr\"",
          "Samsung - 55 class - led - curved - q7c series - 2160p - smart - 4k uhd tv with hdr\"",
          "Samsung - 55 class - led - curved - q7c series - 2160p - smart - 4k uhd tv with hdr\"",
          "Samsung - 55 class - led - curved - q7c series - 2160p - smart - 4k uhd tv with hdr\"",
          "Samsung - 55 class - led - curved - q7c series - 2160p - smart - 4k uhd tv with hdr\"",
          "Samsung - 55 class - led - curved - q7c series - 2160p - smart - 4k uhd tv with hdr\"",
          "Samsung - 55 class - led - curved - q7c series - 2160p - smart - 4k uhd tv with hdr\"",
          "Samsung - 55 class - led - curved - q7c series - 2160p - smart - 4k uhd tv with hdr\"",
          "Samsung - 55 class - led - curved - q7c series - 2160p - smart - 4k uhd tv with hdr\"",
          "Samsung - 55 class - led - curved - q7c series - 2160p - smart - 4k uhd tv with hdr\"",
          "Samsung - 55 class - led - curved - q7c series - 2160p - smart - 4k uhd tv with hdr\""
         ],
         "type": "scatter",
         "x": [
          "2017-07-27T19:00:00",
          "2018-05-26T07:00:00",
          "2017-07-11T22:00:00",
          "2017-06-28T23:00:00",
          "2017-06-27T11:00:00",
          "2017-06-26T22:00:00",
          "2017-06-29T17:00:00",
          "2017-06-25T15:00:00",
          "2017-06-24T03:00:00",
          "2017-06-28T04:00:00",
          "2017-06-24T20:00:00",
          "2018-05-26T07:00:00",
          "2017-12-07T06:00:00",
          "2017-03-30T02:00:00",
          "2018-01-10T07:00:00",
          "2017-11-08T20:00:00",
          "2018-03-09T18:00:00",
          "2017-10-28T17:00:00",
          "2017-10-24T22:00:00",
          "2017-11-08T20:00:00",
          "2017-10-30T14:00:00",
          "2017-10-28T18:00:00",
          "2017-10-24T22:00:00",
          "2017-08-15T21:00:00",
          "2017-08-01T03:00:00",
          "2017-07-26T15:00:00",
          "2017-07-11T05:00:00",
          "2017-12-04T20:00:00",
          "2017-08-01T03:00:00",
          "2017-07-26T15:00:00",
          "2017-07-23T00:00:00",
          "2018-04-26T17:00:00",
          "2018-06-01T15:00:00",
          "2017-08-29T12:00:00",
          "2018-05-04T11:00:00",
          "2018-01-09T20:00:00",
          "2017-09-24T03:00:00",
          "2017-05-31T19:00:00",
          "2017-05-31T16:00:00",
          "2017-05-09T03:00:00",
          "2017-05-01T06:00:00",
          "2017-05-18T02:00:00",
          "2017-04-04T04:00:00",
          "2017-07-26T15:00:00",
          "2017-07-25T18:00:00",
          "2017-07-23T02:00:00",
          "2017-07-24T14:00:00",
          "2017-06-19T04:00:00",
          "2018-04-26T17:00:00",
          "2018-05-27T16:00:00",
          "2018-05-24T11:00:00",
          "2018-05-28T10:00:00",
          "2018-01-09T20:00:00",
          "2017-12-06T22:00:00",
          "2017-12-06T20:00:00",
          "2017-12-04T21:00:00",
          "2017-11-18T10:00:00",
          "2017-09-24T03:00:00",
          "2017-08-29T12:00:00",
          "2017-08-22T04:00:00",
          "2017-08-19T02:00:00",
          "2017-08-22T19:00:00",
          "2017-11-18T10:00:00",
          "2018-04-26T17:00:00",
          "2018-06-01T15:00:00",
          "2017-12-06T20:00:00",
          "2018-05-04T11:00:00",
          "2017-12-04T21:00:00",
          "2017-12-06T22:00:00",
          "2017-07-27T21:00:00",
          "2017-07-25T18:00:00",
          "2017-09-28T04:00:00",
          "2018-05-26T15:00:00",
          "2018-04-26T17:00:00",
          "2018-04-26T17:00:00",
          "2018-06-01T09:00:00",
          "2018-05-26T15:00:00",
          "2018-04-26T17:00:00",
          "2018-06-01T09:00:00",
          "2018-05-27T16:00:00",
          "2018-05-24T11:00:00",
          "2018-05-28T10:00:00",
          "2017-10-28T18:00:00",
          "2018-01-27T10:00:00",
          "2018-03-09T18:00:00",
          "2017-09-18T18:00:00",
          "2017-08-15T21:00:00",
          "2017-07-28T07:00:00",
          "2017-07-22T23:00:00",
          "2017-12-06T01:00:00",
          "2017-11-16T22:00:00",
          "2017-11-08T20:00:00",
          "2017-08-01T03:00:00",
          "2017-07-26T15:00:00",
          "2018-06-01T15:00:00",
          "2017-09-08T03:00:00",
          "2018-04-26T17:00:00",
          "2018-01-27T10:00:00",
          "2017-10-28T17:00:00",
          "2017-10-24T22:00:00",
          "2017-11-16T23:00:00",
          "2017-11-08T20:00:00",
          "2017-10-28T18:00:00",
          "2017-10-24T22:00:00",
          "2017-07-27T21:00:00",
          "2017-08-01T03:00:00",
          "2017-07-26T15:00:00",
          "2018-01-09T20:00:00",
          "2018-05-27T16:00:00",
          "2018-05-24T11:00:00",
          "2018-05-28T10:00:00",
          "2018-05-26T07:00:00",
          "2017-07-25T23:00:00",
          "2018-04-26T17:00:00",
          "2017-11-16T22:00:00",
          "2018-03-09T18:00:00",
          "2017-11-08T20:00:00",
          "2017-12-07T06:00:00",
          "2017-07-25T23:00:00",
          "2017-09-17T08:00:00",
          "2018-05-27T16:00:00",
          "2018-05-24T11:00:00",
          "2017-07-25T18:00:00",
          "2018-05-26T07:00:00",
          "2017-08-15T15:00:00",
          "2017-07-18T06:00:00",
          "2017-07-21T16:00:00",
          "2017-07-21T14:00:00",
          "2017-07-12T15:00:00",
          "2017-07-16T20:00:00",
          "2017-07-10T18:00:00",
          "2017-07-08T20:00:00",
          "2017-07-14T14:00:00",
          "2018-04-26T17:00:00",
          "2017-12-07T23:00:00",
          "2017-12-08T01:00:00",
          "2017-12-05T10:00:00",
          "2017-07-22T07:00:00",
          "2017-07-24T14:00:00",
          "2017-12-08T10:00:00",
          "2017-12-06T01:00:00",
          "2017-11-16T19:00:00",
          "2017-11-08T20:00:00",
          "2017-10-28T17:00:00",
          "2017-10-24T22:00:00",
          "2017-07-25T23:00:00",
          "2017-07-16T06:00:00",
          "2017-07-21T02:00:00",
          "2017-07-15T12:00:00",
          "2017-07-17T19:00:00",
          "2017-07-18T08:00:00",
          "2017-08-22T19:00:00",
          "2017-07-25T17:00:00",
          "2017-07-26T18:00:00",
          "2017-07-25T23:00:00",
          "2017-07-26T20:00:00",
          "2017-07-27T11:00:00",
          "2017-07-25T23:00:00",
          "2017-12-07T06:00:00",
          "2018-04-26T17:00:00",
          "2018-05-24T11:00:00",
          "2017-07-09T22:00:00",
          "2018-04-10T14:00:00",
          "2018-04-26T17:00:00",
          "2018-06-01T15:00:00",
          "2017-12-07T23:00:00",
          "2017-12-08T01:00:00",
          "2017-12-05T10:00:00",
          "2017-08-22T10:00:00",
          "2018-01-27T10:00:00",
          "2018-01-09T20:00:00",
          "2017-09-24T10:00:00",
          "2017-08-19T02:00:00",
          "2017-09-24T10:00:00",
          "2017-08-22T10:00:00",
          "2017-08-19T02:00:00"
         ],
         "y": [
          3050,
          2799.99,
          2999.99,
          2999.99,
          2999.99,
          2999.99,
          2999.99,
          2999.99,
          2999.99,
          2999.99,
          2999.99,
          2499.99,
          3596,
          4999.99,
          4296,
          2798,
          2798,
          2798,
          2798,
          4096,
          4096,
          4096,
          4096,
          3298,
          3219.99,
          3219.99,
          3219.99,
          2498,
          3499.99,
          3499.99,
          3498,
          2998,
          2998,
          2998,
          2998,
          2998,
          2998,
          3999.99,
          3999.99,
          3999.99,
          3999.99,
          3999.99,
          3999.99,
          3040,
          3040,
          3099.52,
          3099.52,
          3099.52,
          2498,
          2498,
          2498,
          2498,
          3298,
          3298,
          3298,
          3298,
          3298,
          3298,
          3298,
          3298,
          3298,
          3099.18,
          2798,
          2498,
          2498,
          2498,
          2498,
          2498,
          2498,
          3050,
          3050,
          2998,
          2199.99,
          2097.99,
          2097.99,
          1997.99,
          1999.99,
          2197.99,
          2197.99,
          1997.99,
          1997.99,
          1997.99,
          2395.98,
          1697.99,
          1497.99,
          2197.99,
          2197.99,
          2197.99,
          2197.99,
          1797.99,
          1797.99,
          1797.99,
          2199.99,
          2199.99,
          2797.99,
          1897.99,
          1549.95,
          1549.95,
          1997.99,
          1997.99,
          2075.98,
          2075.98,
          1997.99,
          1997.99,
          1898.95,
          1759.99,
          1759.99,
          1997.99,
          1399.99,
          1399.99,
          1399.99,
          1999.99,
          2197.99,
          1797.99,
          1797.99,
          1797.99,
          1797.99,
          1797.99,
          2197.99,
          2475.98,
          1978.01,
          1978.01,
          1972.95,
          1299.99,
          2197.99,
          2197.99,
          2197.99,
          2197.99,
          2197.99,
          2197.99,
          2197.99,
          2197.99,
          2197.99,
          1797.99,
          1797.99,
          1797.99,
          1797.99,
          1997.95,
          1997.95,
          1599,
          1599,
          1599,
          1599,
          1599,
          1599,
          2197.99,
          1998.95,
          1998.95,
          1998.95,
          1998.95,
          1998.95,
          1755.95,
          1982.95,
          1982.95,
          1982.95,
          1900,
          1900,
          2197.99,
          2125.98,
          2797.99,
          2797.99,
          2016.95,
          2997.99,
          2997.99,
          2997.99,
          2997.99,
          2997.99,
          2997.99,
          2997.99,
          2997.99,
          2997.99,
          2997.99,
          2997.99,
          2197.99,
          2197.99,
          2197.99
         ]
        }
       ],
       "layout": {
        "template": {
         "data": {
          "bar": [
           {
            "error_x": {
             "color": "#2a3f5f"
            },
            "error_y": {
             "color": "#2a3f5f"
            },
            "marker": {
             "line": {
              "color": "#E5ECF6",
              "width": 0.5
             }
            },
            "type": "bar"
           }
          ],
          "barpolar": [
           {
            "marker": {
             "line": {
              "color": "#E5ECF6",
              "width": 0.5
             }
            },
            "type": "barpolar"
           }
          ],
          "carpet": [
           {
            "aaxis": {
             "endlinecolor": "#2a3f5f",
             "gridcolor": "white",
             "linecolor": "white",
             "minorgridcolor": "white",
             "startlinecolor": "#2a3f5f"
            },
            "baxis": {
             "endlinecolor": "#2a3f5f",
             "gridcolor": "white",
             "linecolor": "white",
             "minorgridcolor": "white",
             "startlinecolor": "#2a3f5f"
            },
            "type": "carpet"
           }
          ],
          "choropleth": [
           {
            "colorbar": {
             "outlinewidth": 0,
             "ticks": ""
            },
            "type": "choropleth"
           }
          ],
          "contour": [
           {
            "colorbar": {
             "outlinewidth": 0,
             "ticks": ""
            },
            "colorscale": [
             [
              0,
              "#0d0887"
             ],
             [
              0.1111111111111111,
              "#46039f"
             ],
             [
              0.2222222222222222,
              "#7201a8"
             ],
             [
              0.3333333333333333,
              "#9c179e"
             ],
             [
              0.4444444444444444,
              "#bd3786"
             ],
             [
              0.5555555555555556,
              "#d8576b"
             ],
             [
              0.6666666666666666,
              "#ed7953"
             ],
             [
              0.7777777777777778,
              "#fb9f3a"
             ],
             [
              0.8888888888888888,
              "#fdca26"
             ],
             [
              1,
              "#f0f921"
             ]
            ],
            "type": "contour"
           }
          ],
          "contourcarpet": [
           {
            "colorbar": {
             "outlinewidth": 0,
             "ticks": ""
            },
            "type": "contourcarpet"
           }
          ],
          "heatmap": [
           {
            "colorbar": {
             "outlinewidth": 0,
             "ticks": ""
            },
            "colorscale": [
             [
              0,
              "#0d0887"
             ],
             [
              0.1111111111111111,
              "#46039f"
             ],
             [
              0.2222222222222222,
              "#7201a8"
             ],
             [
              0.3333333333333333,
              "#9c179e"
             ],
             [
              0.4444444444444444,
              "#bd3786"
             ],
             [
              0.5555555555555556,
              "#d8576b"
             ],
             [
              0.6666666666666666,
              "#ed7953"
             ],
             [
              0.7777777777777778,
              "#fb9f3a"
             ],
             [
              0.8888888888888888,
              "#fdca26"
             ],
             [
              1,
              "#f0f921"
             ]
            ],
            "type": "heatmap"
           }
          ],
          "heatmapgl": [
           {
            "colorbar": {
             "outlinewidth": 0,
             "ticks": ""
            },
            "colorscale": [
             [
              0,
              "#0d0887"
             ],
             [
              0.1111111111111111,
              "#46039f"
             ],
             [
              0.2222222222222222,
              "#7201a8"
             ],
             [
              0.3333333333333333,
              "#9c179e"
             ],
             [
              0.4444444444444444,
              "#bd3786"
             ],
             [
              0.5555555555555556,
              "#d8576b"
             ],
             [
              0.6666666666666666,
              "#ed7953"
             ],
             [
              0.7777777777777778,
              "#fb9f3a"
             ],
             [
              0.8888888888888888,
              "#fdca26"
             ],
             [
              1,
              "#f0f921"
             ]
            ],
            "type": "heatmapgl"
           }
          ],
          "histogram": [
           {
            "marker": {
             "colorbar": {
              "outlinewidth": 0,
              "ticks": ""
             }
            },
            "type": "histogram"
           }
          ],
          "histogram2d": [
           {
            "colorbar": {
             "outlinewidth": 0,
             "ticks": ""
            },
            "colorscale": [
             [
              0,
              "#0d0887"
             ],
             [
              0.1111111111111111,
              "#46039f"
             ],
             [
              0.2222222222222222,
              "#7201a8"
             ],
             [
              0.3333333333333333,
              "#9c179e"
             ],
             [
              0.4444444444444444,
              "#bd3786"
             ],
             [
              0.5555555555555556,
              "#d8576b"
             ],
             [
              0.6666666666666666,
              "#ed7953"
             ],
             [
              0.7777777777777778,
              "#fb9f3a"
             ],
             [
              0.8888888888888888,
              "#fdca26"
             ],
             [
              1,
              "#f0f921"
             ]
            ],
            "type": "histogram2d"
           }
          ],
          "histogram2dcontour": [
           {
            "colorbar": {
             "outlinewidth": 0,
             "ticks": ""
            },
            "colorscale": [
             [
              0,
              "#0d0887"
             ],
             [
              0.1111111111111111,
              "#46039f"
             ],
             [
              0.2222222222222222,
              "#7201a8"
             ],
             [
              0.3333333333333333,
              "#9c179e"
             ],
             [
              0.4444444444444444,
              "#bd3786"
             ],
             [
              0.5555555555555556,
              "#d8576b"
             ],
             [
              0.6666666666666666,
              "#ed7953"
             ],
             [
              0.7777777777777778,
              "#fb9f3a"
             ],
             [
              0.8888888888888888,
              "#fdca26"
             ],
             [
              1,
              "#f0f921"
             ]
            ],
            "type": "histogram2dcontour"
           }
          ],
          "mesh3d": [
           {
            "colorbar": {
             "outlinewidth": 0,
             "ticks": ""
            },
            "type": "mesh3d"
           }
          ],
          "parcoords": [
           {
            "line": {
             "colorbar": {
              "outlinewidth": 0,
              "ticks": ""
             }
            },
            "type": "parcoords"
           }
          ],
          "pie": [
           {
            "automargin": true,
            "type": "pie"
           }
          ],
          "scatter": [
           {
            "marker": {
             "colorbar": {
              "outlinewidth": 0,
              "ticks": ""
             }
            },
            "type": "scatter"
           }
          ],
          "scatter3d": [
           {
            "line": {
             "colorbar": {
              "outlinewidth": 0,
              "ticks": ""
             }
            },
            "marker": {
             "colorbar": {
              "outlinewidth": 0,
              "ticks": ""
             }
            },
            "type": "scatter3d"
           }
          ],
          "scattercarpet": [
           {
            "marker": {
             "colorbar": {
              "outlinewidth": 0,
              "ticks": ""
             }
            },
            "type": "scattercarpet"
           }
          ],
          "scattergeo": [
           {
            "marker": {
             "colorbar": {
              "outlinewidth": 0,
              "ticks": ""
             }
            },
            "type": "scattergeo"
           }
          ],
          "scattergl": [
           {
            "marker": {
             "colorbar": {
              "outlinewidth": 0,
              "ticks": ""
             }
            },
            "type": "scattergl"
           }
          ],
          "scattermapbox": [
           {
            "marker": {
             "colorbar": {
              "outlinewidth": 0,
              "ticks": ""
             }
            },
            "type": "scattermapbox"
           }
          ],
          "scatterpolar": [
           {
            "marker": {
             "colorbar": {
              "outlinewidth": 0,
              "ticks": ""
             }
            },
            "type": "scatterpolar"
           }
          ],
          "scatterpolargl": [
           {
            "marker": {
             "colorbar": {
              "outlinewidth": 0,
              "ticks": ""
             }
            },
            "type": "scatterpolargl"
           }
          ],
          "scatterternary": [
           {
            "marker": {
             "colorbar": {
              "outlinewidth": 0,
              "ticks": ""
             }
            },
            "type": "scatterternary"
           }
          ],
          "surface": [
           {
            "colorbar": {
             "outlinewidth": 0,
             "ticks": ""
            },
            "colorscale": [
             [
              0,
              "#0d0887"
             ],
             [
              0.1111111111111111,
              "#46039f"
             ],
             [
              0.2222222222222222,
              "#7201a8"
             ],
             [
              0.3333333333333333,
              "#9c179e"
             ],
             [
              0.4444444444444444,
              "#bd3786"
             ],
             [
              0.5555555555555556,
              "#d8576b"
             ],
             [
              0.6666666666666666,
              "#ed7953"
             ],
             [
              0.7777777777777778,
              "#fb9f3a"
             ],
             [
              0.8888888888888888,
              "#fdca26"
             ],
             [
              1,
              "#f0f921"
             ]
            ],
            "type": "surface"
           }
          ],
          "table": [
           {
            "cells": {
             "fill": {
              "color": "#EBF0F8"
             },
             "line": {
              "color": "white"
             }
            },
            "header": {
             "fill": {
              "color": "#C8D4E3"
             },
             "line": {
              "color": "white"
             }
            },
            "type": "table"
           }
          ]
         },
         "layout": {
          "annotationdefaults": {
           "arrowcolor": "#2a3f5f",
           "arrowhead": 0,
           "arrowwidth": 1
          },
          "coloraxis": {
           "colorbar": {
            "outlinewidth": 0,
            "ticks": ""
           }
          },
          "colorscale": {
           "diverging": [
            [
             0,
             "#8e0152"
            ],
            [
             0.1,
             "#c51b7d"
            ],
            [
             0.2,
             "#de77ae"
            ],
            [
             0.3,
             "#f1b6da"
            ],
            [
             0.4,
             "#fde0ef"
            ],
            [
             0.5,
             "#f7f7f7"
            ],
            [
             0.6,
             "#e6f5d0"
            ],
            [
             0.7,
             "#b8e186"
            ],
            [
             0.8,
             "#7fbc41"
            ],
            [
             0.9,
             "#4d9221"
            ],
            [
             1,
             "#276419"
            ]
           ],
           "sequential": [
            [
             0,
             "#0d0887"
            ],
            [
             0.1111111111111111,
             "#46039f"
            ],
            [
             0.2222222222222222,
             "#7201a8"
            ],
            [
             0.3333333333333333,
             "#9c179e"
            ],
            [
             0.4444444444444444,
             "#bd3786"
            ],
            [
             0.5555555555555556,
             "#d8576b"
            ],
            [
             0.6666666666666666,
             "#ed7953"
            ],
            [
             0.7777777777777778,
             "#fb9f3a"
            ],
            [
             0.8888888888888888,
             "#fdca26"
            ],
            [
             1,
             "#f0f921"
            ]
           ],
           "sequentialminus": [
            [
             0,
             "#0d0887"
            ],
            [
             0.1111111111111111,
             "#46039f"
            ],
            [
             0.2222222222222222,
             "#7201a8"
            ],
            [
             0.3333333333333333,
             "#9c179e"
            ],
            [
             0.4444444444444444,
             "#bd3786"
            ],
            [
             0.5555555555555556,
             "#d8576b"
            ],
            [
             0.6666666666666666,
             "#ed7953"
            ],
            [
             0.7777777777777778,
             "#fb9f3a"
            ],
            [
             0.8888888888888888,
             "#fdca26"
            ],
            [
             1,
             "#f0f921"
            ]
           ]
          },
          "colorway": [
           "#636efa",
           "#EF553B",
           "#00cc96",
           "#ab63fa",
           "#FFA15A",
           "#19d3f3",
           "#FF6692",
           "#B6E880",
           "#FF97FF",
           "#FECB52"
          ],
          "font": {
           "color": "#2a3f5f"
          },
          "geo": {
           "bgcolor": "white",
           "lakecolor": "white",
           "landcolor": "#E5ECF6",
           "showlakes": true,
           "showland": true,
           "subunitcolor": "white"
          },
          "hoverlabel": {
           "align": "left"
          },
          "hovermode": "closest",
          "mapbox": {
           "style": "light"
          },
          "paper_bgcolor": "white",
          "plot_bgcolor": "#E5ECF6",
          "polar": {
           "angularaxis": {
            "gridcolor": "white",
            "linecolor": "white",
            "ticks": ""
           },
           "bgcolor": "#E5ECF6",
           "radialaxis": {
            "gridcolor": "white",
            "linecolor": "white",
            "ticks": ""
           }
          },
          "scene": {
           "xaxis": {
            "backgroundcolor": "#E5ECF6",
            "gridcolor": "white",
            "gridwidth": 2,
            "linecolor": "white",
            "showbackground": true,
            "ticks": "",
            "zerolinecolor": "white"
           },
           "yaxis": {
            "backgroundcolor": "#E5ECF6",
            "gridcolor": "white",
            "gridwidth": 2,
            "linecolor": "white",
            "showbackground": true,
            "ticks": "",
            "zerolinecolor": "white"
           },
           "zaxis": {
            "backgroundcolor": "#E5ECF6",
            "gridcolor": "white",
            "gridwidth": 2,
            "linecolor": "white",
            "showbackground": true,
            "ticks": "",
            "zerolinecolor": "white"
           }
          },
          "shapedefaults": {
           "line": {
            "color": "#2a3f5f"
           }
          },
          "ternary": {
           "aaxis": {
            "gridcolor": "white",
            "linecolor": "white",
            "ticks": ""
           },
           "baxis": {
            "gridcolor": "white",
            "linecolor": "white",
            "ticks": ""
           },
           "bgcolor": "#E5ECF6",
           "caxis": {
            "gridcolor": "white",
            "linecolor": "white",
            "ticks": ""
           }
          },
          "title": {
           "x": 0.05
          },
          "xaxis": {
           "automargin": true,
           "gridcolor": "white",
           "linecolor": "white",
           "ticks": "",
           "title": {
            "standoff": 15
           },
           "zerolinecolor": "white",
           "zerolinewidth": 2
          },
          "yaxis": {
           "automargin": true,
           "gridcolor": "white",
           "linecolor": "white",
           "ticks": "",
           "title": {
            "standoff": 15
           },
           "zerolinecolor": "white",
           "zerolinewidth": 2
          }
         }
        },
        "title": {
         "text": "Price Variation with Time"
        },
        "xaxis": {
         "title": {
          "text": "Date"
         }
        },
        "yaxis": {
         "title": {
          "text": "Price"
         }
        }
       }
      },
      "text/html": [
       "<div>\n",
       "        \n",
       "        \n",
       "            <div id=\"68892809-38a6-4a73-ab3a-225e9ad04894\" class=\"plotly-graph-div\" style=\"height:525px; width:100%;\"></div>\n",
       "            <script type=\"text/javascript\">\n",
       "                require([\"plotly\"], function(Plotly) {\n",
       "                    window.PLOTLYENV=window.PLOTLYENV || {};\n",
       "                    \n",
       "                if (document.getElementById(\"68892809-38a6-4a73-ab3a-225e9ad04894\")) {\n",
       "                    Plotly.newPlot(\n",
       "                        '68892809-38a6-4a73-ab3a-225e9ad04894',\n",
       "                        [{\"marker\": {\"color\": [\"rgb(215,48,39)\", \"rgb(215,48,39)\", \"rgb(215,48,39)\", \"rgb(215,48,39)\", \"rgb(215,48,39)\", \"rgb(215,48,39)\", \"rgb(215,48,39)\", \"rgb(215,48,39)\", \"rgb(215,48,39)\", \"rgb(215,48,39)\", \"rgb(215,48,39)\", \"rgb(215,48,39)\", \"rgb(215,48,39)\", \"rgb(215,48,39)\", \"rgb(215,48,39)\", \"rgb(215,48,39)\", \"rgb(215,48,39)\", \"rgb(215,48,39)\", \"rgb(215,48,39)\", \"rgb(215,48,39)\", \"rgb(215,48,39)\", \"rgb(215,48,39)\", \"rgb(215,48,39)\", \"rgb(215,48,39)\", \"rgb(215,48,39)\", \"rgb(215,48,39)\", \"rgb(215,48,39)\", \"rgb(215,48,39)\", \"rgb(215,48,39)\", \"rgb(215,48,39)\", \"rgb(215,48,39)\", \"rgb(215,48,39)\", \"rgb(215,48,39)\", \"rgb(215,48,39)\", \"rgb(215,48,39)\", \"rgb(215,48,39)\", \"rgb(215,48,39)\", \"rgb(215,48,39)\", \"rgb(215,48,39)\", \"rgb(215,48,39)\", \"rgb(215,48,39)\", \"rgb(215,48,39)\", \"rgb(215,48,39)\", \"rgb(215,48,39)\", \"rgb(215,48,39)\", \"rgb(215,48,39)\", \"rgb(215,48,39)\", \"rgb(215,48,39)\", \"rgb(215,48,39)\", \"rgb(215,48,39)\", \"rgb(215,48,39)\", \"rgb(215,48,39)\", \"rgb(215,48,39)\", \"rgb(215,48,39)\", \"rgb(215,48,39)\", \"rgb(215,48,39)\", \"rgb(215,48,39)\", \"rgb(215,48,39)\", \"rgb(215,48,39)\", \"rgb(215,48,39)\", \"rgb(215,48,39)\", \"rgb(215,48,39)\", \"rgb(215,48,39)\", \"rgb(215,48,39)\", \"rgb(215,48,39)\", \"rgb(215,48,39)\", \"rgb(215,48,39)\", \"rgb(215,48,39)\", \"rgb(215,48,39)\", \"rgb(215,48,39)\", \"rgb(215,48,39)\", \"rgb(215,48,39)\", \"rgb(228, 247, 15)\", \"rgb(228, 247, 15)\", \"rgb(228, 247, 15)\", \"rgb(228, 247, 15)\", \"rgb(228, 247, 15)\", \"rgb(228, 247, 15)\", \"rgb(228, 247, 15)\", \"rgb(228, 247, 15)\", \"rgb(228, 247, 15)\", \"rgb(228, 247, 15)\", \"rgb(39, 60, 215)\", \"rgb(39, 60, 215)\", \"rgb(39, 60, 215)\", \"rgb(39, 60, 215)\", \"rgb(39, 60, 215)\", \"rgb(39, 60, 215)\", \"rgb(39, 60, 215)\", \"rgb(39, 60, 215)\", \"rgb(39, 60, 215)\", \"rgb(39, 60, 215)\", \"rgb(39, 60, 215)\", \"rgb(39, 60, 215)\", \"rgb(39, 60, 215)\", \"rgb(39, 60, 215)\", \"rgb(39, 60, 215)\", \"rgb(39, 60, 215)\", \"rgb(39, 60, 215)\", \"rgb(39, 60, 215)\", \"rgb(39, 60, 215)\", \"rgb(39, 60, 215)\", \"rgb(39, 60, 215)\", \"rgb(39, 60, 215)\", \"rgb(39, 60, 215)\", \"rgb(39, 60, 215)\", \"rgb(39, 60, 215)\", \"rgb(39, 60, 215)\", \"rgb(39, 60, 215)\", \"rgb(39, 60, 215)\", \"rgb(39, 60, 215)\", \"rgb(39, 60, 215)\", \"rgb(39, 60, 215)\", \"rgb(39, 60, 215)\", \"rgb(39, 60, 215)\", \"rgb(39, 60, 215)\", \"rgb(39, 60, 215)\", \"rgb(39, 60, 215)\", \"rgb(39, 60, 215)\", \"rgb(39, 60, 215)\", \"rgb(39, 60, 215)\", \"rgb(39, 60, 215)\", \"rgb(39, 60, 215)\", \"rgb(39, 60, 215)\", \"rgb(39, 60, 215)\", \"rgb(39, 60, 215)\", \"rgb(39, 60, 215)\", \"rgb(39, 60, 215)\", \"rgb(39, 60, 215)\", \"rgb(39, 60, 215)\", \"rgb(39, 60, 215)\", \"rgb(39, 60, 215)\", \"rgb(39, 60, 215)\", \"rgb(39, 60, 215)\", \"rgb(39, 60, 215)\", \"rgb(39, 60, 215)\", \"rgb(39, 60, 215)\", \"rgb(39, 60, 215)\", \"rgb(39, 60, 215)\", \"rgb(39, 60, 215)\", \"rgb(39, 60, 215)\", \"rgb(39, 60, 215)\", \"rgb(39, 60, 215)\", \"rgb(39, 60, 215)\", \"rgb(39, 60, 215)\", \"rgb(39, 60, 215)\", \"rgb(39, 60, 215)\", \"rgb(39, 60, 215)\", \"rgb(39, 60, 215)\", \"rgb(39, 60, 215)\", \"rgb(39, 60, 215)\", \"rgb(39, 60, 215)\", \"rgb(39, 60, 215)\", \"rgb(39, 60, 215)\", \"rgb(39, 60, 215)\", \"rgb(39, 60, 215)\", \"rgb(39, 60, 215)\", \"rgb(39, 60, 215)\", \"rgb(39, 60, 215)\", \"rgb(39, 60, 215)\", \"rgb(39, 60, 215)\", \"rgb(39, 60, 215)\", \"rgb(39, 60, 215)\", \"rgb(39, 60, 215)\", \"rgb(39, 60, 215)\", \"rgb(39, 60, 215)\", \"rgb(39, 60, 215)\", \"rgb(39, 60, 215)\", \"rgb(39, 60, 215)\", \"rgb(39, 60, 215)\", \"rgb(39, 60, 215)\", \"rgb(39, 60, 215)\", \"rgb(39, 60, 215)\", \"rgb(39, 60, 215)\", \"rgb(39, 60, 215)\", \"rgb(39, 60, 215)\"], \"size\": 10}, \"mode\": \"markers\", \"text\": [\"Sony - 55 class - oled - a1e series - 2160p - smart - 4k uhd tv with hdr\\\"\", \"Sony - 55 class - oled - a1e series - 2160p - smart - 4k uhd tv with hdr\\\"\", \"Sony - 55 class - oled - a1e series - 2160p - smart - 4k uhd tv with hdr\\\"\", \"Sony - 55 class - oled - a1e series - 2160p - smart - 4k uhd tv with hdr\\\"\", \"Sony - 55 class - oled - a1e series - 2160p - smart - 4k uhd tv with hdr\\\"\", \"Sony - 55 class - oled - a1e series - 2160p - smart - 4k uhd tv with hdr\\\"\", \"Sony - 55 class - oled - a1e series - 2160p - smart - 4k uhd tv with hdr\\\"\", \"Sony - 55 class - oled - a1e series - 2160p - smart - 4k uhd tv with hdr\\\"\", \"Sony - 55 class - oled - a1e series - 2160p - smart - 4k uhd tv with hdr\\\"\", \"Sony - 55 class - oled - a1e series - 2160p - smart - 4k uhd tv with hdr\\\"\", \"Sony - 55 class - oled - a1e series - 2160p - smart - 4k uhd tv with hdr\\\"\", \"Sony - 55 class - oled - a1e series - 2160p - smart - 4k uhd tv with hdr\\\"\", \"Sony - 55 class - oled - a1e series - 2160p - smart - 4k uhd tv with hdr\\\"\", \"Sony - 55 class - oled - a1e series - 2160p - smart - 4k uhd tv with hdr\\\"\", \"Sony - 55 class - oled - a1e series - 2160p - smart - 4k uhd tv with hdr\\\"\", \"Sony - 55 class - oled - a1e series - 2160p - smart - 4k uhd tv with hdr\\\"\", \"Sony - 55 class - oled - a1e series - 2160p - smart - 4k uhd tv with hdr\\\"\", \"Sony - 55 class - oled - a1e series - 2160p - smart - 4k uhd tv with hdr\\\"\", \"Sony - 55 class - oled - a1e series - 2160p - smart - 4k uhd tv with hdr\\\"\", \"Sony - 55 class - oled - a1e series - 2160p - smart - 4k uhd tv with hdr\\\"\", \"Sony - 55 class - oled - a1e series - 2160p - smart - 4k uhd tv with hdr\\\"\", \"Sony - 55 class - oled - a1e series - 2160p - smart - 4k uhd tv with hdr\\\"\", \"Sony - 55 class - oled - a1e series - 2160p - smart - 4k uhd tv with hdr\\\"\", \"Sony - 55 class - oled - a1e series - 2160p - smart - 4k uhd tv with hdr\\\"\", \"Sony - 55 class - oled - a1e series - 2160p - smart - 4k uhd tv with hdr\\\"\", \"Sony - 55 class - oled - a1e series - 2160p - smart - 4k uhd tv with hdr\\\"\", \"Sony - 55 class - oled - a1e series - 2160p - smart - 4k uhd tv with hdr\\\"\", \"Sony - 55 class - oled - a1e series - 2160p - smart - 4k uhd tv with hdr\\\"\", \"Sony - 55 class - oled - a1e series - 2160p - smart - 4k uhd tv with hdr\\\"\", \"Sony - 55 class - oled - a1e series - 2160p - smart - 4k uhd tv with hdr\\\"\", \"Sony - 55 class - oled - a1e series - 2160p - smart - 4k uhd tv with hdr\\\"\", \"Sony - 55 class - oled - a1e series - 2160p - smart - 4k uhd tv with hdr\\\"\", \"Sony - 55 class - oled - a1e series - 2160p - smart - 4k uhd tv with hdr\\\"\", \"Sony - 55 class - oled - a1e series - 2160p - smart - 4k uhd tv with hdr\\\"\", \"Sony - 55 class - oled - a1e series - 2160p - smart - 4k uhd tv with hdr\\\"\", \"Sony - 55 class - oled - a1e series - 2160p - smart - 4k uhd tv with hdr\\\"\", \"Sony - 55 class - oled - a1e series - 2160p - smart - 4k uhd tv with hdr\\\"\", \"Sony - 55 class - oled - a1e series - 2160p - smart - 4k uhd tv with hdr\\\"\", \"Sony - 55 class - oled - a1e series - 2160p - smart - 4k uhd tv with hdr\\\"\", \"Sony - 55 class - oled - a1e series - 2160p - smart - 4k uhd tv with hdr\\\"\", \"Sony - 55 class - oled - a1e series - 2160p - smart - 4k uhd tv with hdr\\\"\", \"Sony - 55 class - oled - a1e series - 2160p - smart - 4k uhd tv with hdr\\\"\", \"Sony - 55 class - oled - a1e series - 2160p - smart - 4k uhd tv with hdr\\\"\", \"Sony - 55 class - oled - a1e series - 2160p - smart - 4k uhd tv with hdr\\\"\", \"Sony - 55 class - oled - a1e series - 2160p - smart - 4k uhd tv with hdr\\\"\", \"Sony - 55 class - oled - a1e series - 2160p - smart - 4k uhd tv with hdr\\\"\", \"Sony - 55 class - oled - a1e series - 2160p - smart - 4k uhd tv with hdr\\\"\", \"Sony - 55 class - oled - a1e series - 2160p - smart - 4k uhd tv with hdr\\\"\", \"Sony - 55 class - oled - a1e series - 2160p - smart - 4k uhd tv with hdr\\\"\", \"Sony - 55 class - oled - a1e series - 2160p - smart - 4k uhd tv with hdr\\\"\", \"Sony - 55 class - oled - a1e series - 2160p - smart - 4k uhd tv with hdr\\\"\", \"Sony - 55 class - oled - a1e series - 2160p - smart - 4k uhd tv with hdr\\\"\", \"Sony - 55 class - oled - a1e series - 2160p - smart - 4k uhd tv with hdr\\\"\", \"Sony - 55 class - oled - a1e series - 2160p - smart - 4k uhd tv with hdr\\\"\", \"Sony - 55 class - oled - a1e series - 2160p - smart - 4k uhd tv with hdr\\\"\", \"Sony - 55 class - oled - a1e series - 2160p - smart - 4k uhd tv with hdr\\\"\", \"Sony - 55 class - oled - a1e series - 2160p - smart - 4k uhd tv with hdr\\\"\", \"Sony - 55 class - oled - a1e series - 2160p - smart - 4k uhd tv with hdr\\\"\", \"Sony - 55 class - oled - a1e series - 2160p - smart - 4k uhd tv with hdr\\\"\", \"Sony - 55 class - oled - a1e series - 2160p - smart - 4k uhd tv with hdr\\\"\", \"Sony - 55 class - oled - a1e series - 2160p - smart - 4k uhd tv with hdr\\\"\", \"Sony - 55 class - oled - a1e series - 2160p - smart - 4k uhd tv with hdr\\\"\", \"Sony - 55 class - oled - a1e series - 2160p - smart - 4k uhd tv with hdr\\\"\", \"Sony - 55 class - oled - a1e series - 2160p - smart - 4k uhd tv with hdr\\\"\", \"Sony - 55 class - oled - a1e series - 2160p - smart - 4k uhd tv with hdr\\\"\", \"Sony - 55 class - oled - a1e series - 2160p - smart - 4k uhd tv with hdr\\\"\", \"Sony - 55 class - oled - a1e series - 2160p - smart - 4k uhd tv with hdr\\\"\", \"Sony - 55 class - oled - a1e series - 2160p - smart - 4k uhd tv with hdr\\\"\", \"Sony - 55 class - oled - a1e series - 2160p - smart - 4k uhd tv with hdr\\\"\", \"Sony - 55 class - oled - a1e series - 2160p - smart - 4k uhd tv with hdr\\\"\", \"Sony - 55 class - oled - a1e series - 2160p - smart - 4k uhd tv with hdr\\\"\", \"Sony - 55 class - oled - a1e series - 2160p - smart - 4k uhd tv with hdr\\\"\", \"Samsung - 55 class - led - q8f series - 2160p - smart - 4k uhd tv with hdr\\\"\", \"Samsung - 55 class - led - q8f series - 2160p - smart - 4k uhd tv with hdr\\\"\", \"Samsung - 55 class - led - q8f series - 2160p - smart - 4k uhd tv with hdr\\\"\", \"Samsung - 55 class - led - q8f series - 2160p - smart - 4k uhd tv with hdr\\\"\", \"Samsung - 55 class - led - q8f series - 2160p - smart - 4k uhd tv with hdr\\\"\", \"Samsung - 55 class - led - q8f series - 2160p - smart - 4k uhd tv with hdr\\\"\", \"Samsung - 55 class - led - q8f series - 2160p - smart - 4k uhd tv with hdr\\\"\", \"Samsung - 55 class - led - q8f series - 2160p - smart - 4k uhd tv with hdr\\\"\", \"Samsung - 55 class - led - q8f series - 2160p - smart - 4k uhd tv with hdr\\\"\", \"Samsung - 55 class - led - q8f series - 2160p - smart - 4k uhd tv with hdr\\\"\", \"Samsung - 55 class - led - curved - q7c series - 2160p - smart - 4k uhd tv with hdr\\\"\", \"Samsung - 55 class - led - curved - q7c series - 2160p - smart - 4k uhd tv with hdr\\\"\", \"Samsung - 55 class - led - curved - q7c series - 2160p - smart - 4k uhd tv with hdr\\\"\", \"Samsung - 55 class - led - curved - q7c series - 2160p - smart - 4k uhd tv with hdr\\\"\", \"Samsung - 55 class - led - curved - q7c series - 2160p - smart - 4k uhd tv with hdr\\\"\", \"Samsung - 55 class - led - curved - q7c series - 2160p - smart - 4k uhd tv with hdr\\\"\", \"Samsung - 55 class - led - curved - q7c series - 2160p - smart - 4k uhd tv with hdr\\\"\", \"Samsung - 55 class - led - curved - q7c series - 2160p - smart - 4k uhd tv with hdr\\\"\", \"Samsung - 55 class - led - curved - q7c series - 2160p - smart - 4k uhd tv with hdr\\\"\", \"Samsung - 55 class - led - curved - q7c series - 2160p - smart - 4k uhd tv with hdr\\\"\", \"Samsung - 55 class - led - curved - q7c series - 2160p - smart - 4k uhd tv with hdr\\\"\", \"Samsung - 55 class - led - curved - q7c series - 2160p - smart - 4k uhd tv with hdr\\\"\", \"Samsung - 55 class - led - curved - q7c series - 2160p - smart - 4k uhd tv with hdr\\\"\", \"Samsung - 55 class - led - curved - q7c series - 2160p - smart - 4k uhd tv with hdr\\\"\", \"Samsung - 55 class - led - curved - q7c series - 2160p - smart - 4k uhd tv with hdr\\\"\", \"Samsung - 55 class - led - curved - q7c series - 2160p - smart - 4k uhd tv with hdr\\\"\", \"Samsung - 55 class - led - curved - q7c series - 2160p - smart - 4k uhd tv with hdr\\\"\", \"Samsung - 55 class - led - curved - q7c series - 2160p - smart - 4k uhd tv with hdr\\\"\", \"Samsung - 55 class - led - curved - q7c series - 2160p - smart - 4k uhd tv with hdr\\\"\", \"Samsung - 55 class - led - curved - q7c series - 2160p - smart - 4k uhd tv with hdr\\\"\", \"Samsung - 55 class - led - curved - q7c series - 2160p - smart - 4k uhd tv with hdr\\\"\", \"Samsung - 55 class - led - curved - q7c series - 2160p - smart - 4k uhd tv with hdr\\\"\", \"Samsung - 55 class - led - curved - q7c series - 2160p - smart - 4k uhd tv with hdr\\\"\", \"Samsung - 55 class - led - curved - q7c series - 2160p - smart - 4k uhd tv with hdr\\\"\", \"Samsung - 55 class - led - curved - q7c series - 2160p - smart - 4k uhd tv with hdr\\\"\", \"Samsung - 55 class - led - curved - q7c series - 2160p - smart - 4k uhd tv with hdr\\\"\", \"Samsung - 55 class - led - curved - q7c series - 2160p - smart - 4k uhd tv with hdr\\\"\", \"Samsung - 55 class - led - curved - q7c series - 2160p - smart - 4k uhd tv with hdr\\\"\", \"Samsung - 55 class - led - curved - q7c series - 2160p - smart - 4k uhd tv with hdr\\\"\", \"Samsung - 55 class - led - curved - q7c series - 2160p - smart - 4k uhd tv with hdr\\\"\", \"Samsung - 55 class - led - curved - q7c series - 2160p - smart - 4k uhd tv with hdr\\\"\", \"Samsung - 55 class - led - curved - q7c series - 2160p - smart - 4k uhd tv with hdr\\\"\", \"Samsung - 55 class - led - curved - q7c series - 2160p - smart - 4k uhd tv with hdr\\\"\", \"Samsung - 55 class - led - curved - q7c series - 2160p - smart - 4k uhd tv with hdr\\\"\", \"Samsung - 55 class - led - curved - q7c series - 2160p - smart - 4k uhd tv with hdr\\\"\", \"Samsung - 55 class - led - curved - q7c series - 2160p - smart - 4k uhd tv with hdr\\\"\", \"Samsung - 55 class - led - curved - q7c series - 2160p - smart - 4k uhd tv with hdr\\\"\", \"Samsung - 55 class - led - curved - q7c series - 2160p - smart - 4k uhd tv with hdr\\\"\", \"Samsung - 55 class - led - curved - q7c series - 2160p - smart - 4k uhd tv with hdr\\\"\", \"Samsung - 55 class - led - curved - q7c series - 2160p - smart - 4k uhd tv with hdr\\\"\", \"Samsung - 55 class - led - curved - q7c series - 2160p - smart - 4k uhd tv with hdr\\\"\", \"Samsung - 55 class - led - curved - q7c series - 2160p - smart - 4k uhd tv with hdr\\\"\", \"Samsung - 55 class - led - curved - q7c series - 2160p - smart - 4k uhd tv with hdr\\\"\", \"Samsung - 55 class - led - curved - q7c series - 2160p - smart - 4k uhd tv with hdr\\\"\", \"Samsung - 55 class - led - curved - q7c series - 2160p - smart - 4k uhd tv with hdr\\\"\", \"Samsung - 55 class - led - curved - q7c series - 2160p - smart - 4k uhd tv with hdr\\\"\", \"Samsung - 55 class - led - curved - q7c series - 2160p - smart - 4k uhd tv with hdr\\\"\", \"Samsung - 55 class - led - curved - q7c series - 2160p - smart - 4k uhd tv with hdr\\\"\", \"Samsung - 55 class - led - curved - q7c series - 2160p - smart - 4k uhd tv with hdr\\\"\", \"Samsung - 55 class - led - curved - q7c series - 2160p - smart - 4k uhd tv with hdr\\\"\", \"Samsung - 55 class - led - curved - q7c series - 2160p - smart - 4k uhd tv with hdr\\\"\", \"Samsung - 55 class - led - curved - q7c series - 2160p - smart - 4k uhd tv with hdr\\\"\", \"Samsung - 55 class - led - curved - q7c series - 2160p - smart - 4k uhd tv with hdr\\\"\", \"Samsung - 55 class - led - curved - q7c series - 2160p - smart - 4k uhd tv with hdr\\\"\", \"Samsung - 55 class - led - curved - q7c series - 2160p - smart - 4k uhd tv with hdr\\\"\", \"Samsung - 55 class - led - curved - q7c series - 2160p - smart - 4k uhd tv with hdr\\\"\", \"Samsung - 55 class - led - curved - q7c series - 2160p - smart - 4k uhd tv with hdr\\\"\", \"Samsung - 55 class - led - curved - q7c series - 2160p - smart - 4k uhd tv with hdr\\\"\", \"Samsung - 55 class - led - curved - q7c series - 2160p - smart - 4k uhd tv with hdr\\\"\", \"Samsung - 55 class - led - curved - q7c series - 2160p - smart - 4k uhd tv with hdr\\\"\", \"Samsung - 55 class - led - curved - q7c series - 2160p - smart - 4k uhd tv with hdr\\\"\", \"Samsung - 55 class - led - curved - q7c series - 2160p - smart - 4k uhd tv with hdr\\\"\", \"Samsung - 55 class - led - curved - q7c series - 2160p - smart - 4k uhd tv with hdr\\\"\", \"Samsung - 55 class - led - curved - q7c series - 2160p - smart - 4k uhd tv with hdr\\\"\", \"Samsung - 55 class - led - curved - q7c series - 2160p - smart - 4k uhd tv with hdr\\\"\", \"Samsung - 55 class - led - curved - q7c series - 2160p - smart - 4k uhd tv with hdr\\\"\", \"Samsung - 55 class - led - curved - q7c series - 2160p - smart - 4k uhd tv with hdr\\\"\", \"Samsung - 55 class - led - curved - q7c series - 2160p - smart - 4k uhd tv with hdr\\\"\", \"Samsung - 55 class - led - curved - q7c series - 2160p - smart - 4k uhd tv with hdr\\\"\", \"Samsung - 55 class - led - curved - q7c series - 2160p - smart - 4k uhd tv with hdr\\\"\", \"Samsung - 55 class - led - curved - q7c series - 2160p - smart - 4k uhd tv with hdr\\\"\", \"Samsung - 55 class - led - curved - q7c series - 2160p - smart - 4k uhd tv with hdr\\\"\", \"Samsung - 55 class - led - curved - q7c series - 2160p - smart - 4k uhd tv with hdr\\\"\", \"Samsung - 55 class - led - curved - q7c series - 2160p - smart - 4k uhd tv with hdr\\\"\", \"Samsung - 55 class - led - curved - q7c series - 2160p - smart - 4k uhd tv with hdr\\\"\", \"Samsung - 55 class - led - curved - q7c series - 2160p - smart - 4k uhd tv with hdr\\\"\", \"Samsung - 55 class - led - curved - q7c series - 2160p - smart - 4k uhd tv with hdr\\\"\", \"Samsung - 55 class - led - curved - q7c series - 2160p - smart - 4k uhd tv with hdr\\\"\", \"Samsung - 55 class - led - curved - q7c series - 2160p - smart - 4k uhd tv with hdr\\\"\", \"Samsung - 55 class - led - curved - q7c series - 2160p - smart - 4k uhd tv with hdr\\\"\", \"Samsung - 55 class - led - curved - q7c series - 2160p - smart - 4k uhd tv with hdr\\\"\", \"Samsung - 55 class - led - curved - q7c series - 2160p - smart - 4k uhd tv with hdr\\\"\", \"Samsung - 55 class - led - curved - q7c series - 2160p - smart - 4k uhd tv with hdr\\\"\", \"Samsung - 55 class - led - curved - q7c series - 2160p - smart - 4k uhd tv with hdr\\\"\", \"Samsung - 55 class - led - curved - q7c series - 2160p - smart - 4k uhd tv with hdr\\\"\", \"Samsung - 55 class - led - curved - q7c series - 2160p - smart - 4k uhd tv with hdr\\\"\", \"Samsung - 55 class - led - curved - q7c series - 2160p - smart - 4k uhd tv with hdr\\\"\", \"Samsung - 55 class - led - curved - q7c series - 2160p - smart - 4k uhd tv with hdr\\\"\", \"Samsung - 55 class - led - curved - q7c series - 2160p - smart - 4k uhd tv with hdr\\\"\", \"Samsung - 55 class - led - curved - q7c series - 2160p - smart - 4k uhd tv with hdr\\\"\", \"Samsung - 55 class - led - curved - q7c series - 2160p - smart - 4k uhd tv with hdr\\\"\", \"Samsung - 55 class - led - curved - q7c series - 2160p - smart - 4k uhd tv with hdr\\\"\", \"Samsung - 55 class - led - curved - q7c series - 2160p - smart - 4k uhd tv with hdr\\\"\", \"Samsung - 55 class - led - curved - q7c series - 2160p - smart - 4k uhd tv with hdr\\\"\"], \"type\": \"scatter\", \"x\": [\"2017-07-27T19:00:00\", \"2018-05-26T07:00:00\", \"2017-07-11T22:00:00\", \"2017-06-28T23:00:00\", \"2017-06-27T11:00:00\", \"2017-06-26T22:00:00\", \"2017-06-29T17:00:00\", \"2017-06-25T15:00:00\", \"2017-06-24T03:00:00\", \"2017-06-28T04:00:00\", \"2017-06-24T20:00:00\", \"2018-05-26T07:00:00\", \"2017-12-07T06:00:00\", \"2017-03-30T02:00:00\", \"2018-01-10T07:00:00\", \"2017-11-08T20:00:00\", \"2018-03-09T18:00:00\", \"2017-10-28T17:00:00\", \"2017-10-24T22:00:00\", \"2017-11-08T20:00:00\", \"2017-10-30T14:00:00\", \"2017-10-28T18:00:00\", \"2017-10-24T22:00:00\", \"2017-08-15T21:00:00\", \"2017-08-01T03:00:00\", \"2017-07-26T15:00:00\", \"2017-07-11T05:00:00\", \"2017-12-04T20:00:00\", \"2017-08-01T03:00:00\", \"2017-07-26T15:00:00\", \"2017-07-23T00:00:00\", \"2018-04-26T17:00:00\", \"2018-06-01T15:00:00\", \"2017-08-29T12:00:00\", \"2018-05-04T11:00:00\", \"2018-01-09T20:00:00\", \"2017-09-24T03:00:00\", \"2017-05-31T19:00:00\", \"2017-05-31T16:00:00\", \"2017-05-09T03:00:00\", \"2017-05-01T06:00:00\", \"2017-05-18T02:00:00\", \"2017-04-04T04:00:00\", \"2017-07-26T15:00:00\", \"2017-07-25T18:00:00\", \"2017-07-23T02:00:00\", \"2017-07-24T14:00:00\", \"2017-06-19T04:00:00\", \"2018-04-26T17:00:00\", \"2018-05-27T16:00:00\", \"2018-05-24T11:00:00\", \"2018-05-28T10:00:00\", \"2018-01-09T20:00:00\", \"2017-12-06T22:00:00\", \"2017-12-06T20:00:00\", \"2017-12-04T21:00:00\", \"2017-11-18T10:00:00\", \"2017-09-24T03:00:00\", \"2017-08-29T12:00:00\", \"2017-08-22T04:00:00\", \"2017-08-19T02:00:00\", \"2017-08-22T19:00:00\", \"2017-11-18T10:00:00\", \"2018-04-26T17:00:00\", \"2018-06-01T15:00:00\", \"2017-12-06T20:00:00\", \"2018-05-04T11:00:00\", \"2017-12-04T21:00:00\", \"2017-12-06T22:00:00\", \"2017-07-27T21:00:00\", \"2017-07-25T18:00:00\", \"2017-09-28T04:00:00\", \"2018-05-26T15:00:00\", \"2018-04-26T17:00:00\", \"2018-04-26T17:00:00\", \"2018-06-01T09:00:00\", \"2018-05-26T15:00:00\", \"2018-04-26T17:00:00\", \"2018-06-01T09:00:00\", \"2018-05-27T16:00:00\", \"2018-05-24T11:00:00\", \"2018-05-28T10:00:00\", \"2017-10-28T18:00:00\", \"2018-01-27T10:00:00\", \"2018-03-09T18:00:00\", \"2017-09-18T18:00:00\", \"2017-08-15T21:00:00\", \"2017-07-28T07:00:00\", \"2017-07-22T23:00:00\", \"2017-12-06T01:00:00\", \"2017-11-16T22:00:00\", \"2017-11-08T20:00:00\", \"2017-08-01T03:00:00\", \"2017-07-26T15:00:00\", \"2018-06-01T15:00:00\", \"2017-09-08T03:00:00\", \"2018-04-26T17:00:00\", \"2018-01-27T10:00:00\", \"2017-10-28T17:00:00\", \"2017-10-24T22:00:00\", \"2017-11-16T23:00:00\", \"2017-11-08T20:00:00\", \"2017-10-28T18:00:00\", \"2017-10-24T22:00:00\", \"2017-07-27T21:00:00\", \"2017-08-01T03:00:00\", \"2017-07-26T15:00:00\", \"2018-01-09T20:00:00\", \"2018-05-27T16:00:00\", \"2018-05-24T11:00:00\", \"2018-05-28T10:00:00\", \"2018-05-26T07:00:00\", \"2017-07-25T23:00:00\", \"2018-04-26T17:00:00\", \"2017-11-16T22:00:00\", \"2018-03-09T18:00:00\", \"2017-11-08T20:00:00\", \"2017-12-07T06:00:00\", \"2017-07-25T23:00:00\", \"2017-09-17T08:00:00\", \"2018-05-27T16:00:00\", \"2018-05-24T11:00:00\", \"2017-07-25T18:00:00\", \"2018-05-26T07:00:00\", \"2017-08-15T15:00:00\", \"2017-07-18T06:00:00\", \"2017-07-21T16:00:00\", \"2017-07-21T14:00:00\", \"2017-07-12T15:00:00\", \"2017-07-16T20:00:00\", \"2017-07-10T18:00:00\", \"2017-07-08T20:00:00\", \"2017-07-14T14:00:00\", \"2018-04-26T17:00:00\", \"2017-12-07T23:00:00\", \"2017-12-08T01:00:00\", \"2017-12-05T10:00:00\", \"2017-07-22T07:00:00\", \"2017-07-24T14:00:00\", \"2017-12-08T10:00:00\", \"2017-12-06T01:00:00\", \"2017-11-16T19:00:00\", \"2017-11-08T20:00:00\", \"2017-10-28T17:00:00\", \"2017-10-24T22:00:00\", \"2017-07-25T23:00:00\", \"2017-07-16T06:00:00\", \"2017-07-21T02:00:00\", \"2017-07-15T12:00:00\", \"2017-07-17T19:00:00\", \"2017-07-18T08:00:00\", \"2017-08-22T19:00:00\", \"2017-07-25T17:00:00\", \"2017-07-26T18:00:00\", \"2017-07-25T23:00:00\", \"2017-07-26T20:00:00\", \"2017-07-27T11:00:00\", \"2017-07-25T23:00:00\", \"2017-12-07T06:00:00\", \"2018-04-26T17:00:00\", \"2018-05-24T11:00:00\", \"2017-07-09T22:00:00\", \"2018-04-10T14:00:00\", \"2018-04-26T17:00:00\", \"2018-06-01T15:00:00\", \"2017-12-07T23:00:00\", \"2017-12-08T01:00:00\", \"2017-12-05T10:00:00\", \"2017-08-22T10:00:00\", \"2018-01-27T10:00:00\", \"2018-01-09T20:00:00\", \"2017-09-24T10:00:00\", \"2017-08-19T02:00:00\", \"2017-09-24T10:00:00\", \"2017-08-22T10:00:00\", \"2017-08-19T02:00:00\"], \"y\": [3050.0, 2799.99, 2999.99, 2999.99, 2999.99, 2999.99, 2999.99, 2999.99, 2999.99, 2999.99, 2999.99, 2499.99, 3596.0, 4999.99, 4296.0, 2798.0, 2798.0, 2798.0, 2798.0, 4096.0, 4096.0, 4096.0, 4096.0, 3298.0, 3219.99, 3219.99, 3219.99, 2498.0, 3499.99, 3499.99, 3498.0, 2998.0, 2998.0, 2998.0, 2998.0, 2998.0, 2998.0, 3999.99, 3999.99, 3999.99, 3999.99, 3999.99, 3999.99, 3040.0, 3040.0, 3099.52, 3099.52, 3099.52, 2498.0, 2498.0, 2498.0, 2498.0, 3298.0, 3298.0, 3298.0, 3298.0, 3298.0, 3298.0, 3298.0, 3298.0, 3298.0, 3099.18, 2798.0, 2498.0, 2498.0, 2498.0, 2498.0, 2498.0, 2498.0, 3050.0, 3050.0, 2998.0, 2199.99, 2097.99, 2097.99, 1997.99, 1999.99, 2197.99, 2197.99, 1997.99, 1997.99, 1997.99, 2395.98, 1697.99, 1497.99, 2197.99, 2197.99, 2197.99, 2197.99, 1797.99, 1797.99, 1797.99, 2199.99, 2199.99, 2797.99, 1897.99, 1549.95, 1549.95, 1997.99, 1997.99, 2075.98, 2075.98, 1997.99, 1997.99, 1898.95, 1759.99, 1759.99, 1997.99, 1399.99, 1399.99, 1399.99, 1999.99, 2197.99, 1797.99, 1797.99, 1797.99, 1797.99, 1797.99, 2197.99, 2475.98, 1978.01, 1978.01, 1972.95, 1299.99, 2197.99, 2197.99, 2197.99, 2197.99, 2197.99, 2197.99, 2197.99, 2197.99, 2197.99, 1797.99, 1797.99, 1797.99, 1797.99, 1997.95, 1997.95, 1599.0, 1599.0, 1599.0, 1599.0, 1599.0, 1599.0, 2197.99, 1998.95, 1998.95, 1998.95, 1998.95, 1998.95, 1755.95, 1982.95, 1982.95, 1982.95, 1900.0, 1900.0, 2197.99, 2125.98, 2797.99, 2797.99, 2016.95, 2997.99, 2997.99, 2997.99, 2997.99, 2997.99, 2997.99, 2997.99, 2997.99, 2997.99, 2997.99, 2997.99, 2197.99, 2197.99, 2197.99]}],\n",
       "                        {\"template\": {\"data\": {\"bar\": [{\"error_x\": {\"color\": \"#2a3f5f\"}, \"error_y\": {\"color\": \"#2a3f5f\"}, \"marker\": {\"line\": {\"color\": \"#E5ECF6\", \"width\": 0.5}}, \"type\": \"bar\"}], \"barpolar\": [{\"marker\": {\"line\": {\"color\": \"#E5ECF6\", \"width\": 0.5}}, \"type\": \"barpolar\"}], \"carpet\": [{\"aaxis\": {\"endlinecolor\": \"#2a3f5f\", \"gridcolor\": \"white\", \"linecolor\": \"white\", \"minorgridcolor\": \"white\", \"startlinecolor\": \"#2a3f5f\"}, \"baxis\": {\"endlinecolor\": \"#2a3f5f\", \"gridcolor\": \"white\", \"linecolor\": \"white\", \"minorgridcolor\": \"white\", \"startlinecolor\": \"#2a3f5f\"}, \"type\": \"carpet\"}], \"choropleth\": [{\"colorbar\": {\"outlinewidth\": 0, \"ticks\": \"\"}, \"type\": \"choropleth\"}], \"contour\": [{\"colorbar\": {\"outlinewidth\": 0, \"ticks\": \"\"}, \"colorscale\": [[0.0, \"#0d0887\"], [0.1111111111111111, \"#46039f\"], [0.2222222222222222, \"#7201a8\"], [0.3333333333333333, \"#9c179e\"], [0.4444444444444444, \"#bd3786\"], [0.5555555555555556, \"#d8576b\"], [0.6666666666666666, \"#ed7953\"], [0.7777777777777778, \"#fb9f3a\"], [0.8888888888888888, \"#fdca26\"], [1.0, \"#f0f921\"]], \"type\": \"contour\"}], \"contourcarpet\": [{\"colorbar\": {\"outlinewidth\": 0, \"ticks\": \"\"}, \"type\": \"contourcarpet\"}], \"heatmap\": [{\"colorbar\": {\"outlinewidth\": 0, \"ticks\": \"\"}, \"colorscale\": [[0.0, \"#0d0887\"], [0.1111111111111111, \"#46039f\"], [0.2222222222222222, \"#7201a8\"], [0.3333333333333333, \"#9c179e\"], [0.4444444444444444, \"#bd3786\"], [0.5555555555555556, \"#d8576b\"], [0.6666666666666666, \"#ed7953\"], [0.7777777777777778, \"#fb9f3a\"], [0.8888888888888888, \"#fdca26\"], [1.0, \"#f0f921\"]], \"type\": \"heatmap\"}], \"heatmapgl\": [{\"colorbar\": {\"outlinewidth\": 0, \"ticks\": \"\"}, \"colorscale\": [[0.0, \"#0d0887\"], [0.1111111111111111, \"#46039f\"], [0.2222222222222222, \"#7201a8\"], [0.3333333333333333, \"#9c179e\"], [0.4444444444444444, \"#bd3786\"], [0.5555555555555556, \"#d8576b\"], [0.6666666666666666, \"#ed7953\"], [0.7777777777777778, \"#fb9f3a\"], [0.8888888888888888, \"#fdca26\"], [1.0, \"#f0f921\"]], \"type\": \"heatmapgl\"}], \"histogram\": [{\"marker\": {\"colorbar\": {\"outlinewidth\": 0, \"ticks\": \"\"}}, \"type\": \"histogram\"}], \"histogram2d\": [{\"colorbar\": {\"outlinewidth\": 0, \"ticks\": \"\"}, \"colorscale\": [[0.0, \"#0d0887\"], [0.1111111111111111, \"#46039f\"], [0.2222222222222222, \"#7201a8\"], [0.3333333333333333, \"#9c179e\"], [0.4444444444444444, \"#bd3786\"], [0.5555555555555556, \"#d8576b\"], [0.6666666666666666, \"#ed7953\"], [0.7777777777777778, \"#fb9f3a\"], [0.8888888888888888, \"#fdca26\"], [1.0, \"#f0f921\"]], \"type\": \"histogram2d\"}], \"histogram2dcontour\": [{\"colorbar\": {\"outlinewidth\": 0, \"ticks\": \"\"}, \"colorscale\": [[0.0, \"#0d0887\"], [0.1111111111111111, \"#46039f\"], [0.2222222222222222, \"#7201a8\"], [0.3333333333333333, \"#9c179e\"], [0.4444444444444444, \"#bd3786\"], [0.5555555555555556, \"#d8576b\"], [0.6666666666666666, \"#ed7953\"], [0.7777777777777778, \"#fb9f3a\"], [0.8888888888888888, \"#fdca26\"], [1.0, \"#f0f921\"]], \"type\": \"histogram2dcontour\"}], \"mesh3d\": [{\"colorbar\": {\"outlinewidth\": 0, \"ticks\": \"\"}, \"type\": \"mesh3d\"}], \"parcoords\": [{\"line\": {\"colorbar\": {\"outlinewidth\": 0, \"ticks\": \"\"}}, \"type\": \"parcoords\"}], \"pie\": [{\"automargin\": true, \"type\": \"pie\"}], \"scatter\": [{\"marker\": {\"colorbar\": {\"outlinewidth\": 0, \"ticks\": \"\"}}, \"type\": \"scatter\"}], \"scatter3d\": [{\"line\": {\"colorbar\": {\"outlinewidth\": 0, \"ticks\": \"\"}}, \"marker\": {\"colorbar\": {\"outlinewidth\": 0, \"ticks\": \"\"}}, \"type\": \"scatter3d\"}], \"scattercarpet\": [{\"marker\": {\"colorbar\": {\"outlinewidth\": 0, \"ticks\": \"\"}}, \"type\": \"scattercarpet\"}], \"scattergeo\": [{\"marker\": {\"colorbar\": {\"outlinewidth\": 0, \"ticks\": \"\"}}, \"type\": \"scattergeo\"}], \"scattergl\": [{\"marker\": {\"colorbar\": {\"outlinewidth\": 0, \"ticks\": \"\"}}, \"type\": \"scattergl\"}], \"scattermapbox\": [{\"marker\": {\"colorbar\": {\"outlinewidth\": 0, \"ticks\": \"\"}}, \"type\": \"scattermapbox\"}], \"scatterpolar\": [{\"marker\": {\"colorbar\": {\"outlinewidth\": 0, \"ticks\": \"\"}}, \"type\": \"scatterpolar\"}], \"scatterpolargl\": [{\"marker\": {\"colorbar\": {\"outlinewidth\": 0, \"ticks\": \"\"}}, \"type\": \"scatterpolargl\"}], \"scatterternary\": [{\"marker\": {\"colorbar\": {\"outlinewidth\": 0, \"ticks\": \"\"}}, \"type\": \"scatterternary\"}], \"surface\": [{\"colorbar\": {\"outlinewidth\": 0, \"ticks\": \"\"}, \"colorscale\": [[0.0, \"#0d0887\"], [0.1111111111111111, \"#46039f\"], [0.2222222222222222, \"#7201a8\"], [0.3333333333333333, \"#9c179e\"], [0.4444444444444444, \"#bd3786\"], [0.5555555555555556, \"#d8576b\"], [0.6666666666666666, \"#ed7953\"], [0.7777777777777778, \"#fb9f3a\"], [0.8888888888888888, \"#fdca26\"], [1.0, \"#f0f921\"]], \"type\": \"surface\"}], \"table\": [{\"cells\": {\"fill\": {\"color\": \"#EBF0F8\"}, \"line\": {\"color\": \"white\"}}, \"header\": {\"fill\": {\"color\": \"#C8D4E3\"}, \"line\": {\"color\": \"white\"}}, \"type\": \"table\"}]}, \"layout\": {\"annotationdefaults\": {\"arrowcolor\": \"#2a3f5f\", \"arrowhead\": 0, \"arrowwidth\": 1}, \"coloraxis\": {\"colorbar\": {\"outlinewidth\": 0, \"ticks\": \"\"}}, \"colorscale\": {\"diverging\": [[0, \"#8e0152\"], [0.1, \"#c51b7d\"], [0.2, \"#de77ae\"], [0.3, \"#f1b6da\"], [0.4, \"#fde0ef\"], [0.5, \"#f7f7f7\"], [0.6, \"#e6f5d0\"], [0.7, \"#b8e186\"], [0.8, \"#7fbc41\"], [0.9, \"#4d9221\"], [1, \"#276419\"]], \"sequential\": [[0.0, \"#0d0887\"], [0.1111111111111111, \"#46039f\"], [0.2222222222222222, \"#7201a8\"], [0.3333333333333333, \"#9c179e\"], [0.4444444444444444, \"#bd3786\"], [0.5555555555555556, \"#d8576b\"], [0.6666666666666666, \"#ed7953\"], [0.7777777777777778, \"#fb9f3a\"], [0.8888888888888888, \"#fdca26\"], [1.0, \"#f0f921\"]], \"sequentialminus\": [[0.0, \"#0d0887\"], [0.1111111111111111, \"#46039f\"], [0.2222222222222222, \"#7201a8\"], [0.3333333333333333, \"#9c179e\"], [0.4444444444444444, \"#bd3786\"], [0.5555555555555556, \"#d8576b\"], [0.6666666666666666, \"#ed7953\"], [0.7777777777777778, \"#fb9f3a\"], [0.8888888888888888, \"#fdca26\"], [1.0, \"#f0f921\"]]}, \"colorway\": [\"#636efa\", \"#EF553B\", \"#00cc96\", \"#ab63fa\", \"#FFA15A\", \"#19d3f3\", \"#FF6692\", \"#B6E880\", \"#FF97FF\", \"#FECB52\"], \"font\": {\"color\": \"#2a3f5f\"}, \"geo\": {\"bgcolor\": \"white\", \"lakecolor\": \"white\", \"landcolor\": \"#E5ECF6\", \"showlakes\": true, \"showland\": true, \"subunitcolor\": \"white\"}, \"hoverlabel\": {\"align\": \"left\"}, \"hovermode\": \"closest\", \"mapbox\": {\"style\": \"light\"}, \"paper_bgcolor\": \"white\", \"plot_bgcolor\": \"#E5ECF6\", \"polar\": {\"angularaxis\": {\"gridcolor\": \"white\", \"linecolor\": \"white\", \"ticks\": \"\"}, \"bgcolor\": \"#E5ECF6\", \"radialaxis\": {\"gridcolor\": \"white\", \"linecolor\": \"white\", \"ticks\": \"\"}}, \"scene\": {\"xaxis\": {\"backgroundcolor\": \"#E5ECF6\", \"gridcolor\": \"white\", \"gridwidth\": 2, \"linecolor\": \"white\", \"showbackground\": true, \"ticks\": \"\", \"zerolinecolor\": \"white\"}, \"yaxis\": {\"backgroundcolor\": \"#E5ECF6\", \"gridcolor\": \"white\", \"gridwidth\": 2, \"linecolor\": \"white\", \"showbackground\": true, \"ticks\": \"\", \"zerolinecolor\": \"white\"}, \"zaxis\": {\"backgroundcolor\": \"#E5ECF6\", \"gridcolor\": \"white\", \"gridwidth\": 2, \"linecolor\": \"white\", \"showbackground\": true, \"ticks\": \"\", \"zerolinecolor\": \"white\"}}, \"shapedefaults\": {\"line\": {\"color\": \"#2a3f5f\"}}, \"ternary\": {\"aaxis\": {\"gridcolor\": \"white\", \"linecolor\": \"white\", \"ticks\": \"\"}, \"baxis\": {\"gridcolor\": \"white\", \"linecolor\": \"white\", \"ticks\": \"\"}, \"bgcolor\": \"#E5ECF6\", \"caxis\": {\"gridcolor\": \"white\", \"linecolor\": \"white\", \"ticks\": \"\"}}, \"title\": {\"x\": 0.05}, \"xaxis\": {\"automargin\": true, \"gridcolor\": \"white\", \"linecolor\": \"white\", \"ticks\": \"\", \"title\": {\"standoff\": 15}, \"zerolinecolor\": \"white\", \"zerolinewidth\": 2}, \"yaxis\": {\"automargin\": true, \"gridcolor\": \"white\", \"linecolor\": \"white\", \"ticks\": \"\", \"title\": {\"standoff\": 15}, \"zerolinecolor\": \"white\", \"zerolinewidth\": 2}}}, \"title\": {\"text\": \"Price Variation with Time\"}, \"xaxis\": {\"title\": {\"text\": \"Date\"}}, \"yaxis\": {\"title\": {\"text\": \"Price\"}}},\n",
       "                        {\"responsive\": true}\n",
       "                    ).then(function(){\n",
       "                            \n",
       "var gd = document.getElementById('68892809-38a6-4a73-ab3a-225e9ad04894');\n",
       "var x = new MutationObserver(function (mutations, observer) {{\n",
       "        var display = window.getComputedStyle(gd).display;\n",
       "        if (!display || display === 'none') {{\n",
       "            console.log([gd, 'removed!']);\n",
       "            Plotly.purge(gd);\n",
       "            observer.disconnect();\n",
       "        }}\n",
       "}});\n",
       "\n",
       "// Listen for the removal of the full notebook cells\n",
       "var notebookContainer = gd.closest('#notebook-container');\n",
       "if (notebookContainer) {{\n",
       "    x.observe(notebookContainer, {childList: true});\n",
       "}}\n",
       "\n",
       "// Listen for the clearing of the current output cell\n",
       "var outputEl = gd.closest('.output');\n",
       "if (outputEl) {{\n",
       "    x.observe(outputEl, {childList: true});\n",
       "}}\n",
       "\n",
       "                        })\n",
       "                };\n",
       "                });\n",
       "            </script>\n",
       "        </div>"
      ]
     },
     "metadata": {},
     "output_type": "display_data"
    }
   ],
   "source": [
    "# Price variation of High End TVs\n",
    "\n",
    "data = splitDataFrameList(df.loc[df['Label'] == 'High'][['Name', 'Price-Min', 'Date-Seen', 'Date-Added']], 'Date-Seen', ',')\n",
    "\n",
    "colorsIdx = {'Sony - 55 class - oled - a1e series - 2160p - smart - 4k uhd tv with hdr\"': 'rgb(215,48,39)', \n",
    "             'Samsung - 55 class - led - q8f series - 2160p - smart - 4k uhd tv with hdr\"': 'rgb(228, 247, 15)',\n",
    "             'Samsung - 55 class - led - curved - q7c series - 2160p - smart - 4k uhd tv with hdr\"': 'rgb(39, 60, 215)'}\n",
    "cols      = data['Name'].map(colorsIdx)\n",
    "\n",
    "fig = go.Figure()\n",
    "fig.add_trace(go.Scatter(\n",
    "    x = data['Date-Seen'],\n",
    "    y = data['Price-Min'],\n",
    "    text=data['Name'],\n",
    "    mode = 'markers',\n",
    "    marker=dict(size=10, color=cols)))\n",
    "fig.update_layout(title='Price Variation with Time',\n",
    "                 xaxis_title=\"Date\",\n",
    "                 yaxis_title=\"Price\")\n",
    "\n",
    "fig.show()\n",
    "\n",
    "#fig.write_image(\"images/fig2.png\")\n"
   ]
  },
  {
   "cell_type": "code",
   "execution_count": null,
   "metadata": {},
   "outputs": [],
   "source": []
  },
  {
   "cell_type": "code",
   "execution_count": 452,
   "metadata": {},
   "outputs": [
    {
     "data": {
      "application/vnd.plotly.v1+json": {
       "config": {
        "plotlyServerURL": "https://plot.ly"
       },
       "data": [
        {
         "marker": {
          "color": [
           "rgb(39, 60, 215)",
           "rgb(39, 60, 215)",
           "rgb(39, 60, 215)",
           "rgb(39, 60, 215)",
           "rgb(39, 60, 215)",
           "rgb(39, 60, 215)",
           "rgb(39, 60, 215)",
           "rgb(39, 60, 215)",
           "rgb(39, 60, 215)",
           "rgb(39, 60, 215)",
           "rgb(39, 60, 215)",
           "rgb(29, 222, 206)",
           "rgb(29, 222, 206)",
           "rgb(29, 222, 206)",
           "rgb(29, 222, 206)",
           "rgb(29, 222, 206)",
           "rgb(29, 222, 206)",
           "rgb(29, 222, 206)",
           "rgb(29, 222, 206)",
           "rgb(29, 222, 206)",
           "rgb(29, 222, 206)",
           "rgb(29, 222, 206)",
           "rgb(29, 222, 206)",
           "rgb(29, 222, 206)",
           "rgb(29, 222, 206)",
           "rgb(29, 222, 206)",
           "rgb(29, 222, 206)",
           "rgb(29, 222, 206)",
           "rgb(29, 222, 206)",
           "rgb(29, 222, 206)",
           "rgb(29, 222, 206)",
           "rgb(29, 222, 206)",
           "rgb(29, 222, 206)",
           "rgb(29, 222, 206)",
           "rgb(29, 222, 206)",
           "rgb(29, 222, 206)",
           "rgb(29, 222, 206)",
           "rgb(29, 222, 206)",
           "rgb(29, 222, 206)",
           "rgb(29, 222, 206)",
           "rgb(29, 222, 206)",
           "rgb(29, 222, 206)",
           "rgb(29, 222, 206)",
           "rgb(29, 222, 206)",
           "rgb(29, 222, 206)",
           "rgb(29, 222, 206)",
           "rgb(29, 222, 206)",
           "rgb(29, 222, 206)",
           "rgb(29, 222, 206)",
           "rgb(29, 222, 206)",
           "rgb(29, 222, 206)",
           "rgb(29, 222, 206)",
           "rgb(29, 222, 206)",
           "rgb(29, 222, 206)",
           "rgb(29, 222, 206)",
           "rgb(29, 222, 206)",
           "rgb(29, 222, 206)",
           "rgb(29, 222, 206)",
           "rgb(29, 222, 206)",
           "rgb(29, 222, 206)",
           "rgb(29, 222, 206)",
           "rgb(29, 222, 206)",
           "rgb(29, 222, 206)",
           "rgb(29, 222, 206)",
           "rgb(29, 222, 206)",
           "rgb(29, 222, 206)",
           "rgb(29, 222, 206)",
           "rgb(29, 222, 206)",
           "rgb(29, 222, 206)",
           "rgb(29, 222, 206)",
           "rgb(29, 222, 206)",
           "rgb(29, 222, 206)",
           "rgb(29, 222, 206)",
           "rgb(29, 222, 206)",
           "rgb(29, 222, 206)",
           "rgb(29, 222, 206)",
           "rgb(29, 222, 206)",
           "rgb(29, 222, 206)",
           "rgb(29, 222, 206)",
           "rgb(29, 222, 206)",
           "rgb(29, 222, 206)",
           "rgb(29, 222, 206)",
           "rgb(29, 222, 206)",
           "rgb(29, 222, 206)",
           "rgb(29, 222, 206)",
           "rgb(29, 222, 206)",
           "rgb(29, 222, 206)",
           "rgb(29, 222, 206)",
           "rgb(29, 222, 206)",
           "rgb(29, 222, 206)",
           "rgb(29, 222, 206)",
           "rgb(29, 222, 206)",
           "rgb(29, 222, 206)",
           "rgb(29, 222, 206)",
           "rgb(29, 222, 206)",
           "rgb(29, 222, 206)",
           "rgb(29, 222, 206)",
           "rgb(29, 222, 206)",
           "rgb(29, 222, 206)",
           "rgb(29, 222, 206)",
           "rgb(29, 222, 206)",
           "rgb(29, 222, 206)",
           "rgb(29, 222, 206)",
           "rgb(29, 222, 206)",
           "rgb(29, 222, 206)",
           "rgb(29, 222, 206)",
           "rgb(29, 222, 206)",
           "rgb(29, 222, 206)",
           "rgb(29, 222, 206)"
          ],
          "size": 10
         },
         "mode": "markers",
         "text": [
          "X900f-series 55-class hdr uhd smart led tv",
          "X900f-series 55-class hdr uhd smart led tv",
          "X900f-series 55-class hdr uhd smart led tv",
          "X900f-series 55-class hdr uhd smart led tv",
          "X900f-series 55-class hdr uhd smart led tv",
          "X900f-series 55-class hdr uhd smart led tv",
          "X900f-series 55-class hdr uhd smart led tv",
          "X900f-series 55-class hdr uhd smart led tv",
          "X900f-series 55-class hdr uhd smart led tv",
          "X900f-series 55-class hdr uhd smart led tv",
          "X900f-series 55-class hdr uhd smart led tv",
          "Sony - 55 class - led - x800e series - 2160p - smart - 4k uhd tv with hdr\"",
          "Sony - 55 class - led - x800e series - 2160p - smart - 4k uhd tv with hdr\"",
          "Sony - 55 class - led - x800e series - 2160p - smart - 4k uhd tv with hdr\"",
          "Sony - 55 class - led - x800e series - 2160p - smart - 4k uhd tv with hdr\"",
          "Sony - 55 class - led - x800e series - 2160p - smart - 4k uhd tv with hdr\"",
          "Sony - 55 class - led - x800e series - 2160p - smart - 4k uhd tv with hdr\"",
          "Sony - 55 class - led - x800e series - 2160p - smart - 4k uhd tv with hdr\"",
          "Sony - 55 class - led - x800e series - 2160p - smart - 4k uhd tv with hdr\"",
          "Sony - 55 class - led - x800e series - 2160p - smart - 4k uhd tv with hdr\"",
          "Sony - 55 class - led - x800e series - 2160p - smart - 4k uhd tv with hdr\"",
          "Sony - 55 class - led - x800e series - 2160p - smart - 4k uhd tv with hdr\"",
          "Sony - 55 class - led - x800e series - 2160p - smart - 4k uhd tv with hdr\"",
          "Sony - 55 class - led - x800e series - 2160p - smart - 4k uhd tv with hdr\"",
          "Sony - 55 class - led - x800e series - 2160p - smart - 4k uhd tv with hdr\"",
          "Sony - 55 class - led - x800e series - 2160p - smart - 4k uhd tv with hdr\"",
          "Sony - 55 class - led - x800e series - 2160p - smart - 4k uhd tv with hdr\"",
          "Sony - 55 class - led - x800e series - 2160p - smart - 4k uhd tv with hdr\"",
          "Sony - 55 class - led - x800e series - 2160p - smart - 4k uhd tv with hdr\"",
          "Sony - 55 class - led - x800e series - 2160p - smart - 4k uhd tv with hdr\"",
          "Sony - 55 class - led - x800e series - 2160p - smart - 4k uhd tv with hdr\"",
          "Sony - 55 class - led - x800e series - 2160p - smart - 4k uhd tv with hdr\"",
          "Sony - 55 class - led - x800e series - 2160p - smart - 4k uhd tv with hdr\"",
          "Sony - 55 class - led - x800e series - 2160p - smart - 4k uhd tv with hdr\"",
          "Sony - 55 class - led - x800e series - 2160p - smart - 4k uhd tv with hdr\"",
          "Sony - 55 class - led - x800e series - 2160p - smart - 4k uhd tv with hdr\"",
          "Sony - 55 class - led - x800e series - 2160p - smart - 4k uhd tv with hdr\"",
          "Sony - 55 class - led - x800e series - 2160p - smart - 4k uhd tv with hdr\"",
          "Sony - 55 class - led - x800e series - 2160p - smart - 4k uhd tv with hdr\"",
          "Sony - 55 class - led - x800e series - 2160p - smart - 4k uhd tv with hdr\"",
          "Sony - 55 class - led - x800e series - 2160p - smart - 4k uhd tv with hdr\"",
          "Sony - 55 class - led - x800e series - 2160p - smart - 4k uhd tv with hdr\"",
          "Sony - 55 class - led - x800e series - 2160p - smart - 4k uhd tv with hdr\"",
          "Sony - 55 class - led - x800e series - 2160p - smart - 4k uhd tv with hdr\"",
          "Sony - 55 class - led - x800e series - 2160p - smart - 4k uhd tv with hdr\"",
          "Sony - 55 class - led - x800e series - 2160p - smart - 4k uhd tv with hdr\"",
          "Sony - 55 class - led - x800e series - 2160p - smart - 4k uhd tv with hdr\"",
          "Sony - 55 class - led - x800e series - 2160p - smart - 4k uhd tv with hdr\"",
          "Sony - 55 class - led - x800e series - 2160p - smart - 4k uhd tv with hdr\"",
          "Sony - 55 class - led - x800e series - 2160p - smart - 4k uhd tv with hdr\"",
          "Sony - 55 class - led - x800e series - 2160p - smart - 4k uhd tv with hdr\"",
          "Sony - 55 class - led - x800e series - 2160p - smart - 4k uhd tv with hdr\"",
          "Sony - 55 class - led - x800e series - 2160p - smart - 4k uhd tv with hdr\"",
          "Sony - 55 class - led - x800e series - 2160p - smart - 4k uhd tv with hdr\"",
          "Sony - 55 class - led - x800e series - 2160p - smart - 4k uhd tv with hdr\"",
          "Sony - 55 class - led - x800e series - 2160p - smart - 4k uhd tv with hdr\"",
          "Sony - 55 class - led - x800e series - 2160p - smart - 4k uhd tv with hdr\"",
          "Sony - 55 class - led - x800e series - 2160p - smart - 4k uhd tv with hdr\"",
          "Sony - 55 class - led - x800e series - 2160p - smart - 4k uhd tv with hdr\"",
          "Sony - 55 class - led - x800e series - 2160p - smart - 4k uhd tv with hdr\"",
          "Sony - 55 class - led - x800e series - 2160p - smart - 4k uhd tv with hdr\"",
          "Sony - 55 class - led - x800e series - 2160p - smart - 4k uhd tv with hdr\"",
          "Sony - 55 class - led - x800e series - 2160p - smart - 4k uhd tv with hdr\"",
          "Sony - 55 class - led - x800e series - 2160p - smart - 4k uhd tv with hdr\"",
          "Sony - 55 class - led - x800e series - 2160p - smart - 4k uhd tv with hdr\"",
          "Sony - 55 class - led - x800e series - 2160p - smart - 4k uhd tv with hdr\"",
          "Sony - 55 class - led - x800e series - 2160p - smart - 4k uhd tv with hdr\"",
          "Sony - 55 class - led - x800e series - 2160p - smart - 4k uhd tv with hdr\"",
          "Sony - 55 class - led - x800e series - 2160p - smart - 4k uhd tv with hdr\"",
          "Sony - 55 class - led - x800e series - 2160p - smart - 4k uhd tv with hdr\"",
          "Sony - 55 class - led - x800e series - 2160p - smart - 4k uhd tv with hdr\"",
          "Sony - 55 class - led - x800e series - 2160p - smart - 4k uhd tv with hdr\"",
          "Sony - 55 class - led - x800e series - 2160p - smart - 4k uhd tv with hdr\"",
          "Sony - 55 class - led - x800e series - 2160p - smart - 4k uhd tv with hdr\"",
          "Sony - 55 class - led - x800e series - 2160p - smart - 4k uhd tv with hdr\"",
          "Sony - 55 class - led - x800e series - 2160p - smart - 4k uhd tv with hdr\"",
          "Sony - 55 class - led - x800e series - 2160p - smart - 4k uhd tv with hdr\"",
          "Sony - 55 class - led - x800e series - 2160p - smart - 4k uhd tv with hdr\"",
          "Sony - 55 class - led - x800e series - 2160p - smart - 4k uhd tv with hdr\"",
          "Sony - 55 class - led - x800e series - 2160p - smart - 4k uhd tv with hdr\"",
          "Sony - 55 class - led - x800e series - 2160p - smart - 4k uhd tv with hdr\"",
          "Sony - 55 class - led - x800e series - 2160p - smart - 4k uhd tv with hdr\"",
          "Sony - 55 class - led - x800e series - 2160p - smart - 4k uhd tv with hdr\"",
          "Sony - 55 class - led - x800e series - 2160p - smart - 4k uhd tv with hdr\"",
          "Sony - 55 class - led - x800e series - 2160p - smart - 4k uhd tv with hdr\"",
          "Sony - 55 class - led - x800e series - 2160p - smart - 4k uhd tv with hdr\"",
          "Sony - 55 class - led - x800e series - 2160p - smart - 4k uhd tv with hdr\"",
          "Sony - 55 class - led - x800e series - 2160p - smart - 4k uhd tv with hdr\"",
          "Sony - 55 class - led - x800e series - 2160p - smart - 4k uhd tv with hdr\"",
          "Sony - 55 class - led - x800e series - 2160p - smart - 4k uhd tv with hdr\"",
          "Sony - 55 class - led - x800e series - 2160p - smart - 4k uhd tv with hdr\"",
          "Sony - 55 class - led - x800e series - 2160p - smart - 4k uhd tv with hdr\"",
          "Sony - 55 class - led - x800e series - 2160p - smart - 4k uhd tv with hdr\"",
          "Sony - 55 class - led - x800e series - 2160p - smart - 4k uhd tv with hdr\"",
          "Sony - 55 class - led - x800e series - 2160p - smart - 4k uhd tv with hdr\"",
          "Sony - 55 class - led - x800e series - 2160p - smart - 4k uhd tv with hdr\"",
          "Sony - 55 class - led - x800e series - 2160p - smart - 4k uhd tv with hdr\"",
          "Sony - 55 class - led - x800e series - 2160p - smart - 4k uhd tv with hdr\"",
          "Sony - 55 class - led - x800e series - 2160p - smart - 4k uhd tv with hdr\"",
          "Sony - 55 class - led - x800e series - 2160p - smart - 4k uhd tv with hdr\"",
          "Sony - 55 class - led - x800e series - 2160p - smart - 4k uhd tv with hdr\"",
          "Sony - 55 class - led - x800e series - 2160p - smart - 4k uhd tv with hdr\"",
          "Sony - 55 class - led - x800e series - 2160p - smart - 4k uhd tv with hdr\"",
          "Sony - 55 class - led - x800e series - 2160p - smart - 4k uhd tv with hdr\"",
          "Sony - 55 class - led - x800e series - 2160p - smart - 4k uhd tv with hdr\"",
          "Sony - 55 class - led - x800e series - 2160p - smart - 4k uhd tv with hdr\"",
          "Sony - 55 class - led - x800e series - 2160p - smart - 4k uhd tv with hdr\"",
          "Sony - 55 class - led - x800e series - 2160p - smart - 4k uhd tv with hdr\"",
          "Sony - 55 class - led - x800e series - 2160p - smart - 4k uhd tv with hdr\""
         ],
         "type": "scatter",
         "x": [
          "2018-04-26T17:00:00",
          "2018-05-27T16:00:00",
          "2018-04-26T17:00:00",
          "2018-07-25T18:00:00",
          "2018-03-31T19:00:00",
          "2018-06-01T09:00:00",
          "2018-06-01T09:00:00",
          "2018-05-25T21:00:00",
          "2018-05-26T15:00:00",
          "2018-05-25T21:00:00",
          "2018-05-26T15:00:00",
          "2017-12-06T01:00:00",
          "2017-08-28T12:00:00",
          "2017-07-25T21:00:00",
          "2017-07-15T16:00:00",
          "2017-07-09T03:00:00",
          "2017-07-08T07:00:00",
          "2017-06-29T17:00:00",
          "2017-06-29T03:00:00",
          "2017-06-28T04:00:00",
          "2017-03-30T05:00:00",
          "2017-03-10T19:00:00",
          "2017-03-04T10:00:00",
          "2017-07-25T21:00:00",
          "2017-07-25T18:00:00",
          "2017-07-26T15:00:00",
          "2017-06-29T22:00:00",
          "2018-01-10T14:00:00",
          "2017-07-21T16:00:00",
          "2017-06-24T22:00:00",
          "2017-06-24T07:00:00",
          "2017-06-20T09:00:00",
          "2017-06-23T12:00:00",
          "2017-06-17T23:00:00",
          "2018-04-26T17:00:00",
          "2017-08-29T12:00:00",
          "2017-08-19T05:00:00",
          "2018-05-04T11:00:00",
          "2017-09-24T03:00:00",
          "2018-04-26T17:00:00",
          "2017-12-06T20:00:00",
          "2017-08-29T12:00:00",
          "2017-08-19T05:00:00",
          "2018-05-04T11:00:00",
          "2017-12-04T21:00:00",
          "2017-08-22T10:00:00",
          "2018-01-09T20:00:00",
          "2017-12-06T22:00:00",
          "2017-09-24T03:00:00",
          "2017-11-18T10:00:00",
          "2017-11-16T19:00:00",
          "2017-10-28T17:00:00",
          "2017-10-24T22:00:00",
          "2017-08-22T10:00:00",
          "2017-06-28T04:00:00",
          "2017-08-01T03:00:00",
          "2017-06-15T17:00:00",
          "2018-03-09T18:00:00",
          "2017-07-09T03:00:00",
          "2018-04-26T17:00:00",
          "2018-05-27T16:00:00",
          "2018-03-15T19:00:00",
          "2017-10-24T01:00:00",
          "2018-05-28T11:00:00",
          "2018-05-24T11:00:00",
          "2017-06-07T18:00:00",
          "2017-09-28T04:00:00",
          "2018-03-09T18:00:00",
          "2017-11-16T22:00:00",
          "2018-01-10T07:00:00",
          "2017-06-01T19:00:00",
          "2017-05-31T17:00:00",
          "2017-05-09T07:00:00",
          "2017-05-01T20:00:00",
          "2017-05-18T05:00:00",
          "2018-05-26T15:00:00",
          "2017-06-01T19:00:00",
          "2017-05-31T17:00:00",
          "2017-07-21T16:00:00",
          "2017-09-15T00:00:00",
          "2018-01-09T20:00:00",
          "2017-12-06T22:00:00",
          "2017-12-06T20:00:00",
          "2017-12-04T21:00:00",
          "2017-11-18T10:00:00",
          "2017-07-25T21:00:00",
          "2017-07-23T11:00:00",
          "2017-07-24T21:00:00",
          "2017-07-15T00:00:00",
          "2017-07-15T16:00:00",
          "2017-07-09T03:00:00",
          "2017-07-18T00:00:00",
          "2017-07-11T07:00:00",
          "2017-07-23T08:00:00",
          "2017-07-26T18:00:00",
          "2017-07-25T18:00:00",
          "2017-07-09T22:00:00",
          "2017-07-16T01:00:00",
          "2017-07-18T11:00:00",
          "2017-07-08T22:00:00",
          "2017-06-29T13:00:00",
          "2017-06-27T11:00:00",
          "2017-06-27T20:00:00",
          "2017-06-27T00:00:00",
          "2017-11-16T19:00:00",
          "2017-10-24T01:00:00",
          "2017-08-01T03:00:00",
          "2017-07-26T15:00:00",
          "2017-06-29T22:00:00"
         ],
         "y": [
          1498,
          1298,
          1498,
          1498,
          1498,
          1498,
          1298,
          1499.99,
          1499.99,
          1299.99,
          1299.99,
          1896,
          898,
          998,
          998,
          998,
          998,
          998,
          998,
          998,
          1899.99,
          1899.99,
          1899.99,
          998,
          998,
          909.99,
          909.99,
          695.47,
          998,
          1098,
          1098,
          1098,
          1098,
          1098,
          898,
          898,
          898,
          898,
          898,
          1198,
          1198,
          1198,
          1198,
          1198,
          1198,
          1198,
          1198,
          1198,
          1198,
          1198,
          2196,
          2196,
          2196,
          998,
          998,
          919.99,
          1098,
          838,
          1295.2,
          898,
          898,
          898,
          898,
          898,
          898,
          1198,
          1099,
          798,
          798,
          2096,
          1199.99,
          1199.99,
          1199.99,
          1199.99,
          1199.99,
          899.99,
          1091.99,
          1091.99,
          998,
          998,
          798,
          798,
          798,
          798,
          798,
          998,
          998,
          998,
          998,
          998,
          998,
          998,
          998,
          998,
          998,
          998,
          998,
          998,
          998,
          998,
          998,
          998,
          998,
          998,
          898,
          898,
          999.99,
          999.99,
          999.99
         ]
        }
       ],
       "layout": {
        "template": {
         "data": {
          "bar": [
           {
            "error_x": {
             "color": "#2a3f5f"
            },
            "error_y": {
             "color": "#2a3f5f"
            },
            "marker": {
             "line": {
              "color": "#E5ECF6",
              "width": 0.5
             }
            },
            "type": "bar"
           }
          ],
          "barpolar": [
           {
            "marker": {
             "line": {
              "color": "#E5ECF6",
              "width": 0.5
             }
            },
            "type": "barpolar"
           }
          ],
          "carpet": [
           {
            "aaxis": {
             "endlinecolor": "#2a3f5f",
             "gridcolor": "white",
             "linecolor": "white",
             "minorgridcolor": "white",
             "startlinecolor": "#2a3f5f"
            },
            "baxis": {
             "endlinecolor": "#2a3f5f",
             "gridcolor": "white",
             "linecolor": "white",
             "minorgridcolor": "white",
             "startlinecolor": "#2a3f5f"
            },
            "type": "carpet"
           }
          ],
          "choropleth": [
           {
            "colorbar": {
             "outlinewidth": 0,
             "ticks": ""
            },
            "type": "choropleth"
           }
          ],
          "contour": [
           {
            "colorbar": {
             "outlinewidth": 0,
             "ticks": ""
            },
            "colorscale": [
             [
              0,
              "#0d0887"
             ],
             [
              0.1111111111111111,
              "#46039f"
             ],
             [
              0.2222222222222222,
              "#7201a8"
             ],
             [
              0.3333333333333333,
              "#9c179e"
             ],
             [
              0.4444444444444444,
              "#bd3786"
             ],
             [
              0.5555555555555556,
              "#d8576b"
             ],
             [
              0.6666666666666666,
              "#ed7953"
             ],
             [
              0.7777777777777778,
              "#fb9f3a"
             ],
             [
              0.8888888888888888,
              "#fdca26"
             ],
             [
              1,
              "#f0f921"
             ]
            ],
            "type": "contour"
           }
          ],
          "contourcarpet": [
           {
            "colorbar": {
             "outlinewidth": 0,
             "ticks": ""
            },
            "type": "contourcarpet"
           }
          ],
          "heatmap": [
           {
            "colorbar": {
             "outlinewidth": 0,
             "ticks": ""
            },
            "colorscale": [
             [
              0,
              "#0d0887"
             ],
             [
              0.1111111111111111,
              "#46039f"
             ],
             [
              0.2222222222222222,
              "#7201a8"
             ],
             [
              0.3333333333333333,
              "#9c179e"
             ],
             [
              0.4444444444444444,
              "#bd3786"
             ],
             [
              0.5555555555555556,
              "#d8576b"
             ],
             [
              0.6666666666666666,
              "#ed7953"
             ],
             [
              0.7777777777777778,
              "#fb9f3a"
             ],
             [
              0.8888888888888888,
              "#fdca26"
             ],
             [
              1,
              "#f0f921"
             ]
            ],
            "type": "heatmap"
           }
          ],
          "heatmapgl": [
           {
            "colorbar": {
             "outlinewidth": 0,
             "ticks": ""
            },
            "colorscale": [
             [
              0,
              "#0d0887"
             ],
             [
              0.1111111111111111,
              "#46039f"
             ],
             [
              0.2222222222222222,
              "#7201a8"
             ],
             [
              0.3333333333333333,
              "#9c179e"
             ],
             [
              0.4444444444444444,
              "#bd3786"
             ],
             [
              0.5555555555555556,
              "#d8576b"
             ],
             [
              0.6666666666666666,
              "#ed7953"
             ],
             [
              0.7777777777777778,
              "#fb9f3a"
             ],
             [
              0.8888888888888888,
              "#fdca26"
             ],
             [
              1,
              "#f0f921"
             ]
            ],
            "type": "heatmapgl"
           }
          ],
          "histogram": [
           {
            "marker": {
             "colorbar": {
              "outlinewidth": 0,
              "ticks": ""
             }
            },
            "type": "histogram"
           }
          ],
          "histogram2d": [
           {
            "colorbar": {
             "outlinewidth": 0,
             "ticks": ""
            },
            "colorscale": [
             [
              0,
              "#0d0887"
             ],
             [
              0.1111111111111111,
              "#46039f"
             ],
             [
              0.2222222222222222,
              "#7201a8"
             ],
             [
              0.3333333333333333,
              "#9c179e"
             ],
             [
              0.4444444444444444,
              "#bd3786"
             ],
             [
              0.5555555555555556,
              "#d8576b"
             ],
             [
              0.6666666666666666,
              "#ed7953"
             ],
             [
              0.7777777777777778,
              "#fb9f3a"
             ],
             [
              0.8888888888888888,
              "#fdca26"
             ],
             [
              1,
              "#f0f921"
             ]
            ],
            "type": "histogram2d"
           }
          ],
          "histogram2dcontour": [
           {
            "colorbar": {
             "outlinewidth": 0,
             "ticks": ""
            },
            "colorscale": [
             [
              0,
              "#0d0887"
             ],
             [
              0.1111111111111111,
              "#46039f"
             ],
             [
              0.2222222222222222,
              "#7201a8"
             ],
             [
              0.3333333333333333,
              "#9c179e"
             ],
             [
              0.4444444444444444,
              "#bd3786"
             ],
             [
              0.5555555555555556,
              "#d8576b"
             ],
             [
              0.6666666666666666,
              "#ed7953"
             ],
             [
              0.7777777777777778,
              "#fb9f3a"
             ],
             [
              0.8888888888888888,
              "#fdca26"
             ],
             [
              1,
              "#f0f921"
             ]
            ],
            "type": "histogram2dcontour"
           }
          ],
          "mesh3d": [
           {
            "colorbar": {
             "outlinewidth": 0,
             "ticks": ""
            },
            "type": "mesh3d"
           }
          ],
          "parcoords": [
           {
            "line": {
             "colorbar": {
              "outlinewidth": 0,
              "ticks": ""
             }
            },
            "type": "parcoords"
           }
          ],
          "pie": [
           {
            "automargin": true,
            "type": "pie"
           }
          ],
          "scatter": [
           {
            "marker": {
             "colorbar": {
              "outlinewidth": 0,
              "ticks": ""
             }
            },
            "type": "scatter"
           }
          ],
          "scatter3d": [
           {
            "line": {
             "colorbar": {
              "outlinewidth": 0,
              "ticks": ""
             }
            },
            "marker": {
             "colorbar": {
              "outlinewidth": 0,
              "ticks": ""
             }
            },
            "type": "scatter3d"
           }
          ],
          "scattercarpet": [
           {
            "marker": {
             "colorbar": {
              "outlinewidth": 0,
              "ticks": ""
             }
            },
            "type": "scattercarpet"
           }
          ],
          "scattergeo": [
           {
            "marker": {
             "colorbar": {
              "outlinewidth": 0,
              "ticks": ""
             }
            },
            "type": "scattergeo"
           }
          ],
          "scattergl": [
           {
            "marker": {
             "colorbar": {
              "outlinewidth": 0,
              "ticks": ""
             }
            },
            "type": "scattergl"
           }
          ],
          "scattermapbox": [
           {
            "marker": {
             "colorbar": {
              "outlinewidth": 0,
              "ticks": ""
             }
            },
            "type": "scattermapbox"
           }
          ],
          "scatterpolar": [
           {
            "marker": {
             "colorbar": {
              "outlinewidth": 0,
              "ticks": ""
             }
            },
            "type": "scatterpolar"
           }
          ],
          "scatterpolargl": [
           {
            "marker": {
             "colorbar": {
              "outlinewidth": 0,
              "ticks": ""
             }
            },
            "type": "scatterpolargl"
           }
          ],
          "scatterternary": [
           {
            "marker": {
             "colorbar": {
              "outlinewidth": 0,
              "ticks": ""
             }
            },
            "type": "scatterternary"
           }
          ],
          "surface": [
           {
            "colorbar": {
             "outlinewidth": 0,
             "ticks": ""
            },
            "colorscale": [
             [
              0,
              "#0d0887"
             ],
             [
              0.1111111111111111,
              "#46039f"
             ],
             [
              0.2222222222222222,
              "#7201a8"
             ],
             [
              0.3333333333333333,
              "#9c179e"
             ],
             [
              0.4444444444444444,
              "#bd3786"
             ],
             [
              0.5555555555555556,
              "#d8576b"
             ],
             [
              0.6666666666666666,
              "#ed7953"
             ],
             [
              0.7777777777777778,
              "#fb9f3a"
             ],
             [
              0.8888888888888888,
              "#fdca26"
             ],
             [
              1,
              "#f0f921"
             ]
            ],
            "type": "surface"
           }
          ],
          "table": [
           {
            "cells": {
             "fill": {
              "color": "#EBF0F8"
             },
             "line": {
              "color": "white"
             }
            },
            "header": {
             "fill": {
              "color": "#C8D4E3"
             },
             "line": {
              "color": "white"
             }
            },
            "type": "table"
           }
          ]
         },
         "layout": {
          "annotationdefaults": {
           "arrowcolor": "#2a3f5f",
           "arrowhead": 0,
           "arrowwidth": 1
          },
          "coloraxis": {
           "colorbar": {
            "outlinewidth": 0,
            "ticks": ""
           }
          },
          "colorscale": {
           "diverging": [
            [
             0,
             "#8e0152"
            ],
            [
             0.1,
             "#c51b7d"
            ],
            [
             0.2,
             "#de77ae"
            ],
            [
             0.3,
             "#f1b6da"
            ],
            [
             0.4,
             "#fde0ef"
            ],
            [
             0.5,
             "#f7f7f7"
            ],
            [
             0.6,
             "#e6f5d0"
            ],
            [
             0.7,
             "#b8e186"
            ],
            [
             0.8,
             "#7fbc41"
            ],
            [
             0.9,
             "#4d9221"
            ],
            [
             1,
             "#276419"
            ]
           ],
           "sequential": [
            [
             0,
             "#0d0887"
            ],
            [
             0.1111111111111111,
             "#46039f"
            ],
            [
             0.2222222222222222,
             "#7201a8"
            ],
            [
             0.3333333333333333,
             "#9c179e"
            ],
            [
             0.4444444444444444,
             "#bd3786"
            ],
            [
             0.5555555555555556,
             "#d8576b"
            ],
            [
             0.6666666666666666,
             "#ed7953"
            ],
            [
             0.7777777777777778,
             "#fb9f3a"
            ],
            [
             0.8888888888888888,
             "#fdca26"
            ],
            [
             1,
             "#f0f921"
            ]
           ],
           "sequentialminus": [
            [
             0,
             "#0d0887"
            ],
            [
             0.1111111111111111,
             "#46039f"
            ],
            [
             0.2222222222222222,
             "#7201a8"
            ],
            [
             0.3333333333333333,
             "#9c179e"
            ],
            [
             0.4444444444444444,
             "#bd3786"
            ],
            [
             0.5555555555555556,
             "#d8576b"
            ],
            [
             0.6666666666666666,
             "#ed7953"
            ],
            [
             0.7777777777777778,
             "#fb9f3a"
            ],
            [
             0.8888888888888888,
             "#fdca26"
            ],
            [
             1,
             "#f0f921"
            ]
           ]
          },
          "colorway": [
           "#636efa",
           "#EF553B",
           "#00cc96",
           "#ab63fa",
           "#FFA15A",
           "#19d3f3",
           "#FF6692",
           "#B6E880",
           "#FF97FF",
           "#FECB52"
          ],
          "font": {
           "color": "#2a3f5f"
          },
          "geo": {
           "bgcolor": "white",
           "lakecolor": "white",
           "landcolor": "#E5ECF6",
           "showlakes": true,
           "showland": true,
           "subunitcolor": "white"
          },
          "hoverlabel": {
           "align": "left"
          },
          "hovermode": "closest",
          "mapbox": {
           "style": "light"
          },
          "paper_bgcolor": "white",
          "plot_bgcolor": "#E5ECF6",
          "polar": {
           "angularaxis": {
            "gridcolor": "white",
            "linecolor": "white",
            "ticks": ""
           },
           "bgcolor": "#E5ECF6",
           "radialaxis": {
            "gridcolor": "white",
            "linecolor": "white",
            "ticks": ""
           }
          },
          "scene": {
           "xaxis": {
            "backgroundcolor": "#E5ECF6",
            "gridcolor": "white",
            "gridwidth": 2,
            "linecolor": "white",
            "showbackground": true,
            "ticks": "",
            "zerolinecolor": "white"
           },
           "yaxis": {
            "backgroundcolor": "#E5ECF6",
            "gridcolor": "white",
            "gridwidth": 2,
            "linecolor": "white",
            "showbackground": true,
            "ticks": "",
            "zerolinecolor": "white"
           },
           "zaxis": {
            "backgroundcolor": "#E5ECF6",
            "gridcolor": "white",
            "gridwidth": 2,
            "linecolor": "white",
            "showbackground": true,
            "ticks": "",
            "zerolinecolor": "white"
           }
          },
          "shapedefaults": {
           "line": {
            "color": "#2a3f5f"
           }
          },
          "ternary": {
           "aaxis": {
            "gridcolor": "white",
            "linecolor": "white",
            "ticks": ""
           },
           "baxis": {
            "gridcolor": "white",
            "linecolor": "white",
            "ticks": ""
           },
           "bgcolor": "#E5ECF6",
           "caxis": {
            "gridcolor": "white",
            "linecolor": "white",
            "ticks": ""
           }
          },
          "title": {
           "x": 0.05
          },
          "xaxis": {
           "automargin": true,
           "gridcolor": "white",
           "linecolor": "white",
           "ticks": "",
           "title": {
            "standoff": 15
           },
           "zerolinecolor": "white",
           "zerolinewidth": 2
          },
          "yaxis": {
           "automargin": true,
           "gridcolor": "white",
           "linecolor": "white",
           "ticks": "",
           "title": {
            "standoff": 15
           },
           "zerolinecolor": "white",
           "zerolinewidth": 2
          }
         }
        },
        "title": {
         "text": "Price Variation with Time"
        },
        "xaxis": {
         "title": {
          "text": "Date"
         }
        },
        "yaxis": {
         "title": {
          "text": "Price"
         }
        }
       }
      },
      "text/html": [
       "<div>\n",
       "        \n",
       "        \n",
       "            <div id=\"03477eef-0422-4796-85d5-69f23a42a56c\" class=\"plotly-graph-div\" style=\"height:525px; width:100%;\"></div>\n",
       "            <script type=\"text/javascript\">\n",
       "                require([\"plotly\"], function(Plotly) {\n",
       "                    window.PLOTLYENV=window.PLOTLYENV || {};\n",
       "                    \n",
       "                if (document.getElementById(\"03477eef-0422-4796-85d5-69f23a42a56c\")) {\n",
       "                    Plotly.newPlot(\n",
       "                        '03477eef-0422-4796-85d5-69f23a42a56c',\n",
       "                        [{\"marker\": {\"color\": [\"rgb(39, 60, 215)\", \"rgb(39, 60, 215)\", \"rgb(39, 60, 215)\", \"rgb(39, 60, 215)\", \"rgb(39, 60, 215)\", \"rgb(39, 60, 215)\", \"rgb(39, 60, 215)\", \"rgb(39, 60, 215)\", \"rgb(39, 60, 215)\", \"rgb(39, 60, 215)\", \"rgb(39, 60, 215)\", \"rgb(29, 222, 206)\", \"rgb(29, 222, 206)\", \"rgb(29, 222, 206)\", \"rgb(29, 222, 206)\", \"rgb(29, 222, 206)\", \"rgb(29, 222, 206)\", \"rgb(29, 222, 206)\", \"rgb(29, 222, 206)\", \"rgb(29, 222, 206)\", \"rgb(29, 222, 206)\", \"rgb(29, 222, 206)\", \"rgb(29, 222, 206)\", \"rgb(29, 222, 206)\", \"rgb(29, 222, 206)\", \"rgb(29, 222, 206)\", \"rgb(29, 222, 206)\", \"rgb(29, 222, 206)\", \"rgb(29, 222, 206)\", \"rgb(29, 222, 206)\", \"rgb(29, 222, 206)\", \"rgb(29, 222, 206)\", \"rgb(29, 222, 206)\", \"rgb(29, 222, 206)\", \"rgb(29, 222, 206)\", \"rgb(29, 222, 206)\", \"rgb(29, 222, 206)\", \"rgb(29, 222, 206)\", \"rgb(29, 222, 206)\", \"rgb(29, 222, 206)\", \"rgb(29, 222, 206)\", \"rgb(29, 222, 206)\", \"rgb(29, 222, 206)\", \"rgb(29, 222, 206)\", \"rgb(29, 222, 206)\", \"rgb(29, 222, 206)\", \"rgb(29, 222, 206)\", \"rgb(29, 222, 206)\", \"rgb(29, 222, 206)\", \"rgb(29, 222, 206)\", \"rgb(29, 222, 206)\", \"rgb(29, 222, 206)\", \"rgb(29, 222, 206)\", \"rgb(29, 222, 206)\", \"rgb(29, 222, 206)\", \"rgb(29, 222, 206)\", \"rgb(29, 222, 206)\", \"rgb(29, 222, 206)\", \"rgb(29, 222, 206)\", \"rgb(29, 222, 206)\", \"rgb(29, 222, 206)\", \"rgb(29, 222, 206)\", \"rgb(29, 222, 206)\", \"rgb(29, 222, 206)\", \"rgb(29, 222, 206)\", \"rgb(29, 222, 206)\", \"rgb(29, 222, 206)\", \"rgb(29, 222, 206)\", \"rgb(29, 222, 206)\", \"rgb(29, 222, 206)\", \"rgb(29, 222, 206)\", \"rgb(29, 222, 206)\", \"rgb(29, 222, 206)\", \"rgb(29, 222, 206)\", \"rgb(29, 222, 206)\", \"rgb(29, 222, 206)\", \"rgb(29, 222, 206)\", \"rgb(29, 222, 206)\", \"rgb(29, 222, 206)\", \"rgb(29, 222, 206)\", \"rgb(29, 222, 206)\", \"rgb(29, 222, 206)\", \"rgb(29, 222, 206)\", \"rgb(29, 222, 206)\", \"rgb(29, 222, 206)\", \"rgb(29, 222, 206)\", \"rgb(29, 222, 206)\", \"rgb(29, 222, 206)\", \"rgb(29, 222, 206)\", \"rgb(29, 222, 206)\", \"rgb(29, 222, 206)\", \"rgb(29, 222, 206)\", \"rgb(29, 222, 206)\", \"rgb(29, 222, 206)\", \"rgb(29, 222, 206)\", \"rgb(29, 222, 206)\", \"rgb(29, 222, 206)\", \"rgb(29, 222, 206)\", \"rgb(29, 222, 206)\", \"rgb(29, 222, 206)\", \"rgb(29, 222, 206)\", \"rgb(29, 222, 206)\", \"rgb(29, 222, 206)\", \"rgb(29, 222, 206)\", \"rgb(29, 222, 206)\", \"rgb(29, 222, 206)\", \"rgb(29, 222, 206)\", \"rgb(29, 222, 206)\", \"rgb(29, 222, 206)\"], \"size\": 10}, \"mode\": \"markers\", \"text\": [\"X900f-series 55-class hdr uhd smart led tv\", \"X900f-series 55-class hdr uhd smart led tv\", \"X900f-series 55-class hdr uhd smart led tv\", \"X900f-series 55-class hdr uhd smart led tv\", \"X900f-series 55-class hdr uhd smart led tv\", \"X900f-series 55-class hdr uhd smart led tv\", \"X900f-series 55-class hdr uhd smart led tv\", \"X900f-series 55-class hdr uhd smart led tv\", \"X900f-series 55-class hdr uhd smart led tv\", \"X900f-series 55-class hdr uhd smart led tv\", \"X900f-series 55-class hdr uhd smart led tv\", \"Sony - 55 class - led - x800e series - 2160p - smart - 4k uhd tv with hdr\\\"\", \"Sony - 55 class - led - x800e series - 2160p - smart - 4k uhd tv with hdr\\\"\", \"Sony - 55 class - led - x800e series - 2160p - smart - 4k uhd tv with hdr\\\"\", \"Sony - 55 class - led - x800e series - 2160p - smart - 4k uhd tv with hdr\\\"\", \"Sony - 55 class - led - x800e series - 2160p - smart - 4k uhd tv with hdr\\\"\", \"Sony - 55 class - led - x800e series - 2160p - smart - 4k uhd tv with hdr\\\"\", \"Sony - 55 class - led - x800e series - 2160p - smart - 4k uhd tv with hdr\\\"\", \"Sony - 55 class - led - x800e series - 2160p - smart - 4k uhd tv with hdr\\\"\", \"Sony - 55 class - led - x800e series - 2160p - smart - 4k uhd tv with hdr\\\"\", \"Sony - 55 class - led - x800e series - 2160p - smart - 4k uhd tv with hdr\\\"\", \"Sony - 55 class - led - x800e series - 2160p - smart - 4k uhd tv with hdr\\\"\", \"Sony - 55 class - led - x800e series - 2160p - smart - 4k uhd tv with hdr\\\"\", \"Sony - 55 class - led - x800e series - 2160p - smart - 4k uhd tv with hdr\\\"\", \"Sony - 55 class - led - x800e series - 2160p - smart - 4k uhd tv with hdr\\\"\", \"Sony - 55 class - led - x800e series - 2160p - smart - 4k uhd tv with hdr\\\"\", \"Sony - 55 class - led - x800e series - 2160p - smart - 4k uhd tv with hdr\\\"\", \"Sony - 55 class - led - x800e series - 2160p - smart - 4k uhd tv with hdr\\\"\", \"Sony - 55 class - led - x800e series - 2160p - smart - 4k uhd tv with hdr\\\"\", \"Sony - 55 class - led - x800e series - 2160p - smart - 4k uhd tv with hdr\\\"\", \"Sony - 55 class - led - x800e series - 2160p - smart - 4k uhd tv with hdr\\\"\", \"Sony - 55 class - led - x800e series - 2160p - smart - 4k uhd tv with hdr\\\"\", \"Sony - 55 class - led - x800e series - 2160p - smart - 4k uhd tv with hdr\\\"\", \"Sony - 55 class - led - x800e series - 2160p - smart - 4k uhd tv with hdr\\\"\", \"Sony - 55 class - led - x800e series - 2160p - smart - 4k uhd tv with hdr\\\"\", \"Sony - 55 class - led - x800e series - 2160p - smart - 4k uhd tv with hdr\\\"\", \"Sony - 55 class - led - x800e series - 2160p - smart - 4k uhd tv with hdr\\\"\", \"Sony - 55 class - led - x800e series - 2160p - smart - 4k uhd tv with hdr\\\"\", \"Sony - 55 class - led - x800e series - 2160p - smart - 4k uhd tv with hdr\\\"\", \"Sony - 55 class - led - x800e series - 2160p - smart - 4k uhd tv with hdr\\\"\", \"Sony - 55 class - led - x800e series - 2160p - smart - 4k uhd tv with hdr\\\"\", \"Sony - 55 class - led - x800e series - 2160p - smart - 4k uhd tv with hdr\\\"\", \"Sony - 55 class - led - x800e series - 2160p - smart - 4k uhd tv with hdr\\\"\", \"Sony - 55 class - led - x800e series - 2160p - smart - 4k uhd tv with hdr\\\"\", \"Sony - 55 class - led - x800e series - 2160p - smart - 4k uhd tv with hdr\\\"\", \"Sony - 55 class - led - x800e series - 2160p - smart - 4k uhd tv with hdr\\\"\", \"Sony - 55 class - led - x800e series - 2160p - smart - 4k uhd tv with hdr\\\"\", \"Sony - 55 class - led - x800e series - 2160p - smart - 4k uhd tv with hdr\\\"\", \"Sony - 55 class - led - x800e series - 2160p - smart - 4k uhd tv with hdr\\\"\", \"Sony - 55 class - led - x800e series - 2160p - smart - 4k uhd tv with hdr\\\"\", \"Sony - 55 class - led - x800e series - 2160p - smart - 4k uhd tv with hdr\\\"\", \"Sony - 55 class - led - x800e series - 2160p - smart - 4k uhd tv with hdr\\\"\", \"Sony - 55 class - led - x800e series - 2160p - smart - 4k uhd tv with hdr\\\"\", \"Sony - 55 class - led - x800e series - 2160p - smart - 4k uhd tv with hdr\\\"\", \"Sony - 55 class - led - x800e series - 2160p - smart - 4k uhd tv with hdr\\\"\", \"Sony - 55 class - led - x800e series - 2160p - smart - 4k uhd tv with hdr\\\"\", \"Sony - 55 class - led - x800e series - 2160p - smart - 4k uhd tv with hdr\\\"\", \"Sony - 55 class - led - x800e series - 2160p - smart - 4k uhd tv with hdr\\\"\", \"Sony - 55 class - led - x800e series - 2160p - smart - 4k uhd tv with hdr\\\"\", \"Sony - 55 class - led - x800e series - 2160p - smart - 4k uhd tv with hdr\\\"\", \"Sony - 55 class - led - x800e series - 2160p - smart - 4k uhd tv with hdr\\\"\", \"Sony - 55 class - led - x800e series - 2160p - smart - 4k uhd tv with hdr\\\"\", \"Sony - 55 class - led - x800e series - 2160p - smart - 4k uhd tv with hdr\\\"\", \"Sony - 55 class - led - x800e series - 2160p - smart - 4k uhd tv with hdr\\\"\", \"Sony - 55 class - led - x800e series - 2160p - smart - 4k uhd tv with hdr\\\"\", \"Sony - 55 class - led - x800e series - 2160p - smart - 4k uhd tv with hdr\\\"\", \"Sony - 55 class - led - x800e series - 2160p - smart - 4k uhd tv with hdr\\\"\", \"Sony - 55 class - led - x800e series - 2160p - smart - 4k uhd tv with hdr\\\"\", \"Sony - 55 class - led - x800e series - 2160p - smart - 4k uhd tv with hdr\\\"\", \"Sony - 55 class - led - x800e series - 2160p - smart - 4k uhd tv with hdr\\\"\", \"Sony - 55 class - led - x800e series - 2160p - smart - 4k uhd tv with hdr\\\"\", \"Sony - 55 class - led - x800e series - 2160p - smart - 4k uhd tv with hdr\\\"\", \"Sony - 55 class - led - x800e series - 2160p - smart - 4k uhd tv with hdr\\\"\", \"Sony - 55 class - led - x800e series - 2160p - smart - 4k uhd tv with hdr\\\"\", \"Sony - 55 class - led - x800e series - 2160p - smart - 4k uhd tv with hdr\\\"\", \"Sony - 55 class - led - x800e series - 2160p - smart - 4k uhd tv with hdr\\\"\", \"Sony - 55 class - led - x800e series - 2160p - smart - 4k uhd tv with hdr\\\"\", \"Sony - 55 class - led - x800e series - 2160p - smart - 4k uhd tv with hdr\\\"\", \"Sony - 55 class - led - x800e series - 2160p - smart - 4k uhd tv with hdr\\\"\", \"Sony - 55 class - led - x800e series - 2160p - smart - 4k uhd tv with hdr\\\"\", \"Sony - 55 class - led - x800e series - 2160p - smart - 4k uhd tv with hdr\\\"\", \"Sony - 55 class - led - x800e series - 2160p - smart - 4k uhd tv with hdr\\\"\", \"Sony - 55 class - led - x800e series - 2160p - smart - 4k uhd tv with hdr\\\"\", \"Sony - 55 class - led - x800e series - 2160p - smart - 4k uhd tv with hdr\\\"\", \"Sony - 55 class - led - x800e series - 2160p - smart - 4k uhd tv with hdr\\\"\", \"Sony - 55 class - led - x800e series - 2160p - smart - 4k uhd tv with hdr\\\"\", \"Sony - 55 class - led - x800e series - 2160p - smart - 4k uhd tv with hdr\\\"\", \"Sony - 55 class - led - x800e series - 2160p - smart - 4k uhd tv with hdr\\\"\", \"Sony - 55 class - led - x800e series - 2160p - smart - 4k uhd tv with hdr\\\"\", \"Sony - 55 class - led - x800e series - 2160p - smart - 4k uhd tv with hdr\\\"\", \"Sony - 55 class - led - x800e series - 2160p - smart - 4k uhd tv with hdr\\\"\", \"Sony - 55 class - led - x800e series - 2160p - smart - 4k uhd tv with hdr\\\"\", \"Sony - 55 class - led - x800e series - 2160p - smart - 4k uhd tv with hdr\\\"\", \"Sony - 55 class - led - x800e series - 2160p - smart - 4k uhd tv with hdr\\\"\", \"Sony - 55 class - led - x800e series - 2160p - smart - 4k uhd tv with hdr\\\"\", \"Sony - 55 class - led - x800e series - 2160p - smart - 4k uhd tv with hdr\\\"\", \"Sony - 55 class - led - x800e series - 2160p - smart - 4k uhd tv with hdr\\\"\", \"Sony - 55 class - led - x800e series - 2160p - smart - 4k uhd tv with hdr\\\"\", \"Sony - 55 class - led - x800e series - 2160p - smart - 4k uhd tv with hdr\\\"\", \"Sony - 55 class - led - x800e series - 2160p - smart - 4k uhd tv with hdr\\\"\", \"Sony - 55 class - led - x800e series - 2160p - smart - 4k uhd tv with hdr\\\"\", \"Sony - 55 class - led - x800e series - 2160p - smart - 4k uhd tv with hdr\\\"\", \"Sony - 55 class - led - x800e series - 2160p - smart - 4k uhd tv with hdr\\\"\", \"Sony - 55 class - led - x800e series - 2160p - smart - 4k uhd tv with hdr\\\"\", \"Sony - 55 class - led - x800e series - 2160p - smart - 4k uhd tv with hdr\\\"\", \"Sony - 55 class - led - x800e series - 2160p - smart - 4k uhd tv with hdr\\\"\", \"Sony - 55 class - led - x800e series - 2160p - smart - 4k uhd tv with hdr\\\"\", \"Sony - 55 class - led - x800e series - 2160p - smart - 4k uhd tv with hdr\\\"\", \"Sony - 55 class - led - x800e series - 2160p - smart - 4k uhd tv with hdr\\\"\"], \"type\": \"scatter\", \"x\": [\"2018-04-26T17:00:00\", \"2018-05-27T16:00:00\", \"2018-04-26T17:00:00\", \"2018-07-25T18:00:00\", \"2018-03-31T19:00:00\", \"2018-06-01T09:00:00\", \"2018-06-01T09:00:00\", \"2018-05-25T21:00:00\", \"2018-05-26T15:00:00\", \"2018-05-25T21:00:00\", \"2018-05-26T15:00:00\", \"2017-12-06T01:00:00\", \"2017-08-28T12:00:00\", \"2017-07-25T21:00:00\", \"2017-07-15T16:00:00\", \"2017-07-09T03:00:00\", \"2017-07-08T07:00:00\", \"2017-06-29T17:00:00\", \"2017-06-29T03:00:00\", \"2017-06-28T04:00:00\", \"2017-03-30T05:00:00\", \"2017-03-10T19:00:00\", \"2017-03-04T10:00:00\", \"2017-07-25T21:00:00\", \"2017-07-25T18:00:00\", \"2017-07-26T15:00:00\", \"2017-06-29T22:00:00\", \"2018-01-10T14:00:00\", \"2017-07-21T16:00:00\", \"2017-06-24T22:00:00\", \"2017-06-24T07:00:00\", \"2017-06-20T09:00:00\", \"2017-06-23T12:00:00\", \"2017-06-17T23:00:00\", \"2018-04-26T17:00:00\", \"2017-08-29T12:00:00\", \"2017-08-19T05:00:00\", \"2018-05-04T11:00:00\", \"2017-09-24T03:00:00\", \"2018-04-26T17:00:00\", \"2017-12-06T20:00:00\", \"2017-08-29T12:00:00\", \"2017-08-19T05:00:00\", \"2018-05-04T11:00:00\", \"2017-12-04T21:00:00\", \"2017-08-22T10:00:00\", \"2018-01-09T20:00:00\", \"2017-12-06T22:00:00\", \"2017-09-24T03:00:00\", \"2017-11-18T10:00:00\", \"2017-11-16T19:00:00\", \"2017-10-28T17:00:00\", \"2017-10-24T22:00:00\", \"2017-08-22T10:00:00\", \"2017-06-28T04:00:00\", \"2017-08-01T03:00:00\", \"2017-06-15T17:00:00\", \"2018-03-09T18:00:00\", \"2017-07-09T03:00:00\", \"2018-04-26T17:00:00\", \"2018-05-27T16:00:00\", \"2018-03-15T19:00:00\", \"2017-10-24T01:00:00\", \"2018-05-28T11:00:00\", \"2018-05-24T11:00:00\", \"2017-06-07T18:00:00\", \"2017-09-28T04:00:00\", \"2018-03-09T18:00:00\", \"2017-11-16T22:00:00\", \"2018-01-10T07:00:00\", \"2017-06-01T19:00:00\", \"2017-05-31T17:00:00\", \"2017-05-09T07:00:00\", \"2017-05-01T20:00:00\", \"2017-05-18T05:00:00\", \"2018-05-26T15:00:00\", \"2017-06-01T19:00:00\", \"2017-05-31T17:00:00\", \"2017-07-21T16:00:00\", \"2017-09-15T00:00:00\", \"2018-01-09T20:00:00\", \"2017-12-06T22:00:00\", \"2017-12-06T20:00:00\", \"2017-12-04T21:00:00\", \"2017-11-18T10:00:00\", \"2017-07-25T21:00:00\", \"2017-07-23T11:00:00\", \"2017-07-24T21:00:00\", \"2017-07-15T00:00:00\", \"2017-07-15T16:00:00\", \"2017-07-09T03:00:00\", \"2017-07-18T00:00:00\", \"2017-07-11T07:00:00\", \"2017-07-23T08:00:00\", \"2017-07-26T18:00:00\", \"2017-07-25T18:00:00\", \"2017-07-09T22:00:00\", \"2017-07-16T01:00:00\", \"2017-07-18T11:00:00\", \"2017-07-08T22:00:00\", \"2017-06-29T13:00:00\", \"2017-06-27T11:00:00\", \"2017-06-27T20:00:00\", \"2017-06-27T00:00:00\", \"2017-11-16T19:00:00\", \"2017-10-24T01:00:00\", \"2017-08-01T03:00:00\", \"2017-07-26T15:00:00\", \"2017-06-29T22:00:00\"], \"y\": [1498.0, 1298.0, 1498.0, 1498.0, 1498.0, 1498.0, 1298.0, 1499.99, 1499.99, 1299.99, 1299.99, 1896.0, 898.0, 998.0, 998.0, 998.0, 998.0, 998.0, 998.0, 998.0, 1899.99, 1899.99, 1899.99, 998.0, 998.0, 909.99, 909.99, 695.47, 998.0, 1098.0, 1098.0, 1098.0, 1098.0, 1098.0, 898.0, 898.0, 898.0, 898.0, 898.0, 1198.0, 1198.0, 1198.0, 1198.0, 1198.0, 1198.0, 1198.0, 1198.0, 1198.0, 1198.0, 1198.0, 2196.0, 2196.0, 2196.0, 998.0, 998.0, 919.99, 1098.0, 838.0, 1295.2, 898.0, 898.0, 898.0, 898.0, 898.0, 898.0, 1198.0, 1099.0, 798.0, 798.0, 2096.0, 1199.99, 1199.99, 1199.99, 1199.99, 1199.99, 899.99, 1091.99, 1091.99, 998.0, 998.0, 798.0, 798.0, 798.0, 798.0, 798.0, 998.0, 998.0, 998.0, 998.0, 998.0, 998.0, 998.0, 998.0, 998.0, 998.0, 998.0, 998.0, 998.0, 998.0, 998.0, 998.0, 998.0, 998.0, 998.0, 898.0, 898.0, 999.99, 999.99, 999.99]}],\n",
       "                        {\"template\": {\"data\": {\"bar\": [{\"error_x\": {\"color\": \"#2a3f5f\"}, \"error_y\": {\"color\": \"#2a3f5f\"}, \"marker\": {\"line\": {\"color\": \"#E5ECF6\", \"width\": 0.5}}, \"type\": \"bar\"}], \"barpolar\": [{\"marker\": {\"line\": {\"color\": \"#E5ECF6\", \"width\": 0.5}}, \"type\": \"barpolar\"}], \"carpet\": [{\"aaxis\": {\"endlinecolor\": \"#2a3f5f\", \"gridcolor\": \"white\", \"linecolor\": \"white\", \"minorgridcolor\": \"white\", \"startlinecolor\": \"#2a3f5f\"}, \"baxis\": {\"endlinecolor\": \"#2a3f5f\", \"gridcolor\": \"white\", \"linecolor\": \"white\", \"minorgridcolor\": \"white\", \"startlinecolor\": \"#2a3f5f\"}, \"type\": \"carpet\"}], \"choropleth\": [{\"colorbar\": {\"outlinewidth\": 0, \"ticks\": \"\"}, \"type\": \"choropleth\"}], \"contour\": [{\"colorbar\": {\"outlinewidth\": 0, \"ticks\": \"\"}, \"colorscale\": [[0.0, \"#0d0887\"], [0.1111111111111111, \"#46039f\"], [0.2222222222222222, \"#7201a8\"], [0.3333333333333333, \"#9c179e\"], [0.4444444444444444, \"#bd3786\"], [0.5555555555555556, \"#d8576b\"], [0.6666666666666666, \"#ed7953\"], [0.7777777777777778, \"#fb9f3a\"], [0.8888888888888888, \"#fdca26\"], [1.0, \"#f0f921\"]], \"type\": \"contour\"}], \"contourcarpet\": [{\"colorbar\": {\"outlinewidth\": 0, \"ticks\": \"\"}, \"type\": \"contourcarpet\"}], \"heatmap\": [{\"colorbar\": {\"outlinewidth\": 0, \"ticks\": \"\"}, \"colorscale\": [[0.0, \"#0d0887\"], [0.1111111111111111, \"#46039f\"], [0.2222222222222222, \"#7201a8\"], [0.3333333333333333, \"#9c179e\"], [0.4444444444444444, \"#bd3786\"], [0.5555555555555556, \"#d8576b\"], [0.6666666666666666, \"#ed7953\"], [0.7777777777777778, \"#fb9f3a\"], [0.8888888888888888, \"#fdca26\"], [1.0, \"#f0f921\"]], \"type\": \"heatmap\"}], \"heatmapgl\": [{\"colorbar\": {\"outlinewidth\": 0, \"ticks\": \"\"}, \"colorscale\": [[0.0, \"#0d0887\"], [0.1111111111111111, \"#46039f\"], [0.2222222222222222, \"#7201a8\"], [0.3333333333333333, \"#9c179e\"], [0.4444444444444444, \"#bd3786\"], [0.5555555555555556, \"#d8576b\"], [0.6666666666666666, \"#ed7953\"], [0.7777777777777778, \"#fb9f3a\"], [0.8888888888888888, \"#fdca26\"], [1.0, \"#f0f921\"]], \"type\": \"heatmapgl\"}], \"histogram\": [{\"marker\": {\"colorbar\": {\"outlinewidth\": 0, \"ticks\": \"\"}}, \"type\": \"histogram\"}], \"histogram2d\": [{\"colorbar\": {\"outlinewidth\": 0, \"ticks\": \"\"}, \"colorscale\": [[0.0, \"#0d0887\"], [0.1111111111111111, \"#46039f\"], [0.2222222222222222, \"#7201a8\"], [0.3333333333333333, \"#9c179e\"], [0.4444444444444444, \"#bd3786\"], [0.5555555555555556, \"#d8576b\"], [0.6666666666666666, \"#ed7953\"], [0.7777777777777778, \"#fb9f3a\"], [0.8888888888888888, \"#fdca26\"], [1.0, \"#f0f921\"]], \"type\": \"histogram2d\"}], \"histogram2dcontour\": [{\"colorbar\": {\"outlinewidth\": 0, \"ticks\": \"\"}, \"colorscale\": [[0.0, \"#0d0887\"], [0.1111111111111111, \"#46039f\"], [0.2222222222222222, \"#7201a8\"], [0.3333333333333333, \"#9c179e\"], [0.4444444444444444, \"#bd3786\"], [0.5555555555555556, \"#d8576b\"], [0.6666666666666666, \"#ed7953\"], [0.7777777777777778, \"#fb9f3a\"], [0.8888888888888888, \"#fdca26\"], [1.0, \"#f0f921\"]], \"type\": \"histogram2dcontour\"}], \"mesh3d\": [{\"colorbar\": {\"outlinewidth\": 0, \"ticks\": \"\"}, \"type\": \"mesh3d\"}], \"parcoords\": [{\"line\": {\"colorbar\": {\"outlinewidth\": 0, \"ticks\": \"\"}}, \"type\": \"parcoords\"}], \"pie\": [{\"automargin\": true, \"type\": \"pie\"}], \"scatter\": [{\"marker\": {\"colorbar\": {\"outlinewidth\": 0, \"ticks\": \"\"}}, \"type\": \"scatter\"}], \"scatter3d\": [{\"line\": {\"colorbar\": {\"outlinewidth\": 0, \"ticks\": \"\"}}, \"marker\": {\"colorbar\": {\"outlinewidth\": 0, \"ticks\": \"\"}}, \"type\": \"scatter3d\"}], \"scattercarpet\": [{\"marker\": {\"colorbar\": {\"outlinewidth\": 0, \"ticks\": \"\"}}, \"type\": \"scattercarpet\"}], \"scattergeo\": [{\"marker\": {\"colorbar\": {\"outlinewidth\": 0, \"ticks\": \"\"}}, \"type\": \"scattergeo\"}], \"scattergl\": [{\"marker\": {\"colorbar\": {\"outlinewidth\": 0, \"ticks\": \"\"}}, \"type\": \"scattergl\"}], \"scattermapbox\": [{\"marker\": {\"colorbar\": {\"outlinewidth\": 0, \"ticks\": \"\"}}, \"type\": \"scattermapbox\"}], \"scatterpolar\": [{\"marker\": {\"colorbar\": {\"outlinewidth\": 0, \"ticks\": \"\"}}, \"type\": \"scatterpolar\"}], \"scatterpolargl\": [{\"marker\": {\"colorbar\": {\"outlinewidth\": 0, \"ticks\": \"\"}}, \"type\": \"scatterpolargl\"}], \"scatterternary\": [{\"marker\": {\"colorbar\": {\"outlinewidth\": 0, \"ticks\": \"\"}}, \"type\": \"scatterternary\"}], \"surface\": [{\"colorbar\": {\"outlinewidth\": 0, \"ticks\": \"\"}, \"colorscale\": [[0.0, \"#0d0887\"], [0.1111111111111111, \"#46039f\"], [0.2222222222222222, \"#7201a8\"], [0.3333333333333333, \"#9c179e\"], [0.4444444444444444, \"#bd3786\"], [0.5555555555555556, \"#d8576b\"], [0.6666666666666666, \"#ed7953\"], [0.7777777777777778, \"#fb9f3a\"], [0.8888888888888888, \"#fdca26\"], [1.0, \"#f0f921\"]], \"type\": \"surface\"}], \"table\": [{\"cells\": {\"fill\": {\"color\": \"#EBF0F8\"}, \"line\": {\"color\": \"white\"}}, \"header\": {\"fill\": {\"color\": \"#C8D4E3\"}, \"line\": {\"color\": \"white\"}}, \"type\": \"table\"}]}, \"layout\": {\"annotationdefaults\": {\"arrowcolor\": \"#2a3f5f\", \"arrowhead\": 0, \"arrowwidth\": 1}, \"coloraxis\": {\"colorbar\": {\"outlinewidth\": 0, \"ticks\": \"\"}}, \"colorscale\": {\"diverging\": [[0, \"#8e0152\"], [0.1, \"#c51b7d\"], [0.2, \"#de77ae\"], [0.3, \"#f1b6da\"], [0.4, \"#fde0ef\"], [0.5, \"#f7f7f7\"], [0.6, \"#e6f5d0\"], [0.7, \"#b8e186\"], [0.8, \"#7fbc41\"], [0.9, \"#4d9221\"], [1, \"#276419\"]], \"sequential\": [[0.0, \"#0d0887\"], [0.1111111111111111, \"#46039f\"], [0.2222222222222222, \"#7201a8\"], [0.3333333333333333, \"#9c179e\"], [0.4444444444444444, \"#bd3786\"], [0.5555555555555556, \"#d8576b\"], [0.6666666666666666, \"#ed7953\"], [0.7777777777777778, \"#fb9f3a\"], [0.8888888888888888, \"#fdca26\"], [1.0, \"#f0f921\"]], \"sequentialminus\": [[0.0, \"#0d0887\"], [0.1111111111111111, \"#46039f\"], [0.2222222222222222, \"#7201a8\"], [0.3333333333333333, \"#9c179e\"], [0.4444444444444444, \"#bd3786\"], [0.5555555555555556, \"#d8576b\"], [0.6666666666666666, \"#ed7953\"], [0.7777777777777778, \"#fb9f3a\"], [0.8888888888888888, \"#fdca26\"], [1.0, \"#f0f921\"]]}, \"colorway\": [\"#636efa\", \"#EF553B\", \"#00cc96\", \"#ab63fa\", \"#FFA15A\", \"#19d3f3\", \"#FF6692\", \"#B6E880\", \"#FF97FF\", \"#FECB52\"], \"font\": {\"color\": \"#2a3f5f\"}, \"geo\": {\"bgcolor\": \"white\", \"lakecolor\": \"white\", \"landcolor\": \"#E5ECF6\", \"showlakes\": true, \"showland\": true, \"subunitcolor\": \"white\"}, \"hoverlabel\": {\"align\": \"left\"}, \"hovermode\": \"closest\", \"mapbox\": {\"style\": \"light\"}, \"paper_bgcolor\": \"white\", \"plot_bgcolor\": \"#E5ECF6\", \"polar\": {\"angularaxis\": {\"gridcolor\": \"white\", \"linecolor\": \"white\", \"ticks\": \"\"}, \"bgcolor\": \"#E5ECF6\", \"radialaxis\": {\"gridcolor\": \"white\", \"linecolor\": \"white\", \"ticks\": \"\"}}, \"scene\": {\"xaxis\": {\"backgroundcolor\": \"#E5ECF6\", \"gridcolor\": \"white\", \"gridwidth\": 2, \"linecolor\": \"white\", \"showbackground\": true, \"ticks\": \"\", \"zerolinecolor\": \"white\"}, \"yaxis\": {\"backgroundcolor\": \"#E5ECF6\", \"gridcolor\": \"white\", \"gridwidth\": 2, \"linecolor\": \"white\", \"showbackground\": true, \"ticks\": \"\", \"zerolinecolor\": \"white\"}, \"zaxis\": {\"backgroundcolor\": \"#E5ECF6\", \"gridcolor\": \"white\", \"gridwidth\": 2, \"linecolor\": \"white\", \"showbackground\": true, \"ticks\": \"\", \"zerolinecolor\": \"white\"}}, \"shapedefaults\": {\"line\": {\"color\": \"#2a3f5f\"}}, \"ternary\": {\"aaxis\": {\"gridcolor\": \"white\", \"linecolor\": \"white\", \"ticks\": \"\"}, \"baxis\": {\"gridcolor\": \"white\", \"linecolor\": \"white\", \"ticks\": \"\"}, \"bgcolor\": \"#E5ECF6\", \"caxis\": {\"gridcolor\": \"white\", \"linecolor\": \"white\", \"ticks\": \"\"}}, \"title\": {\"x\": 0.05}, \"xaxis\": {\"automargin\": true, \"gridcolor\": \"white\", \"linecolor\": \"white\", \"ticks\": \"\", \"title\": {\"standoff\": 15}, \"zerolinecolor\": \"white\", \"zerolinewidth\": 2}, \"yaxis\": {\"automargin\": true, \"gridcolor\": \"white\", \"linecolor\": \"white\", \"ticks\": \"\", \"title\": {\"standoff\": 15}, \"zerolinecolor\": \"white\", \"zerolinewidth\": 2}}}, \"title\": {\"text\": \"Price Variation with Time\"}, \"xaxis\": {\"title\": {\"text\": \"Date\"}}, \"yaxis\": {\"title\": {\"text\": \"Price\"}}},\n",
       "                        {\"responsive\": true}\n",
       "                    ).then(function(){\n",
       "                            \n",
       "var gd = document.getElementById('03477eef-0422-4796-85d5-69f23a42a56c');\n",
       "var x = new MutationObserver(function (mutations, observer) {{\n",
       "        var display = window.getComputedStyle(gd).display;\n",
       "        if (!display || display === 'none') {{\n",
       "            console.log([gd, 'removed!']);\n",
       "            Plotly.purge(gd);\n",
       "            observer.disconnect();\n",
       "        }}\n",
       "}});\n",
       "\n",
       "// Listen for the removal of the full notebook cells\n",
       "var notebookContainer = gd.closest('#notebook-container');\n",
       "if (notebookContainer) {{\n",
       "    x.observe(notebookContainer, {childList: true});\n",
       "}}\n",
       "\n",
       "// Listen for the clearing of the current output cell\n",
       "var outputEl = gd.closest('.output');\n",
       "if (outputEl) {{\n",
       "    x.observe(outputEl, {childList: true});\n",
       "}}\n",
       "\n",
       "                        })\n",
       "                };\n",
       "                });\n",
       "            </script>\n",
       "        </div>"
      ]
     },
     "metadata": {},
     "output_type": "display_data"
    }
   ],
   "source": [
    "# Price variation of Mid-Range TVs\n",
    "\n",
    "data = splitDataFrameList(df.loc[df['Label'] == 'Medium'][['Name', 'Price-Min', 'Date-Seen', 'Date-Added']], 'Date-Seen', ',')\n",
    "\n",
    "colorsIdx = {'X900f-series 55-class hdr uhd smart led tv': 'rgb(39, 60, 215)',\n",
    "             'Sony - 55 class - led - x800e series - 2160p - smart - 4k uhd tv with hdr\"': 'rgb(29, 222, 206)'}\n",
    "cols      = data['Name'].map(colorsIdx)\n",
    "\n",
    "fig = go.Figure()\n",
    "fig.add_trace(go.Scatter(\n",
    "    x = data['Date-Seen'],\n",
    "    y = data['Price-Min'],\n",
    "    text=data['Name'],\n",
    "    mode = 'markers',\n",
    "    marker=dict(size=10, color=cols)\n",
    "))\n",
    "fig.update_layout(title='Price Variation with Time',\n",
    "                 xaxis_title=\"Date\",\n",
    "                 yaxis_title=\"Price\")\n",
    "\n",
    "fig.show()\n",
    "\n",
    "#fig.write_image(\"images/fig3.png\")\n"
   ]
  },
  {
   "cell_type": "code",
   "execution_count": 512,
   "metadata": {},
   "outputs": [
    {
     "data": {
      "application/vnd.plotly.v1+json": {
       "config": {
        "plotlyServerURL": "https://plot.ly"
       },
       "data": [
        {
         "marker": {
          "color": [
           "rgb(215,48,39)",
           "rgb(215,48,39)",
           "rgb(215,48,39)",
           "rgb(215,48,39)",
           "rgb(215,48,39)",
           "rgb(215,48,39)",
           "rgb(228, 247, 15)",
           "rgb(228, 247, 15)",
           "rgb(228, 247, 15)",
           "rgb(228, 247, 15)",
           "rgb(228, 247, 15)",
           "rgb(228, 247, 15)",
           "rgb(228, 247, 15)",
           "rgb(228, 247, 15)",
           "rgb(228, 247, 15)",
           "rgb(228, 247, 15)",
           "rgb(228, 247, 15)",
           "rgb(39, 60, 215)",
           "rgb(39, 60, 215)",
           "rgb(39, 60, 215)",
           "rgb(39, 60, 215)",
           "rgb(39, 60, 215)",
           "rgb(39, 60, 215)",
           "rgb(39, 60, 215)",
           "rgb(39, 60, 215)",
           "rgb(39, 60, 215)",
           "rgb(39, 60, 215)",
           "rgb(39, 60, 215)",
           "rgb(39, 60, 215)",
           "rgb(39, 60, 215)",
           "rgb(39, 60, 215)",
           "rgb(39, 60, 215)",
           "rgb(39, 60, 215)",
           "rgb(39, 60, 215)",
           "rgb(39, 60, 215)",
           "rgb(39, 60, 215)",
           "rgb(39, 60, 215)",
           "rgb(39, 60, 215)",
           "rgb(39, 60, 215)",
           "rgb(39, 60, 215)",
           "rgb(39, 60, 215)",
           "rgb(39, 60, 215)",
           "rgb(39, 60, 215)",
           "rgb(39, 60, 215)",
           "rgb(39, 60, 215)",
           "rgb(37, 196, 37)",
           "rgb(37, 196, 37)",
           "rgb(37, 196, 37)",
           "rgb(37, 196, 37)",
           "rgb(37, 196, 37)",
           "rgb(37, 196, 37)",
           "rgb(37, 196, 37)",
           "rgb(37, 196, 37)",
           "rgb(37, 196, 37)",
           "rgb(37, 196, 37)",
           "rgb(76, 77, 73)",
           "rgb(76, 77, 73)",
           "rgb(76, 77, 73)",
           "rgb(76, 77, 73)",
           "rgb(76, 77, 73)",
           "rgb(76, 77, 73)",
           "rgb(76, 77, 73)",
           "rgb(76, 77, 73)",
           "rgb(76, 77, 73)",
           "rgb(76, 77, 73)",
           "rgb(76, 77, 73)",
           "rgb(76, 77, 73)",
           "rgb(76, 77, 73)",
           "rgb(76, 77, 73)",
           "rgb(76, 77, 73)",
           "rgb(76, 77, 73)",
           "rgb(76, 77, 73)",
           "rgb(76, 77, 73)",
           "rgb(76, 77, 73)",
           "rgb(76, 77, 73)",
           "rgb(76, 77, 73)",
           "rgb(76, 77, 73)",
           "rgb(76, 77, 73)",
           "rgb(76, 77, 73)",
           "rgb(222, 29, 203)",
           "rgb(222, 29, 203)",
           "rgb(222, 29, 203)",
           "rgb(222, 29, 203)",
           "rgb(222, 29, 203)",
           "rgb(222, 29, 203)",
           "rgb(222, 29, 203)",
           "rgb(222, 29, 203)",
           "rgb(222, 29, 203)",
           "rgb(222, 29, 203)",
           "rgb(222, 29, 203)",
           "rgb(222, 29, 203)",
           "rgb(222, 29, 203)",
           "rgb(222, 29, 203)",
           "rgb(222, 29, 203)",
           "rgb(222, 29, 203)",
           "rgb(222, 29, 203)",
           "rgb(222, 29, 203)",
           "rgb(222, 29, 203)",
           "rgb(222, 29, 203)",
           "rgb(222, 29, 203)",
           "rgb(222, 29, 203)",
           "rgb(222, 29, 203)",
           "rgb(222, 29, 203)",
           "rgb(222, 29, 203)",
           "rgb(222, 29, 203)",
           "rgb(222, 29, 203)",
           "rgb(222, 29, 203)",
           "rgb(222, 29, 203)",
           "rgb(222, 29, 203)",
           "rgb(222, 29, 203)",
           "rgb(222, 29, 203)",
           "rgb(222, 29, 203)",
           "rgb(222, 29, 203)",
           "rgb(222, 29, 203)",
           "rgb(222, 29, 203)",
           "rgb(222, 29, 203)",
           "rgb(222, 29, 203)"
          ],
          "size": 10
         },
         "mode": "markers",
         "text": [
          "Hisense - 55 class - led - h9 series - 2160p - smart - 4k uhd tv with hdr\"",
          "Hisense - 55 class - led - h9 series - 2160p - smart - 4k uhd tv with hdr\"",
          "Hisense - 55 class - led - h9 series - 2160p - smart - 4k uhd tv with hdr\"",
          "Hisense - 55 class - led - h9 series - 2160p - smart - 4k uhd tv with hdr\"",
          "Hisense - 55 class - led - h9 series - 2160p - smart - 4k uhd tv with hdr\"",
          "Hisense - 55 class - led - h9 series - 2160p - smart - 4k uhd tv with hdr\"",
          "Samsung 55 class 4k (2160p) smart led tv (un55ku7000)\"",
          "Samsung 55 class 4k (2160p) smart led tv (un55ku7000)\"",
          "Samsung 55 class 4k (2160p) smart led tv (un55ku7000)\"",
          "Samsung 55 class 4k (2160p) smart led tv (un55ku7000)\"",
          "Samsung 55 class 4k (2160p) smart led tv (un55ku7000)\"",
          "Samsung 55 class 4k (2160p) smart led tv (un55ku7000)\"",
          "Samsung 55 class 4k (2160p) smart led tv (un55ku7000)\"",
          "Samsung 55 class 4k (2160p) smart led tv (un55ku7000)\"",
          "Samsung 55 class 4k (2160p) smart led tv (un55ku7000)\"",
          "Samsung 55 class 4k (2160p) smart led tv (un55ku7000)\"",
          "Samsung 55 class 4k (2160p) smart led tv (un55ku7000)\"",
          "Samsung - 55 class - led - curved - mu6490 series - 2160p - smart - 4k ultra hd tv with hdr\"",
          "Samsung - 55 class - led - curved - mu6490 series - 2160p - smart - 4k ultra hd tv with hdr\"",
          "Samsung - 55 class - led - curved - mu6490 series - 2160p - smart - 4k ultra hd tv with hdr\"",
          "Samsung - 55 class - led - curved - mu6490 series - 2160p - smart - 4k ultra hd tv with hdr\"",
          "Samsung - 55 class - led - curved - mu6490 series - 2160p - smart - 4k ultra hd tv with hdr\"",
          "Samsung - 55 class - led - curved - mu6490 series - 2160p - smart - 4k ultra hd tv with hdr\"",
          "Samsung - 55 class - led - curved - mu6490 series - 2160p - smart - 4k ultra hd tv with hdr\"",
          "Samsung - 55 class - led - curved - mu6490 series - 2160p - smart - 4k ultra hd tv with hdr\"",
          "Samsung - 55 class - led - curved - mu6490 series - 2160p - smart - 4k ultra hd tv with hdr\"",
          "Samsung - 55 class - led - curved - mu6490 series - 2160p - smart - 4k ultra hd tv with hdr\"",
          "Samsung - 55 class - led - curved - mu6490 series - 2160p - smart - 4k ultra hd tv with hdr\"",
          "Samsung - 55 class - led - curved - mu6490 series - 2160p - smart - 4k ultra hd tv with hdr\"",
          "Samsung - 55 class - led - curved - mu6490 series - 2160p - smart - 4k ultra hd tv with hdr\"",
          "Samsung - 55 class - led - curved - mu6490 series - 2160p - smart - 4k ultra hd tv with hdr\"",
          "Samsung - 55 class - led - curved - mu6490 series - 2160p - smart - 4k ultra hd tv with hdr\"",
          "Samsung - 55 class - led - curved - mu6490 series - 2160p - smart - 4k ultra hd tv with hdr\"",
          "Samsung - 55 class - led - curved - mu6490 series - 2160p - smart - 4k ultra hd tv with hdr\"",
          "Samsung - 55 class - led - curved - mu6490 series - 2160p - smart - 4k ultra hd tv with hdr\"",
          "Samsung - 55 class - led - curved - mu6490 series - 2160p - smart - 4k ultra hd tv with hdr\"",
          "Samsung - 55 class - led - curved - mu6490 series - 2160p - smart - 4k ultra hd tv with hdr\"",
          "Samsung - 55 class - led - curved - mu6490 series - 2160p - smart - 4k ultra hd tv with hdr\"",
          "Samsung - 55 class - led - curved - mu6490 series - 2160p - smart - 4k ultra hd tv with hdr\"",
          "Samsung - 55 class - led - curved - mu6490 series - 2160p - smart - 4k ultra hd tv with hdr\"",
          "Samsung - 55 class - led - curved - mu6490 series - 2160p - smart - 4k ultra hd tv with hdr\"",
          "Samsung - 55 class - led - curved - mu6490 series - 2160p - smart - 4k ultra hd tv with hdr\"",
          "Samsung - 55 class - led - curved - mu6490 series - 2160p - smart - 4k ultra hd tv with hdr\"",
          "Samsung - 55 class - led - curved - mu6490 series - 2160p - smart - 4k ultra hd tv with hdr\"",
          "Samsung - 55 class - led - curved - mu6490 series - 2160p - smart - 4k ultra hd tv with hdr\"",
          "Lg - 55 class - led - uj7700 series - 2160p - smart - 4k uhd tv with hdr\"",
          "Lg - 55 class - led - uj7700 series - 2160p - smart - 4k uhd tv with hdr\"",
          "Lg - 55 class - led - uj7700 series - 2160p - smart - 4k uhd tv with hdr\"",
          "Lg - 55 class - led - uj7700 series - 2160p - smart - 4k uhd tv with hdr\"",
          "Lg - 55 class - led - uj7700 series - 2160p - smart - 4k uhd tv with hdr\"",
          "Lg - 55 class - led - uj7700 series - 2160p - smart - 4k uhd tv with hdr\"",
          "Lg - 55 class - led - uj7700 series - 2160p - smart - 4k uhd tv with hdr\"",
          "Lg - 55 class - led - uj7700 series - 2160p - smart - 4k uhd tv with hdr\"",
          "Lg - 55 class - led - uj7700 series - 2160p - smart - 4k uhd tv with hdr\"",
          "Lg - 55 class - led - uj7700 series - 2160p - smart - 4k uhd tv with hdr\"",
          "Hisense - 55 class - led - h8 series - 2160p - smart - 4k uhd tv with hdr\"",
          "Hisense - 55 class - led - h8 series - 2160p - smart - 4k uhd tv with hdr\"",
          "Hisense - 55 class - led - h8 series - 2160p - smart - 4k uhd tv with hdr\"",
          "Hisense - 55 class - led - h8 series - 2160p - smart - 4k uhd tv with hdr\"",
          "Hisense - 55 class - led - h8 series - 2160p - smart - 4k uhd tv with hdr\"",
          "Hisense - 55 class - led - h8 series - 2160p - smart - 4k uhd tv with hdr\"",
          "Hisense - 55 class - led - h8 series - 2160p - smart - 4k uhd tv with hdr\"",
          "Hisense - 55 class - led - h8 series - 2160p - smart - 4k uhd tv with hdr\"",
          "Hisense - 55 class - led - h8 series - 2160p - smart - 4k uhd tv with hdr\"",
          "Hisense - 55 class - led - h8 series - 2160p - smart - 4k uhd tv with hdr\"",
          "Hisense - 55 class - led - h8 series - 2160p - smart - 4k uhd tv with hdr\"",
          "Hisense - 55 class - led - h8 series - 2160p - smart - 4k uhd tv with hdr\"",
          "Hisense - 55 class - led - h8 series - 2160p - smart - 4k uhd tv with hdr\"",
          "Hisense - 55 class - led - h8 series - 2160p - smart - 4k uhd tv with hdr\"",
          "Hisense - 55 class - led - h8 series - 2160p - smart - 4k uhd tv with hdr\"",
          "Hisense - 55 class - led - h8 series - 2160p - smart - 4k uhd tv with hdr\"",
          "Hisense - 55 class - led - h8 series - 2160p - smart - 4k uhd tv with hdr\"",
          "Hisense - 55 class - led - h8 series - 2160p - smart - 4k uhd tv with hdr\"",
          "Hisense - 55 class - led - h8 series - 2160p - smart - 4k uhd tv with hdr\"",
          "Hisense - 55 class - led - h8 series - 2160p - smart - 4k uhd tv with hdr\"",
          "Hisense - 55 class - led - h8 series - 2160p - smart - 4k uhd tv with hdr\"",
          "Hisense - 55 class - led - h8 series - 2160p - smart - 4k uhd tv with hdr\"",
          "Hisense - 55 class - led - h8 series - 2160p - smart - 4k uhd tv with hdr\"",
          "Hisense - 55 class - led - h8 series - 2160p - smart - 4k uhd tv with hdr\"",
          "Sony xbr55x700d 55-inch 4k ultra hd smart led tv (2016 model)",
          "Sony xbr55x700d 55-inch 4k ultra hd smart led tv (2016 model)",
          "Sony xbr55x700d 55-inch 4k ultra hd smart led tv (2016 model)",
          "Sony xbr55x700d 55-inch 4k ultra hd smart led tv (2016 model)",
          "Sony xbr55x700d 55-inch 4k ultra hd smart led tv (2016 model)",
          "Sony xbr55x700d 55-inch 4k ultra hd smart led tv (2016 model)",
          "Sony xbr55x700d 55-inch 4k ultra hd smart led tv (2016 model)",
          "Sony xbr55x700d 55-inch 4k ultra hd smart led tv (2016 model)",
          "Sony xbr55x700d 55-inch 4k ultra hd smart led tv (2016 model)",
          "Sony xbr55x700d 55-inch 4k ultra hd smart led tv (2016 model)",
          "Sony xbr55x700d 55-inch 4k ultra hd smart led tv (2016 model)",
          "Sony xbr55x700d 55-inch 4k ultra hd smart led tv (2016 model)",
          "Sony xbr55x700d 55-inch 4k ultra hd smart led tv (2016 model)",
          "Sony xbr55x700d 55-inch 4k ultra hd smart led tv (2016 model)",
          "Sony xbr55x700d 55-inch 4k ultra hd smart led tv (2016 model)",
          "Sony xbr55x700d 55-inch 4k ultra hd smart led tv (2016 model)",
          "Sony xbr55x700d 55-inch 4k ultra hd smart led tv (2016 model)",
          "Sony xbr55x700d 55-inch 4k ultra hd smart led tv (2016 model)",
          "Sony xbr55x700d 55-inch 4k ultra hd smart led tv (2016 model)",
          "Sony xbr55x700d 55-inch 4k ultra hd smart led tv (2016 model)",
          "Sony xbr55x700d 55-inch 4k ultra hd smart led tv (2016 model)",
          "Sony xbr55x700d 55-inch 4k ultra hd smart led tv (2016 model)",
          "Sony xbr55x700d 55-inch 4k ultra hd smart led tv (2016 model)",
          "Sony xbr55x700d 55-inch 4k ultra hd smart led tv (2016 model)",
          "Sony xbr55x700d 55-inch 4k ultra hd smart led tv (2016 model)",
          "Sony xbr55x700d 55-inch 4k ultra hd smart led tv (2016 model)",
          "Sony xbr55x700d 55-inch 4k ultra hd smart led tv (2016 model)",
          "Sony xbr55x700d 55-inch 4k ultra hd smart led tv (2016 model)",
          "Sony xbr55x700d 55-inch 4k ultra hd smart led tv (2016 model)",
          "Sony xbr55x700d 55-inch 4k ultra hd smart led tv (2016 model)",
          "Sony xbr55x700d 55-inch 4k ultra hd smart led tv (2016 model)",
          "Sony xbr55x700d 55-inch 4k ultra hd smart led tv (2016 model)",
          "Sony xbr55x700d 55-inch 4k ultra hd smart led tv (2016 model)",
          "Sony xbr55x700d 55-inch 4k ultra hd smart led tv (2016 model)",
          "Sony xbr55x700d 55-inch 4k ultra hd smart led tv (2016 model)",
          "Sony xbr55x700d 55-inch 4k ultra hd smart led tv (2016 model)",
          "Sony xbr55x700d 55-inch 4k ultra hd smart led tv (2016 model)",
          "Sony xbr55x700d 55-inch 4k ultra hd smart led tv (2016 model)"
         ],
         "type": "scatter",
         "x": [
          "2018-05-26T15:00:00",
          "2018-05-02T14:00:00",
          "2018-04-26T17:00:00",
          "2018-05-26T15:00:00",
          "2018-03-09T18:00:00",
          "2018-05-02T14:00:00",
          "2017-12-06T01:00:00",
          "2017-11-08T20:00:00",
          "2017-10-24T01:00:00",
          "2017-08-14T14:00:00",
          "2017-07-26T01:00:00",
          "2017-07-25T23:00:00",
          "2017-03-30T05:00:00",
          "2017-03-10T19:00:00",
          "2017-03-30T05:00:00",
          "2017-03-10T19:00:00",
          "2017-03-04T10:00:00",
          "2017-10-24T01:00:00",
          "2018-05-26T07:00:00",
          "2018-05-27T16:00:00",
          "2018-05-28T11:00:00",
          "2018-05-24T11:00:00",
          "2017-11-16T19:00:00",
          "2017-11-08T20:00:00",
          "2018-04-26T17:00:00",
          "2018-05-26T07:00:00",
          "2017-09-17T08:00:00",
          "2017-11-18T13:00:00",
          "2017-12-06T20:00:00",
          "2017-08-29T12:00:00",
          "2017-08-19T05:00:00",
          "2017-12-04T21:00:00",
          "2017-08-22T10:00:00",
          "2018-01-09T20:00:00",
          "2017-10-24T08:00:00",
          "2018-05-06T17:00:00",
          "2017-12-06T22:00:00",
          "2018-04-26T17:00:00",
          "2017-11-16T19:00:00",
          "2018-03-31T19:00:00",
          "2017-12-06T22:00:00",
          "2017-12-06T20:00:00",
          "2017-12-04T21:00:00",
          "2017-11-18T13:00:00",
          "2017-12-06T01:00:00",
          "2018-05-27T16:00:00",
          "2018-05-28T10:00:00",
          "2018-04-26T17:00:00",
          "2018-03-09T18:00:00",
          "2018-05-26T16:00:00",
          "2018-03-09T18:00:00",
          "2018-04-26T17:00:00",
          "2018-05-06T17:00:00",
          "2018-02-05T20:00:00",
          "2018-05-26T16:00:00",
          "2017-07-31T22:00:00",
          "2017-08-01T07:00:00",
          "2017-07-26T20:00:00",
          "2017-06-01T19:00:00",
          "2017-05-31T17:00:00",
          "2017-05-09T07:00:00",
          "2017-05-01T20:00:00",
          "2017-05-18T05:00:00",
          "2017-03-30T05:00:00",
          "2017-03-10T19:00:00",
          "2017-03-04T10:00:00",
          "2017-07-21T16:00:00",
          "2018-04-26T17:00:00",
          "2018-03-09T18:00:00",
          "2018-05-25T21:00:00",
          "2018-05-26T16:00:00",
          "2017-07-25T18:00:00",
          "2017-07-25T18:00:00",
          "2017-07-11T12:00:00",
          "2017-07-11T22:00:00",
          "2018-05-25T21:00:00",
          "2018-05-26T16:00:00",
          "2017-10-28T17:00:00",
          "2017-10-24T22:00:00",
          "2017-07-24T21:00:00",
          "2017-07-25T21:00:00",
          "2017-07-23T08:00:00",
          "2017-07-25T17:00:00",
          "2017-07-24T19:00:00",
          "2017-07-26T23:00:00",
          "2017-07-27T11:00:00",
          "2017-07-09T22:00:00",
          "2017-07-18T14:00:00",
          "2017-07-25T18:00:00",
          "2017-07-17T06:00:00",
          "2017-07-14T12:00:00",
          "2017-07-18T00:00:00",
          "2017-08-14T14:00:00",
          "2017-07-15T14:00:00",
          "2017-07-10T18:00:00",
          "2017-07-08T20:00:00",
          "2017-09-28T04:00:00",
          "2017-07-26T15:00:00",
          "2017-07-27T19:00:00",
          "2017-07-25T18:00:00",
          "2017-07-18T06:00:00",
          "2017-07-21T16:00:00",
          "2017-07-21T14:00:00",
          "2017-07-12T15:00:00",
          "2017-07-14T14:00:00",
          "2017-07-25T17:00:00",
          "2017-07-26T20:00:00",
          "2017-07-25T18:00:00",
          "2017-07-21T15:00:00",
          "2017-07-22T04:00:00",
          "2017-07-24T17:00:00",
          "2017-07-15T23:00:00",
          "2017-07-15T12:00:00",
          "2017-07-18T11:00:00",
          "2017-07-17T19:00:00",
          "2017-07-14T10:00:00",
          "2017-07-17T01:00:00"
         ],
         "y": [
          799.99,
          799.99,
          599.99,
          599.99,
          699.99,
          699.99,
          1197.99,
          1197.99,
          1197.99,
          1197.99,
          1197.99,
          1197.99,
          999.99,
          999.99,
          809.99,
          909.99,
          1199.99,
          797.99,
          549.99,
          1097.99,
          1097.99,
          1097.99,
          799.99,
          799.99,
          1197.99,
          799.99,
          797.99,
          797.99,
          797.99,
          797.99,
          797.99,
          797.99,
          797.99,
          797.99,
          797.99,
          797.99,
          797.99,
          747.85,
          597.99,
          1197.99,
          597.99,
          597.99,
          597.99,
          597.99,
          797.99,
          796.99,
          796.99,
          846.99,
          749,
          799.99,
          659.42,
          1296.99,
          1296.99,
          796.99,
          751.99,
          549.99,
          549.99,
          549.99,
          549.99,
          549.99,
          549.99,
          549.99,
          549.99,
          549.99,
          549.99,
          549.99,
          768.98,
          449.99,
          429.99,
          449.99,
          449.99,
          723.6,
          619.96,
          619.96,
          619.96,
          427.99,
          427.99,
          549.99,
          724.7,
          798,
          798,
          629.99,
          629.99,
          629.99,
          629.99,
          629.99,
          629.99,
          629.99,
          629.99,
          699.95,
          848,
          848,
          798,
          746.24,
          798,
          798,
          789.99,
          789.99,
          789.99,
          789.99,
          848,
          848,
          848,
          848,
          848,
          798,
          798,
          798,
          798,
          798,
          798,
          798,
          798,
          798,
          798,
          798,
          798
         ]
        }
       ],
       "layout": {
        "template": {
         "data": {
          "bar": [
           {
            "error_x": {
             "color": "#2a3f5f"
            },
            "error_y": {
             "color": "#2a3f5f"
            },
            "marker": {
             "line": {
              "color": "#E5ECF6",
              "width": 0.5
             }
            },
            "type": "bar"
           }
          ],
          "barpolar": [
           {
            "marker": {
             "line": {
              "color": "#E5ECF6",
              "width": 0.5
             }
            },
            "type": "barpolar"
           }
          ],
          "carpet": [
           {
            "aaxis": {
             "endlinecolor": "#2a3f5f",
             "gridcolor": "white",
             "linecolor": "white",
             "minorgridcolor": "white",
             "startlinecolor": "#2a3f5f"
            },
            "baxis": {
             "endlinecolor": "#2a3f5f",
             "gridcolor": "white",
             "linecolor": "white",
             "minorgridcolor": "white",
             "startlinecolor": "#2a3f5f"
            },
            "type": "carpet"
           }
          ],
          "choropleth": [
           {
            "colorbar": {
             "outlinewidth": 0,
             "ticks": ""
            },
            "type": "choropleth"
           }
          ],
          "contour": [
           {
            "colorbar": {
             "outlinewidth": 0,
             "ticks": ""
            },
            "colorscale": [
             [
              0,
              "#0d0887"
             ],
             [
              0.1111111111111111,
              "#46039f"
             ],
             [
              0.2222222222222222,
              "#7201a8"
             ],
             [
              0.3333333333333333,
              "#9c179e"
             ],
             [
              0.4444444444444444,
              "#bd3786"
             ],
             [
              0.5555555555555556,
              "#d8576b"
             ],
             [
              0.6666666666666666,
              "#ed7953"
             ],
             [
              0.7777777777777778,
              "#fb9f3a"
             ],
             [
              0.8888888888888888,
              "#fdca26"
             ],
             [
              1,
              "#f0f921"
             ]
            ],
            "type": "contour"
           }
          ],
          "contourcarpet": [
           {
            "colorbar": {
             "outlinewidth": 0,
             "ticks": ""
            },
            "type": "contourcarpet"
           }
          ],
          "heatmap": [
           {
            "colorbar": {
             "outlinewidth": 0,
             "ticks": ""
            },
            "colorscale": [
             [
              0,
              "#0d0887"
             ],
             [
              0.1111111111111111,
              "#46039f"
             ],
             [
              0.2222222222222222,
              "#7201a8"
             ],
             [
              0.3333333333333333,
              "#9c179e"
             ],
             [
              0.4444444444444444,
              "#bd3786"
             ],
             [
              0.5555555555555556,
              "#d8576b"
             ],
             [
              0.6666666666666666,
              "#ed7953"
             ],
             [
              0.7777777777777778,
              "#fb9f3a"
             ],
             [
              0.8888888888888888,
              "#fdca26"
             ],
             [
              1,
              "#f0f921"
             ]
            ],
            "type": "heatmap"
           }
          ],
          "heatmapgl": [
           {
            "colorbar": {
             "outlinewidth": 0,
             "ticks": ""
            },
            "colorscale": [
             [
              0,
              "#0d0887"
             ],
             [
              0.1111111111111111,
              "#46039f"
             ],
             [
              0.2222222222222222,
              "#7201a8"
             ],
             [
              0.3333333333333333,
              "#9c179e"
             ],
             [
              0.4444444444444444,
              "#bd3786"
             ],
             [
              0.5555555555555556,
              "#d8576b"
             ],
             [
              0.6666666666666666,
              "#ed7953"
             ],
             [
              0.7777777777777778,
              "#fb9f3a"
             ],
             [
              0.8888888888888888,
              "#fdca26"
             ],
             [
              1,
              "#f0f921"
             ]
            ],
            "type": "heatmapgl"
           }
          ],
          "histogram": [
           {
            "marker": {
             "colorbar": {
              "outlinewidth": 0,
              "ticks": ""
             }
            },
            "type": "histogram"
           }
          ],
          "histogram2d": [
           {
            "colorbar": {
             "outlinewidth": 0,
             "ticks": ""
            },
            "colorscale": [
             [
              0,
              "#0d0887"
             ],
             [
              0.1111111111111111,
              "#46039f"
             ],
             [
              0.2222222222222222,
              "#7201a8"
             ],
             [
              0.3333333333333333,
              "#9c179e"
             ],
             [
              0.4444444444444444,
              "#bd3786"
             ],
             [
              0.5555555555555556,
              "#d8576b"
             ],
             [
              0.6666666666666666,
              "#ed7953"
             ],
             [
              0.7777777777777778,
              "#fb9f3a"
             ],
             [
              0.8888888888888888,
              "#fdca26"
             ],
             [
              1,
              "#f0f921"
             ]
            ],
            "type": "histogram2d"
           }
          ],
          "histogram2dcontour": [
           {
            "colorbar": {
             "outlinewidth": 0,
             "ticks": ""
            },
            "colorscale": [
             [
              0,
              "#0d0887"
             ],
             [
              0.1111111111111111,
              "#46039f"
             ],
             [
              0.2222222222222222,
              "#7201a8"
             ],
             [
              0.3333333333333333,
              "#9c179e"
             ],
             [
              0.4444444444444444,
              "#bd3786"
             ],
             [
              0.5555555555555556,
              "#d8576b"
             ],
             [
              0.6666666666666666,
              "#ed7953"
             ],
             [
              0.7777777777777778,
              "#fb9f3a"
             ],
             [
              0.8888888888888888,
              "#fdca26"
             ],
             [
              1,
              "#f0f921"
             ]
            ],
            "type": "histogram2dcontour"
           }
          ],
          "mesh3d": [
           {
            "colorbar": {
             "outlinewidth": 0,
             "ticks": ""
            },
            "type": "mesh3d"
           }
          ],
          "parcoords": [
           {
            "line": {
             "colorbar": {
              "outlinewidth": 0,
              "ticks": ""
             }
            },
            "type": "parcoords"
           }
          ],
          "pie": [
           {
            "automargin": true,
            "type": "pie"
           }
          ],
          "scatter": [
           {
            "marker": {
             "colorbar": {
              "outlinewidth": 0,
              "ticks": ""
             }
            },
            "type": "scatter"
           }
          ],
          "scatter3d": [
           {
            "line": {
             "colorbar": {
              "outlinewidth": 0,
              "ticks": ""
             }
            },
            "marker": {
             "colorbar": {
              "outlinewidth": 0,
              "ticks": ""
             }
            },
            "type": "scatter3d"
           }
          ],
          "scattercarpet": [
           {
            "marker": {
             "colorbar": {
              "outlinewidth": 0,
              "ticks": ""
             }
            },
            "type": "scattercarpet"
           }
          ],
          "scattergeo": [
           {
            "marker": {
             "colorbar": {
              "outlinewidth": 0,
              "ticks": ""
             }
            },
            "type": "scattergeo"
           }
          ],
          "scattergl": [
           {
            "marker": {
             "colorbar": {
              "outlinewidth": 0,
              "ticks": ""
             }
            },
            "type": "scattergl"
           }
          ],
          "scattermapbox": [
           {
            "marker": {
             "colorbar": {
              "outlinewidth": 0,
              "ticks": ""
             }
            },
            "type": "scattermapbox"
           }
          ],
          "scatterpolar": [
           {
            "marker": {
             "colorbar": {
              "outlinewidth": 0,
              "ticks": ""
             }
            },
            "type": "scatterpolar"
           }
          ],
          "scatterpolargl": [
           {
            "marker": {
             "colorbar": {
              "outlinewidth": 0,
              "ticks": ""
             }
            },
            "type": "scatterpolargl"
           }
          ],
          "scatterternary": [
           {
            "marker": {
             "colorbar": {
              "outlinewidth": 0,
              "ticks": ""
             }
            },
            "type": "scatterternary"
           }
          ],
          "surface": [
           {
            "colorbar": {
             "outlinewidth": 0,
             "ticks": ""
            },
            "colorscale": [
             [
              0,
              "#0d0887"
             ],
             [
              0.1111111111111111,
              "#46039f"
             ],
             [
              0.2222222222222222,
              "#7201a8"
             ],
             [
              0.3333333333333333,
              "#9c179e"
             ],
             [
              0.4444444444444444,
              "#bd3786"
             ],
             [
              0.5555555555555556,
              "#d8576b"
             ],
             [
              0.6666666666666666,
              "#ed7953"
             ],
             [
              0.7777777777777778,
              "#fb9f3a"
             ],
             [
              0.8888888888888888,
              "#fdca26"
             ],
             [
              1,
              "#f0f921"
             ]
            ],
            "type": "surface"
           }
          ],
          "table": [
           {
            "cells": {
             "fill": {
              "color": "#EBF0F8"
             },
             "line": {
              "color": "white"
             }
            },
            "header": {
             "fill": {
              "color": "#C8D4E3"
             },
             "line": {
              "color": "white"
             }
            },
            "type": "table"
           }
          ]
         },
         "layout": {
          "annotationdefaults": {
           "arrowcolor": "#2a3f5f",
           "arrowhead": 0,
           "arrowwidth": 1
          },
          "coloraxis": {
           "colorbar": {
            "outlinewidth": 0,
            "ticks": ""
           }
          },
          "colorscale": {
           "diverging": [
            [
             0,
             "#8e0152"
            ],
            [
             0.1,
             "#c51b7d"
            ],
            [
             0.2,
             "#de77ae"
            ],
            [
             0.3,
             "#f1b6da"
            ],
            [
             0.4,
             "#fde0ef"
            ],
            [
             0.5,
             "#f7f7f7"
            ],
            [
             0.6,
             "#e6f5d0"
            ],
            [
             0.7,
             "#b8e186"
            ],
            [
             0.8,
             "#7fbc41"
            ],
            [
             0.9,
             "#4d9221"
            ],
            [
             1,
             "#276419"
            ]
           ],
           "sequential": [
            [
             0,
             "#0d0887"
            ],
            [
             0.1111111111111111,
             "#46039f"
            ],
            [
             0.2222222222222222,
             "#7201a8"
            ],
            [
             0.3333333333333333,
             "#9c179e"
            ],
            [
             0.4444444444444444,
             "#bd3786"
            ],
            [
             0.5555555555555556,
             "#d8576b"
            ],
            [
             0.6666666666666666,
             "#ed7953"
            ],
            [
             0.7777777777777778,
             "#fb9f3a"
            ],
            [
             0.8888888888888888,
             "#fdca26"
            ],
            [
             1,
             "#f0f921"
            ]
           ],
           "sequentialminus": [
            [
             0,
             "#0d0887"
            ],
            [
             0.1111111111111111,
             "#46039f"
            ],
            [
             0.2222222222222222,
             "#7201a8"
            ],
            [
             0.3333333333333333,
             "#9c179e"
            ],
            [
             0.4444444444444444,
             "#bd3786"
            ],
            [
             0.5555555555555556,
             "#d8576b"
            ],
            [
             0.6666666666666666,
             "#ed7953"
            ],
            [
             0.7777777777777778,
             "#fb9f3a"
            ],
            [
             0.8888888888888888,
             "#fdca26"
            ],
            [
             1,
             "#f0f921"
            ]
           ]
          },
          "colorway": [
           "#636efa",
           "#EF553B",
           "#00cc96",
           "#ab63fa",
           "#FFA15A",
           "#19d3f3",
           "#FF6692",
           "#B6E880",
           "#FF97FF",
           "#FECB52"
          ],
          "font": {
           "color": "#2a3f5f"
          },
          "geo": {
           "bgcolor": "white",
           "lakecolor": "white",
           "landcolor": "#E5ECF6",
           "showlakes": true,
           "showland": true,
           "subunitcolor": "white"
          },
          "hoverlabel": {
           "align": "left"
          },
          "hovermode": "closest",
          "mapbox": {
           "style": "light"
          },
          "paper_bgcolor": "white",
          "plot_bgcolor": "#E5ECF6",
          "polar": {
           "angularaxis": {
            "gridcolor": "white",
            "linecolor": "white",
            "ticks": ""
           },
           "bgcolor": "#E5ECF6",
           "radialaxis": {
            "gridcolor": "white",
            "linecolor": "white",
            "ticks": ""
           }
          },
          "scene": {
           "xaxis": {
            "backgroundcolor": "#E5ECF6",
            "gridcolor": "white",
            "gridwidth": 2,
            "linecolor": "white",
            "showbackground": true,
            "ticks": "",
            "zerolinecolor": "white"
           },
           "yaxis": {
            "backgroundcolor": "#E5ECF6",
            "gridcolor": "white",
            "gridwidth": 2,
            "linecolor": "white",
            "showbackground": true,
            "ticks": "",
            "zerolinecolor": "white"
           },
           "zaxis": {
            "backgroundcolor": "#E5ECF6",
            "gridcolor": "white",
            "gridwidth": 2,
            "linecolor": "white",
            "showbackground": true,
            "ticks": "",
            "zerolinecolor": "white"
           }
          },
          "shapedefaults": {
           "line": {
            "color": "#2a3f5f"
           }
          },
          "ternary": {
           "aaxis": {
            "gridcolor": "white",
            "linecolor": "white",
            "ticks": ""
           },
           "baxis": {
            "gridcolor": "white",
            "linecolor": "white",
            "ticks": ""
           },
           "bgcolor": "#E5ECF6",
           "caxis": {
            "gridcolor": "white",
            "linecolor": "white",
            "ticks": ""
           }
          },
          "title": {
           "x": 0.05
          },
          "xaxis": {
           "automargin": true,
           "gridcolor": "white",
           "linecolor": "white",
           "ticks": "",
           "title": {
            "standoff": 15
           },
           "zerolinecolor": "white",
           "zerolinewidth": 2
          },
          "yaxis": {
           "automargin": true,
           "gridcolor": "white",
           "linecolor": "white",
           "ticks": "",
           "title": {
            "standoff": 15
           },
           "zerolinecolor": "white",
           "zerolinewidth": 2
          }
         }
        },
        "title": {
         "text": "Price Variation with Time"
        },
        "xaxis": {
         "title": {
          "text": "Date"
         }
        },
        "yaxis": {
         "title": {
          "text": "Price"
         }
        }
       }
      },
      "text/html": [
       "<div>\n",
       "        \n",
       "        \n",
       "            <div id=\"365bb24d-0dd7-42f8-81a1-ae198b74c772\" class=\"plotly-graph-div\" style=\"height:525px; width:100%;\"></div>\n",
       "            <script type=\"text/javascript\">\n",
       "                require([\"plotly\"], function(Plotly) {\n",
       "                    window.PLOTLYENV=window.PLOTLYENV || {};\n",
       "                    \n",
       "                if (document.getElementById(\"365bb24d-0dd7-42f8-81a1-ae198b74c772\")) {\n",
       "                    Plotly.newPlot(\n",
       "                        '365bb24d-0dd7-42f8-81a1-ae198b74c772',\n",
       "                        [{\"marker\": {\"color\": [\"rgb(215,48,39)\", \"rgb(215,48,39)\", \"rgb(215,48,39)\", \"rgb(215,48,39)\", \"rgb(215,48,39)\", \"rgb(215,48,39)\", \"rgb(228, 247, 15)\", \"rgb(228, 247, 15)\", \"rgb(228, 247, 15)\", \"rgb(228, 247, 15)\", \"rgb(228, 247, 15)\", \"rgb(228, 247, 15)\", \"rgb(228, 247, 15)\", \"rgb(228, 247, 15)\", \"rgb(228, 247, 15)\", \"rgb(228, 247, 15)\", \"rgb(228, 247, 15)\", \"rgb(39, 60, 215)\", \"rgb(39, 60, 215)\", \"rgb(39, 60, 215)\", \"rgb(39, 60, 215)\", \"rgb(39, 60, 215)\", \"rgb(39, 60, 215)\", \"rgb(39, 60, 215)\", \"rgb(39, 60, 215)\", \"rgb(39, 60, 215)\", \"rgb(39, 60, 215)\", \"rgb(39, 60, 215)\", \"rgb(39, 60, 215)\", \"rgb(39, 60, 215)\", \"rgb(39, 60, 215)\", \"rgb(39, 60, 215)\", \"rgb(39, 60, 215)\", \"rgb(39, 60, 215)\", \"rgb(39, 60, 215)\", \"rgb(39, 60, 215)\", \"rgb(39, 60, 215)\", \"rgb(39, 60, 215)\", \"rgb(39, 60, 215)\", \"rgb(39, 60, 215)\", \"rgb(39, 60, 215)\", \"rgb(39, 60, 215)\", \"rgb(39, 60, 215)\", \"rgb(39, 60, 215)\", \"rgb(39, 60, 215)\", \"rgb(37, 196, 37)\", \"rgb(37, 196, 37)\", \"rgb(37, 196, 37)\", \"rgb(37, 196, 37)\", \"rgb(37, 196, 37)\", \"rgb(37, 196, 37)\", \"rgb(37, 196, 37)\", \"rgb(37, 196, 37)\", \"rgb(37, 196, 37)\", \"rgb(37, 196, 37)\", \"rgb(76, 77, 73)\", \"rgb(76, 77, 73)\", \"rgb(76, 77, 73)\", \"rgb(76, 77, 73)\", \"rgb(76, 77, 73)\", \"rgb(76, 77, 73)\", \"rgb(76, 77, 73)\", \"rgb(76, 77, 73)\", \"rgb(76, 77, 73)\", \"rgb(76, 77, 73)\", \"rgb(76, 77, 73)\", \"rgb(76, 77, 73)\", \"rgb(76, 77, 73)\", \"rgb(76, 77, 73)\", \"rgb(76, 77, 73)\", \"rgb(76, 77, 73)\", \"rgb(76, 77, 73)\", \"rgb(76, 77, 73)\", \"rgb(76, 77, 73)\", \"rgb(76, 77, 73)\", \"rgb(76, 77, 73)\", \"rgb(76, 77, 73)\", \"rgb(76, 77, 73)\", \"rgb(76, 77, 73)\", \"rgb(222, 29, 203)\", \"rgb(222, 29, 203)\", \"rgb(222, 29, 203)\", \"rgb(222, 29, 203)\", \"rgb(222, 29, 203)\", \"rgb(222, 29, 203)\", \"rgb(222, 29, 203)\", \"rgb(222, 29, 203)\", \"rgb(222, 29, 203)\", \"rgb(222, 29, 203)\", \"rgb(222, 29, 203)\", \"rgb(222, 29, 203)\", \"rgb(222, 29, 203)\", \"rgb(222, 29, 203)\", \"rgb(222, 29, 203)\", \"rgb(222, 29, 203)\", \"rgb(222, 29, 203)\", \"rgb(222, 29, 203)\", \"rgb(222, 29, 203)\", \"rgb(222, 29, 203)\", \"rgb(222, 29, 203)\", \"rgb(222, 29, 203)\", \"rgb(222, 29, 203)\", \"rgb(222, 29, 203)\", \"rgb(222, 29, 203)\", \"rgb(222, 29, 203)\", \"rgb(222, 29, 203)\", \"rgb(222, 29, 203)\", \"rgb(222, 29, 203)\", \"rgb(222, 29, 203)\", \"rgb(222, 29, 203)\", \"rgb(222, 29, 203)\", \"rgb(222, 29, 203)\", \"rgb(222, 29, 203)\", \"rgb(222, 29, 203)\", \"rgb(222, 29, 203)\", \"rgb(222, 29, 203)\", \"rgb(222, 29, 203)\"], \"size\": 10}, \"mode\": \"markers\", \"text\": [\"Hisense - 55 class - led - h9 series - 2160p - smart - 4k uhd tv with hdr\\\"\", \"Hisense - 55 class - led - h9 series - 2160p - smart - 4k uhd tv with hdr\\\"\", \"Hisense - 55 class - led - h9 series - 2160p - smart - 4k uhd tv with hdr\\\"\", \"Hisense - 55 class - led - h9 series - 2160p - smart - 4k uhd tv with hdr\\\"\", \"Hisense - 55 class - led - h9 series - 2160p - smart - 4k uhd tv with hdr\\\"\", \"Hisense - 55 class - led - h9 series - 2160p - smart - 4k uhd tv with hdr\\\"\", \"Samsung 55 class 4k (2160p) smart led tv (un55ku7000)\\\"\", \"Samsung 55 class 4k (2160p) smart led tv (un55ku7000)\\\"\", \"Samsung 55 class 4k (2160p) smart led tv (un55ku7000)\\\"\", \"Samsung 55 class 4k (2160p) smart led tv (un55ku7000)\\\"\", \"Samsung 55 class 4k (2160p) smart led tv (un55ku7000)\\\"\", \"Samsung 55 class 4k (2160p) smart led tv (un55ku7000)\\\"\", \"Samsung 55 class 4k (2160p) smart led tv (un55ku7000)\\\"\", \"Samsung 55 class 4k (2160p) smart led tv (un55ku7000)\\\"\", \"Samsung 55 class 4k (2160p) smart led tv (un55ku7000)\\\"\", \"Samsung 55 class 4k (2160p) smart led tv (un55ku7000)\\\"\", \"Samsung 55 class 4k (2160p) smart led tv (un55ku7000)\\\"\", \"Samsung - 55 class - led - curved - mu6490 series - 2160p - smart - 4k ultra hd tv with hdr\\\"\", \"Samsung - 55 class - led - curved - mu6490 series - 2160p - smart - 4k ultra hd tv with hdr\\\"\", \"Samsung - 55 class - led - curved - mu6490 series - 2160p - smart - 4k ultra hd tv with hdr\\\"\", \"Samsung - 55 class - led - curved - mu6490 series - 2160p - smart - 4k ultra hd tv with hdr\\\"\", \"Samsung - 55 class - led - curved - mu6490 series - 2160p - smart - 4k ultra hd tv with hdr\\\"\", \"Samsung - 55 class - led - curved - mu6490 series - 2160p - smart - 4k ultra hd tv with hdr\\\"\", \"Samsung - 55 class - led - curved - mu6490 series - 2160p - smart - 4k ultra hd tv with hdr\\\"\", \"Samsung - 55 class - led - curved - mu6490 series - 2160p - smart - 4k ultra hd tv with hdr\\\"\", \"Samsung - 55 class - led - curved - mu6490 series - 2160p - smart - 4k ultra hd tv with hdr\\\"\", \"Samsung - 55 class - led - curved - mu6490 series - 2160p - smart - 4k ultra hd tv with hdr\\\"\", \"Samsung - 55 class - led - curved - mu6490 series - 2160p - smart - 4k ultra hd tv with hdr\\\"\", \"Samsung - 55 class - led - curved - mu6490 series - 2160p - smart - 4k ultra hd tv with hdr\\\"\", \"Samsung - 55 class - led - curved - mu6490 series - 2160p - smart - 4k ultra hd tv with hdr\\\"\", \"Samsung - 55 class - led - curved - mu6490 series - 2160p - smart - 4k ultra hd tv with hdr\\\"\", \"Samsung - 55 class - led - curved - mu6490 series - 2160p - smart - 4k ultra hd tv with hdr\\\"\", \"Samsung - 55 class - led - curved - mu6490 series - 2160p - smart - 4k ultra hd tv with hdr\\\"\", \"Samsung - 55 class - led - curved - mu6490 series - 2160p - smart - 4k ultra hd tv with hdr\\\"\", \"Samsung - 55 class - led - curved - mu6490 series - 2160p - smart - 4k ultra hd tv with hdr\\\"\", \"Samsung - 55 class - led - curved - mu6490 series - 2160p - smart - 4k ultra hd tv with hdr\\\"\", \"Samsung - 55 class - led - curved - mu6490 series - 2160p - smart - 4k ultra hd tv with hdr\\\"\", \"Samsung - 55 class - led - curved - mu6490 series - 2160p - smart - 4k ultra hd tv with hdr\\\"\", \"Samsung - 55 class - led - curved - mu6490 series - 2160p - smart - 4k ultra hd tv with hdr\\\"\", \"Samsung - 55 class - led - curved - mu6490 series - 2160p - smart - 4k ultra hd tv with hdr\\\"\", \"Samsung - 55 class - led - curved - mu6490 series - 2160p - smart - 4k ultra hd tv with hdr\\\"\", \"Samsung - 55 class - led - curved - mu6490 series - 2160p - smart - 4k ultra hd tv with hdr\\\"\", \"Samsung - 55 class - led - curved - mu6490 series - 2160p - smart - 4k ultra hd tv with hdr\\\"\", \"Samsung - 55 class - led - curved - mu6490 series - 2160p - smart - 4k ultra hd tv with hdr\\\"\", \"Samsung - 55 class - led - curved - mu6490 series - 2160p - smart - 4k ultra hd tv with hdr\\\"\", \"Lg - 55 class - led - uj7700 series - 2160p - smart - 4k uhd tv with hdr\\\"\", \"Lg - 55 class - led - uj7700 series - 2160p - smart - 4k uhd tv with hdr\\\"\", \"Lg - 55 class - led - uj7700 series - 2160p - smart - 4k uhd tv with hdr\\\"\", \"Lg - 55 class - led - uj7700 series - 2160p - smart - 4k uhd tv with hdr\\\"\", \"Lg - 55 class - led - uj7700 series - 2160p - smart - 4k uhd tv with hdr\\\"\", \"Lg - 55 class - led - uj7700 series - 2160p - smart - 4k uhd tv with hdr\\\"\", \"Lg - 55 class - led - uj7700 series - 2160p - smart - 4k uhd tv with hdr\\\"\", \"Lg - 55 class - led - uj7700 series - 2160p - smart - 4k uhd tv with hdr\\\"\", \"Lg - 55 class - led - uj7700 series - 2160p - smart - 4k uhd tv with hdr\\\"\", \"Lg - 55 class - led - uj7700 series - 2160p - smart - 4k uhd tv with hdr\\\"\", \"Hisense - 55 class - led - h8 series - 2160p - smart - 4k uhd tv with hdr\\\"\", \"Hisense - 55 class - led - h8 series - 2160p - smart - 4k uhd tv with hdr\\\"\", \"Hisense - 55 class - led - h8 series - 2160p - smart - 4k uhd tv with hdr\\\"\", \"Hisense - 55 class - led - h8 series - 2160p - smart - 4k uhd tv with hdr\\\"\", \"Hisense - 55 class - led - h8 series - 2160p - smart - 4k uhd tv with hdr\\\"\", \"Hisense - 55 class - led - h8 series - 2160p - smart - 4k uhd tv with hdr\\\"\", \"Hisense - 55 class - led - h8 series - 2160p - smart - 4k uhd tv with hdr\\\"\", \"Hisense - 55 class - led - h8 series - 2160p - smart - 4k uhd tv with hdr\\\"\", \"Hisense - 55 class - led - h8 series - 2160p - smart - 4k uhd tv with hdr\\\"\", \"Hisense - 55 class - led - h8 series - 2160p - smart - 4k uhd tv with hdr\\\"\", \"Hisense - 55 class - led - h8 series - 2160p - smart - 4k uhd tv with hdr\\\"\", \"Hisense - 55 class - led - h8 series - 2160p - smart - 4k uhd tv with hdr\\\"\", \"Hisense - 55 class - led - h8 series - 2160p - smart - 4k uhd tv with hdr\\\"\", \"Hisense - 55 class - led - h8 series - 2160p - smart - 4k uhd tv with hdr\\\"\", \"Hisense - 55 class - led - h8 series - 2160p - smart - 4k uhd tv with hdr\\\"\", \"Hisense - 55 class - led - h8 series - 2160p - smart - 4k uhd tv with hdr\\\"\", \"Hisense - 55 class - led - h8 series - 2160p - smart - 4k uhd tv with hdr\\\"\", \"Hisense - 55 class - led - h8 series - 2160p - smart - 4k uhd tv with hdr\\\"\", \"Hisense - 55 class - led - h8 series - 2160p - smart - 4k uhd tv with hdr\\\"\", \"Hisense - 55 class - led - h8 series - 2160p - smart - 4k uhd tv with hdr\\\"\", \"Hisense - 55 class - led - h8 series - 2160p - smart - 4k uhd tv with hdr\\\"\", \"Hisense - 55 class - led - h8 series - 2160p - smart - 4k uhd tv with hdr\\\"\", \"Hisense - 55 class - led - h8 series - 2160p - smart - 4k uhd tv with hdr\\\"\", \"Hisense - 55 class - led - h8 series - 2160p - smart - 4k uhd tv with hdr\\\"\", \"Sony xbr55x700d 55-inch 4k ultra hd smart led tv (2016 model)\", \"Sony xbr55x700d 55-inch 4k ultra hd smart led tv (2016 model)\", \"Sony xbr55x700d 55-inch 4k ultra hd smart led tv (2016 model)\", \"Sony xbr55x700d 55-inch 4k ultra hd smart led tv (2016 model)\", \"Sony xbr55x700d 55-inch 4k ultra hd smart led tv (2016 model)\", \"Sony xbr55x700d 55-inch 4k ultra hd smart led tv (2016 model)\", \"Sony xbr55x700d 55-inch 4k ultra hd smart led tv (2016 model)\", \"Sony xbr55x700d 55-inch 4k ultra hd smart led tv (2016 model)\", \"Sony xbr55x700d 55-inch 4k ultra hd smart led tv (2016 model)\", \"Sony xbr55x700d 55-inch 4k ultra hd smart led tv (2016 model)\", \"Sony xbr55x700d 55-inch 4k ultra hd smart led tv (2016 model)\", \"Sony xbr55x700d 55-inch 4k ultra hd smart led tv (2016 model)\", \"Sony xbr55x700d 55-inch 4k ultra hd smart led tv (2016 model)\", \"Sony xbr55x700d 55-inch 4k ultra hd smart led tv (2016 model)\", \"Sony xbr55x700d 55-inch 4k ultra hd smart led tv (2016 model)\", \"Sony xbr55x700d 55-inch 4k ultra hd smart led tv (2016 model)\", \"Sony xbr55x700d 55-inch 4k ultra hd smart led tv (2016 model)\", \"Sony xbr55x700d 55-inch 4k ultra hd smart led tv (2016 model)\", \"Sony xbr55x700d 55-inch 4k ultra hd smart led tv (2016 model)\", \"Sony xbr55x700d 55-inch 4k ultra hd smart led tv (2016 model)\", \"Sony xbr55x700d 55-inch 4k ultra hd smart led tv (2016 model)\", \"Sony xbr55x700d 55-inch 4k ultra hd smart led tv (2016 model)\", \"Sony xbr55x700d 55-inch 4k ultra hd smart led tv (2016 model)\", \"Sony xbr55x700d 55-inch 4k ultra hd smart led tv (2016 model)\", \"Sony xbr55x700d 55-inch 4k ultra hd smart led tv (2016 model)\", \"Sony xbr55x700d 55-inch 4k ultra hd smart led tv (2016 model)\", \"Sony xbr55x700d 55-inch 4k ultra hd smart led tv (2016 model)\", \"Sony xbr55x700d 55-inch 4k ultra hd smart led tv (2016 model)\", \"Sony xbr55x700d 55-inch 4k ultra hd smart led tv (2016 model)\", \"Sony xbr55x700d 55-inch 4k ultra hd smart led tv (2016 model)\", \"Sony xbr55x700d 55-inch 4k ultra hd smart led tv (2016 model)\", \"Sony xbr55x700d 55-inch 4k ultra hd smart led tv (2016 model)\", \"Sony xbr55x700d 55-inch 4k ultra hd smart led tv (2016 model)\", \"Sony xbr55x700d 55-inch 4k ultra hd smart led tv (2016 model)\", \"Sony xbr55x700d 55-inch 4k ultra hd smart led tv (2016 model)\", \"Sony xbr55x700d 55-inch 4k ultra hd smart led tv (2016 model)\", \"Sony xbr55x700d 55-inch 4k ultra hd smart led tv (2016 model)\", \"Sony xbr55x700d 55-inch 4k ultra hd smart led tv (2016 model)\"], \"type\": \"scatter\", \"x\": [\"2018-05-26T15:00:00\", \"2018-05-02T14:00:00\", \"2018-04-26T17:00:00\", \"2018-05-26T15:00:00\", \"2018-03-09T18:00:00\", \"2018-05-02T14:00:00\", \"2017-12-06T01:00:00\", \"2017-11-08T20:00:00\", \"2017-10-24T01:00:00\", \"2017-08-14T14:00:00\", \"2017-07-26T01:00:00\", \"2017-07-25T23:00:00\", \"2017-03-30T05:00:00\", \"2017-03-10T19:00:00\", \"2017-03-30T05:00:00\", \"2017-03-10T19:00:00\", \"2017-03-04T10:00:00\", \"2017-10-24T01:00:00\", \"2018-05-26T07:00:00\", \"2018-05-27T16:00:00\", \"2018-05-28T11:00:00\", \"2018-05-24T11:00:00\", \"2017-11-16T19:00:00\", \"2017-11-08T20:00:00\", \"2018-04-26T17:00:00\", \"2018-05-26T07:00:00\", \"2017-09-17T08:00:00\", \"2017-11-18T13:00:00\", \"2017-12-06T20:00:00\", \"2017-08-29T12:00:00\", \"2017-08-19T05:00:00\", \"2017-12-04T21:00:00\", \"2017-08-22T10:00:00\", \"2018-01-09T20:00:00\", \"2017-10-24T08:00:00\", \"2018-05-06T17:00:00\", \"2017-12-06T22:00:00\", \"2018-04-26T17:00:00\", \"2017-11-16T19:00:00\", \"2018-03-31T19:00:00\", \"2017-12-06T22:00:00\", \"2017-12-06T20:00:00\", \"2017-12-04T21:00:00\", \"2017-11-18T13:00:00\", \"2017-12-06T01:00:00\", \"2018-05-27T16:00:00\", \"2018-05-28T10:00:00\", \"2018-04-26T17:00:00\", \"2018-03-09T18:00:00\", \"2018-05-26T16:00:00\", \"2018-03-09T18:00:00\", \"2018-04-26T17:00:00\", \"2018-05-06T17:00:00\", \"2018-02-05T20:00:00\", \"2018-05-26T16:00:00\", \"2017-07-31T22:00:00\", \"2017-08-01T07:00:00\", \"2017-07-26T20:00:00\", \"2017-06-01T19:00:00\", \"2017-05-31T17:00:00\", \"2017-05-09T07:00:00\", \"2017-05-01T20:00:00\", \"2017-05-18T05:00:00\", \"2017-03-30T05:00:00\", \"2017-03-10T19:00:00\", \"2017-03-04T10:00:00\", \"2017-07-21T16:00:00\", \"2018-04-26T17:00:00\", \"2018-03-09T18:00:00\", \"2018-05-25T21:00:00\", \"2018-05-26T16:00:00\", \"2017-07-25T18:00:00\", \"2017-07-25T18:00:00\", \"2017-07-11T12:00:00\", \"2017-07-11T22:00:00\", \"2018-05-25T21:00:00\", \"2018-05-26T16:00:00\", \"2017-10-28T17:00:00\", \"2017-10-24T22:00:00\", \"2017-07-24T21:00:00\", \"2017-07-25T21:00:00\", \"2017-07-23T08:00:00\", \"2017-07-25T17:00:00\", \"2017-07-24T19:00:00\", \"2017-07-26T23:00:00\", \"2017-07-27T11:00:00\", \"2017-07-09T22:00:00\", \"2017-07-18T14:00:00\", \"2017-07-25T18:00:00\", \"2017-07-17T06:00:00\", \"2017-07-14T12:00:00\", \"2017-07-18T00:00:00\", \"2017-08-14T14:00:00\", \"2017-07-15T14:00:00\", \"2017-07-10T18:00:00\", \"2017-07-08T20:00:00\", \"2017-09-28T04:00:00\", \"2017-07-26T15:00:00\", \"2017-07-27T19:00:00\", \"2017-07-25T18:00:00\", \"2017-07-18T06:00:00\", \"2017-07-21T16:00:00\", \"2017-07-21T14:00:00\", \"2017-07-12T15:00:00\", \"2017-07-14T14:00:00\", \"2017-07-25T17:00:00\", \"2017-07-26T20:00:00\", \"2017-07-25T18:00:00\", \"2017-07-21T15:00:00\", \"2017-07-22T04:00:00\", \"2017-07-24T17:00:00\", \"2017-07-15T23:00:00\", \"2017-07-15T12:00:00\", \"2017-07-18T11:00:00\", \"2017-07-17T19:00:00\", \"2017-07-14T10:00:00\", \"2017-07-17T01:00:00\"], \"y\": [799.99, 799.99, 599.99, 599.99, 699.99, 699.99, 1197.99, 1197.99, 1197.99, 1197.99, 1197.99, 1197.99, 999.99, 999.99, 809.99, 909.99, 1199.99, 797.99, 549.99, 1097.99, 1097.99, 1097.99, 799.99, 799.99, 1197.99, 799.99, 797.99, 797.99, 797.99, 797.99, 797.99, 797.99, 797.99, 797.99, 797.99, 797.99, 797.99, 747.85, 597.99, 1197.99, 597.99, 597.99, 597.99, 597.99, 797.99, 796.99, 796.99, 846.99, 749.0, 799.99, 659.42, 1296.99, 1296.99, 796.99, 751.99, 549.99, 549.99, 549.99, 549.99, 549.99, 549.99, 549.99, 549.99, 549.99, 549.99, 549.99, 768.98, 449.99, 429.99, 449.99, 449.99, 723.6, 619.96, 619.96, 619.96, 427.99, 427.99, 549.99, 724.7, 798.0, 798.0, 629.99, 629.99, 629.99, 629.99, 629.99, 629.99, 629.99, 629.99, 699.95, 848.0, 848.0, 798.0, 746.24, 798.0, 798.0, 789.99, 789.99, 789.99, 789.99, 848.0, 848.0, 848.0, 848.0, 848.0, 798.0, 798.0, 798.0, 798.0, 798.0, 798.0, 798.0, 798.0, 798.0, 798.0, 798.0, 798.0]}],\n",
       "                        {\"template\": {\"data\": {\"bar\": [{\"error_x\": {\"color\": \"#2a3f5f\"}, \"error_y\": {\"color\": \"#2a3f5f\"}, \"marker\": {\"line\": {\"color\": \"#E5ECF6\", \"width\": 0.5}}, \"type\": \"bar\"}], \"barpolar\": [{\"marker\": {\"line\": {\"color\": \"#E5ECF6\", \"width\": 0.5}}, \"type\": \"barpolar\"}], \"carpet\": [{\"aaxis\": {\"endlinecolor\": \"#2a3f5f\", \"gridcolor\": \"white\", \"linecolor\": \"white\", \"minorgridcolor\": \"white\", \"startlinecolor\": \"#2a3f5f\"}, \"baxis\": {\"endlinecolor\": \"#2a3f5f\", \"gridcolor\": \"white\", \"linecolor\": \"white\", \"minorgridcolor\": \"white\", \"startlinecolor\": \"#2a3f5f\"}, \"type\": \"carpet\"}], \"choropleth\": [{\"colorbar\": {\"outlinewidth\": 0, \"ticks\": \"\"}, \"type\": \"choropleth\"}], \"contour\": [{\"colorbar\": {\"outlinewidth\": 0, \"ticks\": \"\"}, \"colorscale\": [[0.0, \"#0d0887\"], [0.1111111111111111, \"#46039f\"], [0.2222222222222222, \"#7201a8\"], [0.3333333333333333, \"#9c179e\"], [0.4444444444444444, \"#bd3786\"], [0.5555555555555556, \"#d8576b\"], [0.6666666666666666, \"#ed7953\"], [0.7777777777777778, \"#fb9f3a\"], [0.8888888888888888, \"#fdca26\"], [1.0, \"#f0f921\"]], \"type\": \"contour\"}], \"contourcarpet\": [{\"colorbar\": {\"outlinewidth\": 0, \"ticks\": \"\"}, \"type\": \"contourcarpet\"}], \"heatmap\": [{\"colorbar\": {\"outlinewidth\": 0, \"ticks\": \"\"}, \"colorscale\": [[0.0, \"#0d0887\"], [0.1111111111111111, \"#46039f\"], [0.2222222222222222, \"#7201a8\"], [0.3333333333333333, \"#9c179e\"], [0.4444444444444444, \"#bd3786\"], [0.5555555555555556, \"#d8576b\"], [0.6666666666666666, \"#ed7953\"], [0.7777777777777778, \"#fb9f3a\"], [0.8888888888888888, \"#fdca26\"], [1.0, \"#f0f921\"]], \"type\": \"heatmap\"}], \"heatmapgl\": [{\"colorbar\": {\"outlinewidth\": 0, \"ticks\": \"\"}, \"colorscale\": [[0.0, \"#0d0887\"], [0.1111111111111111, \"#46039f\"], [0.2222222222222222, \"#7201a8\"], [0.3333333333333333, \"#9c179e\"], [0.4444444444444444, \"#bd3786\"], [0.5555555555555556, \"#d8576b\"], [0.6666666666666666, \"#ed7953\"], [0.7777777777777778, \"#fb9f3a\"], [0.8888888888888888, \"#fdca26\"], [1.0, \"#f0f921\"]], \"type\": \"heatmapgl\"}], \"histogram\": [{\"marker\": {\"colorbar\": {\"outlinewidth\": 0, \"ticks\": \"\"}}, \"type\": \"histogram\"}], \"histogram2d\": [{\"colorbar\": {\"outlinewidth\": 0, \"ticks\": \"\"}, \"colorscale\": [[0.0, \"#0d0887\"], [0.1111111111111111, \"#46039f\"], [0.2222222222222222, \"#7201a8\"], [0.3333333333333333, \"#9c179e\"], [0.4444444444444444, \"#bd3786\"], [0.5555555555555556, \"#d8576b\"], [0.6666666666666666, \"#ed7953\"], [0.7777777777777778, \"#fb9f3a\"], [0.8888888888888888, \"#fdca26\"], [1.0, \"#f0f921\"]], \"type\": \"histogram2d\"}], \"histogram2dcontour\": [{\"colorbar\": {\"outlinewidth\": 0, \"ticks\": \"\"}, \"colorscale\": [[0.0, \"#0d0887\"], [0.1111111111111111, \"#46039f\"], [0.2222222222222222, \"#7201a8\"], [0.3333333333333333, \"#9c179e\"], [0.4444444444444444, \"#bd3786\"], [0.5555555555555556, \"#d8576b\"], [0.6666666666666666, \"#ed7953\"], [0.7777777777777778, \"#fb9f3a\"], [0.8888888888888888, \"#fdca26\"], [1.0, \"#f0f921\"]], \"type\": \"histogram2dcontour\"}], \"mesh3d\": [{\"colorbar\": {\"outlinewidth\": 0, \"ticks\": \"\"}, \"type\": \"mesh3d\"}], \"parcoords\": [{\"line\": {\"colorbar\": {\"outlinewidth\": 0, \"ticks\": \"\"}}, \"type\": \"parcoords\"}], \"pie\": [{\"automargin\": true, \"type\": \"pie\"}], \"scatter\": [{\"marker\": {\"colorbar\": {\"outlinewidth\": 0, \"ticks\": \"\"}}, \"type\": \"scatter\"}], \"scatter3d\": [{\"line\": {\"colorbar\": {\"outlinewidth\": 0, \"ticks\": \"\"}}, \"marker\": {\"colorbar\": {\"outlinewidth\": 0, \"ticks\": \"\"}}, \"type\": \"scatter3d\"}], \"scattercarpet\": [{\"marker\": {\"colorbar\": {\"outlinewidth\": 0, \"ticks\": \"\"}}, \"type\": \"scattercarpet\"}], \"scattergeo\": [{\"marker\": {\"colorbar\": {\"outlinewidth\": 0, \"ticks\": \"\"}}, \"type\": \"scattergeo\"}], \"scattergl\": [{\"marker\": {\"colorbar\": {\"outlinewidth\": 0, \"ticks\": \"\"}}, \"type\": \"scattergl\"}], \"scattermapbox\": [{\"marker\": {\"colorbar\": {\"outlinewidth\": 0, \"ticks\": \"\"}}, \"type\": \"scattermapbox\"}], \"scatterpolar\": [{\"marker\": {\"colorbar\": {\"outlinewidth\": 0, \"ticks\": \"\"}}, \"type\": \"scatterpolar\"}], \"scatterpolargl\": [{\"marker\": {\"colorbar\": {\"outlinewidth\": 0, \"ticks\": \"\"}}, \"type\": \"scatterpolargl\"}], \"scatterternary\": [{\"marker\": {\"colorbar\": {\"outlinewidth\": 0, \"ticks\": \"\"}}, \"type\": \"scatterternary\"}], \"surface\": [{\"colorbar\": {\"outlinewidth\": 0, \"ticks\": \"\"}, \"colorscale\": [[0.0, \"#0d0887\"], [0.1111111111111111, \"#46039f\"], [0.2222222222222222, \"#7201a8\"], [0.3333333333333333, \"#9c179e\"], [0.4444444444444444, \"#bd3786\"], [0.5555555555555556, \"#d8576b\"], [0.6666666666666666, \"#ed7953\"], [0.7777777777777778, \"#fb9f3a\"], [0.8888888888888888, \"#fdca26\"], [1.0, \"#f0f921\"]], \"type\": \"surface\"}], \"table\": [{\"cells\": {\"fill\": {\"color\": \"#EBF0F8\"}, \"line\": {\"color\": \"white\"}}, \"header\": {\"fill\": {\"color\": \"#C8D4E3\"}, \"line\": {\"color\": \"white\"}}, \"type\": \"table\"}]}, \"layout\": {\"annotationdefaults\": {\"arrowcolor\": \"#2a3f5f\", \"arrowhead\": 0, \"arrowwidth\": 1}, \"coloraxis\": {\"colorbar\": {\"outlinewidth\": 0, \"ticks\": \"\"}}, \"colorscale\": {\"diverging\": [[0, \"#8e0152\"], [0.1, \"#c51b7d\"], [0.2, \"#de77ae\"], [0.3, \"#f1b6da\"], [0.4, \"#fde0ef\"], [0.5, \"#f7f7f7\"], [0.6, \"#e6f5d0\"], [0.7, \"#b8e186\"], [0.8, \"#7fbc41\"], [0.9, \"#4d9221\"], [1, \"#276419\"]], \"sequential\": [[0.0, \"#0d0887\"], [0.1111111111111111, \"#46039f\"], [0.2222222222222222, \"#7201a8\"], [0.3333333333333333, \"#9c179e\"], [0.4444444444444444, \"#bd3786\"], [0.5555555555555556, \"#d8576b\"], [0.6666666666666666, \"#ed7953\"], [0.7777777777777778, \"#fb9f3a\"], [0.8888888888888888, \"#fdca26\"], [1.0, \"#f0f921\"]], \"sequentialminus\": [[0.0, \"#0d0887\"], [0.1111111111111111, \"#46039f\"], [0.2222222222222222, \"#7201a8\"], [0.3333333333333333, \"#9c179e\"], [0.4444444444444444, \"#bd3786\"], [0.5555555555555556, \"#d8576b\"], [0.6666666666666666, \"#ed7953\"], [0.7777777777777778, \"#fb9f3a\"], [0.8888888888888888, \"#fdca26\"], [1.0, \"#f0f921\"]]}, \"colorway\": [\"#636efa\", \"#EF553B\", \"#00cc96\", \"#ab63fa\", \"#FFA15A\", \"#19d3f3\", \"#FF6692\", \"#B6E880\", \"#FF97FF\", \"#FECB52\"], \"font\": {\"color\": \"#2a3f5f\"}, \"geo\": {\"bgcolor\": \"white\", \"lakecolor\": \"white\", \"landcolor\": \"#E5ECF6\", \"showlakes\": true, \"showland\": true, \"subunitcolor\": \"white\"}, \"hoverlabel\": {\"align\": \"left\"}, \"hovermode\": \"closest\", \"mapbox\": {\"style\": \"light\"}, \"paper_bgcolor\": \"white\", \"plot_bgcolor\": \"#E5ECF6\", \"polar\": {\"angularaxis\": {\"gridcolor\": \"white\", \"linecolor\": \"white\", \"ticks\": \"\"}, \"bgcolor\": \"#E5ECF6\", \"radialaxis\": {\"gridcolor\": \"white\", \"linecolor\": \"white\", \"ticks\": \"\"}}, \"scene\": {\"xaxis\": {\"backgroundcolor\": \"#E5ECF6\", \"gridcolor\": \"white\", \"gridwidth\": 2, \"linecolor\": \"white\", \"showbackground\": true, \"ticks\": \"\", \"zerolinecolor\": \"white\"}, \"yaxis\": {\"backgroundcolor\": \"#E5ECF6\", \"gridcolor\": \"white\", \"gridwidth\": 2, \"linecolor\": \"white\", \"showbackground\": true, \"ticks\": \"\", \"zerolinecolor\": \"white\"}, \"zaxis\": {\"backgroundcolor\": \"#E5ECF6\", \"gridcolor\": \"white\", \"gridwidth\": 2, \"linecolor\": \"white\", \"showbackground\": true, \"ticks\": \"\", \"zerolinecolor\": \"white\"}}, \"shapedefaults\": {\"line\": {\"color\": \"#2a3f5f\"}}, \"ternary\": {\"aaxis\": {\"gridcolor\": \"white\", \"linecolor\": \"white\", \"ticks\": \"\"}, \"baxis\": {\"gridcolor\": \"white\", \"linecolor\": \"white\", \"ticks\": \"\"}, \"bgcolor\": \"#E5ECF6\", \"caxis\": {\"gridcolor\": \"white\", \"linecolor\": \"white\", \"ticks\": \"\"}}, \"title\": {\"x\": 0.05}, \"xaxis\": {\"automargin\": true, \"gridcolor\": \"white\", \"linecolor\": \"white\", \"ticks\": \"\", \"title\": {\"standoff\": 15}, \"zerolinecolor\": \"white\", \"zerolinewidth\": 2}, \"yaxis\": {\"automargin\": true, \"gridcolor\": \"white\", \"linecolor\": \"white\", \"ticks\": \"\", \"title\": {\"standoff\": 15}, \"zerolinecolor\": \"white\", \"zerolinewidth\": 2}}}, \"title\": {\"text\": \"Price Variation with Time\"}, \"xaxis\": {\"title\": {\"text\": \"Date\"}}, \"yaxis\": {\"title\": {\"text\": \"Price\"}}},\n",
       "                        {\"responsive\": true}\n",
       "                    ).then(function(){\n",
       "                            \n",
       "var gd = document.getElementById('365bb24d-0dd7-42f8-81a1-ae198b74c772');\n",
       "var x = new MutationObserver(function (mutations, observer) {{\n",
       "        var display = window.getComputedStyle(gd).display;\n",
       "        if (!display || display === 'none') {{\n",
       "            console.log([gd, 'removed!']);\n",
       "            Plotly.purge(gd);\n",
       "            observer.disconnect();\n",
       "        }}\n",
       "}});\n",
       "\n",
       "// Listen for the removal of the full notebook cells\n",
       "var notebookContainer = gd.closest('#notebook-container');\n",
       "if (notebookContainer) {{\n",
       "    x.observe(notebookContainer, {childList: true});\n",
       "}}\n",
       "\n",
       "// Listen for the clearing of the current output cell\n",
       "var outputEl = gd.closest('.output');\n",
       "if (outputEl) {{\n",
       "    x.observe(outputEl, {childList: true});\n",
       "}}\n",
       "\n",
       "                        })\n",
       "                };\n",
       "                });\n",
       "            </script>\n",
       "        </div>"
      ]
     },
     "metadata": {},
     "output_type": "display_data"
    }
   ],
   "source": [
    "# Price variation of Low-Range TVs\n",
    "\n",
    "data = splitDataFrameList(df.loc[df['Label'] == 'Low'][['Name', 'Price-Min', 'Date-Seen', 'Date-Added']], 'Date-Seen', ',')\n",
    "\n",
    "colorsIdx = {'Hisense - 55 class - led - h9 series - 2160p - smart - 4k uhd tv with hdr\"': 'rgb(215,48,39)', \n",
    "             'Samsung 55 class 4k (2160p) smart led tv (un55ku7000)\"': 'rgb(228, 247, 15)',\n",
    "             'Samsung - 55 class - led - curved - mu6490 series - 2160p - smart - 4k ultra hd tv with hdr\"': 'rgb(39, 60, 215)',\n",
    "             'Lg - 55 class - led - uj7700 series - 2160p - smart - 4k uhd tv with hdr\"': 'rgb(37, 196, 37)',\n",
    "             'Hisense - 55 class - led - h8 series - 2160p - smart - 4k uhd tv with hdr\"': 'rgb(76, 77, 73)',\n",
    "             'Sony xbr55x700d 55-inch 4k ultra hd smart led tv (2016 model)': 'rgb(222, 29, 203)'}\n",
    "cols      = data['Name'].map(colorsIdx)\n",
    "\n",
    "fig = go.Figure()\n",
    "fig.add_trace(go.Scatter(\n",
    "    x = data['Date-Seen'],\n",
    "    y = data['Price-Min'],\n",
    "    text=data['Name'],\n",
    "    mode = 'markers',\n",
    "    marker=dict(size=10, color=cols)\n",
    "))\n",
    "fig.update_layout(title='Price Variation with Time',\n",
    "                 xaxis_title=\"Date\",\n",
    "                 yaxis_title=\"Price\")\n",
    "\n",
    "fig.show()\n",
    "\n",
    "#fig.write_image(\"images/fig4.png\")\n"
   ]
  },
  {
   "cell_type": "code",
   "execution_count": 454,
   "metadata": {},
   "outputs": [
    {
     "data": {
      "application/vnd.plotly.v1+json": {
       "config": {
        "plotlyServerURL": "https://plot.ly"
       },
       "data": [
        {
         "alignmentgroup": "True",
         "hovertemplate": "Merchant=1 Stop Electronics Center, Inc.<br>Name=%{x}<br>Count=%{y}<extra></extra>",
         "legendgroup": "1 Stop Electronics Center, Inc.",
         "marker": {
          "color": "#636efa"
         },
         "name": "1 Stop Electronics Center, Inc.",
         "offsetgroup": "1 Stop Electronics Center, Inc.",
         "orientation": "v",
         "showlegend": true,
         "textposition": "auto",
         "type": "bar",
         "x": [
          "Hisense - 55 class - led - h8 series - 2160p - smart - 4k uhd tv with hdr\""
         ],
         "xaxis": "x",
         "y": [
          1
         ],
         "yaxis": "y"
        },
        {
         "alignmentgroup": "True",
         "hovertemplate": "Merchant=Beach Audio Inc<br>Name=%{x}<br>Count=%{y}<extra></extra>",
         "legendgroup": "Beach Audio Inc",
         "marker": {
          "color": "#EF553B"
         },
         "name": "Beach Audio Inc",
         "offsetgroup": "Beach Audio Inc",
         "orientation": "v",
         "showlegend": true,
         "textposition": "auto",
         "type": "bar",
         "x": [
          "Hisense - 55 class - led - h8 series - 2160p - smart - 4k uhd tv with hdr\""
         ],
         "xaxis": "x",
         "y": [
          1
         ],
         "yaxis": "y"
        },
        {
         "alignmentgroup": "True",
         "hovertemplate": "Merchant=Bestbuy.com<br>Name=%{x}<br>Count=%{y}<extra></extra>",
         "legendgroup": "Bestbuy.com",
         "marker": {
          "color": "#00cc96"
         },
         "name": "Bestbuy.com",
         "offsetgroup": "Bestbuy.com",
         "orientation": "v",
         "showlegend": true,
         "textposition": "auto",
         "type": "bar",
         "x": [
          "Hisense - 55 class - led - h8 series - 2160p - smart - 4k uhd tv with hdr\"",
          "Hisense - 55 class - led - h9 series - 2160p - smart - 4k uhd tv with hdr\"",
          "Lg - 55 class - led - uj7700 series - 2160p - smart - 4k uhd tv with hdr\"",
          "Samsung - 55 class - led - curved - mu6490 series - 2160p - smart - 4k ultra hd tv with hdr\"",
          "Samsung - 55 class - led - curved - q7c series - 2160p - smart - 4k uhd tv with hdr\"",
          "Samsung - 55 class - led - q8f series - 2160p - smart - 4k uhd tv with hdr\"",
          "Samsung 55 class 4k (2160p) smart led tv (un55ku7000)\"",
          "Sony - 55 class - led - x800e series - 2160p - smart - 4k uhd tv with hdr\"",
          "Sony - 55 class - oled - a1e series - 2160p - smart - 4k uhd tv with hdr\"",
          "X900f-series 55-class hdr uhd smart led tv"
         ],
         "xaxis": "x",
         "y": [
          3,
          3,
          2,
          2,
          4,
          2,
          4,
          7,
          6,
          2
         ],
         "yaxis": "y"
        },
        {
         "alignmentgroup": "True",
         "hovertemplate": "Merchant=Hisense USA Corporation<br>Name=%{x}<br>Count=%{y}<extra></extra>",
         "legendgroup": "Hisense USA Corporation",
         "marker": {
          "color": "#ab63fa"
         },
         "name": "Hisense USA Corporation",
         "offsetgroup": "Hisense USA Corporation",
         "orientation": "v",
         "showlegend": true,
         "textposition": "auto",
         "type": "bar",
         "x": [
          "Hisense - 55 class - led - h8 series - 2160p - smart - 4k uhd tv with hdr\"",
          "Hisense - 55 class - led - h9 series - 2160p - smart - 4k uhd tv with hdr\""
         ],
         "xaxis": "x",
         "y": [
          2,
          2
         ],
         "yaxis": "y"
        },
        {
         "alignmentgroup": "True",
         "hovertemplate": "Merchant=beachaudio<br>Name=%{x}<br>Count=%{y}<extra></extra>",
         "legendgroup": "beachaudio",
         "marker": {
          "color": "#FFA15A"
         },
         "name": "beachaudio",
         "offsetgroup": "beachaudio",
         "orientation": "v",
         "showlegend": true,
         "textposition": "auto",
         "type": "bar",
         "x": [
          "Hisense - 55 class - led - h8 series - 2160p - smart - 4k uhd tv with hdr\""
         ],
         "xaxis": "x",
         "y": [
          1
         ],
         "yaxis": "y"
        },
        {
         "alignmentgroup": "True",
         "hovertemplate": "Merchant=savecentral-outlet<br>Name=%{x}<br>Count=%{y}<extra></extra>",
         "legendgroup": "savecentral-outlet",
         "marker": {
          "color": "#19d3f3"
         },
         "name": "savecentral-outlet",
         "offsetgroup": "savecentral-outlet",
         "orientation": "v",
         "showlegend": true,
         "textposition": "auto",
         "type": "bar",
         "x": [
          "Hisense - 55 class - led - h8 series - 2160p - smart - 4k uhd tv with hdr\"",
          "Sony xbr55x700d 55-inch 4k ultra hd smart led tv (2016 model)"
         ],
         "xaxis": "x",
         "y": [
          1,
          1
         ],
         "yaxis": "y"
        },
        {
         "alignmentgroup": "True",
         "hovertemplate": "Merchant=Beach Camera<br>Name=%{x}<br>Count=%{y}<extra></extra>",
         "legendgroup": "Beach Camera",
         "marker": {
          "color": "#FF6692"
         },
         "name": "Beach Camera",
         "offsetgroup": "Beach Camera",
         "orientation": "v",
         "showlegend": true,
         "textposition": "auto",
         "type": "bar",
         "x": [
          "Lg - 55 class - led - uj7700 series - 2160p - smart - 4k uhd tv with hdr\"",
          "Samsung - 55 class - led - curved - mu6490 series - 2160p - smart - 4k ultra hd tv with hdr\"",
          "Samsung - 55 class - led - curved - q7c series - 2160p - smart - 4k uhd tv with hdr\"",
          "Samsung 55 class 4k (2160p) smart led tv (un55ku7000)\"",
          "Sony - 55 class - led - x800e series - 2160p - smart - 4k uhd tv with hdr\"",
          "Sony - 55 class - oled - a1e series - 2160p - smart - 4k uhd tv with hdr\""
         ],
         "xaxis": "x",
         "y": [
          2,
          2,
          9,
          1,
          6,
          2
         ],
         "yaxis": "y"
        },
        {
         "alignmentgroup": "True",
         "hovertemplate": "Merchant=Walmart.com<br>Name=%{x}<br>Count=%{y}<extra></extra>",
         "legendgroup": "Walmart.com",
         "marker": {
          "color": "#B6E880"
         },
         "name": "Walmart.com",
         "offsetgroup": "Walmart.com",
         "orientation": "v",
         "showlegend": true,
         "textposition": "auto",
         "type": "bar",
         "x": [
          "Lg - 55 class - led - uj7700 series - 2160p - smart - 4k uhd tv with hdr\"",
          "Samsung - 55 class - led - curved - mu6490 series - 2160p - smart - 4k ultra hd tv with hdr\"",
          "Samsung - 55 class - led - curved - q7c series - 2160p - smart - 4k uhd tv with hdr\"",
          "Samsung - 55 class - led - q8f series - 2160p - smart - 4k uhd tv with hdr\"",
          "Sony - 55 class - led - x800e series - 2160p - smart - 4k uhd tv with hdr\""
         ],
         "xaxis": "x",
         "y": [
          3,
          5,
          7,
          2,
          3
         ],
         "yaxis": "y"
        },
        {
         "alignmentgroup": "True",
         "hovertemplate": "Merchant=bhphotovideo.com<br>Name=%{x}<br>Count=%{y}<extra></extra>",
         "legendgroup": "bhphotovideo.com",
         "marker": {
          "color": "#FF97FF"
         },
         "name": "bhphotovideo.com",
         "offsetgroup": "bhphotovideo.com",
         "orientation": "v",
         "showlegend": true,
         "textposition": "auto",
         "type": "bar",
         "x": [
          "Lg - 55 class - led - uj7700 series - 2160p - smart - 4k uhd tv with hdr\"",
          "Samsung - 55 class - led - curved - mu6490 series - 2160p - smart - 4k ultra hd tv with hdr\"",
          "Samsung - 55 class - led - curved - q7c series - 2160p - smart - 4k uhd tv with hdr\"",
          "Samsung - 55 class - led - q8f series - 2160p - smart - 4k uhd tv with hdr\"",
          "Sony - 55 class - led - x800e series - 2160p - smart - 4k uhd tv with hdr\"",
          "Sony - 55 class - oled - a1e series - 2160p - smart - 4k uhd tv with hdr\"",
          "X900f-series 55-class hdr uhd smart led tv"
         ],
         "xaxis": "x",
         "y": [
          1,
          3,
          7,
          3,
          4,
          4,
          2
         ],
         "yaxis": "y"
        },
        {
         "alignmentgroup": "True",
         "hovertemplate": "Merchant=Video & Audio Center<br>Name=%{x}<br>Count=%{y}<extra></extra>",
         "legendgroup": "Video & Audio Center",
         "marker": {
          "color": "#FECB52"
         },
         "name": "Video & Audio Center",
         "offsetgroup": "Video & Audio Center",
         "orientation": "v",
         "showlegend": true,
         "textposition": "auto",
         "type": "bar",
         "x": [
          "Samsung - 55 class - led - curved - mu6490 series - 2160p - smart - 4k ultra hd tv with hdr\"",
          "Sony - 55 class - oled - a1e series - 2160p - smart - 4k uhd tv with hdr\"",
          "Sony xbr55x700d 55-inch 4k ultra hd smart led tv (2016 model)"
         ],
         "xaxis": "x",
         "y": [
          1,
          1,
          2
         ],
         "yaxis": "y"
        },
        {
         "alignmentgroup": "True",
         "hovertemplate": "Merchant=echo-and-optics<br>Name=%{x}<br>Count=%{y}<extra></extra>",
         "legendgroup": "echo-and-optics",
         "marker": {
          "color": "#636efa"
         },
         "name": "echo-and-optics",
         "offsetgroup": "echo-and-optics",
         "orientation": "v",
         "showlegend": true,
         "textposition": "auto",
         "type": "bar",
         "x": [
          "Samsung - 55 class - led - curved - q7c series - 2160p - smart - 4k uhd tv with hdr\"",
          "Sony - 55 class - led - x800e series - 2160p - smart - 4k uhd tv with hdr\"",
          "Sony - 55 class - oled - a1e series - 2160p - smart - 4k uhd tv with hdr\""
         ],
         "xaxis": "x",
         "y": [
          2,
          1,
          4
         ],
         "yaxis": "y"
        },
        {
         "alignmentgroup": "True",
         "hovertemplate": "Merchant=electronic_express<br>Name=%{x}<br>Count=%{y}<extra></extra>",
         "legendgroup": "electronic_express",
         "marker": {
          "color": "#EF553B"
         },
         "name": "electronic_express",
         "offsetgroup": "electronic_express",
         "orientation": "v",
         "showlegend": true,
         "textposition": "auto",
         "type": "bar",
         "x": [
          "Samsung - 55 class - led - curved - q7c series - 2160p - smart - 4k uhd tv with hdr\"",
          "Sony - 55 class - led - x800e series - 2160p - smart - 4k uhd tv with hdr\""
         ],
         "xaxis": "x",
         "y": [
          1,
          2
         ],
         "yaxis": "y"
        },
        {
         "alignmentgroup": "True",
         "hovertemplate": "Merchant=gear4less<br>Name=%{x}<br>Count=%{y}<extra></extra>",
         "legendgroup": "gear4less",
         "marker": {
          "color": "#00cc96"
         },
         "name": "gear4less",
         "offsetgroup": "gear4less",
         "orientation": "v",
         "showlegend": true,
         "textposition": "auto",
         "type": "bar",
         "x": [
          "Samsung - 55 class - led - curved - q7c series - 2160p - smart - 4k uhd tv with hdr\""
         ],
         "xaxis": "x",
         "y": [
          6
         ],
         "yaxis": "y"
        },
        {
         "alignmentgroup": "True",
         "hovertemplate": "Merchant=onecall<br>Name=%{x}<br>Count=%{y}<extra></extra>",
         "legendgroup": "onecall",
         "marker": {
          "color": "#ab63fa"
         },
         "name": "onecall",
         "offsetgroup": "onecall",
         "orientation": "v",
         "showlegend": true,
         "textposition": "auto",
         "type": "bar",
         "x": [
          "Samsung - 55 class - led - curved - q7c series - 2160p - smart - 4k uhd tv with hdr\""
         ],
         "xaxis": "x",
         "y": [
          1
         ],
         "yaxis": "y"
        },
        {
         "alignmentgroup": "True",
         "hovertemplate": "Merchant=waltstv<br>Name=%{x}<br>Count=%{y}<extra></extra>",
         "legendgroup": "waltstv",
         "marker": {
          "color": "#FFA15A"
         },
         "name": "waltstv",
         "offsetgroup": "waltstv",
         "orientation": "v",
         "showlegend": true,
         "textposition": "auto",
         "type": "bar",
         "x": [
          "Samsung - 55 class - led - curved - q7c series - 2160p - smart - 4k uhd tv with hdr\""
         ],
         "xaxis": "x",
         "y": [
          1
         ],
         "yaxis": "y"
        },
        {
         "alignmentgroup": "True",
         "hovertemplate": "Merchant=wwstereo<br>Name=%{x}<br>Count=%{y}<extra></extra>",
         "legendgroup": "wwstereo",
         "marker": {
          "color": "#19d3f3"
         },
         "name": "wwstereo",
         "offsetgroup": "wwstereo",
         "orientation": "v",
         "showlegend": true,
         "textposition": "auto",
         "type": "bar",
         "x": [
          "Samsung - 55 class - led - curved - q7c series - 2160p - smart - 4k uhd tv with hdr\"",
          "Sony - 55 class - oled - a1e series - 2160p - smart - 4k uhd tv with hdr\""
         ],
         "xaxis": "x",
         "y": [
          1,
          1
         ],
         "yaxis": "y"
        },
        {
         "alignmentgroup": "True",
         "hovertemplate": "Merchant=buydig<br>Name=%{x}<br>Count=%{y}<extra></extra>",
         "legendgroup": "buydig",
         "marker": {
          "color": "#FF6692"
         },
         "name": "buydig",
         "offsetgroup": "buydig",
         "orientation": "v",
         "showlegend": true,
         "textposition": "auto",
         "type": "bar",
         "x": [
          "Samsung 55 class 4k (2160p) smart led tv (un55ku7000)\"",
          "Sony - 55 class - led - x800e series - 2160p - smart - 4k uhd tv with hdr\""
         ],
         "xaxis": "x",
         "y": [
          1,
          4
         ],
         "yaxis": "y"
        },
        {
         "alignmentgroup": "True",
         "hovertemplate": "Merchant=SaveCentral, LLC<br>Name=%{x}<br>Count=%{y}<extra></extra>",
         "legendgroup": "SaveCentral, LLC",
         "marker": {
          "color": "#B6E880"
         },
         "name": "SaveCentral, LLC",
         "offsetgroup": "SaveCentral, LLC",
         "orientation": "v",
         "showlegend": true,
         "textposition": "auto",
         "type": "bar",
         "x": [
          "Sony - 55 class - led - x800e series - 2160p - smart - 4k uhd tv with hdr\""
         ],
         "xaxis": "x",
         "y": [
          1
         ],
         "yaxis": "y"
        },
        {
         "alignmentgroup": "True",
         "hovertemplate": "Merchant=World Wide Stereo<br>Name=%{x}<br>Count=%{y}<extra></extra>",
         "legendgroup": "World Wide Stereo",
         "marker": {
          "color": "#FF97FF"
         },
         "name": "World Wide Stereo",
         "offsetgroup": "World Wide Stereo",
         "orientation": "v",
         "showlegend": true,
         "textposition": "auto",
         "type": "bar",
         "x": [
          "Sony - 55 class - led - x800e series - 2160p - smart - 4k uhd tv with hdr\"",
          "X900f-series 55-class hdr uhd smart led tv"
         ],
         "xaxis": "x",
         "y": [
          1,
          2
         ],
         "yaxis": "y"
        },
        {
         "alignmentgroup": "True",
         "hovertemplate": "Merchant=brandsmartusa<br>Name=%{x}<br>Count=%{y}<extra></extra>",
         "legendgroup": "brandsmartusa",
         "marker": {
          "color": "#FECB52"
         },
         "name": "brandsmartusa",
         "offsetgroup": "brandsmartusa",
         "orientation": "v",
         "showlegend": true,
         "textposition": "auto",
         "type": "bar",
         "x": [
          "Sony - 55 class - led - x800e series - 2160p - smart - 4k uhd tv with hdr\"",
          "Sony xbr55x700d 55-inch 4k ultra hd smart led tv (2016 model)"
         ],
         "xaxis": "x",
         "y": [
          1,
          1
         ],
         "yaxis": "y"
        },
        {
         "alignmentgroup": "True",
         "hovertemplate": "Merchant=kourke<br>Name=%{x}<br>Count=%{y}<extra></extra>",
         "legendgroup": "kourke",
         "marker": {
          "color": "#636efa"
         },
         "name": "kourke",
         "offsetgroup": "kourke",
         "orientation": "v",
         "showlegend": true,
         "textposition": "auto",
         "type": "bar",
         "x": [
          "Sony - 55 class - led - x800e series - 2160p - smart - 4k uhd tv with hdr\""
         ],
         "xaxis": "x",
         "y": [
          1
         ],
         "yaxis": "y"
        },
        {
         "alignmentgroup": "True",
         "hovertemplate": "Merchant=videoandaudiocenter<br>Name=%{x}<br>Count=%{y}<extra></extra>",
         "legendgroup": "videoandaudiocenter",
         "marker": {
          "color": "#EF553B"
         },
         "name": "videoandaudiocenter",
         "offsetgroup": "videoandaudiocenter",
         "orientation": "v",
         "showlegend": true,
         "textposition": "auto",
         "type": "bar",
         "x": [
          "Sony - 55 class - led - x800e series - 2160p - smart - 4k uhd tv with hdr\"",
          "Sony xbr55x700d 55-inch 4k ultra hd smart led tv (2016 model)"
         ],
         "xaxis": "x",
         "y": [
          1,
          2
         ],
         "yaxis": "y"
        },
        {
         "alignmentgroup": "True",
         "hovertemplate": "Merchant=Dell.com<br>Name=%{x}<br>Count=%{y}<extra></extra>",
         "legendgroup": "Dell.com",
         "marker": {
          "color": "#00cc96"
         },
         "name": "Dell.com",
         "offsetgroup": "Dell.com",
         "orientation": "v",
         "showlegend": true,
         "textposition": "auto",
         "type": "bar",
         "x": [
          "Sony - 55 class - oled - a1e series - 2160p - smart - 4k uhd tv with hdr\""
         ],
         "xaxis": "x",
         "y": [
          1
         ],
         "yaxis": "y"
        },
        {
         "alignmentgroup": "True",
         "hovertemplate": "Merchant=Focus Camera<br>Name=%{x}<br>Count=%{y}<extra></extra>",
         "legendgroup": "Focus Camera",
         "marker": {
          "color": "#ab63fa"
         },
         "name": "Focus Camera",
         "offsetgroup": "Focus Camera",
         "orientation": "v",
         "showlegend": true,
         "textposition": "auto",
         "type": "bar",
         "x": [
          "Sony - 55 class - oled - a1e series - 2160p - smart - 4k uhd tv with hdr\""
         ],
         "xaxis": "x",
         "y": [
          1
         ],
         "yaxis": "y"
        },
        {
         "alignmentgroup": "True",
         "hovertemplate": "Merchant=OneCall<br>Name=%{x}<br>Count=%{y}<extra></extra>",
         "legendgroup": "OneCall",
         "marker": {
          "color": "#FFA15A"
         },
         "name": "OneCall",
         "offsetgroup": "OneCall",
         "orientation": "v",
         "showlegend": true,
         "textposition": "auto",
         "type": "bar",
         "x": [
          "Sony - 55 class - oled - a1e series - 2160p - smart - 4k uhd tv with hdr\"",
          "Sony xbr55x700d 55-inch 4k ultra hd smart led tv (2016 model)"
         ],
         "xaxis": "x",
         "y": [
          3,
          1
         ],
         "yaxis": "y"
        },
        {
         "alignmentgroup": "True",
         "hovertemplate": "Merchant=electronicsliquidators<br>Name=%{x}<br>Count=%{y}<extra></extra>",
         "legendgroup": "electronicsliquidators",
         "marker": {
          "color": "#19d3f3"
         },
         "name": "electronicsliquidators",
         "offsetgroup": "electronicsliquidators",
         "orientation": "v",
         "showlegend": true,
         "textposition": "auto",
         "type": "bar",
         "x": [
          "Sony - 55 class - oled - a1e series - 2160p - smart - 4k uhd tv with hdr\"",
          "Sony xbr55x700d 55-inch 4k ultra hd smart led tv (2016 model)"
         ],
         "xaxis": "x",
         "y": [
          1,
          1
         ],
         "yaxis": "y"
        },
        {
         "alignmentgroup": "True",
         "hovertemplate": "Merchant=gearbrokers<br>Name=%{x}<br>Count=%{y}<extra></extra>",
         "legendgroup": "gearbrokers",
         "marker": {
          "color": "#FF6692"
         },
         "name": "gearbrokers",
         "offsetgroup": "gearbrokers",
         "orientation": "v",
         "showlegend": true,
         "textposition": "auto",
         "type": "bar",
         "x": [
          "Sony - 55 class - oled - a1e series - 2160p - smart - 4k uhd tv with hdr\"",
          "Sony xbr55x700d 55-inch 4k ultra hd smart led tv (2016 model)"
         ],
         "xaxis": "x",
         "y": [
          1,
          1
         ],
         "yaxis": "y"
        },
        {
         "alignmentgroup": "True",
         "hovertemplate": "Merchant=teampsales<br>Name=%{x}<br>Count=%{y}<extra></extra>",
         "legendgroup": "teampsales",
         "marker": {
          "color": "#B6E880"
         },
         "name": "teampsales",
         "offsetgroup": "teampsales",
         "orientation": "v",
         "showlegend": true,
         "textposition": "auto",
         "type": "bar",
         "x": [
          "Sony xbr55x700d 55-inch 4k ultra hd smart led tv (2016 model)"
         ],
         "xaxis": "x",
         "y": [
          1
         ],
         "yaxis": "y"
        }
       ],
       "layout": {
        "barmode": "relative",
        "legend": {
         "title": {
          "text": "Merchant"
         },
         "tracegroupgap": 0
        },
        "template": {
         "data": {
          "bar": [
           {
            "error_x": {
             "color": "#2a3f5f"
            },
            "error_y": {
             "color": "#2a3f5f"
            },
            "marker": {
             "line": {
              "color": "#E5ECF6",
              "width": 0.5
             }
            },
            "type": "bar"
           }
          ],
          "barpolar": [
           {
            "marker": {
             "line": {
              "color": "#E5ECF6",
              "width": 0.5
             }
            },
            "type": "barpolar"
           }
          ],
          "carpet": [
           {
            "aaxis": {
             "endlinecolor": "#2a3f5f",
             "gridcolor": "white",
             "linecolor": "white",
             "minorgridcolor": "white",
             "startlinecolor": "#2a3f5f"
            },
            "baxis": {
             "endlinecolor": "#2a3f5f",
             "gridcolor": "white",
             "linecolor": "white",
             "minorgridcolor": "white",
             "startlinecolor": "#2a3f5f"
            },
            "type": "carpet"
           }
          ],
          "choropleth": [
           {
            "colorbar": {
             "outlinewidth": 0,
             "ticks": ""
            },
            "type": "choropleth"
           }
          ],
          "contour": [
           {
            "colorbar": {
             "outlinewidth": 0,
             "ticks": ""
            },
            "colorscale": [
             [
              0,
              "#0d0887"
             ],
             [
              0.1111111111111111,
              "#46039f"
             ],
             [
              0.2222222222222222,
              "#7201a8"
             ],
             [
              0.3333333333333333,
              "#9c179e"
             ],
             [
              0.4444444444444444,
              "#bd3786"
             ],
             [
              0.5555555555555556,
              "#d8576b"
             ],
             [
              0.6666666666666666,
              "#ed7953"
             ],
             [
              0.7777777777777778,
              "#fb9f3a"
             ],
             [
              0.8888888888888888,
              "#fdca26"
             ],
             [
              1,
              "#f0f921"
             ]
            ],
            "type": "contour"
           }
          ],
          "contourcarpet": [
           {
            "colorbar": {
             "outlinewidth": 0,
             "ticks": ""
            },
            "type": "contourcarpet"
           }
          ],
          "heatmap": [
           {
            "colorbar": {
             "outlinewidth": 0,
             "ticks": ""
            },
            "colorscale": [
             [
              0,
              "#0d0887"
             ],
             [
              0.1111111111111111,
              "#46039f"
             ],
             [
              0.2222222222222222,
              "#7201a8"
             ],
             [
              0.3333333333333333,
              "#9c179e"
             ],
             [
              0.4444444444444444,
              "#bd3786"
             ],
             [
              0.5555555555555556,
              "#d8576b"
             ],
             [
              0.6666666666666666,
              "#ed7953"
             ],
             [
              0.7777777777777778,
              "#fb9f3a"
             ],
             [
              0.8888888888888888,
              "#fdca26"
             ],
             [
              1,
              "#f0f921"
             ]
            ],
            "type": "heatmap"
           }
          ],
          "heatmapgl": [
           {
            "colorbar": {
             "outlinewidth": 0,
             "ticks": ""
            },
            "colorscale": [
             [
              0,
              "#0d0887"
             ],
             [
              0.1111111111111111,
              "#46039f"
             ],
             [
              0.2222222222222222,
              "#7201a8"
             ],
             [
              0.3333333333333333,
              "#9c179e"
             ],
             [
              0.4444444444444444,
              "#bd3786"
             ],
             [
              0.5555555555555556,
              "#d8576b"
             ],
             [
              0.6666666666666666,
              "#ed7953"
             ],
             [
              0.7777777777777778,
              "#fb9f3a"
             ],
             [
              0.8888888888888888,
              "#fdca26"
             ],
             [
              1,
              "#f0f921"
             ]
            ],
            "type": "heatmapgl"
           }
          ],
          "histogram": [
           {
            "marker": {
             "colorbar": {
              "outlinewidth": 0,
              "ticks": ""
             }
            },
            "type": "histogram"
           }
          ],
          "histogram2d": [
           {
            "colorbar": {
             "outlinewidth": 0,
             "ticks": ""
            },
            "colorscale": [
             [
              0,
              "#0d0887"
             ],
             [
              0.1111111111111111,
              "#46039f"
             ],
             [
              0.2222222222222222,
              "#7201a8"
             ],
             [
              0.3333333333333333,
              "#9c179e"
             ],
             [
              0.4444444444444444,
              "#bd3786"
             ],
             [
              0.5555555555555556,
              "#d8576b"
             ],
             [
              0.6666666666666666,
              "#ed7953"
             ],
             [
              0.7777777777777778,
              "#fb9f3a"
             ],
             [
              0.8888888888888888,
              "#fdca26"
             ],
             [
              1,
              "#f0f921"
             ]
            ],
            "type": "histogram2d"
           }
          ],
          "histogram2dcontour": [
           {
            "colorbar": {
             "outlinewidth": 0,
             "ticks": ""
            },
            "colorscale": [
             [
              0,
              "#0d0887"
             ],
             [
              0.1111111111111111,
              "#46039f"
             ],
             [
              0.2222222222222222,
              "#7201a8"
             ],
             [
              0.3333333333333333,
              "#9c179e"
             ],
             [
              0.4444444444444444,
              "#bd3786"
             ],
             [
              0.5555555555555556,
              "#d8576b"
             ],
             [
              0.6666666666666666,
              "#ed7953"
             ],
             [
              0.7777777777777778,
              "#fb9f3a"
             ],
             [
              0.8888888888888888,
              "#fdca26"
             ],
             [
              1,
              "#f0f921"
             ]
            ],
            "type": "histogram2dcontour"
           }
          ],
          "mesh3d": [
           {
            "colorbar": {
             "outlinewidth": 0,
             "ticks": ""
            },
            "type": "mesh3d"
           }
          ],
          "parcoords": [
           {
            "line": {
             "colorbar": {
              "outlinewidth": 0,
              "ticks": ""
             }
            },
            "type": "parcoords"
           }
          ],
          "pie": [
           {
            "automargin": true,
            "type": "pie"
           }
          ],
          "scatter": [
           {
            "marker": {
             "colorbar": {
              "outlinewidth": 0,
              "ticks": ""
             }
            },
            "type": "scatter"
           }
          ],
          "scatter3d": [
           {
            "line": {
             "colorbar": {
              "outlinewidth": 0,
              "ticks": ""
             }
            },
            "marker": {
             "colorbar": {
              "outlinewidth": 0,
              "ticks": ""
             }
            },
            "type": "scatter3d"
           }
          ],
          "scattercarpet": [
           {
            "marker": {
             "colorbar": {
              "outlinewidth": 0,
              "ticks": ""
             }
            },
            "type": "scattercarpet"
           }
          ],
          "scattergeo": [
           {
            "marker": {
             "colorbar": {
              "outlinewidth": 0,
              "ticks": ""
             }
            },
            "type": "scattergeo"
           }
          ],
          "scattergl": [
           {
            "marker": {
             "colorbar": {
              "outlinewidth": 0,
              "ticks": ""
             }
            },
            "type": "scattergl"
           }
          ],
          "scattermapbox": [
           {
            "marker": {
             "colorbar": {
              "outlinewidth": 0,
              "ticks": ""
             }
            },
            "type": "scattermapbox"
           }
          ],
          "scatterpolar": [
           {
            "marker": {
             "colorbar": {
              "outlinewidth": 0,
              "ticks": ""
             }
            },
            "type": "scatterpolar"
           }
          ],
          "scatterpolargl": [
           {
            "marker": {
             "colorbar": {
              "outlinewidth": 0,
              "ticks": ""
             }
            },
            "type": "scatterpolargl"
           }
          ],
          "scatterternary": [
           {
            "marker": {
             "colorbar": {
              "outlinewidth": 0,
              "ticks": ""
             }
            },
            "type": "scatterternary"
           }
          ],
          "surface": [
           {
            "colorbar": {
             "outlinewidth": 0,
             "ticks": ""
            },
            "colorscale": [
             [
              0,
              "#0d0887"
             ],
             [
              0.1111111111111111,
              "#46039f"
             ],
             [
              0.2222222222222222,
              "#7201a8"
             ],
             [
              0.3333333333333333,
              "#9c179e"
             ],
             [
              0.4444444444444444,
              "#bd3786"
             ],
             [
              0.5555555555555556,
              "#d8576b"
             ],
             [
              0.6666666666666666,
              "#ed7953"
             ],
             [
              0.7777777777777778,
              "#fb9f3a"
             ],
             [
              0.8888888888888888,
              "#fdca26"
             ],
             [
              1,
              "#f0f921"
             ]
            ],
            "type": "surface"
           }
          ],
          "table": [
           {
            "cells": {
             "fill": {
              "color": "#EBF0F8"
             },
             "line": {
              "color": "white"
             }
            },
            "header": {
             "fill": {
              "color": "#C8D4E3"
             },
             "line": {
              "color": "white"
             }
            },
            "type": "table"
           }
          ]
         },
         "layout": {
          "annotationdefaults": {
           "arrowcolor": "#2a3f5f",
           "arrowhead": 0,
           "arrowwidth": 1
          },
          "coloraxis": {
           "colorbar": {
            "outlinewidth": 0,
            "ticks": ""
           }
          },
          "colorscale": {
           "diverging": [
            [
             0,
             "#8e0152"
            ],
            [
             0.1,
             "#c51b7d"
            ],
            [
             0.2,
             "#de77ae"
            ],
            [
             0.3,
             "#f1b6da"
            ],
            [
             0.4,
             "#fde0ef"
            ],
            [
             0.5,
             "#f7f7f7"
            ],
            [
             0.6,
             "#e6f5d0"
            ],
            [
             0.7,
             "#b8e186"
            ],
            [
             0.8,
             "#7fbc41"
            ],
            [
             0.9,
             "#4d9221"
            ],
            [
             1,
             "#276419"
            ]
           ],
           "sequential": [
            [
             0,
             "#0d0887"
            ],
            [
             0.1111111111111111,
             "#46039f"
            ],
            [
             0.2222222222222222,
             "#7201a8"
            ],
            [
             0.3333333333333333,
             "#9c179e"
            ],
            [
             0.4444444444444444,
             "#bd3786"
            ],
            [
             0.5555555555555556,
             "#d8576b"
            ],
            [
             0.6666666666666666,
             "#ed7953"
            ],
            [
             0.7777777777777778,
             "#fb9f3a"
            ],
            [
             0.8888888888888888,
             "#fdca26"
            ],
            [
             1,
             "#f0f921"
            ]
           ],
           "sequentialminus": [
            [
             0,
             "#0d0887"
            ],
            [
             0.1111111111111111,
             "#46039f"
            ],
            [
             0.2222222222222222,
             "#7201a8"
            ],
            [
             0.3333333333333333,
             "#9c179e"
            ],
            [
             0.4444444444444444,
             "#bd3786"
            ],
            [
             0.5555555555555556,
             "#d8576b"
            ],
            [
             0.6666666666666666,
             "#ed7953"
            ],
            [
             0.7777777777777778,
             "#fb9f3a"
            ],
            [
             0.8888888888888888,
             "#fdca26"
            ],
            [
             1,
             "#f0f921"
            ]
           ]
          },
          "colorway": [
           "#636efa",
           "#EF553B",
           "#00cc96",
           "#ab63fa",
           "#FFA15A",
           "#19d3f3",
           "#FF6692",
           "#B6E880",
           "#FF97FF",
           "#FECB52"
          ],
          "font": {
           "color": "#2a3f5f"
          },
          "geo": {
           "bgcolor": "white",
           "lakecolor": "white",
           "landcolor": "#E5ECF6",
           "showlakes": true,
           "showland": true,
           "subunitcolor": "white"
          },
          "hoverlabel": {
           "align": "left"
          },
          "hovermode": "closest",
          "mapbox": {
           "style": "light"
          },
          "paper_bgcolor": "white",
          "plot_bgcolor": "#E5ECF6",
          "polar": {
           "angularaxis": {
            "gridcolor": "white",
            "linecolor": "white",
            "ticks": ""
           },
           "bgcolor": "#E5ECF6",
           "radialaxis": {
            "gridcolor": "white",
            "linecolor": "white",
            "ticks": ""
           }
          },
          "scene": {
           "xaxis": {
            "backgroundcolor": "#E5ECF6",
            "gridcolor": "white",
            "gridwidth": 2,
            "linecolor": "white",
            "showbackground": true,
            "ticks": "",
            "zerolinecolor": "white"
           },
           "yaxis": {
            "backgroundcolor": "#E5ECF6",
            "gridcolor": "white",
            "gridwidth": 2,
            "linecolor": "white",
            "showbackground": true,
            "ticks": "",
            "zerolinecolor": "white"
           },
           "zaxis": {
            "backgroundcolor": "#E5ECF6",
            "gridcolor": "white",
            "gridwidth": 2,
            "linecolor": "white",
            "showbackground": true,
            "ticks": "",
            "zerolinecolor": "white"
           }
          },
          "shapedefaults": {
           "line": {
            "color": "#2a3f5f"
           }
          },
          "ternary": {
           "aaxis": {
            "gridcolor": "white",
            "linecolor": "white",
            "ticks": ""
           },
           "baxis": {
            "gridcolor": "white",
            "linecolor": "white",
            "ticks": ""
           },
           "bgcolor": "#E5ECF6",
           "caxis": {
            "gridcolor": "white",
            "linecolor": "white",
            "ticks": ""
           }
          },
          "title": {
           "x": 0.05
          },
          "xaxis": {
           "automargin": true,
           "gridcolor": "white",
           "linecolor": "white",
           "ticks": "",
           "title": {
            "standoff": 15
           },
           "zerolinecolor": "white",
           "zerolinewidth": 2
          },
          "yaxis": {
           "automargin": true,
           "gridcolor": "white",
           "linecolor": "white",
           "ticks": "",
           "title": {
            "standoff": 15
           },
           "zerolinecolor": "white",
           "zerolinewidth": 2
          }
         }
        },
        "title": {
         "text": "Product Availability across Merchants/Platform"
        },
        "xaxis": {
         "anchor": "y",
         "domain": [
          0,
          1
         ],
         "title": {
          "text": "Name"
         }
        },
        "yaxis": {
         "anchor": "x",
         "domain": [
          0,
          1
         ],
         "title": {
          "text": "Count"
         }
        }
       }
      },
      "text/html": [
       "<div>\n",
       "        \n",
       "        \n",
       "            <div id=\"176da0b1-5ef9-4df4-a632-9d834bada20c\" class=\"plotly-graph-div\" style=\"height:525px; width:100%;\"></div>\n",
       "            <script type=\"text/javascript\">\n",
       "                require([\"plotly\"], function(Plotly) {\n",
       "                    window.PLOTLYENV=window.PLOTLYENV || {};\n",
       "                    \n",
       "                if (document.getElementById(\"176da0b1-5ef9-4df4-a632-9d834bada20c\")) {\n",
       "                    Plotly.newPlot(\n",
       "                        '176da0b1-5ef9-4df4-a632-9d834bada20c',\n",
       "                        [{\"alignmentgroup\": \"True\", \"hovertemplate\": \"Merchant=1 Stop Electronics Center, Inc.<br>Name=%{x}<br>Count=%{y}<extra></extra>\", \"legendgroup\": \"1 Stop Electronics Center, Inc.\", \"marker\": {\"color\": \"#636efa\"}, \"name\": \"1 Stop Electronics Center, Inc.\", \"offsetgroup\": \"1 Stop Electronics Center, Inc.\", \"orientation\": \"v\", \"showlegend\": true, \"textposition\": \"auto\", \"type\": \"bar\", \"x\": [\"Hisense - 55 class - led - h8 series - 2160p - smart - 4k uhd tv with hdr\\\"\"], \"xaxis\": \"x\", \"y\": [1], \"yaxis\": \"y\"}, {\"alignmentgroup\": \"True\", \"hovertemplate\": \"Merchant=Beach Audio Inc<br>Name=%{x}<br>Count=%{y}<extra></extra>\", \"legendgroup\": \"Beach Audio Inc\", \"marker\": {\"color\": \"#EF553B\"}, \"name\": \"Beach Audio Inc\", \"offsetgroup\": \"Beach Audio Inc\", \"orientation\": \"v\", \"showlegend\": true, \"textposition\": \"auto\", \"type\": \"bar\", \"x\": [\"Hisense - 55 class - led - h8 series - 2160p - smart - 4k uhd tv with hdr\\\"\"], \"xaxis\": \"x\", \"y\": [1], \"yaxis\": \"y\"}, {\"alignmentgroup\": \"True\", \"hovertemplate\": \"Merchant=Bestbuy.com<br>Name=%{x}<br>Count=%{y}<extra></extra>\", \"legendgroup\": \"Bestbuy.com\", \"marker\": {\"color\": \"#00cc96\"}, \"name\": \"Bestbuy.com\", \"offsetgroup\": \"Bestbuy.com\", \"orientation\": \"v\", \"showlegend\": true, \"textposition\": \"auto\", \"type\": \"bar\", \"x\": [\"Hisense - 55 class - led - h8 series - 2160p - smart - 4k uhd tv with hdr\\\"\", \"Hisense - 55 class - led - h9 series - 2160p - smart - 4k uhd tv with hdr\\\"\", \"Lg - 55 class - led - uj7700 series - 2160p - smart - 4k uhd tv with hdr\\\"\", \"Samsung - 55 class - led - curved - mu6490 series - 2160p - smart - 4k ultra hd tv with hdr\\\"\", \"Samsung - 55 class - led - curved - q7c series - 2160p - smart - 4k uhd tv with hdr\\\"\", \"Samsung - 55 class - led - q8f series - 2160p - smart - 4k uhd tv with hdr\\\"\", \"Samsung 55 class 4k (2160p) smart led tv (un55ku7000)\\\"\", \"Sony - 55 class - led - x800e series - 2160p - smart - 4k uhd tv with hdr\\\"\", \"Sony - 55 class - oled - a1e series - 2160p - smart - 4k uhd tv with hdr\\\"\", \"X900f-series 55-class hdr uhd smart led tv\"], \"xaxis\": \"x\", \"y\": [3, 3, 2, 2, 4, 2, 4, 7, 6, 2], \"yaxis\": \"y\"}, {\"alignmentgroup\": \"True\", \"hovertemplate\": \"Merchant=Hisense USA Corporation<br>Name=%{x}<br>Count=%{y}<extra></extra>\", \"legendgroup\": \"Hisense USA Corporation\", \"marker\": {\"color\": \"#ab63fa\"}, \"name\": \"Hisense USA Corporation\", \"offsetgroup\": \"Hisense USA Corporation\", \"orientation\": \"v\", \"showlegend\": true, \"textposition\": \"auto\", \"type\": \"bar\", \"x\": [\"Hisense - 55 class - led - h8 series - 2160p - smart - 4k uhd tv with hdr\\\"\", \"Hisense - 55 class - led - h9 series - 2160p - smart - 4k uhd tv with hdr\\\"\"], \"xaxis\": \"x\", \"y\": [2, 2], \"yaxis\": \"y\"}, {\"alignmentgroup\": \"True\", \"hovertemplate\": \"Merchant=beachaudio<br>Name=%{x}<br>Count=%{y}<extra></extra>\", \"legendgroup\": \"beachaudio\", \"marker\": {\"color\": \"#FFA15A\"}, \"name\": \"beachaudio\", \"offsetgroup\": \"beachaudio\", \"orientation\": \"v\", \"showlegend\": true, \"textposition\": \"auto\", \"type\": \"bar\", \"x\": [\"Hisense - 55 class - led - h8 series - 2160p - smart - 4k uhd tv with hdr\\\"\"], \"xaxis\": \"x\", \"y\": [1], \"yaxis\": \"y\"}, {\"alignmentgroup\": \"True\", \"hovertemplate\": \"Merchant=savecentral-outlet<br>Name=%{x}<br>Count=%{y}<extra></extra>\", \"legendgroup\": \"savecentral-outlet\", \"marker\": {\"color\": \"#19d3f3\"}, \"name\": \"savecentral-outlet\", \"offsetgroup\": \"savecentral-outlet\", \"orientation\": \"v\", \"showlegend\": true, \"textposition\": \"auto\", \"type\": \"bar\", \"x\": [\"Hisense - 55 class - led - h8 series - 2160p - smart - 4k uhd tv with hdr\\\"\", \"Sony xbr55x700d 55-inch 4k ultra hd smart led tv (2016 model)\"], \"xaxis\": \"x\", \"y\": [1, 1], \"yaxis\": \"y\"}, {\"alignmentgroup\": \"True\", \"hovertemplate\": \"Merchant=Beach Camera<br>Name=%{x}<br>Count=%{y}<extra></extra>\", \"legendgroup\": \"Beach Camera\", \"marker\": {\"color\": \"#FF6692\"}, \"name\": \"Beach Camera\", \"offsetgroup\": \"Beach Camera\", \"orientation\": \"v\", \"showlegend\": true, \"textposition\": \"auto\", \"type\": \"bar\", \"x\": [\"Lg - 55 class - led - uj7700 series - 2160p - smart - 4k uhd tv with hdr\\\"\", \"Samsung - 55 class - led - curved - mu6490 series - 2160p - smart - 4k ultra hd tv with hdr\\\"\", \"Samsung - 55 class - led - curved - q7c series - 2160p - smart - 4k uhd tv with hdr\\\"\", \"Samsung 55 class 4k (2160p) smart led tv (un55ku7000)\\\"\", \"Sony - 55 class - led - x800e series - 2160p - smart - 4k uhd tv with hdr\\\"\", \"Sony - 55 class - oled - a1e series - 2160p - smart - 4k uhd tv with hdr\\\"\"], \"xaxis\": \"x\", \"y\": [2, 2, 9, 1, 6, 2], \"yaxis\": \"y\"}, {\"alignmentgroup\": \"True\", \"hovertemplate\": \"Merchant=Walmart.com<br>Name=%{x}<br>Count=%{y}<extra></extra>\", \"legendgroup\": \"Walmart.com\", \"marker\": {\"color\": \"#B6E880\"}, \"name\": \"Walmart.com\", \"offsetgroup\": \"Walmart.com\", \"orientation\": \"v\", \"showlegend\": true, \"textposition\": \"auto\", \"type\": \"bar\", \"x\": [\"Lg - 55 class - led - uj7700 series - 2160p - smart - 4k uhd tv with hdr\\\"\", \"Samsung - 55 class - led - curved - mu6490 series - 2160p - smart - 4k ultra hd tv with hdr\\\"\", \"Samsung - 55 class - led - curved - q7c series - 2160p - smart - 4k uhd tv with hdr\\\"\", \"Samsung - 55 class - led - q8f series - 2160p - smart - 4k uhd tv with hdr\\\"\", \"Sony - 55 class - led - x800e series - 2160p - smart - 4k uhd tv with hdr\\\"\"], \"xaxis\": \"x\", \"y\": [3, 5, 7, 2, 3], \"yaxis\": \"y\"}, {\"alignmentgroup\": \"True\", \"hovertemplate\": \"Merchant=bhphotovideo.com<br>Name=%{x}<br>Count=%{y}<extra></extra>\", \"legendgroup\": \"bhphotovideo.com\", \"marker\": {\"color\": \"#FF97FF\"}, \"name\": \"bhphotovideo.com\", \"offsetgroup\": \"bhphotovideo.com\", \"orientation\": \"v\", \"showlegend\": true, \"textposition\": \"auto\", \"type\": \"bar\", \"x\": [\"Lg - 55 class - led - uj7700 series - 2160p - smart - 4k uhd tv with hdr\\\"\", \"Samsung - 55 class - led - curved - mu6490 series - 2160p - smart - 4k ultra hd tv with hdr\\\"\", \"Samsung - 55 class - led - curved - q7c series - 2160p - smart - 4k uhd tv with hdr\\\"\", \"Samsung - 55 class - led - q8f series - 2160p - smart - 4k uhd tv with hdr\\\"\", \"Sony - 55 class - led - x800e series - 2160p - smart - 4k uhd tv with hdr\\\"\", \"Sony - 55 class - oled - a1e series - 2160p - smart - 4k uhd tv with hdr\\\"\", \"X900f-series 55-class hdr uhd smart led tv\"], \"xaxis\": \"x\", \"y\": [1, 3, 7, 3, 4, 4, 2], \"yaxis\": \"y\"}, {\"alignmentgroup\": \"True\", \"hovertemplate\": \"Merchant=Video & Audio Center<br>Name=%{x}<br>Count=%{y}<extra></extra>\", \"legendgroup\": \"Video & Audio Center\", \"marker\": {\"color\": \"#FECB52\"}, \"name\": \"Video & Audio Center\", \"offsetgroup\": \"Video & Audio Center\", \"orientation\": \"v\", \"showlegend\": true, \"textposition\": \"auto\", \"type\": \"bar\", \"x\": [\"Samsung - 55 class - led - curved - mu6490 series - 2160p - smart - 4k ultra hd tv with hdr\\\"\", \"Sony - 55 class - oled - a1e series - 2160p - smart - 4k uhd tv with hdr\\\"\", \"Sony xbr55x700d 55-inch 4k ultra hd smart led tv (2016 model)\"], \"xaxis\": \"x\", \"y\": [1, 1, 2], \"yaxis\": \"y\"}, {\"alignmentgroup\": \"True\", \"hovertemplate\": \"Merchant=echo-and-optics<br>Name=%{x}<br>Count=%{y}<extra></extra>\", \"legendgroup\": \"echo-and-optics\", \"marker\": {\"color\": \"#636efa\"}, \"name\": \"echo-and-optics\", \"offsetgroup\": \"echo-and-optics\", \"orientation\": \"v\", \"showlegend\": true, \"textposition\": \"auto\", \"type\": \"bar\", \"x\": [\"Samsung - 55 class - led - curved - q7c series - 2160p - smart - 4k uhd tv with hdr\\\"\", \"Sony - 55 class - led - x800e series - 2160p - smart - 4k uhd tv with hdr\\\"\", \"Sony - 55 class - oled - a1e series - 2160p - smart - 4k uhd tv with hdr\\\"\"], \"xaxis\": \"x\", \"y\": [2, 1, 4], \"yaxis\": \"y\"}, {\"alignmentgroup\": \"True\", \"hovertemplate\": \"Merchant=electronic_express<br>Name=%{x}<br>Count=%{y}<extra></extra>\", \"legendgroup\": \"electronic_express\", \"marker\": {\"color\": \"#EF553B\"}, \"name\": \"electronic_express\", \"offsetgroup\": \"electronic_express\", \"orientation\": \"v\", \"showlegend\": true, \"textposition\": \"auto\", \"type\": \"bar\", \"x\": [\"Samsung - 55 class - led - curved - q7c series - 2160p - smart - 4k uhd tv with hdr\\\"\", \"Sony - 55 class - led - x800e series - 2160p - smart - 4k uhd tv with hdr\\\"\"], \"xaxis\": \"x\", \"y\": [1, 2], \"yaxis\": \"y\"}, {\"alignmentgroup\": \"True\", \"hovertemplate\": \"Merchant=gear4less<br>Name=%{x}<br>Count=%{y}<extra></extra>\", \"legendgroup\": \"gear4less\", \"marker\": {\"color\": \"#00cc96\"}, \"name\": \"gear4less\", \"offsetgroup\": \"gear4less\", \"orientation\": \"v\", \"showlegend\": true, \"textposition\": \"auto\", \"type\": \"bar\", \"x\": [\"Samsung - 55 class - led - curved - q7c series - 2160p - smart - 4k uhd tv with hdr\\\"\"], \"xaxis\": \"x\", \"y\": [6], \"yaxis\": \"y\"}, {\"alignmentgroup\": \"True\", \"hovertemplate\": \"Merchant=onecall<br>Name=%{x}<br>Count=%{y}<extra></extra>\", \"legendgroup\": \"onecall\", \"marker\": {\"color\": \"#ab63fa\"}, \"name\": \"onecall\", \"offsetgroup\": \"onecall\", \"orientation\": \"v\", \"showlegend\": true, \"textposition\": \"auto\", \"type\": \"bar\", \"x\": [\"Samsung - 55 class - led - curved - q7c series - 2160p - smart - 4k uhd tv with hdr\\\"\"], \"xaxis\": \"x\", \"y\": [1], \"yaxis\": \"y\"}, {\"alignmentgroup\": \"True\", \"hovertemplate\": \"Merchant=waltstv<br>Name=%{x}<br>Count=%{y}<extra></extra>\", \"legendgroup\": \"waltstv\", \"marker\": {\"color\": \"#FFA15A\"}, \"name\": \"waltstv\", \"offsetgroup\": \"waltstv\", \"orientation\": \"v\", \"showlegend\": true, \"textposition\": \"auto\", \"type\": \"bar\", \"x\": [\"Samsung - 55 class - led - curved - q7c series - 2160p - smart - 4k uhd tv with hdr\\\"\"], \"xaxis\": \"x\", \"y\": [1], \"yaxis\": \"y\"}, {\"alignmentgroup\": \"True\", \"hovertemplate\": \"Merchant=wwstereo<br>Name=%{x}<br>Count=%{y}<extra></extra>\", \"legendgroup\": \"wwstereo\", \"marker\": {\"color\": \"#19d3f3\"}, \"name\": \"wwstereo\", \"offsetgroup\": \"wwstereo\", \"orientation\": \"v\", \"showlegend\": true, \"textposition\": \"auto\", \"type\": \"bar\", \"x\": [\"Samsung - 55 class - led - curved - q7c series - 2160p - smart - 4k uhd tv with hdr\\\"\", \"Sony - 55 class - oled - a1e series - 2160p - smart - 4k uhd tv with hdr\\\"\"], \"xaxis\": \"x\", \"y\": [1, 1], \"yaxis\": \"y\"}, {\"alignmentgroup\": \"True\", \"hovertemplate\": \"Merchant=buydig<br>Name=%{x}<br>Count=%{y}<extra></extra>\", \"legendgroup\": \"buydig\", \"marker\": {\"color\": \"#FF6692\"}, \"name\": \"buydig\", \"offsetgroup\": \"buydig\", \"orientation\": \"v\", \"showlegend\": true, \"textposition\": \"auto\", \"type\": \"bar\", \"x\": [\"Samsung 55 class 4k (2160p) smart led tv (un55ku7000)\\\"\", \"Sony - 55 class - led - x800e series - 2160p - smart - 4k uhd tv with hdr\\\"\"], \"xaxis\": \"x\", \"y\": [1, 4], \"yaxis\": \"y\"}, {\"alignmentgroup\": \"True\", \"hovertemplate\": \"Merchant=SaveCentral, LLC<br>Name=%{x}<br>Count=%{y}<extra></extra>\", \"legendgroup\": \"SaveCentral, LLC\", \"marker\": {\"color\": \"#B6E880\"}, \"name\": \"SaveCentral, LLC\", \"offsetgroup\": \"SaveCentral, LLC\", \"orientation\": \"v\", \"showlegend\": true, \"textposition\": \"auto\", \"type\": \"bar\", \"x\": [\"Sony - 55 class - led - x800e series - 2160p - smart - 4k uhd tv with hdr\\\"\"], \"xaxis\": \"x\", \"y\": [1], \"yaxis\": \"y\"}, {\"alignmentgroup\": \"True\", \"hovertemplate\": \"Merchant=World Wide Stereo<br>Name=%{x}<br>Count=%{y}<extra></extra>\", \"legendgroup\": \"World Wide Stereo\", \"marker\": {\"color\": \"#FF97FF\"}, \"name\": \"World Wide Stereo\", \"offsetgroup\": \"World Wide Stereo\", \"orientation\": \"v\", \"showlegend\": true, \"textposition\": \"auto\", \"type\": \"bar\", \"x\": [\"Sony - 55 class - led - x800e series - 2160p - smart - 4k uhd tv with hdr\\\"\", \"X900f-series 55-class hdr uhd smart led tv\"], \"xaxis\": \"x\", \"y\": [1, 2], \"yaxis\": \"y\"}, {\"alignmentgroup\": \"True\", \"hovertemplate\": \"Merchant=brandsmartusa<br>Name=%{x}<br>Count=%{y}<extra></extra>\", \"legendgroup\": \"brandsmartusa\", \"marker\": {\"color\": \"#FECB52\"}, \"name\": \"brandsmartusa\", \"offsetgroup\": \"brandsmartusa\", \"orientation\": \"v\", \"showlegend\": true, \"textposition\": \"auto\", \"type\": \"bar\", \"x\": [\"Sony - 55 class - led - x800e series - 2160p - smart - 4k uhd tv with hdr\\\"\", \"Sony xbr55x700d 55-inch 4k ultra hd smart led tv (2016 model)\"], \"xaxis\": \"x\", \"y\": [1, 1], \"yaxis\": \"y\"}, {\"alignmentgroup\": \"True\", \"hovertemplate\": \"Merchant=kourke<br>Name=%{x}<br>Count=%{y}<extra></extra>\", \"legendgroup\": \"kourke\", \"marker\": {\"color\": \"#636efa\"}, \"name\": \"kourke\", \"offsetgroup\": \"kourke\", \"orientation\": \"v\", \"showlegend\": true, \"textposition\": \"auto\", \"type\": \"bar\", \"x\": [\"Sony - 55 class - led - x800e series - 2160p - smart - 4k uhd tv with hdr\\\"\"], \"xaxis\": \"x\", \"y\": [1], \"yaxis\": \"y\"}, {\"alignmentgroup\": \"True\", \"hovertemplate\": \"Merchant=videoandaudiocenter<br>Name=%{x}<br>Count=%{y}<extra></extra>\", \"legendgroup\": \"videoandaudiocenter\", \"marker\": {\"color\": \"#EF553B\"}, \"name\": \"videoandaudiocenter\", \"offsetgroup\": \"videoandaudiocenter\", \"orientation\": \"v\", \"showlegend\": true, \"textposition\": \"auto\", \"type\": \"bar\", \"x\": [\"Sony - 55 class - led - x800e series - 2160p - smart - 4k uhd tv with hdr\\\"\", \"Sony xbr55x700d 55-inch 4k ultra hd smart led tv (2016 model)\"], \"xaxis\": \"x\", \"y\": [1, 2], \"yaxis\": \"y\"}, {\"alignmentgroup\": \"True\", \"hovertemplate\": \"Merchant=Dell.com<br>Name=%{x}<br>Count=%{y}<extra></extra>\", \"legendgroup\": \"Dell.com\", \"marker\": {\"color\": \"#00cc96\"}, \"name\": \"Dell.com\", \"offsetgroup\": \"Dell.com\", \"orientation\": \"v\", \"showlegend\": true, \"textposition\": \"auto\", \"type\": \"bar\", \"x\": [\"Sony - 55 class - oled - a1e series - 2160p - smart - 4k uhd tv with hdr\\\"\"], \"xaxis\": \"x\", \"y\": [1], \"yaxis\": \"y\"}, {\"alignmentgroup\": \"True\", \"hovertemplate\": \"Merchant=Focus Camera<br>Name=%{x}<br>Count=%{y}<extra></extra>\", \"legendgroup\": \"Focus Camera\", \"marker\": {\"color\": \"#ab63fa\"}, \"name\": \"Focus Camera\", \"offsetgroup\": \"Focus Camera\", \"orientation\": \"v\", \"showlegend\": true, \"textposition\": \"auto\", \"type\": \"bar\", \"x\": [\"Sony - 55 class - oled - a1e series - 2160p - smart - 4k uhd tv with hdr\\\"\"], \"xaxis\": \"x\", \"y\": [1], \"yaxis\": \"y\"}, {\"alignmentgroup\": \"True\", \"hovertemplate\": \"Merchant=OneCall<br>Name=%{x}<br>Count=%{y}<extra></extra>\", \"legendgroup\": \"OneCall\", \"marker\": {\"color\": \"#FFA15A\"}, \"name\": \"OneCall\", \"offsetgroup\": \"OneCall\", \"orientation\": \"v\", \"showlegend\": true, \"textposition\": \"auto\", \"type\": \"bar\", \"x\": [\"Sony - 55 class - oled - a1e series - 2160p - smart - 4k uhd tv with hdr\\\"\", \"Sony xbr55x700d 55-inch 4k ultra hd smart led tv (2016 model)\"], \"xaxis\": \"x\", \"y\": [3, 1], \"yaxis\": \"y\"}, {\"alignmentgroup\": \"True\", \"hovertemplate\": \"Merchant=electronicsliquidators<br>Name=%{x}<br>Count=%{y}<extra></extra>\", \"legendgroup\": \"electronicsliquidators\", \"marker\": {\"color\": \"#19d3f3\"}, \"name\": \"electronicsliquidators\", \"offsetgroup\": \"electronicsliquidators\", \"orientation\": \"v\", \"showlegend\": true, \"textposition\": \"auto\", \"type\": \"bar\", \"x\": [\"Sony - 55 class - oled - a1e series - 2160p - smart - 4k uhd tv with hdr\\\"\", \"Sony xbr55x700d 55-inch 4k ultra hd smart led tv (2016 model)\"], \"xaxis\": \"x\", \"y\": [1, 1], \"yaxis\": \"y\"}, {\"alignmentgroup\": \"True\", \"hovertemplate\": \"Merchant=gearbrokers<br>Name=%{x}<br>Count=%{y}<extra></extra>\", \"legendgroup\": \"gearbrokers\", \"marker\": {\"color\": \"#FF6692\"}, \"name\": \"gearbrokers\", \"offsetgroup\": \"gearbrokers\", \"orientation\": \"v\", \"showlegend\": true, \"textposition\": \"auto\", \"type\": \"bar\", \"x\": [\"Sony - 55 class - oled - a1e series - 2160p - smart - 4k uhd tv with hdr\\\"\", \"Sony xbr55x700d 55-inch 4k ultra hd smart led tv (2016 model)\"], \"xaxis\": \"x\", \"y\": [1, 1], \"yaxis\": \"y\"}, {\"alignmentgroup\": \"True\", \"hovertemplate\": \"Merchant=teampsales<br>Name=%{x}<br>Count=%{y}<extra></extra>\", \"legendgroup\": \"teampsales\", \"marker\": {\"color\": \"#B6E880\"}, \"name\": \"teampsales\", \"offsetgroup\": \"teampsales\", \"orientation\": \"v\", \"showlegend\": true, \"textposition\": \"auto\", \"type\": \"bar\", \"x\": [\"Sony xbr55x700d 55-inch 4k ultra hd smart led tv (2016 model)\"], \"xaxis\": \"x\", \"y\": [1], \"yaxis\": \"y\"}],\n",
       "                        {\"barmode\": \"relative\", \"legend\": {\"title\": {\"text\": \"Merchant\"}, \"tracegroupgap\": 0}, \"template\": {\"data\": {\"bar\": [{\"error_x\": {\"color\": \"#2a3f5f\"}, \"error_y\": {\"color\": \"#2a3f5f\"}, \"marker\": {\"line\": {\"color\": \"#E5ECF6\", \"width\": 0.5}}, \"type\": \"bar\"}], \"barpolar\": [{\"marker\": {\"line\": {\"color\": \"#E5ECF6\", \"width\": 0.5}}, \"type\": \"barpolar\"}], \"carpet\": [{\"aaxis\": {\"endlinecolor\": \"#2a3f5f\", \"gridcolor\": \"white\", \"linecolor\": \"white\", \"minorgridcolor\": \"white\", \"startlinecolor\": \"#2a3f5f\"}, \"baxis\": {\"endlinecolor\": \"#2a3f5f\", \"gridcolor\": \"white\", \"linecolor\": \"white\", \"minorgridcolor\": \"white\", \"startlinecolor\": \"#2a3f5f\"}, \"type\": \"carpet\"}], \"choropleth\": [{\"colorbar\": {\"outlinewidth\": 0, \"ticks\": \"\"}, \"type\": \"choropleth\"}], \"contour\": [{\"colorbar\": {\"outlinewidth\": 0, \"ticks\": \"\"}, \"colorscale\": [[0.0, \"#0d0887\"], [0.1111111111111111, \"#46039f\"], [0.2222222222222222, \"#7201a8\"], [0.3333333333333333, \"#9c179e\"], [0.4444444444444444, \"#bd3786\"], [0.5555555555555556, \"#d8576b\"], [0.6666666666666666, \"#ed7953\"], [0.7777777777777778, \"#fb9f3a\"], [0.8888888888888888, \"#fdca26\"], [1.0, \"#f0f921\"]], \"type\": \"contour\"}], \"contourcarpet\": [{\"colorbar\": {\"outlinewidth\": 0, \"ticks\": \"\"}, \"type\": \"contourcarpet\"}], \"heatmap\": [{\"colorbar\": {\"outlinewidth\": 0, \"ticks\": \"\"}, \"colorscale\": [[0.0, \"#0d0887\"], [0.1111111111111111, \"#46039f\"], [0.2222222222222222, \"#7201a8\"], [0.3333333333333333, \"#9c179e\"], [0.4444444444444444, \"#bd3786\"], [0.5555555555555556, \"#d8576b\"], [0.6666666666666666, \"#ed7953\"], [0.7777777777777778, \"#fb9f3a\"], [0.8888888888888888, \"#fdca26\"], [1.0, \"#f0f921\"]], \"type\": \"heatmap\"}], \"heatmapgl\": [{\"colorbar\": {\"outlinewidth\": 0, \"ticks\": \"\"}, \"colorscale\": [[0.0, \"#0d0887\"], [0.1111111111111111, \"#46039f\"], [0.2222222222222222, \"#7201a8\"], [0.3333333333333333, \"#9c179e\"], [0.4444444444444444, \"#bd3786\"], [0.5555555555555556, \"#d8576b\"], [0.6666666666666666, \"#ed7953\"], [0.7777777777777778, \"#fb9f3a\"], [0.8888888888888888, \"#fdca26\"], [1.0, \"#f0f921\"]], \"type\": \"heatmapgl\"}], \"histogram\": [{\"marker\": {\"colorbar\": {\"outlinewidth\": 0, \"ticks\": \"\"}}, \"type\": \"histogram\"}], \"histogram2d\": [{\"colorbar\": {\"outlinewidth\": 0, \"ticks\": \"\"}, \"colorscale\": [[0.0, \"#0d0887\"], [0.1111111111111111, \"#46039f\"], [0.2222222222222222, \"#7201a8\"], [0.3333333333333333, \"#9c179e\"], [0.4444444444444444, \"#bd3786\"], [0.5555555555555556, \"#d8576b\"], [0.6666666666666666, \"#ed7953\"], [0.7777777777777778, \"#fb9f3a\"], [0.8888888888888888, \"#fdca26\"], [1.0, \"#f0f921\"]], \"type\": \"histogram2d\"}], \"histogram2dcontour\": [{\"colorbar\": {\"outlinewidth\": 0, \"ticks\": \"\"}, \"colorscale\": [[0.0, \"#0d0887\"], [0.1111111111111111, \"#46039f\"], [0.2222222222222222, \"#7201a8\"], [0.3333333333333333, \"#9c179e\"], [0.4444444444444444, \"#bd3786\"], [0.5555555555555556, \"#d8576b\"], [0.6666666666666666, \"#ed7953\"], [0.7777777777777778, \"#fb9f3a\"], [0.8888888888888888, \"#fdca26\"], [1.0, \"#f0f921\"]], \"type\": \"histogram2dcontour\"}], \"mesh3d\": [{\"colorbar\": {\"outlinewidth\": 0, \"ticks\": \"\"}, \"type\": \"mesh3d\"}], \"parcoords\": [{\"line\": {\"colorbar\": {\"outlinewidth\": 0, \"ticks\": \"\"}}, \"type\": \"parcoords\"}], \"pie\": [{\"automargin\": true, \"type\": \"pie\"}], \"scatter\": [{\"marker\": {\"colorbar\": {\"outlinewidth\": 0, \"ticks\": \"\"}}, \"type\": \"scatter\"}], \"scatter3d\": [{\"line\": {\"colorbar\": {\"outlinewidth\": 0, \"ticks\": \"\"}}, \"marker\": {\"colorbar\": {\"outlinewidth\": 0, \"ticks\": \"\"}}, \"type\": \"scatter3d\"}], \"scattercarpet\": [{\"marker\": {\"colorbar\": {\"outlinewidth\": 0, \"ticks\": \"\"}}, \"type\": \"scattercarpet\"}], \"scattergeo\": [{\"marker\": {\"colorbar\": {\"outlinewidth\": 0, \"ticks\": \"\"}}, \"type\": \"scattergeo\"}], \"scattergl\": [{\"marker\": {\"colorbar\": {\"outlinewidth\": 0, \"ticks\": \"\"}}, \"type\": \"scattergl\"}], \"scattermapbox\": [{\"marker\": {\"colorbar\": {\"outlinewidth\": 0, \"ticks\": \"\"}}, \"type\": \"scattermapbox\"}], \"scatterpolar\": [{\"marker\": {\"colorbar\": {\"outlinewidth\": 0, \"ticks\": \"\"}}, \"type\": \"scatterpolar\"}], \"scatterpolargl\": [{\"marker\": {\"colorbar\": {\"outlinewidth\": 0, \"ticks\": \"\"}}, \"type\": \"scatterpolargl\"}], \"scatterternary\": [{\"marker\": {\"colorbar\": {\"outlinewidth\": 0, \"ticks\": \"\"}}, \"type\": \"scatterternary\"}], \"surface\": [{\"colorbar\": {\"outlinewidth\": 0, \"ticks\": \"\"}, \"colorscale\": [[0.0, \"#0d0887\"], [0.1111111111111111, \"#46039f\"], [0.2222222222222222, \"#7201a8\"], [0.3333333333333333, \"#9c179e\"], [0.4444444444444444, \"#bd3786\"], [0.5555555555555556, \"#d8576b\"], [0.6666666666666666, \"#ed7953\"], [0.7777777777777778, \"#fb9f3a\"], [0.8888888888888888, \"#fdca26\"], [1.0, \"#f0f921\"]], \"type\": \"surface\"}], \"table\": [{\"cells\": {\"fill\": {\"color\": \"#EBF0F8\"}, \"line\": {\"color\": \"white\"}}, \"header\": {\"fill\": {\"color\": \"#C8D4E3\"}, \"line\": {\"color\": \"white\"}}, \"type\": \"table\"}]}, \"layout\": {\"annotationdefaults\": {\"arrowcolor\": \"#2a3f5f\", \"arrowhead\": 0, \"arrowwidth\": 1}, \"coloraxis\": {\"colorbar\": {\"outlinewidth\": 0, \"ticks\": \"\"}}, \"colorscale\": {\"diverging\": [[0, \"#8e0152\"], [0.1, \"#c51b7d\"], [0.2, \"#de77ae\"], [0.3, \"#f1b6da\"], [0.4, \"#fde0ef\"], [0.5, \"#f7f7f7\"], [0.6, \"#e6f5d0\"], [0.7, \"#b8e186\"], [0.8, \"#7fbc41\"], [0.9, \"#4d9221\"], [1, \"#276419\"]], \"sequential\": [[0.0, \"#0d0887\"], [0.1111111111111111, \"#46039f\"], [0.2222222222222222, \"#7201a8\"], [0.3333333333333333, \"#9c179e\"], [0.4444444444444444, \"#bd3786\"], [0.5555555555555556, \"#d8576b\"], [0.6666666666666666, \"#ed7953\"], [0.7777777777777778, \"#fb9f3a\"], [0.8888888888888888, \"#fdca26\"], [1.0, \"#f0f921\"]], \"sequentialminus\": [[0.0, \"#0d0887\"], [0.1111111111111111, \"#46039f\"], [0.2222222222222222, \"#7201a8\"], [0.3333333333333333, \"#9c179e\"], [0.4444444444444444, \"#bd3786\"], [0.5555555555555556, \"#d8576b\"], [0.6666666666666666, \"#ed7953\"], [0.7777777777777778, \"#fb9f3a\"], [0.8888888888888888, \"#fdca26\"], [1.0, \"#f0f921\"]]}, \"colorway\": [\"#636efa\", \"#EF553B\", \"#00cc96\", \"#ab63fa\", \"#FFA15A\", \"#19d3f3\", \"#FF6692\", \"#B6E880\", \"#FF97FF\", \"#FECB52\"], \"font\": {\"color\": \"#2a3f5f\"}, \"geo\": {\"bgcolor\": \"white\", \"lakecolor\": \"white\", \"landcolor\": \"#E5ECF6\", \"showlakes\": true, \"showland\": true, \"subunitcolor\": \"white\"}, \"hoverlabel\": {\"align\": \"left\"}, \"hovermode\": \"closest\", \"mapbox\": {\"style\": \"light\"}, \"paper_bgcolor\": \"white\", \"plot_bgcolor\": \"#E5ECF6\", \"polar\": {\"angularaxis\": {\"gridcolor\": \"white\", \"linecolor\": \"white\", \"ticks\": \"\"}, \"bgcolor\": \"#E5ECF6\", \"radialaxis\": {\"gridcolor\": \"white\", \"linecolor\": \"white\", \"ticks\": \"\"}}, \"scene\": {\"xaxis\": {\"backgroundcolor\": \"#E5ECF6\", \"gridcolor\": \"white\", \"gridwidth\": 2, \"linecolor\": \"white\", \"showbackground\": true, \"ticks\": \"\", \"zerolinecolor\": \"white\"}, \"yaxis\": {\"backgroundcolor\": \"#E5ECF6\", \"gridcolor\": \"white\", \"gridwidth\": 2, \"linecolor\": \"white\", \"showbackground\": true, \"ticks\": \"\", \"zerolinecolor\": \"white\"}, \"zaxis\": {\"backgroundcolor\": \"#E5ECF6\", \"gridcolor\": \"white\", \"gridwidth\": 2, \"linecolor\": \"white\", \"showbackground\": true, \"ticks\": \"\", \"zerolinecolor\": \"white\"}}, \"shapedefaults\": {\"line\": {\"color\": \"#2a3f5f\"}}, \"ternary\": {\"aaxis\": {\"gridcolor\": \"white\", \"linecolor\": \"white\", \"ticks\": \"\"}, \"baxis\": {\"gridcolor\": \"white\", \"linecolor\": \"white\", \"ticks\": \"\"}, \"bgcolor\": \"#E5ECF6\", \"caxis\": {\"gridcolor\": \"white\", \"linecolor\": \"white\", \"ticks\": \"\"}}, \"title\": {\"x\": 0.05}, \"xaxis\": {\"automargin\": true, \"gridcolor\": \"white\", \"linecolor\": \"white\", \"ticks\": \"\", \"title\": {\"standoff\": 15}, \"zerolinecolor\": \"white\", \"zerolinewidth\": 2}, \"yaxis\": {\"automargin\": true, \"gridcolor\": \"white\", \"linecolor\": \"white\", \"ticks\": \"\", \"title\": {\"standoff\": 15}, \"zerolinecolor\": \"white\", \"zerolinewidth\": 2}}}, \"title\": {\"text\": \"Product Availability across Merchants/Platform\"}, \"xaxis\": {\"anchor\": \"y\", \"domain\": [0.0, 1.0], \"title\": {\"text\": \"Name\"}}, \"yaxis\": {\"anchor\": \"x\", \"domain\": [0.0, 1.0], \"title\": {\"text\": \"Count\"}}},\n",
       "                        {\"responsive\": true}\n",
       "                    ).then(function(){\n",
       "                            \n",
       "var gd = document.getElementById('176da0b1-5ef9-4df4-a632-9d834bada20c');\n",
       "var x = new MutationObserver(function (mutations, observer) {{\n",
       "        var display = window.getComputedStyle(gd).display;\n",
       "        if (!display || display === 'none') {{\n",
       "            console.log([gd, 'removed!']);\n",
       "            Plotly.purge(gd);\n",
       "            observer.disconnect();\n",
       "        }}\n",
       "}});\n",
       "\n",
       "// Listen for the removal of the full notebook cells\n",
       "var notebookContainer = gd.closest('#notebook-container');\n",
       "if (notebookContainer) {{\n",
       "    x.observe(notebookContainer, {childList: true});\n",
       "}}\n",
       "\n",
       "// Listen for the clearing of the current output cell\n",
       "var outputEl = gd.closest('.output');\n",
       "if (outputEl) {{\n",
       "    x.observe(outputEl, {childList: true});\n",
       "}}\n",
       "\n",
       "                        })\n",
       "                };\n",
       "                });\n",
       "            </script>\n",
       "        </div>"
      ]
     },
     "metadata": {},
     "output_type": "display_data"
    }
   ],
   "source": [
    "# Check if the product is in stock in other platforms\n",
    "data = df.loc[df['Availability'] == 'In Stock'].groupby(['Name', 'Merchant']).agg('size').reset_index()\n",
    "data.columns = ['Name', 'Merchant', 'Count']\n",
    "\n",
    "fig = px.bar(data, x=\"Name\", y=\"Count\", color=\"Merchant\", title=\"Product Availability across Merchants/Platform\")\n",
    "fig.show()\n",
    "\n",
    "#fig.write_image(\"images/fig5.png\")\n"
   ]
  },
  {
   "cell_type": "code",
   "execution_count": 455,
   "metadata": {
    "scrolled": true
   },
   "outputs": [
    {
     "data": {
      "application/vnd.plotly.v1+json": {
       "config": {
        "plotlyServerURL": "https://plot.ly"
       },
       "data": [
        {
         "name": "Regular",
         "type": "bar",
         "x": [
          "Samsung - 55 class - led - curved - q7c series - 2160p - smart - 4k uhd tv with hdr\"",
          "Samsung - 55 class - led - q8f series - 2160p - smart - 4k uhd tv with hdr\"",
          "Sony - 55 class - oled - a1e series - 2160p - smart - 4k uhd tv with hdr\"",
          "Hisense - 55 class - led - h8 series - 2160p - smart - 4k uhd tv with hdr\"",
          "Hisense - 55 class - led - h9 series - 2160p - smart - 4k uhd tv with hdr\"",
          "Lg - 55 class - led - uj7700 series - 2160p - smart - 4k uhd tv with hdr\"",
          "Samsung - 55 class - led - curved - mu6490 series - 2160p - smart - 4k ultra hd tv with hdr\"",
          "Samsung 55 class 4k (2160p) smart led tv (un55ku7000)\"",
          "Sony xbr55x700d 55-inch 4k ultra hd smart led tv (2016 model)",
          "Sony - 55 class - led - x800e series - 2160p - smart - 4k uhd tv with hdr\"",
          "X900f-series 55-class hdr uhd smart led tv"
         ],
         "y": [
          286,
          35,
          276,
          149,
          24,
          10,
          260,
          19,
          64,
          258,
          115
         ]
        },
        {
         "name": "Sale",
         "type": "bar",
         "x": [
          "Samsung - 55 class - led - curved - q7c series - 2160p - smart - 4k uhd tv with hdr\"",
          "Samsung - 55 class - led - q8f series - 2160p - smart - 4k uhd tv with hdr\"",
          "Sony - 55 class - oled - a1e series - 2160p - smart - 4k uhd tv with hdr\"",
          "Hisense - 55 class - led - h8 series - 2160p - smart - 4k uhd tv with hdr\"",
          "Hisense - 55 class - led - h9 series - 2160p - smart - 4k uhd tv with hdr\"",
          "Lg - 55 class - led - uj7700 series - 2160p - smart - 4k uhd tv with hdr\"",
          "Samsung - 55 class - led - curved - mu6490 series - 2160p - smart - 4k ultra hd tv with hdr\"",
          "Samsung 55 class 4k (2160p) smart led tv (un55ku7000)\"",
          "Sony xbr55x700d 55-inch 4k ultra hd smart led tv (2016 model)",
          "Sony - 55 class - led - x800e series - 2160p - smart - 4k uhd tv with hdr\"",
          "X900f-series 55-class hdr uhd smart led tv"
         ],
         "y": [
          168,
          3,
          178,
          0,
          0,
          0,
          18,
          113,
          0,
          258,
          0
         ]
        }
       ],
       "layout": {
        "barmode": "group",
        "template": {
         "data": {
          "bar": [
           {
            "error_x": {
             "color": "#2a3f5f"
            },
            "error_y": {
             "color": "#2a3f5f"
            },
            "marker": {
             "line": {
              "color": "#E5ECF6",
              "width": 0.5
             }
            },
            "type": "bar"
           }
          ],
          "barpolar": [
           {
            "marker": {
             "line": {
              "color": "#E5ECF6",
              "width": 0.5
             }
            },
            "type": "barpolar"
           }
          ],
          "carpet": [
           {
            "aaxis": {
             "endlinecolor": "#2a3f5f",
             "gridcolor": "white",
             "linecolor": "white",
             "minorgridcolor": "white",
             "startlinecolor": "#2a3f5f"
            },
            "baxis": {
             "endlinecolor": "#2a3f5f",
             "gridcolor": "white",
             "linecolor": "white",
             "minorgridcolor": "white",
             "startlinecolor": "#2a3f5f"
            },
            "type": "carpet"
           }
          ],
          "choropleth": [
           {
            "colorbar": {
             "outlinewidth": 0,
             "ticks": ""
            },
            "type": "choropleth"
           }
          ],
          "contour": [
           {
            "colorbar": {
             "outlinewidth": 0,
             "ticks": ""
            },
            "colorscale": [
             [
              0,
              "#0d0887"
             ],
             [
              0.1111111111111111,
              "#46039f"
             ],
             [
              0.2222222222222222,
              "#7201a8"
             ],
             [
              0.3333333333333333,
              "#9c179e"
             ],
             [
              0.4444444444444444,
              "#bd3786"
             ],
             [
              0.5555555555555556,
              "#d8576b"
             ],
             [
              0.6666666666666666,
              "#ed7953"
             ],
             [
              0.7777777777777778,
              "#fb9f3a"
             ],
             [
              0.8888888888888888,
              "#fdca26"
             ],
             [
              1,
              "#f0f921"
             ]
            ],
            "type": "contour"
           }
          ],
          "contourcarpet": [
           {
            "colorbar": {
             "outlinewidth": 0,
             "ticks": ""
            },
            "type": "contourcarpet"
           }
          ],
          "heatmap": [
           {
            "colorbar": {
             "outlinewidth": 0,
             "ticks": ""
            },
            "colorscale": [
             [
              0,
              "#0d0887"
             ],
             [
              0.1111111111111111,
              "#46039f"
             ],
             [
              0.2222222222222222,
              "#7201a8"
             ],
             [
              0.3333333333333333,
              "#9c179e"
             ],
             [
              0.4444444444444444,
              "#bd3786"
             ],
             [
              0.5555555555555556,
              "#d8576b"
             ],
             [
              0.6666666666666666,
              "#ed7953"
             ],
             [
              0.7777777777777778,
              "#fb9f3a"
             ],
             [
              0.8888888888888888,
              "#fdca26"
             ],
             [
              1,
              "#f0f921"
             ]
            ],
            "type": "heatmap"
           }
          ],
          "heatmapgl": [
           {
            "colorbar": {
             "outlinewidth": 0,
             "ticks": ""
            },
            "colorscale": [
             [
              0,
              "#0d0887"
             ],
             [
              0.1111111111111111,
              "#46039f"
             ],
             [
              0.2222222222222222,
              "#7201a8"
             ],
             [
              0.3333333333333333,
              "#9c179e"
             ],
             [
              0.4444444444444444,
              "#bd3786"
             ],
             [
              0.5555555555555556,
              "#d8576b"
             ],
             [
              0.6666666666666666,
              "#ed7953"
             ],
             [
              0.7777777777777778,
              "#fb9f3a"
             ],
             [
              0.8888888888888888,
              "#fdca26"
             ],
             [
              1,
              "#f0f921"
             ]
            ],
            "type": "heatmapgl"
           }
          ],
          "histogram": [
           {
            "marker": {
             "colorbar": {
              "outlinewidth": 0,
              "ticks": ""
             }
            },
            "type": "histogram"
           }
          ],
          "histogram2d": [
           {
            "colorbar": {
             "outlinewidth": 0,
             "ticks": ""
            },
            "colorscale": [
             [
              0,
              "#0d0887"
             ],
             [
              0.1111111111111111,
              "#46039f"
             ],
             [
              0.2222222222222222,
              "#7201a8"
             ],
             [
              0.3333333333333333,
              "#9c179e"
             ],
             [
              0.4444444444444444,
              "#bd3786"
             ],
             [
              0.5555555555555556,
              "#d8576b"
             ],
             [
              0.6666666666666666,
              "#ed7953"
             ],
             [
              0.7777777777777778,
              "#fb9f3a"
             ],
             [
              0.8888888888888888,
              "#fdca26"
             ],
             [
              1,
              "#f0f921"
             ]
            ],
            "type": "histogram2d"
           }
          ],
          "histogram2dcontour": [
           {
            "colorbar": {
             "outlinewidth": 0,
             "ticks": ""
            },
            "colorscale": [
             [
              0,
              "#0d0887"
             ],
             [
              0.1111111111111111,
              "#46039f"
             ],
             [
              0.2222222222222222,
              "#7201a8"
             ],
             [
              0.3333333333333333,
              "#9c179e"
             ],
             [
              0.4444444444444444,
              "#bd3786"
             ],
             [
              0.5555555555555556,
              "#d8576b"
             ],
             [
              0.6666666666666666,
              "#ed7953"
             ],
             [
              0.7777777777777778,
              "#fb9f3a"
             ],
             [
              0.8888888888888888,
              "#fdca26"
             ],
             [
              1,
              "#f0f921"
             ]
            ],
            "type": "histogram2dcontour"
           }
          ],
          "mesh3d": [
           {
            "colorbar": {
             "outlinewidth": 0,
             "ticks": ""
            },
            "type": "mesh3d"
           }
          ],
          "parcoords": [
           {
            "line": {
             "colorbar": {
              "outlinewidth": 0,
              "ticks": ""
             }
            },
            "type": "parcoords"
           }
          ],
          "pie": [
           {
            "automargin": true,
            "type": "pie"
           }
          ],
          "scatter": [
           {
            "marker": {
             "colorbar": {
              "outlinewidth": 0,
              "ticks": ""
             }
            },
            "type": "scatter"
           }
          ],
          "scatter3d": [
           {
            "line": {
             "colorbar": {
              "outlinewidth": 0,
              "ticks": ""
             }
            },
            "marker": {
             "colorbar": {
              "outlinewidth": 0,
              "ticks": ""
             }
            },
            "type": "scatter3d"
           }
          ],
          "scattercarpet": [
           {
            "marker": {
             "colorbar": {
              "outlinewidth": 0,
              "ticks": ""
             }
            },
            "type": "scattercarpet"
           }
          ],
          "scattergeo": [
           {
            "marker": {
             "colorbar": {
              "outlinewidth": 0,
              "ticks": ""
             }
            },
            "type": "scattergeo"
           }
          ],
          "scattergl": [
           {
            "marker": {
             "colorbar": {
              "outlinewidth": 0,
              "ticks": ""
             }
            },
            "type": "scattergl"
           }
          ],
          "scattermapbox": [
           {
            "marker": {
             "colorbar": {
              "outlinewidth": 0,
              "ticks": ""
             }
            },
            "type": "scattermapbox"
           }
          ],
          "scatterpolar": [
           {
            "marker": {
             "colorbar": {
              "outlinewidth": 0,
              "ticks": ""
             }
            },
            "type": "scatterpolar"
           }
          ],
          "scatterpolargl": [
           {
            "marker": {
             "colorbar": {
              "outlinewidth": 0,
              "ticks": ""
             }
            },
            "type": "scatterpolargl"
           }
          ],
          "scatterternary": [
           {
            "marker": {
             "colorbar": {
              "outlinewidth": 0,
              "ticks": ""
             }
            },
            "type": "scatterternary"
           }
          ],
          "surface": [
           {
            "colorbar": {
             "outlinewidth": 0,
             "ticks": ""
            },
            "colorscale": [
             [
              0,
              "#0d0887"
             ],
             [
              0.1111111111111111,
              "#46039f"
             ],
             [
              0.2222222222222222,
              "#7201a8"
             ],
             [
              0.3333333333333333,
              "#9c179e"
             ],
             [
              0.4444444444444444,
              "#bd3786"
             ],
             [
              0.5555555555555556,
              "#d8576b"
             ],
             [
              0.6666666666666666,
              "#ed7953"
             ],
             [
              0.7777777777777778,
              "#fb9f3a"
             ],
             [
              0.8888888888888888,
              "#fdca26"
             ],
             [
              1,
              "#f0f921"
             ]
            ],
            "type": "surface"
           }
          ],
          "table": [
           {
            "cells": {
             "fill": {
              "color": "#EBF0F8"
             },
             "line": {
              "color": "white"
             }
            },
            "header": {
             "fill": {
              "color": "#C8D4E3"
             },
             "line": {
              "color": "white"
             }
            },
            "type": "table"
           }
          ]
         },
         "layout": {
          "annotationdefaults": {
           "arrowcolor": "#2a3f5f",
           "arrowhead": 0,
           "arrowwidth": 1
          },
          "coloraxis": {
           "colorbar": {
            "outlinewidth": 0,
            "ticks": ""
           }
          },
          "colorscale": {
           "diverging": [
            [
             0,
             "#8e0152"
            ],
            [
             0.1,
             "#c51b7d"
            ],
            [
             0.2,
             "#de77ae"
            ],
            [
             0.3,
             "#f1b6da"
            ],
            [
             0.4,
             "#fde0ef"
            ],
            [
             0.5,
             "#f7f7f7"
            ],
            [
             0.6,
             "#e6f5d0"
            ],
            [
             0.7,
             "#b8e186"
            ],
            [
             0.8,
             "#7fbc41"
            ],
            [
             0.9,
             "#4d9221"
            ],
            [
             1,
             "#276419"
            ]
           ],
           "sequential": [
            [
             0,
             "#0d0887"
            ],
            [
             0.1111111111111111,
             "#46039f"
            ],
            [
             0.2222222222222222,
             "#7201a8"
            ],
            [
             0.3333333333333333,
             "#9c179e"
            ],
            [
             0.4444444444444444,
             "#bd3786"
            ],
            [
             0.5555555555555556,
             "#d8576b"
            ],
            [
             0.6666666666666666,
             "#ed7953"
            ],
            [
             0.7777777777777778,
             "#fb9f3a"
            ],
            [
             0.8888888888888888,
             "#fdca26"
            ],
            [
             1,
             "#f0f921"
            ]
           ],
           "sequentialminus": [
            [
             0,
             "#0d0887"
            ],
            [
             0.1111111111111111,
             "#46039f"
            ],
            [
             0.2222222222222222,
             "#7201a8"
            ],
            [
             0.3333333333333333,
             "#9c179e"
            ],
            [
             0.4444444444444444,
             "#bd3786"
            ],
            [
             0.5555555555555556,
             "#d8576b"
            ],
            [
             0.6666666666666666,
             "#ed7953"
            ],
            [
             0.7777777777777778,
             "#fb9f3a"
            ],
            [
             0.8888888888888888,
             "#fdca26"
            ],
            [
             1,
             "#f0f921"
            ]
           ]
          },
          "colorway": [
           "#636efa",
           "#EF553B",
           "#00cc96",
           "#ab63fa",
           "#FFA15A",
           "#19d3f3",
           "#FF6692",
           "#B6E880",
           "#FF97FF",
           "#FECB52"
          ],
          "font": {
           "color": "#2a3f5f"
          },
          "geo": {
           "bgcolor": "white",
           "lakecolor": "white",
           "landcolor": "#E5ECF6",
           "showlakes": true,
           "showland": true,
           "subunitcolor": "white"
          },
          "hoverlabel": {
           "align": "left"
          },
          "hovermode": "closest",
          "mapbox": {
           "style": "light"
          },
          "paper_bgcolor": "white",
          "plot_bgcolor": "#E5ECF6",
          "polar": {
           "angularaxis": {
            "gridcolor": "white",
            "linecolor": "white",
            "ticks": ""
           },
           "bgcolor": "#E5ECF6",
           "radialaxis": {
            "gridcolor": "white",
            "linecolor": "white",
            "ticks": ""
           }
          },
          "scene": {
           "xaxis": {
            "backgroundcolor": "#E5ECF6",
            "gridcolor": "white",
            "gridwidth": 2,
            "linecolor": "white",
            "showbackground": true,
            "ticks": "",
            "zerolinecolor": "white"
           },
           "yaxis": {
            "backgroundcolor": "#E5ECF6",
            "gridcolor": "white",
            "gridwidth": 2,
            "linecolor": "white",
            "showbackground": true,
            "ticks": "",
            "zerolinecolor": "white"
           },
           "zaxis": {
            "backgroundcolor": "#E5ECF6",
            "gridcolor": "white",
            "gridwidth": 2,
            "linecolor": "white",
            "showbackground": true,
            "ticks": "",
            "zerolinecolor": "white"
           }
          },
          "shapedefaults": {
           "line": {
            "color": "#2a3f5f"
           }
          },
          "ternary": {
           "aaxis": {
            "gridcolor": "white",
            "linecolor": "white",
            "ticks": ""
           },
           "baxis": {
            "gridcolor": "white",
            "linecolor": "white",
            "ticks": ""
           },
           "bgcolor": "#E5ECF6",
           "caxis": {
            "gridcolor": "white",
            "linecolor": "white",
            "ticks": ""
           }
          },
          "title": {
           "x": 0.05
          },
          "xaxis": {
           "automargin": true,
           "gridcolor": "white",
           "linecolor": "white",
           "ticks": "",
           "title": {
            "standoff": 15
           },
           "zerolinecolor": "white",
           "zerolinewidth": 2
          },
          "yaxis": {
           "automargin": true,
           "gridcolor": "white",
           "linecolor": "white",
           "ticks": "",
           "title": {
            "standoff": 15
           },
           "zerolinecolor": "white",
           "zerolinewidth": 2
          }
         }
        }
       }
      },
      "text/html": [
       "<div>\n",
       "        \n",
       "        \n",
       "            <div id=\"cf59607b-3fe3-4a41-8ba2-75d5bc7fbb3f\" class=\"plotly-graph-div\" style=\"height:525px; width:100%;\"></div>\n",
       "            <script type=\"text/javascript\">\n",
       "                require([\"plotly\"], function(Plotly) {\n",
       "                    window.PLOTLYENV=window.PLOTLYENV || {};\n",
       "                    \n",
       "                if (document.getElementById(\"cf59607b-3fe3-4a41-8ba2-75d5bc7fbb3f\")) {\n",
       "                    Plotly.newPlot(\n",
       "                        'cf59607b-3fe3-4a41-8ba2-75d5bc7fbb3f',\n",
       "                        [{\"name\": \"Regular\", \"type\": \"bar\", \"x\": [\"Samsung - 55 class - led - curved - q7c series - 2160p - smart - 4k uhd tv with hdr\\\"\", \"Samsung - 55 class - led - q8f series - 2160p - smart - 4k uhd tv with hdr\\\"\", \"Sony - 55 class - oled - a1e series - 2160p - smart - 4k uhd tv with hdr\\\"\", \"Hisense - 55 class - led - h8 series - 2160p - smart - 4k uhd tv with hdr\\\"\", \"Hisense - 55 class - led - h9 series - 2160p - smart - 4k uhd tv with hdr\\\"\", \"Lg - 55 class - led - uj7700 series - 2160p - smart - 4k uhd tv with hdr\\\"\", \"Samsung - 55 class - led - curved - mu6490 series - 2160p - smart - 4k ultra hd tv with hdr\\\"\", \"Samsung 55 class 4k (2160p) smart led tv (un55ku7000)\\\"\", \"Sony xbr55x700d 55-inch 4k ultra hd smart led tv (2016 model)\", \"Sony - 55 class - led - x800e series - 2160p - smart - 4k uhd tv with hdr\\\"\", \"X900f-series 55-class hdr uhd smart led tv\"], \"y\": [286, 35, 276, 149, 24, 10, 260, 19, 64, 258, 115]}, {\"name\": \"Sale\", \"type\": \"bar\", \"x\": [\"Samsung - 55 class - led - curved - q7c series - 2160p - smart - 4k uhd tv with hdr\\\"\", \"Samsung - 55 class - led - q8f series - 2160p - smart - 4k uhd tv with hdr\\\"\", \"Sony - 55 class - oled - a1e series - 2160p - smart - 4k uhd tv with hdr\\\"\", \"Hisense - 55 class - led - h8 series - 2160p - smart - 4k uhd tv with hdr\\\"\", \"Hisense - 55 class - led - h9 series - 2160p - smart - 4k uhd tv with hdr\\\"\", \"Lg - 55 class - led - uj7700 series - 2160p - smart - 4k uhd tv with hdr\\\"\", \"Samsung - 55 class - led - curved - mu6490 series - 2160p - smart - 4k ultra hd tv with hdr\\\"\", \"Samsung 55 class 4k (2160p) smart led tv (un55ku7000)\\\"\", \"Sony xbr55x700d 55-inch 4k ultra hd smart led tv (2016 model)\", \"Sony - 55 class - led - x800e series - 2160p - smart - 4k uhd tv with hdr\\\"\", \"X900f-series 55-class hdr uhd smart led tv\"], \"y\": [168, 3, 178, 0, 0, 0, 18, 113, 0, 258, 0]}],\n",
       "                        {\"barmode\": \"group\", \"template\": {\"data\": {\"bar\": [{\"error_x\": {\"color\": \"#2a3f5f\"}, \"error_y\": {\"color\": \"#2a3f5f\"}, \"marker\": {\"line\": {\"color\": \"#E5ECF6\", \"width\": 0.5}}, \"type\": \"bar\"}], \"barpolar\": [{\"marker\": {\"line\": {\"color\": \"#E5ECF6\", \"width\": 0.5}}, \"type\": \"barpolar\"}], \"carpet\": [{\"aaxis\": {\"endlinecolor\": \"#2a3f5f\", \"gridcolor\": \"white\", \"linecolor\": \"white\", \"minorgridcolor\": \"white\", \"startlinecolor\": \"#2a3f5f\"}, \"baxis\": {\"endlinecolor\": \"#2a3f5f\", \"gridcolor\": \"white\", \"linecolor\": \"white\", \"minorgridcolor\": \"white\", \"startlinecolor\": \"#2a3f5f\"}, \"type\": \"carpet\"}], \"choropleth\": [{\"colorbar\": {\"outlinewidth\": 0, \"ticks\": \"\"}, \"type\": \"choropleth\"}], \"contour\": [{\"colorbar\": {\"outlinewidth\": 0, \"ticks\": \"\"}, \"colorscale\": [[0.0, \"#0d0887\"], [0.1111111111111111, \"#46039f\"], [0.2222222222222222, \"#7201a8\"], [0.3333333333333333, \"#9c179e\"], [0.4444444444444444, \"#bd3786\"], [0.5555555555555556, \"#d8576b\"], [0.6666666666666666, \"#ed7953\"], [0.7777777777777778, \"#fb9f3a\"], [0.8888888888888888, \"#fdca26\"], [1.0, \"#f0f921\"]], \"type\": \"contour\"}], \"contourcarpet\": [{\"colorbar\": {\"outlinewidth\": 0, \"ticks\": \"\"}, \"type\": \"contourcarpet\"}], \"heatmap\": [{\"colorbar\": {\"outlinewidth\": 0, \"ticks\": \"\"}, \"colorscale\": [[0.0, \"#0d0887\"], [0.1111111111111111, \"#46039f\"], [0.2222222222222222, \"#7201a8\"], [0.3333333333333333, \"#9c179e\"], [0.4444444444444444, \"#bd3786\"], [0.5555555555555556, \"#d8576b\"], [0.6666666666666666, \"#ed7953\"], [0.7777777777777778, \"#fb9f3a\"], [0.8888888888888888, \"#fdca26\"], [1.0, \"#f0f921\"]], \"type\": \"heatmap\"}], \"heatmapgl\": [{\"colorbar\": {\"outlinewidth\": 0, \"ticks\": \"\"}, \"colorscale\": [[0.0, \"#0d0887\"], [0.1111111111111111, \"#46039f\"], [0.2222222222222222, \"#7201a8\"], [0.3333333333333333, \"#9c179e\"], [0.4444444444444444, \"#bd3786\"], [0.5555555555555556, \"#d8576b\"], [0.6666666666666666, \"#ed7953\"], [0.7777777777777778, \"#fb9f3a\"], [0.8888888888888888, \"#fdca26\"], [1.0, \"#f0f921\"]], \"type\": \"heatmapgl\"}], \"histogram\": [{\"marker\": {\"colorbar\": {\"outlinewidth\": 0, \"ticks\": \"\"}}, \"type\": \"histogram\"}], \"histogram2d\": [{\"colorbar\": {\"outlinewidth\": 0, \"ticks\": \"\"}, \"colorscale\": [[0.0, \"#0d0887\"], [0.1111111111111111, \"#46039f\"], [0.2222222222222222, \"#7201a8\"], [0.3333333333333333, \"#9c179e\"], [0.4444444444444444, \"#bd3786\"], [0.5555555555555556, \"#d8576b\"], [0.6666666666666666, \"#ed7953\"], [0.7777777777777778, \"#fb9f3a\"], [0.8888888888888888, \"#fdca26\"], [1.0, \"#f0f921\"]], \"type\": \"histogram2d\"}], \"histogram2dcontour\": [{\"colorbar\": {\"outlinewidth\": 0, \"ticks\": \"\"}, \"colorscale\": [[0.0, \"#0d0887\"], [0.1111111111111111, \"#46039f\"], [0.2222222222222222, \"#7201a8\"], [0.3333333333333333, \"#9c179e\"], [0.4444444444444444, \"#bd3786\"], [0.5555555555555556, \"#d8576b\"], [0.6666666666666666, \"#ed7953\"], [0.7777777777777778, \"#fb9f3a\"], [0.8888888888888888, \"#fdca26\"], [1.0, \"#f0f921\"]], \"type\": \"histogram2dcontour\"}], \"mesh3d\": [{\"colorbar\": {\"outlinewidth\": 0, \"ticks\": \"\"}, \"type\": \"mesh3d\"}], \"parcoords\": [{\"line\": {\"colorbar\": {\"outlinewidth\": 0, \"ticks\": \"\"}}, \"type\": \"parcoords\"}], \"pie\": [{\"automargin\": true, \"type\": \"pie\"}], \"scatter\": [{\"marker\": {\"colorbar\": {\"outlinewidth\": 0, \"ticks\": \"\"}}, \"type\": \"scatter\"}], \"scatter3d\": [{\"line\": {\"colorbar\": {\"outlinewidth\": 0, \"ticks\": \"\"}}, \"marker\": {\"colorbar\": {\"outlinewidth\": 0, \"ticks\": \"\"}}, \"type\": \"scatter3d\"}], \"scattercarpet\": [{\"marker\": {\"colorbar\": {\"outlinewidth\": 0, \"ticks\": \"\"}}, \"type\": \"scattercarpet\"}], \"scattergeo\": [{\"marker\": {\"colorbar\": {\"outlinewidth\": 0, \"ticks\": \"\"}}, \"type\": \"scattergeo\"}], \"scattergl\": [{\"marker\": {\"colorbar\": {\"outlinewidth\": 0, \"ticks\": \"\"}}, \"type\": \"scattergl\"}], \"scattermapbox\": [{\"marker\": {\"colorbar\": {\"outlinewidth\": 0, \"ticks\": \"\"}}, \"type\": \"scattermapbox\"}], \"scatterpolar\": [{\"marker\": {\"colorbar\": {\"outlinewidth\": 0, \"ticks\": \"\"}}, \"type\": \"scatterpolar\"}], \"scatterpolargl\": [{\"marker\": {\"colorbar\": {\"outlinewidth\": 0, \"ticks\": \"\"}}, \"type\": \"scatterpolargl\"}], \"scatterternary\": [{\"marker\": {\"colorbar\": {\"outlinewidth\": 0, \"ticks\": \"\"}}, \"type\": \"scatterternary\"}], \"surface\": [{\"colorbar\": {\"outlinewidth\": 0, \"ticks\": \"\"}, \"colorscale\": [[0.0, \"#0d0887\"], [0.1111111111111111, \"#46039f\"], [0.2222222222222222, \"#7201a8\"], [0.3333333333333333, \"#9c179e\"], [0.4444444444444444, \"#bd3786\"], [0.5555555555555556, \"#d8576b\"], [0.6666666666666666, \"#ed7953\"], [0.7777777777777778, \"#fb9f3a\"], [0.8888888888888888, \"#fdca26\"], [1.0, \"#f0f921\"]], \"type\": \"surface\"}], \"table\": [{\"cells\": {\"fill\": {\"color\": \"#EBF0F8\"}, \"line\": {\"color\": \"white\"}}, \"header\": {\"fill\": {\"color\": \"#C8D4E3\"}, \"line\": {\"color\": \"white\"}}, \"type\": \"table\"}]}, \"layout\": {\"annotationdefaults\": {\"arrowcolor\": \"#2a3f5f\", \"arrowhead\": 0, \"arrowwidth\": 1}, \"coloraxis\": {\"colorbar\": {\"outlinewidth\": 0, \"ticks\": \"\"}}, \"colorscale\": {\"diverging\": [[0, \"#8e0152\"], [0.1, \"#c51b7d\"], [0.2, \"#de77ae\"], [0.3, \"#f1b6da\"], [0.4, \"#fde0ef\"], [0.5, \"#f7f7f7\"], [0.6, \"#e6f5d0\"], [0.7, \"#b8e186\"], [0.8, \"#7fbc41\"], [0.9, \"#4d9221\"], [1, \"#276419\"]], \"sequential\": [[0.0, \"#0d0887\"], [0.1111111111111111, \"#46039f\"], [0.2222222222222222, \"#7201a8\"], [0.3333333333333333, \"#9c179e\"], [0.4444444444444444, \"#bd3786\"], [0.5555555555555556, \"#d8576b\"], [0.6666666666666666, \"#ed7953\"], [0.7777777777777778, \"#fb9f3a\"], [0.8888888888888888, \"#fdca26\"], [1.0, \"#f0f921\"]], \"sequentialminus\": [[0.0, \"#0d0887\"], [0.1111111111111111, \"#46039f\"], [0.2222222222222222, \"#7201a8\"], [0.3333333333333333, \"#9c179e\"], [0.4444444444444444, \"#bd3786\"], [0.5555555555555556, \"#d8576b\"], [0.6666666666666666, \"#ed7953\"], [0.7777777777777778, \"#fb9f3a\"], [0.8888888888888888, \"#fdca26\"], [1.0, \"#f0f921\"]]}, \"colorway\": [\"#636efa\", \"#EF553B\", \"#00cc96\", \"#ab63fa\", \"#FFA15A\", \"#19d3f3\", \"#FF6692\", \"#B6E880\", \"#FF97FF\", \"#FECB52\"], \"font\": {\"color\": \"#2a3f5f\"}, \"geo\": {\"bgcolor\": \"white\", \"lakecolor\": \"white\", \"landcolor\": \"#E5ECF6\", \"showlakes\": true, \"showland\": true, \"subunitcolor\": \"white\"}, \"hoverlabel\": {\"align\": \"left\"}, \"hovermode\": \"closest\", \"mapbox\": {\"style\": \"light\"}, \"paper_bgcolor\": \"white\", \"plot_bgcolor\": \"#E5ECF6\", \"polar\": {\"angularaxis\": {\"gridcolor\": \"white\", \"linecolor\": \"white\", \"ticks\": \"\"}, \"bgcolor\": \"#E5ECF6\", \"radialaxis\": {\"gridcolor\": \"white\", \"linecolor\": \"white\", \"ticks\": \"\"}}, \"scene\": {\"xaxis\": {\"backgroundcolor\": \"#E5ECF6\", \"gridcolor\": \"white\", \"gridwidth\": 2, \"linecolor\": \"white\", \"showbackground\": true, \"ticks\": \"\", \"zerolinecolor\": \"white\"}, \"yaxis\": {\"backgroundcolor\": \"#E5ECF6\", \"gridcolor\": \"white\", \"gridwidth\": 2, \"linecolor\": \"white\", \"showbackground\": true, \"ticks\": \"\", \"zerolinecolor\": \"white\"}, \"zaxis\": {\"backgroundcolor\": \"#E5ECF6\", \"gridcolor\": \"white\", \"gridwidth\": 2, \"linecolor\": \"white\", \"showbackground\": true, \"ticks\": \"\", \"zerolinecolor\": \"white\"}}, \"shapedefaults\": {\"line\": {\"color\": \"#2a3f5f\"}}, \"ternary\": {\"aaxis\": {\"gridcolor\": \"white\", \"linecolor\": \"white\", \"ticks\": \"\"}, \"baxis\": {\"gridcolor\": \"white\", \"linecolor\": \"white\", \"ticks\": \"\"}, \"bgcolor\": \"#E5ECF6\", \"caxis\": {\"gridcolor\": \"white\", \"linecolor\": \"white\", \"ticks\": \"\"}}, \"title\": {\"x\": 0.05}, \"xaxis\": {\"automargin\": true, \"gridcolor\": \"white\", \"linecolor\": \"white\", \"ticks\": \"\", \"title\": {\"standoff\": 15}, \"zerolinecolor\": \"white\", \"zerolinewidth\": 2}, \"yaxis\": {\"automargin\": true, \"gridcolor\": \"white\", \"linecolor\": \"white\", \"ticks\": \"\", \"title\": {\"standoff\": 15}, \"zerolinecolor\": \"white\", \"zerolinewidth\": 2}}}},\n",
       "                        {\"responsive\": true}\n",
       "                    ).then(function(){\n",
       "                            \n",
       "var gd = document.getElementById('cf59607b-3fe3-4a41-8ba2-75d5bc7fbb3f');\n",
       "var x = new MutationObserver(function (mutations, observer) {{\n",
       "        var display = window.getComputedStyle(gd).display;\n",
       "        if (!display || display === 'none') {{\n",
       "            console.log([gd, 'removed!']);\n",
       "            Plotly.purge(gd);\n",
       "            observer.disconnect();\n",
       "        }}\n",
       "}});\n",
       "\n",
       "// Listen for the removal of the full notebook cells\n",
       "var notebookContainer = gd.closest('#notebook-container');\n",
       "if (notebookContainer) {{\n",
       "    x.observe(notebookContainer, {childList: true});\n",
       "}}\n",
       "\n",
       "// Listen for the clearing of the current output cell\n",
       "var outputEl = gd.closest('.output');\n",
       "if (outputEl) {{\n",
       "    x.observe(outputEl, {childList: true});\n",
       "}}\n",
       "\n",
       "                        })\n",
       "                };\n",
       "                });\n",
       "            </script>\n",
       "        </div>"
      ]
     },
     "metadata": {},
     "output_type": "display_data"
    }
   ],
   "source": [
    "# Check for products and the duration for which they have held on to a price point\n",
    "\n",
    "def datediff(row):\n",
    "    dates = []\n",
    "    maxd = max(d for d in row['Date-Seen'])\n",
    "    mind = min(d for d in row['Date-Seen'])\n",
    "    return (maxd - mind).days\n",
    "\n",
    "data = df.copy()\n",
    "data['Days-Seen'] = data.apply(datediff,axis=1)\n",
    "dt = pd.merge(data.loc[data['On-Sale'] == False].groupby(['Name', 'Label']).agg(Days_Regular = ('Days-Seen','max')).reset_index(), \n",
    "         data.loc[data['On-Sale'] == True].groupby(['Name', 'Label']).agg(Days_Sale = ('Days-Seen','max')).reset_index(), \n",
    "         how='inner', on = ['Name', 'Label'])\n",
    "data = pd.merge(dt, data.groupby(['Name', 'Label']).agg(['min', 'max'])['Price-Min'].reset_index(), \n",
    "                how='inner', on = ['Name','Label']).sort_values(by='Label')\n",
    "\n",
    "fig = go.Figure(data=[\n",
    "    go.Bar(name='Regular', x=data.Name, y=data['Days_Regular']),\n",
    "    go.Bar(name='Sale', x=data.Name, y=data['Days_Sale'])\n",
    "])\n",
    "\n",
    "fig.update_layout(barmode='group')\n",
    "fig.show()\n",
    "\n",
    "#fig.write_image(\"images/fig6.png\")\n"
   ]
  },
  {
   "cell_type": "markdown",
   "metadata": {},
   "source": [
    "## Value-Based Pricing"
   ]
  },
  {
   "cell_type": "code",
   "execution_count": 458,
   "metadata": {},
   "outputs": [
    {
     "data": {
      "image/png": "[encoded data removed]",
      "text/plain": [
       "<Figure size 720x504 with 1 Axes>"
      ]
     },
     "metadata": {
      "needs_background": "light"
     },
     "output_type": "display_data"
    }
   ],
   "source": [
    "# Check the pricing by brand\n",
    "\n",
    "data = df.groupby('Brand')['Price-Min'].apply(list)\n",
    "fig, ax = plt.subplots(figsize =(10, 7))\n",
    "bp = ax.boxplot(data, notch ='True')\n",
    "ax.set_xticklabels(['Hisense', 'Lg',  \n",
    "                    'Samsung', 'Sony'])\n",
    "plt.title(\"Price Range by Brand\") \n",
    "colors = ['#0000FF', '#00FF00',  \n",
    "          '#FFFF00', '#FF00FF'] \n",
    "\n",
    "for whisker in bp['whiskers']: \n",
    "    whisker.set(color ='#8B008B', \n",
    "                linewidth = 1.5, \n",
    "                linestyle =\":\")\n",
    "for cap in bp['caps']: \n",
    "    cap.set(color ='#8B008B', \n",
    "            linewidth = 2)\n",
    "for median in bp['medians']: \n",
    "    median.set(color ='red', \n",
    "               linewidth = 3)\n",
    "for flier in bp['fliers']: \n",
    "    flier.set(marker ='D', \n",
    "              color ='#e7298a', \n",
    "              alpha = 0.5)\n",
    "plt.show(bp)"
   ]
  },
  {
   "cell_type": "code",
   "execution_count": 504,
   "metadata": {
    "scrolled": true
   },
   "outputs": [
    {
     "data": {
      "application/vnd.plotly.v1+json": {
       "config": {
        "plotlyServerURL": "https://plot.ly"
       },
       "data": [
        {
         "marker": {
          "color": [
           "lightslategray",
           "lightslategray",
           "crimson",
           "lightslategray",
           "lightslategray"
          ]
         },
         "text": [
          "4.45",
          "4.5",
          "4.75"
         ],
         "textposition": "auto",
         "type": "bar",
         "x": [
          "Low-Range",
          "Mid-Range",
          "High-Range"
         ],
         "y": [
          4.45,
          4.5,
          4.75
         ]
        }
       ],
       "layout": {
        "template": {
         "data": {
          "bar": [
           {
            "error_x": {
             "color": "#2a3f5f"
            },
            "error_y": {
             "color": "#2a3f5f"
            },
            "marker": {
             "line": {
              "color": "#E5ECF6",
              "width": 0.5
             }
            },
            "type": "bar"
           }
          ],
          "barpolar": [
           {
            "marker": {
             "line": {
              "color": "#E5ECF6",
              "width": 0.5
             }
            },
            "type": "barpolar"
           }
          ],
          "carpet": [
           {
            "aaxis": {
             "endlinecolor": "#2a3f5f",
             "gridcolor": "white",
             "linecolor": "white",
             "minorgridcolor": "white",
             "startlinecolor": "#2a3f5f"
            },
            "baxis": {
             "endlinecolor": "#2a3f5f",
             "gridcolor": "white",
             "linecolor": "white",
             "minorgridcolor": "white",
             "startlinecolor": "#2a3f5f"
            },
            "type": "carpet"
           }
          ],
          "choropleth": [
           {
            "colorbar": {
             "outlinewidth": 0,
             "ticks": ""
            },
            "type": "choropleth"
           }
          ],
          "contour": [
           {
            "colorbar": {
             "outlinewidth": 0,
             "ticks": ""
            },
            "colorscale": [
             [
              0,
              "#0d0887"
             ],
             [
              0.1111111111111111,
              "#46039f"
             ],
             [
              0.2222222222222222,
              "#7201a8"
             ],
             [
              0.3333333333333333,
              "#9c179e"
             ],
             [
              0.4444444444444444,
              "#bd3786"
             ],
             [
              0.5555555555555556,
              "#d8576b"
             ],
             [
              0.6666666666666666,
              "#ed7953"
             ],
             [
              0.7777777777777778,
              "#fb9f3a"
             ],
             [
              0.8888888888888888,
              "#fdca26"
             ],
             [
              1,
              "#f0f921"
             ]
            ],
            "type": "contour"
           }
          ],
          "contourcarpet": [
           {
            "colorbar": {
             "outlinewidth": 0,
             "ticks": ""
            },
            "type": "contourcarpet"
           }
          ],
          "heatmap": [
           {
            "colorbar": {
             "outlinewidth": 0,
             "ticks": ""
            },
            "colorscale": [
             [
              0,
              "#0d0887"
             ],
             [
              0.1111111111111111,
              "#46039f"
             ],
             [
              0.2222222222222222,
              "#7201a8"
             ],
             [
              0.3333333333333333,
              "#9c179e"
             ],
             [
              0.4444444444444444,
              "#bd3786"
             ],
             [
              0.5555555555555556,
              "#d8576b"
             ],
             [
              0.6666666666666666,
              "#ed7953"
             ],
             [
              0.7777777777777778,
              "#fb9f3a"
             ],
             [
              0.8888888888888888,
              "#fdca26"
             ],
             [
              1,
              "#f0f921"
             ]
            ],
            "type": "heatmap"
           }
          ],
          "heatmapgl": [
           {
            "colorbar": {
             "outlinewidth": 0,
             "ticks": ""
            },
            "colorscale": [
             [
              0,
              "#0d0887"
             ],
             [
              0.1111111111111111,
              "#46039f"
             ],
             [
              0.2222222222222222,
              "#7201a8"
             ],
             [
              0.3333333333333333,
              "#9c179e"
             ],
             [
              0.4444444444444444,
              "#bd3786"
             ],
             [
              0.5555555555555556,
              "#d8576b"
             ],
             [
              0.6666666666666666,
              "#ed7953"
             ],
             [
              0.7777777777777778,
              "#fb9f3a"
             ],
             [
              0.8888888888888888,
              "#fdca26"
             ],
             [
              1,
              "#f0f921"
             ]
            ],
            "type": "heatmapgl"
           }
          ],
          "histogram": [
           {
            "marker": {
             "colorbar": {
              "outlinewidth": 0,
              "ticks": ""
             }
            },
            "type": "histogram"
           }
          ],
          "histogram2d": [
           {
            "colorbar": {
             "outlinewidth": 0,
             "ticks": ""
            },
            "colorscale": [
             [
              0,
              "#0d0887"
             ],
             [
              0.1111111111111111,
              "#46039f"
             ],
             [
              0.2222222222222222,
              "#7201a8"
             ],
             [
              0.3333333333333333,
              "#9c179e"
             ],
             [
              0.4444444444444444,
              "#bd3786"
             ],
             [
              0.5555555555555556,
              "#d8576b"
             ],
             [
              0.6666666666666666,
              "#ed7953"
             ],
             [
              0.7777777777777778,
              "#fb9f3a"
             ],
             [
              0.8888888888888888,
              "#fdca26"
             ],
             [
              1,
              "#f0f921"
             ]
            ],
            "type": "histogram2d"
           }
          ],
          "histogram2dcontour": [
           {
            "colorbar": {
             "outlinewidth": 0,
             "ticks": ""
            },
            "colorscale": [
             [
              0,
              "#0d0887"
             ],
             [
              0.1111111111111111,
              "#46039f"
             ],
             [
              0.2222222222222222,
              "#7201a8"
             ],
             [
              0.3333333333333333,
              "#9c179e"
             ],
             [
              0.4444444444444444,
              "#bd3786"
             ],
             [
              0.5555555555555556,
              "#d8576b"
             ],
             [
              0.6666666666666666,
              "#ed7953"
             ],
             [
              0.7777777777777778,
              "#fb9f3a"
             ],
             [
              0.8888888888888888,
              "#fdca26"
             ],
             [
              1,
              "#f0f921"
             ]
            ],
            "type": "histogram2dcontour"
           }
          ],
          "mesh3d": [
           {
            "colorbar": {
             "outlinewidth": 0,
             "ticks": ""
            },
            "type": "mesh3d"
           }
          ],
          "parcoords": [
           {
            "line": {
             "colorbar": {
              "outlinewidth": 0,
              "ticks": ""
             }
            },
            "type": "parcoords"
           }
          ],
          "pie": [
           {
            "automargin": true,
            "type": "pie"
           }
          ],
          "scatter": [
           {
            "marker": {
             "colorbar": {
              "outlinewidth": 0,
              "ticks": ""
             }
            },
            "type": "scatter"
           }
          ],
          "scatter3d": [
           {
            "line": {
             "colorbar": {
              "outlinewidth": 0,
              "ticks": ""
             }
            },
            "marker": {
             "colorbar": {
              "outlinewidth": 0,
              "ticks": ""
             }
            },
            "type": "scatter3d"
           }
          ],
          "scattercarpet": [
           {
            "marker": {
             "colorbar": {
              "outlinewidth": 0,
              "ticks": ""
             }
            },
            "type": "scattercarpet"
           }
          ],
          "scattergeo": [
           {
            "marker": {
             "colorbar": {
              "outlinewidth": 0,
              "ticks": ""
             }
            },
            "type": "scattergeo"
           }
          ],
          "scattergl": [
           {
            "marker": {
             "colorbar": {
              "outlinewidth": 0,
              "ticks": ""
             }
            },
            "type": "scattergl"
           }
          ],
          "scattermapbox": [
           {
            "marker": {
             "colorbar": {
              "outlinewidth": 0,
              "ticks": ""
             }
            },
            "type": "scattermapbox"
           }
          ],
          "scatterpolar": [
           {
            "marker": {
             "colorbar": {
              "outlinewidth": 0,
              "ticks": ""
             }
            },
            "type": "scatterpolar"
           }
          ],
          "scatterpolargl": [
           {
            "marker": {
             "colorbar": {
              "outlinewidth": 0,
              "ticks": ""
             }
            },
            "type": "scatterpolargl"
           }
          ],
          "scatterternary": [
           {
            "marker": {
             "colorbar": {
              "outlinewidth": 0,
              "ticks": ""
             }
            },
            "type": "scatterternary"
           }
          ],
          "surface": [
           {
            "colorbar": {
             "outlinewidth": 0,
             "ticks": ""
            },
            "colorscale": [
             [
              0,
              "#0d0887"
             ],
             [
              0.1111111111111111,
              "#46039f"
             ],
             [
              0.2222222222222222,
              "#7201a8"
             ],
             [
              0.3333333333333333,
              "#9c179e"
             ],
             [
              0.4444444444444444,
              "#bd3786"
             ],
             [
              0.5555555555555556,
              "#d8576b"
             ],
             [
              0.6666666666666666,
              "#ed7953"
             ],
             [
              0.7777777777777778,
              "#fb9f3a"
             ],
             [
              0.8888888888888888,
              "#fdca26"
             ],
             [
              1,
              "#f0f921"
             ]
            ],
            "type": "surface"
           }
          ],
          "table": [
           {
            "cells": {
             "fill": {
              "color": "#EBF0F8"
             },
             "line": {
              "color": "white"
             }
            },
            "header": {
             "fill": {
              "color": "#C8D4E3"
             },
             "line": {
              "color": "white"
             }
            },
            "type": "table"
           }
          ]
         },
         "layout": {
          "annotationdefaults": {
           "arrowcolor": "#2a3f5f",
           "arrowhead": 0,
           "arrowwidth": 1
          },
          "coloraxis": {
           "colorbar": {
            "outlinewidth": 0,
            "ticks": ""
           }
          },
          "colorscale": {
           "diverging": [
            [
             0,
             "#8e0152"
            ],
            [
             0.1,
             "#c51b7d"
            ],
            [
             0.2,
             "#de77ae"
            ],
            [
             0.3,
             "#f1b6da"
            ],
            [
             0.4,
             "#fde0ef"
            ],
            [
             0.5,
             "#f7f7f7"
            ],
            [
             0.6,
             "#e6f5d0"
            ],
            [
             0.7,
             "#b8e186"
            ],
            [
             0.8,
             "#7fbc41"
            ],
            [
             0.9,
             "#4d9221"
            ],
            [
             1,
             "#276419"
            ]
           ],
           "sequential": [
            [
             0,
             "#0d0887"
            ],
            [
             0.1111111111111111,
             "#46039f"
            ],
            [
             0.2222222222222222,
             "#7201a8"
            ],
            [
             0.3333333333333333,
             "#9c179e"
            ],
            [
             0.4444444444444444,
             "#bd3786"
            ],
            [
             0.5555555555555556,
             "#d8576b"
            ],
            [
             0.6666666666666666,
             "#ed7953"
            ],
            [
             0.7777777777777778,
             "#fb9f3a"
            ],
            [
             0.8888888888888888,
             "#fdca26"
            ],
            [
             1,
             "#f0f921"
            ]
           ],
           "sequentialminus": [
            [
             0,
             "#0d0887"
            ],
            [
             0.1111111111111111,
             "#46039f"
            ],
            [
             0.2222222222222222,
             "#7201a8"
            ],
            [
             0.3333333333333333,
             "#9c179e"
            ],
            [
             0.4444444444444444,
             "#bd3786"
            ],
            [
             0.5555555555555556,
             "#d8576b"
            ],
            [
             0.6666666666666666,
             "#ed7953"
            ],
            [
             0.7777777777777778,
             "#fb9f3a"
            ],
            [
             0.8888888888888888,
             "#fdca26"
            ],
            [
             1,
             "#f0f921"
            ]
           ]
          },
          "colorway": [
           "#636efa",
           "#EF553B",
           "#00cc96",
           "#ab63fa",
           "#FFA15A",
           "#19d3f3",
           "#FF6692",
           "#B6E880",
           "#FF97FF",
           "#FECB52"
          ],
          "font": {
           "color": "#2a3f5f"
          },
          "geo": {
           "bgcolor": "white",
           "lakecolor": "white",
           "landcolor": "#E5ECF6",
           "showlakes": true,
           "showland": true,
           "subunitcolor": "white"
          },
          "hoverlabel": {
           "align": "left"
          },
          "hovermode": "closest",
          "mapbox": {
           "style": "light"
          },
          "paper_bgcolor": "white",
          "plot_bgcolor": "#E5ECF6",
          "polar": {
           "angularaxis": {
            "gridcolor": "white",
            "linecolor": "white",
            "ticks": ""
           },
           "bgcolor": "#E5ECF6",
           "radialaxis": {
            "gridcolor": "white",
            "linecolor": "white",
            "ticks": ""
           }
          },
          "scene": {
           "xaxis": {
            "backgroundcolor": "#E5ECF6",
            "gridcolor": "white",
            "gridwidth": 2,
            "linecolor": "white",
            "showbackground": true,
            "ticks": "",
            "zerolinecolor": "white"
           },
           "yaxis": {
            "backgroundcolor": "#E5ECF6",
            "gridcolor": "white",
            "gridwidth": 2,
            "linecolor": "white",
            "showbackground": true,
            "ticks": "",
            "zerolinecolor": "white"
           },
           "zaxis": {
            "backgroundcolor": "#E5ECF6",
            "gridcolor": "white",
            "gridwidth": 2,
            "linecolor": "white",
            "showbackground": true,
            "ticks": "",
            "zerolinecolor": "white"
           }
          },
          "shapedefaults": {
           "line": {
            "color": "#2a3f5f"
           }
          },
          "ternary": {
           "aaxis": {
            "gridcolor": "white",
            "linecolor": "white",
            "ticks": ""
           },
           "baxis": {
            "gridcolor": "white",
            "linecolor": "white",
            "ticks": ""
           },
           "bgcolor": "#E5ECF6",
           "caxis": {
            "gridcolor": "white",
            "linecolor": "white",
            "ticks": ""
           }
          },
          "title": {
           "x": 0.05
          },
          "xaxis": {
           "automargin": true,
           "gridcolor": "white",
           "linecolor": "white",
           "ticks": "",
           "title": {
            "standoff": 15
           },
           "zerolinecolor": "white",
           "zerolinewidth": 2
          },
          "yaxis": {
           "automargin": true,
           "gridcolor": "white",
           "linecolor": "white",
           "ticks": "",
           "title": {
            "standoff": 15
           },
           "zerolinecolor": "white",
           "zerolinewidth": 2
          }
         }
        },
        "title": {
         "text": "Average reviews across price-points"
        }
       }
      },
      "text/html": [
       "<div>\n",
       "        \n",
       "        \n",
       "            <div id=\"246e031b-3f03-48f5-a95d-0925a6980410\" class=\"plotly-graph-div\" style=\"height:525px; width:100%;\"></div>\n",
       "            <script type=\"text/javascript\">\n",
       "                require([\"plotly\"], function(Plotly) {\n",
       "                    window.PLOTLYENV=window.PLOTLYENV || {};\n",
       "                    \n",
       "                if (document.getElementById(\"246e031b-3f03-48f5-a95d-0925a6980410\")) {\n",
       "                    Plotly.newPlot(\n",
       "                        '246e031b-3f03-48f5-a95d-0925a6980410',\n",
       "                        [{\"marker\": {\"color\": [\"lightslategray\", \"lightslategray\", \"crimson\", \"lightslategray\", \"lightslategray\"]}, \"text\": [\"4.45\", \"4.5\", \"4.75\"], \"textposition\": \"auto\", \"type\": \"bar\", \"x\": [\"Low-Range\", \"Mid-Range\", \"High-Range\"], \"y\": [4.45, 4.5, 4.75]}],\n",
       "                        {\"template\": {\"data\": {\"bar\": [{\"error_x\": {\"color\": \"#2a3f5f\"}, \"error_y\": {\"color\": \"#2a3f5f\"}, \"marker\": {\"line\": {\"color\": \"#E5ECF6\", \"width\": 0.5}}, \"type\": \"bar\"}], \"barpolar\": [{\"marker\": {\"line\": {\"color\": \"#E5ECF6\", \"width\": 0.5}}, \"type\": \"barpolar\"}], \"carpet\": [{\"aaxis\": {\"endlinecolor\": \"#2a3f5f\", \"gridcolor\": \"white\", \"linecolor\": \"white\", \"minorgridcolor\": \"white\", \"startlinecolor\": \"#2a3f5f\"}, \"baxis\": {\"endlinecolor\": \"#2a3f5f\", \"gridcolor\": \"white\", \"linecolor\": \"white\", \"minorgridcolor\": \"white\", \"startlinecolor\": \"#2a3f5f\"}, \"type\": \"carpet\"}], \"choropleth\": [{\"colorbar\": {\"outlinewidth\": 0, \"ticks\": \"\"}, \"type\": \"choropleth\"}], \"contour\": [{\"colorbar\": {\"outlinewidth\": 0, \"ticks\": \"\"}, \"colorscale\": [[0.0, \"#0d0887\"], [0.1111111111111111, \"#46039f\"], [0.2222222222222222, \"#7201a8\"], [0.3333333333333333, \"#9c179e\"], [0.4444444444444444, \"#bd3786\"], [0.5555555555555556, \"#d8576b\"], [0.6666666666666666, \"#ed7953\"], [0.7777777777777778, \"#fb9f3a\"], [0.8888888888888888, \"#fdca26\"], [1.0, \"#f0f921\"]], \"type\": \"contour\"}], \"contourcarpet\": [{\"colorbar\": {\"outlinewidth\": 0, \"ticks\": \"\"}, \"type\": \"contourcarpet\"}], \"heatmap\": [{\"colorbar\": {\"outlinewidth\": 0, \"ticks\": \"\"}, \"colorscale\": [[0.0, \"#0d0887\"], [0.1111111111111111, \"#46039f\"], [0.2222222222222222, \"#7201a8\"], [0.3333333333333333, \"#9c179e\"], [0.4444444444444444, \"#bd3786\"], [0.5555555555555556, \"#d8576b\"], [0.6666666666666666, \"#ed7953\"], [0.7777777777777778, \"#fb9f3a\"], [0.8888888888888888, \"#fdca26\"], [1.0, \"#f0f921\"]], \"type\": \"heatmap\"}], \"heatmapgl\": [{\"colorbar\": {\"outlinewidth\": 0, \"ticks\": \"\"}, \"colorscale\": [[0.0, \"#0d0887\"], [0.1111111111111111, \"#46039f\"], [0.2222222222222222, \"#7201a8\"], [0.3333333333333333, \"#9c179e\"], [0.4444444444444444, \"#bd3786\"], [0.5555555555555556, \"#d8576b\"], [0.6666666666666666, \"#ed7953\"], [0.7777777777777778, \"#fb9f3a\"], [0.8888888888888888, \"#fdca26\"], [1.0, \"#f0f921\"]], \"type\": \"heatmapgl\"}], \"histogram\": [{\"marker\": {\"colorbar\": {\"outlinewidth\": 0, \"ticks\": \"\"}}, \"type\": \"histogram\"}], \"histogram2d\": [{\"colorbar\": {\"outlinewidth\": 0, \"ticks\": \"\"}, \"colorscale\": [[0.0, \"#0d0887\"], [0.1111111111111111, \"#46039f\"], [0.2222222222222222, \"#7201a8\"], [0.3333333333333333, \"#9c179e\"], [0.4444444444444444, \"#bd3786\"], [0.5555555555555556, \"#d8576b\"], [0.6666666666666666, \"#ed7953\"], [0.7777777777777778, \"#fb9f3a\"], [0.8888888888888888, \"#fdca26\"], [1.0, \"#f0f921\"]], \"type\": \"histogram2d\"}], \"histogram2dcontour\": [{\"colorbar\": {\"outlinewidth\": 0, \"ticks\": \"\"}, \"colorscale\": [[0.0, \"#0d0887\"], [0.1111111111111111, \"#46039f\"], [0.2222222222222222, \"#7201a8\"], [0.3333333333333333, \"#9c179e\"], [0.4444444444444444, \"#bd3786\"], [0.5555555555555556, \"#d8576b\"], [0.6666666666666666, \"#ed7953\"], [0.7777777777777778, \"#fb9f3a\"], [0.8888888888888888, \"#fdca26\"], [1.0, \"#f0f921\"]], \"type\": \"histogram2dcontour\"}], \"mesh3d\": [{\"colorbar\": {\"outlinewidth\": 0, \"ticks\": \"\"}, \"type\": \"mesh3d\"}], \"parcoords\": [{\"line\": {\"colorbar\": {\"outlinewidth\": 0, \"ticks\": \"\"}}, \"type\": \"parcoords\"}], \"pie\": [{\"automargin\": true, \"type\": \"pie\"}], \"scatter\": [{\"marker\": {\"colorbar\": {\"outlinewidth\": 0, \"ticks\": \"\"}}, \"type\": \"scatter\"}], \"scatter3d\": [{\"line\": {\"colorbar\": {\"outlinewidth\": 0, \"ticks\": \"\"}}, \"marker\": {\"colorbar\": {\"outlinewidth\": 0, \"ticks\": \"\"}}, \"type\": \"scatter3d\"}], \"scattercarpet\": [{\"marker\": {\"colorbar\": {\"outlinewidth\": 0, \"ticks\": \"\"}}, \"type\": \"scattercarpet\"}], \"scattergeo\": [{\"marker\": {\"colorbar\": {\"outlinewidth\": 0, \"ticks\": \"\"}}, \"type\": \"scattergeo\"}], \"scattergl\": [{\"marker\": {\"colorbar\": {\"outlinewidth\": 0, \"ticks\": \"\"}}, \"type\": \"scattergl\"}], \"scattermapbox\": [{\"marker\": {\"colorbar\": {\"outlinewidth\": 0, \"ticks\": \"\"}}, \"type\": \"scattermapbox\"}], \"scatterpolar\": [{\"marker\": {\"colorbar\": {\"outlinewidth\": 0, \"ticks\": \"\"}}, \"type\": \"scatterpolar\"}], \"scatterpolargl\": [{\"marker\": {\"colorbar\": {\"outlinewidth\": 0, \"ticks\": \"\"}}, \"type\": \"scatterpolargl\"}], \"scatterternary\": [{\"marker\": {\"colorbar\": {\"outlinewidth\": 0, \"ticks\": \"\"}}, \"type\": \"scatterternary\"}], \"surface\": [{\"colorbar\": {\"outlinewidth\": 0, \"ticks\": \"\"}, \"colorscale\": [[0.0, \"#0d0887\"], [0.1111111111111111, \"#46039f\"], [0.2222222222222222, \"#7201a8\"], [0.3333333333333333, \"#9c179e\"], [0.4444444444444444, \"#bd3786\"], [0.5555555555555556, \"#d8576b\"], [0.6666666666666666, \"#ed7953\"], [0.7777777777777778, \"#fb9f3a\"], [0.8888888888888888, \"#fdca26\"], [1.0, \"#f0f921\"]], \"type\": \"surface\"}], \"table\": [{\"cells\": {\"fill\": {\"color\": \"#EBF0F8\"}, \"line\": {\"color\": \"white\"}}, \"header\": {\"fill\": {\"color\": \"#C8D4E3\"}, \"line\": {\"color\": \"white\"}}, \"type\": \"table\"}]}, \"layout\": {\"annotationdefaults\": {\"arrowcolor\": \"#2a3f5f\", \"arrowhead\": 0, \"arrowwidth\": 1}, \"coloraxis\": {\"colorbar\": {\"outlinewidth\": 0, \"ticks\": \"\"}}, \"colorscale\": {\"diverging\": [[0, \"#8e0152\"], [0.1, \"#c51b7d\"], [0.2, \"#de77ae\"], [0.3, \"#f1b6da\"], [0.4, \"#fde0ef\"], [0.5, \"#f7f7f7\"], [0.6, \"#e6f5d0\"], [0.7, \"#b8e186\"], [0.8, \"#7fbc41\"], [0.9, \"#4d9221\"], [1, \"#276419\"]], \"sequential\": [[0.0, \"#0d0887\"], [0.1111111111111111, \"#46039f\"], [0.2222222222222222, \"#7201a8\"], [0.3333333333333333, \"#9c179e\"], [0.4444444444444444, \"#bd3786\"], [0.5555555555555556, \"#d8576b\"], [0.6666666666666666, \"#ed7953\"], [0.7777777777777778, \"#fb9f3a\"], [0.8888888888888888, \"#fdca26\"], [1.0, \"#f0f921\"]], \"sequentialminus\": [[0.0, \"#0d0887\"], [0.1111111111111111, \"#46039f\"], [0.2222222222222222, \"#7201a8\"], [0.3333333333333333, \"#9c179e\"], [0.4444444444444444, \"#bd3786\"], [0.5555555555555556, \"#d8576b\"], [0.6666666666666666, \"#ed7953\"], [0.7777777777777778, \"#fb9f3a\"], [0.8888888888888888, \"#fdca26\"], [1.0, \"#f0f921\"]]}, \"colorway\": [\"#636efa\", \"#EF553B\", \"#00cc96\", \"#ab63fa\", \"#FFA15A\", \"#19d3f3\", \"#FF6692\", \"#B6E880\", \"#FF97FF\", \"#FECB52\"], \"font\": {\"color\": \"#2a3f5f\"}, \"geo\": {\"bgcolor\": \"white\", \"lakecolor\": \"white\", \"landcolor\": \"#E5ECF6\", \"showlakes\": true, \"showland\": true, \"subunitcolor\": \"white\"}, \"hoverlabel\": {\"align\": \"left\"}, \"hovermode\": \"closest\", \"mapbox\": {\"style\": \"light\"}, \"paper_bgcolor\": \"white\", \"plot_bgcolor\": \"#E5ECF6\", \"polar\": {\"angularaxis\": {\"gridcolor\": \"white\", \"linecolor\": \"white\", \"ticks\": \"\"}, \"bgcolor\": \"#E5ECF6\", \"radialaxis\": {\"gridcolor\": \"white\", \"linecolor\": \"white\", \"ticks\": \"\"}}, \"scene\": {\"xaxis\": {\"backgroundcolor\": \"#E5ECF6\", \"gridcolor\": \"white\", \"gridwidth\": 2, \"linecolor\": \"white\", \"showbackground\": true, \"ticks\": \"\", \"zerolinecolor\": \"white\"}, \"yaxis\": {\"backgroundcolor\": \"#E5ECF6\", \"gridcolor\": \"white\", \"gridwidth\": 2, \"linecolor\": \"white\", \"showbackground\": true, \"ticks\": \"\", \"zerolinecolor\": \"white\"}, \"zaxis\": {\"backgroundcolor\": \"#E5ECF6\", \"gridcolor\": \"white\", \"gridwidth\": 2, \"linecolor\": \"white\", \"showbackground\": true, \"ticks\": \"\", \"zerolinecolor\": \"white\"}}, \"shapedefaults\": {\"line\": {\"color\": \"#2a3f5f\"}}, \"ternary\": {\"aaxis\": {\"gridcolor\": \"white\", \"linecolor\": \"white\", \"ticks\": \"\"}, \"baxis\": {\"gridcolor\": \"white\", \"linecolor\": \"white\", \"ticks\": \"\"}, \"bgcolor\": \"#E5ECF6\", \"caxis\": {\"gridcolor\": \"white\", \"linecolor\": \"white\", \"ticks\": \"\"}}, \"title\": {\"x\": 0.05}, \"xaxis\": {\"automargin\": true, \"gridcolor\": \"white\", \"linecolor\": \"white\", \"ticks\": \"\", \"title\": {\"standoff\": 15}, \"zerolinecolor\": \"white\", \"zerolinewidth\": 2}, \"yaxis\": {\"automargin\": true, \"gridcolor\": \"white\", \"linecolor\": \"white\", \"ticks\": \"\", \"title\": {\"standoff\": 15}, \"zerolinecolor\": \"white\", \"zerolinewidth\": 2}}}, \"title\": {\"text\": \"Average reviews across price-points\"}},\n",
       "                        {\"responsive\": true}\n",
       "                    ).then(function(){\n",
       "                            \n",
       "var gd = document.getElementById('246e031b-3f03-48f5-a95d-0925a6980410');\n",
       "var x = new MutationObserver(function (mutations, observer) {{\n",
       "        var display = window.getComputedStyle(gd).display;\n",
       "        if (!display || display === 'none') {{\n",
       "            console.log([gd, 'removed!']);\n",
       "            Plotly.purge(gd);\n",
       "            observer.disconnect();\n",
       "        }}\n",
       "}});\n",
       "\n",
       "// Listen for the removal of the full notebook cells\n",
       "var notebookContainer = gd.closest('#notebook-container');\n",
       "if (notebookContainer) {{\n",
       "    x.observe(notebookContainer, {childList: true});\n",
       "}}\n",
       "\n",
       "// Listen for the clearing of the current output cell\n",
       "var outputEl = gd.closest('.output');\n",
       "if (outputEl) {{\n",
       "    x.observe(outputEl, {childList: true});\n",
       "}}\n",
       "\n",
       "                        })\n",
       "                };\n",
       "                });\n",
       "            </script>\n",
       "        </div>"
      ]
     },
     "metadata": {},
     "output_type": "display_data"
    },
    {
     "ename": "FileNotFoundError",
     "evalue": "[Errno 2] No such file or directory: 'images/fig2.png'",
     "output_type": "error",
     "traceback": [
      "\u001b[1;31m---------------------------------------------------------------------------\u001b[0m",
      "\u001b[1;31mFileNotFoundError\u001b[0m                         Traceback (most recent call last)",
      "\u001b[1;32m<ipython-input-504-a52190820527>\u001b[0m in \u001b[0;36m<module>\u001b[1;34m\u001b[0m\n\u001b[0;32m     15\u001b[0m \u001b[0mfig\u001b[0m\u001b[1;33m.\u001b[0m\u001b[0mshow\u001b[0m\u001b[1;33m(\u001b[0m\u001b[1;33m)\u001b[0m\u001b[1;33m\u001b[0m\u001b[1;33m\u001b[0m\u001b[0m\n\u001b[0;32m     16\u001b[0m \u001b[1;33m\u001b[0m\u001b[0m\n\u001b[1;32m---> 17\u001b[1;33m \u001b[0mfig\u001b[0m\u001b[1;33m.\u001b[0m\u001b[0mwrite_image\u001b[0m\u001b[1;33m(\u001b[0m\u001b[1;34m\"images/fig2.png\"\u001b[0m\u001b[1;33m)\u001b[0m\u001b[1;33m\u001b[0m\u001b[1;33m\u001b[0m\u001b[0m\n\u001b[0m",
      "\u001b[1;32m~\\anaconda3\\lib\\site-packages\\plotly\\basedatatypes.py\u001b[0m in \u001b[0;36mwrite_image\u001b[1;34m(self, *args, **kwargs)\u001b[0m\n\u001b[0;32m   3249\u001b[0m         \u001b[1;32mimport\u001b[0m \u001b[0mplotly\u001b[0m\u001b[1;33m.\u001b[0m\u001b[0mio\u001b[0m \u001b[1;32mas\u001b[0m \u001b[0mpio\u001b[0m\u001b[1;33m\u001b[0m\u001b[1;33m\u001b[0m\u001b[0m\n\u001b[0;32m   3250\u001b[0m \u001b[1;33m\u001b[0m\u001b[0m\n\u001b[1;32m-> 3251\u001b[1;33m         \u001b[1;32mreturn\u001b[0m \u001b[0mpio\u001b[0m\u001b[1;33m.\u001b[0m\u001b[0mwrite_image\u001b[0m\u001b[1;33m(\u001b[0m\u001b[0mself\u001b[0m\u001b[1;33m,\u001b[0m \u001b[1;33m*\u001b[0m\u001b[0margs\u001b[0m\u001b[1;33m,\u001b[0m \u001b[1;33m**\u001b[0m\u001b[0mkwargs\u001b[0m\u001b[1;33m)\u001b[0m\u001b[1;33m\u001b[0m\u001b[1;33m\u001b[0m\u001b[0m\n\u001b[0m\u001b[0;32m   3252\u001b[0m \u001b[1;33m\u001b[0m\u001b[0m\n\u001b[0;32m   3253\u001b[0m     \u001b[1;31m# Static helpers\u001b[0m\u001b[1;33m\u001b[0m\u001b[1;33m\u001b[0m\u001b[1;33m\u001b[0m\u001b[0m\n",
      "\u001b[1;32m~\\anaconda3\\lib\\site-packages\\plotly\\io\\_kaleido.py\u001b[0m in \u001b[0;36mwrite_image\u001b[1;34m(fig, file, format, scale, width, height, validate, engine)\u001b[0m\n\u001b[0;32m    255\u001b[0m     \u001b[1;31m# ---------\u001b[0m\u001b[1;33m\u001b[0m\u001b[1;33m\u001b[0m\u001b[1;33m\u001b[0m\u001b[0m\n\u001b[0;32m    256\u001b[0m     \u001b[1;32mif\u001b[0m \u001b[0mfile_is_str\u001b[0m\u001b[1;33m:\u001b[0m\u001b[1;33m\u001b[0m\u001b[1;33m\u001b[0m\u001b[0m\n\u001b[1;32m--> 257\u001b[1;33m         \u001b[1;32mwith\u001b[0m \u001b[0mopen\u001b[0m\u001b[1;33m(\u001b[0m\u001b[0mfile\u001b[0m\u001b[1;33m,\u001b[0m \u001b[1;34m\"wb\"\u001b[0m\u001b[1;33m)\u001b[0m \u001b[1;32mas\u001b[0m \u001b[0mf\u001b[0m\u001b[1;33m:\u001b[0m\u001b[1;33m\u001b[0m\u001b[1;33m\u001b[0m\u001b[0m\n\u001b[0m\u001b[0;32m    258\u001b[0m             \u001b[0mf\u001b[0m\u001b[1;33m.\u001b[0m\u001b[0mwrite\u001b[0m\u001b[1;33m(\u001b[0m\u001b[0mimg_data\u001b[0m\u001b[1;33m)\u001b[0m\u001b[1;33m\u001b[0m\u001b[1;33m\u001b[0m\u001b[0m\n\u001b[0;32m    259\u001b[0m     \u001b[1;32melse\u001b[0m\u001b[1;33m:\u001b[0m\u001b[1;33m\u001b[0m\u001b[1;33m\u001b[0m\u001b[0m\n",
      "\u001b[1;31mFileNotFoundError\u001b[0m: [Errno 2] No such file or directory: 'images/fig2.png'"
     ]
    }
   ],
   "source": [
    "# Average review across price buckets\n",
    "\n",
    "colors = ['lightslategray',] * 5\n",
    "colors[2] = 'crimson'\n",
    "\n",
    "fig = go.Figure(data=[go.Bar(\n",
    "    x=['Low-Range', 'Mid-Range', 'High-Range'],\n",
    "    y=[4.45, 4.5, 4.75],\n",
    "    marker_color=colors,\n",
    "    text=score,\n",
    "    textposition='auto' \n",
    ")])\n",
    "\n",
    "fig.update_layout(title_text='Average reviews across price-points')\n",
    "fig.show()\n",
    "\n",
    "#fig.write_image(\"images/fig8.png\")\n"
   ]
  },
  {
   "cell_type": "code",
   "execution_count": 502,
   "metadata": {},
   "outputs": [
    {
     "data": {
      "application/vnd.plotly.v1+json": {
       "config": {
        "plotlyServerURL": "https://plot.ly"
       },
       "data": [
        {
         "cells": {
          "align": "left",
          "fill": {
           "color": "lightcyan"
          },
          "line": {
           "color": "darkslategray"
          },
          "values": [
           [
            "OLED",
            "HDR10",
            "Backlight LED",
            "120-240 Hz Refresh Rate"
           ],
           [
            "LED",
            "HDR",
            "Supreme UHD Dimming",
            "80-120 Hz Refresh Rate"
           ],
           [
            "LED",
            "UHD Dimming",
            "60 Hz Refresh Rate"
           ]
          ]
         },
         "header": {
          "align": "left",
          "fill": {
           "color": "lightskyblue"
          },
          "line": {
           "color": "darkslategray"
          },
          "values": [
           "High-Range",
           "Mid-Range",
           "Low-Range"
          ]
         },
         "type": "table"
        }
       ],
       "layout": {
        "template": {
         "data": {
          "bar": [
           {
            "error_x": {
             "color": "#2a3f5f"
            },
            "error_y": {
             "color": "#2a3f5f"
            },
            "marker": {
             "line": {
              "color": "#E5ECF6",
              "width": 0.5
             }
            },
            "type": "bar"
           }
          ],
          "barpolar": [
           {
            "marker": {
             "line": {
              "color": "#E5ECF6",
              "width": 0.5
             }
            },
            "type": "barpolar"
           }
          ],
          "carpet": [
           {
            "aaxis": {
             "endlinecolor": "#2a3f5f",
             "gridcolor": "white",
             "linecolor": "white",
             "minorgridcolor": "white",
             "startlinecolor": "#2a3f5f"
            },
            "baxis": {
             "endlinecolor": "#2a3f5f",
             "gridcolor": "white",
             "linecolor": "white",
             "minorgridcolor": "white",
             "startlinecolor": "#2a3f5f"
            },
            "type": "carpet"
           }
          ],
          "choropleth": [
           {
            "colorbar": {
             "outlinewidth": 0,
             "ticks": ""
            },
            "type": "choropleth"
           }
          ],
          "contour": [
           {
            "colorbar": {
             "outlinewidth": 0,
             "ticks": ""
            },
            "colorscale": [
             [
              0,
              "#0d0887"
             ],
             [
              0.1111111111111111,
              "#46039f"
             ],
             [
              0.2222222222222222,
              "#7201a8"
             ],
             [
              0.3333333333333333,
              "#9c179e"
             ],
             [
              0.4444444444444444,
              "#bd3786"
             ],
             [
              0.5555555555555556,
              "#d8576b"
             ],
             [
              0.6666666666666666,
              "#ed7953"
             ],
             [
              0.7777777777777778,
              "#fb9f3a"
             ],
             [
              0.8888888888888888,
              "#fdca26"
             ],
             [
              1,
              "#f0f921"
             ]
            ],
            "type": "contour"
           }
          ],
          "contourcarpet": [
           {
            "colorbar": {
             "outlinewidth": 0,
             "ticks": ""
            },
            "type": "contourcarpet"
           }
          ],
          "heatmap": [
           {
            "colorbar": {
             "outlinewidth": 0,
             "ticks": ""
            },
            "colorscale": [
             [
              0,
              "#0d0887"
             ],
             [
              0.1111111111111111,
              "#46039f"
             ],
             [
              0.2222222222222222,
              "#7201a8"
             ],
             [
              0.3333333333333333,
              "#9c179e"
             ],
             [
              0.4444444444444444,
              "#bd3786"
             ],
             [
              0.5555555555555556,
              "#d8576b"
             ],
             [
              0.6666666666666666,
              "#ed7953"
             ],
             [
              0.7777777777777778,
              "#fb9f3a"
             ],
             [
              0.8888888888888888,
              "#fdca26"
             ],
             [
              1,
              "#f0f921"
             ]
            ],
            "type": "heatmap"
           }
          ],
          "heatmapgl": [
           {
            "colorbar": {
             "outlinewidth": 0,
             "ticks": ""
            },
            "colorscale": [
             [
              0,
              "#0d0887"
             ],
             [
              0.1111111111111111,
              "#46039f"
             ],
             [
              0.2222222222222222,
              "#7201a8"
             ],
             [
              0.3333333333333333,
              "#9c179e"
             ],
             [
              0.4444444444444444,
              "#bd3786"
             ],
             [
              0.5555555555555556,
              "#d8576b"
             ],
             [
              0.6666666666666666,
              "#ed7953"
             ],
             [
              0.7777777777777778,
              "#fb9f3a"
             ],
             [
              0.8888888888888888,
              "#fdca26"
             ],
             [
              1,
              "#f0f921"
             ]
            ],
            "type": "heatmapgl"
           }
          ],
          "histogram": [
           {
            "marker": {
             "colorbar": {
              "outlinewidth": 0,
              "ticks": ""
             }
            },
            "type": "histogram"
           }
          ],
          "histogram2d": [
           {
            "colorbar": {
             "outlinewidth": 0,
             "ticks": ""
            },
            "colorscale": [
             [
              0,
              "#0d0887"
             ],
             [
              0.1111111111111111,
              "#46039f"
             ],
             [
              0.2222222222222222,
              "#7201a8"
             ],
             [
              0.3333333333333333,
              "#9c179e"
             ],
             [
              0.4444444444444444,
              "#bd3786"
             ],
             [
              0.5555555555555556,
              "#d8576b"
             ],
             [
              0.6666666666666666,
              "#ed7953"
             ],
             [
              0.7777777777777778,
              "#fb9f3a"
             ],
             [
              0.8888888888888888,
              "#fdca26"
             ],
             [
              1,
              "#f0f921"
             ]
            ],
            "type": "histogram2d"
           }
          ],
          "histogram2dcontour": [
           {
            "colorbar": {
             "outlinewidth": 0,
             "ticks": ""
            },
            "colorscale": [
             [
              0,
              "#0d0887"
             ],
             [
              0.1111111111111111,
              "#46039f"
             ],
             [
              0.2222222222222222,
              "#7201a8"
             ],
             [
              0.3333333333333333,
              "#9c179e"
             ],
             [
              0.4444444444444444,
              "#bd3786"
             ],
             [
              0.5555555555555556,
              "#d8576b"
             ],
             [
              0.6666666666666666,
              "#ed7953"
             ],
             [
              0.7777777777777778,
              "#fb9f3a"
             ],
             [
              0.8888888888888888,
              "#fdca26"
             ],
             [
              1,
              "#f0f921"
             ]
            ],
            "type": "histogram2dcontour"
           }
          ],
          "mesh3d": [
           {
            "colorbar": {
             "outlinewidth": 0,
             "ticks": ""
            },
            "type": "mesh3d"
           }
          ],
          "parcoords": [
           {
            "line": {
             "colorbar": {
              "outlinewidth": 0,
              "ticks": ""
             }
            },
            "type": "parcoords"
           }
          ],
          "pie": [
           {
            "automargin": true,
            "type": "pie"
           }
          ],
          "scatter": [
           {
            "marker": {
             "colorbar": {
              "outlinewidth": 0,
              "ticks": ""
             }
            },
            "type": "scatter"
           }
          ],
          "scatter3d": [
           {
            "line": {
             "colorbar": {
              "outlinewidth": 0,
              "ticks": ""
             }
            },
            "marker": {
             "colorbar": {
              "outlinewidth": 0,
              "ticks": ""
             }
            },
            "type": "scatter3d"
           }
          ],
          "scattercarpet": [
           {
            "marker": {
             "colorbar": {
              "outlinewidth": 0,
              "ticks": ""
             }
            },
            "type": "scattercarpet"
           }
          ],
          "scattergeo": [
           {
            "marker": {
             "colorbar": {
              "outlinewidth": 0,
              "ticks": ""
             }
            },
            "type": "scattergeo"
           }
          ],
          "scattergl": [
           {
            "marker": {
             "colorbar": {
              "outlinewidth": 0,
              "ticks": ""
             }
            },
            "type": "scattergl"
           }
          ],
          "scattermapbox": [
           {
            "marker": {
             "colorbar": {
              "outlinewidth": 0,
              "ticks": ""
             }
            },
            "type": "scattermapbox"
           }
          ],
          "scatterpolar": [
           {
            "marker": {
             "colorbar": {
              "outlinewidth": 0,
              "ticks": ""
             }
            },
            "type": "scatterpolar"
           }
          ],
          "scatterpolargl": [
           {
            "marker": {
             "colorbar": {
              "outlinewidth": 0,
              "ticks": ""
             }
            },
            "type": "scatterpolargl"
           }
          ],
          "scatterternary": [
           {
            "marker": {
             "colorbar": {
              "outlinewidth": 0,
              "ticks": ""
             }
            },
            "type": "scatterternary"
           }
          ],
          "surface": [
           {
            "colorbar": {
             "outlinewidth": 0,
             "ticks": ""
            },
            "colorscale": [
             [
              0,
              "#0d0887"
             ],
             [
              0.1111111111111111,
              "#46039f"
             ],
             [
              0.2222222222222222,
              "#7201a8"
             ],
             [
              0.3333333333333333,
              "#9c179e"
             ],
             [
              0.4444444444444444,
              "#bd3786"
             ],
             [
              0.5555555555555556,
              "#d8576b"
             ],
             [
              0.6666666666666666,
              "#ed7953"
             ],
             [
              0.7777777777777778,
              "#fb9f3a"
             ],
             [
              0.8888888888888888,
              "#fdca26"
             ],
             [
              1,
              "#f0f921"
             ]
            ],
            "type": "surface"
           }
          ],
          "table": [
           {
            "cells": {
             "fill": {
              "color": "#EBF0F8"
             },
             "line": {
              "color": "white"
             }
            },
            "header": {
             "fill": {
              "color": "#C8D4E3"
             },
             "line": {
              "color": "white"
             }
            },
            "type": "table"
           }
          ]
         },
         "layout": {
          "annotationdefaults": {
           "arrowcolor": "#2a3f5f",
           "arrowhead": 0,
           "arrowwidth": 1
          },
          "coloraxis": {
           "colorbar": {
            "outlinewidth": 0,
            "ticks": ""
           }
          },
          "colorscale": {
           "diverging": [
            [
             0,
             "#8e0152"
            ],
            [
             0.1,
             "#c51b7d"
            ],
            [
             0.2,
             "#de77ae"
            ],
            [
             0.3,
             "#f1b6da"
            ],
            [
             0.4,
             "#fde0ef"
            ],
            [
             0.5,
             "#f7f7f7"
            ],
            [
             0.6,
             "#e6f5d0"
            ],
            [
             0.7,
             "#b8e186"
            ],
            [
             0.8,
             "#7fbc41"
            ],
            [
             0.9,
             "#4d9221"
            ],
            [
             1,
             "#276419"
            ]
           ],
           "sequential": [
            [
             0,
             "#0d0887"
            ],
            [
             0.1111111111111111,
             "#46039f"
            ],
            [
             0.2222222222222222,
             "#7201a8"
            ],
            [
             0.3333333333333333,
             "#9c179e"
            ],
            [
             0.4444444444444444,
             "#bd3786"
            ],
            [
             0.5555555555555556,
             "#d8576b"
            ],
            [
             0.6666666666666666,
             "#ed7953"
            ],
            [
             0.7777777777777778,
             "#fb9f3a"
            ],
            [
             0.8888888888888888,
             "#fdca26"
            ],
            [
             1,
             "#f0f921"
            ]
           ],
           "sequentialminus": [
            [
             0,
             "#0d0887"
            ],
            [
             0.1111111111111111,
             "#46039f"
            ],
            [
             0.2222222222222222,
             "#7201a8"
            ],
            [
             0.3333333333333333,
             "#9c179e"
            ],
            [
             0.4444444444444444,
             "#bd3786"
            ],
            [
             0.5555555555555556,
             "#d8576b"
            ],
            [
             0.6666666666666666,
             "#ed7953"
            ],
            [
             0.7777777777777778,
             "#fb9f3a"
            ],
            [
             0.8888888888888888,
             "#fdca26"
            ],
            [
             1,
             "#f0f921"
            ]
           ]
          },
          "colorway": [
           "#636efa",
           "#EF553B",
           "#00cc96",
           "#ab63fa",
           "#FFA15A",
           "#19d3f3",
           "#FF6692",
           "#B6E880",
           "#FF97FF",
           "#FECB52"
          ],
          "font": {
           "color": "#2a3f5f"
          },
          "geo": {
           "bgcolor": "white",
           "lakecolor": "white",
           "landcolor": "#E5ECF6",
           "showlakes": true,
           "showland": true,
           "subunitcolor": "white"
          },
          "hoverlabel": {
           "align": "left"
          },
          "hovermode": "closest",
          "mapbox": {
           "style": "light"
          },
          "paper_bgcolor": "white",
          "plot_bgcolor": "#E5ECF6",
          "polar": {
           "angularaxis": {
            "gridcolor": "white",
            "linecolor": "white",
            "ticks": ""
           },
           "bgcolor": "#E5ECF6",
           "radialaxis": {
            "gridcolor": "white",
            "linecolor": "white",
            "ticks": ""
           }
          },
          "scene": {
           "xaxis": {
            "backgroundcolor": "#E5ECF6",
            "gridcolor": "white",
            "gridwidth": 2,
            "linecolor": "white",
            "showbackground": true,
            "ticks": "",
            "zerolinecolor": "white"
           },
           "yaxis": {
            "backgroundcolor": "#E5ECF6",
            "gridcolor": "white",
            "gridwidth": 2,
            "linecolor": "white",
            "showbackground": true,
            "ticks": "",
            "zerolinecolor": "white"
           },
           "zaxis": {
            "backgroundcolor": "#E5ECF6",
            "gridcolor": "white",
            "gridwidth": 2,
            "linecolor": "white",
            "showbackground": true,
            "ticks": "",
            "zerolinecolor": "white"
           }
          },
          "shapedefaults": {
           "line": {
            "color": "#2a3f5f"
           }
          },
          "ternary": {
           "aaxis": {
            "gridcolor": "white",
            "linecolor": "white",
            "ticks": ""
           },
           "baxis": {
            "gridcolor": "white",
            "linecolor": "white",
            "ticks": ""
           },
           "bgcolor": "#E5ECF6",
           "caxis": {
            "gridcolor": "white",
            "linecolor": "white",
            "ticks": ""
           }
          },
          "title": {
           "x": 0.05
          },
          "xaxis": {
           "automargin": true,
           "gridcolor": "white",
           "linecolor": "white",
           "ticks": "",
           "title": {
            "standoff": 15
           },
           "zerolinecolor": "white",
           "zerolinewidth": 2
          },
          "yaxis": {
           "automargin": true,
           "gridcolor": "white",
           "linecolor": "white",
           "ticks": "",
           "title": {
            "standoff": 15
           },
           "zerolinecolor": "white",
           "zerolinewidth": 2
          }
         }
        }
       }
      },
      "text/html": [
       "<div>\n",
       "        \n",
       "        \n",
       "            <div id=\"330335ba-d0af-4f17-b633-3b534599b615\" class=\"plotly-graph-div\" style=\"height:525px; width:100%;\"></div>\n",
       "            <script type=\"text/javascript\">\n",
       "                require([\"plotly\"], function(Plotly) {\n",
       "                    window.PLOTLYENV=window.PLOTLYENV || {};\n",
       "                    \n",
       "                if (document.getElementById(\"330335ba-d0af-4f17-b633-3b534599b615\")) {\n",
       "                    Plotly.newPlot(\n",
       "                        '330335ba-d0af-4f17-b633-3b534599b615',\n",
       "                        [{\"cells\": {\"align\": \"left\", \"fill\": {\"color\": \"lightcyan\"}, \"line\": {\"color\": \"darkslategray\"}, \"values\": [[\"OLED\", \"HDR10\", \"Backlight LED\", \"120-240 Hz Refresh Rate\"], [\"LED\", \"HDR\", \"Supreme UHD Dimming\", \"80-120 Hz Refresh Rate\"], [\"LED\", \"UHD Dimming\", \"60 Hz Refresh Rate\"]]}, \"header\": {\"align\": \"left\", \"fill\": {\"color\": \"lightskyblue\"}, \"line\": {\"color\": \"darkslategray\"}, \"values\": [\"High-Range\", \"Mid-Range\", \"Low-Range\"]}, \"type\": \"table\"}],\n",
       "                        {\"template\": {\"data\": {\"bar\": [{\"error_x\": {\"color\": \"#2a3f5f\"}, \"error_y\": {\"color\": \"#2a3f5f\"}, \"marker\": {\"line\": {\"color\": \"#E5ECF6\", \"width\": 0.5}}, \"type\": \"bar\"}], \"barpolar\": [{\"marker\": {\"line\": {\"color\": \"#E5ECF6\", \"width\": 0.5}}, \"type\": \"barpolar\"}], \"carpet\": [{\"aaxis\": {\"endlinecolor\": \"#2a3f5f\", \"gridcolor\": \"white\", \"linecolor\": \"white\", \"minorgridcolor\": \"white\", \"startlinecolor\": \"#2a3f5f\"}, \"baxis\": {\"endlinecolor\": \"#2a3f5f\", \"gridcolor\": \"white\", \"linecolor\": \"white\", \"minorgridcolor\": \"white\", \"startlinecolor\": \"#2a3f5f\"}, \"type\": \"carpet\"}], \"choropleth\": [{\"colorbar\": {\"outlinewidth\": 0, \"ticks\": \"\"}, \"type\": \"choropleth\"}], \"contour\": [{\"colorbar\": {\"outlinewidth\": 0, \"ticks\": \"\"}, \"colorscale\": [[0.0, \"#0d0887\"], [0.1111111111111111, \"#46039f\"], [0.2222222222222222, \"#7201a8\"], [0.3333333333333333, \"#9c179e\"], [0.4444444444444444, \"#bd3786\"], [0.5555555555555556, \"#d8576b\"], [0.6666666666666666, \"#ed7953\"], [0.7777777777777778, \"#fb9f3a\"], [0.8888888888888888, \"#fdca26\"], [1.0, \"#f0f921\"]], \"type\": \"contour\"}], \"contourcarpet\": [{\"colorbar\": {\"outlinewidth\": 0, \"ticks\": \"\"}, \"type\": \"contourcarpet\"}], \"heatmap\": [{\"colorbar\": {\"outlinewidth\": 0, \"ticks\": \"\"}, \"colorscale\": [[0.0, \"#0d0887\"], [0.1111111111111111, \"#46039f\"], [0.2222222222222222, \"#7201a8\"], [0.3333333333333333, \"#9c179e\"], [0.4444444444444444, \"#bd3786\"], [0.5555555555555556, \"#d8576b\"], [0.6666666666666666, \"#ed7953\"], [0.7777777777777778, \"#fb9f3a\"], [0.8888888888888888, \"#fdca26\"], [1.0, \"#f0f921\"]], \"type\": \"heatmap\"}], \"heatmapgl\": [{\"colorbar\": {\"outlinewidth\": 0, \"ticks\": \"\"}, \"colorscale\": [[0.0, \"#0d0887\"], [0.1111111111111111, \"#46039f\"], [0.2222222222222222, \"#7201a8\"], [0.3333333333333333, \"#9c179e\"], [0.4444444444444444, \"#bd3786\"], [0.5555555555555556, \"#d8576b\"], [0.6666666666666666, \"#ed7953\"], [0.7777777777777778, \"#fb9f3a\"], [0.8888888888888888, \"#fdca26\"], [1.0, \"#f0f921\"]], \"type\": \"heatmapgl\"}], \"histogram\": [{\"marker\": {\"colorbar\": {\"outlinewidth\": 0, \"ticks\": \"\"}}, \"type\": \"histogram\"}], \"histogram2d\": [{\"colorbar\": {\"outlinewidth\": 0, \"ticks\": \"\"}, \"colorscale\": [[0.0, \"#0d0887\"], [0.1111111111111111, \"#46039f\"], [0.2222222222222222, \"#7201a8\"], [0.3333333333333333, \"#9c179e\"], [0.4444444444444444, \"#bd3786\"], [0.5555555555555556, \"#d8576b\"], [0.6666666666666666, \"#ed7953\"], [0.7777777777777778, \"#fb9f3a\"], [0.8888888888888888, \"#fdca26\"], [1.0, \"#f0f921\"]], \"type\": \"histogram2d\"}], \"histogram2dcontour\": [{\"colorbar\": {\"outlinewidth\": 0, \"ticks\": \"\"}, \"colorscale\": [[0.0, \"#0d0887\"], [0.1111111111111111, \"#46039f\"], [0.2222222222222222, \"#7201a8\"], [0.3333333333333333, \"#9c179e\"], [0.4444444444444444, \"#bd3786\"], [0.5555555555555556, \"#d8576b\"], [0.6666666666666666, \"#ed7953\"], [0.7777777777777778, \"#fb9f3a\"], [0.8888888888888888, \"#fdca26\"], [1.0, \"#f0f921\"]], \"type\": \"histogram2dcontour\"}], \"mesh3d\": [{\"colorbar\": {\"outlinewidth\": 0, \"ticks\": \"\"}, \"type\": \"mesh3d\"}], \"parcoords\": [{\"line\": {\"colorbar\": {\"outlinewidth\": 0, \"ticks\": \"\"}}, \"type\": \"parcoords\"}], \"pie\": [{\"automargin\": true, \"type\": \"pie\"}], \"scatter\": [{\"marker\": {\"colorbar\": {\"outlinewidth\": 0, \"ticks\": \"\"}}, \"type\": \"scatter\"}], \"scatter3d\": [{\"line\": {\"colorbar\": {\"outlinewidth\": 0, \"ticks\": \"\"}}, \"marker\": {\"colorbar\": {\"outlinewidth\": 0, \"ticks\": \"\"}}, \"type\": \"scatter3d\"}], \"scattercarpet\": [{\"marker\": {\"colorbar\": {\"outlinewidth\": 0, \"ticks\": \"\"}}, \"type\": \"scattercarpet\"}], \"scattergeo\": [{\"marker\": {\"colorbar\": {\"outlinewidth\": 0, \"ticks\": \"\"}}, \"type\": \"scattergeo\"}], \"scattergl\": [{\"marker\": {\"colorbar\": {\"outlinewidth\": 0, \"ticks\": \"\"}}, \"type\": \"scattergl\"}], \"scattermapbox\": [{\"marker\": {\"colorbar\": {\"outlinewidth\": 0, \"ticks\": \"\"}}, \"type\": \"scattermapbox\"}], \"scatterpolar\": [{\"marker\": {\"colorbar\": {\"outlinewidth\": 0, \"ticks\": \"\"}}, \"type\": \"scatterpolar\"}], \"scatterpolargl\": [{\"marker\": {\"colorbar\": {\"outlinewidth\": 0, \"ticks\": \"\"}}, \"type\": \"scatterpolargl\"}], \"scatterternary\": [{\"marker\": {\"colorbar\": {\"outlinewidth\": 0, \"ticks\": \"\"}}, \"type\": \"scatterternary\"}], \"surface\": [{\"colorbar\": {\"outlinewidth\": 0, \"ticks\": \"\"}, \"colorscale\": [[0.0, \"#0d0887\"], [0.1111111111111111, \"#46039f\"], [0.2222222222222222, \"#7201a8\"], [0.3333333333333333, \"#9c179e\"], [0.4444444444444444, \"#bd3786\"], [0.5555555555555556, \"#d8576b\"], [0.6666666666666666, \"#ed7953\"], [0.7777777777777778, \"#fb9f3a\"], [0.8888888888888888, \"#fdca26\"], [1.0, \"#f0f921\"]], \"type\": \"surface\"}], \"table\": [{\"cells\": {\"fill\": {\"color\": \"#EBF0F8\"}, \"line\": {\"color\": \"white\"}}, \"header\": {\"fill\": {\"color\": \"#C8D4E3\"}, \"line\": {\"color\": \"white\"}}, \"type\": \"table\"}]}, \"layout\": {\"annotationdefaults\": {\"arrowcolor\": \"#2a3f5f\", \"arrowhead\": 0, \"arrowwidth\": 1}, \"coloraxis\": {\"colorbar\": {\"outlinewidth\": 0, \"ticks\": \"\"}}, \"colorscale\": {\"diverging\": [[0, \"#8e0152\"], [0.1, \"#c51b7d\"], [0.2, \"#de77ae\"], [0.3, \"#f1b6da\"], [0.4, \"#fde0ef\"], [0.5, \"#f7f7f7\"], [0.6, \"#e6f5d0\"], [0.7, \"#b8e186\"], [0.8, \"#7fbc41\"], [0.9, \"#4d9221\"], [1, \"#276419\"]], \"sequential\": [[0.0, \"#0d0887\"], [0.1111111111111111, \"#46039f\"], [0.2222222222222222, \"#7201a8\"], [0.3333333333333333, \"#9c179e\"], [0.4444444444444444, \"#bd3786\"], [0.5555555555555556, \"#d8576b\"], [0.6666666666666666, \"#ed7953\"], [0.7777777777777778, \"#fb9f3a\"], [0.8888888888888888, \"#fdca26\"], [1.0, \"#f0f921\"]], \"sequentialminus\": [[0.0, \"#0d0887\"], [0.1111111111111111, \"#46039f\"], [0.2222222222222222, \"#7201a8\"], [0.3333333333333333, \"#9c179e\"], [0.4444444444444444, \"#bd3786\"], [0.5555555555555556, \"#d8576b\"], [0.6666666666666666, \"#ed7953\"], [0.7777777777777778, \"#fb9f3a\"], [0.8888888888888888, \"#fdca26\"], [1.0, \"#f0f921\"]]}, \"colorway\": [\"#636efa\", \"#EF553B\", \"#00cc96\", \"#ab63fa\", \"#FFA15A\", \"#19d3f3\", \"#FF6692\", \"#B6E880\", \"#FF97FF\", \"#FECB52\"], \"font\": {\"color\": \"#2a3f5f\"}, \"geo\": {\"bgcolor\": \"white\", \"lakecolor\": \"white\", \"landcolor\": \"#E5ECF6\", \"showlakes\": true, \"showland\": true, \"subunitcolor\": \"white\"}, \"hoverlabel\": {\"align\": \"left\"}, \"hovermode\": \"closest\", \"mapbox\": {\"style\": \"light\"}, \"paper_bgcolor\": \"white\", \"plot_bgcolor\": \"#E5ECF6\", \"polar\": {\"angularaxis\": {\"gridcolor\": \"white\", \"linecolor\": \"white\", \"ticks\": \"\"}, \"bgcolor\": \"#E5ECF6\", \"radialaxis\": {\"gridcolor\": \"white\", \"linecolor\": \"white\", \"ticks\": \"\"}}, \"scene\": {\"xaxis\": {\"backgroundcolor\": \"#E5ECF6\", \"gridcolor\": \"white\", \"gridwidth\": 2, \"linecolor\": \"white\", \"showbackground\": true, \"ticks\": \"\", \"zerolinecolor\": \"white\"}, \"yaxis\": {\"backgroundcolor\": \"#E5ECF6\", \"gridcolor\": \"white\", \"gridwidth\": 2, \"linecolor\": \"white\", \"showbackground\": true, \"ticks\": \"\", \"zerolinecolor\": \"white\"}, \"zaxis\": {\"backgroundcolor\": \"#E5ECF6\", \"gridcolor\": \"white\", \"gridwidth\": 2, \"linecolor\": \"white\", \"showbackground\": true, \"ticks\": \"\", \"zerolinecolor\": \"white\"}}, \"shapedefaults\": {\"line\": {\"color\": \"#2a3f5f\"}}, \"ternary\": {\"aaxis\": {\"gridcolor\": \"white\", \"linecolor\": \"white\", \"ticks\": \"\"}, \"baxis\": {\"gridcolor\": \"white\", \"linecolor\": \"white\", \"ticks\": \"\"}, \"bgcolor\": \"#E5ECF6\", \"caxis\": {\"gridcolor\": \"white\", \"linecolor\": \"white\", \"ticks\": \"\"}}, \"title\": {\"x\": 0.05}, \"xaxis\": {\"automargin\": true, \"gridcolor\": \"white\", \"linecolor\": \"white\", \"ticks\": \"\", \"title\": {\"standoff\": 15}, \"zerolinecolor\": \"white\", \"zerolinewidth\": 2}, \"yaxis\": {\"automargin\": true, \"gridcolor\": \"white\", \"linecolor\": \"white\", \"ticks\": \"\", \"title\": {\"standoff\": 15}, \"zerolinecolor\": \"white\", \"zerolinewidth\": 2}}}},\n",
       "                        {\"responsive\": true}\n",
       "                    ).then(function(){\n",
       "                            \n",
       "var gd = document.getElementById('330335ba-d0af-4f17-b633-3b534599b615');\n",
       "var x = new MutationObserver(function (mutations, observer) {{\n",
       "        var display = window.getComputedStyle(gd).display;\n",
       "        if (!display || display === 'none') {{\n",
       "            console.log([gd, 'removed!']);\n",
       "            Plotly.purge(gd);\n",
       "            observer.disconnect();\n",
       "        }}\n",
       "}});\n",
       "\n",
       "// Listen for the removal of the full notebook cells\n",
       "var notebookContainer = gd.closest('#notebook-container');\n",
       "if (notebookContainer) {{\n",
       "    x.observe(notebookContainer, {childList: true});\n",
       "}}\n",
       "\n",
       "// Listen for the clearing of the current output cell\n",
       "var outputEl = gd.closest('.output');\n",
       "if (outputEl) {{\n",
       "    x.observe(outputEl, {childList: true});\n",
       "}}\n",
       "\n",
       "                        })\n",
       "                };\n",
       "                });\n",
       "            </script>\n",
       "        </div>"
      ]
     },
     "metadata": {},
     "output_type": "display_data"
    }
   ],
   "source": [
    "# Product features at price-points\n",
    "\n",
    "fig = go.Figure(data=[go.Table(\n",
    "    header=dict(values=['High-Range', 'Mid-Range', 'Low-Range'],\n",
    "            line_color='darkslategray',\n",
    "            fill_color='lightskyblue',\n",
    "            align='left'),\n",
    "    cells=dict(values=[['OLED', 'HDR10', 'Backlight LED', '120-240 Hz Refresh Rate'], \n",
    "                       ['LED', 'HDR', 'Supreme UHD Dimming', '80-120 Hz Refresh Rate'],\n",
    "                       ['LED', 'UHD Dimming', '60 Hz Refresh Rate']],\n",
    "               line_color='darkslategray',\n",
    "               fill_color='lightcyan',\n",
    "               align='left'))\n",
    "])\n",
    "\n",
    "fig.show()\n",
    "\n",
    "#fig.write_image(\"images/fig9.png\")\n"
   ]
  },
  {
   "cell_type": "code",
   "execution_count": 498,
   "metadata": {},
   "outputs": [
    {
     "data": {
      "application/vnd.plotly.v1+json": {
       "config": {
        "plotlyServerURL": "https://plot.ly"
       },
       "data": [
        {
         "cells": {
          "align": "left",
          "fill": {
           "color": "lavender"
          },
          "values": [
           [
            "High",
            "High",
            "High",
            "Low",
            "Low",
            "Low",
            "Low",
            "Medium",
            "Medium",
            "Medium"
           ],
           [
            "Free",
            "Free on orders 50 and up",
            "Standard",
            "Free",
            "Free on orders 50 and up",
            "Standard",
            "USD 179.35",
            "Free",
            "Free on orders 50 and up",
            "Standard"
           ],
           [
            31,
            14,
            16,
            19,
            4,
            18,
            1,
            21,
            5,
            9
           ]
          ]
         },
         "header": {
          "align": "left",
          "fill": {
           "color": "paleturquoise"
          },
          "values": [
           "Label",
           "Shipping",
           "Count"
          ]
         },
         "type": "table"
        }
       ],
       "layout": {
        "template": {
         "data": {
          "bar": [
           {
            "error_x": {
             "color": "#2a3f5f"
            },
            "error_y": {
             "color": "#2a3f5f"
            },
            "marker": {
             "line": {
              "color": "#E5ECF6",
              "width": 0.5
             }
            },
            "type": "bar"
           }
          ],
          "barpolar": [
           {
            "marker": {
             "line": {
              "color": "#E5ECF6",
              "width": 0.5
             }
            },
            "type": "barpolar"
           }
          ],
          "carpet": [
           {
            "aaxis": {
             "endlinecolor": "#2a3f5f",
             "gridcolor": "white",
             "linecolor": "white",
             "minorgridcolor": "white",
             "startlinecolor": "#2a3f5f"
            },
            "baxis": {
             "endlinecolor": "#2a3f5f",
             "gridcolor": "white",
             "linecolor": "white",
             "minorgridcolor": "white",
             "startlinecolor": "#2a3f5f"
            },
            "type": "carpet"
           }
          ],
          "choropleth": [
           {
            "colorbar": {
             "outlinewidth": 0,
             "ticks": ""
            },
            "type": "choropleth"
           }
          ],
          "contour": [
           {
            "colorbar": {
             "outlinewidth": 0,
             "ticks": ""
            },
            "colorscale": [
             [
              0,
              "#0d0887"
             ],
             [
              0.1111111111111111,
              "#46039f"
             ],
             [
              0.2222222222222222,
              "#7201a8"
             ],
             [
              0.3333333333333333,
              "#9c179e"
             ],
             [
              0.4444444444444444,
              "#bd3786"
             ],
             [
              0.5555555555555556,
              "#d8576b"
             ],
             [
              0.6666666666666666,
              "#ed7953"
             ],
             [
              0.7777777777777778,
              "#fb9f3a"
             ],
             [
              0.8888888888888888,
              "#fdca26"
             ],
             [
              1,
              "#f0f921"
             ]
            ],
            "type": "contour"
           }
          ],
          "contourcarpet": [
           {
            "colorbar": {
             "outlinewidth": 0,
             "ticks": ""
            },
            "type": "contourcarpet"
           }
          ],
          "heatmap": [
           {
            "colorbar": {
             "outlinewidth": 0,
             "ticks": ""
            },
            "colorscale": [
             [
              0,
              "#0d0887"
             ],
             [
              0.1111111111111111,
              "#46039f"
             ],
             [
              0.2222222222222222,
              "#7201a8"
             ],
             [
              0.3333333333333333,
              "#9c179e"
             ],
             [
              0.4444444444444444,
              "#bd3786"
             ],
             [
              0.5555555555555556,
              "#d8576b"
             ],
             [
              0.6666666666666666,
              "#ed7953"
             ],
             [
              0.7777777777777778,
              "#fb9f3a"
             ],
             [
              0.8888888888888888,
              "#fdca26"
             ],
             [
              1,
              "#f0f921"
             ]
            ],
            "type": "heatmap"
           }
          ],
          "heatmapgl": [
           {
            "colorbar": {
             "outlinewidth": 0,
             "ticks": ""
            },
            "colorscale": [
             [
              0,
              "#0d0887"
             ],
             [
              0.1111111111111111,
              "#46039f"
             ],
             [
              0.2222222222222222,
              "#7201a8"
             ],
             [
              0.3333333333333333,
              "#9c179e"
             ],
             [
              0.4444444444444444,
              "#bd3786"
             ],
             [
              0.5555555555555556,
              "#d8576b"
             ],
             [
              0.6666666666666666,
              "#ed7953"
             ],
             [
              0.7777777777777778,
              "#fb9f3a"
             ],
             [
              0.8888888888888888,
              "#fdca26"
             ],
             [
              1,
              "#f0f921"
             ]
            ],
            "type": "heatmapgl"
           }
          ],
          "histogram": [
           {
            "marker": {
             "colorbar": {
              "outlinewidth": 0,
              "ticks": ""
             }
            },
            "type": "histogram"
           }
          ],
          "histogram2d": [
           {
            "colorbar": {
             "outlinewidth": 0,
             "ticks": ""
            },
            "colorscale": [
             [
              0,
              "#0d0887"
             ],
             [
              0.1111111111111111,
              "#46039f"
             ],
             [
              0.2222222222222222,
              "#7201a8"
             ],
             [
              0.3333333333333333,
              "#9c179e"
             ],
             [
              0.4444444444444444,
              "#bd3786"
             ],
             [
              0.5555555555555556,
              "#d8576b"
             ],
             [
              0.6666666666666666,
              "#ed7953"
             ],
             [
              0.7777777777777778,
              "#fb9f3a"
             ],
             [
              0.8888888888888888,
              "#fdca26"
             ],
             [
              1,
              "#f0f921"
             ]
            ],
            "type": "histogram2d"
           }
          ],
          "histogram2dcontour": [
           {
            "colorbar": {
             "outlinewidth": 0,
             "ticks": ""
            },
            "colorscale": [
             [
              0,
              "#0d0887"
             ],
             [
              0.1111111111111111,
              "#46039f"
             ],
             [
              0.2222222222222222,
              "#7201a8"
             ],
             [
              0.3333333333333333,
              "#9c179e"
             ],
             [
              0.4444444444444444,
              "#bd3786"
             ],
             [
              0.5555555555555556,
              "#d8576b"
             ],
             [
              0.6666666666666666,
              "#ed7953"
             ],
             [
              0.7777777777777778,
              "#fb9f3a"
             ],
             [
              0.8888888888888888,
              "#fdca26"
             ],
             [
              1,
              "#f0f921"
             ]
            ],
            "type": "histogram2dcontour"
           }
          ],
          "mesh3d": [
           {
            "colorbar": {
             "outlinewidth": 0,
             "ticks": ""
            },
            "type": "mesh3d"
           }
          ],
          "parcoords": [
           {
            "line": {
             "colorbar": {
              "outlinewidth": 0,
              "ticks": ""
             }
            },
            "type": "parcoords"
           }
          ],
          "pie": [
           {
            "automargin": true,
            "type": "pie"
           }
          ],
          "scatter": [
           {
            "marker": {
             "colorbar": {
              "outlinewidth": 0,
              "ticks": ""
             }
            },
            "type": "scatter"
           }
          ],
          "scatter3d": [
           {
            "line": {
             "colorbar": {
              "outlinewidth": 0,
              "ticks": ""
             }
            },
            "marker": {
             "colorbar": {
              "outlinewidth": 0,
              "ticks": ""
             }
            },
            "type": "scatter3d"
           }
          ],
          "scattercarpet": [
           {
            "marker": {
             "colorbar": {
              "outlinewidth": 0,
              "ticks": ""
             }
            },
            "type": "scattercarpet"
           }
          ],
          "scattergeo": [
           {
            "marker": {
             "colorbar": {
              "outlinewidth": 0,
              "ticks": ""
             }
            },
            "type": "scattergeo"
           }
          ],
          "scattergl": [
           {
            "marker": {
             "colorbar": {
              "outlinewidth": 0,
              "ticks": ""
             }
            },
            "type": "scattergl"
           }
          ],
          "scattermapbox": [
           {
            "marker": {
             "colorbar": {
              "outlinewidth": 0,
              "ticks": ""
             }
            },
            "type": "scattermapbox"
           }
          ],
          "scatterpolar": [
           {
            "marker": {
             "colorbar": {
              "outlinewidth": 0,
              "ticks": ""
             }
            },
            "type": "scatterpolar"
           }
          ],
          "scatterpolargl": [
           {
            "marker": {
             "colorbar": {
              "outlinewidth": 0,
              "ticks": ""
             }
            },
            "type": "scatterpolargl"
           }
          ],
          "scatterternary": [
           {
            "marker": {
             "colorbar": {
              "outlinewidth": 0,
              "ticks": ""
             }
            },
            "type": "scatterternary"
           }
          ],
          "surface": [
           {
            "colorbar": {
             "outlinewidth": 0,
             "ticks": ""
            },
            "colorscale": [
             [
              0,
              "#0d0887"
             ],
             [
              0.1111111111111111,
              "#46039f"
             ],
             [
              0.2222222222222222,
              "#7201a8"
             ],
             [
              0.3333333333333333,
              "#9c179e"
             ],
             [
              0.4444444444444444,
              "#bd3786"
             ],
             [
              0.5555555555555556,
              "#d8576b"
             ],
             [
              0.6666666666666666,
              "#ed7953"
             ],
             [
              0.7777777777777778,
              "#fb9f3a"
             ],
             [
              0.8888888888888888,
              "#fdca26"
             ],
             [
              1,
              "#f0f921"
             ]
            ],
            "type": "surface"
           }
          ],
          "table": [
           {
            "cells": {
             "fill": {
              "color": "#EBF0F8"
             },
             "line": {
              "color": "white"
             }
            },
            "header": {
             "fill": {
              "color": "#C8D4E3"
             },
             "line": {
              "color": "white"
             }
            },
            "type": "table"
           }
          ]
         },
         "layout": {
          "annotationdefaults": {
           "arrowcolor": "#2a3f5f",
           "arrowhead": 0,
           "arrowwidth": 1
          },
          "coloraxis": {
           "colorbar": {
            "outlinewidth": 0,
            "ticks": ""
           }
          },
          "colorscale": {
           "diverging": [
            [
             0,
             "#8e0152"
            ],
            [
             0.1,
             "#c51b7d"
            ],
            [
             0.2,
             "#de77ae"
            ],
            [
             0.3,
             "#f1b6da"
            ],
            [
             0.4,
             "#fde0ef"
            ],
            [
             0.5,
             "#f7f7f7"
            ],
            [
             0.6,
             "#e6f5d0"
            ],
            [
             0.7,
             "#b8e186"
            ],
            [
             0.8,
             "#7fbc41"
            ],
            [
             0.9,
             "#4d9221"
            ],
            [
             1,
             "#276419"
            ]
           ],
           "sequential": [
            [
             0,
             "#0d0887"
            ],
            [
             0.1111111111111111,
             "#46039f"
            ],
            [
             0.2222222222222222,
             "#7201a8"
            ],
            [
             0.3333333333333333,
             "#9c179e"
            ],
            [
             0.4444444444444444,
             "#bd3786"
            ],
            [
             0.5555555555555556,
             "#d8576b"
            ],
            [
             0.6666666666666666,
             "#ed7953"
            ],
            [
             0.7777777777777778,
             "#fb9f3a"
            ],
            [
             0.8888888888888888,
             "#fdca26"
            ],
            [
             1,
             "#f0f921"
            ]
           ],
           "sequentialminus": [
            [
             0,
             "#0d0887"
            ],
            [
             0.1111111111111111,
             "#46039f"
            ],
            [
             0.2222222222222222,
             "#7201a8"
            ],
            [
             0.3333333333333333,
             "#9c179e"
            ],
            [
             0.4444444444444444,
             "#bd3786"
            ],
            [
             0.5555555555555556,
             "#d8576b"
            ],
            [
             0.6666666666666666,
             "#ed7953"
            ],
            [
             0.7777777777777778,
             "#fb9f3a"
            ],
            [
             0.8888888888888888,
             "#fdca26"
            ],
            [
             1,
             "#f0f921"
            ]
           ]
          },
          "colorway": [
           "#636efa",
           "#EF553B",
           "#00cc96",
           "#ab63fa",
           "#FFA15A",
           "#19d3f3",
           "#FF6692",
           "#B6E880",
           "#FF97FF",
           "#FECB52"
          ],
          "font": {
           "color": "#2a3f5f"
          },
          "geo": {
           "bgcolor": "white",
           "lakecolor": "white",
           "landcolor": "#E5ECF6",
           "showlakes": true,
           "showland": true,
           "subunitcolor": "white"
          },
          "hoverlabel": {
           "align": "left"
          },
          "hovermode": "closest",
          "mapbox": {
           "style": "light"
          },
          "paper_bgcolor": "white",
          "plot_bgcolor": "#E5ECF6",
          "polar": {
           "angularaxis": {
            "gridcolor": "white",
            "linecolor": "white",
            "ticks": ""
           },
           "bgcolor": "#E5ECF6",
           "radialaxis": {
            "gridcolor": "white",
            "linecolor": "white",
            "ticks": ""
           }
          },
          "scene": {
           "xaxis": {
            "backgroundcolor": "#E5ECF6",
            "gridcolor": "white",
            "gridwidth": 2,
            "linecolor": "white",
            "showbackground": true,
            "ticks": "",
            "zerolinecolor": "white"
           },
           "yaxis": {
            "backgroundcolor": "#E5ECF6",
            "gridcolor": "white",
            "gridwidth": 2,
            "linecolor": "white",
            "showbackground": true,
            "ticks": "",
            "zerolinecolor": "white"
           },
           "zaxis": {
            "backgroundcolor": "#E5ECF6",
            "gridcolor": "white",
            "gridwidth": 2,
            "linecolor": "white",
            "showbackground": true,
            "ticks": "",
            "zerolinecolor": "white"
           }
          },
          "shapedefaults": {
           "line": {
            "color": "#2a3f5f"
           }
          },
          "ternary": {
           "aaxis": {
            "gridcolor": "white",
            "linecolor": "white",
            "ticks": ""
           },
           "baxis": {
            "gridcolor": "white",
            "linecolor": "white",
            "ticks": ""
           },
           "bgcolor": "#E5ECF6",
           "caxis": {
            "gridcolor": "white",
            "linecolor": "white",
            "ticks": ""
           }
          },
          "title": {
           "x": 0.05
          },
          "xaxis": {
           "automargin": true,
           "gridcolor": "white",
           "linecolor": "white",
           "ticks": "",
           "title": {
            "standoff": 15
           },
           "zerolinecolor": "white",
           "zerolinewidth": 2
          },
          "yaxis": {
           "automargin": true,
           "gridcolor": "white",
           "linecolor": "white",
           "ticks": "",
           "title": {
            "standoff": 15
           },
           "zerolinecolor": "white",
           "zerolinewidth": 2
          }
         }
        }
       }
      },
      "text/html": [
       "<div>\n",
       "        \n",
       "        \n",
       "            <div id=\"bc28a5bb-2e29-4cec-9a9b-15d104034797\" class=\"plotly-graph-div\" style=\"height:525px; width:100%;\"></div>\n",
       "            <script type=\"text/javascript\">\n",
       "                require([\"plotly\"], function(Plotly) {\n",
       "                    window.PLOTLYENV=window.PLOTLYENV || {};\n",
       "                    \n",
       "                if (document.getElementById(\"bc28a5bb-2e29-4cec-9a9b-15d104034797\")) {\n",
       "                    Plotly.newPlot(\n",
       "                        'bc28a5bb-2e29-4cec-9a9b-15d104034797',\n",
       "                        [{\"cells\": {\"align\": \"left\", \"fill\": {\"color\": \"lavender\"}, \"values\": [[\"High\", \"High\", \"High\", \"Low\", \"Low\", \"Low\", \"Low\", \"Medium\", \"Medium\", \"Medium\"], [\"Free\", \"Free on orders 50 and up\", \"Standard\", \"Free\", \"Free on orders 50 and up\", \"Standard\", \"USD 179.35\", \"Free\", \"Free on orders 50 and up\", \"Standard\"], [31, 14, 16, 19, 4, 18, 1, 21, 5, 9]]}, \"header\": {\"align\": \"left\", \"fill\": {\"color\": \"paleturquoise\"}, \"values\": [\"Label\", \"Shipping\", \"Count\"]}, \"type\": \"table\"}],\n",
       "                        {\"template\": {\"data\": {\"bar\": [{\"error_x\": {\"color\": \"#2a3f5f\"}, \"error_y\": {\"color\": \"#2a3f5f\"}, \"marker\": {\"line\": {\"color\": \"#E5ECF6\", \"width\": 0.5}}, \"type\": \"bar\"}], \"barpolar\": [{\"marker\": {\"line\": {\"color\": \"#E5ECF6\", \"width\": 0.5}}, \"type\": \"barpolar\"}], \"carpet\": [{\"aaxis\": {\"endlinecolor\": \"#2a3f5f\", \"gridcolor\": \"white\", \"linecolor\": \"white\", \"minorgridcolor\": \"white\", \"startlinecolor\": \"#2a3f5f\"}, \"baxis\": {\"endlinecolor\": \"#2a3f5f\", \"gridcolor\": \"white\", \"linecolor\": \"white\", \"minorgridcolor\": \"white\", \"startlinecolor\": \"#2a3f5f\"}, \"type\": \"carpet\"}], \"choropleth\": [{\"colorbar\": {\"outlinewidth\": 0, \"ticks\": \"\"}, \"type\": \"choropleth\"}], \"contour\": [{\"colorbar\": {\"outlinewidth\": 0, \"ticks\": \"\"}, \"colorscale\": [[0.0, \"#0d0887\"], [0.1111111111111111, \"#46039f\"], [0.2222222222222222, \"#7201a8\"], [0.3333333333333333, \"#9c179e\"], [0.4444444444444444, \"#bd3786\"], [0.5555555555555556, \"#d8576b\"], [0.6666666666666666, \"#ed7953\"], [0.7777777777777778, \"#fb9f3a\"], [0.8888888888888888, \"#fdca26\"], [1.0, \"#f0f921\"]], \"type\": \"contour\"}], \"contourcarpet\": [{\"colorbar\": {\"outlinewidth\": 0, \"ticks\": \"\"}, \"type\": \"contourcarpet\"}], \"heatmap\": [{\"colorbar\": {\"outlinewidth\": 0, \"ticks\": \"\"}, \"colorscale\": [[0.0, \"#0d0887\"], [0.1111111111111111, \"#46039f\"], [0.2222222222222222, \"#7201a8\"], [0.3333333333333333, \"#9c179e\"], [0.4444444444444444, \"#bd3786\"], [0.5555555555555556, \"#d8576b\"], [0.6666666666666666, \"#ed7953\"], [0.7777777777777778, \"#fb9f3a\"], [0.8888888888888888, \"#fdca26\"], [1.0, \"#f0f921\"]], \"type\": \"heatmap\"}], \"heatmapgl\": [{\"colorbar\": {\"outlinewidth\": 0, \"ticks\": \"\"}, \"colorscale\": [[0.0, \"#0d0887\"], [0.1111111111111111, \"#46039f\"], [0.2222222222222222, \"#7201a8\"], [0.3333333333333333, \"#9c179e\"], [0.4444444444444444, \"#bd3786\"], [0.5555555555555556, \"#d8576b\"], [0.6666666666666666, \"#ed7953\"], [0.7777777777777778, \"#fb9f3a\"], [0.8888888888888888, \"#fdca26\"], [1.0, \"#f0f921\"]], \"type\": \"heatmapgl\"}], \"histogram\": [{\"marker\": {\"colorbar\": {\"outlinewidth\": 0, \"ticks\": \"\"}}, \"type\": \"histogram\"}], \"histogram2d\": [{\"colorbar\": {\"outlinewidth\": 0, \"ticks\": \"\"}, \"colorscale\": [[0.0, \"#0d0887\"], [0.1111111111111111, \"#46039f\"], [0.2222222222222222, \"#7201a8\"], [0.3333333333333333, \"#9c179e\"], [0.4444444444444444, \"#bd3786\"], [0.5555555555555556, \"#d8576b\"], [0.6666666666666666, \"#ed7953\"], [0.7777777777777778, \"#fb9f3a\"], [0.8888888888888888, \"#fdca26\"], [1.0, \"#f0f921\"]], \"type\": \"histogram2d\"}], \"histogram2dcontour\": [{\"colorbar\": {\"outlinewidth\": 0, \"ticks\": \"\"}, \"colorscale\": [[0.0, \"#0d0887\"], [0.1111111111111111, \"#46039f\"], [0.2222222222222222, \"#7201a8\"], [0.3333333333333333, \"#9c179e\"], [0.4444444444444444, \"#bd3786\"], [0.5555555555555556, \"#d8576b\"], [0.6666666666666666, \"#ed7953\"], [0.7777777777777778, \"#fb9f3a\"], [0.8888888888888888, \"#fdca26\"], [1.0, \"#f0f921\"]], \"type\": \"histogram2dcontour\"}], \"mesh3d\": [{\"colorbar\": {\"outlinewidth\": 0, \"ticks\": \"\"}, \"type\": \"mesh3d\"}], \"parcoords\": [{\"line\": {\"colorbar\": {\"outlinewidth\": 0, \"ticks\": \"\"}}, \"type\": \"parcoords\"}], \"pie\": [{\"automargin\": true, \"type\": \"pie\"}], \"scatter\": [{\"marker\": {\"colorbar\": {\"outlinewidth\": 0, \"ticks\": \"\"}}, \"type\": \"scatter\"}], \"scatter3d\": [{\"line\": {\"colorbar\": {\"outlinewidth\": 0, \"ticks\": \"\"}}, \"marker\": {\"colorbar\": {\"outlinewidth\": 0, \"ticks\": \"\"}}, \"type\": \"scatter3d\"}], \"scattercarpet\": [{\"marker\": {\"colorbar\": {\"outlinewidth\": 0, \"ticks\": \"\"}}, \"type\": \"scattercarpet\"}], \"scattergeo\": [{\"marker\": {\"colorbar\": {\"outlinewidth\": 0, \"ticks\": \"\"}}, \"type\": \"scattergeo\"}], \"scattergl\": [{\"marker\": {\"colorbar\": {\"outlinewidth\": 0, \"ticks\": \"\"}}, \"type\": \"scattergl\"}], \"scattermapbox\": [{\"marker\": {\"colorbar\": {\"outlinewidth\": 0, \"ticks\": \"\"}}, \"type\": \"scattermapbox\"}], \"scatterpolar\": [{\"marker\": {\"colorbar\": {\"outlinewidth\": 0, \"ticks\": \"\"}}, \"type\": \"scatterpolar\"}], \"scatterpolargl\": [{\"marker\": {\"colorbar\": {\"outlinewidth\": 0, \"ticks\": \"\"}}, \"type\": \"scatterpolargl\"}], \"scatterternary\": [{\"marker\": {\"colorbar\": {\"outlinewidth\": 0, \"ticks\": \"\"}}, \"type\": \"scatterternary\"}], \"surface\": [{\"colorbar\": {\"outlinewidth\": 0, \"ticks\": \"\"}, \"colorscale\": [[0.0, \"#0d0887\"], [0.1111111111111111, \"#46039f\"], [0.2222222222222222, \"#7201a8\"], [0.3333333333333333, \"#9c179e\"], [0.4444444444444444, \"#bd3786\"], [0.5555555555555556, \"#d8576b\"], [0.6666666666666666, \"#ed7953\"], [0.7777777777777778, \"#fb9f3a\"], [0.8888888888888888, \"#fdca26\"], [1.0, \"#f0f921\"]], \"type\": \"surface\"}], \"table\": [{\"cells\": {\"fill\": {\"color\": \"#EBF0F8\"}, \"line\": {\"color\": \"white\"}}, \"header\": {\"fill\": {\"color\": \"#C8D4E3\"}, \"line\": {\"color\": \"white\"}}, \"type\": \"table\"}]}, \"layout\": {\"annotationdefaults\": {\"arrowcolor\": \"#2a3f5f\", \"arrowhead\": 0, \"arrowwidth\": 1}, \"coloraxis\": {\"colorbar\": {\"outlinewidth\": 0, \"ticks\": \"\"}}, \"colorscale\": {\"diverging\": [[0, \"#8e0152\"], [0.1, \"#c51b7d\"], [0.2, \"#de77ae\"], [0.3, \"#f1b6da\"], [0.4, \"#fde0ef\"], [0.5, \"#f7f7f7\"], [0.6, \"#e6f5d0\"], [0.7, \"#b8e186\"], [0.8, \"#7fbc41\"], [0.9, \"#4d9221\"], [1, \"#276419\"]], \"sequential\": [[0.0, \"#0d0887\"], [0.1111111111111111, \"#46039f\"], [0.2222222222222222, \"#7201a8\"], [0.3333333333333333, \"#9c179e\"], [0.4444444444444444, \"#bd3786\"], [0.5555555555555556, \"#d8576b\"], [0.6666666666666666, \"#ed7953\"], [0.7777777777777778, \"#fb9f3a\"], [0.8888888888888888, \"#fdca26\"], [1.0, \"#f0f921\"]], \"sequentialminus\": [[0.0, \"#0d0887\"], [0.1111111111111111, \"#46039f\"], [0.2222222222222222, \"#7201a8\"], [0.3333333333333333, \"#9c179e\"], [0.4444444444444444, \"#bd3786\"], [0.5555555555555556, \"#d8576b\"], [0.6666666666666666, \"#ed7953\"], [0.7777777777777778, \"#fb9f3a\"], [0.8888888888888888, \"#fdca26\"], [1.0, \"#f0f921\"]]}, \"colorway\": [\"#636efa\", \"#EF553B\", \"#00cc96\", \"#ab63fa\", \"#FFA15A\", \"#19d3f3\", \"#FF6692\", \"#B6E880\", \"#FF97FF\", \"#FECB52\"], \"font\": {\"color\": \"#2a3f5f\"}, \"geo\": {\"bgcolor\": \"white\", \"lakecolor\": \"white\", \"landcolor\": \"#E5ECF6\", \"showlakes\": true, \"showland\": true, \"subunitcolor\": \"white\"}, \"hoverlabel\": {\"align\": \"left\"}, \"hovermode\": \"closest\", \"mapbox\": {\"style\": \"light\"}, \"paper_bgcolor\": \"white\", \"plot_bgcolor\": \"#E5ECF6\", \"polar\": {\"angularaxis\": {\"gridcolor\": \"white\", \"linecolor\": \"white\", \"ticks\": \"\"}, \"bgcolor\": \"#E5ECF6\", \"radialaxis\": {\"gridcolor\": \"white\", \"linecolor\": \"white\", \"ticks\": \"\"}}, \"scene\": {\"xaxis\": {\"backgroundcolor\": \"#E5ECF6\", \"gridcolor\": \"white\", \"gridwidth\": 2, \"linecolor\": \"white\", \"showbackground\": true, \"ticks\": \"\", \"zerolinecolor\": \"white\"}, \"yaxis\": {\"backgroundcolor\": \"#E5ECF6\", \"gridcolor\": \"white\", \"gridwidth\": 2, \"linecolor\": \"white\", \"showbackground\": true, \"ticks\": \"\", \"zerolinecolor\": \"white\"}, \"zaxis\": {\"backgroundcolor\": \"#E5ECF6\", \"gridcolor\": \"white\", \"gridwidth\": 2, \"linecolor\": \"white\", \"showbackground\": true, \"ticks\": \"\", \"zerolinecolor\": \"white\"}}, \"shapedefaults\": {\"line\": {\"color\": \"#2a3f5f\"}}, \"ternary\": {\"aaxis\": {\"gridcolor\": \"white\", \"linecolor\": \"white\", \"ticks\": \"\"}, \"baxis\": {\"gridcolor\": \"white\", \"linecolor\": \"white\", \"ticks\": \"\"}, \"bgcolor\": \"#E5ECF6\", \"caxis\": {\"gridcolor\": \"white\", \"linecolor\": \"white\", \"ticks\": \"\"}}, \"title\": {\"x\": 0.05}, \"xaxis\": {\"automargin\": true, \"gridcolor\": \"white\", \"linecolor\": \"white\", \"ticks\": \"\", \"title\": {\"standoff\": 15}, \"zerolinecolor\": \"white\", \"zerolinewidth\": 2}, \"yaxis\": {\"automargin\": true, \"gridcolor\": \"white\", \"linecolor\": \"white\", \"ticks\": \"\", \"title\": {\"standoff\": 15}, \"zerolinecolor\": \"white\", \"zerolinewidth\": 2}}}},\n",
       "                        {\"responsive\": true}\n",
       "                    ).then(function(){\n",
       "                            \n",
       "var gd = document.getElementById('bc28a5bb-2e29-4cec-9a9b-15d104034797');\n",
       "var x = new MutationObserver(function (mutations, observer) {{\n",
       "        var display = window.getComputedStyle(gd).display;\n",
       "        if (!display || display === 'none') {{\n",
       "            console.log([gd, 'removed!']);\n",
       "            Plotly.purge(gd);\n",
       "            observer.disconnect();\n",
       "        }}\n",
       "}});\n",
       "\n",
       "// Listen for the removal of the full notebook cells\n",
       "var notebookContainer = gd.closest('#notebook-container');\n",
       "if (notebookContainer) {{\n",
       "    x.observe(notebookContainer, {childList: true});\n",
       "}}\n",
       "\n",
       "// Listen for the clearing of the current output cell\n",
       "var outputEl = gd.closest('.output');\n",
       "if (outputEl) {{\n",
       "    x.observe(outputEl, {childList: true});\n",
       "}}\n",
       "\n",
       "                        })\n",
       "                };\n",
       "                });\n",
       "            </script>\n",
       "        </div>"
      ]
     },
     "metadata": {},
     "output_type": "display_data"
    }
   ],
   "source": [
    "# Shipping Cost across price buckets\n",
    "\n",
    "data = df.dropna(subset=['Shipping'])\n",
    "data = data.groupby(['Label', 'Shipping']).agg('size').reset_index()\n",
    "data.columns = ['Label', 'Shipping', 'Count']\n",
    "\n",
    "fig = go.Figure(data=[go.Table(\n",
    "    header=dict(values=list(data.columns),\n",
    "                fill_color='paleturquoise',\n",
    "                align='left'),\n",
    "    cells=dict(values=[data.Label, data.Shipping, data.Count],\n",
    "               fill_color='lavender',\n",
    "               align='left'))\n",
    "])\n",
    "\n",
    "fig.show()\n",
    "\n",
    "#fig.write_image(\"images/fig10.png\")\n"
   ]
  },
  {
   "cell_type": "code",
   "execution_count": null,
   "metadata": {},
   "outputs": [],
   "source": []
  }
 ],
 "metadata": {
  "kernelspec": {
   "display_name": "Python 3",
   "language": "python",
   "name": "python3"
  },
  "language_info": {
   "codemirror_mode": {
    "name": "ipython",
    "version": 3
   },
   "file_extension": ".py",
   "mimetype": "text/x-python",
   "name": "python",
   "nbconvert_exporter": "python",
   "pygments_lexer": "ipython3",
   "version": "3.7.6"
  }
 },
 "nbformat": 4,
 "nbformat_minor": 4
}
