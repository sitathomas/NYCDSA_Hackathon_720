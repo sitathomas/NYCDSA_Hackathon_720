{
 "cells": [
  {
   "cell_type": "markdown",
   "metadata": {
    "toc": true
   },
   "source": [
    "<h1>Table of Contents<span class=\"tocSkip\"></span></h1>\n",
    "<div class=\"toc\"><ul class=\"toc-item\"><li><span><a href=\"#Introduction\" data-toc-modified-id=\"Introduction-1\"><span class=\"toc-item-num\">1&nbsp;&nbsp;</span>Introduction</a></span></li><li><span><a href=\"#Data-Cleaning\" data-toc-modified-id=\"Data-Cleaning-2\"><span class=\"toc-item-num\">2&nbsp;&nbsp;</span>Data Cleaning</a></span></li></ul></div>"
   ]
  },
  {
   "cell_type": "markdown",
   "metadata": {},
   "source": [
    "## Introduction\n",
    "\n",
    "The dataset is sourced from:\n",
    "https://data.world/datafiniti/electronic-products-and-pricing-data\n",
    "\n",
    "The data schema can be found here:\n",
    "https://developer.datafiniti.co/docs/product-data-schema"
   ]
  },
  {
   "cell_type": "code",
   "execution_count": 1,
   "metadata": {},
   "outputs": [],
   "source": [
    "# Loading prerequisite libraries\n",
    "\n",
    "import re\n",
    "import numpy as np\n",
    "import pandas as pd"
   ]
  },
  {
   "cell_type": "code",
   "execution_count": 2,
   "metadata": {},
   "outputs": [],
   "source": [
    "# Load CSV to a pandas dataframe\n",
    "df = pd.read_csv('ElectronicProducts.csv',infer_datetime_format=True, parse_dates=True)\n",
    "df.columns = df.columns.str.lower()\n",
    "df.columns = df.columns.str.replace(\".\", \"_\")"
   ]
  },
  {
   "cell_type": "markdown",
   "metadata": {},
   "source": [
    "## Data Cleaning"
   ]
  },
  {
   "cell_type": "code",
   "execution_count": 3,
   "metadata": {},
   "outputs": [],
   "source": [
    "# Exclude rows that overflow into Unnamed columns\n",
    "df = df[df.iloc[:,26].isnull()]\n",
    "df = df[df.iloc[:,27].isnull()]\n",
    "df = df[df.iloc[:,28].isnull()]\n",
    "df = df[df.iloc[:,29].isnull()]\n",
    "df = df[df.iloc[:,30].isnull()]\n",
    "\n",
    "# Drop Unnamed columns\n",
    "df = df.drop(df.iloc[:,26:31], axis=1)"
   ]
  },
  {
   "cell_type": "code",
   "execution_count": 4,
   "metadata": {
    "scrolled": true
   },
   "outputs": [],
   "source": [
    "# Remove leading and trailing spaces from id column\n",
    "\n",
    "df['id'] = df['id'].str.strip()\n",
    "df['asins'] = df['asins'].str.strip()\n",
    "df['imageurls'] = df['imageurls'].str.strip()\n",
    "df['keys'] = df['keys'].str.strip()\n",
    "df['manufacturer'] = df['manufacturer'].str.strip().str.capitalize()\n",
    "df['manufacturernumber'] = df['manufacturernumber'].str.strip()\n",
    "df['name'] = df['name'].str.strip().str.capitalize()\n",
    "df['sourceurls'] = df['sourceurls'].str.strip()"
   ]
  },
  {
   "cell_type": "code",
   "execution_count": 5,
   "metadata": {},
   "outputs": [],
   "source": [
    "# Remove leading and trailing spaces from prices_availability column and standardize the values\n",
    "\n",
    "df['prices_availability'] = df['prices_availability'].str.strip()\n",
    "df['prices_availability'] = df['prices_availability'].str.replace('available', 'In Stock').replace('TRUE', 'In Stock').replace('yes', 'In Stock').replace('Yes', 'In Stock')\n",
    "df['prices_availability'] = df['prices_availability'].str.replace('No', 'Out Of Stock').replace('sold', 'Out Of Stock').replace('FALSE', 'Out Of Stock')\n",
    "df['prices_availability'] = df['prices_availability'].str.replace('undefined', 'NaN')"
   ]
  },
  {
   "cell_type": "code",
   "execution_count": 6,
   "metadata": {},
   "outputs": [],
   "source": [
    "# Remove trailing spaces from prices_condition column and standardize the values\n",
    "\n",
    "df['prices_condition'] = df['prices_condition'].str.strip()\n",
    "df['prices_condition'] = df['prices_condition'].str.replace('new', 'New').replace('pre-owned', 'Used') \\\n",
    "                        .replace('Seller refurbished', 'Seller Refurbished').replace('Manufacturer refurbished', 'Manufacturer Refurbished') \\\n",
    "                        .replace('refurbished', 'Refurbished').replace('New other (see details)', 'New') \\\n",
    "                        .replace('^New.*', 'New', regex=True).replace('^5/16.*', 'New', regex=True)"
   ]
  },
  {
   "cell_type": "code",
   "execution_count": 7,
   "metadata": {},
   "outputs": [],
   "source": [
    "# Remove leading and trailing spaces from prices_shipping column and standardize the values\n",
    "\n",
    "df['prices_shipping'] = df['prices_shipping'].str.strip()\n",
    "df['prices_shipping'] = df['prices_shipping'].str.replace('nan', 'NaN').replace('Free Expedited Shipping', 'Free') \\\n",
    "                        .replace('Expedited', 'Free').replace('Free Shipping', 'Free') \\\n",
    "                        .replace('Free Standard Shipping', 'Free').replace('Freight', 'Standard') \\\n",
    "                        .replace('Value', 'Free').replace('Free Shippingon orders 35 and up', 'Free on orders 35 and up') \\\n",
    "                        .replace('Free Shipping on orders 35 and up', 'Free on orders 35 and up') \\\n",
    "                        .replace('Free Expedited Shipping for most orders over $49', 'Free on orders 50 and up') \\\n",
    "                        .replace('Free Shipping for this Item', 'Free') \\\n",
    "                        .replace('FREE', 'Free') \\\n",
    "                        .replace('Free Standard Shipping on Orders Over $49', 'Free on orders 50 and up') \\\n",
    "                        .replace('Free Delivery', 'Free') \\\n",
    "                        .replace('Free Next Day Delivery (USA)', 'Free Next Day Delivery(USA)')"
   ]
  },
  {
   "cell_type": "code",
   "execution_count": 8,
   "metadata": {},
   "outputs": [],
   "source": [
    "# Remove leading and trailing spaces from prices_shipping column and standardize the values\n",
    "\n",
    "df['brand'] = df['brand'].str.strip()\n",
    "df['brand'] = df['brand'].str.replace('Insignia™', 'Insignia').replace('Bose®', 'Bose').str.capitalize()"
   ]
  },
  {
   "cell_type": "code",
   "execution_count": 9,
   "metadata": {},
   "outputs": [],
   "source": [
    "# Remove junk characters from categories column\n",
    "\n",
    "df['categories'] = df['categories'].str.replace('\\\\\\\\', '').replace(r' \\b[a-z]+\\b', '', regex=True)"
   ]
  },
  {
   "cell_type": "code",
   "execution_count": 10,
   "metadata": {},
   "outputs": [],
   "source": [
    "# Remove leading and trailing spaces from weight and extract first set of valid values\n",
    "\n",
    "df['weight'] = df['weight'].str.strip()\n",
    "df['weight'] = df['weight'].str.replace('pounds', 'lb').str.replace('ounces', 'oz')\\\n",
    "                .str.replace('Electronics', '').str.replace(r'[http:].*', 'NaN')\n",
    "df['weight'] = df['weight'].apply(lambda x: ' '.join(x.split()[:2]))"
   ]
  },
  {
   "cell_type": "code",
   "execution_count": 11,
   "metadata": {},
   "outputs": [],
   "source": [
    "# Rename columns\n",
    "\n",
    "df = df.rename(columns={\"id\": \"Id\", \"prices_amountmax\": \"Price-Max\", \"prices_amountmin\": \"Price-Min\", \"prices_availability\": \"Availability\", \"prices_condition\": \"Condition\", \"prices_currency\": \"Price-Currency\", \"prices_dateseen\": \"Date-Seen\", \"prices_issale\": \"On-Sale\", \"prices_merchant\": \"Merchant\", \"prices_shipping\": \"Shipping\", \"prices_sourceurls\": \"Price-Source-URLs\", \"asins\": \"ASINS\", \"brand\": \"Brand\", \"categories\": \"Category-Labels\", \"dateadded\": \"Date-Added\", \"dateupdated\": \"Date-Updated\", \"ean\": \"EAN\", \"imageurls\": \"Image URLs\", \"keys\": \"Keys\", \"manufacturer\": \"Manufacturer\", \"manufacturernumber\": \"Manufacturer-Id\", \"name\": \"Name\", \"primarycategories\": \"Primary-Category\", \"sourceurls\": \"Review-Source-URLs\", \"upc\": \"UPC\", \"weight\": \"Weight\"})"
   ]
  },
  {
   "cell_type": "code",
   "execution_count": 12,
   "metadata": {},
   "outputs": [],
   "source": [
    "# filter only 55\" TVs\n",
    "\n",
    "df = df.loc[np.where(df['Name'].str.contains(\" 55\") & df['Category-Labels'].str.contains(\"TV\"))] "
   ]
  },
  {
   "cell_type": "code",
   "execution_count": 13,
   "metadata": {},
   "outputs": [],
   "source": [
    "df.to_csv('Products.csv', index=False)"
   ]
  }
 ],
 "metadata": {
  "kernelspec": {
   "display_name": "Python 3",
   "language": "python",
   "name": "python3"
  },
  "language_info": {
   "codemirror_mode": {
    "name": "ipython",
    "version": 3
   },
   "file_extension": ".py",
   "mimetype": "text/x-python",
   "name": "python",
   "nbconvert_exporter": "python",
   "pygments_lexer": "ipython3",
   "version": "3.7.4"
  },
  "toc": {
   "base_numbering": 1,
   "nav_menu": {},
   "number_sections": true,
   "sideBar": true,
   "skip_h1_title": true,
   "title_cell": "Table of Contents",
   "title_sidebar": "Contents",
   "toc_cell": true,
   "toc_position": {},
   "toc_section_display": true,
   "toc_window_display": false
  }
 },
 "nbformat": 4,
 "nbformat_minor": 4
}
