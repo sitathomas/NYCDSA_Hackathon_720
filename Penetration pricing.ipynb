{
 "cells": [
  {
   "cell_type": "markdown",
   "metadata": {
    "toc": true
   },
   "source": [
    "<h1>Table of Contents<span class=\"tocSkip\"></span></h1>\n",
    "<div class=\"toc\"><ul class=\"toc-item\"><li><span><a href=\"#Websites\" data-toc-modified-id=\"Websites-1\"><span class=\"toc-item-num\">1&nbsp;&nbsp;</span>Websites</a></span></li><li><span><a href=\"#TV-models\" data-toc-modified-id=\"TV-models-2\"><span class=\"toc-item-num\">2&nbsp;&nbsp;</span>TV models</a></span></li><li><span><a href=\"#TV-brands\" data-toc-modified-id=\"TV-brands-3\"><span class=\"toc-item-num\">3&nbsp;&nbsp;</span>TV brands</a></span></li></ul></div>"
   ]
  },
  {
   "cell_type": "markdown",
   "metadata": {},
   "source": [
    "# Analysis on penetration pricing"
   ]
  },
  {
   "cell_type": "code",
   "execution_count": 1,
   "metadata": {},
   "outputs": [],
   "source": [
    "# Loading prerequisite libraries\n",
    "\n",
    "import re\n",
    "import numpy as np\n",
    "import pandas as pd\n",
    "import matplotlib.pyplot as plt\n",
    "import matplotlib.dates as mdates\n",
    "import plotly.graph_objects as go\n",
    "import plotly.express as px\n",
    "\n",
    "import os\n",
    "if not os.path.exists(\"images\"):\n",
    "    os.mkdir(\"images\")"
   ]
  },
  {
   "cell_type": "code",
   "execution_count": 2,
   "metadata": {},
   "outputs": [],
   "source": [
    "# Load CSV to a pandas dataframe\n",
    "\n",
    "df = pd.read_csv('Products.csv',infer_datetime_format=True, parse_dates=True)"
   ]
  },
  {
   "cell_type": "code",
   "execution_count": 4,
   "metadata": {},
   "outputs": [],
   "source": [
    "# filter only useful columns\n",
    "\n",
    "df = df[[\"Price-Max\", \"Price-Min\", \"Availability\", \"Date-Seen\", \"On-Sale\", \"Merchant\", \"Brand\", \"Date-Added\", \"Date-Updated\", \"Name\", \"Manufacturer-Id\", \"Price-Source-URLs\"]]"
   ]
  },
  {
   "cell_type": "code",
   "execution_count": 5,
   "metadata": {},
   "outputs": [],
   "source": [
    "# create a time series\n",
    "\n",
    "df = df.drop('Date-Seen', axis=1).join(\n",
    "  df['Date-Seen'].str.split(',', expand=True).stack().reset_index(level=1,drop=True).rename('Date-Seen'))\n",
    "\n",
    "df['Date-Seen'] = pd.to_datetime(df['Date-Seen'])"
   ]
  },
  {
   "cell_type": "code",
   "execution_count": 6,
   "metadata": {},
   "outputs": [
    {
     "data": {
      "text/html": [
       "<div>\n",
       "<style scoped>\n",
       "    .dataframe tbody tr th:only-of-type {\n",
       "        vertical-align: middle;\n",
       "    }\n",
       "\n",
       "    .dataframe tbody tr th {\n",
       "        vertical-align: top;\n",
       "    }\n",
       "\n",
       "    .dataframe thead th {\n",
       "        text-align: right;\n",
       "    }\n",
       "</style>\n",
       "<table border=\"1\" class=\"dataframe\">\n",
       "  <thead>\n",
       "    <tr style=\"text-align: right;\">\n",
       "      <th></th>\n",
       "      <th>Price-Max</th>\n",
       "      <th>Price-Min</th>\n",
       "      <th>Availability</th>\n",
       "      <th>On-Sale</th>\n",
       "      <th>Merchant</th>\n",
       "      <th>Brand</th>\n",
       "      <th>Date-Added</th>\n",
       "      <th>Date-Updated</th>\n",
       "      <th>Name</th>\n",
       "      <th>Manufacturer-Id</th>\n",
       "      <th>Price-Source-URLs</th>\n",
       "      <th>Date-Seen</th>\n",
       "    </tr>\n",
       "  </thead>\n",
       "  <tbody>\n",
       "    <tr>\n",
       "      <th>0</th>\n",
       "      <td>799.99</td>\n",
       "      <td>799.99</td>\n",
       "      <td>In Stock</td>\n",
       "      <td>False</td>\n",
       "      <td>Bestbuy.com</td>\n",
       "      <td>Hisense</td>\n",
       "      <td>2018-03-16T01:47:45Z</td>\n",
       "      <td>2018-06-13T19:36:51Z</td>\n",
       "      <td>Hisense - 55 class - led - h9 series - 2160p -...</td>\n",
       "      <td>55H9D PLUS</td>\n",
       "      <td>https://www.bestbuy.com/site/hisense-55-class-...</td>\n",
       "      <td>2018-05-26 15:00:00+00:00</td>\n",
       "    </tr>\n",
       "    <tr>\n",
       "      <th>0</th>\n",
       "      <td>799.99</td>\n",
       "      <td>799.99</td>\n",
       "      <td>In Stock</td>\n",
       "      <td>False</td>\n",
       "      <td>Bestbuy.com</td>\n",
       "      <td>Hisense</td>\n",
       "      <td>2018-03-16T01:47:45Z</td>\n",
       "      <td>2018-06-13T19:36:51Z</td>\n",
       "      <td>Hisense - 55 class - led - h9 series - 2160p -...</td>\n",
       "      <td>55H9D PLUS</td>\n",
       "      <td>https://www.bestbuy.com/site/hisense-55-class-...</td>\n",
       "      <td>2018-05-02 14:00:00+00:00</td>\n",
       "    </tr>\n",
       "  </tbody>\n",
       "</table>\n",
       "</div>"
      ],
      "text/plain": [
       "   Price-Max  Price-Min Availability  On-Sale     Merchant    Brand  \\\n",
       "0     799.99     799.99     In Stock    False  Bestbuy.com  Hisense   \n",
       "0     799.99     799.99     In Stock    False  Bestbuy.com  Hisense   \n",
       "\n",
       "             Date-Added          Date-Updated  \\\n",
       "0  2018-03-16T01:47:45Z  2018-06-13T19:36:51Z   \n",
       "0  2018-03-16T01:47:45Z  2018-06-13T19:36:51Z   \n",
       "\n",
       "                                                Name Manufacturer-Id  \\\n",
       "0  Hisense - 55 class - led - h9 series - 2160p -...      55H9D PLUS   \n",
       "0  Hisense - 55 class - led - h9 series - 2160p -...      55H9D PLUS   \n",
       "\n",
       "                                   Price-Source-URLs                 Date-Seen  \n",
       "0  https://www.bestbuy.com/site/hisense-55-class-... 2018-05-26 15:00:00+00:00  \n",
       "0  https://www.bestbuy.com/site/hisense-55-class-... 2018-05-02 14:00:00+00:00  "
      ]
     },
     "execution_count": 6,
     "metadata": {},
     "output_type": "execute_result"
    }
   ],
   "source": [
    "df.head(2)"
   ]
  },
  {
   "cell_type": "markdown",
   "metadata": {},
   "source": [
    "## Websites"
   ]
  },
  {
   "cell_type": "code",
   "execution_count": 7,
   "metadata": {},
   "outputs": [
    {
     "data": {
      "text/plain": [
       "['bestbuy', 'walmart', 'ebay', 'bhphotovideo']"
      ]
     },
     "execution_count": 7,
     "metadata": {},
     "output_type": "execute_result"
    }
   ],
   "source": [
    "# how many websites do we have?\n",
    "\n",
    "df[\"Website\"] = df[\"Price-Source-URLs\"].str.extract(r'\\.([^\\.]+)\\.')\n",
    "list(df[\"Website\"].unique())"
   ]
  },
  {
   "cell_type": "markdown",
   "metadata": {},
   "source": [
    "## TV models"
   ]
  },
  {
   "cell_type": "code",
   "execution_count": 8,
   "metadata": {},
   "outputs": [
    {
     "data": {
      "text/plain": [
       "['55H9D PLUS',\n",
       " 'UN55KU7000FXZA',\n",
       " 'XBR55A1E',\n",
       " 'QN55Q8FNBFXZA',\n",
       " 'XBR55X900F',\n",
       " 'UN55MU6490FXZA',\n",
       " '55UJ7700',\n",
       " 'QN55Q7CAMFXZA',\n",
       " '55H8C',\n",
       " 'XBR55X700D',\n",
       " 'XBR55X800E']"
      ]
     },
     "execution_count": 8,
     "metadata": {},
     "output_type": "execute_result"
    }
   ],
   "source": [
    "list(df[\"Manufacturer-Id\"].unique())"
   ]
  },
  {
   "cell_type": "markdown",
   "metadata": {},
   "source": [
    "## TV brands"
   ]
  },
  {
   "cell_type": "code",
   "execution_count": 9,
   "metadata": {},
   "outputs": [
    {
     "data": {
      "text/plain": [
       "['Hisense', 'Samsung', 'Sony', 'Lg']"
      ]
     },
     "execution_count": 9,
     "metadata": {},
     "output_type": "execute_result"
    }
   ],
   "source": [
    "list(df[\"Brand\"].unique())"
   ]
  },
  {
   "cell_type": "markdown",
   "metadata": {},
   "source": [
    "# 55-inch TV prices on each website"
   ]
  },
  {
   "cell_type": "code",
   "execution_count": 10,
   "metadata": {},
   "outputs": [],
   "source": [
    "# # Create as many colors as there are unique df['Website']\n",
    "# Website = np.unique(df['Website'])\n",
    "# colors = [\"red\", \"blue\", \"green\", \"black\"]\n",
    "\n",
    "\n",
    "# # Draw Plot for Each Website\n",
    "# plt.figure(figsize=(16, 10), dpi= 80, facecolor='w', edgecolor='k')\n",
    "\n",
    "# for i, Website in enumerate(Website):\n",
    "#     plt.scatter('Date-Seen', 'Price-Min', \n",
    "#                 data=df.loc[df.Website==Website, :], \n",
    "#                 s=50, c=colors[i], label=str(Website))\n",
    "    \n",
    "# plt.legend(fontsize=12)"
   ]
  },
  {
   "cell_type": "code",
   "execution_count": 11,
   "metadata": {},
   "outputs": [],
   "source": [
    "# figure, ((ax1, ax2), (ax3, ax4)) = plt.subplots(2, 2, figsize=(16,10))\n",
    "# ax1.scatter('Date-Seen', 'Price-Min', data=df.loc[(df.Website==\"bestbuy\") & (df[\"On-Sale\"]==True)], s=50, c=\"red\")\n",
    "# ax1.scatter('Date-Seen', 'Price-Min', data=df.loc[(df.Website==\"bestbuy\") & (df[\"On-Sale\"]==False)], s=50, c=\"blue\")\n",
    "# ax2.scatter('Date-Seen', 'Price-Min', data=df.loc[(df.Website==\"bhphotovideo\")  & (df[\"On-Sale\"]==True)], s=50, c=\"red\")\n",
    "# ax2.scatter('Date-Seen', 'Price-Min', data=df.loc[(df.Website==\"bhphotovideo\")  & (df[\"On-Sale\"]==False)], s=50, c=\"blue\")\n",
    "# ax3.scatter('Date-Seen', 'Price-Min', data=df.loc[(df.Website==\"ebay\")  & (df[\"On-Sale\"]==True)], s=50, c=\"red\")\n",
    "# ax3.scatter('Date-Seen', 'Price-Min', data=df.loc[(df.Website==\"ebay\")  & (df[\"On-Sale\"]==False)], s=50, c=\"blue\")\n",
    "# ax4.scatter('Date-Seen', 'Price-Min', data=df.loc[(df.Website==\"walmart\")  & (df[\"On-Sale\"]==True)], s=50, c=\"red\")\n",
    "# ax4.scatter('Date-Seen', 'Price-Min', data=df.loc[(df.Website==\"walmart\")  & (df[\"On-Sale\"]==False)], s=50, c=\"blue\")\n",
    "# ax1.title.set_text('Besbuy')\n",
    "# ax2.title.set_text('BHPhotovideo')\n",
    "# ax3.title.set_text('eBay')\n",
    "# ax4.title.set_text('Walmart')"
   ]
  },
  {
   "cell_type": "code",
   "execution_count": 39,
   "metadata": {},
   "outputs": [
    {
     "data": {
      "application/vnd.plotly.v1+json": {
       "config": {
        "plotlyServerURL": "https://plot.ly"
       },
       "data": [
        {
         "hovertemplate": "On-Sale=False<br>Website=bestbuy<br>Date-Seen=%{x}<br>Price-Min=%{y}<extra></extra>",
         "legendgroup": "False",
         "marker": {
          "color": "#636efa",
          "line": {
           "color": "DarkSlateGrey",
           "width": 1
          },
          "size": 8,
          "symbol": "circle"
         },
         "mode": "markers",
         "name": "False",
         "orientation": "v",
         "showlegend": true,
         "type": "scatter",
         "x": [
          "2018-05-26T15:00:00",
          "2018-05-02T14:00:00",
          "2017-03-30T05:00:00",
          "2017-03-10T19:00:00",
          "2017-03-04T10:00:00",
          "2018-05-26T07:00:00",
          "2017-03-30T02:00:00",
          "2017-08-01T03:00:00",
          "2017-07-26T15:00:00",
          "2017-05-31T19:00:00",
          "2017-05-31T16:00:00",
          "2017-05-09T03:00:00",
          "2017-05-01T06:00:00",
          "2017-05-18T02:00:00",
          "2017-04-04T04:00:00",
          "2018-05-26T15:00:00",
          "2018-05-25T21:00:00",
          "2018-05-26T15:00:00",
          "2018-05-26T07:00:00",
          "2018-05-26T16:00:00",
          "2017-08-01T03:00:00",
          "2017-07-26T15:00:00",
          "2018-05-26T07:00:00",
          "2017-07-31T22:00:00",
          "2017-08-01T07:00:00",
          "2017-07-26T20:00:00",
          "2017-06-01T19:00:00",
          "2017-05-31T17:00:00",
          "2017-05-09T07:00:00",
          "2017-05-01T20:00:00",
          "2017-05-18T05:00:00",
          "2017-03-30T05:00:00",
          "2017-03-10T19:00:00",
          "2017-03-04T10:00:00",
          "2018-05-25T21:00:00",
          "2018-05-26T16:00:00",
          "2017-03-30T05:00:00",
          "2017-03-10T19:00:00",
          "2017-03-04T10:00:00",
          "2017-06-01T19:00:00",
          "2017-05-31T17:00:00",
          "2017-05-09T07:00:00",
          "2017-05-01T20:00:00",
          "2017-05-18T05:00:00",
          "2018-05-26T15:00:00",
          "2017-08-01T03:00:00",
          "2017-07-26T15:00:00",
          "2017-06-29T22:00:00"
         ],
         "xaxis": "x4",
         "y": [
          799.99,
          799.99,
          999.99,
          999.99,
          1199.99,
          2799.99,
          4999.99,
          3499.99,
          3499.99,
          3999.99,
          3999.99,
          3999.99,
          3999.99,
          3999.99,
          3999.99,
          2199.99,
          1499.99,
          1499.99,
          799.99,
          799.99,
          2199.99,
          2199.99,
          1999.99,
          549.99,
          549.99,
          549.99,
          549.99,
          549.99,
          549.99,
          549.99,
          549.99,
          549.99,
          549.99,
          549.99,
          449.99,
          449.99,
          1899.99,
          1899.99,
          1899.99,
          1199.99,
          1199.99,
          1199.99,
          1199.99,
          1199.99,
          899.99,
          999.99,
          999.99,
          999.99
         ],
         "yaxis": "y4"
        },
        {
         "hovertemplate": "On-Sale=False<br>Website=walmart<br>Date-Seen=%{x}<br>Price-Min=%{y}<extra></extra>",
         "legendgroup": "False",
         "marker": {
          "color": "#636efa",
          "line": {
           "color": "DarkSlateGrey",
           "width": 1
          },
          "size": 8,
          "symbol": "circle"
         },
         "mode": "markers",
         "name": "False",
         "orientation": "v",
         "showlegend": false,
         "type": "scatter",
         "x": [
          "2018-04-26T17:00:00",
          "2018-03-09T18:00:00",
          "2018-03-09T18:00:00",
          "2017-10-28T17:00:00",
          "2017-10-24T22:00:00",
          "2017-07-23T00:00:00",
          "2018-04-26T17:00:00",
          "2018-05-27T16:00:00",
          "2018-05-24T11:00:00",
          "2018-05-28T10:00:00",
          "2018-04-26T17:00:00",
          "2018-05-27T16:00:00",
          "2017-11-16T19:00:00",
          "2017-11-08T20:00:00",
          "2017-09-17T08:00:00",
          "2018-04-26T17:00:00",
          "2017-12-06T01:00:00",
          "2018-04-26T17:00:00",
          "2018-03-09T18:00:00",
          "2017-10-24T22:00:00",
          "2017-07-10T18:00:00",
          "2017-07-08T20:00:00",
          "2017-07-18T06:00:00",
          "2017-07-21T16:00:00",
          "2017-07-21T14:00:00",
          "2017-07-12T15:00:00",
          "2017-07-14T14:00:00",
          "2017-12-06T01:00:00",
          "2017-11-16T19:00:00",
          "2017-10-28T17:00:00",
          "2017-10-24T22:00:00",
          "2018-01-10T07:00:00"
         ],
         "xaxis": "x3",
         "y": [
          599.99,
          699.99,
          2798,
          2798,
          2798,
          3498,
          2498,
          2498,
          2498,
          2498,
          1498,
          1298,
          799.99,
          799.99,
          797.99,
          747.85,
          797.99,
          449.99,
          429.99,
          724.7,
          798,
          798,
          848,
          848,
          848,
          848,
          848,
          1896,
          2196,
          2196,
          2196,
          2096
         ],
         "yaxis": "y3"
        },
        {
         "hovertemplate": "On-Sale=False<br>Website=ebay<br>Date-Seen=%{x}<br>Price-Min=%{y}<extra></extra>",
         "legendgroup": "False",
         "marker": {
          "color": "#636efa",
          "line": {
           "color": "DarkSlateGrey",
           "width": 1
          },
          "size": 8,
          "symbol": "circle"
         },
         "mode": "markers",
         "name": "False",
         "orientation": "v",
         "showlegend": false,
         "type": "scatter",
         "x": [
          "2017-07-26T01:00:00",
          "2017-07-25T23:00:00",
          "2017-07-23T11:00:00",
          "2017-07-24T21:00:00",
          "2017-07-25T18:00:00",
          "2017-07-10T04:00:00",
          "2017-07-14T12:00:00",
          "2017-07-11T07:00:00",
          "2017-07-11T22:00:00",
          "2017-07-27T19:00:00",
          "2017-07-11T22:00:00",
          "2017-06-28T23:00:00",
          "2017-06-27T11:00:00",
          "2017-06-26T22:00:00",
          "2017-06-29T17:00:00",
          "2017-06-25T15:00:00",
          "2017-06-24T03:00:00",
          "2017-06-28T04:00:00",
          "2017-06-24T20:00:00",
          "2017-07-26T15:00:00",
          "2017-07-25T18:00:00",
          "2017-07-23T02:00:00",
          "2017-07-24T14:00:00",
          "2017-06-19T04:00:00",
          "2017-08-22T19:00:00",
          "2017-07-27T21:00:00",
          "2017-07-25T18:00:00",
          "2017-09-28T04:00:00",
          "2017-07-27T21:00:00",
          "2017-07-25T23:00:00",
          "2017-07-25T23:00:00",
          "2017-07-25T18:00:00",
          "2017-07-22T07:00:00",
          "2017-07-24T14:00:00",
          "2017-07-25T23:00:00",
          "2017-07-16T06:00:00",
          "2017-07-21T02:00:00",
          "2017-07-15T12:00:00",
          "2017-07-17T19:00:00",
          "2017-07-18T08:00:00",
          "2017-08-22T19:00:00",
          "2017-07-25T17:00:00",
          "2017-07-26T18:00:00",
          "2017-07-25T23:00:00",
          "2017-07-26T20:00:00",
          "2017-07-27T11:00:00",
          "2017-07-25T23:00:00",
          "2017-07-09T22:00:00",
          "2017-07-25T18:00:00",
          "2017-07-25T18:00:00",
          "2017-07-11T12:00:00",
          "2017-07-11T22:00:00",
          "2017-07-24T21:00:00",
          "2017-07-25T21:00:00",
          "2017-07-23T08:00:00",
          "2017-07-25T17:00:00",
          "2017-07-24T19:00:00",
          "2017-07-26T23:00:00",
          "2017-07-27T11:00:00",
          "2017-07-09T22:00:00",
          "2017-07-18T14:00:00",
          "2017-07-25T18:00:00",
          "2017-07-25T18:00:00",
          "2017-07-17T06:00:00",
          "2017-07-14T12:00:00",
          "2017-07-18T00:00:00",
          "2017-07-17T21:00:00",
          "2017-07-18T14:00:00",
          "2017-07-15T14:00:00",
          "2017-07-17T10:00:00",
          "2017-09-28T04:00:00",
          "2017-07-26T15:00:00",
          "2017-07-27T19:00:00",
          "2017-07-25T18:00:00",
          "2017-07-25T17:00:00",
          "2017-07-26T20:00:00",
          "2017-07-25T18:00:00",
          "2017-07-21T15:00:00",
          "2017-07-22T04:00:00",
          "2017-07-24T17:00:00",
          "2017-07-15T23:00:00",
          "2017-07-15T12:00:00",
          "2017-07-18T11:00:00",
          "2017-07-17T19:00:00",
          "2017-07-14T10:00:00",
          "2017-07-17T01:00:00",
          "2017-08-28T12:00:00",
          "2017-07-25T21:00:00",
          "2017-07-15T16:00:00",
          "2017-07-09T03:00:00",
          "2017-07-08T07:00:00",
          "2017-06-29T17:00:00",
          "2017-06-29T03:00:00",
          "2017-06-28T04:00:00",
          "2017-07-25T21:00:00",
          "2017-07-25T18:00:00",
          "2017-06-24T22:00:00",
          "2017-06-24T07:00:00",
          "2017-06-20T09:00:00",
          "2017-06-23T12:00:00",
          "2017-06-17T23:00:00",
          "2017-06-28T04:00:00",
          "2017-06-15T17:00:00",
          "2017-07-09T03:00:00",
          "2017-06-07T18:00:00",
          "2017-09-28T04:00:00",
          "2017-07-25T21:00:00",
          "2017-07-23T11:00:00",
          "2017-07-24T21:00:00",
          "2017-07-15T00:00:00",
          "2017-07-15T16:00:00",
          "2017-07-09T03:00:00",
          "2017-07-18T00:00:00",
          "2017-07-11T07:00:00",
          "2017-07-23T08:00:00",
          "2017-07-26T18:00:00",
          "2017-07-25T18:00:00",
          "2017-07-09T22:00:00",
          "2017-07-16T01:00:00",
          "2017-07-18T11:00:00",
          "2017-07-08T22:00:00",
          "2017-06-29T13:00:00",
          "2017-06-27T11:00:00",
          "2017-06-27T20:00:00",
          "2017-06-27T00:00:00"
         ],
         "xaxis": "x2",
         "y": [
          1197.99,
          1197.99,
          489.99,
          489.99,
          489.99,
          499.99,
          499.99,
          499.99,
          499.99,
          3050,
          2999.99,
          2999.99,
          2999.99,
          2999.99,
          2999.99,
          2999.99,
          2999.99,
          2999.99,
          2999.99,
          3040,
          3040,
          3099.52,
          3099.52,
          3099.52,
          3099.18,
          3050,
          3050,
          2998,
          1898.95,
          2197.99,
          2197.99,
          1972.95,
          1997.95,
          1997.95,
          2197.99,
          1998.95,
          1998.95,
          1998.95,
          1998.95,
          1998.95,
          1755.95,
          1982.95,
          1982.95,
          1982.95,
          1900,
          1900,
          2197.99,
          2016.95,
          723.6,
          619.96,
          619.96,
          619.96,
          798,
          798,
          629.99,
          629.99,
          629.99,
          629.99,
          629.99,
          629.99,
          629.99,
          629.99,
          600,
          699.95,
          848,
          848,
          450,
          450,
          746.24,
          550,
          789.99,
          789.99,
          789.99,
          789.99,
          798,
          798,
          798,
          798,
          798,
          798,
          798,
          798,
          798,
          798,
          798,
          798,
          898,
          998,
          998,
          998,
          998,
          998,
          998,
          998,
          998,
          998,
          1098,
          1098,
          1098,
          1098,
          1098,
          998,
          1098,
          1295.2,
          1198,
          1099,
          998,
          998,
          998,
          998,
          998,
          998,
          998,
          998,
          998,
          998,
          998,
          998,
          998,
          998,
          998,
          998,
          998,
          998,
          998
         ],
         "yaxis": "y2"
        },
        {
         "hovertemplate": "On-Sale=False<br>Website=bhphotovideo<br>Date-Seen=%{x}<br>Price-Min=%{y}<extra></extra>",
         "legendgroup": "False",
         "marker": {
          "color": "#636efa",
          "line": {
           "color": "DarkSlateGrey",
           "width": 1
          },
          "size": 8,
          "symbol": "circle"
         },
         "mode": "markers",
         "name": "False",
         "orientation": "v",
         "showlegend": false,
         "type": "scatter",
         "x": [
          "2018-04-26T17:00:00",
          "2018-06-01T15:00:00",
          "2017-08-29T12:00:00",
          "2018-05-04T11:00:00",
          "2018-01-09T20:00:00",
          "2017-09-24T03:00:00",
          "2018-01-09T20:00:00",
          "2017-12-06T22:00:00",
          "2017-12-06T20:00:00",
          "2017-12-04T21:00:00",
          "2017-11-18T10:00:00",
          "2017-09-24T03:00:00",
          "2017-08-29T12:00:00",
          "2017-08-22T04:00:00",
          "2017-08-19T02:00:00",
          "2018-04-26T17:00:00",
          "2018-06-01T09:00:00",
          "2018-04-26T17:00:00",
          "2018-07-25T18:00:00",
          "2018-03-31T19:00:00",
          "2018-06-01T09:00:00",
          "2017-11-18T13:00:00",
          "2017-12-06T20:00:00",
          "2017-08-29T12:00:00",
          "2017-08-19T05:00:00",
          "2017-12-04T21:00:00",
          "2017-08-22T10:00:00",
          "2018-01-09T20:00:00",
          "2017-10-24T08:00:00",
          "2018-05-06T17:00:00",
          "2017-12-06T22:00:00",
          "2018-03-31T19:00:00",
          "2018-04-26T17:00:00",
          "2018-05-06T17:00:00",
          "2018-04-26T17:00:00",
          "2018-01-27T10:00:00",
          "2018-04-10T14:00:00",
          "2018-04-26T17:00:00",
          "2018-06-01T15:00:00",
          "2017-12-07T23:00:00",
          "2017-12-08T01:00:00",
          "2017-12-05T10:00:00",
          "2017-08-22T10:00:00",
          "2018-01-27T10:00:00",
          "2018-01-09T20:00:00",
          "2017-09-24T10:00:00",
          "2017-08-19T02:00:00",
          "2018-04-26T17:00:00",
          "2017-12-06T20:00:00",
          "2017-08-29T12:00:00",
          "2017-08-19T05:00:00",
          "2018-05-04T11:00:00",
          "2017-12-04T21:00:00",
          "2017-08-22T10:00:00",
          "2018-01-09T20:00:00",
          "2017-12-06T22:00:00",
          "2017-09-24T03:00:00",
          "2017-11-18T10:00:00"
         ],
         "xaxis": "x",
         "y": [
          2998,
          2998,
          2998,
          2998,
          2998,
          2998,
          3298,
          3298,
          3298,
          3298,
          3298,
          3298,
          3298,
          3298,
          3298,
          2197.99,
          2197.99,
          1498,
          1498,
          1498,
          1498,
          797.99,
          797.99,
          797.99,
          797.99,
          797.99,
          797.99,
          797.99,
          797.99,
          797.99,
          797.99,
          1197.99,
          1296.99,
          1296.99,
          1549.95,
          1549.95,
          2997.99,
          2997.99,
          2997.99,
          2997.99,
          2997.99,
          2997.99,
          2997.99,
          2997.99,
          2997.99,
          2997.99,
          2997.99,
          1198,
          1198,
          1198,
          1198,
          1198,
          1198,
          1198,
          1198,
          1198,
          1198,
          1198
         ],
         "yaxis": "y"
        },
        {
         "hovertemplate": "On-Sale=True<br>Website=bestbuy<br>Date-Seen=%{x}<br>Price-Min=%{y}<extra></extra>",
         "legendgroup": "True",
         "marker": {
          "color": "#EF553B",
          "line": {
           "color": "DarkSlateGrey",
           "width": 1
          },
          "size": 8,
          "symbol": "circle"
         },
         "mode": "markers",
         "name": "True",
         "orientation": "v",
         "showlegend": true,
         "type": "scatter",
         "x": [
          "2018-05-26T15:00:00",
          "2018-05-02T14:00:00",
          "2017-03-30T05:00:00",
          "2017-03-10T19:00:00",
          "2017-03-04T10:00:00",
          "2018-05-26T07:00:00",
          "2017-08-01T03:00:00",
          "2017-07-26T15:00:00",
          "2017-07-11T05:00:00",
          "2018-05-26T15:00:00",
          "2018-05-25T21:00:00",
          "2018-05-26T15:00:00",
          "2018-05-26T07:00:00",
          "2018-05-26T16:00:00",
          "2017-08-01T03:00:00",
          "2017-07-26T15:00:00",
          "2018-05-26T07:00:00",
          "2018-05-25T21:00:00",
          "2018-05-26T16:00:00",
          "2017-07-26T15:00:00",
          "2017-06-29T22:00:00",
          "2017-08-01T03:00:00",
          "2017-06-01T19:00:00",
          "2017-05-31T17:00:00"
         ],
         "xaxis": "x4",
         "y": [
          599.99,
          699.99,
          809.99,
          909.99,
          1,
          2499.99,
          3219.99,
          3219.99,
          3219.99,
          1999.99,
          1299.99,
          1299.99,
          549.99,
          751.99,
          1759.99,
          1759.99,
          1299.99,
          427.99,
          427.99,
          909.99,
          909.99,
          919.99,
          1091.99,
          1091.99
         ],
         "yaxis": "y4"
        },
        {
         "hovertemplate": "On-Sale=True<br>Website=walmart<br>Date-Seen=%{x}<br>Price-Min=%{y}<extra></extra>",
         "legendgroup": "True",
         "marker": {
          "color": "#EF553B",
          "line": {
           "color": "DarkSlateGrey",
           "width": 1
          },
          "size": 8,
          "symbol": "circle"
         },
         "mode": "markers",
         "name": "True",
         "orientation": "v",
         "showlegend": false,
         "type": "scatter",
         "x": [
          "2017-12-06T01:00:00",
          "2017-11-08T20:00:00",
          "2017-10-24T01:00:00",
          "2017-08-14T14:00:00",
          "2017-12-07T06:00:00",
          "2018-01-10T07:00:00",
          "2017-11-08T20:00:00",
          "2017-11-08T20:00:00",
          "2017-10-30T14:00:00",
          "2017-10-28T18:00:00",
          "2017-10-24T22:00:00",
          "2017-08-15T21:00:00",
          "2017-12-04T20:00:00",
          "2018-04-26T17:00:00",
          "2018-05-27T16:00:00",
          "2018-05-24T11:00:00",
          "2018-05-28T10:00:00",
          "2017-10-24T01:00:00",
          "2018-05-27T16:00:00",
          "2018-05-28T11:00:00",
          "2018-05-24T11:00:00",
          "2018-04-26T17:00:00",
          "2017-11-16T19:00:00",
          "2018-05-27T16:00:00",
          "2018-05-28T10:00:00",
          "2018-04-26T17:00:00",
          "2018-03-09T18:00:00",
          "2018-03-09T18:00:00",
          "2018-02-05T20:00:00",
          "2017-10-28T18:00:00",
          "2018-03-09T18:00:00",
          "2017-09-18T18:00:00",
          "2017-08-15T21:00:00",
          "2017-07-28T07:00:00",
          "2017-07-22T23:00:00",
          "2017-12-06T01:00:00",
          "2017-11-16T22:00:00",
          "2017-11-08T20:00:00",
          "2017-09-08T03:00:00",
          "2017-10-28T17:00:00",
          "2017-10-24T22:00:00",
          "2017-11-16T23:00:00",
          "2017-11-08T20:00:00",
          "2017-10-28T18:00:00",
          "2017-10-24T22:00:00",
          "2018-05-27T16:00:00",
          "2018-05-24T11:00:00",
          "2018-05-28T10:00:00",
          "2018-04-26T17:00:00",
          "2017-11-16T22:00:00",
          "2018-03-09T18:00:00",
          "2017-11-08T20:00:00",
          "2017-12-07T06:00:00",
          "2017-09-17T08:00:00",
          "2018-05-27T16:00:00",
          "2018-05-24T11:00:00",
          "2017-08-15T15:00:00",
          "2017-07-18T06:00:00",
          "2017-07-21T16:00:00",
          "2017-07-21T14:00:00",
          "2017-07-12T15:00:00",
          "2017-07-16T20:00:00",
          "2017-07-10T18:00:00",
          "2017-07-08T20:00:00",
          "2017-07-14T14:00:00",
          "2017-12-08T10:00:00",
          "2017-12-06T01:00:00",
          "2017-11-16T19:00:00",
          "2017-11-08T20:00:00",
          "2017-10-28T17:00:00",
          "2017-10-24T22:00:00",
          "2017-12-07T06:00:00",
          "2018-04-26T17:00:00",
          "2018-05-24T11:00:00",
          "2017-07-21T16:00:00",
          "2017-10-28T17:00:00",
          "2017-08-14T14:00:00",
          "2018-01-10T14:00:00",
          "2017-07-21T16:00:00",
          "2018-03-09T18:00:00",
          "2018-04-26T17:00:00",
          "2018-05-27T16:00:00",
          "2018-03-15T19:00:00",
          "2017-10-24T01:00:00",
          "2018-05-28T11:00:00",
          "2018-05-24T11:00:00",
          "2018-03-09T18:00:00",
          "2017-11-16T22:00:00",
          "2017-07-21T16:00:00",
          "2017-09-15T00:00:00",
          "2017-11-16T19:00:00",
          "2017-10-24T01:00:00"
         ],
         "xaxis": "x3",
         "y": [
          1197.99,
          1197.99,
          1197.99,
          1197.99,
          3596,
          4296,
          2798,
          4096,
          4096,
          4096,
          4096,
          3298,
          2498,
          2097.99,
          1997.99,
          1997.99,
          1997.99,
          797.99,
          1097.99,
          1097.99,
          1097.99,
          1197.99,
          597.99,
          796.99,
          796.99,
          846.99,
          749,
          659.42,
          796.99,
          2395.98,
          1497.99,
          2197.99,
          2197.99,
          2197.99,
          2197.99,
          1797.99,
          1797.99,
          1797.99,
          1897.99,
          1997.99,
          1997.99,
          2075.98,
          2075.98,
          1997.99,
          1997.99,
          1399.99,
          1399.99,
          1399.99,
          1797.99,
          1797.99,
          1797.99,
          1797.99,
          1797.99,
          2475.98,
          1978.01,
          1978.01,
          2197.99,
          2197.99,
          2197.99,
          2197.99,
          2197.99,
          2197.99,
          2197.99,
          2197.99,
          2197.99,
          1599,
          1599,
          1599,
          1599,
          1599,
          1599,
          2125.98,
          2797.99,
          2797.99,
          768.98,
          549.99,
          798,
          695.47,
          998,
          838,
          898,
          898,
          898,
          898,
          898,
          898,
          798,
          798,
          998,
          998,
          898,
          898
         ],
         "yaxis": "y3"
        },
        {
         "hovertemplate": "On-Sale=True<br>Website=bhphotovideo<br>Date-Seen=%{x}<br>Price-Min=%{y}<extra></extra>",
         "legendgroup": "True",
         "marker": {
          "color": "#EF553B",
          "line": {
           "color": "DarkSlateGrey",
           "width": 1
          },
          "size": 8,
          "symbol": "circle"
         },
         "mode": "markers",
         "name": "True",
         "orientation": "v",
         "showlegend": false,
         "type": "scatter",
         "x": [
          "2017-11-18T10:00:00",
          "2018-04-26T17:00:00",
          "2018-06-01T15:00:00",
          "2017-12-06T20:00:00",
          "2018-05-04T11:00:00",
          "2017-12-04T21:00:00",
          "2017-12-06T22:00:00",
          "2018-04-26T17:00:00",
          "2018-06-01T09:00:00",
          "2018-06-01T09:00:00",
          "2017-12-06T22:00:00",
          "2017-12-06T20:00:00",
          "2017-12-04T21:00:00",
          "2017-11-18T13:00:00",
          "2018-01-27T10:00:00",
          "2018-06-01T15:00:00",
          "2018-01-09T20:00:00",
          "2018-04-26T17:00:00",
          "2017-12-07T23:00:00",
          "2017-12-08T01:00:00",
          "2017-12-05T10:00:00",
          "2017-09-24T10:00:00",
          "2017-08-22T10:00:00",
          "2017-08-19T02:00:00",
          "2018-04-26T17:00:00",
          "2017-08-29T12:00:00",
          "2017-08-19T05:00:00",
          "2018-05-04T11:00:00",
          "2017-09-24T03:00:00",
          "2017-08-22T10:00:00",
          "2018-01-09T20:00:00",
          "2017-12-06T22:00:00",
          "2017-12-06T20:00:00",
          "2017-12-04T21:00:00",
          "2017-11-18T10:00:00"
         ],
         "xaxis": "x",
         "y": [
          2798,
          2498,
          2498,
          2498,
          2498,
          2498,
          2498,
          2097.99,
          1997.99,
          1298,
          597.99,
          597.99,
          597.99,
          597.99,
          1697.99,
          2797.99,
          1997.99,
          1797.99,
          1797.99,
          1797.99,
          1797.99,
          2197.99,
          2197.99,
          2197.99,
          898,
          898,
          898,
          898,
          898,
          998,
          798,
          798,
          798,
          798,
          798
         ],
         "yaxis": "y"
        }
       ],
       "layout": {
        "annotations": [
         {
          "font": {},
          "showarrow": false,
          "text": "bhphotovideo",
          "textangle": 90,
          "x": 0.98,
          "xanchor": "left",
          "xref": "paper",
          "y": 0.11375,
          "yanchor": "middle",
          "yref": "paper"
         },
         {
          "font": {},
          "showarrow": false,
          "text": "ebay",
          "textangle": 90,
          "x": 0.98,
          "xanchor": "left",
          "xref": "paper",
          "y": 0.37124999999999997,
          "yanchor": "middle",
          "yref": "paper"
         },
         {
          "font": {},
          "showarrow": false,
          "text": "walmart",
          "textangle": 90,
          "x": 0.98,
          "xanchor": "left",
          "xref": "paper",
          "y": 0.62875,
          "yanchor": "middle",
          "yref": "paper"
         },
         {
          "font": {},
          "showarrow": false,
          "text": "bestbuy",
          "textangle": 90,
          "x": 0.98,
          "xanchor": "left",
          "xref": "paper",
          "y": 0.88625,
          "yanchor": "middle",
          "yref": "paper"
         }
        ],
        "height": 800,
        "legend": {
         "title": {
          "text": "On-Sale"
         },
         "tracegroupgap": 0
        },
        "margin": {
         "t": 60
        },
        "template": {
         "data": {
          "bar": [
           {
            "error_x": {
             "color": "#2a3f5f"
            },
            "error_y": {
             "color": "#2a3f5f"
            },
            "marker": {
             "line": {
              "color": "#E5ECF6",
              "width": 0.5
             }
            },
            "type": "bar"
           }
          ],
          "barpolar": [
           {
            "marker": {
             "line": {
              "color": "#E5ECF6",
              "width": 0.5
             }
            },
            "type": "barpolar"
           }
          ],
          "carpet": [
           {
            "aaxis": {
             "endlinecolor": "#2a3f5f",
             "gridcolor": "white",
             "linecolor": "white",
             "minorgridcolor": "white",
             "startlinecolor": "#2a3f5f"
            },
            "baxis": {
             "endlinecolor": "#2a3f5f",
             "gridcolor": "white",
             "linecolor": "white",
             "minorgridcolor": "white",
             "startlinecolor": "#2a3f5f"
            },
            "type": "carpet"
           }
          ],
          "choropleth": [
           {
            "colorbar": {
             "outlinewidth": 0,
             "ticks": ""
            },
            "type": "choropleth"
           }
          ],
          "contour": [
           {
            "colorbar": {
             "outlinewidth": 0,
             "ticks": ""
            },
            "colorscale": [
             [
              0,
              "#0d0887"
             ],
             [
              0.1111111111111111,
              "#46039f"
             ],
             [
              0.2222222222222222,
              "#7201a8"
             ],
             [
              0.3333333333333333,
              "#9c179e"
             ],
             [
              0.4444444444444444,
              "#bd3786"
             ],
             [
              0.5555555555555556,
              "#d8576b"
             ],
             [
              0.6666666666666666,
              "#ed7953"
             ],
             [
              0.7777777777777778,
              "#fb9f3a"
             ],
             [
              0.8888888888888888,
              "#fdca26"
             ],
             [
              1,
              "#f0f921"
             ]
            ],
            "type": "contour"
           }
          ],
          "contourcarpet": [
           {
            "colorbar": {
             "outlinewidth": 0,
             "ticks": ""
            },
            "type": "contourcarpet"
           }
          ],
          "heatmap": [
           {
            "colorbar": {
             "outlinewidth": 0,
             "ticks": ""
            },
            "colorscale": [
             [
              0,
              "#0d0887"
             ],
             [
              0.1111111111111111,
              "#46039f"
             ],
             [
              0.2222222222222222,
              "#7201a8"
             ],
             [
              0.3333333333333333,
              "#9c179e"
             ],
             [
              0.4444444444444444,
              "#bd3786"
             ],
             [
              0.5555555555555556,
              "#d8576b"
             ],
             [
              0.6666666666666666,
              "#ed7953"
             ],
             [
              0.7777777777777778,
              "#fb9f3a"
             ],
             [
              0.8888888888888888,
              "#fdca26"
             ],
             [
              1,
              "#f0f921"
             ]
            ],
            "type": "heatmap"
           }
          ],
          "heatmapgl": [
           {
            "colorbar": {
             "outlinewidth": 0,
             "ticks": ""
            },
            "colorscale": [
             [
              0,
              "#0d0887"
             ],
             [
              0.1111111111111111,
              "#46039f"
             ],
             [
              0.2222222222222222,
              "#7201a8"
             ],
             [
              0.3333333333333333,
              "#9c179e"
             ],
             [
              0.4444444444444444,
              "#bd3786"
             ],
             [
              0.5555555555555556,
              "#d8576b"
             ],
             [
              0.6666666666666666,
              "#ed7953"
             ],
             [
              0.7777777777777778,
              "#fb9f3a"
             ],
             [
              0.8888888888888888,
              "#fdca26"
             ],
             [
              1,
              "#f0f921"
             ]
            ],
            "type": "heatmapgl"
           }
          ],
          "histogram": [
           {
            "marker": {
             "colorbar": {
              "outlinewidth": 0,
              "ticks": ""
             }
            },
            "type": "histogram"
           }
          ],
          "histogram2d": [
           {
            "colorbar": {
             "outlinewidth": 0,
             "ticks": ""
            },
            "colorscale": [
             [
              0,
              "#0d0887"
             ],
             [
              0.1111111111111111,
              "#46039f"
             ],
             [
              0.2222222222222222,
              "#7201a8"
             ],
             [
              0.3333333333333333,
              "#9c179e"
             ],
             [
              0.4444444444444444,
              "#bd3786"
             ],
             [
              0.5555555555555556,
              "#d8576b"
             ],
             [
              0.6666666666666666,
              "#ed7953"
             ],
             [
              0.7777777777777778,
              "#fb9f3a"
             ],
             [
              0.8888888888888888,
              "#fdca26"
             ],
             [
              1,
              "#f0f921"
             ]
            ],
            "type": "histogram2d"
           }
          ],
          "histogram2dcontour": [
           {
            "colorbar": {
             "outlinewidth": 0,
             "ticks": ""
            },
            "colorscale": [
             [
              0,
              "#0d0887"
             ],
             [
              0.1111111111111111,
              "#46039f"
             ],
             [
              0.2222222222222222,
              "#7201a8"
             ],
             [
              0.3333333333333333,
              "#9c179e"
             ],
             [
              0.4444444444444444,
              "#bd3786"
             ],
             [
              0.5555555555555556,
              "#d8576b"
             ],
             [
              0.6666666666666666,
              "#ed7953"
             ],
             [
              0.7777777777777778,
              "#fb9f3a"
             ],
             [
              0.8888888888888888,
              "#fdca26"
             ],
             [
              1,
              "#f0f921"
             ]
            ],
            "type": "histogram2dcontour"
           }
          ],
          "mesh3d": [
           {
            "colorbar": {
             "outlinewidth": 0,
             "ticks": ""
            },
            "type": "mesh3d"
           }
          ],
          "parcoords": [
           {
            "line": {
             "colorbar": {
              "outlinewidth": 0,
              "ticks": ""
             }
            },
            "type": "parcoords"
           }
          ],
          "pie": [
           {
            "automargin": true,
            "type": "pie"
           }
          ],
          "scatter": [
           {
            "marker": {
             "colorbar": {
              "outlinewidth": 0,
              "ticks": ""
             }
            },
            "type": "scatter"
           }
          ],
          "scatter3d": [
           {
            "line": {
             "colorbar": {
              "outlinewidth": 0,
              "ticks": ""
             }
            },
            "marker": {
             "colorbar": {
              "outlinewidth": 0,
              "ticks": ""
             }
            },
            "type": "scatter3d"
           }
          ],
          "scattercarpet": [
           {
            "marker": {
             "colorbar": {
              "outlinewidth": 0,
              "ticks": ""
             }
            },
            "type": "scattercarpet"
           }
          ],
          "scattergeo": [
           {
            "marker": {
             "colorbar": {
              "outlinewidth": 0,
              "ticks": ""
             }
            },
            "type": "scattergeo"
           }
          ],
          "scattergl": [
           {
            "marker": {
             "colorbar": {
              "outlinewidth": 0,
              "ticks": ""
             }
            },
            "type": "scattergl"
           }
          ],
          "scattermapbox": [
           {
            "marker": {
             "colorbar": {
              "outlinewidth": 0,
              "ticks": ""
             }
            },
            "type": "scattermapbox"
           }
          ],
          "scatterpolar": [
           {
            "marker": {
             "colorbar": {
              "outlinewidth": 0,
              "ticks": ""
             }
            },
            "type": "scatterpolar"
           }
          ],
          "scatterpolargl": [
           {
            "marker": {
             "colorbar": {
              "outlinewidth": 0,
              "ticks": ""
             }
            },
            "type": "scatterpolargl"
           }
          ],
          "scatterternary": [
           {
            "marker": {
             "colorbar": {
              "outlinewidth": 0,
              "ticks": ""
             }
            },
            "type": "scatterternary"
           }
          ],
          "surface": [
           {
            "colorbar": {
             "outlinewidth": 0,
             "ticks": ""
            },
            "colorscale": [
             [
              0,
              "#0d0887"
             ],
             [
              0.1111111111111111,
              "#46039f"
             ],
             [
              0.2222222222222222,
              "#7201a8"
             ],
             [
              0.3333333333333333,
              "#9c179e"
             ],
             [
              0.4444444444444444,
              "#bd3786"
             ],
             [
              0.5555555555555556,
              "#d8576b"
             ],
             [
              0.6666666666666666,
              "#ed7953"
             ],
             [
              0.7777777777777778,
              "#fb9f3a"
             ],
             [
              0.8888888888888888,
              "#fdca26"
             ],
             [
              1,
              "#f0f921"
             ]
            ],
            "type": "surface"
           }
          ],
          "table": [
           {
            "cells": {
             "fill": {
              "color": "#EBF0F8"
             },
             "line": {
              "color": "white"
             }
            },
            "header": {
             "fill": {
              "color": "#C8D4E3"
             },
             "line": {
              "color": "white"
             }
            },
            "type": "table"
           }
          ]
         },
         "layout": {
          "annotationdefaults": {
           "arrowcolor": "#2a3f5f",
           "arrowhead": 0,
           "arrowwidth": 1
          },
          "coloraxis": {
           "colorbar": {
            "outlinewidth": 0,
            "ticks": ""
           }
          },
          "colorscale": {
           "diverging": [
            [
             0,
             "#8e0152"
            ],
            [
             0.1,
             "#c51b7d"
            ],
            [
             0.2,
             "#de77ae"
            ],
            [
             0.3,
             "#f1b6da"
            ],
            [
             0.4,
             "#fde0ef"
            ],
            [
             0.5,
             "#f7f7f7"
            ],
            [
             0.6,
             "#e6f5d0"
            ],
            [
             0.7,
             "#b8e186"
            ],
            [
             0.8,
             "#7fbc41"
            ],
            [
             0.9,
             "#4d9221"
            ],
            [
             1,
             "#276419"
            ]
           ],
           "sequential": [
            [
             0,
             "#0d0887"
            ],
            [
             0.1111111111111111,
             "#46039f"
            ],
            [
             0.2222222222222222,
             "#7201a8"
            ],
            [
             0.3333333333333333,
             "#9c179e"
            ],
            [
             0.4444444444444444,
             "#bd3786"
            ],
            [
             0.5555555555555556,
             "#d8576b"
            ],
            [
             0.6666666666666666,
             "#ed7953"
            ],
            [
             0.7777777777777778,
             "#fb9f3a"
            ],
            [
             0.8888888888888888,
             "#fdca26"
            ],
            [
             1,
             "#f0f921"
            ]
           ],
           "sequentialminus": [
            [
             0,
             "#0d0887"
            ],
            [
             0.1111111111111111,
             "#46039f"
            ],
            [
             0.2222222222222222,
             "#7201a8"
            ],
            [
             0.3333333333333333,
             "#9c179e"
            ],
            [
             0.4444444444444444,
             "#bd3786"
            ],
            [
             0.5555555555555556,
             "#d8576b"
            ],
            [
             0.6666666666666666,
             "#ed7953"
            ],
            [
             0.7777777777777778,
             "#fb9f3a"
            ],
            [
             0.8888888888888888,
             "#fdca26"
            ],
            [
             1,
             "#f0f921"
            ]
           ]
          },
          "colorway": [
           "#636efa",
           "#EF553B",
           "#00cc96",
           "#ab63fa",
           "#FFA15A",
           "#19d3f3",
           "#FF6692",
           "#B6E880",
           "#FF97FF",
           "#FECB52"
          ],
          "font": {
           "color": "#2a3f5f"
          },
          "geo": {
           "bgcolor": "white",
           "lakecolor": "white",
           "landcolor": "#E5ECF6",
           "showlakes": true,
           "showland": true,
           "subunitcolor": "white"
          },
          "hoverlabel": {
           "align": "left"
          },
          "hovermode": "closest",
          "mapbox": {
           "style": "light"
          },
          "paper_bgcolor": "white",
          "plot_bgcolor": "#E5ECF6",
          "polar": {
           "angularaxis": {
            "gridcolor": "white",
            "linecolor": "white",
            "ticks": ""
           },
           "bgcolor": "#E5ECF6",
           "radialaxis": {
            "gridcolor": "white",
            "linecolor": "white",
            "ticks": ""
           }
          },
          "scene": {
           "xaxis": {
            "backgroundcolor": "#E5ECF6",
            "gridcolor": "white",
            "gridwidth": 2,
            "linecolor": "white",
            "showbackground": true,
            "ticks": "",
            "zerolinecolor": "white"
           },
           "yaxis": {
            "backgroundcolor": "#E5ECF6",
            "gridcolor": "white",
            "gridwidth": 2,
            "linecolor": "white",
            "showbackground": true,
            "ticks": "",
            "zerolinecolor": "white"
           },
           "zaxis": {
            "backgroundcolor": "#E5ECF6",
            "gridcolor": "white",
            "gridwidth": 2,
            "linecolor": "white",
            "showbackground": true,
            "ticks": "",
            "zerolinecolor": "white"
           }
          },
          "shapedefaults": {
           "line": {
            "color": "#2a3f5f"
           }
          },
          "ternary": {
           "aaxis": {
            "gridcolor": "white",
            "linecolor": "white",
            "ticks": ""
           },
           "baxis": {
            "gridcolor": "white",
            "linecolor": "white",
            "ticks": ""
           },
           "bgcolor": "#E5ECF6",
           "caxis": {
            "gridcolor": "white",
            "linecolor": "white",
            "ticks": ""
           }
          },
          "title": {
           "x": 0.05
          },
          "xaxis": {
           "automargin": true,
           "gridcolor": "white",
           "linecolor": "white",
           "ticks": "",
           "title": {
            "standoff": 15
           },
           "zerolinecolor": "white",
           "zerolinewidth": 2
          },
          "yaxis": {
           "automargin": true,
           "gridcolor": "white",
           "linecolor": "white",
           "ticks": "",
           "title": {
            "standoff": 15
           },
           "zerolinecolor": "white",
           "zerolinewidth": 2
          }
         }
        },
        "xaxis": {
         "anchor": "y",
         "domain": [
          0,
          0.98
         ],
         "title": {
          "text": ""
         }
        },
        "xaxis2": {
         "anchor": "y2",
         "domain": [
          0,
          0.98
         ],
         "matches": "x",
         "showticklabels": false,
         "title": {
          "text": ""
         }
        },
        "xaxis3": {
         "anchor": "y3",
         "domain": [
          0,
          0.98
         ],
         "matches": "x",
         "showticklabels": false,
         "title": {
          "text": ""
         }
        },
        "xaxis4": {
         "anchor": "y4",
         "domain": [
          0,
          0.98
         ],
         "matches": "x",
         "showticklabels": false,
         "title": {
          "text": ""
         }
        },
        "yaxis": {
         "anchor": "x",
         "domain": [
          0,
          0.2275
         ],
         "tickprefix": "$",
         "title": {
          "text": ""
         }
        },
        "yaxis2": {
         "anchor": "x2",
         "domain": [
          0.2575,
          0.485
         ],
         "matches": "y",
         "tickprefix": "$",
         "title": {
          "text": ""
         }
        },
        "yaxis3": {
         "anchor": "x3",
         "domain": [
          0.515,
          0.7425
         ],
         "matches": "y",
         "tickprefix": "$",
         "title": {
          "text": ""
         }
        },
        "yaxis4": {
         "anchor": "x4",
         "domain": [
          0.7725,
          1
         ],
         "matches": "y",
         "tickprefix": "$",
         "title": {
          "text": ""
         }
        }
       }
      },
      "text/html": [
       "<div>\n",
       "        \n",
       "        \n",
       "            <div id=\"2f2cd62c-0c1b-4ee9-8e2f-bce8fe13ae06\" class=\"plotly-graph-div\" style=\"height:800px; width:100%;\"></div>\n",
       "            <script type=\"text/javascript\">\n",
       "                require([\"plotly\"], function(Plotly) {\n",
       "                    window.PLOTLYENV=window.PLOTLYENV || {};\n",
       "                    \n",
       "                if (document.getElementById(\"2f2cd62c-0c1b-4ee9-8e2f-bce8fe13ae06\")) {\n",
       "                    Plotly.newPlot(\n",
       "                        '2f2cd62c-0c1b-4ee9-8e2f-bce8fe13ae06',\n",
       "                        [{\"hovertemplate\": \"On-Sale=False<br>Website=bestbuy<br>Date-Seen=%{x}<br>Price-Min=%{y}<extra></extra>\", \"legendgroup\": \"False\", \"marker\": {\"color\": \"#636efa\", \"line\": {\"color\": \"DarkSlateGrey\", \"width\": 1}, \"size\": 8, \"symbol\": \"circle\"}, \"mode\": \"markers\", \"name\": \"False\", \"orientation\": \"v\", \"showlegend\": true, \"type\": \"scatter\", \"x\": [\"2018-05-26T15:00:00\", \"2018-05-02T14:00:00\", \"2017-03-30T05:00:00\", \"2017-03-10T19:00:00\", \"2017-03-04T10:00:00\", \"2018-05-26T07:00:00\", \"2017-03-30T02:00:00\", \"2017-08-01T03:00:00\", \"2017-07-26T15:00:00\", \"2017-05-31T19:00:00\", \"2017-05-31T16:00:00\", \"2017-05-09T03:00:00\", \"2017-05-01T06:00:00\", \"2017-05-18T02:00:00\", \"2017-04-04T04:00:00\", \"2018-05-26T15:00:00\", \"2018-05-25T21:00:00\", \"2018-05-26T15:00:00\", \"2018-05-26T07:00:00\", \"2018-05-26T16:00:00\", \"2017-08-01T03:00:00\", \"2017-07-26T15:00:00\", \"2018-05-26T07:00:00\", \"2017-07-31T22:00:00\", \"2017-08-01T07:00:00\", \"2017-07-26T20:00:00\", \"2017-06-01T19:00:00\", \"2017-05-31T17:00:00\", \"2017-05-09T07:00:00\", \"2017-05-01T20:00:00\", \"2017-05-18T05:00:00\", \"2017-03-30T05:00:00\", \"2017-03-10T19:00:00\", \"2017-03-04T10:00:00\", \"2018-05-25T21:00:00\", \"2018-05-26T16:00:00\", \"2017-03-30T05:00:00\", \"2017-03-10T19:00:00\", \"2017-03-04T10:00:00\", \"2017-06-01T19:00:00\", \"2017-05-31T17:00:00\", \"2017-05-09T07:00:00\", \"2017-05-01T20:00:00\", \"2017-05-18T05:00:00\", \"2018-05-26T15:00:00\", \"2017-08-01T03:00:00\", \"2017-07-26T15:00:00\", \"2017-06-29T22:00:00\"], \"xaxis\": \"x4\", \"y\": [799.99, 799.99, 999.99, 999.99, 1199.99, 2799.99, 4999.99, 3499.99, 3499.99, 3999.99, 3999.99, 3999.99, 3999.99, 3999.99, 3999.99, 2199.99, 1499.99, 1499.99, 799.99, 799.99, 2199.99, 2199.99, 1999.99, 549.99, 549.99, 549.99, 549.99, 549.99, 549.99, 549.99, 549.99, 549.99, 549.99, 549.99, 449.99, 449.99, 1899.99, 1899.99, 1899.99, 1199.99, 1199.99, 1199.99, 1199.99, 1199.99, 899.99, 999.99, 999.99, 999.99], \"yaxis\": \"y4\"}, {\"hovertemplate\": \"On-Sale=False<br>Website=walmart<br>Date-Seen=%{x}<br>Price-Min=%{y}<extra></extra>\", \"legendgroup\": \"False\", \"marker\": {\"color\": \"#636efa\", \"line\": {\"color\": \"DarkSlateGrey\", \"width\": 1}, \"size\": 8, \"symbol\": \"circle\"}, \"mode\": \"markers\", \"name\": \"False\", \"orientation\": \"v\", \"showlegend\": false, \"type\": \"scatter\", \"x\": [\"2018-04-26T17:00:00\", \"2018-03-09T18:00:00\", \"2018-03-09T18:00:00\", \"2017-10-28T17:00:00\", \"2017-10-24T22:00:00\", \"2017-07-23T00:00:00\", \"2018-04-26T17:00:00\", \"2018-05-27T16:00:00\", \"2018-05-24T11:00:00\", \"2018-05-28T10:00:00\", \"2018-04-26T17:00:00\", \"2018-05-27T16:00:00\", \"2017-11-16T19:00:00\", \"2017-11-08T20:00:00\", \"2017-09-17T08:00:00\", \"2018-04-26T17:00:00\", \"2017-12-06T01:00:00\", \"2018-04-26T17:00:00\", \"2018-03-09T18:00:00\", \"2017-10-24T22:00:00\", \"2017-07-10T18:00:00\", \"2017-07-08T20:00:00\", \"2017-07-18T06:00:00\", \"2017-07-21T16:00:00\", \"2017-07-21T14:00:00\", \"2017-07-12T15:00:00\", \"2017-07-14T14:00:00\", \"2017-12-06T01:00:00\", \"2017-11-16T19:00:00\", \"2017-10-28T17:00:00\", \"2017-10-24T22:00:00\", \"2018-01-10T07:00:00\"], \"xaxis\": \"x3\", \"y\": [599.99, 699.99, 2798.0, 2798.0, 2798.0, 3498.0, 2498.0, 2498.0, 2498.0, 2498.0, 1498.0, 1298.0, 799.99, 799.99, 797.99, 747.85, 797.99, 449.99, 429.99, 724.7, 798.0, 798.0, 848.0, 848.0, 848.0, 848.0, 848.0, 1896.0, 2196.0, 2196.0, 2196.0, 2096.0], \"yaxis\": \"y3\"}, {\"hovertemplate\": \"On-Sale=False<br>Website=ebay<br>Date-Seen=%{x}<br>Price-Min=%{y}<extra></extra>\", \"legendgroup\": \"False\", \"marker\": {\"color\": \"#636efa\", \"line\": {\"color\": \"DarkSlateGrey\", \"width\": 1}, \"size\": 8, \"symbol\": \"circle\"}, \"mode\": \"markers\", \"name\": \"False\", \"orientation\": \"v\", \"showlegend\": false, \"type\": \"scatter\", \"x\": [\"2017-07-26T01:00:00\", \"2017-07-25T23:00:00\", \"2017-07-23T11:00:00\", \"2017-07-24T21:00:00\", \"2017-07-25T18:00:00\", \"2017-07-10T04:00:00\", \"2017-07-14T12:00:00\", \"2017-07-11T07:00:00\", \"2017-07-11T22:00:00\", \"2017-07-27T19:00:00\", \"2017-07-11T22:00:00\", \"2017-06-28T23:00:00\", \"2017-06-27T11:00:00\", \"2017-06-26T22:00:00\", \"2017-06-29T17:00:00\", \"2017-06-25T15:00:00\", \"2017-06-24T03:00:00\", \"2017-06-28T04:00:00\", \"2017-06-24T20:00:00\", \"2017-07-26T15:00:00\", \"2017-07-25T18:00:00\", \"2017-07-23T02:00:00\", \"2017-07-24T14:00:00\", \"2017-06-19T04:00:00\", \"2017-08-22T19:00:00\", \"2017-07-27T21:00:00\", \"2017-07-25T18:00:00\", \"2017-09-28T04:00:00\", \"2017-07-27T21:00:00\", \"2017-07-25T23:00:00\", \"2017-07-25T23:00:00\", \"2017-07-25T18:00:00\", \"2017-07-22T07:00:00\", \"2017-07-24T14:00:00\", \"2017-07-25T23:00:00\", \"2017-07-16T06:00:00\", \"2017-07-21T02:00:00\", \"2017-07-15T12:00:00\", \"2017-07-17T19:00:00\", \"2017-07-18T08:00:00\", \"2017-08-22T19:00:00\", \"2017-07-25T17:00:00\", \"2017-07-26T18:00:00\", \"2017-07-25T23:00:00\", \"2017-07-26T20:00:00\", \"2017-07-27T11:00:00\", \"2017-07-25T23:00:00\", \"2017-07-09T22:00:00\", \"2017-07-25T18:00:00\", \"2017-07-25T18:00:00\", \"2017-07-11T12:00:00\", \"2017-07-11T22:00:00\", \"2017-07-24T21:00:00\", \"2017-07-25T21:00:00\", \"2017-07-23T08:00:00\", \"2017-07-25T17:00:00\", \"2017-07-24T19:00:00\", \"2017-07-26T23:00:00\", \"2017-07-27T11:00:00\", \"2017-07-09T22:00:00\", \"2017-07-18T14:00:00\", \"2017-07-25T18:00:00\", \"2017-07-25T18:00:00\", \"2017-07-17T06:00:00\", \"2017-07-14T12:00:00\", \"2017-07-18T00:00:00\", \"2017-07-17T21:00:00\", \"2017-07-18T14:00:00\", \"2017-07-15T14:00:00\", \"2017-07-17T10:00:00\", \"2017-09-28T04:00:00\", \"2017-07-26T15:00:00\", \"2017-07-27T19:00:00\", \"2017-07-25T18:00:00\", \"2017-07-25T17:00:00\", \"2017-07-26T20:00:00\", \"2017-07-25T18:00:00\", \"2017-07-21T15:00:00\", \"2017-07-22T04:00:00\", \"2017-07-24T17:00:00\", \"2017-07-15T23:00:00\", \"2017-07-15T12:00:00\", \"2017-07-18T11:00:00\", \"2017-07-17T19:00:00\", \"2017-07-14T10:00:00\", \"2017-07-17T01:00:00\", \"2017-08-28T12:00:00\", \"2017-07-25T21:00:00\", \"2017-07-15T16:00:00\", \"2017-07-09T03:00:00\", \"2017-07-08T07:00:00\", \"2017-06-29T17:00:00\", \"2017-06-29T03:00:00\", \"2017-06-28T04:00:00\", \"2017-07-25T21:00:00\", \"2017-07-25T18:00:00\", \"2017-06-24T22:00:00\", \"2017-06-24T07:00:00\", \"2017-06-20T09:00:00\", \"2017-06-23T12:00:00\", \"2017-06-17T23:00:00\", \"2017-06-28T04:00:00\", \"2017-06-15T17:00:00\", \"2017-07-09T03:00:00\", \"2017-06-07T18:00:00\", \"2017-09-28T04:00:00\", \"2017-07-25T21:00:00\", \"2017-07-23T11:00:00\", \"2017-07-24T21:00:00\", \"2017-07-15T00:00:00\", \"2017-07-15T16:00:00\", \"2017-07-09T03:00:00\", \"2017-07-18T00:00:00\", \"2017-07-11T07:00:00\", \"2017-07-23T08:00:00\", \"2017-07-26T18:00:00\", \"2017-07-25T18:00:00\", \"2017-07-09T22:00:00\", \"2017-07-16T01:00:00\", \"2017-07-18T11:00:00\", \"2017-07-08T22:00:00\", \"2017-06-29T13:00:00\", \"2017-06-27T11:00:00\", \"2017-06-27T20:00:00\", \"2017-06-27T00:00:00\"], \"xaxis\": \"x2\", \"y\": [1197.99, 1197.99, 489.99, 489.99, 489.99, 499.99, 499.99, 499.99, 499.99, 3050.0, 2999.99, 2999.99, 2999.99, 2999.99, 2999.99, 2999.99, 2999.99, 2999.99, 2999.99, 3040.0, 3040.0, 3099.52, 3099.52, 3099.52, 3099.18, 3050.0, 3050.0, 2998.0, 1898.95, 2197.99, 2197.99, 1972.95, 1997.95, 1997.95, 2197.99, 1998.95, 1998.95, 1998.95, 1998.95, 1998.95, 1755.95, 1982.95, 1982.95, 1982.95, 1900.0, 1900.0, 2197.99, 2016.95, 723.6, 619.96, 619.96, 619.96, 798.0, 798.0, 629.99, 629.99, 629.99, 629.99, 629.99, 629.99, 629.99, 629.99, 600.0, 699.95, 848.0, 848.0, 450.0, 450.0, 746.24, 550.0, 789.99, 789.99, 789.99, 789.99, 798.0, 798.0, 798.0, 798.0, 798.0, 798.0, 798.0, 798.0, 798.0, 798.0, 798.0, 798.0, 898.0, 998.0, 998.0, 998.0, 998.0, 998.0, 998.0, 998.0, 998.0, 998.0, 1098.0, 1098.0, 1098.0, 1098.0, 1098.0, 998.0, 1098.0, 1295.2, 1198.0, 1099.0, 998.0, 998.0, 998.0, 998.0, 998.0, 998.0, 998.0, 998.0, 998.0, 998.0, 998.0, 998.0, 998.0, 998.0, 998.0, 998.0, 998.0, 998.0, 998.0], \"yaxis\": \"y2\"}, {\"hovertemplate\": \"On-Sale=False<br>Website=bhphotovideo<br>Date-Seen=%{x}<br>Price-Min=%{y}<extra></extra>\", \"legendgroup\": \"False\", \"marker\": {\"color\": \"#636efa\", \"line\": {\"color\": \"DarkSlateGrey\", \"width\": 1}, \"size\": 8, \"symbol\": \"circle\"}, \"mode\": \"markers\", \"name\": \"False\", \"orientation\": \"v\", \"showlegend\": false, \"type\": \"scatter\", \"x\": [\"2018-04-26T17:00:00\", \"2018-06-01T15:00:00\", \"2017-08-29T12:00:00\", \"2018-05-04T11:00:00\", \"2018-01-09T20:00:00\", \"2017-09-24T03:00:00\", \"2018-01-09T20:00:00\", \"2017-12-06T22:00:00\", \"2017-12-06T20:00:00\", \"2017-12-04T21:00:00\", \"2017-11-18T10:00:00\", \"2017-09-24T03:00:00\", \"2017-08-29T12:00:00\", \"2017-08-22T04:00:00\", \"2017-08-19T02:00:00\", \"2018-04-26T17:00:00\", \"2018-06-01T09:00:00\", \"2018-04-26T17:00:00\", \"2018-07-25T18:00:00\", \"2018-03-31T19:00:00\", \"2018-06-01T09:00:00\", \"2017-11-18T13:00:00\", \"2017-12-06T20:00:00\", \"2017-08-29T12:00:00\", \"2017-08-19T05:00:00\", \"2017-12-04T21:00:00\", \"2017-08-22T10:00:00\", \"2018-01-09T20:00:00\", \"2017-10-24T08:00:00\", \"2018-05-06T17:00:00\", \"2017-12-06T22:00:00\", \"2018-03-31T19:00:00\", \"2018-04-26T17:00:00\", \"2018-05-06T17:00:00\", \"2018-04-26T17:00:00\", \"2018-01-27T10:00:00\", \"2018-04-10T14:00:00\", \"2018-04-26T17:00:00\", \"2018-06-01T15:00:00\", \"2017-12-07T23:00:00\", \"2017-12-08T01:00:00\", \"2017-12-05T10:00:00\", \"2017-08-22T10:00:00\", \"2018-01-27T10:00:00\", \"2018-01-09T20:00:00\", \"2017-09-24T10:00:00\", \"2017-08-19T02:00:00\", \"2018-04-26T17:00:00\", \"2017-12-06T20:00:00\", \"2017-08-29T12:00:00\", \"2017-08-19T05:00:00\", \"2018-05-04T11:00:00\", \"2017-12-04T21:00:00\", \"2017-08-22T10:00:00\", \"2018-01-09T20:00:00\", \"2017-12-06T22:00:00\", \"2017-09-24T03:00:00\", \"2017-11-18T10:00:00\"], \"xaxis\": \"x\", \"y\": [2998.0, 2998.0, 2998.0, 2998.0, 2998.0, 2998.0, 3298.0, 3298.0, 3298.0, 3298.0, 3298.0, 3298.0, 3298.0, 3298.0, 3298.0, 2197.99, 2197.99, 1498.0, 1498.0, 1498.0, 1498.0, 797.99, 797.99, 797.99, 797.99, 797.99, 797.99, 797.99, 797.99, 797.99, 797.99, 1197.99, 1296.99, 1296.99, 1549.95, 1549.95, 2997.99, 2997.99, 2997.99, 2997.99, 2997.99, 2997.99, 2997.99, 2997.99, 2997.99, 2997.99, 2997.99, 1198.0, 1198.0, 1198.0, 1198.0, 1198.0, 1198.0, 1198.0, 1198.0, 1198.0, 1198.0, 1198.0], \"yaxis\": \"y\"}, {\"hovertemplate\": \"On-Sale=True<br>Website=bestbuy<br>Date-Seen=%{x}<br>Price-Min=%{y}<extra></extra>\", \"legendgroup\": \"True\", \"marker\": {\"color\": \"#EF553B\", \"line\": {\"color\": \"DarkSlateGrey\", \"width\": 1}, \"size\": 8, \"symbol\": \"circle\"}, \"mode\": \"markers\", \"name\": \"True\", \"orientation\": \"v\", \"showlegend\": true, \"type\": \"scatter\", \"x\": [\"2018-05-26T15:00:00\", \"2018-05-02T14:00:00\", \"2017-03-30T05:00:00\", \"2017-03-10T19:00:00\", \"2017-03-04T10:00:00\", \"2018-05-26T07:00:00\", \"2017-08-01T03:00:00\", \"2017-07-26T15:00:00\", \"2017-07-11T05:00:00\", \"2018-05-26T15:00:00\", \"2018-05-25T21:00:00\", \"2018-05-26T15:00:00\", \"2018-05-26T07:00:00\", \"2018-05-26T16:00:00\", \"2017-08-01T03:00:00\", \"2017-07-26T15:00:00\", \"2018-05-26T07:00:00\", \"2018-05-25T21:00:00\", \"2018-05-26T16:00:00\", \"2017-07-26T15:00:00\", \"2017-06-29T22:00:00\", \"2017-08-01T03:00:00\", \"2017-06-01T19:00:00\", \"2017-05-31T17:00:00\"], \"xaxis\": \"x4\", \"y\": [599.99, 699.99, 809.99, 909.99, 1.0, 2499.99, 3219.99, 3219.99, 3219.99, 1999.99, 1299.99, 1299.99, 549.99, 751.99, 1759.99, 1759.99, 1299.99, 427.99, 427.99, 909.99, 909.99, 919.99, 1091.99, 1091.99], \"yaxis\": \"y4\"}, {\"hovertemplate\": \"On-Sale=True<br>Website=walmart<br>Date-Seen=%{x}<br>Price-Min=%{y}<extra></extra>\", \"legendgroup\": \"True\", \"marker\": {\"color\": \"#EF553B\", \"line\": {\"color\": \"DarkSlateGrey\", \"width\": 1}, \"size\": 8, \"symbol\": \"circle\"}, \"mode\": \"markers\", \"name\": \"True\", \"orientation\": \"v\", \"showlegend\": false, \"type\": \"scatter\", \"x\": [\"2017-12-06T01:00:00\", \"2017-11-08T20:00:00\", \"2017-10-24T01:00:00\", \"2017-08-14T14:00:00\", \"2017-12-07T06:00:00\", \"2018-01-10T07:00:00\", \"2017-11-08T20:00:00\", \"2017-11-08T20:00:00\", \"2017-10-30T14:00:00\", \"2017-10-28T18:00:00\", \"2017-10-24T22:00:00\", \"2017-08-15T21:00:00\", \"2017-12-04T20:00:00\", \"2018-04-26T17:00:00\", \"2018-05-27T16:00:00\", \"2018-05-24T11:00:00\", \"2018-05-28T10:00:00\", \"2017-10-24T01:00:00\", \"2018-05-27T16:00:00\", \"2018-05-28T11:00:00\", \"2018-05-24T11:00:00\", \"2018-04-26T17:00:00\", \"2017-11-16T19:00:00\", \"2018-05-27T16:00:00\", \"2018-05-28T10:00:00\", \"2018-04-26T17:00:00\", \"2018-03-09T18:00:00\", \"2018-03-09T18:00:00\", \"2018-02-05T20:00:00\", \"2017-10-28T18:00:00\", \"2018-03-09T18:00:00\", \"2017-09-18T18:00:00\", \"2017-08-15T21:00:00\", \"2017-07-28T07:00:00\", \"2017-07-22T23:00:00\", \"2017-12-06T01:00:00\", \"2017-11-16T22:00:00\", \"2017-11-08T20:00:00\", \"2017-09-08T03:00:00\", \"2017-10-28T17:00:00\", \"2017-10-24T22:00:00\", \"2017-11-16T23:00:00\", \"2017-11-08T20:00:00\", \"2017-10-28T18:00:00\", \"2017-10-24T22:00:00\", \"2018-05-27T16:00:00\", \"2018-05-24T11:00:00\", \"2018-05-28T10:00:00\", \"2018-04-26T17:00:00\", \"2017-11-16T22:00:00\", \"2018-03-09T18:00:00\", \"2017-11-08T20:00:00\", \"2017-12-07T06:00:00\", \"2017-09-17T08:00:00\", \"2018-05-27T16:00:00\", \"2018-05-24T11:00:00\", \"2017-08-15T15:00:00\", \"2017-07-18T06:00:00\", \"2017-07-21T16:00:00\", \"2017-07-21T14:00:00\", \"2017-07-12T15:00:00\", \"2017-07-16T20:00:00\", \"2017-07-10T18:00:00\", \"2017-07-08T20:00:00\", \"2017-07-14T14:00:00\", \"2017-12-08T10:00:00\", \"2017-12-06T01:00:00\", \"2017-11-16T19:00:00\", \"2017-11-08T20:00:00\", \"2017-10-28T17:00:00\", \"2017-10-24T22:00:00\", \"2017-12-07T06:00:00\", \"2018-04-26T17:00:00\", \"2018-05-24T11:00:00\", \"2017-07-21T16:00:00\", \"2017-10-28T17:00:00\", \"2017-08-14T14:00:00\", \"2018-01-10T14:00:00\", \"2017-07-21T16:00:00\", \"2018-03-09T18:00:00\", \"2018-04-26T17:00:00\", \"2018-05-27T16:00:00\", \"2018-03-15T19:00:00\", \"2017-10-24T01:00:00\", \"2018-05-28T11:00:00\", \"2018-05-24T11:00:00\", \"2018-03-09T18:00:00\", \"2017-11-16T22:00:00\", \"2017-07-21T16:00:00\", \"2017-09-15T00:00:00\", \"2017-11-16T19:00:00\", \"2017-10-24T01:00:00\"], \"xaxis\": \"x3\", \"y\": [1197.99, 1197.99, 1197.99, 1197.99, 3596.0, 4296.0, 2798.0, 4096.0, 4096.0, 4096.0, 4096.0, 3298.0, 2498.0, 2097.99, 1997.99, 1997.99, 1997.99, 797.99, 1097.99, 1097.99, 1097.99, 1197.99, 597.99, 796.99, 796.99, 846.99, 749.0, 659.42, 796.99, 2395.98, 1497.99, 2197.99, 2197.99, 2197.99, 2197.99, 1797.99, 1797.99, 1797.99, 1897.99, 1997.99, 1997.99, 2075.98, 2075.98, 1997.99, 1997.99, 1399.99, 1399.99, 1399.99, 1797.99, 1797.99, 1797.99, 1797.99, 1797.99, 2475.98, 1978.01, 1978.01, 2197.99, 2197.99, 2197.99, 2197.99, 2197.99, 2197.99, 2197.99, 2197.99, 2197.99, 1599.0, 1599.0, 1599.0, 1599.0, 1599.0, 1599.0, 2125.98, 2797.99, 2797.99, 768.98, 549.99, 798.0, 695.47, 998.0, 838.0, 898.0, 898.0, 898.0, 898.0, 898.0, 898.0, 798.0, 798.0, 998.0, 998.0, 898.0, 898.0], \"yaxis\": \"y3\"}, {\"hovertemplate\": \"On-Sale=True<br>Website=bhphotovideo<br>Date-Seen=%{x}<br>Price-Min=%{y}<extra></extra>\", \"legendgroup\": \"True\", \"marker\": {\"color\": \"#EF553B\", \"line\": {\"color\": \"DarkSlateGrey\", \"width\": 1}, \"size\": 8, \"symbol\": \"circle\"}, \"mode\": \"markers\", \"name\": \"True\", \"orientation\": \"v\", \"showlegend\": false, \"type\": \"scatter\", \"x\": [\"2017-11-18T10:00:00\", \"2018-04-26T17:00:00\", \"2018-06-01T15:00:00\", \"2017-12-06T20:00:00\", \"2018-05-04T11:00:00\", \"2017-12-04T21:00:00\", \"2017-12-06T22:00:00\", \"2018-04-26T17:00:00\", \"2018-06-01T09:00:00\", \"2018-06-01T09:00:00\", \"2017-12-06T22:00:00\", \"2017-12-06T20:00:00\", \"2017-12-04T21:00:00\", \"2017-11-18T13:00:00\", \"2018-01-27T10:00:00\", \"2018-06-01T15:00:00\", \"2018-01-09T20:00:00\", \"2018-04-26T17:00:00\", \"2017-12-07T23:00:00\", \"2017-12-08T01:00:00\", \"2017-12-05T10:00:00\", \"2017-09-24T10:00:00\", \"2017-08-22T10:00:00\", \"2017-08-19T02:00:00\", \"2018-04-26T17:00:00\", \"2017-08-29T12:00:00\", \"2017-08-19T05:00:00\", \"2018-05-04T11:00:00\", \"2017-09-24T03:00:00\", \"2017-08-22T10:00:00\", \"2018-01-09T20:00:00\", \"2017-12-06T22:00:00\", \"2017-12-06T20:00:00\", \"2017-12-04T21:00:00\", \"2017-11-18T10:00:00\"], \"xaxis\": \"x\", \"y\": [2798.0, 2498.0, 2498.0, 2498.0, 2498.0, 2498.0, 2498.0, 2097.99, 1997.99, 1298.0, 597.99, 597.99, 597.99, 597.99, 1697.99, 2797.99, 1997.99, 1797.99, 1797.99, 1797.99, 1797.99, 2197.99, 2197.99, 2197.99, 898.0, 898.0, 898.0, 898.0, 898.0, 998.0, 798.0, 798.0, 798.0, 798.0, 798.0], \"yaxis\": \"y\"}],\n",
       "                        {\"annotations\": [{\"font\": {}, \"showarrow\": false, \"text\": \"bhphotovideo\", \"textangle\": 90, \"x\": 0.98, \"xanchor\": \"left\", \"xref\": \"paper\", \"y\": 0.11375, \"yanchor\": \"middle\", \"yref\": \"paper\"}, {\"font\": {}, \"showarrow\": false, \"text\": \"ebay\", \"textangle\": 90, \"x\": 0.98, \"xanchor\": \"left\", \"xref\": \"paper\", \"y\": 0.37124999999999997, \"yanchor\": \"middle\", \"yref\": \"paper\"}, {\"font\": {}, \"showarrow\": false, \"text\": \"walmart\", \"textangle\": 90, \"x\": 0.98, \"xanchor\": \"left\", \"xref\": \"paper\", \"y\": 0.62875, \"yanchor\": \"middle\", \"yref\": \"paper\"}, {\"font\": {}, \"showarrow\": false, \"text\": \"bestbuy\", \"textangle\": 90, \"x\": 0.98, \"xanchor\": \"left\", \"xref\": \"paper\", \"y\": 0.88625, \"yanchor\": \"middle\", \"yref\": \"paper\"}], \"height\": 800, \"legend\": {\"title\": {\"text\": \"On-Sale\"}, \"tracegroupgap\": 0}, \"margin\": {\"t\": 60}, \"template\": {\"data\": {\"bar\": [{\"error_x\": {\"color\": \"#2a3f5f\"}, \"error_y\": {\"color\": \"#2a3f5f\"}, \"marker\": {\"line\": {\"color\": \"#E5ECF6\", \"width\": 0.5}}, \"type\": \"bar\"}], \"barpolar\": [{\"marker\": {\"line\": {\"color\": \"#E5ECF6\", \"width\": 0.5}}, \"type\": \"barpolar\"}], \"carpet\": [{\"aaxis\": {\"endlinecolor\": \"#2a3f5f\", \"gridcolor\": \"white\", \"linecolor\": \"white\", \"minorgridcolor\": \"white\", \"startlinecolor\": \"#2a3f5f\"}, \"baxis\": {\"endlinecolor\": \"#2a3f5f\", \"gridcolor\": \"white\", \"linecolor\": \"white\", \"minorgridcolor\": \"white\", \"startlinecolor\": \"#2a3f5f\"}, \"type\": \"carpet\"}], \"choropleth\": [{\"colorbar\": {\"outlinewidth\": 0, \"ticks\": \"\"}, \"type\": \"choropleth\"}], \"contour\": [{\"colorbar\": {\"outlinewidth\": 0, \"ticks\": \"\"}, \"colorscale\": [[0.0, \"#0d0887\"], [0.1111111111111111, \"#46039f\"], [0.2222222222222222, \"#7201a8\"], [0.3333333333333333, \"#9c179e\"], [0.4444444444444444, \"#bd3786\"], [0.5555555555555556, \"#d8576b\"], [0.6666666666666666, \"#ed7953\"], [0.7777777777777778, \"#fb9f3a\"], [0.8888888888888888, \"#fdca26\"], [1.0, \"#f0f921\"]], \"type\": \"contour\"}], \"contourcarpet\": [{\"colorbar\": {\"outlinewidth\": 0, \"ticks\": \"\"}, \"type\": \"contourcarpet\"}], \"heatmap\": [{\"colorbar\": {\"outlinewidth\": 0, \"ticks\": \"\"}, \"colorscale\": [[0.0, \"#0d0887\"], [0.1111111111111111, \"#46039f\"], [0.2222222222222222, \"#7201a8\"], [0.3333333333333333, \"#9c179e\"], [0.4444444444444444, \"#bd3786\"], [0.5555555555555556, \"#d8576b\"], [0.6666666666666666, \"#ed7953\"], [0.7777777777777778, \"#fb9f3a\"], [0.8888888888888888, \"#fdca26\"], [1.0, \"#f0f921\"]], \"type\": \"heatmap\"}], \"heatmapgl\": [{\"colorbar\": {\"outlinewidth\": 0, \"ticks\": \"\"}, \"colorscale\": [[0.0, \"#0d0887\"], [0.1111111111111111, \"#46039f\"], [0.2222222222222222, \"#7201a8\"], [0.3333333333333333, \"#9c179e\"], [0.4444444444444444, \"#bd3786\"], [0.5555555555555556, \"#d8576b\"], [0.6666666666666666, \"#ed7953\"], [0.7777777777777778, \"#fb9f3a\"], [0.8888888888888888, \"#fdca26\"], [1.0, \"#f0f921\"]], \"type\": \"heatmapgl\"}], \"histogram\": [{\"marker\": {\"colorbar\": {\"outlinewidth\": 0, \"ticks\": \"\"}}, \"type\": \"histogram\"}], \"histogram2d\": [{\"colorbar\": {\"outlinewidth\": 0, \"ticks\": \"\"}, \"colorscale\": [[0.0, \"#0d0887\"], [0.1111111111111111, \"#46039f\"], [0.2222222222222222, \"#7201a8\"], [0.3333333333333333, \"#9c179e\"], [0.4444444444444444, \"#bd3786\"], [0.5555555555555556, \"#d8576b\"], [0.6666666666666666, \"#ed7953\"], [0.7777777777777778, \"#fb9f3a\"], [0.8888888888888888, \"#fdca26\"], [1.0, \"#f0f921\"]], \"type\": \"histogram2d\"}], \"histogram2dcontour\": [{\"colorbar\": {\"outlinewidth\": 0, \"ticks\": \"\"}, \"colorscale\": [[0.0, \"#0d0887\"], [0.1111111111111111, \"#46039f\"], [0.2222222222222222, \"#7201a8\"], [0.3333333333333333, \"#9c179e\"], [0.4444444444444444, \"#bd3786\"], [0.5555555555555556, \"#d8576b\"], [0.6666666666666666, \"#ed7953\"], [0.7777777777777778, \"#fb9f3a\"], [0.8888888888888888, \"#fdca26\"], [1.0, \"#f0f921\"]], \"type\": \"histogram2dcontour\"}], \"mesh3d\": [{\"colorbar\": {\"outlinewidth\": 0, \"ticks\": \"\"}, \"type\": \"mesh3d\"}], \"parcoords\": [{\"line\": {\"colorbar\": {\"outlinewidth\": 0, \"ticks\": \"\"}}, \"type\": \"parcoords\"}], \"pie\": [{\"automargin\": true, \"type\": \"pie\"}], \"scatter\": [{\"marker\": {\"colorbar\": {\"outlinewidth\": 0, \"ticks\": \"\"}}, \"type\": \"scatter\"}], \"scatter3d\": [{\"line\": {\"colorbar\": {\"outlinewidth\": 0, \"ticks\": \"\"}}, \"marker\": {\"colorbar\": {\"outlinewidth\": 0, \"ticks\": \"\"}}, \"type\": \"scatter3d\"}], \"scattercarpet\": [{\"marker\": {\"colorbar\": {\"outlinewidth\": 0, \"ticks\": \"\"}}, \"type\": \"scattercarpet\"}], \"scattergeo\": [{\"marker\": {\"colorbar\": {\"outlinewidth\": 0, \"ticks\": \"\"}}, \"type\": \"scattergeo\"}], \"scattergl\": [{\"marker\": {\"colorbar\": {\"outlinewidth\": 0, \"ticks\": \"\"}}, \"type\": \"scattergl\"}], \"scattermapbox\": [{\"marker\": {\"colorbar\": {\"outlinewidth\": 0, \"ticks\": \"\"}}, \"type\": \"scattermapbox\"}], \"scatterpolar\": [{\"marker\": {\"colorbar\": {\"outlinewidth\": 0, \"ticks\": \"\"}}, \"type\": \"scatterpolar\"}], \"scatterpolargl\": [{\"marker\": {\"colorbar\": {\"outlinewidth\": 0, \"ticks\": \"\"}}, \"type\": \"scatterpolargl\"}], \"scatterternary\": [{\"marker\": {\"colorbar\": {\"outlinewidth\": 0, \"ticks\": \"\"}}, \"type\": \"scatterternary\"}], \"surface\": [{\"colorbar\": {\"outlinewidth\": 0, \"ticks\": \"\"}, \"colorscale\": [[0.0, \"#0d0887\"], [0.1111111111111111, \"#46039f\"], [0.2222222222222222, \"#7201a8\"], [0.3333333333333333, \"#9c179e\"], [0.4444444444444444, \"#bd3786\"], [0.5555555555555556, \"#d8576b\"], [0.6666666666666666, \"#ed7953\"], [0.7777777777777778, \"#fb9f3a\"], [0.8888888888888888, \"#fdca26\"], [1.0, \"#f0f921\"]], \"type\": \"surface\"}], \"table\": [{\"cells\": {\"fill\": {\"color\": \"#EBF0F8\"}, \"line\": {\"color\": \"white\"}}, \"header\": {\"fill\": {\"color\": \"#C8D4E3\"}, \"line\": {\"color\": \"white\"}}, \"type\": \"table\"}]}, \"layout\": {\"annotationdefaults\": {\"arrowcolor\": \"#2a3f5f\", \"arrowhead\": 0, \"arrowwidth\": 1}, \"coloraxis\": {\"colorbar\": {\"outlinewidth\": 0, \"ticks\": \"\"}}, \"colorscale\": {\"diverging\": [[0, \"#8e0152\"], [0.1, \"#c51b7d\"], [0.2, \"#de77ae\"], [0.3, \"#f1b6da\"], [0.4, \"#fde0ef\"], [0.5, \"#f7f7f7\"], [0.6, \"#e6f5d0\"], [0.7, \"#b8e186\"], [0.8, \"#7fbc41\"], [0.9, \"#4d9221\"], [1, \"#276419\"]], \"sequential\": [[0.0, \"#0d0887\"], [0.1111111111111111, \"#46039f\"], [0.2222222222222222, \"#7201a8\"], [0.3333333333333333, \"#9c179e\"], [0.4444444444444444, \"#bd3786\"], [0.5555555555555556, \"#d8576b\"], [0.6666666666666666, \"#ed7953\"], [0.7777777777777778, \"#fb9f3a\"], [0.8888888888888888, \"#fdca26\"], [1.0, \"#f0f921\"]], \"sequentialminus\": [[0.0, \"#0d0887\"], [0.1111111111111111, \"#46039f\"], [0.2222222222222222, \"#7201a8\"], [0.3333333333333333, \"#9c179e\"], [0.4444444444444444, \"#bd3786\"], [0.5555555555555556, \"#d8576b\"], [0.6666666666666666, \"#ed7953\"], [0.7777777777777778, \"#fb9f3a\"], [0.8888888888888888, \"#fdca26\"], [1.0, \"#f0f921\"]]}, \"colorway\": [\"#636efa\", \"#EF553B\", \"#00cc96\", \"#ab63fa\", \"#FFA15A\", \"#19d3f3\", \"#FF6692\", \"#B6E880\", \"#FF97FF\", \"#FECB52\"], \"font\": {\"color\": \"#2a3f5f\"}, \"geo\": {\"bgcolor\": \"white\", \"lakecolor\": \"white\", \"landcolor\": \"#E5ECF6\", \"showlakes\": true, \"showland\": true, \"subunitcolor\": \"white\"}, \"hoverlabel\": {\"align\": \"left\"}, \"hovermode\": \"closest\", \"mapbox\": {\"style\": \"light\"}, \"paper_bgcolor\": \"white\", \"plot_bgcolor\": \"#E5ECF6\", \"polar\": {\"angularaxis\": {\"gridcolor\": \"white\", \"linecolor\": \"white\", \"ticks\": \"\"}, \"bgcolor\": \"#E5ECF6\", \"radialaxis\": {\"gridcolor\": \"white\", \"linecolor\": \"white\", \"ticks\": \"\"}}, \"scene\": {\"xaxis\": {\"backgroundcolor\": \"#E5ECF6\", \"gridcolor\": \"white\", \"gridwidth\": 2, \"linecolor\": \"white\", \"showbackground\": true, \"ticks\": \"\", \"zerolinecolor\": \"white\"}, \"yaxis\": {\"backgroundcolor\": \"#E5ECF6\", \"gridcolor\": \"white\", \"gridwidth\": 2, \"linecolor\": \"white\", \"showbackground\": true, \"ticks\": \"\", \"zerolinecolor\": \"white\"}, \"zaxis\": {\"backgroundcolor\": \"#E5ECF6\", \"gridcolor\": \"white\", \"gridwidth\": 2, \"linecolor\": \"white\", \"showbackground\": true, \"ticks\": \"\", \"zerolinecolor\": \"white\"}}, \"shapedefaults\": {\"line\": {\"color\": \"#2a3f5f\"}}, \"ternary\": {\"aaxis\": {\"gridcolor\": \"white\", \"linecolor\": \"white\", \"ticks\": \"\"}, \"baxis\": {\"gridcolor\": \"white\", \"linecolor\": \"white\", \"ticks\": \"\"}, \"bgcolor\": \"#E5ECF6\", \"caxis\": {\"gridcolor\": \"white\", \"linecolor\": \"white\", \"ticks\": \"\"}}, \"title\": {\"x\": 0.05}, \"xaxis\": {\"automargin\": true, \"gridcolor\": \"white\", \"linecolor\": \"white\", \"ticks\": \"\", \"title\": {\"standoff\": 15}, \"zerolinecolor\": \"white\", \"zerolinewidth\": 2}, \"yaxis\": {\"automargin\": true, \"gridcolor\": \"white\", \"linecolor\": \"white\", \"ticks\": \"\", \"title\": {\"standoff\": 15}, \"zerolinecolor\": \"white\", \"zerolinewidth\": 2}}}, \"xaxis\": {\"anchor\": \"y\", \"domain\": [0.0, 0.98], \"title\": {\"text\": \"\"}}, \"xaxis2\": {\"anchor\": \"y2\", \"domain\": [0.0, 0.98], \"matches\": \"x\", \"showticklabels\": false, \"title\": {\"text\": \"\"}}, \"xaxis3\": {\"anchor\": \"y3\", \"domain\": [0.0, 0.98], \"matches\": \"x\", \"showticklabels\": false, \"title\": {\"text\": \"\"}}, \"xaxis4\": {\"anchor\": \"y4\", \"domain\": [0.0, 0.98], \"matches\": \"x\", \"showticklabels\": false, \"title\": {\"text\": \"\"}}, \"yaxis\": {\"anchor\": \"x\", \"domain\": [0.0, 0.2275], \"tickprefix\": \"$\", \"title\": {\"text\": \"\"}}, \"yaxis2\": {\"anchor\": \"x2\", \"domain\": [0.2575, 0.485], \"matches\": \"y\", \"tickprefix\": \"$\", \"title\": {\"text\": \"\"}}, \"yaxis3\": {\"anchor\": \"x3\", \"domain\": [0.515, 0.7425], \"matches\": \"y\", \"tickprefix\": \"$\", \"title\": {\"text\": \"\"}}, \"yaxis4\": {\"anchor\": \"x4\", \"domain\": [0.7725, 1.0], \"matches\": \"y\", \"tickprefix\": \"$\", \"title\": {\"text\": \"\"}}},\n",
       "                        {\"responsive\": true}\n",
       "                    ).then(function(){\n",
       "                            \n",
       "var gd = document.getElementById('2f2cd62c-0c1b-4ee9-8e2f-bce8fe13ae06');\n",
       "var x = new MutationObserver(function (mutations, observer) {{\n",
       "        var display = window.getComputedStyle(gd).display;\n",
       "        if (!display || display === 'none') {{\n",
       "            console.log([gd, 'removed!']);\n",
       "            Plotly.purge(gd);\n",
       "            observer.disconnect();\n",
       "        }}\n",
       "}});\n",
       "\n",
       "// Listen for the removal of the full notebook cells\n",
       "var notebookContainer = gd.closest('#notebook-container');\n",
       "if (notebookContainer) {{\n",
       "    x.observe(notebookContainer, {childList: true});\n",
       "}}\n",
       "\n",
       "// Listen for the clearing of the current output cell\n",
       "var outputEl = gd.closest('.output');\n",
       "if (outputEl) {{\n",
       "    x.observe(outputEl, {childList: true});\n",
       "}}\n",
       "\n",
       "                        })\n",
       "                };\n",
       "                });\n",
       "            </script>\n",
       "        </div>"
      ]
     },
     "metadata": {},
     "output_type": "display_data"
    }
   ],
   "source": [
    "fig = px.scatter(df, x=\"Date-Seen\", y=\"Price-Min\",color=\"On-Sale\", facet_row=\"Website\", height=800)\n",
    "\n",
    "#styling\n",
    "fig.for_each_annotation(lambda a: a.update(text=a.text.split(\"=\")[-1]))\n",
    "fig.update_yaxes(tickprefix=\"$\")\n",
    "fig.update_xaxes(title_text='')\n",
    "fig.update_yaxes(title_text='')\n",
    "fig.update_traces(marker=dict(size=8, line=dict(width=1, color='DarkSlateGrey')), selector=dict(mode='markers')) # style markers\n",
    "\n",
    "fig.show()"
   ]
  },
  {
   "cell_type": "code",
   "execution_count": 40,
   "metadata": {},
   "outputs": [],
   "source": [
    "# fig.write_image(\"images/sale_prices_by_website.png\")"
   ]
  },
  {
   "cell_type": "code",
   "execution_count": 14,
   "metadata": {
    "scrolled": false
   },
   "outputs": [
    {
     "data": {
      "application/vnd.plotly.v1+json": {
       "config": {
        "plotlyServerURL": "https://plot.ly"
       },
       "data": [
        {
         "hovertemplate": "On-Sale=False<br>Date-Seen=%{x}<br>Price-Min=%{y}<extra></extra>",
         "legendgroup": "False",
         "marker": {
          "color": "#636efa",
          "line": {
           "color": "DarkSlateGrey",
           "width": 1
          },
          "size": 7,
          "symbol": "circle"
         },
         "mode": "markers",
         "name": "False",
         "orientation": "v",
         "showlegend": true,
         "type": "scatter",
         "x": [
          "2018-05-26T15:00:00",
          "2018-05-02T14:00:00",
          "2017-03-30T05:00:00",
          "2017-03-10T19:00:00",
          "2017-03-04T10:00:00",
          "2018-05-26T07:00:00",
          "2017-03-30T02:00:00",
          "2017-08-01T03:00:00",
          "2017-07-26T15:00:00",
          "2017-05-31T19:00:00",
          "2017-05-31T16:00:00",
          "2017-05-09T03:00:00",
          "2017-05-01T06:00:00",
          "2017-05-18T02:00:00",
          "2017-04-04T04:00:00",
          "2018-05-26T15:00:00",
          "2018-05-25T21:00:00",
          "2018-05-26T15:00:00",
          "2018-05-26T07:00:00",
          "2018-05-26T16:00:00",
          "2017-08-01T03:00:00",
          "2017-07-26T15:00:00",
          "2018-05-26T07:00:00",
          "2017-07-31T22:00:00",
          "2017-08-01T07:00:00",
          "2017-07-26T20:00:00",
          "2017-06-01T19:00:00",
          "2017-05-31T17:00:00",
          "2017-05-09T07:00:00",
          "2017-05-01T20:00:00",
          "2017-05-18T05:00:00",
          "2017-03-30T05:00:00",
          "2017-03-10T19:00:00",
          "2017-03-04T10:00:00",
          "2018-05-25T21:00:00",
          "2018-05-26T16:00:00",
          "2017-03-30T05:00:00",
          "2017-03-10T19:00:00",
          "2017-03-04T10:00:00",
          "2017-06-01T19:00:00",
          "2017-05-31T17:00:00",
          "2017-05-09T07:00:00",
          "2017-05-01T20:00:00",
          "2017-05-18T05:00:00",
          "2018-05-26T15:00:00",
          "2017-08-01T03:00:00",
          "2017-07-26T15:00:00",
          "2017-06-29T22:00:00"
         ],
         "xaxis": "x",
         "y": [
          799.99,
          799.99,
          999.99,
          999.99,
          1199.99,
          2799.99,
          4999.99,
          3499.99,
          3499.99,
          3999.99,
          3999.99,
          3999.99,
          3999.99,
          3999.99,
          3999.99,
          2199.99,
          1499.99,
          1499.99,
          799.99,
          799.99,
          2199.99,
          2199.99,
          1999.99,
          549.99,
          549.99,
          549.99,
          549.99,
          549.99,
          549.99,
          549.99,
          549.99,
          549.99,
          549.99,
          549.99,
          449.99,
          449.99,
          1899.99,
          1899.99,
          1899.99,
          1199.99,
          1199.99,
          1199.99,
          1199.99,
          1199.99,
          899.99,
          999.99,
          999.99,
          999.99
         ],
         "yaxis": "y"
        },
        {
         "hovertemplate": "On-Sale=True<br>Date-Seen=%{x}<br>Price-Min=%{y}<extra></extra>",
         "legendgroup": "True",
         "marker": {
          "color": "#EF553B",
          "line": {
           "color": "DarkSlateGrey",
           "width": 1
          },
          "size": 7,
          "symbol": "circle"
         },
         "mode": "markers",
         "name": "True",
         "orientation": "v",
         "showlegend": true,
         "type": "scatter",
         "x": [
          "2018-05-26T15:00:00",
          "2018-05-02T14:00:00",
          "2017-03-30T05:00:00",
          "2017-03-10T19:00:00",
          "2017-03-04T10:00:00",
          "2018-05-26T07:00:00",
          "2017-08-01T03:00:00",
          "2017-07-26T15:00:00",
          "2017-07-11T05:00:00",
          "2018-05-26T15:00:00",
          "2018-05-25T21:00:00",
          "2018-05-26T15:00:00",
          "2018-05-26T07:00:00",
          "2018-05-26T16:00:00",
          "2017-08-01T03:00:00",
          "2017-07-26T15:00:00",
          "2018-05-26T07:00:00",
          "2018-05-25T21:00:00",
          "2018-05-26T16:00:00",
          "2017-07-26T15:00:00",
          "2017-06-29T22:00:00",
          "2017-08-01T03:00:00",
          "2017-06-01T19:00:00",
          "2017-05-31T17:00:00"
         ],
         "xaxis": "x",
         "y": [
          599.99,
          699.99,
          809.99,
          909.99,
          1,
          2499.99,
          3219.99,
          3219.99,
          3219.99,
          1999.99,
          1299.99,
          1299.99,
          549.99,
          751.99,
          1759.99,
          1759.99,
          1299.99,
          427.99,
          427.99,
          909.99,
          909.99,
          919.99,
          1091.99,
          1091.99
         ],
         "yaxis": "y"
        }
       ],
       "layout": {
        "font": {
         "size": 12
        },
        "legend": {
         "title": {
          "text": "On-Sale"
         },
         "tracegroupgap": 0
        },
        "margin": {
         "t": 60
        },
        "template": {
         "data": {
          "bar": [
           {
            "error_x": {
             "color": "#2a3f5f"
            },
            "error_y": {
             "color": "#2a3f5f"
            },
            "marker": {
             "line": {
              "color": "#E5ECF6",
              "width": 0.5
             }
            },
            "type": "bar"
           }
          ],
          "barpolar": [
           {
            "marker": {
             "line": {
              "color": "#E5ECF6",
              "width": 0.5
             }
            },
            "type": "barpolar"
           }
          ],
          "carpet": [
           {
            "aaxis": {
             "endlinecolor": "#2a3f5f",
             "gridcolor": "white",
             "linecolor": "white",
             "minorgridcolor": "white",
             "startlinecolor": "#2a3f5f"
            },
            "baxis": {
             "endlinecolor": "#2a3f5f",
             "gridcolor": "white",
             "linecolor": "white",
             "minorgridcolor": "white",
             "startlinecolor": "#2a3f5f"
            },
            "type": "carpet"
           }
          ],
          "choropleth": [
           {
            "colorbar": {
             "outlinewidth": 0,
             "ticks": ""
            },
            "type": "choropleth"
           }
          ],
          "contour": [
           {
            "colorbar": {
             "outlinewidth": 0,
             "ticks": ""
            },
            "colorscale": [
             [
              0,
              "#0d0887"
             ],
             [
              0.1111111111111111,
              "#46039f"
             ],
             [
              0.2222222222222222,
              "#7201a8"
             ],
             [
              0.3333333333333333,
              "#9c179e"
             ],
             [
              0.4444444444444444,
              "#bd3786"
             ],
             [
              0.5555555555555556,
              "#d8576b"
             ],
             [
              0.6666666666666666,
              "#ed7953"
             ],
             [
              0.7777777777777778,
              "#fb9f3a"
             ],
             [
              0.8888888888888888,
              "#fdca26"
             ],
             [
              1,
              "#f0f921"
             ]
            ],
            "type": "contour"
           }
          ],
          "contourcarpet": [
           {
            "colorbar": {
             "outlinewidth": 0,
             "ticks": ""
            },
            "type": "contourcarpet"
           }
          ],
          "heatmap": [
           {
            "colorbar": {
             "outlinewidth": 0,
             "ticks": ""
            },
            "colorscale": [
             [
              0,
              "#0d0887"
             ],
             [
              0.1111111111111111,
              "#46039f"
             ],
             [
              0.2222222222222222,
              "#7201a8"
             ],
             [
              0.3333333333333333,
              "#9c179e"
             ],
             [
              0.4444444444444444,
              "#bd3786"
             ],
             [
              0.5555555555555556,
              "#d8576b"
             ],
             [
              0.6666666666666666,
              "#ed7953"
             ],
             [
              0.7777777777777778,
              "#fb9f3a"
             ],
             [
              0.8888888888888888,
              "#fdca26"
             ],
             [
              1,
              "#f0f921"
             ]
            ],
            "type": "heatmap"
           }
          ],
          "heatmapgl": [
           {
            "colorbar": {
             "outlinewidth": 0,
             "ticks": ""
            },
            "colorscale": [
             [
              0,
              "#0d0887"
             ],
             [
              0.1111111111111111,
              "#46039f"
             ],
             [
              0.2222222222222222,
              "#7201a8"
             ],
             [
              0.3333333333333333,
              "#9c179e"
             ],
             [
              0.4444444444444444,
              "#bd3786"
             ],
             [
              0.5555555555555556,
              "#d8576b"
             ],
             [
              0.6666666666666666,
              "#ed7953"
             ],
             [
              0.7777777777777778,
              "#fb9f3a"
             ],
             [
              0.8888888888888888,
              "#fdca26"
             ],
             [
              1,
              "#f0f921"
             ]
            ],
            "type": "heatmapgl"
           }
          ],
          "histogram": [
           {
            "marker": {
             "colorbar": {
              "outlinewidth": 0,
              "ticks": ""
             }
            },
            "type": "histogram"
           }
          ],
          "histogram2d": [
           {
            "colorbar": {
             "outlinewidth": 0,
             "ticks": ""
            },
            "colorscale": [
             [
              0,
              "#0d0887"
             ],
             [
              0.1111111111111111,
              "#46039f"
             ],
             [
              0.2222222222222222,
              "#7201a8"
             ],
             [
              0.3333333333333333,
              "#9c179e"
             ],
             [
              0.4444444444444444,
              "#bd3786"
             ],
             [
              0.5555555555555556,
              "#d8576b"
             ],
             [
              0.6666666666666666,
              "#ed7953"
             ],
             [
              0.7777777777777778,
              "#fb9f3a"
             ],
             [
              0.8888888888888888,
              "#fdca26"
             ],
             [
              1,
              "#f0f921"
             ]
            ],
            "type": "histogram2d"
           }
          ],
          "histogram2dcontour": [
           {
            "colorbar": {
             "outlinewidth": 0,
             "ticks": ""
            },
            "colorscale": [
             [
              0,
              "#0d0887"
             ],
             [
              0.1111111111111111,
              "#46039f"
             ],
             [
              0.2222222222222222,
              "#7201a8"
             ],
             [
              0.3333333333333333,
              "#9c179e"
             ],
             [
              0.4444444444444444,
              "#bd3786"
             ],
             [
              0.5555555555555556,
              "#d8576b"
             ],
             [
              0.6666666666666666,
              "#ed7953"
             ],
             [
              0.7777777777777778,
              "#fb9f3a"
             ],
             [
              0.8888888888888888,
              "#fdca26"
             ],
             [
              1,
              "#f0f921"
             ]
            ],
            "type": "histogram2dcontour"
           }
          ],
          "mesh3d": [
           {
            "colorbar": {
             "outlinewidth": 0,
             "ticks": ""
            },
            "type": "mesh3d"
           }
          ],
          "parcoords": [
           {
            "line": {
             "colorbar": {
              "outlinewidth": 0,
              "ticks": ""
             }
            },
            "type": "parcoords"
           }
          ],
          "pie": [
           {
            "automargin": true,
            "type": "pie"
           }
          ],
          "scatter": [
           {
            "marker": {
             "colorbar": {
              "outlinewidth": 0,
              "ticks": ""
             }
            },
            "type": "scatter"
           }
          ],
          "scatter3d": [
           {
            "line": {
             "colorbar": {
              "outlinewidth": 0,
              "ticks": ""
             }
            },
            "marker": {
             "colorbar": {
              "outlinewidth": 0,
              "ticks": ""
             }
            },
            "type": "scatter3d"
           }
          ],
          "scattercarpet": [
           {
            "marker": {
             "colorbar": {
              "outlinewidth": 0,
              "ticks": ""
             }
            },
            "type": "scattercarpet"
           }
          ],
          "scattergeo": [
           {
            "marker": {
             "colorbar": {
              "outlinewidth": 0,
              "ticks": ""
             }
            },
            "type": "scattergeo"
           }
          ],
          "scattergl": [
           {
            "marker": {
             "colorbar": {
              "outlinewidth": 0,
              "ticks": ""
             }
            },
            "type": "scattergl"
           }
          ],
          "scattermapbox": [
           {
            "marker": {
             "colorbar": {
              "outlinewidth": 0,
              "ticks": ""
             }
            },
            "type": "scattermapbox"
           }
          ],
          "scatterpolar": [
           {
            "marker": {
             "colorbar": {
              "outlinewidth": 0,
              "ticks": ""
             }
            },
            "type": "scatterpolar"
           }
          ],
          "scatterpolargl": [
           {
            "marker": {
             "colorbar": {
              "outlinewidth": 0,
              "ticks": ""
             }
            },
            "type": "scatterpolargl"
           }
          ],
          "scatterternary": [
           {
            "marker": {
             "colorbar": {
              "outlinewidth": 0,
              "ticks": ""
             }
            },
            "type": "scatterternary"
           }
          ],
          "surface": [
           {
            "colorbar": {
             "outlinewidth": 0,
             "ticks": ""
            },
            "colorscale": [
             [
              0,
              "#0d0887"
             ],
             [
              0.1111111111111111,
              "#46039f"
             ],
             [
              0.2222222222222222,
              "#7201a8"
             ],
             [
              0.3333333333333333,
              "#9c179e"
             ],
             [
              0.4444444444444444,
              "#bd3786"
             ],
             [
              0.5555555555555556,
              "#d8576b"
             ],
             [
              0.6666666666666666,
              "#ed7953"
             ],
             [
              0.7777777777777778,
              "#fb9f3a"
             ],
             [
              0.8888888888888888,
              "#fdca26"
             ],
             [
              1,
              "#f0f921"
             ]
            ],
            "type": "surface"
           }
          ],
          "table": [
           {
            "cells": {
             "fill": {
              "color": "#EBF0F8"
             },
             "line": {
              "color": "white"
             }
            },
            "header": {
             "fill": {
              "color": "#C8D4E3"
             },
             "line": {
              "color": "white"
             }
            },
            "type": "table"
           }
          ]
         },
         "layout": {
          "annotationdefaults": {
           "arrowcolor": "#2a3f5f",
           "arrowhead": 0,
           "arrowwidth": 1
          },
          "coloraxis": {
           "colorbar": {
            "outlinewidth": 0,
            "ticks": ""
           }
          },
          "colorscale": {
           "diverging": [
            [
             0,
             "#8e0152"
            ],
            [
             0.1,
             "#c51b7d"
            ],
            [
             0.2,
             "#de77ae"
            ],
            [
             0.3,
             "#f1b6da"
            ],
            [
             0.4,
             "#fde0ef"
            ],
            [
             0.5,
             "#f7f7f7"
            ],
            [
             0.6,
             "#e6f5d0"
            ],
            [
             0.7,
             "#b8e186"
            ],
            [
             0.8,
             "#7fbc41"
            ],
            [
             0.9,
             "#4d9221"
            ],
            [
             1,
             "#276419"
            ]
           ],
           "sequential": [
            [
             0,
             "#0d0887"
            ],
            [
             0.1111111111111111,
             "#46039f"
            ],
            [
             0.2222222222222222,
             "#7201a8"
            ],
            [
             0.3333333333333333,
             "#9c179e"
            ],
            [
             0.4444444444444444,
             "#bd3786"
            ],
            [
             0.5555555555555556,
             "#d8576b"
            ],
            [
             0.6666666666666666,
             "#ed7953"
            ],
            [
             0.7777777777777778,
             "#fb9f3a"
            ],
            [
             0.8888888888888888,
             "#fdca26"
            ],
            [
             1,
             "#f0f921"
            ]
           ],
           "sequentialminus": [
            [
             0,
             "#0d0887"
            ],
            [
             0.1111111111111111,
             "#46039f"
            ],
            [
             0.2222222222222222,
             "#7201a8"
            ],
            [
             0.3333333333333333,
             "#9c179e"
            ],
            [
             0.4444444444444444,
             "#bd3786"
            ],
            [
             0.5555555555555556,
             "#d8576b"
            ],
            [
             0.6666666666666666,
             "#ed7953"
            ],
            [
             0.7777777777777778,
             "#fb9f3a"
            ],
            [
             0.8888888888888888,
             "#fdca26"
            ],
            [
             1,
             "#f0f921"
            ]
           ]
          },
          "colorway": [
           "#636efa",
           "#EF553B",
           "#00cc96",
           "#ab63fa",
           "#FFA15A",
           "#19d3f3",
           "#FF6692",
           "#B6E880",
           "#FF97FF",
           "#FECB52"
          ],
          "font": {
           "color": "#2a3f5f"
          },
          "geo": {
           "bgcolor": "white",
           "lakecolor": "white",
           "landcolor": "#E5ECF6",
           "showlakes": true,
           "showland": true,
           "subunitcolor": "white"
          },
          "hoverlabel": {
           "align": "left"
          },
          "hovermode": "closest",
          "mapbox": {
           "style": "light"
          },
          "paper_bgcolor": "white",
          "plot_bgcolor": "#E5ECF6",
          "polar": {
           "angularaxis": {
            "gridcolor": "white",
            "linecolor": "white",
            "ticks": ""
           },
           "bgcolor": "#E5ECF6",
           "radialaxis": {
            "gridcolor": "white",
            "linecolor": "white",
            "ticks": ""
           }
          },
          "scene": {
           "xaxis": {
            "backgroundcolor": "#E5ECF6",
            "gridcolor": "white",
            "gridwidth": 2,
            "linecolor": "white",
            "showbackground": true,
            "ticks": "",
            "zerolinecolor": "white"
           },
           "yaxis": {
            "backgroundcolor": "#E5ECF6",
            "gridcolor": "white",
            "gridwidth": 2,
            "linecolor": "white",
            "showbackground": true,
            "ticks": "",
            "zerolinecolor": "white"
           },
           "zaxis": {
            "backgroundcolor": "#E5ECF6",
            "gridcolor": "white",
            "gridwidth": 2,
            "linecolor": "white",
            "showbackground": true,
            "ticks": "",
            "zerolinecolor": "white"
           }
          },
          "shapedefaults": {
           "line": {
            "color": "#2a3f5f"
           }
          },
          "ternary": {
           "aaxis": {
            "gridcolor": "white",
            "linecolor": "white",
            "ticks": ""
           },
           "baxis": {
            "gridcolor": "white",
            "linecolor": "white",
            "ticks": ""
           },
           "bgcolor": "#E5ECF6",
           "caxis": {
            "gridcolor": "white",
            "linecolor": "white",
            "ticks": ""
           }
          },
          "title": {
           "x": 0.05
          },
          "xaxis": {
           "automargin": true,
           "gridcolor": "white",
           "linecolor": "white",
           "ticks": "",
           "title": {
            "standoff": 15
           },
           "zerolinecolor": "white",
           "zerolinewidth": 2
          },
          "yaxis": {
           "automargin": true,
           "gridcolor": "white",
           "linecolor": "white",
           "ticks": "",
           "title": {
            "standoff": 15
           },
           "zerolinecolor": "white",
           "zerolinewidth": 2
          }
         }
        },
        "title": {
         "text": "Bestbuy"
        },
        "xaxis": {
         "anchor": "y",
         "domain": [
          0,
          1
         ],
         "title": {
          "text": ""
         }
        },
        "yaxis": {
         "anchor": "x",
         "domain": [
          0,
          1
         ],
         "tickprefix": "$",
         "title": {
          "text": ""
         }
        }
       }
      },
      "text/html": [
       "<div>\n",
       "        \n",
       "        \n",
       "            <div id=\"e06ca513-a4b6-4bbd-9419-eb4f0f84dceb\" class=\"plotly-graph-div\" style=\"height:525px; width:100%;\"></div>\n",
       "            <script type=\"text/javascript\">\n",
       "                require([\"plotly\"], function(Plotly) {\n",
       "                    window.PLOTLYENV=window.PLOTLYENV || {};\n",
       "                    \n",
       "                if (document.getElementById(\"e06ca513-a4b6-4bbd-9419-eb4f0f84dceb\")) {\n",
       "                    Plotly.newPlot(\n",
       "                        'e06ca513-a4b6-4bbd-9419-eb4f0f84dceb',\n",
       "                        [{\"hovertemplate\": \"On-Sale=False<br>Date-Seen=%{x}<br>Price-Min=%{y}<extra></extra>\", \"legendgroup\": \"False\", \"marker\": {\"color\": \"#636efa\", \"line\": {\"color\": \"DarkSlateGrey\", \"width\": 1}, \"size\": 7, \"symbol\": \"circle\"}, \"mode\": \"markers\", \"name\": \"False\", \"orientation\": \"v\", \"showlegend\": true, \"type\": \"scatter\", \"x\": [\"2018-05-26T15:00:00\", \"2018-05-02T14:00:00\", \"2017-03-30T05:00:00\", \"2017-03-10T19:00:00\", \"2017-03-04T10:00:00\", \"2018-05-26T07:00:00\", \"2017-03-30T02:00:00\", \"2017-08-01T03:00:00\", \"2017-07-26T15:00:00\", \"2017-05-31T19:00:00\", \"2017-05-31T16:00:00\", \"2017-05-09T03:00:00\", \"2017-05-01T06:00:00\", \"2017-05-18T02:00:00\", \"2017-04-04T04:00:00\", \"2018-05-26T15:00:00\", \"2018-05-25T21:00:00\", \"2018-05-26T15:00:00\", \"2018-05-26T07:00:00\", \"2018-05-26T16:00:00\", \"2017-08-01T03:00:00\", \"2017-07-26T15:00:00\", \"2018-05-26T07:00:00\", \"2017-07-31T22:00:00\", \"2017-08-01T07:00:00\", \"2017-07-26T20:00:00\", \"2017-06-01T19:00:00\", \"2017-05-31T17:00:00\", \"2017-05-09T07:00:00\", \"2017-05-01T20:00:00\", \"2017-05-18T05:00:00\", \"2017-03-30T05:00:00\", \"2017-03-10T19:00:00\", \"2017-03-04T10:00:00\", \"2018-05-25T21:00:00\", \"2018-05-26T16:00:00\", \"2017-03-30T05:00:00\", \"2017-03-10T19:00:00\", \"2017-03-04T10:00:00\", \"2017-06-01T19:00:00\", \"2017-05-31T17:00:00\", \"2017-05-09T07:00:00\", \"2017-05-01T20:00:00\", \"2017-05-18T05:00:00\", \"2018-05-26T15:00:00\", \"2017-08-01T03:00:00\", \"2017-07-26T15:00:00\", \"2017-06-29T22:00:00\"], \"xaxis\": \"x\", \"y\": [799.99, 799.99, 999.99, 999.99, 1199.99, 2799.99, 4999.99, 3499.99, 3499.99, 3999.99, 3999.99, 3999.99, 3999.99, 3999.99, 3999.99, 2199.99, 1499.99, 1499.99, 799.99, 799.99, 2199.99, 2199.99, 1999.99, 549.99, 549.99, 549.99, 549.99, 549.99, 549.99, 549.99, 549.99, 549.99, 549.99, 549.99, 449.99, 449.99, 1899.99, 1899.99, 1899.99, 1199.99, 1199.99, 1199.99, 1199.99, 1199.99, 899.99, 999.99, 999.99, 999.99], \"yaxis\": \"y\"}, {\"hovertemplate\": \"On-Sale=True<br>Date-Seen=%{x}<br>Price-Min=%{y}<extra></extra>\", \"legendgroup\": \"True\", \"marker\": {\"color\": \"#EF553B\", \"line\": {\"color\": \"DarkSlateGrey\", \"width\": 1}, \"size\": 7, \"symbol\": \"circle\"}, \"mode\": \"markers\", \"name\": \"True\", \"orientation\": \"v\", \"showlegend\": true, \"type\": \"scatter\", \"x\": [\"2018-05-26T15:00:00\", \"2018-05-02T14:00:00\", \"2017-03-30T05:00:00\", \"2017-03-10T19:00:00\", \"2017-03-04T10:00:00\", \"2018-05-26T07:00:00\", \"2017-08-01T03:00:00\", \"2017-07-26T15:00:00\", \"2017-07-11T05:00:00\", \"2018-05-26T15:00:00\", \"2018-05-25T21:00:00\", \"2018-05-26T15:00:00\", \"2018-05-26T07:00:00\", \"2018-05-26T16:00:00\", \"2017-08-01T03:00:00\", \"2017-07-26T15:00:00\", \"2018-05-26T07:00:00\", \"2018-05-25T21:00:00\", \"2018-05-26T16:00:00\", \"2017-07-26T15:00:00\", \"2017-06-29T22:00:00\", \"2017-08-01T03:00:00\", \"2017-06-01T19:00:00\", \"2017-05-31T17:00:00\"], \"xaxis\": \"x\", \"y\": [599.99, 699.99, 809.99, 909.99, 1.0, 2499.99, 3219.99, 3219.99, 3219.99, 1999.99, 1299.99, 1299.99, 549.99, 751.99, 1759.99, 1759.99, 1299.99, 427.99, 427.99, 909.99, 909.99, 919.99, 1091.99, 1091.99], \"yaxis\": \"y\"}],\n",
       "                        {\"font\": {\"size\": 12}, \"legend\": {\"title\": {\"text\": \"On-Sale\"}, \"tracegroupgap\": 0}, \"margin\": {\"t\": 60}, \"template\": {\"data\": {\"bar\": [{\"error_x\": {\"color\": \"#2a3f5f\"}, \"error_y\": {\"color\": \"#2a3f5f\"}, \"marker\": {\"line\": {\"color\": \"#E5ECF6\", \"width\": 0.5}}, \"type\": \"bar\"}], \"barpolar\": [{\"marker\": {\"line\": {\"color\": \"#E5ECF6\", \"width\": 0.5}}, \"type\": \"barpolar\"}], \"carpet\": [{\"aaxis\": {\"endlinecolor\": \"#2a3f5f\", \"gridcolor\": \"white\", \"linecolor\": \"white\", \"minorgridcolor\": \"white\", \"startlinecolor\": \"#2a3f5f\"}, \"baxis\": {\"endlinecolor\": \"#2a3f5f\", \"gridcolor\": \"white\", \"linecolor\": \"white\", \"minorgridcolor\": \"white\", \"startlinecolor\": \"#2a3f5f\"}, \"type\": \"carpet\"}], \"choropleth\": [{\"colorbar\": {\"outlinewidth\": 0, \"ticks\": \"\"}, \"type\": \"choropleth\"}], \"contour\": [{\"colorbar\": {\"outlinewidth\": 0, \"ticks\": \"\"}, \"colorscale\": [[0.0, \"#0d0887\"], [0.1111111111111111, \"#46039f\"], [0.2222222222222222, \"#7201a8\"], [0.3333333333333333, \"#9c179e\"], [0.4444444444444444, \"#bd3786\"], [0.5555555555555556, \"#d8576b\"], [0.6666666666666666, \"#ed7953\"], [0.7777777777777778, \"#fb9f3a\"], [0.8888888888888888, \"#fdca26\"], [1.0, \"#f0f921\"]], \"type\": \"contour\"}], \"contourcarpet\": [{\"colorbar\": {\"outlinewidth\": 0, \"ticks\": \"\"}, \"type\": \"contourcarpet\"}], \"heatmap\": [{\"colorbar\": {\"outlinewidth\": 0, \"ticks\": \"\"}, \"colorscale\": [[0.0, \"#0d0887\"], [0.1111111111111111, \"#46039f\"], [0.2222222222222222, \"#7201a8\"], [0.3333333333333333, \"#9c179e\"], [0.4444444444444444, \"#bd3786\"], [0.5555555555555556, \"#d8576b\"], [0.6666666666666666, \"#ed7953\"], [0.7777777777777778, \"#fb9f3a\"], [0.8888888888888888, \"#fdca26\"], [1.0, \"#f0f921\"]], \"type\": \"heatmap\"}], \"heatmapgl\": [{\"colorbar\": {\"outlinewidth\": 0, \"ticks\": \"\"}, \"colorscale\": [[0.0, \"#0d0887\"], [0.1111111111111111, \"#46039f\"], [0.2222222222222222, \"#7201a8\"], [0.3333333333333333, \"#9c179e\"], [0.4444444444444444, \"#bd3786\"], [0.5555555555555556, \"#d8576b\"], [0.6666666666666666, \"#ed7953\"], [0.7777777777777778, \"#fb9f3a\"], [0.8888888888888888, \"#fdca26\"], [1.0, \"#f0f921\"]], \"type\": \"heatmapgl\"}], \"histogram\": [{\"marker\": {\"colorbar\": {\"outlinewidth\": 0, \"ticks\": \"\"}}, \"type\": \"histogram\"}], \"histogram2d\": [{\"colorbar\": {\"outlinewidth\": 0, \"ticks\": \"\"}, \"colorscale\": [[0.0, \"#0d0887\"], [0.1111111111111111, \"#46039f\"], [0.2222222222222222, \"#7201a8\"], [0.3333333333333333, \"#9c179e\"], [0.4444444444444444, \"#bd3786\"], [0.5555555555555556, \"#d8576b\"], [0.6666666666666666, \"#ed7953\"], [0.7777777777777778, \"#fb9f3a\"], [0.8888888888888888, \"#fdca26\"], [1.0, \"#f0f921\"]], \"type\": \"histogram2d\"}], \"histogram2dcontour\": [{\"colorbar\": {\"outlinewidth\": 0, \"ticks\": \"\"}, \"colorscale\": [[0.0, \"#0d0887\"], [0.1111111111111111, \"#46039f\"], [0.2222222222222222, \"#7201a8\"], [0.3333333333333333, \"#9c179e\"], [0.4444444444444444, \"#bd3786\"], [0.5555555555555556, \"#d8576b\"], [0.6666666666666666, \"#ed7953\"], [0.7777777777777778, \"#fb9f3a\"], [0.8888888888888888, \"#fdca26\"], [1.0, \"#f0f921\"]], \"type\": \"histogram2dcontour\"}], \"mesh3d\": [{\"colorbar\": {\"outlinewidth\": 0, \"ticks\": \"\"}, \"type\": \"mesh3d\"}], \"parcoords\": [{\"line\": {\"colorbar\": {\"outlinewidth\": 0, \"ticks\": \"\"}}, \"type\": \"parcoords\"}], \"pie\": [{\"automargin\": true, \"type\": \"pie\"}], \"scatter\": [{\"marker\": {\"colorbar\": {\"outlinewidth\": 0, \"ticks\": \"\"}}, \"type\": \"scatter\"}], \"scatter3d\": [{\"line\": {\"colorbar\": {\"outlinewidth\": 0, \"ticks\": \"\"}}, \"marker\": {\"colorbar\": {\"outlinewidth\": 0, \"ticks\": \"\"}}, \"type\": \"scatter3d\"}], \"scattercarpet\": [{\"marker\": {\"colorbar\": {\"outlinewidth\": 0, \"ticks\": \"\"}}, \"type\": \"scattercarpet\"}], \"scattergeo\": [{\"marker\": {\"colorbar\": {\"outlinewidth\": 0, \"ticks\": \"\"}}, \"type\": \"scattergeo\"}], \"scattergl\": [{\"marker\": {\"colorbar\": {\"outlinewidth\": 0, \"ticks\": \"\"}}, \"type\": \"scattergl\"}], \"scattermapbox\": [{\"marker\": {\"colorbar\": {\"outlinewidth\": 0, \"ticks\": \"\"}}, \"type\": \"scattermapbox\"}], \"scatterpolar\": [{\"marker\": {\"colorbar\": {\"outlinewidth\": 0, \"ticks\": \"\"}}, \"type\": \"scatterpolar\"}], \"scatterpolargl\": [{\"marker\": {\"colorbar\": {\"outlinewidth\": 0, \"ticks\": \"\"}}, \"type\": \"scatterpolargl\"}], \"scatterternary\": [{\"marker\": {\"colorbar\": {\"outlinewidth\": 0, \"ticks\": \"\"}}, \"type\": \"scatterternary\"}], \"surface\": [{\"colorbar\": {\"outlinewidth\": 0, \"ticks\": \"\"}, \"colorscale\": [[0.0, \"#0d0887\"], [0.1111111111111111, \"#46039f\"], [0.2222222222222222, \"#7201a8\"], [0.3333333333333333, \"#9c179e\"], [0.4444444444444444, \"#bd3786\"], [0.5555555555555556, \"#d8576b\"], [0.6666666666666666, \"#ed7953\"], [0.7777777777777778, \"#fb9f3a\"], [0.8888888888888888, \"#fdca26\"], [1.0, \"#f0f921\"]], \"type\": \"surface\"}], \"table\": [{\"cells\": {\"fill\": {\"color\": \"#EBF0F8\"}, \"line\": {\"color\": \"white\"}}, \"header\": {\"fill\": {\"color\": \"#C8D4E3\"}, \"line\": {\"color\": \"white\"}}, \"type\": \"table\"}]}, \"layout\": {\"annotationdefaults\": {\"arrowcolor\": \"#2a3f5f\", \"arrowhead\": 0, \"arrowwidth\": 1}, \"coloraxis\": {\"colorbar\": {\"outlinewidth\": 0, \"ticks\": \"\"}}, \"colorscale\": {\"diverging\": [[0, \"#8e0152\"], [0.1, \"#c51b7d\"], [0.2, \"#de77ae\"], [0.3, \"#f1b6da\"], [0.4, \"#fde0ef\"], [0.5, \"#f7f7f7\"], [0.6, \"#e6f5d0\"], [0.7, \"#b8e186\"], [0.8, \"#7fbc41\"], [0.9, \"#4d9221\"], [1, \"#276419\"]], \"sequential\": [[0.0, \"#0d0887\"], [0.1111111111111111, \"#46039f\"], [0.2222222222222222, \"#7201a8\"], [0.3333333333333333, \"#9c179e\"], [0.4444444444444444, \"#bd3786\"], [0.5555555555555556, \"#d8576b\"], [0.6666666666666666, \"#ed7953\"], [0.7777777777777778, \"#fb9f3a\"], [0.8888888888888888, \"#fdca26\"], [1.0, \"#f0f921\"]], \"sequentialminus\": [[0.0, \"#0d0887\"], [0.1111111111111111, \"#46039f\"], [0.2222222222222222, \"#7201a8\"], [0.3333333333333333, \"#9c179e\"], [0.4444444444444444, \"#bd3786\"], [0.5555555555555556, \"#d8576b\"], [0.6666666666666666, \"#ed7953\"], [0.7777777777777778, \"#fb9f3a\"], [0.8888888888888888, \"#fdca26\"], [1.0, \"#f0f921\"]]}, \"colorway\": [\"#636efa\", \"#EF553B\", \"#00cc96\", \"#ab63fa\", \"#FFA15A\", \"#19d3f3\", \"#FF6692\", \"#B6E880\", \"#FF97FF\", \"#FECB52\"], \"font\": {\"color\": \"#2a3f5f\"}, \"geo\": {\"bgcolor\": \"white\", \"lakecolor\": \"white\", \"landcolor\": \"#E5ECF6\", \"showlakes\": true, \"showland\": true, \"subunitcolor\": \"white\"}, \"hoverlabel\": {\"align\": \"left\"}, \"hovermode\": \"closest\", \"mapbox\": {\"style\": \"light\"}, \"paper_bgcolor\": \"white\", \"plot_bgcolor\": \"#E5ECF6\", \"polar\": {\"angularaxis\": {\"gridcolor\": \"white\", \"linecolor\": \"white\", \"ticks\": \"\"}, \"bgcolor\": \"#E5ECF6\", \"radialaxis\": {\"gridcolor\": \"white\", \"linecolor\": \"white\", \"ticks\": \"\"}}, \"scene\": {\"xaxis\": {\"backgroundcolor\": \"#E5ECF6\", \"gridcolor\": \"white\", \"gridwidth\": 2, \"linecolor\": \"white\", \"showbackground\": true, \"ticks\": \"\", \"zerolinecolor\": \"white\"}, \"yaxis\": {\"backgroundcolor\": \"#E5ECF6\", \"gridcolor\": \"white\", \"gridwidth\": 2, \"linecolor\": \"white\", \"showbackground\": true, \"ticks\": \"\", \"zerolinecolor\": \"white\"}, \"zaxis\": {\"backgroundcolor\": \"#E5ECF6\", \"gridcolor\": \"white\", \"gridwidth\": 2, \"linecolor\": \"white\", \"showbackground\": true, \"ticks\": \"\", \"zerolinecolor\": \"white\"}}, \"shapedefaults\": {\"line\": {\"color\": \"#2a3f5f\"}}, \"ternary\": {\"aaxis\": {\"gridcolor\": \"white\", \"linecolor\": \"white\", \"ticks\": \"\"}, \"baxis\": {\"gridcolor\": \"white\", \"linecolor\": \"white\", \"ticks\": \"\"}, \"bgcolor\": \"#E5ECF6\", \"caxis\": {\"gridcolor\": \"white\", \"linecolor\": \"white\", \"ticks\": \"\"}}, \"title\": {\"x\": 0.05}, \"xaxis\": {\"automargin\": true, \"gridcolor\": \"white\", \"linecolor\": \"white\", \"ticks\": \"\", \"title\": {\"standoff\": 15}, \"zerolinecolor\": \"white\", \"zerolinewidth\": 2}, \"yaxis\": {\"automargin\": true, \"gridcolor\": \"white\", \"linecolor\": \"white\", \"ticks\": \"\", \"title\": {\"standoff\": 15}, \"zerolinecolor\": \"white\", \"zerolinewidth\": 2}}}, \"title\": {\"text\": \"Bestbuy\"}, \"xaxis\": {\"anchor\": \"y\", \"domain\": [0.0, 1.0], \"title\": {\"text\": \"\"}}, \"yaxis\": {\"anchor\": \"x\", \"domain\": [0.0, 1.0], \"tickprefix\": \"$\", \"title\": {\"text\": \"\"}}},\n",
       "                        {\"responsive\": true}\n",
       "                    ).then(function(){\n",
       "                            \n",
       "var gd = document.getElementById('e06ca513-a4b6-4bbd-9419-eb4f0f84dceb');\n",
       "var x = new MutationObserver(function (mutations, observer) {{\n",
       "        var display = window.getComputedStyle(gd).display;\n",
       "        if (!display || display === 'none') {{\n",
       "            console.log([gd, 'removed!']);\n",
       "            Plotly.purge(gd);\n",
       "            observer.disconnect();\n",
       "        }}\n",
       "}});\n",
       "\n",
       "// Listen for the removal of the full notebook cells\n",
       "var notebookContainer = gd.closest('#notebook-container');\n",
       "if (notebookContainer) {{\n",
       "    x.observe(notebookContainer, {childList: true});\n",
       "}}\n",
       "\n",
       "// Listen for the clearing of the current output cell\n",
       "var outputEl = gd.closest('.output');\n",
       "if (outputEl) {{\n",
       "    x.observe(outputEl, {childList: true});\n",
       "}}\n",
       "\n",
       "                        })\n",
       "                };\n",
       "                });\n",
       "            </script>\n",
       "        </div>"
      ]
     },
     "metadata": {},
     "output_type": "display_data"
    },
    {
     "data": {
      "application/vnd.plotly.v1+json": {
       "config": {
        "plotlyServerURL": "https://plot.ly"
       },
       "data": [
        {
         "hovertemplate": "On-Sale=False<br>Date-Seen=%{x}<br>Price-Min=%{y}<extra></extra>",
         "legendgroup": "False",
         "marker": {
          "color": "#636efa",
          "line": {
           "color": "DarkSlateGrey",
           "width": 1
          },
          "size": 7,
          "symbol": "circle"
         },
         "mode": "markers",
         "name": "False",
         "orientation": "v",
         "showlegend": true,
         "type": "scatter",
         "x": [
          "2018-04-26T17:00:00",
          "2018-03-09T18:00:00",
          "2018-03-09T18:00:00",
          "2017-10-28T17:00:00",
          "2017-10-24T22:00:00",
          "2017-07-23T00:00:00",
          "2018-04-26T17:00:00",
          "2018-05-27T16:00:00",
          "2018-05-24T11:00:00",
          "2018-05-28T10:00:00",
          "2018-04-26T17:00:00",
          "2018-05-27T16:00:00",
          "2017-11-16T19:00:00",
          "2017-11-08T20:00:00",
          "2017-09-17T08:00:00",
          "2018-04-26T17:00:00",
          "2017-12-06T01:00:00",
          "2018-04-26T17:00:00",
          "2018-03-09T18:00:00",
          "2017-10-24T22:00:00",
          "2017-07-10T18:00:00",
          "2017-07-08T20:00:00",
          "2017-07-18T06:00:00",
          "2017-07-21T16:00:00",
          "2017-07-21T14:00:00",
          "2017-07-12T15:00:00",
          "2017-07-14T14:00:00",
          "2017-12-06T01:00:00",
          "2017-11-16T19:00:00",
          "2017-10-28T17:00:00",
          "2017-10-24T22:00:00",
          "2018-01-10T07:00:00"
         ],
         "xaxis": "x",
         "y": [
          599.99,
          699.99,
          2798,
          2798,
          2798,
          3498,
          2498,
          2498,
          2498,
          2498,
          1498,
          1298,
          799.99,
          799.99,
          797.99,
          747.85,
          797.99,
          449.99,
          429.99,
          724.7,
          798,
          798,
          848,
          848,
          848,
          848,
          848,
          1896,
          2196,
          2196,
          2196,
          2096
         ],
         "yaxis": "y"
        },
        {
         "hovertemplate": "On-Sale=True<br>Date-Seen=%{x}<br>Price-Min=%{y}<extra></extra>",
         "legendgroup": "True",
         "marker": {
          "color": "#EF553B",
          "line": {
           "color": "DarkSlateGrey",
           "width": 1
          },
          "size": 7,
          "symbol": "circle"
         },
         "mode": "markers",
         "name": "True",
         "orientation": "v",
         "showlegend": true,
         "type": "scatter",
         "x": [
          "2017-12-06T01:00:00",
          "2017-11-08T20:00:00",
          "2017-10-24T01:00:00",
          "2017-08-14T14:00:00",
          "2017-12-07T06:00:00",
          "2018-01-10T07:00:00",
          "2017-11-08T20:00:00",
          "2017-11-08T20:00:00",
          "2017-10-30T14:00:00",
          "2017-10-28T18:00:00",
          "2017-10-24T22:00:00",
          "2017-08-15T21:00:00",
          "2017-12-04T20:00:00",
          "2018-04-26T17:00:00",
          "2018-05-27T16:00:00",
          "2018-05-24T11:00:00",
          "2018-05-28T10:00:00",
          "2017-10-24T01:00:00",
          "2018-05-27T16:00:00",
          "2018-05-28T11:00:00",
          "2018-05-24T11:00:00",
          "2018-04-26T17:00:00",
          "2017-11-16T19:00:00",
          "2018-05-27T16:00:00",
          "2018-05-28T10:00:00",
          "2018-04-26T17:00:00",
          "2018-03-09T18:00:00",
          "2018-03-09T18:00:00",
          "2018-02-05T20:00:00",
          "2017-10-28T18:00:00",
          "2018-03-09T18:00:00",
          "2017-09-18T18:00:00",
          "2017-08-15T21:00:00",
          "2017-07-28T07:00:00",
          "2017-07-22T23:00:00",
          "2017-12-06T01:00:00",
          "2017-11-16T22:00:00",
          "2017-11-08T20:00:00",
          "2017-09-08T03:00:00",
          "2017-10-28T17:00:00",
          "2017-10-24T22:00:00",
          "2017-11-16T23:00:00",
          "2017-11-08T20:00:00",
          "2017-10-28T18:00:00",
          "2017-10-24T22:00:00",
          "2018-05-27T16:00:00",
          "2018-05-24T11:00:00",
          "2018-05-28T10:00:00",
          "2018-04-26T17:00:00",
          "2017-11-16T22:00:00",
          "2018-03-09T18:00:00",
          "2017-11-08T20:00:00",
          "2017-12-07T06:00:00",
          "2017-09-17T08:00:00",
          "2018-05-27T16:00:00",
          "2018-05-24T11:00:00",
          "2017-08-15T15:00:00",
          "2017-07-18T06:00:00",
          "2017-07-21T16:00:00",
          "2017-07-21T14:00:00",
          "2017-07-12T15:00:00",
          "2017-07-16T20:00:00",
          "2017-07-10T18:00:00",
          "2017-07-08T20:00:00",
          "2017-07-14T14:00:00",
          "2017-12-08T10:00:00",
          "2017-12-06T01:00:00",
          "2017-11-16T19:00:00",
          "2017-11-08T20:00:00",
          "2017-10-28T17:00:00",
          "2017-10-24T22:00:00",
          "2017-12-07T06:00:00",
          "2018-04-26T17:00:00",
          "2018-05-24T11:00:00",
          "2017-07-21T16:00:00",
          "2017-10-28T17:00:00",
          "2017-08-14T14:00:00",
          "2018-01-10T14:00:00",
          "2017-07-21T16:00:00",
          "2018-03-09T18:00:00",
          "2018-04-26T17:00:00",
          "2018-05-27T16:00:00",
          "2018-03-15T19:00:00",
          "2017-10-24T01:00:00",
          "2018-05-28T11:00:00",
          "2018-05-24T11:00:00",
          "2018-03-09T18:00:00",
          "2017-11-16T22:00:00",
          "2017-07-21T16:00:00",
          "2017-09-15T00:00:00",
          "2017-11-16T19:00:00",
          "2017-10-24T01:00:00"
         ],
         "xaxis": "x",
         "y": [
          1197.99,
          1197.99,
          1197.99,
          1197.99,
          3596,
          4296,
          2798,
          4096,
          4096,
          4096,
          4096,
          3298,
          2498,
          2097.99,
          1997.99,
          1997.99,
          1997.99,
          797.99,
          1097.99,
          1097.99,
          1097.99,
          1197.99,
          597.99,
          796.99,
          796.99,
          846.99,
          749,
          659.42,
          796.99,
          2395.98,
          1497.99,
          2197.99,
          2197.99,
          2197.99,
          2197.99,
          1797.99,
          1797.99,
          1797.99,
          1897.99,
          1997.99,
          1997.99,
          2075.98,
          2075.98,
          1997.99,
          1997.99,
          1399.99,
          1399.99,
          1399.99,
          1797.99,
          1797.99,
          1797.99,
          1797.99,
          1797.99,
          2475.98,
          1978.01,
          1978.01,
          2197.99,
          2197.99,
          2197.99,
          2197.99,
          2197.99,
          2197.99,
          2197.99,
          2197.99,
          2197.99,
          1599,
          1599,
          1599,
          1599,
          1599,
          1599,
          2125.98,
          2797.99,
          2797.99,
          768.98,
          549.99,
          798,
          695.47,
          998,
          838,
          898,
          898,
          898,
          898,
          898,
          898,
          798,
          798,
          998,
          998,
          898,
          898
         ],
         "yaxis": "y"
        }
       ],
       "layout": {
        "font": {
         "size": 12
        },
        "legend": {
         "title": {
          "text": "On-Sale"
         },
         "tracegroupgap": 0
        },
        "margin": {
         "t": 60
        },
        "template": {
         "data": {
          "bar": [
           {
            "error_x": {
             "color": "#2a3f5f"
            },
            "error_y": {
             "color": "#2a3f5f"
            },
            "marker": {
             "line": {
              "color": "#E5ECF6",
              "width": 0.5
             }
            },
            "type": "bar"
           }
          ],
          "barpolar": [
           {
            "marker": {
             "line": {
              "color": "#E5ECF6",
              "width": 0.5
             }
            },
            "type": "barpolar"
           }
          ],
          "carpet": [
           {
            "aaxis": {
             "endlinecolor": "#2a3f5f",
             "gridcolor": "white",
             "linecolor": "white",
             "minorgridcolor": "white",
             "startlinecolor": "#2a3f5f"
            },
            "baxis": {
             "endlinecolor": "#2a3f5f",
             "gridcolor": "white",
             "linecolor": "white",
             "minorgridcolor": "white",
             "startlinecolor": "#2a3f5f"
            },
            "type": "carpet"
           }
          ],
          "choropleth": [
           {
            "colorbar": {
             "outlinewidth": 0,
             "ticks": ""
            },
            "type": "choropleth"
           }
          ],
          "contour": [
           {
            "colorbar": {
             "outlinewidth": 0,
             "ticks": ""
            },
            "colorscale": [
             [
              0,
              "#0d0887"
             ],
             [
              0.1111111111111111,
              "#46039f"
             ],
             [
              0.2222222222222222,
              "#7201a8"
             ],
             [
              0.3333333333333333,
              "#9c179e"
             ],
             [
              0.4444444444444444,
              "#bd3786"
             ],
             [
              0.5555555555555556,
              "#d8576b"
             ],
             [
              0.6666666666666666,
              "#ed7953"
             ],
             [
              0.7777777777777778,
              "#fb9f3a"
             ],
             [
              0.8888888888888888,
              "#fdca26"
             ],
             [
              1,
              "#f0f921"
             ]
            ],
            "type": "contour"
           }
          ],
          "contourcarpet": [
           {
            "colorbar": {
             "outlinewidth": 0,
             "ticks": ""
            },
            "type": "contourcarpet"
           }
          ],
          "heatmap": [
           {
            "colorbar": {
             "outlinewidth": 0,
             "ticks": ""
            },
            "colorscale": [
             [
              0,
              "#0d0887"
             ],
             [
              0.1111111111111111,
              "#46039f"
             ],
             [
              0.2222222222222222,
              "#7201a8"
             ],
             [
              0.3333333333333333,
              "#9c179e"
             ],
             [
              0.4444444444444444,
              "#bd3786"
             ],
             [
              0.5555555555555556,
              "#d8576b"
             ],
             [
              0.6666666666666666,
              "#ed7953"
             ],
             [
              0.7777777777777778,
              "#fb9f3a"
             ],
             [
              0.8888888888888888,
              "#fdca26"
             ],
             [
              1,
              "#f0f921"
             ]
            ],
            "type": "heatmap"
           }
          ],
          "heatmapgl": [
           {
            "colorbar": {
             "outlinewidth": 0,
             "ticks": ""
            },
            "colorscale": [
             [
              0,
              "#0d0887"
             ],
             [
              0.1111111111111111,
              "#46039f"
             ],
             [
              0.2222222222222222,
              "#7201a8"
             ],
             [
              0.3333333333333333,
              "#9c179e"
             ],
             [
              0.4444444444444444,
              "#bd3786"
             ],
             [
              0.5555555555555556,
              "#d8576b"
             ],
             [
              0.6666666666666666,
              "#ed7953"
             ],
             [
              0.7777777777777778,
              "#fb9f3a"
             ],
             [
              0.8888888888888888,
              "#fdca26"
             ],
             [
              1,
              "#f0f921"
             ]
            ],
            "type": "heatmapgl"
           }
          ],
          "histogram": [
           {
            "marker": {
             "colorbar": {
              "outlinewidth": 0,
              "ticks": ""
             }
            },
            "type": "histogram"
           }
          ],
          "histogram2d": [
           {
            "colorbar": {
             "outlinewidth": 0,
             "ticks": ""
            },
            "colorscale": [
             [
              0,
              "#0d0887"
             ],
             [
              0.1111111111111111,
              "#46039f"
             ],
             [
              0.2222222222222222,
              "#7201a8"
             ],
             [
              0.3333333333333333,
              "#9c179e"
             ],
             [
              0.4444444444444444,
              "#bd3786"
             ],
             [
              0.5555555555555556,
              "#d8576b"
             ],
             [
              0.6666666666666666,
              "#ed7953"
             ],
             [
              0.7777777777777778,
              "#fb9f3a"
             ],
             [
              0.8888888888888888,
              "#fdca26"
             ],
             [
              1,
              "#f0f921"
             ]
            ],
            "type": "histogram2d"
           }
          ],
          "histogram2dcontour": [
           {
            "colorbar": {
             "outlinewidth": 0,
             "ticks": ""
            },
            "colorscale": [
             [
              0,
              "#0d0887"
             ],
             [
              0.1111111111111111,
              "#46039f"
             ],
             [
              0.2222222222222222,
              "#7201a8"
             ],
             [
              0.3333333333333333,
              "#9c179e"
             ],
             [
              0.4444444444444444,
              "#bd3786"
             ],
             [
              0.5555555555555556,
              "#d8576b"
             ],
             [
              0.6666666666666666,
              "#ed7953"
             ],
             [
              0.7777777777777778,
              "#fb9f3a"
             ],
             [
              0.8888888888888888,
              "#fdca26"
             ],
             [
              1,
              "#f0f921"
             ]
            ],
            "type": "histogram2dcontour"
           }
          ],
          "mesh3d": [
           {
            "colorbar": {
             "outlinewidth": 0,
             "ticks": ""
            },
            "type": "mesh3d"
           }
          ],
          "parcoords": [
           {
            "line": {
             "colorbar": {
              "outlinewidth": 0,
              "ticks": ""
             }
            },
            "type": "parcoords"
           }
          ],
          "pie": [
           {
            "automargin": true,
            "type": "pie"
           }
          ],
          "scatter": [
           {
            "marker": {
             "colorbar": {
              "outlinewidth": 0,
              "ticks": ""
             }
            },
            "type": "scatter"
           }
          ],
          "scatter3d": [
           {
            "line": {
             "colorbar": {
              "outlinewidth": 0,
              "ticks": ""
             }
            },
            "marker": {
             "colorbar": {
              "outlinewidth": 0,
              "ticks": ""
             }
            },
            "type": "scatter3d"
           }
          ],
          "scattercarpet": [
           {
            "marker": {
             "colorbar": {
              "outlinewidth": 0,
              "ticks": ""
             }
            },
            "type": "scattercarpet"
           }
          ],
          "scattergeo": [
           {
            "marker": {
             "colorbar": {
              "outlinewidth": 0,
              "ticks": ""
             }
            },
            "type": "scattergeo"
           }
          ],
          "scattergl": [
           {
            "marker": {
             "colorbar": {
              "outlinewidth": 0,
              "ticks": ""
             }
            },
            "type": "scattergl"
           }
          ],
          "scattermapbox": [
           {
            "marker": {
             "colorbar": {
              "outlinewidth": 0,
              "ticks": ""
             }
            },
            "type": "scattermapbox"
           }
          ],
          "scatterpolar": [
           {
            "marker": {
             "colorbar": {
              "outlinewidth": 0,
              "ticks": ""
             }
            },
            "type": "scatterpolar"
           }
          ],
          "scatterpolargl": [
           {
            "marker": {
             "colorbar": {
              "outlinewidth": 0,
              "ticks": ""
             }
            },
            "type": "scatterpolargl"
           }
          ],
          "scatterternary": [
           {
            "marker": {
             "colorbar": {
              "outlinewidth": 0,
              "ticks": ""
             }
            },
            "type": "scatterternary"
           }
          ],
          "surface": [
           {
            "colorbar": {
             "outlinewidth": 0,
             "ticks": ""
            },
            "colorscale": [
             [
              0,
              "#0d0887"
             ],
             [
              0.1111111111111111,
              "#46039f"
             ],
             [
              0.2222222222222222,
              "#7201a8"
             ],
             [
              0.3333333333333333,
              "#9c179e"
             ],
             [
              0.4444444444444444,
              "#bd3786"
             ],
             [
              0.5555555555555556,
              "#d8576b"
             ],
             [
              0.6666666666666666,
              "#ed7953"
             ],
             [
              0.7777777777777778,
              "#fb9f3a"
             ],
             [
              0.8888888888888888,
              "#fdca26"
             ],
             [
              1,
              "#f0f921"
             ]
            ],
            "type": "surface"
           }
          ],
          "table": [
           {
            "cells": {
             "fill": {
              "color": "#EBF0F8"
             },
             "line": {
              "color": "white"
             }
            },
            "header": {
             "fill": {
              "color": "#C8D4E3"
             },
             "line": {
              "color": "white"
             }
            },
            "type": "table"
           }
          ]
         },
         "layout": {
          "annotationdefaults": {
           "arrowcolor": "#2a3f5f",
           "arrowhead": 0,
           "arrowwidth": 1
          },
          "coloraxis": {
           "colorbar": {
            "outlinewidth": 0,
            "ticks": ""
           }
          },
          "colorscale": {
           "diverging": [
            [
             0,
             "#8e0152"
            ],
            [
             0.1,
             "#c51b7d"
            ],
            [
             0.2,
             "#de77ae"
            ],
            [
             0.3,
             "#f1b6da"
            ],
            [
             0.4,
             "#fde0ef"
            ],
            [
             0.5,
             "#f7f7f7"
            ],
            [
             0.6,
             "#e6f5d0"
            ],
            [
             0.7,
             "#b8e186"
            ],
            [
             0.8,
             "#7fbc41"
            ],
            [
             0.9,
             "#4d9221"
            ],
            [
             1,
             "#276419"
            ]
           ],
           "sequential": [
            [
             0,
             "#0d0887"
            ],
            [
             0.1111111111111111,
             "#46039f"
            ],
            [
             0.2222222222222222,
             "#7201a8"
            ],
            [
             0.3333333333333333,
             "#9c179e"
            ],
            [
             0.4444444444444444,
             "#bd3786"
            ],
            [
             0.5555555555555556,
             "#d8576b"
            ],
            [
             0.6666666666666666,
             "#ed7953"
            ],
            [
             0.7777777777777778,
             "#fb9f3a"
            ],
            [
             0.8888888888888888,
             "#fdca26"
            ],
            [
             1,
             "#f0f921"
            ]
           ],
           "sequentialminus": [
            [
             0,
             "#0d0887"
            ],
            [
             0.1111111111111111,
             "#46039f"
            ],
            [
             0.2222222222222222,
             "#7201a8"
            ],
            [
             0.3333333333333333,
             "#9c179e"
            ],
            [
             0.4444444444444444,
             "#bd3786"
            ],
            [
             0.5555555555555556,
             "#d8576b"
            ],
            [
             0.6666666666666666,
             "#ed7953"
            ],
            [
             0.7777777777777778,
             "#fb9f3a"
            ],
            [
             0.8888888888888888,
             "#fdca26"
            ],
            [
             1,
             "#f0f921"
            ]
           ]
          },
          "colorway": [
           "#636efa",
           "#EF553B",
           "#00cc96",
           "#ab63fa",
           "#FFA15A",
           "#19d3f3",
           "#FF6692",
           "#B6E880",
           "#FF97FF",
           "#FECB52"
          ],
          "font": {
           "color": "#2a3f5f"
          },
          "geo": {
           "bgcolor": "white",
           "lakecolor": "white",
           "landcolor": "#E5ECF6",
           "showlakes": true,
           "showland": true,
           "subunitcolor": "white"
          },
          "hoverlabel": {
           "align": "left"
          },
          "hovermode": "closest",
          "mapbox": {
           "style": "light"
          },
          "paper_bgcolor": "white",
          "plot_bgcolor": "#E5ECF6",
          "polar": {
           "angularaxis": {
            "gridcolor": "white",
            "linecolor": "white",
            "ticks": ""
           },
           "bgcolor": "#E5ECF6",
           "radialaxis": {
            "gridcolor": "white",
            "linecolor": "white",
            "ticks": ""
           }
          },
          "scene": {
           "xaxis": {
            "backgroundcolor": "#E5ECF6",
            "gridcolor": "white",
            "gridwidth": 2,
            "linecolor": "white",
            "showbackground": true,
            "ticks": "",
            "zerolinecolor": "white"
           },
           "yaxis": {
            "backgroundcolor": "#E5ECF6",
            "gridcolor": "white",
            "gridwidth": 2,
            "linecolor": "white",
            "showbackground": true,
            "ticks": "",
            "zerolinecolor": "white"
           },
           "zaxis": {
            "backgroundcolor": "#E5ECF6",
            "gridcolor": "white",
            "gridwidth": 2,
            "linecolor": "white",
            "showbackground": true,
            "ticks": "",
            "zerolinecolor": "white"
           }
          },
          "shapedefaults": {
           "line": {
            "color": "#2a3f5f"
           }
          },
          "ternary": {
           "aaxis": {
            "gridcolor": "white",
            "linecolor": "white",
            "ticks": ""
           },
           "baxis": {
            "gridcolor": "white",
            "linecolor": "white",
            "ticks": ""
           },
           "bgcolor": "#E5ECF6",
           "caxis": {
            "gridcolor": "white",
            "linecolor": "white",
            "ticks": ""
           }
          },
          "title": {
           "x": 0.05
          },
          "xaxis": {
           "automargin": true,
           "gridcolor": "white",
           "linecolor": "white",
           "ticks": "",
           "title": {
            "standoff": 15
           },
           "zerolinecolor": "white",
           "zerolinewidth": 2
          },
          "yaxis": {
           "automargin": true,
           "gridcolor": "white",
           "linecolor": "white",
           "ticks": "",
           "title": {
            "standoff": 15
           },
           "zerolinecolor": "white",
           "zerolinewidth": 2
          }
         }
        },
        "title": {
         "text": "Walmart"
        },
        "xaxis": {
         "anchor": "y",
         "domain": [
          0,
          1
         ],
         "title": {
          "text": ""
         }
        },
        "yaxis": {
         "anchor": "x",
         "domain": [
          0,
          1
         ],
         "tickprefix": "$",
         "title": {
          "text": ""
         }
        }
       }
      },
      "text/html": [
       "<div>\n",
       "        \n",
       "        \n",
       "            <div id=\"3a69fb4a-299e-4792-8e05-cf00c7be430a\" class=\"plotly-graph-div\" style=\"height:525px; width:100%;\"></div>\n",
       "            <script type=\"text/javascript\">\n",
       "                require([\"plotly\"], function(Plotly) {\n",
       "                    window.PLOTLYENV=window.PLOTLYENV || {};\n",
       "                    \n",
       "                if (document.getElementById(\"3a69fb4a-299e-4792-8e05-cf00c7be430a\")) {\n",
       "                    Plotly.newPlot(\n",
       "                        '3a69fb4a-299e-4792-8e05-cf00c7be430a',\n",
       "                        [{\"hovertemplate\": \"On-Sale=False<br>Date-Seen=%{x}<br>Price-Min=%{y}<extra></extra>\", \"legendgroup\": \"False\", \"marker\": {\"color\": \"#636efa\", \"line\": {\"color\": \"DarkSlateGrey\", \"width\": 1}, \"size\": 7, \"symbol\": \"circle\"}, \"mode\": \"markers\", \"name\": \"False\", \"orientation\": \"v\", \"showlegend\": true, \"type\": \"scatter\", \"x\": [\"2018-04-26T17:00:00\", \"2018-03-09T18:00:00\", \"2018-03-09T18:00:00\", \"2017-10-28T17:00:00\", \"2017-10-24T22:00:00\", \"2017-07-23T00:00:00\", \"2018-04-26T17:00:00\", \"2018-05-27T16:00:00\", \"2018-05-24T11:00:00\", \"2018-05-28T10:00:00\", \"2018-04-26T17:00:00\", \"2018-05-27T16:00:00\", \"2017-11-16T19:00:00\", \"2017-11-08T20:00:00\", \"2017-09-17T08:00:00\", \"2018-04-26T17:00:00\", \"2017-12-06T01:00:00\", \"2018-04-26T17:00:00\", \"2018-03-09T18:00:00\", \"2017-10-24T22:00:00\", \"2017-07-10T18:00:00\", \"2017-07-08T20:00:00\", \"2017-07-18T06:00:00\", \"2017-07-21T16:00:00\", \"2017-07-21T14:00:00\", \"2017-07-12T15:00:00\", \"2017-07-14T14:00:00\", \"2017-12-06T01:00:00\", \"2017-11-16T19:00:00\", \"2017-10-28T17:00:00\", \"2017-10-24T22:00:00\", \"2018-01-10T07:00:00\"], \"xaxis\": \"x\", \"y\": [599.99, 699.99, 2798.0, 2798.0, 2798.0, 3498.0, 2498.0, 2498.0, 2498.0, 2498.0, 1498.0, 1298.0, 799.99, 799.99, 797.99, 747.85, 797.99, 449.99, 429.99, 724.7, 798.0, 798.0, 848.0, 848.0, 848.0, 848.0, 848.0, 1896.0, 2196.0, 2196.0, 2196.0, 2096.0], \"yaxis\": \"y\"}, {\"hovertemplate\": \"On-Sale=True<br>Date-Seen=%{x}<br>Price-Min=%{y}<extra></extra>\", \"legendgroup\": \"True\", \"marker\": {\"color\": \"#EF553B\", \"line\": {\"color\": \"DarkSlateGrey\", \"width\": 1}, \"size\": 7, \"symbol\": \"circle\"}, \"mode\": \"markers\", \"name\": \"True\", \"orientation\": \"v\", \"showlegend\": true, \"type\": \"scatter\", \"x\": [\"2017-12-06T01:00:00\", \"2017-11-08T20:00:00\", \"2017-10-24T01:00:00\", \"2017-08-14T14:00:00\", \"2017-12-07T06:00:00\", \"2018-01-10T07:00:00\", \"2017-11-08T20:00:00\", \"2017-11-08T20:00:00\", \"2017-10-30T14:00:00\", \"2017-10-28T18:00:00\", \"2017-10-24T22:00:00\", \"2017-08-15T21:00:00\", \"2017-12-04T20:00:00\", \"2018-04-26T17:00:00\", \"2018-05-27T16:00:00\", \"2018-05-24T11:00:00\", \"2018-05-28T10:00:00\", \"2017-10-24T01:00:00\", \"2018-05-27T16:00:00\", \"2018-05-28T11:00:00\", \"2018-05-24T11:00:00\", \"2018-04-26T17:00:00\", \"2017-11-16T19:00:00\", \"2018-05-27T16:00:00\", \"2018-05-28T10:00:00\", \"2018-04-26T17:00:00\", \"2018-03-09T18:00:00\", \"2018-03-09T18:00:00\", \"2018-02-05T20:00:00\", \"2017-10-28T18:00:00\", \"2018-03-09T18:00:00\", \"2017-09-18T18:00:00\", \"2017-08-15T21:00:00\", \"2017-07-28T07:00:00\", \"2017-07-22T23:00:00\", \"2017-12-06T01:00:00\", \"2017-11-16T22:00:00\", \"2017-11-08T20:00:00\", \"2017-09-08T03:00:00\", \"2017-10-28T17:00:00\", \"2017-10-24T22:00:00\", \"2017-11-16T23:00:00\", \"2017-11-08T20:00:00\", \"2017-10-28T18:00:00\", \"2017-10-24T22:00:00\", \"2018-05-27T16:00:00\", \"2018-05-24T11:00:00\", \"2018-05-28T10:00:00\", \"2018-04-26T17:00:00\", \"2017-11-16T22:00:00\", \"2018-03-09T18:00:00\", \"2017-11-08T20:00:00\", \"2017-12-07T06:00:00\", \"2017-09-17T08:00:00\", \"2018-05-27T16:00:00\", \"2018-05-24T11:00:00\", \"2017-08-15T15:00:00\", \"2017-07-18T06:00:00\", \"2017-07-21T16:00:00\", \"2017-07-21T14:00:00\", \"2017-07-12T15:00:00\", \"2017-07-16T20:00:00\", \"2017-07-10T18:00:00\", \"2017-07-08T20:00:00\", \"2017-07-14T14:00:00\", \"2017-12-08T10:00:00\", \"2017-12-06T01:00:00\", \"2017-11-16T19:00:00\", \"2017-11-08T20:00:00\", \"2017-10-28T17:00:00\", \"2017-10-24T22:00:00\", \"2017-12-07T06:00:00\", \"2018-04-26T17:00:00\", \"2018-05-24T11:00:00\", \"2017-07-21T16:00:00\", \"2017-10-28T17:00:00\", \"2017-08-14T14:00:00\", \"2018-01-10T14:00:00\", \"2017-07-21T16:00:00\", \"2018-03-09T18:00:00\", \"2018-04-26T17:00:00\", \"2018-05-27T16:00:00\", \"2018-03-15T19:00:00\", \"2017-10-24T01:00:00\", \"2018-05-28T11:00:00\", \"2018-05-24T11:00:00\", \"2018-03-09T18:00:00\", \"2017-11-16T22:00:00\", \"2017-07-21T16:00:00\", \"2017-09-15T00:00:00\", \"2017-11-16T19:00:00\", \"2017-10-24T01:00:00\"], \"xaxis\": \"x\", \"y\": [1197.99, 1197.99, 1197.99, 1197.99, 3596.0, 4296.0, 2798.0, 4096.0, 4096.0, 4096.0, 4096.0, 3298.0, 2498.0, 2097.99, 1997.99, 1997.99, 1997.99, 797.99, 1097.99, 1097.99, 1097.99, 1197.99, 597.99, 796.99, 796.99, 846.99, 749.0, 659.42, 796.99, 2395.98, 1497.99, 2197.99, 2197.99, 2197.99, 2197.99, 1797.99, 1797.99, 1797.99, 1897.99, 1997.99, 1997.99, 2075.98, 2075.98, 1997.99, 1997.99, 1399.99, 1399.99, 1399.99, 1797.99, 1797.99, 1797.99, 1797.99, 1797.99, 2475.98, 1978.01, 1978.01, 2197.99, 2197.99, 2197.99, 2197.99, 2197.99, 2197.99, 2197.99, 2197.99, 2197.99, 1599.0, 1599.0, 1599.0, 1599.0, 1599.0, 1599.0, 2125.98, 2797.99, 2797.99, 768.98, 549.99, 798.0, 695.47, 998.0, 838.0, 898.0, 898.0, 898.0, 898.0, 898.0, 898.0, 798.0, 798.0, 998.0, 998.0, 898.0, 898.0], \"yaxis\": \"y\"}],\n",
       "                        {\"font\": {\"size\": 12}, \"legend\": {\"title\": {\"text\": \"On-Sale\"}, \"tracegroupgap\": 0}, \"margin\": {\"t\": 60}, \"template\": {\"data\": {\"bar\": [{\"error_x\": {\"color\": \"#2a3f5f\"}, \"error_y\": {\"color\": \"#2a3f5f\"}, \"marker\": {\"line\": {\"color\": \"#E5ECF6\", \"width\": 0.5}}, \"type\": \"bar\"}], \"barpolar\": [{\"marker\": {\"line\": {\"color\": \"#E5ECF6\", \"width\": 0.5}}, \"type\": \"barpolar\"}], \"carpet\": [{\"aaxis\": {\"endlinecolor\": \"#2a3f5f\", \"gridcolor\": \"white\", \"linecolor\": \"white\", \"minorgridcolor\": \"white\", \"startlinecolor\": \"#2a3f5f\"}, \"baxis\": {\"endlinecolor\": \"#2a3f5f\", \"gridcolor\": \"white\", \"linecolor\": \"white\", \"minorgridcolor\": \"white\", \"startlinecolor\": \"#2a3f5f\"}, \"type\": \"carpet\"}], \"choropleth\": [{\"colorbar\": {\"outlinewidth\": 0, \"ticks\": \"\"}, \"type\": \"choropleth\"}], \"contour\": [{\"colorbar\": {\"outlinewidth\": 0, \"ticks\": \"\"}, \"colorscale\": [[0.0, \"#0d0887\"], [0.1111111111111111, \"#46039f\"], [0.2222222222222222, \"#7201a8\"], [0.3333333333333333, \"#9c179e\"], [0.4444444444444444, \"#bd3786\"], [0.5555555555555556, \"#d8576b\"], [0.6666666666666666, \"#ed7953\"], [0.7777777777777778, \"#fb9f3a\"], [0.8888888888888888, \"#fdca26\"], [1.0, \"#f0f921\"]], \"type\": \"contour\"}], \"contourcarpet\": [{\"colorbar\": {\"outlinewidth\": 0, \"ticks\": \"\"}, \"type\": \"contourcarpet\"}], \"heatmap\": [{\"colorbar\": {\"outlinewidth\": 0, \"ticks\": \"\"}, \"colorscale\": [[0.0, \"#0d0887\"], [0.1111111111111111, \"#46039f\"], [0.2222222222222222, \"#7201a8\"], [0.3333333333333333, \"#9c179e\"], [0.4444444444444444, \"#bd3786\"], [0.5555555555555556, \"#d8576b\"], [0.6666666666666666, \"#ed7953\"], [0.7777777777777778, \"#fb9f3a\"], [0.8888888888888888, \"#fdca26\"], [1.0, \"#f0f921\"]], \"type\": \"heatmap\"}], \"heatmapgl\": [{\"colorbar\": {\"outlinewidth\": 0, \"ticks\": \"\"}, \"colorscale\": [[0.0, \"#0d0887\"], [0.1111111111111111, \"#46039f\"], [0.2222222222222222, \"#7201a8\"], [0.3333333333333333, \"#9c179e\"], [0.4444444444444444, \"#bd3786\"], [0.5555555555555556, \"#d8576b\"], [0.6666666666666666, \"#ed7953\"], [0.7777777777777778, \"#fb9f3a\"], [0.8888888888888888, \"#fdca26\"], [1.0, \"#f0f921\"]], \"type\": \"heatmapgl\"}], \"histogram\": [{\"marker\": {\"colorbar\": {\"outlinewidth\": 0, \"ticks\": \"\"}}, \"type\": \"histogram\"}], \"histogram2d\": [{\"colorbar\": {\"outlinewidth\": 0, \"ticks\": \"\"}, \"colorscale\": [[0.0, \"#0d0887\"], [0.1111111111111111, \"#46039f\"], [0.2222222222222222, \"#7201a8\"], [0.3333333333333333, \"#9c179e\"], [0.4444444444444444, \"#bd3786\"], [0.5555555555555556, \"#d8576b\"], [0.6666666666666666, \"#ed7953\"], [0.7777777777777778, \"#fb9f3a\"], [0.8888888888888888, \"#fdca26\"], [1.0, \"#f0f921\"]], \"type\": \"histogram2d\"}], \"histogram2dcontour\": [{\"colorbar\": {\"outlinewidth\": 0, \"ticks\": \"\"}, \"colorscale\": [[0.0, \"#0d0887\"], [0.1111111111111111, \"#46039f\"], [0.2222222222222222, \"#7201a8\"], [0.3333333333333333, \"#9c179e\"], [0.4444444444444444, \"#bd3786\"], [0.5555555555555556, \"#d8576b\"], [0.6666666666666666, \"#ed7953\"], [0.7777777777777778, \"#fb9f3a\"], [0.8888888888888888, \"#fdca26\"], [1.0, \"#f0f921\"]], \"type\": \"histogram2dcontour\"}], \"mesh3d\": [{\"colorbar\": {\"outlinewidth\": 0, \"ticks\": \"\"}, \"type\": \"mesh3d\"}], \"parcoords\": [{\"line\": {\"colorbar\": {\"outlinewidth\": 0, \"ticks\": \"\"}}, \"type\": \"parcoords\"}], \"pie\": [{\"automargin\": true, \"type\": \"pie\"}], \"scatter\": [{\"marker\": {\"colorbar\": {\"outlinewidth\": 0, \"ticks\": \"\"}}, \"type\": \"scatter\"}], \"scatter3d\": [{\"line\": {\"colorbar\": {\"outlinewidth\": 0, \"ticks\": \"\"}}, \"marker\": {\"colorbar\": {\"outlinewidth\": 0, \"ticks\": \"\"}}, \"type\": \"scatter3d\"}], \"scattercarpet\": [{\"marker\": {\"colorbar\": {\"outlinewidth\": 0, \"ticks\": \"\"}}, \"type\": \"scattercarpet\"}], \"scattergeo\": [{\"marker\": {\"colorbar\": {\"outlinewidth\": 0, \"ticks\": \"\"}}, \"type\": \"scattergeo\"}], \"scattergl\": [{\"marker\": {\"colorbar\": {\"outlinewidth\": 0, \"ticks\": \"\"}}, \"type\": \"scattergl\"}], \"scattermapbox\": [{\"marker\": {\"colorbar\": {\"outlinewidth\": 0, \"ticks\": \"\"}}, \"type\": \"scattermapbox\"}], \"scatterpolar\": [{\"marker\": {\"colorbar\": {\"outlinewidth\": 0, \"ticks\": \"\"}}, \"type\": \"scatterpolar\"}], \"scatterpolargl\": [{\"marker\": {\"colorbar\": {\"outlinewidth\": 0, \"ticks\": \"\"}}, \"type\": \"scatterpolargl\"}], \"scatterternary\": [{\"marker\": {\"colorbar\": {\"outlinewidth\": 0, \"ticks\": \"\"}}, \"type\": \"scatterternary\"}], \"surface\": [{\"colorbar\": {\"outlinewidth\": 0, \"ticks\": \"\"}, \"colorscale\": [[0.0, \"#0d0887\"], [0.1111111111111111, \"#46039f\"], [0.2222222222222222, \"#7201a8\"], [0.3333333333333333, \"#9c179e\"], [0.4444444444444444, \"#bd3786\"], [0.5555555555555556, \"#d8576b\"], [0.6666666666666666, \"#ed7953\"], [0.7777777777777778, \"#fb9f3a\"], [0.8888888888888888, \"#fdca26\"], [1.0, \"#f0f921\"]], \"type\": \"surface\"}], \"table\": [{\"cells\": {\"fill\": {\"color\": \"#EBF0F8\"}, \"line\": {\"color\": \"white\"}}, \"header\": {\"fill\": {\"color\": \"#C8D4E3\"}, \"line\": {\"color\": \"white\"}}, \"type\": \"table\"}]}, \"layout\": {\"annotationdefaults\": {\"arrowcolor\": \"#2a3f5f\", \"arrowhead\": 0, \"arrowwidth\": 1}, \"coloraxis\": {\"colorbar\": {\"outlinewidth\": 0, \"ticks\": \"\"}}, \"colorscale\": {\"diverging\": [[0, \"#8e0152\"], [0.1, \"#c51b7d\"], [0.2, \"#de77ae\"], [0.3, \"#f1b6da\"], [0.4, \"#fde0ef\"], [0.5, \"#f7f7f7\"], [0.6, \"#e6f5d0\"], [0.7, \"#b8e186\"], [0.8, \"#7fbc41\"], [0.9, \"#4d9221\"], [1, \"#276419\"]], \"sequential\": [[0.0, \"#0d0887\"], [0.1111111111111111, \"#46039f\"], [0.2222222222222222, \"#7201a8\"], [0.3333333333333333, \"#9c179e\"], [0.4444444444444444, \"#bd3786\"], [0.5555555555555556, \"#d8576b\"], [0.6666666666666666, \"#ed7953\"], [0.7777777777777778, \"#fb9f3a\"], [0.8888888888888888, \"#fdca26\"], [1.0, \"#f0f921\"]], \"sequentialminus\": [[0.0, \"#0d0887\"], [0.1111111111111111, \"#46039f\"], [0.2222222222222222, \"#7201a8\"], [0.3333333333333333, \"#9c179e\"], [0.4444444444444444, \"#bd3786\"], [0.5555555555555556, \"#d8576b\"], [0.6666666666666666, \"#ed7953\"], [0.7777777777777778, \"#fb9f3a\"], [0.8888888888888888, \"#fdca26\"], [1.0, \"#f0f921\"]]}, \"colorway\": [\"#636efa\", \"#EF553B\", \"#00cc96\", \"#ab63fa\", \"#FFA15A\", \"#19d3f3\", \"#FF6692\", \"#B6E880\", \"#FF97FF\", \"#FECB52\"], \"font\": {\"color\": \"#2a3f5f\"}, \"geo\": {\"bgcolor\": \"white\", \"lakecolor\": \"white\", \"landcolor\": \"#E5ECF6\", \"showlakes\": true, \"showland\": true, \"subunitcolor\": \"white\"}, \"hoverlabel\": {\"align\": \"left\"}, \"hovermode\": \"closest\", \"mapbox\": {\"style\": \"light\"}, \"paper_bgcolor\": \"white\", \"plot_bgcolor\": \"#E5ECF6\", \"polar\": {\"angularaxis\": {\"gridcolor\": \"white\", \"linecolor\": \"white\", \"ticks\": \"\"}, \"bgcolor\": \"#E5ECF6\", \"radialaxis\": {\"gridcolor\": \"white\", \"linecolor\": \"white\", \"ticks\": \"\"}}, \"scene\": {\"xaxis\": {\"backgroundcolor\": \"#E5ECF6\", \"gridcolor\": \"white\", \"gridwidth\": 2, \"linecolor\": \"white\", \"showbackground\": true, \"ticks\": \"\", \"zerolinecolor\": \"white\"}, \"yaxis\": {\"backgroundcolor\": \"#E5ECF6\", \"gridcolor\": \"white\", \"gridwidth\": 2, \"linecolor\": \"white\", \"showbackground\": true, \"ticks\": \"\", \"zerolinecolor\": \"white\"}, \"zaxis\": {\"backgroundcolor\": \"#E5ECF6\", \"gridcolor\": \"white\", \"gridwidth\": 2, \"linecolor\": \"white\", \"showbackground\": true, \"ticks\": \"\", \"zerolinecolor\": \"white\"}}, \"shapedefaults\": {\"line\": {\"color\": \"#2a3f5f\"}}, \"ternary\": {\"aaxis\": {\"gridcolor\": \"white\", \"linecolor\": \"white\", \"ticks\": \"\"}, \"baxis\": {\"gridcolor\": \"white\", \"linecolor\": \"white\", \"ticks\": \"\"}, \"bgcolor\": \"#E5ECF6\", \"caxis\": {\"gridcolor\": \"white\", \"linecolor\": \"white\", \"ticks\": \"\"}}, \"title\": {\"x\": 0.05}, \"xaxis\": {\"automargin\": true, \"gridcolor\": \"white\", \"linecolor\": \"white\", \"ticks\": \"\", \"title\": {\"standoff\": 15}, \"zerolinecolor\": \"white\", \"zerolinewidth\": 2}, \"yaxis\": {\"automargin\": true, \"gridcolor\": \"white\", \"linecolor\": \"white\", \"ticks\": \"\", \"title\": {\"standoff\": 15}, \"zerolinecolor\": \"white\", \"zerolinewidth\": 2}}}, \"title\": {\"text\": \"Walmart\"}, \"xaxis\": {\"anchor\": \"y\", \"domain\": [0.0, 1.0], \"title\": {\"text\": \"\"}}, \"yaxis\": {\"anchor\": \"x\", \"domain\": [0.0, 1.0], \"tickprefix\": \"$\", \"title\": {\"text\": \"\"}}},\n",
       "                        {\"responsive\": true}\n",
       "                    ).then(function(){\n",
       "                            \n",
       "var gd = document.getElementById('3a69fb4a-299e-4792-8e05-cf00c7be430a');\n",
       "var x = new MutationObserver(function (mutations, observer) {{\n",
       "        var display = window.getComputedStyle(gd).display;\n",
       "        if (!display || display === 'none') {{\n",
       "            console.log([gd, 'removed!']);\n",
       "            Plotly.purge(gd);\n",
       "            observer.disconnect();\n",
       "        }}\n",
       "}});\n",
       "\n",
       "// Listen for the removal of the full notebook cells\n",
       "var notebookContainer = gd.closest('#notebook-container');\n",
       "if (notebookContainer) {{\n",
       "    x.observe(notebookContainer, {childList: true});\n",
       "}}\n",
       "\n",
       "// Listen for the clearing of the current output cell\n",
       "var outputEl = gd.closest('.output');\n",
       "if (outputEl) {{\n",
       "    x.observe(outputEl, {childList: true});\n",
       "}}\n",
       "\n",
       "                        })\n",
       "                };\n",
       "                });\n",
       "            </script>\n",
       "        </div>"
      ]
     },
     "metadata": {},
     "output_type": "display_data"
    },
    {
     "data": {
      "application/vnd.plotly.v1+json": {
       "config": {
        "plotlyServerURL": "https://plot.ly"
       },
       "data": [
        {
         "hovertemplate": "On-Sale=False<br>Date-Seen=%{x}<br>Price-Min=%{y}<extra></extra>",
         "legendgroup": "False",
         "marker": {
          "color": "#636efa",
          "line": {
           "color": "DarkSlateGrey",
           "width": 1
          },
          "size": 7,
          "symbol": "circle"
         },
         "mode": "markers",
         "name": "False",
         "orientation": "v",
         "showlegend": true,
         "type": "scatter",
         "x": [
          "2017-07-26T01:00:00",
          "2017-07-25T23:00:00",
          "2017-07-23T11:00:00",
          "2017-07-24T21:00:00",
          "2017-07-25T18:00:00",
          "2017-07-10T04:00:00",
          "2017-07-14T12:00:00",
          "2017-07-11T07:00:00",
          "2017-07-11T22:00:00",
          "2017-07-27T19:00:00",
          "2017-07-11T22:00:00",
          "2017-06-28T23:00:00",
          "2017-06-27T11:00:00",
          "2017-06-26T22:00:00",
          "2017-06-29T17:00:00",
          "2017-06-25T15:00:00",
          "2017-06-24T03:00:00",
          "2017-06-28T04:00:00",
          "2017-06-24T20:00:00",
          "2017-07-26T15:00:00",
          "2017-07-25T18:00:00",
          "2017-07-23T02:00:00",
          "2017-07-24T14:00:00",
          "2017-06-19T04:00:00",
          "2017-08-22T19:00:00",
          "2017-07-27T21:00:00",
          "2017-07-25T18:00:00",
          "2017-09-28T04:00:00",
          "2017-07-27T21:00:00",
          "2017-07-25T23:00:00",
          "2017-07-25T23:00:00",
          "2017-07-25T18:00:00",
          "2017-07-22T07:00:00",
          "2017-07-24T14:00:00",
          "2017-07-25T23:00:00",
          "2017-07-16T06:00:00",
          "2017-07-21T02:00:00",
          "2017-07-15T12:00:00",
          "2017-07-17T19:00:00",
          "2017-07-18T08:00:00",
          "2017-08-22T19:00:00",
          "2017-07-25T17:00:00",
          "2017-07-26T18:00:00",
          "2017-07-25T23:00:00",
          "2017-07-26T20:00:00",
          "2017-07-27T11:00:00",
          "2017-07-25T23:00:00",
          "2017-07-09T22:00:00",
          "2017-07-25T18:00:00",
          "2017-07-25T18:00:00",
          "2017-07-11T12:00:00",
          "2017-07-11T22:00:00",
          "2017-07-24T21:00:00",
          "2017-07-25T21:00:00",
          "2017-07-23T08:00:00",
          "2017-07-25T17:00:00",
          "2017-07-24T19:00:00",
          "2017-07-26T23:00:00",
          "2017-07-27T11:00:00",
          "2017-07-09T22:00:00",
          "2017-07-18T14:00:00",
          "2017-07-25T18:00:00",
          "2017-07-25T18:00:00",
          "2017-07-17T06:00:00",
          "2017-07-14T12:00:00",
          "2017-07-18T00:00:00",
          "2017-07-17T21:00:00",
          "2017-07-18T14:00:00",
          "2017-07-15T14:00:00",
          "2017-07-17T10:00:00",
          "2017-09-28T04:00:00",
          "2017-07-26T15:00:00",
          "2017-07-27T19:00:00",
          "2017-07-25T18:00:00",
          "2017-07-25T17:00:00",
          "2017-07-26T20:00:00",
          "2017-07-25T18:00:00",
          "2017-07-21T15:00:00",
          "2017-07-22T04:00:00",
          "2017-07-24T17:00:00",
          "2017-07-15T23:00:00",
          "2017-07-15T12:00:00",
          "2017-07-18T11:00:00",
          "2017-07-17T19:00:00",
          "2017-07-14T10:00:00",
          "2017-07-17T01:00:00",
          "2017-08-28T12:00:00",
          "2017-07-25T21:00:00",
          "2017-07-15T16:00:00",
          "2017-07-09T03:00:00",
          "2017-07-08T07:00:00",
          "2017-06-29T17:00:00",
          "2017-06-29T03:00:00",
          "2017-06-28T04:00:00",
          "2017-07-25T21:00:00",
          "2017-07-25T18:00:00",
          "2017-06-24T22:00:00",
          "2017-06-24T07:00:00",
          "2017-06-20T09:00:00",
          "2017-06-23T12:00:00",
          "2017-06-17T23:00:00",
          "2017-06-28T04:00:00",
          "2017-06-15T17:00:00",
          "2017-07-09T03:00:00",
          "2017-06-07T18:00:00",
          "2017-09-28T04:00:00",
          "2017-07-25T21:00:00",
          "2017-07-23T11:00:00",
          "2017-07-24T21:00:00",
          "2017-07-15T00:00:00",
          "2017-07-15T16:00:00",
          "2017-07-09T03:00:00",
          "2017-07-18T00:00:00",
          "2017-07-11T07:00:00",
          "2017-07-23T08:00:00",
          "2017-07-26T18:00:00",
          "2017-07-25T18:00:00",
          "2017-07-09T22:00:00",
          "2017-07-16T01:00:00",
          "2017-07-18T11:00:00",
          "2017-07-08T22:00:00",
          "2017-06-29T13:00:00",
          "2017-06-27T11:00:00",
          "2017-06-27T20:00:00",
          "2017-06-27T00:00:00"
         ],
         "xaxis": "x",
         "y": [
          1197.99,
          1197.99,
          489.99,
          489.99,
          489.99,
          499.99,
          499.99,
          499.99,
          499.99,
          3050,
          2999.99,
          2999.99,
          2999.99,
          2999.99,
          2999.99,
          2999.99,
          2999.99,
          2999.99,
          2999.99,
          3040,
          3040,
          3099.52,
          3099.52,
          3099.52,
          3099.18,
          3050,
          3050,
          2998,
          1898.95,
          2197.99,
          2197.99,
          1972.95,
          1997.95,
          1997.95,
          2197.99,
          1998.95,
          1998.95,
          1998.95,
          1998.95,
          1998.95,
          1755.95,
          1982.95,
          1982.95,
          1982.95,
          1900,
          1900,
          2197.99,
          2016.95,
          723.6,
          619.96,
          619.96,
          619.96,
          798,
          798,
          629.99,
          629.99,
          629.99,
          629.99,
          629.99,
          629.99,
          629.99,
          629.99,
          600,
          699.95,
          848,
          848,
          450,
          450,
          746.24,
          550,
          789.99,
          789.99,
          789.99,
          789.99,
          798,
          798,
          798,
          798,
          798,
          798,
          798,
          798,
          798,
          798,
          798,
          798,
          898,
          998,
          998,
          998,
          998,
          998,
          998,
          998,
          998,
          998,
          1098,
          1098,
          1098,
          1098,
          1098,
          998,
          1098,
          1295.2,
          1198,
          1099,
          998,
          998,
          998,
          998,
          998,
          998,
          998,
          998,
          998,
          998,
          998,
          998,
          998,
          998,
          998,
          998,
          998,
          998,
          998
         ],
         "yaxis": "y"
        }
       ],
       "layout": {
        "font": {
         "size": 12
        },
        "legend": {
         "title": {
          "text": "On-Sale"
         },
         "tracegroupgap": 0
        },
        "margin": {
         "t": 60
        },
        "template": {
         "data": {
          "bar": [
           {
            "error_x": {
             "color": "#2a3f5f"
            },
            "error_y": {
             "color": "#2a3f5f"
            },
            "marker": {
             "line": {
              "color": "#E5ECF6",
              "width": 0.5
             }
            },
            "type": "bar"
           }
          ],
          "barpolar": [
           {
            "marker": {
             "line": {
              "color": "#E5ECF6",
              "width": 0.5
             }
            },
            "type": "barpolar"
           }
          ],
          "carpet": [
           {
            "aaxis": {
             "endlinecolor": "#2a3f5f",
             "gridcolor": "white",
             "linecolor": "white",
             "minorgridcolor": "white",
             "startlinecolor": "#2a3f5f"
            },
            "baxis": {
             "endlinecolor": "#2a3f5f",
             "gridcolor": "white",
             "linecolor": "white",
             "minorgridcolor": "white",
             "startlinecolor": "#2a3f5f"
            },
            "type": "carpet"
           }
          ],
          "choropleth": [
           {
            "colorbar": {
             "outlinewidth": 0,
             "ticks": ""
            },
            "type": "choropleth"
           }
          ],
          "contour": [
           {
            "colorbar": {
             "outlinewidth": 0,
             "ticks": ""
            },
            "colorscale": [
             [
              0,
              "#0d0887"
             ],
             [
              0.1111111111111111,
              "#46039f"
             ],
             [
              0.2222222222222222,
              "#7201a8"
             ],
             [
              0.3333333333333333,
              "#9c179e"
             ],
             [
              0.4444444444444444,
              "#bd3786"
             ],
             [
              0.5555555555555556,
              "#d8576b"
             ],
             [
              0.6666666666666666,
              "#ed7953"
             ],
             [
              0.7777777777777778,
              "#fb9f3a"
             ],
             [
              0.8888888888888888,
              "#fdca26"
             ],
             [
              1,
              "#f0f921"
             ]
            ],
            "type": "contour"
           }
          ],
          "contourcarpet": [
           {
            "colorbar": {
             "outlinewidth": 0,
             "ticks": ""
            },
            "type": "contourcarpet"
           }
          ],
          "heatmap": [
           {
            "colorbar": {
             "outlinewidth": 0,
             "ticks": ""
            },
            "colorscale": [
             [
              0,
              "#0d0887"
             ],
             [
              0.1111111111111111,
              "#46039f"
             ],
             [
              0.2222222222222222,
              "#7201a8"
             ],
             [
              0.3333333333333333,
              "#9c179e"
             ],
             [
              0.4444444444444444,
              "#bd3786"
             ],
             [
              0.5555555555555556,
              "#d8576b"
             ],
             [
              0.6666666666666666,
              "#ed7953"
             ],
             [
              0.7777777777777778,
              "#fb9f3a"
             ],
             [
              0.8888888888888888,
              "#fdca26"
             ],
             [
              1,
              "#f0f921"
             ]
            ],
            "type": "heatmap"
           }
          ],
          "heatmapgl": [
           {
            "colorbar": {
             "outlinewidth": 0,
             "ticks": ""
            },
            "colorscale": [
             [
              0,
              "#0d0887"
             ],
             [
              0.1111111111111111,
              "#46039f"
             ],
             [
              0.2222222222222222,
              "#7201a8"
             ],
             [
              0.3333333333333333,
              "#9c179e"
             ],
             [
              0.4444444444444444,
              "#bd3786"
             ],
             [
              0.5555555555555556,
              "#d8576b"
             ],
             [
              0.6666666666666666,
              "#ed7953"
             ],
             [
              0.7777777777777778,
              "#fb9f3a"
             ],
             [
              0.8888888888888888,
              "#fdca26"
             ],
             [
              1,
              "#f0f921"
             ]
            ],
            "type": "heatmapgl"
           }
          ],
          "histogram": [
           {
            "marker": {
             "colorbar": {
              "outlinewidth": 0,
              "ticks": ""
             }
            },
            "type": "histogram"
           }
          ],
          "histogram2d": [
           {
            "colorbar": {
             "outlinewidth": 0,
             "ticks": ""
            },
            "colorscale": [
             [
              0,
              "#0d0887"
             ],
             [
              0.1111111111111111,
              "#46039f"
             ],
             [
              0.2222222222222222,
              "#7201a8"
             ],
             [
              0.3333333333333333,
              "#9c179e"
             ],
             [
              0.4444444444444444,
              "#bd3786"
             ],
             [
              0.5555555555555556,
              "#d8576b"
             ],
             [
              0.6666666666666666,
              "#ed7953"
             ],
             [
              0.7777777777777778,
              "#fb9f3a"
             ],
             [
              0.8888888888888888,
              "#fdca26"
             ],
             [
              1,
              "#f0f921"
             ]
            ],
            "type": "histogram2d"
           }
          ],
          "histogram2dcontour": [
           {
            "colorbar": {
             "outlinewidth": 0,
             "ticks": ""
            },
            "colorscale": [
             [
              0,
              "#0d0887"
             ],
             [
              0.1111111111111111,
              "#46039f"
             ],
             [
              0.2222222222222222,
              "#7201a8"
             ],
             [
              0.3333333333333333,
              "#9c179e"
             ],
             [
              0.4444444444444444,
              "#bd3786"
             ],
             [
              0.5555555555555556,
              "#d8576b"
             ],
             [
              0.6666666666666666,
              "#ed7953"
             ],
             [
              0.7777777777777778,
              "#fb9f3a"
             ],
             [
              0.8888888888888888,
              "#fdca26"
             ],
             [
              1,
              "#f0f921"
             ]
            ],
            "type": "histogram2dcontour"
           }
          ],
          "mesh3d": [
           {
            "colorbar": {
             "outlinewidth": 0,
             "ticks": ""
            },
            "type": "mesh3d"
           }
          ],
          "parcoords": [
           {
            "line": {
             "colorbar": {
              "outlinewidth": 0,
              "ticks": ""
             }
            },
            "type": "parcoords"
           }
          ],
          "pie": [
           {
            "automargin": true,
            "type": "pie"
           }
          ],
          "scatter": [
           {
            "marker": {
             "colorbar": {
              "outlinewidth": 0,
              "ticks": ""
             }
            },
            "type": "scatter"
           }
          ],
          "scatter3d": [
           {
            "line": {
             "colorbar": {
              "outlinewidth": 0,
              "ticks": ""
             }
            },
            "marker": {
             "colorbar": {
              "outlinewidth": 0,
              "ticks": ""
             }
            },
            "type": "scatter3d"
           }
          ],
          "scattercarpet": [
           {
            "marker": {
             "colorbar": {
              "outlinewidth": 0,
              "ticks": ""
             }
            },
            "type": "scattercarpet"
           }
          ],
          "scattergeo": [
           {
            "marker": {
             "colorbar": {
              "outlinewidth": 0,
              "ticks": ""
             }
            },
            "type": "scattergeo"
           }
          ],
          "scattergl": [
           {
            "marker": {
             "colorbar": {
              "outlinewidth": 0,
              "ticks": ""
             }
            },
            "type": "scattergl"
           }
          ],
          "scattermapbox": [
           {
            "marker": {
             "colorbar": {
              "outlinewidth": 0,
              "ticks": ""
             }
            },
            "type": "scattermapbox"
           }
          ],
          "scatterpolar": [
           {
            "marker": {
             "colorbar": {
              "outlinewidth": 0,
              "ticks": ""
             }
            },
            "type": "scatterpolar"
           }
          ],
          "scatterpolargl": [
           {
            "marker": {
             "colorbar": {
              "outlinewidth": 0,
              "ticks": ""
             }
            },
            "type": "scatterpolargl"
           }
          ],
          "scatterternary": [
           {
            "marker": {
             "colorbar": {
              "outlinewidth": 0,
              "ticks": ""
             }
            },
            "type": "scatterternary"
           }
          ],
          "surface": [
           {
            "colorbar": {
             "outlinewidth": 0,
             "ticks": ""
            },
            "colorscale": [
             [
              0,
              "#0d0887"
             ],
             [
              0.1111111111111111,
              "#46039f"
             ],
             [
              0.2222222222222222,
              "#7201a8"
             ],
             [
              0.3333333333333333,
              "#9c179e"
             ],
             [
              0.4444444444444444,
              "#bd3786"
             ],
             [
              0.5555555555555556,
              "#d8576b"
             ],
             [
              0.6666666666666666,
              "#ed7953"
             ],
             [
              0.7777777777777778,
              "#fb9f3a"
             ],
             [
              0.8888888888888888,
              "#fdca26"
             ],
             [
              1,
              "#f0f921"
             ]
            ],
            "type": "surface"
           }
          ],
          "table": [
           {
            "cells": {
             "fill": {
              "color": "#EBF0F8"
             },
             "line": {
              "color": "white"
             }
            },
            "header": {
             "fill": {
              "color": "#C8D4E3"
             },
             "line": {
              "color": "white"
             }
            },
            "type": "table"
           }
          ]
         },
         "layout": {
          "annotationdefaults": {
           "arrowcolor": "#2a3f5f",
           "arrowhead": 0,
           "arrowwidth": 1
          },
          "coloraxis": {
           "colorbar": {
            "outlinewidth": 0,
            "ticks": ""
           }
          },
          "colorscale": {
           "diverging": [
            [
             0,
             "#8e0152"
            ],
            [
             0.1,
             "#c51b7d"
            ],
            [
             0.2,
             "#de77ae"
            ],
            [
             0.3,
             "#f1b6da"
            ],
            [
             0.4,
             "#fde0ef"
            ],
            [
             0.5,
             "#f7f7f7"
            ],
            [
             0.6,
             "#e6f5d0"
            ],
            [
             0.7,
             "#b8e186"
            ],
            [
             0.8,
             "#7fbc41"
            ],
            [
             0.9,
             "#4d9221"
            ],
            [
             1,
             "#276419"
            ]
           ],
           "sequential": [
            [
             0,
             "#0d0887"
            ],
            [
             0.1111111111111111,
             "#46039f"
            ],
            [
             0.2222222222222222,
             "#7201a8"
            ],
            [
             0.3333333333333333,
             "#9c179e"
            ],
            [
             0.4444444444444444,
             "#bd3786"
            ],
            [
             0.5555555555555556,
             "#d8576b"
            ],
            [
             0.6666666666666666,
             "#ed7953"
            ],
            [
             0.7777777777777778,
             "#fb9f3a"
            ],
            [
             0.8888888888888888,
             "#fdca26"
            ],
            [
             1,
             "#f0f921"
            ]
           ],
           "sequentialminus": [
            [
             0,
             "#0d0887"
            ],
            [
             0.1111111111111111,
             "#46039f"
            ],
            [
             0.2222222222222222,
             "#7201a8"
            ],
            [
             0.3333333333333333,
             "#9c179e"
            ],
            [
             0.4444444444444444,
             "#bd3786"
            ],
            [
             0.5555555555555556,
             "#d8576b"
            ],
            [
             0.6666666666666666,
             "#ed7953"
            ],
            [
             0.7777777777777778,
             "#fb9f3a"
            ],
            [
             0.8888888888888888,
             "#fdca26"
            ],
            [
             1,
             "#f0f921"
            ]
           ]
          },
          "colorway": [
           "#636efa",
           "#EF553B",
           "#00cc96",
           "#ab63fa",
           "#FFA15A",
           "#19d3f3",
           "#FF6692",
           "#B6E880",
           "#FF97FF",
           "#FECB52"
          ],
          "font": {
           "color": "#2a3f5f"
          },
          "geo": {
           "bgcolor": "white",
           "lakecolor": "white",
           "landcolor": "#E5ECF6",
           "showlakes": true,
           "showland": true,
           "subunitcolor": "white"
          },
          "hoverlabel": {
           "align": "left"
          },
          "hovermode": "closest",
          "mapbox": {
           "style": "light"
          },
          "paper_bgcolor": "white",
          "plot_bgcolor": "#E5ECF6",
          "polar": {
           "angularaxis": {
            "gridcolor": "white",
            "linecolor": "white",
            "ticks": ""
           },
           "bgcolor": "#E5ECF6",
           "radialaxis": {
            "gridcolor": "white",
            "linecolor": "white",
            "ticks": ""
           }
          },
          "scene": {
           "xaxis": {
            "backgroundcolor": "#E5ECF6",
            "gridcolor": "white",
            "gridwidth": 2,
            "linecolor": "white",
            "showbackground": true,
            "ticks": "",
            "zerolinecolor": "white"
           },
           "yaxis": {
            "backgroundcolor": "#E5ECF6",
            "gridcolor": "white",
            "gridwidth": 2,
            "linecolor": "white",
            "showbackground": true,
            "ticks": "",
            "zerolinecolor": "white"
           },
           "zaxis": {
            "backgroundcolor": "#E5ECF6",
            "gridcolor": "white",
            "gridwidth": 2,
            "linecolor": "white",
            "showbackground": true,
            "ticks": "",
            "zerolinecolor": "white"
           }
          },
          "shapedefaults": {
           "line": {
            "color": "#2a3f5f"
           }
          },
          "ternary": {
           "aaxis": {
            "gridcolor": "white",
            "linecolor": "white",
            "ticks": ""
           },
           "baxis": {
            "gridcolor": "white",
            "linecolor": "white",
            "ticks": ""
           },
           "bgcolor": "#E5ECF6",
           "caxis": {
            "gridcolor": "white",
            "linecolor": "white",
            "ticks": ""
           }
          },
          "title": {
           "x": 0.05
          },
          "xaxis": {
           "automargin": true,
           "gridcolor": "white",
           "linecolor": "white",
           "ticks": "",
           "title": {
            "standoff": 15
           },
           "zerolinecolor": "white",
           "zerolinewidth": 2
          },
          "yaxis": {
           "automargin": true,
           "gridcolor": "white",
           "linecolor": "white",
           "ticks": "",
           "title": {
            "standoff": 15
           },
           "zerolinecolor": "white",
           "zerolinewidth": 2
          }
         }
        },
        "title": {
         "text": "eBay"
        },
        "xaxis": {
         "anchor": "y",
         "domain": [
          0,
          1
         ],
         "title": {
          "text": ""
         }
        },
        "yaxis": {
         "anchor": "x",
         "domain": [
          0,
          1
         ],
         "tickprefix": "$",
         "title": {
          "text": ""
         }
        }
       }
      },
      "text/html": [
       "<div>\n",
       "        \n",
       "        \n",
       "            <div id=\"0818361f-6124-44c0-a05d-d500d88a62e6\" class=\"plotly-graph-div\" style=\"height:525px; width:100%;\"></div>\n",
       "            <script type=\"text/javascript\">\n",
       "                require([\"plotly\"], function(Plotly) {\n",
       "                    window.PLOTLYENV=window.PLOTLYENV || {};\n",
       "                    \n",
       "                if (document.getElementById(\"0818361f-6124-44c0-a05d-d500d88a62e6\")) {\n",
       "                    Plotly.newPlot(\n",
       "                        '0818361f-6124-44c0-a05d-d500d88a62e6',\n",
       "                        [{\"hovertemplate\": \"On-Sale=False<br>Date-Seen=%{x}<br>Price-Min=%{y}<extra></extra>\", \"legendgroup\": \"False\", \"marker\": {\"color\": \"#636efa\", \"line\": {\"color\": \"DarkSlateGrey\", \"width\": 1}, \"size\": 7, \"symbol\": \"circle\"}, \"mode\": \"markers\", \"name\": \"False\", \"orientation\": \"v\", \"showlegend\": true, \"type\": \"scatter\", \"x\": [\"2017-07-26T01:00:00\", \"2017-07-25T23:00:00\", \"2017-07-23T11:00:00\", \"2017-07-24T21:00:00\", \"2017-07-25T18:00:00\", \"2017-07-10T04:00:00\", \"2017-07-14T12:00:00\", \"2017-07-11T07:00:00\", \"2017-07-11T22:00:00\", \"2017-07-27T19:00:00\", \"2017-07-11T22:00:00\", \"2017-06-28T23:00:00\", \"2017-06-27T11:00:00\", \"2017-06-26T22:00:00\", \"2017-06-29T17:00:00\", \"2017-06-25T15:00:00\", \"2017-06-24T03:00:00\", \"2017-06-28T04:00:00\", \"2017-06-24T20:00:00\", \"2017-07-26T15:00:00\", \"2017-07-25T18:00:00\", \"2017-07-23T02:00:00\", \"2017-07-24T14:00:00\", \"2017-06-19T04:00:00\", \"2017-08-22T19:00:00\", \"2017-07-27T21:00:00\", \"2017-07-25T18:00:00\", \"2017-09-28T04:00:00\", \"2017-07-27T21:00:00\", \"2017-07-25T23:00:00\", \"2017-07-25T23:00:00\", \"2017-07-25T18:00:00\", \"2017-07-22T07:00:00\", \"2017-07-24T14:00:00\", \"2017-07-25T23:00:00\", \"2017-07-16T06:00:00\", \"2017-07-21T02:00:00\", \"2017-07-15T12:00:00\", \"2017-07-17T19:00:00\", \"2017-07-18T08:00:00\", \"2017-08-22T19:00:00\", \"2017-07-25T17:00:00\", \"2017-07-26T18:00:00\", \"2017-07-25T23:00:00\", \"2017-07-26T20:00:00\", \"2017-07-27T11:00:00\", \"2017-07-25T23:00:00\", \"2017-07-09T22:00:00\", \"2017-07-25T18:00:00\", \"2017-07-25T18:00:00\", \"2017-07-11T12:00:00\", \"2017-07-11T22:00:00\", \"2017-07-24T21:00:00\", \"2017-07-25T21:00:00\", \"2017-07-23T08:00:00\", \"2017-07-25T17:00:00\", \"2017-07-24T19:00:00\", \"2017-07-26T23:00:00\", \"2017-07-27T11:00:00\", \"2017-07-09T22:00:00\", \"2017-07-18T14:00:00\", \"2017-07-25T18:00:00\", \"2017-07-25T18:00:00\", \"2017-07-17T06:00:00\", \"2017-07-14T12:00:00\", \"2017-07-18T00:00:00\", \"2017-07-17T21:00:00\", \"2017-07-18T14:00:00\", \"2017-07-15T14:00:00\", \"2017-07-17T10:00:00\", \"2017-09-28T04:00:00\", \"2017-07-26T15:00:00\", \"2017-07-27T19:00:00\", \"2017-07-25T18:00:00\", \"2017-07-25T17:00:00\", \"2017-07-26T20:00:00\", \"2017-07-25T18:00:00\", \"2017-07-21T15:00:00\", \"2017-07-22T04:00:00\", \"2017-07-24T17:00:00\", \"2017-07-15T23:00:00\", \"2017-07-15T12:00:00\", \"2017-07-18T11:00:00\", \"2017-07-17T19:00:00\", \"2017-07-14T10:00:00\", \"2017-07-17T01:00:00\", \"2017-08-28T12:00:00\", \"2017-07-25T21:00:00\", \"2017-07-15T16:00:00\", \"2017-07-09T03:00:00\", \"2017-07-08T07:00:00\", \"2017-06-29T17:00:00\", \"2017-06-29T03:00:00\", \"2017-06-28T04:00:00\", \"2017-07-25T21:00:00\", \"2017-07-25T18:00:00\", \"2017-06-24T22:00:00\", \"2017-06-24T07:00:00\", \"2017-06-20T09:00:00\", \"2017-06-23T12:00:00\", \"2017-06-17T23:00:00\", \"2017-06-28T04:00:00\", \"2017-06-15T17:00:00\", \"2017-07-09T03:00:00\", \"2017-06-07T18:00:00\", \"2017-09-28T04:00:00\", \"2017-07-25T21:00:00\", \"2017-07-23T11:00:00\", \"2017-07-24T21:00:00\", \"2017-07-15T00:00:00\", \"2017-07-15T16:00:00\", \"2017-07-09T03:00:00\", \"2017-07-18T00:00:00\", \"2017-07-11T07:00:00\", \"2017-07-23T08:00:00\", \"2017-07-26T18:00:00\", \"2017-07-25T18:00:00\", \"2017-07-09T22:00:00\", \"2017-07-16T01:00:00\", \"2017-07-18T11:00:00\", \"2017-07-08T22:00:00\", \"2017-06-29T13:00:00\", \"2017-06-27T11:00:00\", \"2017-06-27T20:00:00\", \"2017-06-27T00:00:00\"], \"xaxis\": \"x\", \"y\": [1197.99, 1197.99, 489.99, 489.99, 489.99, 499.99, 499.99, 499.99, 499.99, 3050.0, 2999.99, 2999.99, 2999.99, 2999.99, 2999.99, 2999.99, 2999.99, 2999.99, 2999.99, 3040.0, 3040.0, 3099.52, 3099.52, 3099.52, 3099.18, 3050.0, 3050.0, 2998.0, 1898.95, 2197.99, 2197.99, 1972.95, 1997.95, 1997.95, 2197.99, 1998.95, 1998.95, 1998.95, 1998.95, 1998.95, 1755.95, 1982.95, 1982.95, 1982.95, 1900.0, 1900.0, 2197.99, 2016.95, 723.6, 619.96, 619.96, 619.96, 798.0, 798.0, 629.99, 629.99, 629.99, 629.99, 629.99, 629.99, 629.99, 629.99, 600.0, 699.95, 848.0, 848.0, 450.0, 450.0, 746.24, 550.0, 789.99, 789.99, 789.99, 789.99, 798.0, 798.0, 798.0, 798.0, 798.0, 798.0, 798.0, 798.0, 798.0, 798.0, 798.0, 798.0, 898.0, 998.0, 998.0, 998.0, 998.0, 998.0, 998.0, 998.0, 998.0, 998.0, 1098.0, 1098.0, 1098.0, 1098.0, 1098.0, 998.0, 1098.0, 1295.2, 1198.0, 1099.0, 998.0, 998.0, 998.0, 998.0, 998.0, 998.0, 998.0, 998.0, 998.0, 998.0, 998.0, 998.0, 998.0, 998.0, 998.0, 998.0, 998.0, 998.0, 998.0], \"yaxis\": \"y\"}],\n",
       "                        {\"font\": {\"size\": 12}, \"legend\": {\"title\": {\"text\": \"On-Sale\"}, \"tracegroupgap\": 0}, \"margin\": {\"t\": 60}, \"template\": {\"data\": {\"bar\": [{\"error_x\": {\"color\": \"#2a3f5f\"}, \"error_y\": {\"color\": \"#2a3f5f\"}, \"marker\": {\"line\": {\"color\": \"#E5ECF6\", \"width\": 0.5}}, \"type\": \"bar\"}], \"barpolar\": [{\"marker\": {\"line\": {\"color\": \"#E5ECF6\", \"width\": 0.5}}, \"type\": \"barpolar\"}], \"carpet\": [{\"aaxis\": {\"endlinecolor\": \"#2a3f5f\", \"gridcolor\": \"white\", \"linecolor\": \"white\", \"minorgridcolor\": \"white\", \"startlinecolor\": \"#2a3f5f\"}, \"baxis\": {\"endlinecolor\": \"#2a3f5f\", \"gridcolor\": \"white\", \"linecolor\": \"white\", \"minorgridcolor\": \"white\", \"startlinecolor\": \"#2a3f5f\"}, \"type\": \"carpet\"}], \"choropleth\": [{\"colorbar\": {\"outlinewidth\": 0, \"ticks\": \"\"}, \"type\": \"choropleth\"}], \"contour\": [{\"colorbar\": {\"outlinewidth\": 0, \"ticks\": \"\"}, \"colorscale\": [[0.0, \"#0d0887\"], [0.1111111111111111, \"#46039f\"], [0.2222222222222222, \"#7201a8\"], [0.3333333333333333, \"#9c179e\"], [0.4444444444444444, \"#bd3786\"], [0.5555555555555556, \"#d8576b\"], [0.6666666666666666, \"#ed7953\"], [0.7777777777777778, \"#fb9f3a\"], [0.8888888888888888, \"#fdca26\"], [1.0, \"#f0f921\"]], \"type\": \"contour\"}], \"contourcarpet\": [{\"colorbar\": {\"outlinewidth\": 0, \"ticks\": \"\"}, \"type\": \"contourcarpet\"}], \"heatmap\": [{\"colorbar\": {\"outlinewidth\": 0, \"ticks\": \"\"}, \"colorscale\": [[0.0, \"#0d0887\"], [0.1111111111111111, \"#46039f\"], [0.2222222222222222, \"#7201a8\"], [0.3333333333333333, \"#9c179e\"], [0.4444444444444444, \"#bd3786\"], [0.5555555555555556, \"#d8576b\"], [0.6666666666666666, \"#ed7953\"], [0.7777777777777778, \"#fb9f3a\"], [0.8888888888888888, \"#fdca26\"], [1.0, \"#f0f921\"]], \"type\": \"heatmap\"}], \"heatmapgl\": [{\"colorbar\": {\"outlinewidth\": 0, \"ticks\": \"\"}, \"colorscale\": [[0.0, \"#0d0887\"], [0.1111111111111111, \"#46039f\"], [0.2222222222222222, \"#7201a8\"], [0.3333333333333333, \"#9c179e\"], [0.4444444444444444, \"#bd3786\"], [0.5555555555555556, \"#d8576b\"], [0.6666666666666666, \"#ed7953\"], [0.7777777777777778, \"#fb9f3a\"], [0.8888888888888888, \"#fdca26\"], [1.0, \"#f0f921\"]], \"type\": \"heatmapgl\"}], \"histogram\": [{\"marker\": {\"colorbar\": {\"outlinewidth\": 0, \"ticks\": \"\"}}, \"type\": \"histogram\"}], \"histogram2d\": [{\"colorbar\": {\"outlinewidth\": 0, \"ticks\": \"\"}, \"colorscale\": [[0.0, \"#0d0887\"], [0.1111111111111111, \"#46039f\"], [0.2222222222222222, \"#7201a8\"], [0.3333333333333333, \"#9c179e\"], [0.4444444444444444, \"#bd3786\"], [0.5555555555555556, \"#d8576b\"], [0.6666666666666666, \"#ed7953\"], [0.7777777777777778, \"#fb9f3a\"], [0.8888888888888888, \"#fdca26\"], [1.0, \"#f0f921\"]], \"type\": \"histogram2d\"}], \"histogram2dcontour\": [{\"colorbar\": {\"outlinewidth\": 0, \"ticks\": \"\"}, \"colorscale\": [[0.0, \"#0d0887\"], [0.1111111111111111, \"#46039f\"], [0.2222222222222222, \"#7201a8\"], [0.3333333333333333, \"#9c179e\"], [0.4444444444444444, \"#bd3786\"], [0.5555555555555556, \"#d8576b\"], [0.6666666666666666, \"#ed7953\"], [0.7777777777777778, \"#fb9f3a\"], [0.8888888888888888, \"#fdca26\"], [1.0, \"#f0f921\"]], \"type\": \"histogram2dcontour\"}], \"mesh3d\": [{\"colorbar\": {\"outlinewidth\": 0, \"ticks\": \"\"}, \"type\": \"mesh3d\"}], \"parcoords\": [{\"line\": {\"colorbar\": {\"outlinewidth\": 0, \"ticks\": \"\"}}, \"type\": \"parcoords\"}], \"pie\": [{\"automargin\": true, \"type\": \"pie\"}], \"scatter\": [{\"marker\": {\"colorbar\": {\"outlinewidth\": 0, \"ticks\": \"\"}}, \"type\": \"scatter\"}], \"scatter3d\": [{\"line\": {\"colorbar\": {\"outlinewidth\": 0, \"ticks\": \"\"}}, \"marker\": {\"colorbar\": {\"outlinewidth\": 0, \"ticks\": \"\"}}, \"type\": \"scatter3d\"}], \"scattercarpet\": [{\"marker\": {\"colorbar\": {\"outlinewidth\": 0, \"ticks\": \"\"}}, \"type\": \"scattercarpet\"}], \"scattergeo\": [{\"marker\": {\"colorbar\": {\"outlinewidth\": 0, \"ticks\": \"\"}}, \"type\": \"scattergeo\"}], \"scattergl\": [{\"marker\": {\"colorbar\": {\"outlinewidth\": 0, \"ticks\": \"\"}}, \"type\": \"scattergl\"}], \"scattermapbox\": [{\"marker\": {\"colorbar\": {\"outlinewidth\": 0, \"ticks\": \"\"}}, \"type\": \"scattermapbox\"}], \"scatterpolar\": [{\"marker\": {\"colorbar\": {\"outlinewidth\": 0, \"ticks\": \"\"}}, \"type\": \"scatterpolar\"}], \"scatterpolargl\": [{\"marker\": {\"colorbar\": {\"outlinewidth\": 0, \"ticks\": \"\"}}, \"type\": \"scatterpolargl\"}], \"scatterternary\": [{\"marker\": {\"colorbar\": {\"outlinewidth\": 0, \"ticks\": \"\"}}, \"type\": \"scatterternary\"}], \"surface\": [{\"colorbar\": {\"outlinewidth\": 0, \"ticks\": \"\"}, \"colorscale\": [[0.0, \"#0d0887\"], [0.1111111111111111, \"#46039f\"], [0.2222222222222222, \"#7201a8\"], [0.3333333333333333, \"#9c179e\"], [0.4444444444444444, \"#bd3786\"], [0.5555555555555556, \"#d8576b\"], [0.6666666666666666, \"#ed7953\"], [0.7777777777777778, \"#fb9f3a\"], [0.8888888888888888, \"#fdca26\"], [1.0, \"#f0f921\"]], \"type\": \"surface\"}], \"table\": [{\"cells\": {\"fill\": {\"color\": \"#EBF0F8\"}, \"line\": {\"color\": \"white\"}}, \"header\": {\"fill\": {\"color\": \"#C8D4E3\"}, \"line\": {\"color\": \"white\"}}, \"type\": \"table\"}]}, \"layout\": {\"annotationdefaults\": {\"arrowcolor\": \"#2a3f5f\", \"arrowhead\": 0, \"arrowwidth\": 1}, \"coloraxis\": {\"colorbar\": {\"outlinewidth\": 0, \"ticks\": \"\"}}, \"colorscale\": {\"diverging\": [[0, \"#8e0152\"], [0.1, \"#c51b7d\"], [0.2, \"#de77ae\"], [0.3, \"#f1b6da\"], [0.4, \"#fde0ef\"], [0.5, \"#f7f7f7\"], [0.6, \"#e6f5d0\"], [0.7, \"#b8e186\"], [0.8, \"#7fbc41\"], [0.9, \"#4d9221\"], [1, \"#276419\"]], \"sequential\": [[0.0, \"#0d0887\"], [0.1111111111111111, \"#46039f\"], [0.2222222222222222, \"#7201a8\"], [0.3333333333333333, \"#9c179e\"], [0.4444444444444444, \"#bd3786\"], [0.5555555555555556, \"#d8576b\"], [0.6666666666666666, \"#ed7953\"], [0.7777777777777778, \"#fb9f3a\"], [0.8888888888888888, \"#fdca26\"], [1.0, \"#f0f921\"]], \"sequentialminus\": [[0.0, \"#0d0887\"], [0.1111111111111111, \"#46039f\"], [0.2222222222222222, \"#7201a8\"], [0.3333333333333333, \"#9c179e\"], [0.4444444444444444, \"#bd3786\"], [0.5555555555555556, \"#d8576b\"], [0.6666666666666666, \"#ed7953\"], [0.7777777777777778, \"#fb9f3a\"], [0.8888888888888888, \"#fdca26\"], [1.0, \"#f0f921\"]]}, \"colorway\": [\"#636efa\", \"#EF553B\", \"#00cc96\", \"#ab63fa\", \"#FFA15A\", \"#19d3f3\", \"#FF6692\", \"#B6E880\", \"#FF97FF\", \"#FECB52\"], \"font\": {\"color\": \"#2a3f5f\"}, \"geo\": {\"bgcolor\": \"white\", \"lakecolor\": \"white\", \"landcolor\": \"#E5ECF6\", \"showlakes\": true, \"showland\": true, \"subunitcolor\": \"white\"}, \"hoverlabel\": {\"align\": \"left\"}, \"hovermode\": \"closest\", \"mapbox\": {\"style\": \"light\"}, \"paper_bgcolor\": \"white\", \"plot_bgcolor\": \"#E5ECF6\", \"polar\": {\"angularaxis\": {\"gridcolor\": \"white\", \"linecolor\": \"white\", \"ticks\": \"\"}, \"bgcolor\": \"#E5ECF6\", \"radialaxis\": {\"gridcolor\": \"white\", \"linecolor\": \"white\", \"ticks\": \"\"}}, \"scene\": {\"xaxis\": {\"backgroundcolor\": \"#E5ECF6\", \"gridcolor\": \"white\", \"gridwidth\": 2, \"linecolor\": \"white\", \"showbackground\": true, \"ticks\": \"\", \"zerolinecolor\": \"white\"}, \"yaxis\": {\"backgroundcolor\": \"#E5ECF6\", \"gridcolor\": \"white\", \"gridwidth\": 2, \"linecolor\": \"white\", \"showbackground\": true, \"ticks\": \"\", \"zerolinecolor\": \"white\"}, \"zaxis\": {\"backgroundcolor\": \"#E5ECF6\", \"gridcolor\": \"white\", \"gridwidth\": 2, \"linecolor\": \"white\", \"showbackground\": true, \"ticks\": \"\", \"zerolinecolor\": \"white\"}}, \"shapedefaults\": {\"line\": {\"color\": \"#2a3f5f\"}}, \"ternary\": {\"aaxis\": {\"gridcolor\": \"white\", \"linecolor\": \"white\", \"ticks\": \"\"}, \"baxis\": {\"gridcolor\": \"white\", \"linecolor\": \"white\", \"ticks\": \"\"}, \"bgcolor\": \"#E5ECF6\", \"caxis\": {\"gridcolor\": \"white\", \"linecolor\": \"white\", \"ticks\": \"\"}}, \"title\": {\"x\": 0.05}, \"xaxis\": {\"automargin\": true, \"gridcolor\": \"white\", \"linecolor\": \"white\", \"ticks\": \"\", \"title\": {\"standoff\": 15}, \"zerolinecolor\": \"white\", \"zerolinewidth\": 2}, \"yaxis\": {\"automargin\": true, \"gridcolor\": \"white\", \"linecolor\": \"white\", \"ticks\": \"\", \"title\": {\"standoff\": 15}, \"zerolinecolor\": \"white\", \"zerolinewidth\": 2}}}, \"title\": {\"text\": \"eBay\"}, \"xaxis\": {\"anchor\": \"y\", \"domain\": [0.0, 1.0], \"title\": {\"text\": \"\"}}, \"yaxis\": {\"anchor\": \"x\", \"domain\": [0.0, 1.0], \"tickprefix\": \"$\", \"title\": {\"text\": \"\"}}},\n",
       "                        {\"responsive\": true}\n",
       "                    ).then(function(){\n",
       "                            \n",
       "var gd = document.getElementById('0818361f-6124-44c0-a05d-d500d88a62e6');\n",
       "var x = new MutationObserver(function (mutations, observer) {{\n",
       "        var display = window.getComputedStyle(gd).display;\n",
       "        if (!display || display === 'none') {{\n",
       "            console.log([gd, 'removed!']);\n",
       "            Plotly.purge(gd);\n",
       "            observer.disconnect();\n",
       "        }}\n",
       "}});\n",
       "\n",
       "// Listen for the removal of the full notebook cells\n",
       "var notebookContainer = gd.closest('#notebook-container');\n",
       "if (notebookContainer) {{\n",
       "    x.observe(notebookContainer, {childList: true});\n",
       "}}\n",
       "\n",
       "// Listen for the clearing of the current output cell\n",
       "var outputEl = gd.closest('.output');\n",
       "if (outputEl) {{\n",
       "    x.observe(outputEl, {childList: true});\n",
       "}}\n",
       "\n",
       "                        })\n",
       "                };\n",
       "                });\n",
       "            </script>\n",
       "        </div>"
      ]
     },
     "metadata": {},
     "output_type": "display_data"
    },
    {
     "data": {
      "application/vnd.plotly.v1+json": {
       "config": {
        "plotlyServerURL": "https://plot.ly"
       },
       "data": [
        {
         "hovertemplate": "On-Sale=False<br>Date-Seen=%{x}<br>Price-Min=%{y}<extra></extra>",
         "legendgroup": "False",
         "marker": {
          "color": "#636efa",
          "line": {
           "color": "DarkSlateGrey",
           "width": 1
          },
          "size": 7,
          "symbol": "circle"
         },
         "mode": "markers",
         "name": "False",
         "orientation": "v",
         "showlegend": true,
         "type": "scatter",
         "x": [
          "2018-04-26T17:00:00",
          "2018-06-01T15:00:00",
          "2017-08-29T12:00:00",
          "2018-05-04T11:00:00",
          "2018-01-09T20:00:00",
          "2017-09-24T03:00:00",
          "2018-01-09T20:00:00",
          "2017-12-06T22:00:00",
          "2017-12-06T20:00:00",
          "2017-12-04T21:00:00",
          "2017-11-18T10:00:00",
          "2017-09-24T03:00:00",
          "2017-08-29T12:00:00",
          "2017-08-22T04:00:00",
          "2017-08-19T02:00:00",
          "2018-04-26T17:00:00",
          "2018-06-01T09:00:00",
          "2018-04-26T17:00:00",
          "2018-07-25T18:00:00",
          "2018-03-31T19:00:00",
          "2018-06-01T09:00:00",
          "2017-11-18T13:00:00",
          "2017-12-06T20:00:00",
          "2017-08-29T12:00:00",
          "2017-08-19T05:00:00",
          "2017-12-04T21:00:00",
          "2017-08-22T10:00:00",
          "2018-01-09T20:00:00",
          "2017-10-24T08:00:00",
          "2018-05-06T17:00:00",
          "2017-12-06T22:00:00",
          "2018-03-31T19:00:00",
          "2018-04-26T17:00:00",
          "2018-05-06T17:00:00",
          "2018-04-26T17:00:00",
          "2018-01-27T10:00:00",
          "2018-04-10T14:00:00",
          "2018-04-26T17:00:00",
          "2018-06-01T15:00:00",
          "2017-12-07T23:00:00",
          "2017-12-08T01:00:00",
          "2017-12-05T10:00:00",
          "2017-08-22T10:00:00",
          "2018-01-27T10:00:00",
          "2018-01-09T20:00:00",
          "2017-09-24T10:00:00",
          "2017-08-19T02:00:00",
          "2018-04-26T17:00:00",
          "2017-12-06T20:00:00",
          "2017-08-29T12:00:00",
          "2017-08-19T05:00:00",
          "2018-05-04T11:00:00",
          "2017-12-04T21:00:00",
          "2017-08-22T10:00:00",
          "2018-01-09T20:00:00",
          "2017-12-06T22:00:00",
          "2017-09-24T03:00:00",
          "2017-11-18T10:00:00"
         ],
         "xaxis": "x",
         "y": [
          2998,
          2998,
          2998,
          2998,
          2998,
          2998,
          3298,
          3298,
          3298,
          3298,
          3298,
          3298,
          3298,
          3298,
          3298,
          2197.99,
          2197.99,
          1498,
          1498,
          1498,
          1498,
          797.99,
          797.99,
          797.99,
          797.99,
          797.99,
          797.99,
          797.99,
          797.99,
          797.99,
          797.99,
          1197.99,
          1296.99,
          1296.99,
          1549.95,
          1549.95,
          2997.99,
          2997.99,
          2997.99,
          2997.99,
          2997.99,
          2997.99,
          2997.99,
          2997.99,
          2997.99,
          2997.99,
          2997.99,
          1198,
          1198,
          1198,
          1198,
          1198,
          1198,
          1198,
          1198,
          1198,
          1198,
          1198
         ],
         "yaxis": "y"
        },
        {
         "hovertemplate": "On-Sale=True<br>Date-Seen=%{x}<br>Price-Min=%{y}<extra></extra>",
         "legendgroup": "True",
         "marker": {
          "color": "#EF553B",
          "line": {
           "color": "DarkSlateGrey",
           "width": 1
          },
          "size": 7,
          "symbol": "circle"
         },
         "mode": "markers",
         "name": "True",
         "orientation": "v",
         "showlegend": true,
         "type": "scatter",
         "x": [
          "2017-11-18T10:00:00",
          "2018-04-26T17:00:00",
          "2018-06-01T15:00:00",
          "2017-12-06T20:00:00",
          "2018-05-04T11:00:00",
          "2017-12-04T21:00:00",
          "2017-12-06T22:00:00",
          "2018-04-26T17:00:00",
          "2018-06-01T09:00:00",
          "2018-06-01T09:00:00",
          "2017-12-06T22:00:00",
          "2017-12-06T20:00:00",
          "2017-12-04T21:00:00",
          "2017-11-18T13:00:00",
          "2018-01-27T10:00:00",
          "2018-06-01T15:00:00",
          "2018-01-09T20:00:00",
          "2018-04-26T17:00:00",
          "2017-12-07T23:00:00",
          "2017-12-08T01:00:00",
          "2017-12-05T10:00:00",
          "2017-09-24T10:00:00",
          "2017-08-22T10:00:00",
          "2017-08-19T02:00:00",
          "2018-04-26T17:00:00",
          "2017-08-29T12:00:00",
          "2017-08-19T05:00:00",
          "2018-05-04T11:00:00",
          "2017-09-24T03:00:00",
          "2017-08-22T10:00:00",
          "2018-01-09T20:00:00",
          "2017-12-06T22:00:00",
          "2017-12-06T20:00:00",
          "2017-12-04T21:00:00",
          "2017-11-18T10:00:00"
         ],
         "xaxis": "x",
         "y": [
          2798,
          2498,
          2498,
          2498,
          2498,
          2498,
          2498,
          2097.99,
          1997.99,
          1298,
          597.99,
          597.99,
          597.99,
          597.99,
          1697.99,
          2797.99,
          1997.99,
          1797.99,
          1797.99,
          1797.99,
          1797.99,
          2197.99,
          2197.99,
          2197.99,
          898,
          898,
          898,
          898,
          898,
          998,
          798,
          798,
          798,
          798,
          798
         ],
         "yaxis": "y"
        }
       ],
       "layout": {
        "font": {
         "size": 12
        },
        "legend": {
         "title": {
          "text": "On-Sale"
         },
         "tracegroupgap": 0
        },
        "margin": {
         "t": 60
        },
        "template": {
         "data": {
          "bar": [
           {
            "error_x": {
             "color": "#2a3f5f"
            },
            "error_y": {
             "color": "#2a3f5f"
            },
            "marker": {
             "line": {
              "color": "#E5ECF6",
              "width": 0.5
             }
            },
            "type": "bar"
           }
          ],
          "barpolar": [
           {
            "marker": {
             "line": {
              "color": "#E5ECF6",
              "width": 0.5
             }
            },
            "type": "barpolar"
           }
          ],
          "carpet": [
           {
            "aaxis": {
             "endlinecolor": "#2a3f5f",
             "gridcolor": "white",
             "linecolor": "white",
             "minorgridcolor": "white",
             "startlinecolor": "#2a3f5f"
            },
            "baxis": {
             "endlinecolor": "#2a3f5f",
             "gridcolor": "white",
             "linecolor": "white",
             "minorgridcolor": "white",
             "startlinecolor": "#2a3f5f"
            },
            "type": "carpet"
           }
          ],
          "choropleth": [
           {
            "colorbar": {
             "outlinewidth": 0,
             "ticks": ""
            },
            "type": "choropleth"
           }
          ],
          "contour": [
           {
            "colorbar": {
             "outlinewidth": 0,
             "ticks": ""
            },
            "colorscale": [
             [
              0,
              "#0d0887"
             ],
             [
              0.1111111111111111,
              "#46039f"
             ],
             [
              0.2222222222222222,
              "#7201a8"
             ],
             [
              0.3333333333333333,
              "#9c179e"
             ],
             [
              0.4444444444444444,
              "#bd3786"
             ],
             [
              0.5555555555555556,
              "#d8576b"
             ],
             [
              0.6666666666666666,
              "#ed7953"
             ],
             [
              0.7777777777777778,
              "#fb9f3a"
             ],
             [
              0.8888888888888888,
              "#fdca26"
             ],
             [
              1,
              "#f0f921"
             ]
            ],
            "type": "contour"
           }
          ],
          "contourcarpet": [
           {
            "colorbar": {
             "outlinewidth": 0,
             "ticks": ""
            },
            "type": "contourcarpet"
           }
          ],
          "heatmap": [
           {
            "colorbar": {
             "outlinewidth": 0,
             "ticks": ""
            },
            "colorscale": [
             [
              0,
              "#0d0887"
             ],
             [
              0.1111111111111111,
              "#46039f"
             ],
             [
              0.2222222222222222,
              "#7201a8"
             ],
             [
              0.3333333333333333,
              "#9c179e"
             ],
             [
              0.4444444444444444,
              "#bd3786"
             ],
             [
              0.5555555555555556,
              "#d8576b"
             ],
             [
              0.6666666666666666,
              "#ed7953"
             ],
             [
              0.7777777777777778,
              "#fb9f3a"
             ],
             [
              0.8888888888888888,
              "#fdca26"
             ],
             [
              1,
              "#f0f921"
             ]
            ],
            "type": "heatmap"
           }
          ],
          "heatmapgl": [
           {
            "colorbar": {
             "outlinewidth": 0,
             "ticks": ""
            },
            "colorscale": [
             [
              0,
              "#0d0887"
             ],
             [
              0.1111111111111111,
              "#46039f"
             ],
             [
              0.2222222222222222,
              "#7201a8"
             ],
             [
              0.3333333333333333,
              "#9c179e"
             ],
             [
              0.4444444444444444,
              "#bd3786"
             ],
             [
              0.5555555555555556,
              "#d8576b"
             ],
             [
              0.6666666666666666,
              "#ed7953"
             ],
             [
              0.7777777777777778,
              "#fb9f3a"
             ],
             [
              0.8888888888888888,
              "#fdca26"
             ],
             [
              1,
              "#f0f921"
             ]
            ],
            "type": "heatmapgl"
           }
          ],
          "histogram": [
           {
            "marker": {
             "colorbar": {
              "outlinewidth": 0,
              "ticks": ""
             }
            },
            "type": "histogram"
           }
          ],
          "histogram2d": [
           {
            "colorbar": {
             "outlinewidth": 0,
             "ticks": ""
            },
            "colorscale": [
             [
              0,
              "#0d0887"
             ],
             [
              0.1111111111111111,
              "#46039f"
             ],
             [
              0.2222222222222222,
              "#7201a8"
             ],
             [
              0.3333333333333333,
              "#9c179e"
             ],
             [
              0.4444444444444444,
              "#bd3786"
             ],
             [
              0.5555555555555556,
              "#d8576b"
             ],
             [
              0.6666666666666666,
              "#ed7953"
             ],
             [
              0.7777777777777778,
              "#fb9f3a"
             ],
             [
              0.8888888888888888,
              "#fdca26"
             ],
             [
              1,
              "#f0f921"
             ]
            ],
            "type": "histogram2d"
           }
          ],
          "histogram2dcontour": [
           {
            "colorbar": {
             "outlinewidth": 0,
             "ticks": ""
            },
            "colorscale": [
             [
              0,
              "#0d0887"
             ],
             [
              0.1111111111111111,
              "#46039f"
             ],
             [
              0.2222222222222222,
              "#7201a8"
             ],
             [
              0.3333333333333333,
              "#9c179e"
             ],
             [
              0.4444444444444444,
              "#bd3786"
             ],
             [
              0.5555555555555556,
              "#d8576b"
             ],
             [
              0.6666666666666666,
              "#ed7953"
             ],
             [
              0.7777777777777778,
              "#fb9f3a"
             ],
             [
              0.8888888888888888,
              "#fdca26"
             ],
             [
              1,
              "#f0f921"
             ]
            ],
            "type": "histogram2dcontour"
           }
          ],
          "mesh3d": [
           {
            "colorbar": {
             "outlinewidth": 0,
             "ticks": ""
            },
            "type": "mesh3d"
           }
          ],
          "parcoords": [
           {
            "line": {
             "colorbar": {
              "outlinewidth": 0,
              "ticks": ""
             }
            },
            "type": "parcoords"
           }
          ],
          "pie": [
           {
            "automargin": true,
            "type": "pie"
           }
          ],
          "scatter": [
           {
            "marker": {
             "colorbar": {
              "outlinewidth": 0,
              "ticks": ""
             }
            },
            "type": "scatter"
           }
          ],
          "scatter3d": [
           {
            "line": {
             "colorbar": {
              "outlinewidth": 0,
              "ticks": ""
             }
            },
            "marker": {
             "colorbar": {
              "outlinewidth": 0,
              "ticks": ""
             }
            },
            "type": "scatter3d"
           }
          ],
          "scattercarpet": [
           {
            "marker": {
             "colorbar": {
              "outlinewidth": 0,
              "ticks": ""
             }
            },
            "type": "scattercarpet"
           }
          ],
          "scattergeo": [
           {
            "marker": {
             "colorbar": {
              "outlinewidth": 0,
              "ticks": ""
             }
            },
            "type": "scattergeo"
           }
          ],
          "scattergl": [
           {
            "marker": {
             "colorbar": {
              "outlinewidth": 0,
              "ticks": ""
             }
            },
            "type": "scattergl"
           }
          ],
          "scattermapbox": [
           {
            "marker": {
             "colorbar": {
              "outlinewidth": 0,
              "ticks": ""
             }
            },
            "type": "scattermapbox"
           }
          ],
          "scatterpolar": [
           {
            "marker": {
             "colorbar": {
              "outlinewidth": 0,
              "ticks": ""
             }
            },
            "type": "scatterpolar"
           }
          ],
          "scatterpolargl": [
           {
            "marker": {
             "colorbar": {
              "outlinewidth": 0,
              "ticks": ""
             }
            },
            "type": "scatterpolargl"
           }
          ],
          "scatterternary": [
           {
            "marker": {
             "colorbar": {
              "outlinewidth": 0,
              "ticks": ""
             }
            },
            "type": "scatterternary"
           }
          ],
          "surface": [
           {
            "colorbar": {
             "outlinewidth": 0,
             "ticks": ""
            },
            "colorscale": [
             [
              0,
              "#0d0887"
             ],
             [
              0.1111111111111111,
              "#46039f"
             ],
             [
              0.2222222222222222,
              "#7201a8"
             ],
             [
              0.3333333333333333,
              "#9c179e"
             ],
             [
              0.4444444444444444,
              "#bd3786"
             ],
             [
              0.5555555555555556,
              "#d8576b"
             ],
             [
              0.6666666666666666,
              "#ed7953"
             ],
             [
              0.7777777777777778,
              "#fb9f3a"
             ],
             [
              0.8888888888888888,
              "#fdca26"
             ],
             [
              1,
              "#f0f921"
             ]
            ],
            "type": "surface"
           }
          ],
          "table": [
           {
            "cells": {
             "fill": {
              "color": "#EBF0F8"
             },
             "line": {
              "color": "white"
             }
            },
            "header": {
             "fill": {
              "color": "#C8D4E3"
             },
             "line": {
              "color": "white"
             }
            },
            "type": "table"
           }
          ]
         },
         "layout": {
          "annotationdefaults": {
           "arrowcolor": "#2a3f5f",
           "arrowhead": 0,
           "arrowwidth": 1
          },
          "coloraxis": {
           "colorbar": {
            "outlinewidth": 0,
            "ticks": ""
           }
          },
          "colorscale": {
           "diverging": [
            [
             0,
             "#8e0152"
            ],
            [
             0.1,
             "#c51b7d"
            ],
            [
             0.2,
             "#de77ae"
            ],
            [
             0.3,
             "#f1b6da"
            ],
            [
             0.4,
             "#fde0ef"
            ],
            [
             0.5,
             "#f7f7f7"
            ],
            [
             0.6,
             "#e6f5d0"
            ],
            [
             0.7,
             "#b8e186"
            ],
            [
             0.8,
             "#7fbc41"
            ],
            [
             0.9,
             "#4d9221"
            ],
            [
             1,
             "#276419"
            ]
           ],
           "sequential": [
            [
             0,
             "#0d0887"
            ],
            [
             0.1111111111111111,
             "#46039f"
            ],
            [
             0.2222222222222222,
             "#7201a8"
            ],
            [
             0.3333333333333333,
             "#9c179e"
            ],
            [
             0.4444444444444444,
             "#bd3786"
            ],
            [
             0.5555555555555556,
             "#d8576b"
            ],
            [
             0.6666666666666666,
             "#ed7953"
            ],
            [
             0.7777777777777778,
             "#fb9f3a"
            ],
            [
             0.8888888888888888,
             "#fdca26"
            ],
            [
             1,
             "#f0f921"
            ]
           ],
           "sequentialminus": [
            [
             0,
             "#0d0887"
            ],
            [
             0.1111111111111111,
             "#46039f"
            ],
            [
             0.2222222222222222,
             "#7201a8"
            ],
            [
             0.3333333333333333,
             "#9c179e"
            ],
            [
             0.4444444444444444,
             "#bd3786"
            ],
            [
             0.5555555555555556,
             "#d8576b"
            ],
            [
             0.6666666666666666,
             "#ed7953"
            ],
            [
             0.7777777777777778,
             "#fb9f3a"
            ],
            [
             0.8888888888888888,
             "#fdca26"
            ],
            [
             1,
             "#f0f921"
            ]
           ]
          },
          "colorway": [
           "#636efa",
           "#EF553B",
           "#00cc96",
           "#ab63fa",
           "#FFA15A",
           "#19d3f3",
           "#FF6692",
           "#B6E880",
           "#FF97FF",
           "#FECB52"
          ],
          "font": {
           "color": "#2a3f5f"
          },
          "geo": {
           "bgcolor": "white",
           "lakecolor": "white",
           "landcolor": "#E5ECF6",
           "showlakes": true,
           "showland": true,
           "subunitcolor": "white"
          },
          "hoverlabel": {
           "align": "left"
          },
          "hovermode": "closest",
          "mapbox": {
           "style": "light"
          },
          "paper_bgcolor": "white",
          "plot_bgcolor": "#E5ECF6",
          "polar": {
           "angularaxis": {
            "gridcolor": "white",
            "linecolor": "white",
            "ticks": ""
           },
           "bgcolor": "#E5ECF6",
           "radialaxis": {
            "gridcolor": "white",
            "linecolor": "white",
            "ticks": ""
           }
          },
          "scene": {
           "xaxis": {
            "backgroundcolor": "#E5ECF6",
            "gridcolor": "white",
            "gridwidth": 2,
            "linecolor": "white",
            "showbackground": true,
            "ticks": "",
            "zerolinecolor": "white"
           },
           "yaxis": {
            "backgroundcolor": "#E5ECF6",
            "gridcolor": "white",
            "gridwidth": 2,
            "linecolor": "white",
            "showbackground": true,
            "ticks": "",
            "zerolinecolor": "white"
           },
           "zaxis": {
            "backgroundcolor": "#E5ECF6",
            "gridcolor": "white",
            "gridwidth": 2,
            "linecolor": "white",
            "showbackground": true,
            "ticks": "",
            "zerolinecolor": "white"
           }
          },
          "shapedefaults": {
           "line": {
            "color": "#2a3f5f"
           }
          },
          "ternary": {
           "aaxis": {
            "gridcolor": "white",
            "linecolor": "white",
            "ticks": ""
           },
           "baxis": {
            "gridcolor": "white",
            "linecolor": "white",
            "ticks": ""
           },
           "bgcolor": "#E5ECF6",
           "caxis": {
            "gridcolor": "white",
            "linecolor": "white",
            "ticks": ""
           }
          },
          "title": {
           "x": 0.05
          },
          "xaxis": {
           "automargin": true,
           "gridcolor": "white",
           "linecolor": "white",
           "ticks": "",
           "title": {
            "standoff": 15
           },
           "zerolinecolor": "white",
           "zerolinewidth": 2
          },
          "yaxis": {
           "automargin": true,
           "gridcolor": "white",
           "linecolor": "white",
           "ticks": "",
           "title": {
            "standoff": 15
           },
           "zerolinecolor": "white",
           "zerolinewidth": 2
          }
         }
        },
        "title": {
         "text": "B&H Photo Video"
        },
        "xaxis": {
         "anchor": "y",
         "domain": [
          0,
          1
         ],
         "title": {
          "text": ""
         }
        },
        "yaxis": {
         "anchor": "x",
         "domain": [
          0,
          1
         ],
         "tickprefix": "$",
         "title": {
          "text": ""
         }
        }
       }
      },
      "text/html": [
       "<div>\n",
       "        \n",
       "        \n",
       "            <div id=\"b84639ce-10c4-4987-a18d-813ea68662b8\" class=\"plotly-graph-div\" style=\"height:525px; width:100%;\"></div>\n",
       "            <script type=\"text/javascript\">\n",
       "                require([\"plotly\"], function(Plotly) {\n",
       "                    window.PLOTLYENV=window.PLOTLYENV || {};\n",
       "                    \n",
       "                if (document.getElementById(\"b84639ce-10c4-4987-a18d-813ea68662b8\")) {\n",
       "                    Plotly.newPlot(\n",
       "                        'b84639ce-10c4-4987-a18d-813ea68662b8',\n",
       "                        [{\"hovertemplate\": \"On-Sale=False<br>Date-Seen=%{x}<br>Price-Min=%{y}<extra></extra>\", \"legendgroup\": \"False\", \"marker\": {\"color\": \"#636efa\", \"line\": {\"color\": \"DarkSlateGrey\", \"width\": 1}, \"size\": 7, \"symbol\": \"circle\"}, \"mode\": \"markers\", \"name\": \"False\", \"orientation\": \"v\", \"showlegend\": true, \"type\": \"scatter\", \"x\": [\"2018-04-26T17:00:00\", \"2018-06-01T15:00:00\", \"2017-08-29T12:00:00\", \"2018-05-04T11:00:00\", \"2018-01-09T20:00:00\", \"2017-09-24T03:00:00\", \"2018-01-09T20:00:00\", \"2017-12-06T22:00:00\", \"2017-12-06T20:00:00\", \"2017-12-04T21:00:00\", \"2017-11-18T10:00:00\", \"2017-09-24T03:00:00\", \"2017-08-29T12:00:00\", \"2017-08-22T04:00:00\", \"2017-08-19T02:00:00\", \"2018-04-26T17:00:00\", \"2018-06-01T09:00:00\", \"2018-04-26T17:00:00\", \"2018-07-25T18:00:00\", \"2018-03-31T19:00:00\", \"2018-06-01T09:00:00\", \"2017-11-18T13:00:00\", \"2017-12-06T20:00:00\", \"2017-08-29T12:00:00\", \"2017-08-19T05:00:00\", \"2017-12-04T21:00:00\", \"2017-08-22T10:00:00\", \"2018-01-09T20:00:00\", \"2017-10-24T08:00:00\", \"2018-05-06T17:00:00\", \"2017-12-06T22:00:00\", \"2018-03-31T19:00:00\", \"2018-04-26T17:00:00\", \"2018-05-06T17:00:00\", \"2018-04-26T17:00:00\", \"2018-01-27T10:00:00\", \"2018-04-10T14:00:00\", \"2018-04-26T17:00:00\", \"2018-06-01T15:00:00\", \"2017-12-07T23:00:00\", \"2017-12-08T01:00:00\", \"2017-12-05T10:00:00\", \"2017-08-22T10:00:00\", \"2018-01-27T10:00:00\", \"2018-01-09T20:00:00\", \"2017-09-24T10:00:00\", \"2017-08-19T02:00:00\", \"2018-04-26T17:00:00\", \"2017-12-06T20:00:00\", \"2017-08-29T12:00:00\", \"2017-08-19T05:00:00\", \"2018-05-04T11:00:00\", \"2017-12-04T21:00:00\", \"2017-08-22T10:00:00\", \"2018-01-09T20:00:00\", \"2017-12-06T22:00:00\", \"2017-09-24T03:00:00\", \"2017-11-18T10:00:00\"], \"xaxis\": \"x\", \"y\": [2998.0, 2998.0, 2998.0, 2998.0, 2998.0, 2998.0, 3298.0, 3298.0, 3298.0, 3298.0, 3298.0, 3298.0, 3298.0, 3298.0, 3298.0, 2197.99, 2197.99, 1498.0, 1498.0, 1498.0, 1498.0, 797.99, 797.99, 797.99, 797.99, 797.99, 797.99, 797.99, 797.99, 797.99, 797.99, 1197.99, 1296.99, 1296.99, 1549.95, 1549.95, 2997.99, 2997.99, 2997.99, 2997.99, 2997.99, 2997.99, 2997.99, 2997.99, 2997.99, 2997.99, 2997.99, 1198.0, 1198.0, 1198.0, 1198.0, 1198.0, 1198.0, 1198.0, 1198.0, 1198.0, 1198.0, 1198.0], \"yaxis\": \"y\"}, {\"hovertemplate\": \"On-Sale=True<br>Date-Seen=%{x}<br>Price-Min=%{y}<extra></extra>\", \"legendgroup\": \"True\", \"marker\": {\"color\": \"#EF553B\", \"line\": {\"color\": \"DarkSlateGrey\", \"width\": 1}, \"size\": 7, \"symbol\": \"circle\"}, \"mode\": \"markers\", \"name\": \"True\", \"orientation\": \"v\", \"showlegend\": true, \"type\": \"scatter\", \"x\": [\"2017-11-18T10:00:00\", \"2018-04-26T17:00:00\", \"2018-06-01T15:00:00\", \"2017-12-06T20:00:00\", \"2018-05-04T11:00:00\", \"2017-12-04T21:00:00\", \"2017-12-06T22:00:00\", \"2018-04-26T17:00:00\", \"2018-06-01T09:00:00\", \"2018-06-01T09:00:00\", \"2017-12-06T22:00:00\", \"2017-12-06T20:00:00\", \"2017-12-04T21:00:00\", \"2017-11-18T13:00:00\", \"2018-01-27T10:00:00\", \"2018-06-01T15:00:00\", \"2018-01-09T20:00:00\", \"2018-04-26T17:00:00\", \"2017-12-07T23:00:00\", \"2017-12-08T01:00:00\", \"2017-12-05T10:00:00\", \"2017-09-24T10:00:00\", \"2017-08-22T10:00:00\", \"2017-08-19T02:00:00\", \"2018-04-26T17:00:00\", \"2017-08-29T12:00:00\", \"2017-08-19T05:00:00\", \"2018-05-04T11:00:00\", \"2017-09-24T03:00:00\", \"2017-08-22T10:00:00\", \"2018-01-09T20:00:00\", \"2017-12-06T22:00:00\", \"2017-12-06T20:00:00\", \"2017-12-04T21:00:00\", \"2017-11-18T10:00:00\"], \"xaxis\": \"x\", \"y\": [2798.0, 2498.0, 2498.0, 2498.0, 2498.0, 2498.0, 2498.0, 2097.99, 1997.99, 1298.0, 597.99, 597.99, 597.99, 597.99, 1697.99, 2797.99, 1997.99, 1797.99, 1797.99, 1797.99, 1797.99, 2197.99, 2197.99, 2197.99, 898.0, 898.0, 898.0, 898.0, 898.0, 998.0, 798.0, 798.0, 798.0, 798.0, 798.0], \"yaxis\": \"y\"}],\n",
       "                        {\"font\": {\"size\": 12}, \"legend\": {\"title\": {\"text\": \"On-Sale\"}, \"tracegroupgap\": 0}, \"margin\": {\"t\": 60}, \"template\": {\"data\": {\"bar\": [{\"error_x\": {\"color\": \"#2a3f5f\"}, \"error_y\": {\"color\": \"#2a3f5f\"}, \"marker\": {\"line\": {\"color\": \"#E5ECF6\", \"width\": 0.5}}, \"type\": \"bar\"}], \"barpolar\": [{\"marker\": {\"line\": {\"color\": \"#E5ECF6\", \"width\": 0.5}}, \"type\": \"barpolar\"}], \"carpet\": [{\"aaxis\": {\"endlinecolor\": \"#2a3f5f\", \"gridcolor\": \"white\", \"linecolor\": \"white\", \"minorgridcolor\": \"white\", \"startlinecolor\": \"#2a3f5f\"}, \"baxis\": {\"endlinecolor\": \"#2a3f5f\", \"gridcolor\": \"white\", \"linecolor\": \"white\", \"minorgridcolor\": \"white\", \"startlinecolor\": \"#2a3f5f\"}, \"type\": \"carpet\"}], \"choropleth\": [{\"colorbar\": {\"outlinewidth\": 0, \"ticks\": \"\"}, \"type\": \"choropleth\"}], \"contour\": [{\"colorbar\": {\"outlinewidth\": 0, \"ticks\": \"\"}, \"colorscale\": [[0.0, \"#0d0887\"], [0.1111111111111111, \"#46039f\"], [0.2222222222222222, \"#7201a8\"], [0.3333333333333333, \"#9c179e\"], [0.4444444444444444, \"#bd3786\"], [0.5555555555555556, \"#d8576b\"], [0.6666666666666666, \"#ed7953\"], [0.7777777777777778, \"#fb9f3a\"], [0.8888888888888888, \"#fdca26\"], [1.0, \"#f0f921\"]], \"type\": \"contour\"}], \"contourcarpet\": [{\"colorbar\": {\"outlinewidth\": 0, \"ticks\": \"\"}, \"type\": \"contourcarpet\"}], \"heatmap\": [{\"colorbar\": {\"outlinewidth\": 0, \"ticks\": \"\"}, \"colorscale\": [[0.0, \"#0d0887\"], [0.1111111111111111, \"#46039f\"], [0.2222222222222222, \"#7201a8\"], [0.3333333333333333, \"#9c179e\"], [0.4444444444444444, \"#bd3786\"], [0.5555555555555556, \"#d8576b\"], [0.6666666666666666, \"#ed7953\"], [0.7777777777777778, \"#fb9f3a\"], [0.8888888888888888, \"#fdca26\"], [1.0, \"#f0f921\"]], \"type\": \"heatmap\"}], \"heatmapgl\": [{\"colorbar\": {\"outlinewidth\": 0, \"ticks\": \"\"}, \"colorscale\": [[0.0, \"#0d0887\"], [0.1111111111111111, \"#46039f\"], [0.2222222222222222, \"#7201a8\"], [0.3333333333333333, \"#9c179e\"], [0.4444444444444444, \"#bd3786\"], [0.5555555555555556, \"#d8576b\"], [0.6666666666666666, \"#ed7953\"], [0.7777777777777778, \"#fb9f3a\"], [0.8888888888888888, \"#fdca26\"], [1.0, \"#f0f921\"]], \"type\": \"heatmapgl\"}], \"histogram\": [{\"marker\": {\"colorbar\": {\"outlinewidth\": 0, \"ticks\": \"\"}}, \"type\": \"histogram\"}], \"histogram2d\": [{\"colorbar\": {\"outlinewidth\": 0, \"ticks\": \"\"}, \"colorscale\": [[0.0, \"#0d0887\"], [0.1111111111111111, \"#46039f\"], [0.2222222222222222, \"#7201a8\"], [0.3333333333333333, \"#9c179e\"], [0.4444444444444444, \"#bd3786\"], [0.5555555555555556, \"#d8576b\"], [0.6666666666666666, \"#ed7953\"], [0.7777777777777778, \"#fb9f3a\"], [0.8888888888888888, \"#fdca26\"], [1.0, \"#f0f921\"]], \"type\": \"histogram2d\"}], \"histogram2dcontour\": [{\"colorbar\": {\"outlinewidth\": 0, \"ticks\": \"\"}, \"colorscale\": [[0.0, \"#0d0887\"], [0.1111111111111111, \"#46039f\"], [0.2222222222222222, \"#7201a8\"], [0.3333333333333333, \"#9c179e\"], [0.4444444444444444, \"#bd3786\"], [0.5555555555555556, \"#d8576b\"], [0.6666666666666666, \"#ed7953\"], [0.7777777777777778, \"#fb9f3a\"], [0.8888888888888888, \"#fdca26\"], [1.0, \"#f0f921\"]], \"type\": \"histogram2dcontour\"}], \"mesh3d\": [{\"colorbar\": {\"outlinewidth\": 0, \"ticks\": \"\"}, \"type\": \"mesh3d\"}], \"parcoords\": [{\"line\": {\"colorbar\": {\"outlinewidth\": 0, \"ticks\": \"\"}}, \"type\": \"parcoords\"}], \"pie\": [{\"automargin\": true, \"type\": \"pie\"}], \"scatter\": [{\"marker\": {\"colorbar\": {\"outlinewidth\": 0, \"ticks\": \"\"}}, \"type\": \"scatter\"}], \"scatter3d\": [{\"line\": {\"colorbar\": {\"outlinewidth\": 0, \"ticks\": \"\"}}, \"marker\": {\"colorbar\": {\"outlinewidth\": 0, \"ticks\": \"\"}}, \"type\": \"scatter3d\"}], \"scattercarpet\": [{\"marker\": {\"colorbar\": {\"outlinewidth\": 0, \"ticks\": \"\"}}, \"type\": \"scattercarpet\"}], \"scattergeo\": [{\"marker\": {\"colorbar\": {\"outlinewidth\": 0, \"ticks\": \"\"}}, \"type\": \"scattergeo\"}], \"scattergl\": [{\"marker\": {\"colorbar\": {\"outlinewidth\": 0, \"ticks\": \"\"}}, \"type\": \"scattergl\"}], \"scattermapbox\": [{\"marker\": {\"colorbar\": {\"outlinewidth\": 0, \"ticks\": \"\"}}, \"type\": \"scattermapbox\"}], \"scatterpolar\": [{\"marker\": {\"colorbar\": {\"outlinewidth\": 0, \"ticks\": \"\"}}, \"type\": \"scatterpolar\"}], \"scatterpolargl\": [{\"marker\": {\"colorbar\": {\"outlinewidth\": 0, \"ticks\": \"\"}}, \"type\": \"scatterpolargl\"}], \"scatterternary\": [{\"marker\": {\"colorbar\": {\"outlinewidth\": 0, \"ticks\": \"\"}}, \"type\": \"scatterternary\"}], \"surface\": [{\"colorbar\": {\"outlinewidth\": 0, \"ticks\": \"\"}, \"colorscale\": [[0.0, \"#0d0887\"], [0.1111111111111111, \"#46039f\"], [0.2222222222222222, \"#7201a8\"], [0.3333333333333333, \"#9c179e\"], [0.4444444444444444, \"#bd3786\"], [0.5555555555555556, \"#d8576b\"], [0.6666666666666666, \"#ed7953\"], [0.7777777777777778, \"#fb9f3a\"], [0.8888888888888888, \"#fdca26\"], [1.0, \"#f0f921\"]], \"type\": \"surface\"}], \"table\": [{\"cells\": {\"fill\": {\"color\": \"#EBF0F8\"}, \"line\": {\"color\": \"white\"}}, \"header\": {\"fill\": {\"color\": \"#C8D4E3\"}, \"line\": {\"color\": \"white\"}}, \"type\": \"table\"}]}, \"layout\": {\"annotationdefaults\": {\"arrowcolor\": \"#2a3f5f\", \"arrowhead\": 0, \"arrowwidth\": 1}, \"coloraxis\": {\"colorbar\": {\"outlinewidth\": 0, \"ticks\": \"\"}}, \"colorscale\": {\"diverging\": [[0, \"#8e0152\"], [0.1, \"#c51b7d\"], [0.2, \"#de77ae\"], [0.3, \"#f1b6da\"], [0.4, \"#fde0ef\"], [0.5, \"#f7f7f7\"], [0.6, \"#e6f5d0\"], [0.7, \"#b8e186\"], [0.8, \"#7fbc41\"], [0.9, \"#4d9221\"], [1, \"#276419\"]], \"sequential\": [[0.0, \"#0d0887\"], [0.1111111111111111, \"#46039f\"], [0.2222222222222222, \"#7201a8\"], [0.3333333333333333, \"#9c179e\"], [0.4444444444444444, \"#bd3786\"], [0.5555555555555556, \"#d8576b\"], [0.6666666666666666, \"#ed7953\"], [0.7777777777777778, \"#fb9f3a\"], [0.8888888888888888, \"#fdca26\"], [1.0, \"#f0f921\"]], \"sequentialminus\": [[0.0, \"#0d0887\"], [0.1111111111111111, \"#46039f\"], [0.2222222222222222, \"#7201a8\"], [0.3333333333333333, \"#9c179e\"], [0.4444444444444444, \"#bd3786\"], [0.5555555555555556, \"#d8576b\"], [0.6666666666666666, \"#ed7953\"], [0.7777777777777778, \"#fb9f3a\"], [0.8888888888888888, \"#fdca26\"], [1.0, \"#f0f921\"]]}, \"colorway\": [\"#636efa\", \"#EF553B\", \"#00cc96\", \"#ab63fa\", \"#FFA15A\", \"#19d3f3\", \"#FF6692\", \"#B6E880\", \"#FF97FF\", \"#FECB52\"], \"font\": {\"color\": \"#2a3f5f\"}, \"geo\": {\"bgcolor\": \"white\", \"lakecolor\": \"white\", \"landcolor\": \"#E5ECF6\", \"showlakes\": true, \"showland\": true, \"subunitcolor\": \"white\"}, \"hoverlabel\": {\"align\": \"left\"}, \"hovermode\": \"closest\", \"mapbox\": {\"style\": \"light\"}, \"paper_bgcolor\": \"white\", \"plot_bgcolor\": \"#E5ECF6\", \"polar\": {\"angularaxis\": {\"gridcolor\": \"white\", \"linecolor\": \"white\", \"ticks\": \"\"}, \"bgcolor\": \"#E5ECF6\", \"radialaxis\": {\"gridcolor\": \"white\", \"linecolor\": \"white\", \"ticks\": \"\"}}, \"scene\": {\"xaxis\": {\"backgroundcolor\": \"#E5ECF6\", \"gridcolor\": \"white\", \"gridwidth\": 2, \"linecolor\": \"white\", \"showbackground\": true, \"ticks\": \"\", \"zerolinecolor\": \"white\"}, \"yaxis\": {\"backgroundcolor\": \"#E5ECF6\", \"gridcolor\": \"white\", \"gridwidth\": 2, \"linecolor\": \"white\", \"showbackground\": true, \"ticks\": \"\", \"zerolinecolor\": \"white\"}, \"zaxis\": {\"backgroundcolor\": \"#E5ECF6\", \"gridcolor\": \"white\", \"gridwidth\": 2, \"linecolor\": \"white\", \"showbackground\": true, \"ticks\": \"\", \"zerolinecolor\": \"white\"}}, \"shapedefaults\": {\"line\": {\"color\": \"#2a3f5f\"}}, \"ternary\": {\"aaxis\": {\"gridcolor\": \"white\", \"linecolor\": \"white\", \"ticks\": \"\"}, \"baxis\": {\"gridcolor\": \"white\", \"linecolor\": \"white\", \"ticks\": \"\"}, \"bgcolor\": \"#E5ECF6\", \"caxis\": {\"gridcolor\": \"white\", \"linecolor\": \"white\", \"ticks\": \"\"}}, \"title\": {\"x\": 0.05}, \"xaxis\": {\"automargin\": true, \"gridcolor\": \"white\", \"linecolor\": \"white\", \"ticks\": \"\", \"title\": {\"standoff\": 15}, \"zerolinecolor\": \"white\", \"zerolinewidth\": 2}, \"yaxis\": {\"automargin\": true, \"gridcolor\": \"white\", \"linecolor\": \"white\", \"ticks\": \"\", \"title\": {\"standoff\": 15}, \"zerolinecolor\": \"white\", \"zerolinewidth\": 2}}}, \"title\": {\"text\": \"B&H Photo Video\"}, \"xaxis\": {\"anchor\": \"y\", \"domain\": [0.0, 1.0], \"title\": {\"text\": \"\"}}, \"yaxis\": {\"anchor\": \"x\", \"domain\": [0.0, 1.0], \"tickprefix\": \"$\", \"title\": {\"text\": \"\"}}},\n",
       "                        {\"responsive\": true}\n",
       "                    ).then(function(){\n",
       "                            \n",
       "var gd = document.getElementById('b84639ce-10c4-4987-a18d-813ea68662b8');\n",
       "var x = new MutationObserver(function (mutations, observer) {{\n",
       "        var display = window.getComputedStyle(gd).display;\n",
       "        if (!display || display === 'none') {{\n",
       "            console.log([gd, 'removed!']);\n",
       "            Plotly.purge(gd);\n",
       "            observer.disconnect();\n",
       "        }}\n",
       "}});\n",
       "\n",
       "// Listen for the removal of the full notebook cells\n",
       "var notebookContainer = gd.closest('#notebook-container');\n",
       "if (notebookContainer) {{\n",
       "    x.observe(notebookContainer, {childList: true});\n",
       "}}\n",
       "\n",
       "// Listen for the clearing of the current output cell\n",
       "var outputEl = gd.closest('.output');\n",
       "if (outputEl) {{\n",
       "    x.observe(outputEl, {childList: true});\n",
       "}}\n",
       "\n",
       "                        })\n",
       "                };\n",
       "                });\n",
       "            </script>\n",
       "        </div>"
      ]
     },
     "metadata": {},
     "output_type": "display_data"
    }
   ],
   "source": [
    "# plot with plotly\n",
    "fig1 = px.scatter(df.loc[df[\"Website\"] == \"bestbuy\"], x=\"Date-Seen\", y=\"Price-Min\",color=\"On-Sale\")\n",
    "\n",
    "# styling\n",
    "fig1.update_yaxes(tickprefix=\"$\") # dollar sign on y-axis\n",
    "fig1.update_xaxes(title_text='') # get rid of x-title\n",
    "fig1.update_yaxes(title_text='') # get rid of y-title\n",
    "fig1.update_traces(marker=dict(size=7, line=dict(width=1, color='DarkSlateGrey')), selector=dict(mode='markers')) # style markers\n",
    "fig1.update_layout(\n",
    "    title=\"Bestbuy\",\n",
    "    legend_title=\"On-Sale\",\n",
    "    font=dict(\n",
    "        size=12,\n",
    "    )\n",
    ")\n",
    "\n",
    "fig1.show()\n",
    "\n",
    "####################################################################################\n",
    "\n",
    "# plot with plotly\n",
    "fig2 = px.scatter(df.loc[df[\"Website\"] == \"walmart\"], x=\"Date-Seen\", y=\"Price-Min\",color=\"On-Sale\")\n",
    "\n",
    "# styling\n",
    "fig2.update_yaxes(tickprefix=\"$\") # dollar sign on y-axis\n",
    "fig2.update_xaxes(title_text='') # get rid of x-title\n",
    "fig2.update_yaxes(title_text='') # get rid of y-title\n",
    "fig2.update_traces(marker=dict(size=7, line=dict(width=1, color='DarkSlateGrey')), selector=dict(mode='markers')) # style markers\n",
    "fig2.update_layout(\n",
    "    title=\"Walmart\",\n",
    "    legend_title=\"On-Sale\",\n",
    "    font=dict(\n",
    "        size=12,\n",
    "    )\n",
    ")\n",
    "\n",
    "fig2.show()\n",
    "\n",
    "################################################################################################\n",
    "\n",
    "# plot with plotly\n",
    "fig3 = px.scatter(df.loc[df[\"Website\"] == \"ebay\"], x=\"Date-Seen\", y=\"Price-Min\",color=\"On-Sale\")\n",
    "\n",
    "# styling\n",
    "fig3.update_yaxes(tickprefix=\"$\") # dollar sign on y-axis\n",
    "fig3.update_xaxes(title_text='') # get rid of x-title\n",
    "fig3.update_yaxes(title_text='') # get rid of y-title\n",
    "fig3.update_traces(marker=dict(size=7, line=dict(width=1, color='DarkSlateGrey')), selector=dict(mode='markers')) # style markers\n",
    "fig3.update_layout(\n",
    "    title=\"eBay\",\n",
    "    legend_title=\"On-Sale\",\n",
    "    font=dict(\n",
    "        size=12,\n",
    "    )\n",
    ")\n",
    "\n",
    "fig3.show()\n",
    "\n",
    "################################################################################################\n",
    "\n",
    "# plot with plotly\n",
    "fig4 = px.scatter(df.loc[df[\"Website\"] == \"bhphotovideo\"], x=\"Date-Seen\", y=\"Price-Min\",color=\"On-Sale\")\n",
    "\n",
    "# styling\n",
    "fig4.update_yaxes(tickprefix=\"$\") # dollar sign on y-axis\n",
    "fig4.update_xaxes(title_text='') # get rid of x-title\n",
    "fig4.update_yaxes(title_text='') # get rid of y-title\n",
    "fig4.update_traces(marker=dict(size=7, line=dict(width=1, color='DarkSlateGrey')), selector=dict(mode='markers')) # style markers\n",
    "fig4.update_layout(\n",
    "    title=\"B&H Photo Video\",\n",
    "    legend_title=\"On-Sale\",\n",
    "    font=dict(\n",
    "        size=12,\n",
    "    )\n",
    ")\n",
    "\n",
    "fig4.show()"
   ]
  },
  {
   "cell_type": "markdown",
   "metadata": {},
   "source": [
    "# Evolution of prices for each model in each website"
   ]
  },
  {
   "cell_type": "code",
   "execution_count": 15,
   "metadata": {
    "scrolled": false
   },
   "outputs": [
    {
     "data": {
      "application/vnd.plotly.v1+json": {
       "config": {
        "plotlyServerURL": "https://plot.ly"
       },
       "data": [
        {
         "hovertemplate": "Manufacturer-Id=55H9D PLUS<br>Date-Seen=%{x}<br>Price-Min=%{y}<extra></extra>",
         "legendgroup": "55H9D PLUS",
         "marker": {
          "color": "#636efa",
          "line": {
           "color": "DarkSlateGrey",
           "width": 1
          },
          "size": 7,
          "symbol": "circle"
         },
         "mode": "markers",
         "name": "55H9D PLUS",
         "orientation": "v",
         "showlegend": true,
         "type": "scatter",
         "x": [
          "2018-05-26T15:00:00",
          "2018-05-02T14:00:00",
          "2018-05-26T15:00:00",
          "2018-05-02T14:00:00"
         ],
         "xaxis": "x",
         "y": [
          799.99,
          799.99,
          599.99,
          699.99
         ],
         "yaxis": "y"
        },
        {
         "hovertemplate": "Manufacturer-Id=UN55KU7000FXZA<br>Date-Seen=%{x}<br>Price-Min=%{y}<extra></extra>",
         "legendgroup": "UN55KU7000FXZA",
         "marker": {
          "color": "#EF553B",
          "line": {
           "color": "DarkSlateGrey",
           "width": 1
          },
          "size": 7,
          "symbol": "circle"
         },
         "mode": "markers",
         "name": "UN55KU7000FXZA",
         "orientation": "v",
         "showlegend": true,
         "type": "scatter",
         "x": [
          "2017-03-30T05:00:00",
          "2017-03-10T19:00:00",
          "2017-03-30T05:00:00",
          "2017-03-10T19:00:00",
          "2017-03-04T10:00:00",
          "2017-03-04T10:00:00"
         ],
         "xaxis": "x",
         "y": [
          999.99,
          999.99,
          809.99,
          909.99,
          1199.99,
          1
         ],
         "yaxis": "y"
        },
        {
         "hovertemplate": "Manufacturer-Id=XBR55A1E<br>Date-Seen=%{x}<br>Price-Min=%{y}<extra></extra>",
         "legendgroup": "XBR55A1E",
         "marker": {
          "color": "#00cc96",
          "line": {
           "color": "DarkSlateGrey",
           "width": 1
          },
          "size": 7,
          "symbol": "circle"
         },
         "mode": "markers",
         "name": "XBR55A1E",
         "orientation": "v",
         "showlegend": true,
         "type": "scatter",
         "x": [
          "2018-05-26T07:00:00",
          "2018-05-26T07:00:00",
          "2017-03-30T02:00:00",
          "2017-08-01T03:00:00",
          "2017-07-26T15:00:00",
          "2017-07-11T05:00:00",
          "2017-08-01T03:00:00",
          "2017-07-26T15:00:00",
          "2017-05-31T19:00:00",
          "2017-05-31T16:00:00",
          "2017-05-09T03:00:00",
          "2017-05-01T06:00:00",
          "2017-05-18T02:00:00",
          "2017-04-04T04:00:00"
         ],
         "xaxis": "x",
         "y": [
          2799.99,
          2499.99,
          4999.99,
          3219.99,
          3219.99,
          3219.99,
          3499.99,
          3499.99,
          3999.99,
          3999.99,
          3999.99,
          3999.99,
          3999.99,
          3999.99
         ],
         "yaxis": "y"
        },
        {
         "hovertemplate": "Manufacturer-Id=QN55Q8FNBFXZA<br>Date-Seen=%{x}<br>Price-Min=%{y}<extra></extra>",
         "legendgroup": "QN55Q8FNBFXZA",
         "marker": {
          "color": "#ab63fa",
          "line": {
           "color": "DarkSlateGrey",
           "width": 1
          },
          "size": 7,
          "symbol": "circle"
         },
         "mode": "markers",
         "name": "QN55Q8FNBFXZA",
         "orientation": "v",
         "showlegend": true,
         "type": "scatter",
         "x": [
          "2018-05-26T15:00:00",
          "2018-05-26T15:00:00"
         ],
         "xaxis": "x",
         "y": [
          2199.99,
          1999.99
         ],
         "yaxis": "y"
        },
        {
         "hovertemplate": "Manufacturer-Id=XBR55X900F<br>Date-Seen=%{x}<br>Price-Min=%{y}<extra></extra>",
         "legendgroup": "XBR55X900F",
         "marker": {
          "color": "#FFA15A",
          "line": {
           "color": "DarkSlateGrey",
           "width": 1
          },
          "size": 7,
          "symbol": "circle"
         },
         "mode": "markers",
         "name": "XBR55X900F",
         "orientation": "v",
         "showlegend": true,
         "type": "scatter",
         "x": [
          "2018-05-25T21:00:00",
          "2018-05-26T15:00:00",
          "2018-05-25T21:00:00",
          "2018-05-26T15:00:00"
         ],
         "xaxis": "x",
         "y": [
          1499.99,
          1499.99,
          1299.99,
          1299.99
         ],
         "yaxis": "y"
        },
        {
         "hovertemplate": "Manufacturer-Id=UN55MU6490FXZA<br>Date-Seen=%{x}<br>Price-Min=%{y}<extra></extra>",
         "legendgroup": "UN55MU6490FXZA",
         "marker": {
          "color": "#19d3f3",
          "line": {
           "color": "DarkSlateGrey",
           "width": 1
          },
          "size": 7,
          "symbol": "circle"
         },
         "mode": "markers",
         "name": "UN55MU6490FXZA",
         "orientation": "v",
         "showlegend": true,
         "type": "scatter",
         "x": [
          "2018-05-26T07:00:00",
          "2018-05-26T07:00:00"
         ],
         "xaxis": "x",
         "y": [
          549.99,
          799.99
         ],
         "yaxis": "y"
        },
        {
         "hovertemplate": "Manufacturer-Id=55UJ7700<br>Date-Seen=%{x}<br>Price-Min=%{y}<extra></extra>",
         "legendgroup": "55UJ7700",
         "marker": {
          "color": "#FF6692",
          "line": {
           "color": "DarkSlateGrey",
           "width": 1
          },
          "size": 7,
          "symbol": "circle"
         },
         "mode": "markers",
         "name": "55UJ7700",
         "orientation": "v",
         "showlegend": true,
         "type": "scatter",
         "x": [
          "2018-05-26T16:00:00",
          "2018-05-26T16:00:00"
         ],
         "xaxis": "x",
         "y": [
          799.99,
          751.99
         ],
         "yaxis": "y"
        },
        {
         "hovertemplate": "Manufacturer-Id=QN55Q7CAMFXZA<br>Date-Seen=%{x}<br>Price-Min=%{y}<extra></extra>",
         "legendgroup": "QN55Q7CAMFXZA",
         "marker": {
          "color": "#B6E880",
          "line": {
           "color": "DarkSlateGrey",
           "width": 1
          },
          "size": 7,
          "symbol": "circle"
         },
         "mode": "markers",
         "name": "QN55Q7CAMFXZA",
         "orientation": "v",
         "showlegend": true,
         "type": "scatter",
         "x": [
          "2017-08-01T03:00:00",
          "2017-07-26T15:00:00",
          "2017-08-01T03:00:00",
          "2017-07-26T15:00:00",
          "2018-05-26T07:00:00",
          "2018-05-26T07:00:00"
         ],
         "xaxis": "x",
         "y": [
          2199.99,
          2199.99,
          1759.99,
          1759.99,
          1999.99,
          1299.99
         ],
         "yaxis": "y"
        },
        {
         "hovertemplate": "Manufacturer-Id=55H8C<br>Date-Seen=%{x}<br>Price-Min=%{y}<extra></extra>",
         "legendgroup": "55H8C",
         "marker": {
          "color": "#FF97FF",
          "line": {
           "color": "DarkSlateGrey",
           "width": 1
          },
          "size": 7,
          "symbol": "circle"
         },
         "mode": "markers",
         "name": "55H8C",
         "orientation": "v",
         "showlegend": true,
         "type": "scatter",
         "x": [
          "2017-07-31T22:00:00",
          "2017-08-01T07:00:00",
          "2017-07-26T20:00:00",
          "2017-06-01T19:00:00",
          "2017-05-31T17:00:00",
          "2017-05-09T07:00:00",
          "2017-05-01T20:00:00",
          "2017-05-18T05:00:00",
          "2017-03-30T05:00:00",
          "2017-03-10T19:00:00",
          "2017-03-04T10:00:00",
          "2018-05-25T21:00:00",
          "2018-05-26T16:00:00",
          "2018-05-25T21:00:00",
          "2018-05-26T16:00:00"
         ],
         "xaxis": "x",
         "y": [
          549.99,
          549.99,
          549.99,
          549.99,
          549.99,
          549.99,
          549.99,
          549.99,
          549.99,
          549.99,
          549.99,
          449.99,
          449.99,
          427.99,
          427.99
         ],
         "yaxis": "y"
        },
        {
         "hovertemplate": "Manufacturer-Id=XBR55X800E<br>Date-Seen=%{x}<br>Price-Min=%{y}<extra></extra>",
         "legendgroup": "XBR55X800E",
         "marker": {
          "color": "#FECB52",
          "line": {
           "color": "DarkSlateGrey",
           "width": 1
          },
          "size": 7,
          "symbol": "circle"
         },
         "mode": "markers",
         "name": "XBR55X800E",
         "orientation": "v",
         "showlegend": true,
         "type": "scatter",
         "x": [
          "2017-03-30T05:00:00",
          "2017-03-10T19:00:00",
          "2017-03-04T10:00:00",
          "2017-07-26T15:00:00",
          "2017-06-29T22:00:00",
          "2017-08-01T03:00:00",
          "2017-06-01T19:00:00",
          "2017-05-31T17:00:00",
          "2017-05-09T07:00:00",
          "2017-05-01T20:00:00",
          "2017-05-18T05:00:00",
          "2018-05-26T15:00:00",
          "2017-06-01T19:00:00",
          "2017-05-31T17:00:00",
          "2017-08-01T03:00:00",
          "2017-07-26T15:00:00",
          "2017-06-29T22:00:00"
         ],
         "xaxis": "x",
         "y": [
          1899.99,
          1899.99,
          1899.99,
          909.99,
          909.99,
          919.99,
          1199.99,
          1199.99,
          1199.99,
          1199.99,
          1199.99,
          899.99,
          1091.99,
          1091.99,
          999.99,
          999.99,
          999.99
         ],
         "yaxis": "y"
        }
       ],
       "layout": {
        "font": {
         "size": 12
        },
        "legend": {
         "title": {
          "text": "Models"
         },
         "tracegroupgap": 0
        },
        "margin": {
         "t": 60
        },
        "showlegend": false,
        "template": {
         "data": {
          "bar": [
           {
            "error_x": {
             "color": "#2a3f5f"
            },
            "error_y": {
             "color": "#2a3f5f"
            },
            "marker": {
             "line": {
              "color": "#E5ECF6",
              "width": 0.5
             }
            },
            "type": "bar"
           }
          ],
          "barpolar": [
           {
            "marker": {
             "line": {
              "color": "#E5ECF6",
              "width": 0.5
             }
            },
            "type": "barpolar"
           }
          ],
          "carpet": [
           {
            "aaxis": {
             "endlinecolor": "#2a3f5f",
             "gridcolor": "white",
             "linecolor": "white",
             "minorgridcolor": "white",
             "startlinecolor": "#2a3f5f"
            },
            "baxis": {
             "endlinecolor": "#2a3f5f",
             "gridcolor": "white",
             "linecolor": "white",
             "minorgridcolor": "white",
             "startlinecolor": "#2a3f5f"
            },
            "type": "carpet"
           }
          ],
          "choropleth": [
           {
            "colorbar": {
             "outlinewidth": 0,
             "ticks": ""
            },
            "type": "choropleth"
           }
          ],
          "contour": [
           {
            "colorbar": {
             "outlinewidth": 0,
             "ticks": ""
            },
            "colorscale": [
             [
              0,
              "#0d0887"
             ],
             [
              0.1111111111111111,
              "#46039f"
             ],
             [
              0.2222222222222222,
              "#7201a8"
             ],
             [
              0.3333333333333333,
              "#9c179e"
             ],
             [
              0.4444444444444444,
              "#bd3786"
             ],
             [
              0.5555555555555556,
              "#d8576b"
             ],
             [
              0.6666666666666666,
              "#ed7953"
             ],
             [
              0.7777777777777778,
              "#fb9f3a"
             ],
             [
              0.8888888888888888,
              "#fdca26"
             ],
             [
              1,
              "#f0f921"
             ]
            ],
            "type": "contour"
           }
          ],
          "contourcarpet": [
           {
            "colorbar": {
             "outlinewidth": 0,
             "ticks": ""
            },
            "type": "contourcarpet"
           }
          ],
          "heatmap": [
           {
            "colorbar": {
             "outlinewidth": 0,
             "ticks": ""
            },
            "colorscale": [
             [
              0,
              "#0d0887"
             ],
             [
              0.1111111111111111,
              "#46039f"
             ],
             [
              0.2222222222222222,
              "#7201a8"
             ],
             [
              0.3333333333333333,
              "#9c179e"
             ],
             [
              0.4444444444444444,
              "#bd3786"
             ],
             [
              0.5555555555555556,
              "#d8576b"
             ],
             [
              0.6666666666666666,
              "#ed7953"
             ],
             [
              0.7777777777777778,
              "#fb9f3a"
             ],
             [
              0.8888888888888888,
              "#fdca26"
             ],
             [
              1,
              "#f0f921"
             ]
            ],
            "type": "heatmap"
           }
          ],
          "heatmapgl": [
           {
            "colorbar": {
             "outlinewidth": 0,
             "ticks": ""
            },
            "colorscale": [
             [
              0,
              "#0d0887"
             ],
             [
              0.1111111111111111,
              "#46039f"
             ],
             [
              0.2222222222222222,
              "#7201a8"
             ],
             [
              0.3333333333333333,
              "#9c179e"
             ],
             [
              0.4444444444444444,
              "#bd3786"
             ],
             [
              0.5555555555555556,
              "#d8576b"
             ],
             [
              0.6666666666666666,
              "#ed7953"
             ],
             [
              0.7777777777777778,
              "#fb9f3a"
             ],
             [
              0.8888888888888888,
              "#fdca26"
             ],
             [
              1,
              "#f0f921"
             ]
            ],
            "type": "heatmapgl"
           }
          ],
          "histogram": [
           {
            "marker": {
             "colorbar": {
              "outlinewidth": 0,
              "ticks": ""
             }
            },
            "type": "histogram"
           }
          ],
          "histogram2d": [
           {
            "colorbar": {
             "outlinewidth": 0,
             "ticks": ""
            },
            "colorscale": [
             [
              0,
              "#0d0887"
             ],
             [
              0.1111111111111111,
              "#46039f"
             ],
             [
              0.2222222222222222,
              "#7201a8"
             ],
             [
              0.3333333333333333,
              "#9c179e"
             ],
             [
              0.4444444444444444,
              "#bd3786"
             ],
             [
              0.5555555555555556,
              "#d8576b"
             ],
             [
              0.6666666666666666,
              "#ed7953"
             ],
             [
              0.7777777777777778,
              "#fb9f3a"
             ],
             [
              0.8888888888888888,
              "#fdca26"
             ],
             [
              1,
              "#f0f921"
             ]
            ],
            "type": "histogram2d"
           }
          ],
          "histogram2dcontour": [
           {
            "colorbar": {
             "outlinewidth": 0,
             "ticks": ""
            },
            "colorscale": [
             [
              0,
              "#0d0887"
             ],
             [
              0.1111111111111111,
              "#46039f"
             ],
             [
              0.2222222222222222,
              "#7201a8"
             ],
             [
              0.3333333333333333,
              "#9c179e"
             ],
             [
              0.4444444444444444,
              "#bd3786"
             ],
             [
              0.5555555555555556,
              "#d8576b"
             ],
             [
              0.6666666666666666,
              "#ed7953"
             ],
             [
              0.7777777777777778,
              "#fb9f3a"
             ],
             [
              0.8888888888888888,
              "#fdca26"
             ],
             [
              1,
              "#f0f921"
             ]
            ],
            "type": "histogram2dcontour"
           }
          ],
          "mesh3d": [
           {
            "colorbar": {
             "outlinewidth": 0,
             "ticks": ""
            },
            "type": "mesh3d"
           }
          ],
          "parcoords": [
           {
            "line": {
             "colorbar": {
              "outlinewidth": 0,
              "ticks": ""
             }
            },
            "type": "parcoords"
           }
          ],
          "pie": [
           {
            "automargin": true,
            "type": "pie"
           }
          ],
          "scatter": [
           {
            "marker": {
             "colorbar": {
              "outlinewidth": 0,
              "ticks": ""
             }
            },
            "type": "scatter"
           }
          ],
          "scatter3d": [
           {
            "line": {
             "colorbar": {
              "outlinewidth": 0,
              "ticks": ""
             }
            },
            "marker": {
             "colorbar": {
              "outlinewidth": 0,
              "ticks": ""
             }
            },
            "type": "scatter3d"
           }
          ],
          "scattercarpet": [
           {
            "marker": {
             "colorbar": {
              "outlinewidth": 0,
              "ticks": ""
             }
            },
            "type": "scattercarpet"
           }
          ],
          "scattergeo": [
           {
            "marker": {
             "colorbar": {
              "outlinewidth": 0,
              "ticks": ""
             }
            },
            "type": "scattergeo"
           }
          ],
          "scattergl": [
           {
            "marker": {
             "colorbar": {
              "outlinewidth": 0,
              "ticks": ""
             }
            },
            "type": "scattergl"
           }
          ],
          "scattermapbox": [
           {
            "marker": {
             "colorbar": {
              "outlinewidth": 0,
              "ticks": ""
             }
            },
            "type": "scattermapbox"
           }
          ],
          "scatterpolar": [
           {
            "marker": {
             "colorbar": {
              "outlinewidth": 0,
              "ticks": ""
             }
            },
            "type": "scatterpolar"
           }
          ],
          "scatterpolargl": [
           {
            "marker": {
             "colorbar": {
              "outlinewidth": 0,
              "ticks": ""
             }
            },
            "type": "scatterpolargl"
           }
          ],
          "scatterternary": [
           {
            "marker": {
             "colorbar": {
              "outlinewidth": 0,
              "ticks": ""
             }
            },
            "type": "scatterternary"
           }
          ],
          "surface": [
           {
            "colorbar": {
             "outlinewidth": 0,
             "ticks": ""
            },
            "colorscale": [
             [
              0,
              "#0d0887"
             ],
             [
              0.1111111111111111,
              "#46039f"
             ],
             [
              0.2222222222222222,
              "#7201a8"
             ],
             [
              0.3333333333333333,
              "#9c179e"
             ],
             [
              0.4444444444444444,
              "#bd3786"
             ],
             [
              0.5555555555555556,
              "#d8576b"
             ],
             [
              0.6666666666666666,
              "#ed7953"
             ],
             [
              0.7777777777777778,
              "#fb9f3a"
             ],
             [
              0.8888888888888888,
              "#fdca26"
             ],
             [
              1,
              "#f0f921"
             ]
            ],
            "type": "surface"
           }
          ],
          "table": [
           {
            "cells": {
             "fill": {
              "color": "#EBF0F8"
             },
             "line": {
              "color": "white"
             }
            },
            "header": {
             "fill": {
              "color": "#C8D4E3"
             },
             "line": {
              "color": "white"
             }
            },
            "type": "table"
           }
          ]
         },
         "layout": {
          "annotationdefaults": {
           "arrowcolor": "#2a3f5f",
           "arrowhead": 0,
           "arrowwidth": 1
          },
          "coloraxis": {
           "colorbar": {
            "outlinewidth": 0,
            "ticks": ""
           }
          },
          "colorscale": {
           "diverging": [
            [
             0,
             "#8e0152"
            ],
            [
             0.1,
             "#c51b7d"
            ],
            [
             0.2,
             "#de77ae"
            ],
            [
             0.3,
             "#f1b6da"
            ],
            [
             0.4,
             "#fde0ef"
            ],
            [
             0.5,
             "#f7f7f7"
            ],
            [
             0.6,
             "#e6f5d0"
            ],
            [
             0.7,
             "#b8e186"
            ],
            [
             0.8,
             "#7fbc41"
            ],
            [
             0.9,
             "#4d9221"
            ],
            [
             1,
             "#276419"
            ]
           ],
           "sequential": [
            [
             0,
             "#0d0887"
            ],
            [
             0.1111111111111111,
             "#46039f"
            ],
            [
             0.2222222222222222,
             "#7201a8"
            ],
            [
             0.3333333333333333,
             "#9c179e"
            ],
            [
             0.4444444444444444,
             "#bd3786"
            ],
            [
             0.5555555555555556,
             "#d8576b"
            ],
            [
             0.6666666666666666,
             "#ed7953"
            ],
            [
             0.7777777777777778,
             "#fb9f3a"
            ],
            [
             0.8888888888888888,
             "#fdca26"
            ],
            [
             1,
             "#f0f921"
            ]
           ],
           "sequentialminus": [
            [
             0,
             "#0d0887"
            ],
            [
             0.1111111111111111,
             "#46039f"
            ],
            [
             0.2222222222222222,
             "#7201a8"
            ],
            [
             0.3333333333333333,
             "#9c179e"
            ],
            [
             0.4444444444444444,
             "#bd3786"
            ],
            [
             0.5555555555555556,
             "#d8576b"
            ],
            [
             0.6666666666666666,
             "#ed7953"
            ],
            [
             0.7777777777777778,
             "#fb9f3a"
            ],
            [
             0.8888888888888888,
             "#fdca26"
            ],
            [
             1,
             "#f0f921"
            ]
           ]
          },
          "colorway": [
           "#636efa",
           "#EF553B",
           "#00cc96",
           "#ab63fa",
           "#FFA15A",
           "#19d3f3",
           "#FF6692",
           "#B6E880",
           "#FF97FF",
           "#FECB52"
          ],
          "font": {
           "color": "#2a3f5f"
          },
          "geo": {
           "bgcolor": "white",
           "lakecolor": "white",
           "landcolor": "#E5ECF6",
           "showlakes": true,
           "showland": true,
           "subunitcolor": "white"
          },
          "hoverlabel": {
           "align": "left"
          },
          "hovermode": "closest",
          "mapbox": {
           "style": "light"
          },
          "paper_bgcolor": "white",
          "plot_bgcolor": "#E5ECF6",
          "polar": {
           "angularaxis": {
            "gridcolor": "white",
            "linecolor": "white",
            "ticks": ""
           },
           "bgcolor": "#E5ECF6",
           "radialaxis": {
            "gridcolor": "white",
            "linecolor": "white",
            "ticks": ""
           }
          },
          "scene": {
           "xaxis": {
            "backgroundcolor": "#E5ECF6",
            "gridcolor": "white",
            "gridwidth": 2,
            "linecolor": "white",
            "showbackground": true,
            "ticks": "",
            "zerolinecolor": "white"
           },
           "yaxis": {
            "backgroundcolor": "#E5ECF6",
            "gridcolor": "white",
            "gridwidth": 2,
            "linecolor": "white",
            "showbackground": true,
            "ticks": "",
            "zerolinecolor": "white"
           },
           "zaxis": {
            "backgroundcolor": "#E5ECF6",
            "gridcolor": "white",
            "gridwidth": 2,
            "linecolor": "white",
            "showbackground": true,
            "ticks": "",
            "zerolinecolor": "white"
           }
          },
          "shapedefaults": {
           "line": {
            "color": "#2a3f5f"
           }
          },
          "ternary": {
           "aaxis": {
            "gridcolor": "white",
            "linecolor": "white",
            "ticks": ""
           },
           "baxis": {
            "gridcolor": "white",
            "linecolor": "white",
            "ticks": ""
           },
           "bgcolor": "#E5ECF6",
           "caxis": {
            "gridcolor": "white",
            "linecolor": "white",
            "ticks": ""
           }
          },
          "title": {
           "x": 0.05
          },
          "xaxis": {
           "automargin": true,
           "gridcolor": "white",
           "linecolor": "white",
           "ticks": "",
           "title": {
            "standoff": 15
           },
           "zerolinecolor": "white",
           "zerolinewidth": 2
          },
          "yaxis": {
           "automargin": true,
           "gridcolor": "white",
           "linecolor": "white",
           "ticks": "",
           "title": {
            "standoff": 15
           },
           "zerolinecolor": "white",
           "zerolinewidth": 2
          }
         }
        },
        "xaxis": {
         "anchor": "y",
         "domain": [
          0,
          1
         ],
         "title": {
          "text": ""
         }
        },
        "yaxis": {
         "anchor": "x",
         "domain": [
          0,
          1
         ],
         "tickprefix": "$",
         "title": {
          "text": ""
         }
        }
       }
      },
      "text/html": [
       "<div>\n",
       "        \n",
       "        \n",
       "            <div id=\"c249b7a4-b6e7-4ceb-8ba6-9694c9447e50\" class=\"plotly-graph-div\" style=\"height:525px; width:100%;\"></div>\n",
       "            <script type=\"text/javascript\">\n",
       "                require([\"plotly\"], function(Plotly) {\n",
       "                    window.PLOTLYENV=window.PLOTLYENV || {};\n",
       "                    \n",
       "                if (document.getElementById(\"c249b7a4-b6e7-4ceb-8ba6-9694c9447e50\")) {\n",
       "                    Plotly.newPlot(\n",
       "                        'c249b7a4-b6e7-4ceb-8ba6-9694c9447e50',\n",
       "                        [{\"hovertemplate\": \"Manufacturer-Id=55H9D PLUS<br>Date-Seen=%{x}<br>Price-Min=%{y}<extra></extra>\", \"legendgroup\": \"55H9D PLUS\", \"marker\": {\"color\": \"#636efa\", \"line\": {\"color\": \"DarkSlateGrey\", \"width\": 1}, \"size\": 7, \"symbol\": \"circle\"}, \"mode\": \"markers\", \"name\": \"55H9D PLUS\", \"orientation\": \"v\", \"showlegend\": true, \"type\": \"scatter\", \"x\": [\"2018-05-26T15:00:00\", \"2018-05-02T14:00:00\", \"2018-05-26T15:00:00\", \"2018-05-02T14:00:00\"], \"xaxis\": \"x\", \"y\": [799.99, 799.99, 599.99, 699.99], \"yaxis\": \"y\"}, {\"hovertemplate\": \"Manufacturer-Id=UN55KU7000FXZA<br>Date-Seen=%{x}<br>Price-Min=%{y}<extra></extra>\", \"legendgroup\": \"UN55KU7000FXZA\", \"marker\": {\"color\": \"#EF553B\", \"line\": {\"color\": \"DarkSlateGrey\", \"width\": 1}, \"size\": 7, \"symbol\": \"circle\"}, \"mode\": \"markers\", \"name\": \"UN55KU7000FXZA\", \"orientation\": \"v\", \"showlegend\": true, \"type\": \"scatter\", \"x\": [\"2017-03-30T05:00:00\", \"2017-03-10T19:00:00\", \"2017-03-30T05:00:00\", \"2017-03-10T19:00:00\", \"2017-03-04T10:00:00\", \"2017-03-04T10:00:00\"], \"xaxis\": \"x\", \"y\": [999.99, 999.99, 809.99, 909.99, 1199.99, 1.0], \"yaxis\": \"y\"}, {\"hovertemplate\": \"Manufacturer-Id=XBR55A1E<br>Date-Seen=%{x}<br>Price-Min=%{y}<extra></extra>\", \"legendgroup\": \"XBR55A1E\", \"marker\": {\"color\": \"#00cc96\", \"line\": {\"color\": \"DarkSlateGrey\", \"width\": 1}, \"size\": 7, \"symbol\": \"circle\"}, \"mode\": \"markers\", \"name\": \"XBR55A1E\", \"orientation\": \"v\", \"showlegend\": true, \"type\": \"scatter\", \"x\": [\"2018-05-26T07:00:00\", \"2018-05-26T07:00:00\", \"2017-03-30T02:00:00\", \"2017-08-01T03:00:00\", \"2017-07-26T15:00:00\", \"2017-07-11T05:00:00\", \"2017-08-01T03:00:00\", \"2017-07-26T15:00:00\", \"2017-05-31T19:00:00\", \"2017-05-31T16:00:00\", \"2017-05-09T03:00:00\", \"2017-05-01T06:00:00\", \"2017-05-18T02:00:00\", \"2017-04-04T04:00:00\"], \"xaxis\": \"x\", \"y\": [2799.99, 2499.99, 4999.99, 3219.99, 3219.99, 3219.99, 3499.99, 3499.99, 3999.99, 3999.99, 3999.99, 3999.99, 3999.99, 3999.99], \"yaxis\": \"y\"}, {\"hovertemplate\": \"Manufacturer-Id=QN55Q8FNBFXZA<br>Date-Seen=%{x}<br>Price-Min=%{y}<extra></extra>\", \"legendgroup\": \"QN55Q8FNBFXZA\", \"marker\": {\"color\": \"#ab63fa\", \"line\": {\"color\": \"DarkSlateGrey\", \"width\": 1}, \"size\": 7, \"symbol\": \"circle\"}, \"mode\": \"markers\", \"name\": \"QN55Q8FNBFXZA\", \"orientation\": \"v\", \"showlegend\": true, \"type\": \"scatter\", \"x\": [\"2018-05-26T15:00:00\", \"2018-05-26T15:00:00\"], \"xaxis\": \"x\", \"y\": [2199.99, 1999.99], \"yaxis\": \"y\"}, {\"hovertemplate\": \"Manufacturer-Id=XBR55X900F<br>Date-Seen=%{x}<br>Price-Min=%{y}<extra></extra>\", \"legendgroup\": \"XBR55X900F\", \"marker\": {\"color\": \"#FFA15A\", \"line\": {\"color\": \"DarkSlateGrey\", \"width\": 1}, \"size\": 7, \"symbol\": \"circle\"}, \"mode\": \"markers\", \"name\": \"XBR55X900F\", \"orientation\": \"v\", \"showlegend\": true, \"type\": \"scatter\", \"x\": [\"2018-05-25T21:00:00\", \"2018-05-26T15:00:00\", \"2018-05-25T21:00:00\", \"2018-05-26T15:00:00\"], \"xaxis\": \"x\", \"y\": [1499.99, 1499.99, 1299.99, 1299.99], \"yaxis\": \"y\"}, {\"hovertemplate\": \"Manufacturer-Id=UN55MU6490FXZA<br>Date-Seen=%{x}<br>Price-Min=%{y}<extra></extra>\", \"legendgroup\": \"UN55MU6490FXZA\", \"marker\": {\"color\": \"#19d3f3\", \"line\": {\"color\": \"DarkSlateGrey\", \"width\": 1}, \"size\": 7, \"symbol\": \"circle\"}, \"mode\": \"markers\", \"name\": \"UN55MU6490FXZA\", \"orientation\": \"v\", \"showlegend\": true, \"type\": \"scatter\", \"x\": [\"2018-05-26T07:00:00\", \"2018-05-26T07:00:00\"], \"xaxis\": \"x\", \"y\": [549.99, 799.99], \"yaxis\": \"y\"}, {\"hovertemplate\": \"Manufacturer-Id=55UJ7700<br>Date-Seen=%{x}<br>Price-Min=%{y}<extra></extra>\", \"legendgroup\": \"55UJ7700\", \"marker\": {\"color\": \"#FF6692\", \"line\": {\"color\": \"DarkSlateGrey\", \"width\": 1}, \"size\": 7, \"symbol\": \"circle\"}, \"mode\": \"markers\", \"name\": \"55UJ7700\", \"orientation\": \"v\", \"showlegend\": true, \"type\": \"scatter\", \"x\": [\"2018-05-26T16:00:00\", \"2018-05-26T16:00:00\"], \"xaxis\": \"x\", \"y\": [799.99, 751.99], \"yaxis\": \"y\"}, {\"hovertemplate\": \"Manufacturer-Id=QN55Q7CAMFXZA<br>Date-Seen=%{x}<br>Price-Min=%{y}<extra></extra>\", \"legendgroup\": \"QN55Q7CAMFXZA\", \"marker\": {\"color\": \"#B6E880\", \"line\": {\"color\": \"DarkSlateGrey\", \"width\": 1}, \"size\": 7, \"symbol\": \"circle\"}, \"mode\": \"markers\", \"name\": \"QN55Q7CAMFXZA\", \"orientation\": \"v\", \"showlegend\": true, \"type\": \"scatter\", \"x\": [\"2017-08-01T03:00:00\", \"2017-07-26T15:00:00\", \"2017-08-01T03:00:00\", \"2017-07-26T15:00:00\", \"2018-05-26T07:00:00\", \"2018-05-26T07:00:00\"], \"xaxis\": \"x\", \"y\": [2199.99, 2199.99, 1759.99, 1759.99, 1999.99, 1299.99], \"yaxis\": \"y\"}, {\"hovertemplate\": \"Manufacturer-Id=55H8C<br>Date-Seen=%{x}<br>Price-Min=%{y}<extra></extra>\", \"legendgroup\": \"55H8C\", \"marker\": {\"color\": \"#FF97FF\", \"line\": {\"color\": \"DarkSlateGrey\", \"width\": 1}, \"size\": 7, \"symbol\": \"circle\"}, \"mode\": \"markers\", \"name\": \"55H8C\", \"orientation\": \"v\", \"showlegend\": true, \"type\": \"scatter\", \"x\": [\"2017-07-31T22:00:00\", \"2017-08-01T07:00:00\", \"2017-07-26T20:00:00\", \"2017-06-01T19:00:00\", \"2017-05-31T17:00:00\", \"2017-05-09T07:00:00\", \"2017-05-01T20:00:00\", \"2017-05-18T05:00:00\", \"2017-03-30T05:00:00\", \"2017-03-10T19:00:00\", \"2017-03-04T10:00:00\", \"2018-05-25T21:00:00\", \"2018-05-26T16:00:00\", \"2018-05-25T21:00:00\", \"2018-05-26T16:00:00\"], \"xaxis\": \"x\", \"y\": [549.99, 549.99, 549.99, 549.99, 549.99, 549.99, 549.99, 549.99, 549.99, 549.99, 549.99, 449.99, 449.99, 427.99, 427.99], \"yaxis\": \"y\"}, {\"hovertemplate\": \"Manufacturer-Id=XBR55X800E<br>Date-Seen=%{x}<br>Price-Min=%{y}<extra></extra>\", \"legendgroup\": \"XBR55X800E\", \"marker\": {\"color\": \"#FECB52\", \"line\": {\"color\": \"DarkSlateGrey\", \"width\": 1}, \"size\": 7, \"symbol\": \"circle\"}, \"mode\": \"markers\", \"name\": \"XBR55X800E\", \"orientation\": \"v\", \"showlegend\": true, \"type\": \"scatter\", \"x\": [\"2017-03-30T05:00:00\", \"2017-03-10T19:00:00\", \"2017-03-04T10:00:00\", \"2017-07-26T15:00:00\", \"2017-06-29T22:00:00\", \"2017-08-01T03:00:00\", \"2017-06-01T19:00:00\", \"2017-05-31T17:00:00\", \"2017-05-09T07:00:00\", \"2017-05-01T20:00:00\", \"2017-05-18T05:00:00\", \"2018-05-26T15:00:00\", \"2017-06-01T19:00:00\", \"2017-05-31T17:00:00\", \"2017-08-01T03:00:00\", \"2017-07-26T15:00:00\", \"2017-06-29T22:00:00\"], \"xaxis\": \"x\", \"y\": [1899.99, 1899.99, 1899.99, 909.99, 909.99, 919.99, 1199.99, 1199.99, 1199.99, 1199.99, 1199.99, 899.99, 1091.99, 1091.99, 999.99, 999.99, 999.99], \"yaxis\": \"y\"}],\n",
       "                        {\"font\": {\"size\": 12}, \"legend\": {\"title\": {\"text\": \"Models\"}, \"tracegroupgap\": 0}, \"margin\": {\"t\": 60}, \"showlegend\": false, \"template\": {\"data\": {\"bar\": [{\"error_x\": {\"color\": \"#2a3f5f\"}, \"error_y\": {\"color\": \"#2a3f5f\"}, \"marker\": {\"line\": {\"color\": \"#E5ECF6\", \"width\": 0.5}}, \"type\": \"bar\"}], \"barpolar\": [{\"marker\": {\"line\": {\"color\": \"#E5ECF6\", \"width\": 0.5}}, \"type\": \"barpolar\"}], \"carpet\": [{\"aaxis\": {\"endlinecolor\": \"#2a3f5f\", \"gridcolor\": \"white\", \"linecolor\": \"white\", \"minorgridcolor\": \"white\", \"startlinecolor\": \"#2a3f5f\"}, \"baxis\": {\"endlinecolor\": \"#2a3f5f\", \"gridcolor\": \"white\", \"linecolor\": \"white\", \"minorgridcolor\": \"white\", \"startlinecolor\": \"#2a3f5f\"}, \"type\": \"carpet\"}], \"choropleth\": [{\"colorbar\": {\"outlinewidth\": 0, \"ticks\": \"\"}, \"type\": \"choropleth\"}], \"contour\": [{\"colorbar\": {\"outlinewidth\": 0, \"ticks\": \"\"}, \"colorscale\": [[0.0, \"#0d0887\"], [0.1111111111111111, \"#46039f\"], [0.2222222222222222, \"#7201a8\"], [0.3333333333333333, \"#9c179e\"], [0.4444444444444444, \"#bd3786\"], [0.5555555555555556, \"#d8576b\"], [0.6666666666666666, \"#ed7953\"], [0.7777777777777778, \"#fb9f3a\"], [0.8888888888888888, \"#fdca26\"], [1.0, \"#f0f921\"]], \"type\": \"contour\"}], \"contourcarpet\": [{\"colorbar\": {\"outlinewidth\": 0, \"ticks\": \"\"}, \"type\": \"contourcarpet\"}], \"heatmap\": [{\"colorbar\": {\"outlinewidth\": 0, \"ticks\": \"\"}, \"colorscale\": [[0.0, \"#0d0887\"], [0.1111111111111111, \"#46039f\"], [0.2222222222222222, \"#7201a8\"], [0.3333333333333333, \"#9c179e\"], [0.4444444444444444, \"#bd3786\"], [0.5555555555555556, \"#d8576b\"], [0.6666666666666666, \"#ed7953\"], [0.7777777777777778, \"#fb9f3a\"], [0.8888888888888888, \"#fdca26\"], [1.0, \"#f0f921\"]], \"type\": \"heatmap\"}], \"heatmapgl\": [{\"colorbar\": {\"outlinewidth\": 0, \"ticks\": \"\"}, \"colorscale\": [[0.0, \"#0d0887\"], [0.1111111111111111, \"#46039f\"], [0.2222222222222222, \"#7201a8\"], [0.3333333333333333, \"#9c179e\"], [0.4444444444444444, \"#bd3786\"], [0.5555555555555556, \"#d8576b\"], [0.6666666666666666, \"#ed7953\"], [0.7777777777777778, \"#fb9f3a\"], [0.8888888888888888, \"#fdca26\"], [1.0, \"#f0f921\"]], \"type\": \"heatmapgl\"}], \"histogram\": [{\"marker\": {\"colorbar\": {\"outlinewidth\": 0, \"ticks\": \"\"}}, \"type\": \"histogram\"}], \"histogram2d\": [{\"colorbar\": {\"outlinewidth\": 0, \"ticks\": \"\"}, \"colorscale\": [[0.0, \"#0d0887\"], [0.1111111111111111, \"#46039f\"], [0.2222222222222222, \"#7201a8\"], [0.3333333333333333, \"#9c179e\"], [0.4444444444444444, \"#bd3786\"], [0.5555555555555556, \"#d8576b\"], [0.6666666666666666, \"#ed7953\"], [0.7777777777777778, \"#fb9f3a\"], [0.8888888888888888, \"#fdca26\"], [1.0, \"#f0f921\"]], \"type\": \"histogram2d\"}], \"histogram2dcontour\": [{\"colorbar\": {\"outlinewidth\": 0, \"ticks\": \"\"}, \"colorscale\": [[0.0, \"#0d0887\"], [0.1111111111111111, \"#46039f\"], [0.2222222222222222, \"#7201a8\"], [0.3333333333333333, \"#9c179e\"], [0.4444444444444444, \"#bd3786\"], [0.5555555555555556, \"#d8576b\"], [0.6666666666666666, \"#ed7953\"], [0.7777777777777778, \"#fb9f3a\"], [0.8888888888888888, \"#fdca26\"], [1.0, \"#f0f921\"]], \"type\": \"histogram2dcontour\"}], \"mesh3d\": [{\"colorbar\": {\"outlinewidth\": 0, \"ticks\": \"\"}, \"type\": \"mesh3d\"}], \"parcoords\": [{\"line\": {\"colorbar\": {\"outlinewidth\": 0, \"ticks\": \"\"}}, \"type\": \"parcoords\"}], \"pie\": [{\"automargin\": true, \"type\": \"pie\"}], \"scatter\": [{\"marker\": {\"colorbar\": {\"outlinewidth\": 0, \"ticks\": \"\"}}, \"type\": \"scatter\"}], \"scatter3d\": [{\"line\": {\"colorbar\": {\"outlinewidth\": 0, \"ticks\": \"\"}}, \"marker\": {\"colorbar\": {\"outlinewidth\": 0, \"ticks\": \"\"}}, \"type\": \"scatter3d\"}], \"scattercarpet\": [{\"marker\": {\"colorbar\": {\"outlinewidth\": 0, \"ticks\": \"\"}}, \"type\": \"scattercarpet\"}], \"scattergeo\": [{\"marker\": {\"colorbar\": {\"outlinewidth\": 0, \"ticks\": \"\"}}, \"type\": \"scattergeo\"}], \"scattergl\": [{\"marker\": {\"colorbar\": {\"outlinewidth\": 0, \"ticks\": \"\"}}, \"type\": \"scattergl\"}], \"scattermapbox\": [{\"marker\": {\"colorbar\": {\"outlinewidth\": 0, \"ticks\": \"\"}}, \"type\": \"scattermapbox\"}], \"scatterpolar\": [{\"marker\": {\"colorbar\": {\"outlinewidth\": 0, \"ticks\": \"\"}}, \"type\": \"scatterpolar\"}], \"scatterpolargl\": [{\"marker\": {\"colorbar\": {\"outlinewidth\": 0, \"ticks\": \"\"}}, \"type\": \"scatterpolargl\"}], \"scatterternary\": [{\"marker\": {\"colorbar\": {\"outlinewidth\": 0, \"ticks\": \"\"}}, \"type\": \"scatterternary\"}], \"surface\": [{\"colorbar\": {\"outlinewidth\": 0, \"ticks\": \"\"}, \"colorscale\": [[0.0, \"#0d0887\"], [0.1111111111111111, \"#46039f\"], [0.2222222222222222, \"#7201a8\"], [0.3333333333333333, \"#9c179e\"], [0.4444444444444444, \"#bd3786\"], [0.5555555555555556, \"#d8576b\"], [0.6666666666666666, \"#ed7953\"], [0.7777777777777778, \"#fb9f3a\"], [0.8888888888888888, \"#fdca26\"], [1.0, \"#f0f921\"]], \"type\": \"surface\"}], \"table\": [{\"cells\": {\"fill\": {\"color\": \"#EBF0F8\"}, \"line\": {\"color\": \"white\"}}, \"header\": {\"fill\": {\"color\": \"#C8D4E3\"}, \"line\": {\"color\": \"white\"}}, \"type\": \"table\"}]}, \"layout\": {\"annotationdefaults\": {\"arrowcolor\": \"#2a3f5f\", \"arrowhead\": 0, \"arrowwidth\": 1}, \"coloraxis\": {\"colorbar\": {\"outlinewidth\": 0, \"ticks\": \"\"}}, \"colorscale\": {\"diverging\": [[0, \"#8e0152\"], [0.1, \"#c51b7d\"], [0.2, \"#de77ae\"], [0.3, \"#f1b6da\"], [0.4, \"#fde0ef\"], [0.5, \"#f7f7f7\"], [0.6, \"#e6f5d0\"], [0.7, \"#b8e186\"], [0.8, \"#7fbc41\"], [0.9, \"#4d9221\"], [1, \"#276419\"]], \"sequential\": [[0.0, \"#0d0887\"], [0.1111111111111111, \"#46039f\"], [0.2222222222222222, \"#7201a8\"], [0.3333333333333333, \"#9c179e\"], [0.4444444444444444, \"#bd3786\"], [0.5555555555555556, \"#d8576b\"], [0.6666666666666666, \"#ed7953\"], [0.7777777777777778, \"#fb9f3a\"], [0.8888888888888888, \"#fdca26\"], [1.0, \"#f0f921\"]], \"sequentialminus\": [[0.0, \"#0d0887\"], [0.1111111111111111, \"#46039f\"], [0.2222222222222222, \"#7201a8\"], [0.3333333333333333, \"#9c179e\"], [0.4444444444444444, \"#bd3786\"], [0.5555555555555556, \"#d8576b\"], [0.6666666666666666, \"#ed7953\"], [0.7777777777777778, \"#fb9f3a\"], [0.8888888888888888, \"#fdca26\"], [1.0, \"#f0f921\"]]}, \"colorway\": [\"#636efa\", \"#EF553B\", \"#00cc96\", \"#ab63fa\", \"#FFA15A\", \"#19d3f3\", \"#FF6692\", \"#B6E880\", \"#FF97FF\", \"#FECB52\"], \"font\": {\"color\": \"#2a3f5f\"}, \"geo\": {\"bgcolor\": \"white\", \"lakecolor\": \"white\", \"landcolor\": \"#E5ECF6\", \"showlakes\": true, \"showland\": true, \"subunitcolor\": \"white\"}, \"hoverlabel\": {\"align\": \"left\"}, \"hovermode\": \"closest\", \"mapbox\": {\"style\": \"light\"}, \"paper_bgcolor\": \"white\", \"plot_bgcolor\": \"#E5ECF6\", \"polar\": {\"angularaxis\": {\"gridcolor\": \"white\", \"linecolor\": \"white\", \"ticks\": \"\"}, \"bgcolor\": \"#E5ECF6\", \"radialaxis\": {\"gridcolor\": \"white\", \"linecolor\": \"white\", \"ticks\": \"\"}}, \"scene\": {\"xaxis\": {\"backgroundcolor\": \"#E5ECF6\", \"gridcolor\": \"white\", \"gridwidth\": 2, \"linecolor\": \"white\", \"showbackground\": true, \"ticks\": \"\", \"zerolinecolor\": \"white\"}, \"yaxis\": {\"backgroundcolor\": \"#E5ECF6\", \"gridcolor\": \"white\", \"gridwidth\": 2, \"linecolor\": \"white\", \"showbackground\": true, \"ticks\": \"\", \"zerolinecolor\": \"white\"}, \"zaxis\": {\"backgroundcolor\": \"#E5ECF6\", \"gridcolor\": \"white\", \"gridwidth\": 2, \"linecolor\": \"white\", \"showbackground\": true, \"ticks\": \"\", \"zerolinecolor\": \"white\"}}, \"shapedefaults\": {\"line\": {\"color\": \"#2a3f5f\"}}, \"ternary\": {\"aaxis\": {\"gridcolor\": \"white\", \"linecolor\": \"white\", \"ticks\": \"\"}, \"baxis\": {\"gridcolor\": \"white\", \"linecolor\": \"white\", \"ticks\": \"\"}, \"bgcolor\": \"#E5ECF6\", \"caxis\": {\"gridcolor\": \"white\", \"linecolor\": \"white\", \"ticks\": \"\"}}, \"title\": {\"x\": 0.05}, \"xaxis\": {\"automargin\": true, \"gridcolor\": \"white\", \"linecolor\": \"white\", \"ticks\": \"\", \"title\": {\"standoff\": 15}, \"zerolinecolor\": \"white\", \"zerolinewidth\": 2}, \"yaxis\": {\"automargin\": true, \"gridcolor\": \"white\", \"linecolor\": \"white\", \"ticks\": \"\", \"title\": {\"standoff\": 15}, \"zerolinecolor\": \"white\", \"zerolinewidth\": 2}}}, \"xaxis\": {\"anchor\": \"y\", \"domain\": [0.0, 1.0], \"title\": {\"text\": \"\"}}, \"yaxis\": {\"anchor\": \"x\", \"domain\": [0.0, 1.0], \"tickprefix\": \"$\", \"title\": {\"text\": \"\"}}},\n",
       "                        {\"responsive\": true}\n",
       "                    ).then(function(){\n",
       "                            \n",
       "var gd = document.getElementById('c249b7a4-b6e7-4ceb-8ba6-9694c9447e50');\n",
       "var x = new MutationObserver(function (mutations, observer) {{\n",
       "        var display = window.getComputedStyle(gd).display;\n",
       "        if (!display || display === 'none') {{\n",
       "            console.log([gd, 'removed!']);\n",
       "            Plotly.purge(gd);\n",
       "            observer.disconnect();\n",
       "        }}\n",
       "}});\n",
       "\n",
       "// Listen for the removal of the full notebook cells\n",
       "var notebookContainer = gd.closest('#notebook-container');\n",
       "if (notebookContainer) {{\n",
       "    x.observe(notebookContainer, {childList: true});\n",
       "}}\n",
       "\n",
       "// Listen for the clearing of the current output cell\n",
       "var outputEl = gd.closest('.output');\n",
       "if (outputEl) {{\n",
       "    x.observe(outputEl, {childList: true});\n",
       "}}\n",
       "\n",
       "                        })\n",
       "                };\n",
       "                });\n",
       "            </script>\n",
       "        </div>"
      ]
     },
     "metadata": {},
     "output_type": "display_data"
    },
    {
     "data": {
      "application/vnd.plotly.v1+json": {
       "config": {
        "plotlyServerURL": "https://plot.ly"
       },
       "data": [
        {
         "hovertemplate": "Manufacturer-Id=55H9D PLUS<br>Date-Seen=%{x}<br>Price-Min=%{y}<extra></extra>",
         "legendgroup": "55H9D PLUS",
         "marker": {
          "color": "#636efa",
          "line": {
           "color": "DarkSlateGrey",
           "width": 1
          },
          "size": 7,
          "symbol": "circle"
         },
         "mode": "markers",
         "name": "55H9D PLUS",
         "orientation": "v",
         "showlegend": true,
         "type": "scatter",
         "x": [
          "2018-04-26T17:00:00",
          "2018-03-09T18:00:00"
         ],
         "xaxis": "x",
         "y": [
          599.99,
          699.99
         ],
         "yaxis": "y"
        },
        {
         "hovertemplate": "Manufacturer-Id=UN55KU7000FXZA<br>Date-Seen=%{x}<br>Price-Min=%{y}<extra></extra>",
         "legendgroup": "UN55KU7000FXZA",
         "marker": {
          "color": "#EF553B",
          "line": {
           "color": "DarkSlateGrey",
           "width": 1
          },
          "size": 7,
          "symbol": "circle"
         },
         "mode": "markers",
         "name": "UN55KU7000FXZA",
         "orientation": "v",
         "showlegend": true,
         "type": "scatter",
         "x": [
          "2017-12-06T01:00:00",
          "2017-11-08T20:00:00",
          "2017-10-24T01:00:00",
          "2017-08-14T14:00:00"
         ],
         "xaxis": "x",
         "y": [
          1197.99,
          1197.99,
          1197.99,
          1197.99
         ],
         "yaxis": "y"
        },
        {
         "hovertemplate": "Manufacturer-Id=XBR55A1E<br>Date-Seen=%{x}<br>Price-Min=%{y}<extra></extra>",
         "legendgroup": "XBR55A1E",
         "marker": {
          "color": "#00cc96",
          "line": {
           "color": "DarkSlateGrey",
           "width": 1
          },
          "size": 7,
          "symbol": "circle"
         },
         "mode": "markers",
         "name": "XBR55A1E",
         "orientation": "v",
         "showlegend": true,
         "type": "scatter",
         "x": [
          "2017-12-07T06:00:00",
          "2018-01-10T07:00:00",
          "2017-11-08T20:00:00",
          "2018-03-09T18:00:00",
          "2017-10-28T17:00:00",
          "2017-10-24T22:00:00",
          "2017-11-08T20:00:00",
          "2017-10-30T14:00:00",
          "2017-10-28T18:00:00",
          "2017-10-24T22:00:00",
          "2017-08-15T21:00:00",
          "2017-12-04T20:00:00",
          "2017-07-23T00:00:00",
          "2018-04-26T17:00:00",
          "2018-05-27T16:00:00",
          "2018-05-24T11:00:00",
          "2018-05-28T10:00:00"
         ],
         "xaxis": "x",
         "y": [
          3596,
          4296,
          2798,
          2798,
          2798,
          2798,
          4096,
          4096,
          4096,
          4096,
          3298,
          2498,
          3498,
          2498,
          2498,
          2498,
          2498
         ],
         "yaxis": "y"
        },
        {
         "hovertemplate": "Manufacturer-Id=QN55Q8FNBFXZA<br>Date-Seen=%{x}<br>Price-Min=%{y}<extra></extra>",
         "legendgroup": "QN55Q8FNBFXZA",
         "marker": {
          "color": "#ab63fa",
          "line": {
           "color": "DarkSlateGrey",
           "width": 1
          },
          "size": 7,
          "symbol": "circle"
         },
         "mode": "markers",
         "name": "QN55Q8FNBFXZA",
         "orientation": "v",
         "showlegend": true,
         "type": "scatter",
         "x": [
          "2018-04-26T17:00:00",
          "2018-05-27T16:00:00",
          "2018-05-24T11:00:00",
          "2018-05-28T10:00:00"
         ],
         "xaxis": "x",
         "y": [
          2097.99,
          1997.99,
          1997.99,
          1997.99
         ],
         "yaxis": "y"
        },
        {
         "hovertemplate": "Manufacturer-Id=XBR55X900F<br>Date-Seen=%{x}<br>Price-Min=%{y}<extra></extra>",
         "legendgroup": "XBR55X900F",
         "marker": {
          "color": "#FFA15A",
          "line": {
           "color": "DarkSlateGrey",
           "width": 1
          },
          "size": 7,
          "symbol": "circle"
         },
         "mode": "markers",
         "name": "XBR55X900F",
         "orientation": "v",
         "showlegend": true,
         "type": "scatter",
         "x": [
          "2018-04-26T17:00:00",
          "2018-05-27T16:00:00"
         ],
         "xaxis": "x",
         "y": [
          1498,
          1298
         ],
         "yaxis": "y"
        },
        {
         "hovertemplate": "Manufacturer-Id=UN55MU6490FXZA<br>Date-Seen=%{x}<br>Price-Min=%{y}<extra></extra>",
         "legendgroup": "UN55MU6490FXZA",
         "marker": {
          "color": "#19d3f3",
          "line": {
           "color": "DarkSlateGrey",
           "width": 1
          },
          "size": 7,
          "symbol": "circle"
         },
         "mode": "markers",
         "name": "UN55MU6490FXZA",
         "orientation": "v",
         "showlegend": true,
         "type": "scatter",
         "x": [
          "2017-10-24T01:00:00",
          "2018-05-27T16:00:00",
          "2018-05-28T11:00:00",
          "2018-05-24T11:00:00",
          "2017-11-16T19:00:00",
          "2017-11-08T20:00:00",
          "2018-04-26T17:00:00",
          "2017-09-17T08:00:00",
          "2018-04-26T17:00:00",
          "2017-11-16T19:00:00",
          "2017-12-06T01:00:00"
         ],
         "xaxis": "x",
         "y": [
          797.99,
          1097.99,
          1097.99,
          1097.99,
          799.99,
          799.99,
          1197.99,
          797.99,
          747.85,
          597.99,
          797.99
         ],
         "yaxis": "y"
        },
        {
         "hovertemplate": "Manufacturer-Id=55UJ7700<br>Date-Seen=%{x}<br>Price-Min=%{y}<extra></extra>",
         "legendgroup": "55UJ7700",
         "marker": {
          "color": "#FF6692",
          "line": {
           "color": "DarkSlateGrey",
           "width": 1
          },
          "size": 7,
          "symbol": "circle"
         },
         "mode": "markers",
         "name": "55UJ7700",
         "orientation": "v",
         "showlegend": true,
         "type": "scatter",
         "x": [
          "2018-05-27T16:00:00",
          "2018-05-28T10:00:00",
          "2018-04-26T17:00:00",
          "2018-03-09T18:00:00",
          "2018-03-09T18:00:00",
          "2018-02-05T20:00:00"
         ],
         "xaxis": "x",
         "y": [
          796.99,
          796.99,
          846.99,
          749,
          659.42,
          796.99
         ],
         "yaxis": "y"
        },
        {
         "hovertemplate": "Manufacturer-Id=QN55Q7CAMFXZA<br>Date-Seen=%{x}<br>Price-Min=%{y}<extra></extra>",
         "legendgroup": "QN55Q7CAMFXZA",
         "marker": {
          "color": "#B6E880",
          "line": {
           "color": "DarkSlateGrey",
           "width": 1
          },
          "size": 7,
          "symbol": "circle"
         },
         "mode": "markers",
         "name": "QN55Q7CAMFXZA",
         "orientation": "v",
         "showlegend": true,
         "type": "scatter",
         "x": [
          "2017-10-28T18:00:00",
          "2018-03-09T18:00:00",
          "2017-09-18T18:00:00",
          "2017-08-15T21:00:00",
          "2017-07-28T07:00:00",
          "2017-07-22T23:00:00",
          "2017-12-06T01:00:00",
          "2017-11-16T22:00:00",
          "2017-11-08T20:00:00",
          "2017-09-08T03:00:00",
          "2017-10-28T17:00:00",
          "2017-10-24T22:00:00",
          "2017-11-16T23:00:00",
          "2017-11-08T20:00:00",
          "2017-10-28T18:00:00",
          "2017-10-24T22:00:00",
          "2018-05-27T16:00:00",
          "2018-05-24T11:00:00",
          "2018-05-28T10:00:00",
          "2018-04-26T17:00:00",
          "2017-11-16T22:00:00",
          "2018-03-09T18:00:00",
          "2017-11-08T20:00:00",
          "2017-12-07T06:00:00",
          "2017-09-17T08:00:00",
          "2018-05-27T16:00:00",
          "2018-05-24T11:00:00",
          "2017-08-15T15:00:00",
          "2017-07-18T06:00:00",
          "2017-07-21T16:00:00",
          "2017-07-21T14:00:00",
          "2017-07-12T15:00:00",
          "2017-07-16T20:00:00",
          "2017-07-10T18:00:00",
          "2017-07-08T20:00:00",
          "2017-07-14T14:00:00",
          "2017-12-08T10:00:00",
          "2017-12-06T01:00:00",
          "2017-11-16T19:00:00",
          "2017-11-08T20:00:00",
          "2017-10-28T17:00:00",
          "2017-10-24T22:00:00",
          "2017-12-07T06:00:00",
          "2018-04-26T17:00:00",
          "2018-05-24T11:00:00"
         ],
         "xaxis": "x",
         "y": [
          2395.98,
          1497.99,
          2197.99,
          2197.99,
          2197.99,
          2197.99,
          1797.99,
          1797.99,
          1797.99,
          1897.99,
          1997.99,
          1997.99,
          2075.98,
          2075.98,
          1997.99,
          1997.99,
          1399.99,
          1399.99,
          1399.99,
          1797.99,
          1797.99,
          1797.99,
          1797.99,
          1797.99,
          2475.98,
          1978.01,
          1978.01,
          2197.99,
          2197.99,
          2197.99,
          2197.99,
          2197.99,
          2197.99,
          2197.99,
          2197.99,
          2197.99,
          1599,
          1599,
          1599,
          1599,
          1599,
          1599,
          2125.98,
          2797.99,
          2797.99
         ],
         "yaxis": "y"
        },
        {
         "hovertemplate": "Manufacturer-Id=55H8C<br>Date-Seen=%{x}<br>Price-Min=%{y}<extra></extra>",
         "legendgroup": "55H8C",
         "marker": {
          "color": "#FF97FF",
          "line": {
           "color": "DarkSlateGrey",
           "width": 1
          },
          "size": 7,
          "symbol": "circle"
         },
         "mode": "markers",
         "name": "55H8C",
         "orientation": "v",
         "showlegend": true,
         "type": "scatter",
         "x": [
          "2017-07-21T16:00:00",
          "2018-04-26T17:00:00",
          "2018-03-09T18:00:00",
          "2017-10-28T17:00:00",
          "2017-10-24T22:00:00"
         ],
         "xaxis": "x",
         "y": [
          768.98,
          449.99,
          429.99,
          549.99,
          724.7
         ],
         "yaxis": "y"
        },
        {
         "hovertemplate": "Manufacturer-Id=XBR55X700D<br>Date-Seen=%{x}<br>Price-Min=%{y}<extra></extra>",
         "legendgroup": "XBR55X700D",
         "marker": {
          "color": "#FECB52",
          "line": {
           "color": "DarkSlateGrey",
           "width": 1
          },
          "size": 7,
          "symbol": "circle"
         },
         "mode": "markers",
         "name": "XBR55X700D",
         "orientation": "v",
         "showlegend": true,
         "type": "scatter",
         "x": [
          "2017-08-14T14:00:00",
          "2017-07-10T18:00:00",
          "2017-07-08T20:00:00",
          "2017-07-18T06:00:00",
          "2017-07-21T16:00:00",
          "2017-07-21T14:00:00",
          "2017-07-12T15:00:00",
          "2017-07-14T14:00:00"
         ],
         "xaxis": "x",
         "y": [
          798,
          798,
          798,
          848,
          848,
          848,
          848,
          848
         ],
         "yaxis": "y"
        },
        {
         "hovertemplate": "Manufacturer-Id=XBR55X800E<br>Date-Seen=%{x}<br>Price-Min=%{y}<extra></extra>",
         "legendgroup": "XBR55X800E",
         "marker": {
          "color": "#636efa",
          "line": {
           "color": "DarkSlateGrey",
           "width": 1
          },
          "size": 7,
          "symbol": "circle"
         },
         "mode": "markers",
         "name": "XBR55X800E",
         "orientation": "v",
         "showlegend": true,
         "type": "scatter",
         "x": [
          "2017-12-06T01:00:00",
          "2018-01-10T14:00:00",
          "2017-07-21T16:00:00",
          "2017-11-16T19:00:00",
          "2017-10-28T17:00:00",
          "2017-10-24T22:00:00",
          "2018-03-09T18:00:00",
          "2018-04-26T17:00:00",
          "2018-05-27T16:00:00",
          "2018-03-15T19:00:00",
          "2017-10-24T01:00:00",
          "2018-05-28T11:00:00",
          "2018-05-24T11:00:00",
          "2018-03-09T18:00:00",
          "2017-11-16T22:00:00",
          "2018-01-10T07:00:00",
          "2017-07-21T16:00:00",
          "2017-09-15T00:00:00",
          "2017-11-16T19:00:00",
          "2017-10-24T01:00:00"
         ],
         "xaxis": "x",
         "y": [
          1896,
          695.47,
          998,
          2196,
          2196,
          2196,
          838,
          898,
          898,
          898,
          898,
          898,
          898,
          798,
          798,
          2096,
          998,
          998,
          898,
          898
         ],
         "yaxis": "y"
        }
       ],
       "layout": {
        "font": {
         "size": 12
        },
        "legend": {
         "title": {
          "text": "Models"
         },
         "tracegroupgap": 0
        },
        "margin": {
         "t": 60
        },
        "showlegend": false,
        "template": {
         "data": {
          "bar": [
           {
            "error_x": {
             "color": "#2a3f5f"
            },
            "error_y": {
             "color": "#2a3f5f"
            },
            "marker": {
             "line": {
              "color": "#E5ECF6",
              "width": 0.5
             }
            },
            "type": "bar"
           }
          ],
          "barpolar": [
           {
            "marker": {
             "line": {
              "color": "#E5ECF6",
              "width": 0.5
             }
            },
            "type": "barpolar"
           }
          ],
          "carpet": [
           {
            "aaxis": {
             "endlinecolor": "#2a3f5f",
             "gridcolor": "white",
             "linecolor": "white",
             "minorgridcolor": "white",
             "startlinecolor": "#2a3f5f"
            },
            "baxis": {
             "endlinecolor": "#2a3f5f",
             "gridcolor": "white",
             "linecolor": "white",
             "minorgridcolor": "white",
             "startlinecolor": "#2a3f5f"
            },
            "type": "carpet"
           }
          ],
          "choropleth": [
           {
            "colorbar": {
             "outlinewidth": 0,
             "ticks": ""
            },
            "type": "choropleth"
           }
          ],
          "contour": [
           {
            "colorbar": {
             "outlinewidth": 0,
             "ticks": ""
            },
            "colorscale": [
             [
              0,
              "#0d0887"
             ],
             [
              0.1111111111111111,
              "#46039f"
             ],
             [
              0.2222222222222222,
              "#7201a8"
             ],
             [
              0.3333333333333333,
              "#9c179e"
             ],
             [
              0.4444444444444444,
              "#bd3786"
             ],
             [
              0.5555555555555556,
              "#d8576b"
             ],
             [
              0.6666666666666666,
              "#ed7953"
             ],
             [
              0.7777777777777778,
              "#fb9f3a"
             ],
             [
              0.8888888888888888,
              "#fdca26"
             ],
             [
              1,
              "#f0f921"
             ]
            ],
            "type": "contour"
           }
          ],
          "contourcarpet": [
           {
            "colorbar": {
             "outlinewidth": 0,
             "ticks": ""
            },
            "type": "contourcarpet"
           }
          ],
          "heatmap": [
           {
            "colorbar": {
             "outlinewidth": 0,
             "ticks": ""
            },
            "colorscale": [
             [
              0,
              "#0d0887"
             ],
             [
              0.1111111111111111,
              "#46039f"
             ],
             [
              0.2222222222222222,
              "#7201a8"
             ],
             [
              0.3333333333333333,
              "#9c179e"
             ],
             [
              0.4444444444444444,
              "#bd3786"
             ],
             [
              0.5555555555555556,
              "#d8576b"
             ],
             [
              0.6666666666666666,
              "#ed7953"
             ],
             [
              0.7777777777777778,
              "#fb9f3a"
             ],
             [
              0.8888888888888888,
              "#fdca26"
             ],
             [
              1,
              "#f0f921"
             ]
            ],
            "type": "heatmap"
           }
          ],
          "heatmapgl": [
           {
            "colorbar": {
             "outlinewidth": 0,
             "ticks": ""
            },
            "colorscale": [
             [
              0,
              "#0d0887"
             ],
             [
              0.1111111111111111,
              "#46039f"
             ],
             [
              0.2222222222222222,
              "#7201a8"
             ],
             [
              0.3333333333333333,
              "#9c179e"
             ],
             [
              0.4444444444444444,
              "#bd3786"
             ],
             [
              0.5555555555555556,
              "#d8576b"
             ],
             [
              0.6666666666666666,
              "#ed7953"
             ],
             [
              0.7777777777777778,
              "#fb9f3a"
             ],
             [
              0.8888888888888888,
              "#fdca26"
             ],
             [
              1,
              "#f0f921"
             ]
            ],
            "type": "heatmapgl"
           }
          ],
          "histogram": [
           {
            "marker": {
             "colorbar": {
              "outlinewidth": 0,
              "ticks": ""
             }
            },
            "type": "histogram"
           }
          ],
          "histogram2d": [
           {
            "colorbar": {
             "outlinewidth": 0,
             "ticks": ""
            },
            "colorscale": [
             [
              0,
              "#0d0887"
             ],
             [
              0.1111111111111111,
              "#46039f"
             ],
             [
              0.2222222222222222,
              "#7201a8"
             ],
             [
              0.3333333333333333,
              "#9c179e"
             ],
             [
              0.4444444444444444,
              "#bd3786"
             ],
             [
              0.5555555555555556,
              "#d8576b"
             ],
             [
              0.6666666666666666,
              "#ed7953"
             ],
             [
              0.7777777777777778,
              "#fb9f3a"
             ],
             [
              0.8888888888888888,
              "#fdca26"
             ],
             [
              1,
              "#f0f921"
             ]
            ],
            "type": "histogram2d"
           }
          ],
          "histogram2dcontour": [
           {
            "colorbar": {
             "outlinewidth": 0,
             "ticks": ""
            },
            "colorscale": [
             [
              0,
              "#0d0887"
             ],
             [
              0.1111111111111111,
              "#46039f"
             ],
             [
              0.2222222222222222,
              "#7201a8"
             ],
             [
              0.3333333333333333,
              "#9c179e"
             ],
             [
              0.4444444444444444,
              "#bd3786"
             ],
             [
              0.5555555555555556,
              "#d8576b"
             ],
             [
              0.6666666666666666,
              "#ed7953"
             ],
             [
              0.7777777777777778,
              "#fb9f3a"
             ],
             [
              0.8888888888888888,
              "#fdca26"
             ],
             [
              1,
              "#f0f921"
             ]
            ],
            "type": "histogram2dcontour"
           }
          ],
          "mesh3d": [
           {
            "colorbar": {
             "outlinewidth": 0,
             "ticks": ""
            },
            "type": "mesh3d"
           }
          ],
          "parcoords": [
           {
            "line": {
             "colorbar": {
              "outlinewidth": 0,
              "ticks": ""
             }
            },
            "type": "parcoords"
           }
          ],
          "pie": [
           {
            "automargin": true,
            "type": "pie"
           }
          ],
          "scatter": [
           {
            "marker": {
             "colorbar": {
              "outlinewidth": 0,
              "ticks": ""
             }
            },
            "type": "scatter"
           }
          ],
          "scatter3d": [
           {
            "line": {
             "colorbar": {
              "outlinewidth": 0,
              "ticks": ""
             }
            },
            "marker": {
             "colorbar": {
              "outlinewidth": 0,
              "ticks": ""
             }
            },
            "type": "scatter3d"
           }
          ],
          "scattercarpet": [
           {
            "marker": {
             "colorbar": {
              "outlinewidth": 0,
              "ticks": ""
             }
            },
            "type": "scattercarpet"
           }
          ],
          "scattergeo": [
           {
            "marker": {
             "colorbar": {
              "outlinewidth": 0,
              "ticks": ""
             }
            },
            "type": "scattergeo"
           }
          ],
          "scattergl": [
           {
            "marker": {
             "colorbar": {
              "outlinewidth": 0,
              "ticks": ""
             }
            },
            "type": "scattergl"
           }
          ],
          "scattermapbox": [
           {
            "marker": {
             "colorbar": {
              "outlinewidth": 0,
              "ticks": ""
             }
            },
            "type": "scattermapbox"
           }
          ],
          "scatterpolar": [
           {
            "marker": {
             "colorbar": {
              "outlinewidth": 0,
              "ticks": ""
             }
            },
            "type": "scatterpolar"
           }
          ],
          "scatterpolargl": [
           {
            "marker": {
             "colorbar": {
              "outlinewidth": 0,
              "ticks": ""
             }
            },
            "type": "scatterpolargl"
           }
          ],
          "scatterternary": [
           {
            "marker": {
             "colorbar": {
              "outlinewidth": 0,
              "ticks": ""
             }
            },
            "type": "scatterternary"
           }
          ],
          "surface": [
           {
            "colorbar": {
             "outlinewidth": 0,
             "ticks": ""
            },
            "colorscale": [
             [
              0,
              "#0d0887"
             ],
             [
              0.1111111111111111,
              "#46039f"
             ],
             [
              0.2222222222222222,
              "#7201a8"
             ],
             [
              0.3333333333333333,
              "#9c179e"
             ],
             [
              0.4444444444444444,
              "#bd3786"
             ],
             [
              0.5555555555555556,
              "#d8576b"
             ],
             [
              0.6666666666666666,
              "#ed7953"
             ],
             [
              0.7777777777777778,
              "#fb9f3a"
             ],
             [
              0.8888888888888888,
              "#fdca26"
             ],
             [
              1,
              "#f0f921"
             ]
            ],
            "type": "surface"
           }
          ],
          "table": [
           {
            "cells": {
             "fill": {
              "color": "#EBF0F8"
             },
             "line": {
              "color": "white"
             }
            },
            "header": {
             "fill": {
              "color": "#C8D4E3"
             },
             "line": {
              "color": "white"
             }
            },
            "type": "table"
           }
          ]
         },
         "layout": {
          "annotationdefaults": {
           "arrowcolor": "#2a3f5f",
           "arrowhead": 0,
           "arrowwidth": 1
          },
          "coloraxis": {
           "colorbar": {
            "outlinewidth": 0,
            "ticks": ""
           }
          },
          "colorscale": {
           "diverging": [
            [
             0,
             "#8e0152"
            ],
            [
             0.1,
             "#c51b7d"
            ],
            [
             0.2,
             "#de77ae"
            ],
            [
             0.3,
             "#f1b6da"
            ],
            [
             0.4,
             "#fde0ef"
            ],
            [
             0.5,
             "#f7f7f7"
            ],
            [
             0.6,
             "#e6f5d0"
            ],
            [
             0.7,
             "#b8e186"
            ],
            [
             0.8,
             "#7fbc41"
            ],
            [
             0.9,
             "#4d9221"
            ],
            [
             1,
             "#276419"
            ]
           ],
           "sequential": [
            [
             0,
             "#0d0887"
            ],
            [
             0.1111111111111111,
             "#46039f"
            ],
            [
             0.2222222222222222,
             "#7201a8"
            ],
            [
             0.3333333333333333,
             "#9c179e"
            ],
            [
             0.4444444444444444,
             "#bd3786"
            ],
            [
             0.5555555555555556,
             "#d8576b"
            ],
            [
             0.6666666666666666,
             "#ed7953"
            ],
            [
             0.7777777777777778,
             "#fb9f3a"
            ],
            [
             0.8888888888888888,
             "#fdca26"
            ],
            [
             1,
             "#f0f921"
            ]
           ],
           "sequentialminus": [
            [
             0,
             "#0d0887"
            ],
            [
             0.1111111111111111,
             "#46039f"
            ],
            [
             0.2222222222222222,
             "#7201a8"
            ],
            [
             0.3333333333333333,
             "#9c179e"
            ],
            [
             0.4444444444444444,
             "#bd3786"
            ],
            [
             0.5555555555555556,
             "#d8576b"
            ],
            [
             0.6666666666666666,
             "#ed7953"
            ],
            [
             0.7777777777777778,
             "#fb9f3a"
            ],
            [
             0.8888888888888888,
             "#fdca26"
            ],
            [
             1,
             "#f0f921"
            ]
           ]
          },
          "colorway": [
           "#636efa",
           "#EF553B",
           "#00cc96",
           "#ab63fa",
           "#FFA15A",
           "#19d3f3",
           "#FF6692",
           "#B6E880",
           "#FF97FF",
           "#FECB52"
          ],
          "font": {
           "color": "#2a3f5f"
          },
          "geo": {
           "bgcolor": "white",
           "lakecolor": "white",
           "landcolor": "#E5ECF6",
           "showlakes": true,
           "showland": true,
           "subunitcolor": "white"
          },
          "hoverlabel": {
           "align": "left"
          },
          "hovermode": "closest",
          "mapbox": {
           "style": "light"
          },
          "paper_bgcolor": "white",
          "plot_bgcolor": "#E5ECF6",
          "polar": {
           "angularaxis": {
            "gridcolor": "white",
            "linecolor": "white",
            "ticks": ""
           },
           "bgcolor": "#E5ECF6",
           "radialaxis": {
            "gridcolor": "white",
            "linecolor": "white",
            "ticks": ""
           }
          },
          "scene": {
           "xaxis": {
            "backgroundcolor": "#E5ECF6",
            "gridcolor": "white",
            "gridwidth": 2,
            "linecolor": "white",
            "showbackground": true,
            "ticks": "",
            "zerolinecolor": "white"
           },
           "yaxis": {
            "backgroundcolor": "#E5ECF6",
            "gridcolor": "white",
            "gridwidth": 2,
            "linecolor": "white",
            "showbackground": true,
            "ticks": "",
            "zerolinecolor": "white"
           },
           "zaxis": {
            "backgroundcolor": "#E5ECF6",
            "gridcolor": "white",
            "gridwidth": 2,
            "linecolor": "white",
            "showbackground": true,
            "ticks": "",
            "zerolinecolor": "white"
           }
          },
          "shapedefaults": {
           "line": {
            "color": "#2a3f5f"
           }
          },
          "ternary": {
           "aaxis": {
            "gridcolor": "white",
            "linecolor": "white",
            "ticks": ""
           },
           "baxis": {
            "gridcolor": "white",
            "linecolor": "white",
            "ticks": ""
           },
           "bgcolor": "#E5ECF6",
           "caxis": {
            "gridcolor": "white",
            "linecolor": "white",
            "ticks": ""
           }
          },
          "title": {
           "x": 0.05
          },
          "xaxis": {
           "automargin": true,
           "gridcolor": "white",
           "linecolor": "white",
           "ticks": "",
           "title": {
            "standoff": 15
           },
           "zerolinecolor": "white",
           "zerolinewidth": 2
          },
          "yaxis": {
           "automargin": true,
           "gridcolor": "white",
           "linecolor": "white",
           "ticks": "",
           "title": {
            "standoff": 15
           },
           "zerolinecolor": "white",
           "zerolinewidth": 2
          }
         }
        },
        "xaxis": {
         "anchor": "y",
         "domain": [
          0,
          1
         ],
         "title": {
          "text": ""
         }
        },
        "yaxis": {
         "anchor": "x",
         "domain": [
          0,
          1
         ],
         "tickprefix": "$",
         "title": {
          "text": ""
         }
        }
       }
      },
      "text/html": [
       "<div>\n",
       "        \n",
       "        \n",
       "            <div id=\"2db41d13-6257-4495-9331-41137cb62f4b\" class=\"plotly-graph-div\" style=\"height:525px; width:100%;\"></div>\n",
       "            <script type=\"text/javascript\">\n",
       "                require([\"plotly\"], function(Plotly) {\n",
       "                    window.PLOTLYENV=window.PLOTLYENV || {};\n",
       "                    \n",
       "                if (document.getElementById(\"2db41d13-6257-4495-9331-41137cb62f4b\")) {\n",
       "                    Plotly.newPlot(\n",
       "                        '2db41d13-6257-4495-9331-41137cb62f4b',\n",
       "                        [{\"hovertemplate\": \"Manufacturer-Id=55H9D PLUS<br>Date-Seen=%{x}<br>Price-Min=%{y}<extra></extra>\", \"legendgroup\": \"55H9D PLUS\", \"marker\": {\"color\": \"#636efa\", \"line\": {\"color\": \"DarkSlateGrey\", \"width\": 1}, \"size\": 7, \"symbol\": \"circle\"}, \"mode\": \"markers\", \"name\": \"55H9D PLUS\", \"orientation\": \"v\", \"showlegend\": true, \"type\": \"scatter\", \"x\": [\"2018-04-26T17:00:00\", \"2018-03-09T18:00:00\"], \"xaxis\": \"x\", \"y\": [599.99, 699.99], \"yaxis\": \"y\"}, {\"hovertemplate\": \"Manufacturer-Id=UN55KU7000FXZA<br>Date-Seen=%{x}<br>Price-Min=%{y}<extra></extra>\", \"legendgroup\": \"UN55KU7000FXZA\", \"marker\": {\"color\": \"#EF553B\", \"line\": {\"color\": \"DarkSlateGrey\", \"width\": 1}, \"size\": 7, \"symbol\": \"circle\"}, \"mode\": \"markers\", \"name\": \"UN55KU7000FXZA\", \"orientation\": \"v\", \"showlegend\": true, \"type\": \"scatter\", \"x\": [\"2017-12-06T01:00:00\", \"2017-11-08T20:00:00\", \"2017-10-24T01:00:00\", \"2017-08-14T14:00:00\"], \"xaxis\": \"x\", \"y\": [1197.99, 1197.99, 1197.99, 1197.99], \"yaxis\": \"y\"}, {\"hovertemplate\": \"Manufacturer-Id=XBR55A1E<br>Date-Seen=%{x}<br>Price-Min=%{y}<extra></extra>\", \"legendgroup\": \"XBR55A1E\", \"marker\": {\"color\": \"#00cc96\", \"line\": {\"color\": \"DarkSlateGrey\", \"width\": 1}, \"size\": 7, \"symbol\": \"circle\"}, \"mode\": \"markers\", \"name\": \"XBR55A1E\", \"orientation\": \"v\", \"showlegend\": true, \"type\": \"scatter\", \"x\": [\"2017-12-07T06:00:00\", \"2018-01-10T07:00:00\", \"2017-11-08T20:00:00\", \"2018-03-09T18:00:00\", \"2017-10-28T17:00:00\", \"2017-10-24T22:00:00\", \"2017-11-08T20:00:00\", \"2017-10-30T14:00:00\", \"2017-10-28T18:00:00\", \"2017-10-24T22:00:00\", \"2017-08-15T21:00:00\", \"2017-12-04T20:00:00\", \"2017-07-23T00:00:00\", \"2018-04-26T17:00:00\", \"2018-05-27T16:00:00\", \"2018-05-24T11:00:00\", \"2018-05-28T10:00:00\"], \"xaxis\": \"x\", \"y\": [3596.0, 4296.0, 2798.0, 2798.0, 2798.0, 2798.0, 4096.0, 4096.0, 4096.0, 4096.0, 3298.0, 2498.0, 3498.0, 2498.0, 2498.0, 2498.0, 2498.0], \"yaxis\": \"y\"}, {\"hovertemplate\": \"Manufacturer-Id=QN55Q8FNBFXZA<br>Date-Seen=%{x}<br>Price-Min=%{y}<extra></extra>\", \"legendgroup\": \"QN55Q8FNBFXZA\", \"marker\": {\"color\": \"#ab63fa\", \"line\": {\"color\": \"DarkSlateGrey\", \"width\": 1}, \"size\": 7, \"symbol\": \"circle\"}, \"mode\": \"markers\", \"name\": \"QN55Q8FNBFXZA\", \"orientation\": \"v\", \"showlegend\": true, \"type\": \"scatter\", \"x\": [\"2018-04-26T17:00:00\", \"2018-05-27T16:00:00\", \"2018-05-24T11:00:00\", \"2018-05-28T10:00:00\"], \"xaxis\": \"x\", \"y\": [2097.99, 1997.99, 1997.99, 1997.99], \"yaxis\": \"y\"}, {\"hovertemplate\": \"Manufacturer-Id=XBR55X900F<br>Date-Seen=%{x}<br>Price-Min=%{y}<extra></extra>\", \"legendgroup\": \"XBR55X900F\", \"marker\": {\"color\": \"#FFA15A\", \"line\": {\"color\": \"DarkSlateGrey\", \"width\": 1}, \"size\": 7, \"symbol\": \"circle\"}, \"mode\": \"markers\", \"name\": \"XBR55X900F\", \"orientation\": \"v\", \"showlegend\": true, \"type\": \"scatter\", \"x\": [\"2018-04-26T17:00:00\", \"2018-05-27T16:00:00\"], \"xaxis\": \"x\", \"y\": [1498.0, 1298.0], \"yaxis\": \"y\"}, {\"hovertemplate\": \"Manufacturer-Id=UN55MU6490FXZA<br>Date-Seen=%{x}<br>Price-Min=%{y}<extra></extra>\", \"legendgroup\": \"UN55MU6490FXZA\", \"marker\": {\"color\": \"#19d3f3\", \"line\": {\"color\": \"DarkSlateGrey\", \"width\": 1}, \"size\": 7, \"symbol\": \"circle\"}, \"mode\": \"markers\", \"name\": \"UN55MU6490FXZA\", \"orientation\": \"v\", \"showlegend\": true, \"type\": \"scatter\", \"x\": [\"2017-10-24T01:00:00\", \"2018-05-27T16:00:00\", \"2018-05-28T11:00:00\", \"2018-05-24T11:00:00\", \"2017-11-16T19:00:00\", \"2017-11-08T20:00:00\", \"2018-04-26T17:00:00\", \"2017-09-17T08:00:00\", \"2018-04-26T17:00:00\", \"2017-11-16T19:00:00\", \"2017-12-06T01:00:00\"], \"xaxis\": \"x\", \"y\": [797.99, 1097.99, 1097.99, 1097.99, 799.99, 799.99, 1197.99, 797.99, 747.85, 597.99, 797.99], \"yaxis\": \"y\"}, {\"hovertemplate\": \"Manufacturer-Id=55UJ7700<br>Date-Seen=%{x}<br>Price-Min=%{y}<extra></extra>\", \"legendgroup\": \"55UJ7700\", \"marker\": {\"color\": \"#FF6692\", \"line\": {\"color\": \"DarkSlateGrey\", \"width\": 1}, \"size\": 7, \"symbol\": \"circle\"}, \"mode\": \"markers\", \"name\": \"55UJ7700\", \"orientation\": \"v\", \"showlegend\": true, \"type\": \"scatter\", \"x\": [\"2018-05-27T16:00:00\", \"2018-05-28T10:00:00\", \"2018-04-26T17:00:00\", \"2018-03-09T18:00:00\", \"2018-03-09T18:00:00\", \"2018-02-05T20:00:00\"], \"xaxis\": \"x\", \"y\": [796.99, 796.99, 846.99, 749.0, 659.42, 796.99], \"yaxis\": \"y\"}, {\"hovertemplate\": \"Manufacturer-Id=QN55Q7CAMFXZA<br>Date-Seen=%{x}<br>Price-Min=%{y}<extra></extra>\", \"legendgroup\": \"QN55Q7CAMFXZA\", \"marker\": {\"color\": \"#B6E880\", \"line\": {\"color\": \"DarkSlateGrey\", \"width\": 1}, \"size\": 7, \"symbol\": \"circle\"}, \"mode\": \"markers\", \"name\": \"QN55Q7CAMFXZA\", \"orientation\": \"v\", \"showlegend\": true, \"type\": \"scatter\", \"x\": [\"2017-10-28T18:00:00\", \"2018-03-09T18:00:00\", \"2017-09-18T18:00:00\", \"2017-08-15T21:00:00\", \"2017-07-28T07:00:00\", \"2017-07-22T23:00:00\", \"2017-12-06T01:00:00\", \"2017-11-16T22:00:00\", \"2017-11-08T20:00:00\", \"2017-09-08T03:00:00\", \"2017-10-28T17:00:00\", \"2017-10-24T22:00:00\", \"2017-11-16T23:00:00\", \"2017-11-08T20:00:00\", \"2017-10-28T18:00:00\", \"2017-10-24T22:00:00\", \"2018-05-27T16:00:00\", \"2018-05-24T11:00:00\", \"2018-05-28T10:00:00\", \"2018-04-26T17:00:00\", \"2017-11-16T22:00:00\", \"2018-03-09T18:00:00\", \"2017-11-08T20:00:00\", \"2017-12-07T06:00:00\", \"2017-09-17T08:00:00\", \"2018-05-27T16:00:00\", \"2018-05-24T11:00:00\", \"2017-08-15T15:00:00\", \"2017-07-18T06:00:00\", \"2017-07-21T16:00:00\", \"2017-07-21T14:00:00\", \"2017-07-12T15:00:00\", \"2017-07-16T20:00:00\", \"2017-07-10T18:00:00\", \"2017-07-08T20:00:00\", \"2017-07-14T14:00:00\", \"2017-12-08T10:00:00\", \"2017-12-06T01:00:00\", \"2017-11-16T19:00:00\", \"2017-11-08T20:00:00\", \"2017-10-28T17:00:00\", \"2017-10-24T22:00:00\", \"2017-12-07T06:00:00\", \"2018-04-26T17:00:00\", \"2018-05-24T11:00:00\"], \"xaxis\": \"x\", \"y\": [2395.98, 1497.99, 2197.99, 2197.99, 2197.99, 2197.99, 1797.99, 1797.99, 1797.99, 1897.99, 1997.99, 1997.99, 2075.98, 2075.98, 1997.99, 1997.99, 1399.99, 1399.99, 1399.99, 1797.99, 1797.99, 1797.99, 1797.99, 1797.99, 2475.98, 1978.01, 1978.01, 2197.99, 2197.99, 2197.99, 2197.99, 2197.99, 2197.99, 2197.99, 2197.99, 2197.99, 1599.0, 1599.0, 1599.0, 1599.0, 1599.0, 1599.0, 2125.98, 2797.99, 2797.99], \"yaxis\": \"y\"}, {\"hovertemplate\": \"Manufacturer-Id=55H8C<br>Date-Seen=%{x}<br>Price-Min=%{y}<extra></extra>\", \"legendgroup\": \"55H8C\", \"marker\": {\"color\": \"#FF97FF\", \"line\": {\"color\": \"DarkSlateGrey\", \"width\": 1}, \"size\": 7, \"symbol\": \"circle\"}, \"mode\": \"markers\", \"name\": \"55H8C\", \"orientation\": \"v\", \"showlegend\": true, \"type\": \"scatter\", \"x\": [\"2017-07-21T16:00:00\", \"2018-04-26T17:00:00\", \"2018-03-09T18:00:00\", \"2017-10-28T17:00:00\", \"2017-10-24T22:00:00\"], \"xaxis\": \"x\", \"y\": [768.98, 449.99, 429.99, 549.99, 724.7], \"yaxis\": \"y\"}, {\"hovertemplate\": \"Manufacturer-Id=XBR55X700D<br>Date-Seen=%{x}<br>Price-Min=%{y}<extra></extra>\", \"legendgroup\": \"XBR55X700D\", \"marker\": {\"color\": \"#FECB52\", \"line\": {\"color\": \"DarkSlateGrey\", \"width\": 1}, \"size\": 7, \"symbol\": \"circle\"}, \"mode\": \"markers\", \"name\": \"XBR55X700D\", \"orientation\": \"v\", \"showlegend\": true, \"type\": \"scatter\", \"x\": [\"2017-08-14T14:00:00\", \"2017-07-10T18:00:00\", \"2017-07-08T20:00:00\", \"2017-07-18T06:00:00\", \"2017-07-21T16:00:00\", \"2017-07-21T14:00:00\", \"2017-07-12T15:00:00\", \"2017-07-14T14:00:00\"], \"xaxis\": \"x\", \"y\": [798.0, 798.0, 798.0, 848.0, 848.0, 848.0, 848.0, 848.0], \"yaxis\": \"y\"}, {\"hovertemplate\": \"Manufacturer-Id=XBR55X800E<br>Date-Seen=%{x}<br>Price-Min=%{y}<extra></extra>\", \"legendgroup\": \"XBR55X800E\", \"marker\": {\"color\": \"#636efa\", \"line\": {\"color\": \"DarkSlateGrey\", \"width\": 1}, \"size\": 7, \"symbol\": \"circle\"}, \"mode\": \"markers\", \"name\": \"XBR55X800E\", \"orientation\": \"v\", \"showlegend\": true, \"type\": \"scatter\", \"x\": [\"2017-12-06T01:00:00\", \"2018-01-10T14:00:00\", \"2017-07-21T16:00:00\", \"2017-11-16T19:00:00\", \"2017-10-28T17:00:00\", \"2017-10-24T22:00:00\", \"2018-03-09T18:00:00\", \"2018-04-26T17:00:00\", \"2018-05-27T16:00:00\", \"2018-03-15T19:00:00\", \"2017-10-24T01:00:00\", \"2018-05-28T11:00:00\", \"2018-05-24T11:00:00\", \"2018-03-09T18:00:00\", \"2017-11-16T22:00:00\", \"2018-01-10T07:00:00\", \"2017-07-21T16:00:00\", \"2017-09-15T00:00:00\", \"2017-11-16T19:00:00\", \"2017-10-24T01:00:00\"], \"xaxis\": \"x\", \"y\": [1896.0, 695.47, 998.0, 2196.0, 2196.0, 2196.0, 838.0, 898.0, 898.0, 898.0, 898.0, 898.0, 898.0, 798.0, 798.0, 2096.0, 998.0, 998.0, 898.0, 898.0], \"yaxis\": \"y\"}],\n",
       "                        {\"font\": {\"size\": 12}, \"legend\": {\"title\": {\"text\": \"Models\"}, \"tracegroupgap\": 0}, \"margin\": {\"t\": 60}, \"showlegend\": false, \"template\": {\"data\": {\"bar\": [{\"error_x\": {\"color\": \"#2a3f5f\"}, \"error_y\": {\"color\": \"#2a3f5f\"}, \"marker\": {\"line\": {\"color\": \"#E5ECF6\", \"width\": 0.5}}, \"type\": \"bar\"}], \"barpolar\": [{\"marker\": {\"line\": {\"color\": \"#E5ECF6\", \"width\": 0.5}}, \"type\": \"barpolar\"}], \"carpet\": [{\"aaxis\": {\"endlinecolor\": \"#2a3f5f\", \"gridcolor\": \"white\", \"linecolor\": \"white\", \"minorgridcolor\": \"white\", \"startlinecolor\": \"#2a3f5f\"}, \"baxis\": {\"endlinecolor\": \"#2a3f5f\", \"gridcolor\": \"white\", \"linecolor\": \"white\", \"minorgridcolor\": \"white\", \"startlinecolor\": \"#2a3f5f\"}, \"type\": \"carpet\"}], \"choropleth\": [{\"colorbar\": {\"outlinewidth\": 0, \"ticks\": \"\"}, \"type\": \"choropleth\"}], \"contour\": [{\"colorbar\": {\"outlinewidth\": 0, \"ticks\": \"\"}, \"colorscale\": [[0.0, \"#0d0887\"], [0.1111111111111111, \"#46039f\"], [0.2222222222222222, \"#7201a8\"], [0.3333333333333333, \"#9c179e\"], [0.4444444444444444, \"#bd3786\"], [0.5555555555555556, \"#d8576b\"], [0.6666666666666666, \"#ed7953\"], [0.7777777777777778, \"#fb9f3a\"], [0.8888888888888888, \"#fdca26\"], [1.0, \"#f0f921\"]], \"type\": \"contour\"}], \"contourcarpet\": [{\"colorbar\": {\"outlinewidth\": 0, \"ticks\": \"\"}, \"type\": \"contourcarpet\"}], \"heatmap\": [{\"colorbar\": {\"outlinewidth\": 0, \"ticks\": \"\"}, \"colorscale\": [[0.0, \"#0d0887\"], [0.1111111111111111, \"#46039f\"], [0.2222222222222222, \"#7201a8\"], [0.3333333333333333, \"#9c179e\"], [0.4444444444444444, \"#bd3786\"], [0.5555555555555556, \"#d8576b\"], [0.6666666666666666, \"#ed7953\"], [0.7777777777777778, \"#fb9f3a\"], [0.8888888888888888, \"#fdca26\"], [1.0, \"#f0f921\"]], \"type\": \"heatmap\"}], \"heatmapgl\": [{\"colorbar\": {\"outlinewidth\": 0, \"ticks\": \"\"}, \"colorscale\": [[0.0, \"#0d0887\"], [0.1111111111111111, \"#46039f\"], [0.2222222222222222, \"#7201a8\"], [0.3333333333333333, \"#9c179e\"], [0.4444444444444444, \"#bd3786\"], [0.5555555555555556, \"#d8576b\"], [0.6666666666666666, \"#ed7953\"], [0.7777777777777778, \"#fb9f3a\"], [0.8888888888888888, \"#fdca26\"], [1.0, \"#f0f921\"]], \"type\": \"heatmapgl\"}], \"histogram\": [{\"marker\": {\"colorbar\": {\"outlinewidth\": 0, \"ticks\": \"\"}}, \"type\": \"histogram\"}], \"histogram2d\": [{\"colorbar\": {\"outlinewidth\": 0, \"ticks\": \"\"}, \"colorscale\": [[0.0, \"#0d0887\"], [0.1111111111111111, \"#46039f\"], [0.2222222222222222, \"#7201a8\"], [0.3333333333333333, \"#9c179e\"], [0.4444444444444444, \"#bd3786\"], [0.5555555555555556, \"#d8576b\"], [0.6666666666666666, \"#ed7953\"], [0.7777777777777778, \"#fb9f3a\"], [0.8888888888888888, \"#fdca26\"], [1.0, \"#f0f921\"]], \"type\": \"histogram2d\"}], \"histogram2dcontour\": [{\"colorbar\": {\"outlinewidth\": 0, \"ticks\": \"\"}, \"colorscale\": [[0.0, \"#0d0887\"], [0.1111111111111111, \"#46039f\"], [0.2222222222222222, \"#7201a8\"], [0.3333333333333333, \"#9c179e\"], [0.4444444444444444, \"#bd3786\"], [0.5555555555555556, \"#d8576b\"], [0.6666666666666666, \"#ed7953\"], [0.7777777777777778, \"#fb9f3a\"], [0.8888888888888888, \"#fdca26\"], [1.0, \"#f0f921\"]], \"type\": \"histogram2dcontour\"}], \"mesh3d\": [{\"colorbar\": {\"outlinewidth\": 0, \"ticks\": \"\"}, \"type\": \"mesh3d\"}], \"parcoords\": [{\"line\": {\"colorbar\": {\"outlinewidth\": 0, \"ticks\": \"\"}}, \"type\": \"parcoords\"}], \"pie\": [{\"automargin\": true, \"type\": \"pie\"}], \"scatter\": [{\"marker\": {\"colorbar\": {\"outlinewidth\": 0, \"ticks\": \"\"}}, \"type\": \"scatter\"}], \"scatter3d\": [{\"line\": {\"colorbar\": {\"outlinewidth\": 0, \"ticks\": \"\"}}, \"marker\": {\"colorbar\": {\"outlinewidth\": 0, \"ticks\": \"\"}}, \"type\": \"scatter3d\"}], \"scattercarpet\": [{\"marker\": {\"colorbar\": {\"outlinewidth\": 0, \"ticks\": \"\"}}, \"type\": \"scattercarpet\"}], \"scattergeo\": [{\"marker\": {\"colorbar\": {\"outlinewidth\": 0, \"ticks\": \"\"}}, \"type\": \"scattergeo\"}], \"scattergl\": [{\"marker\": {\"colorbar\": {\"outlinewidth\": 0, \"ticks\": \"\"}}, \"type\": \"scattergl\"}], \"scattermapbox\": [{\"marker\": {\"colorbar\": {\"outlinewidth\": 0, \"ticks\": \"\"}}, \"type\": \"scattermapbox\"}], \"scatterpolar\": [{\"marker\": {\"colorbar\": {\"outlinewidth\": 0, \"ticks\": \"\"}}, \"type\": \"scatterpolar\"}], \"scatterpolargl\": [{\"marker\": {\"colorbar\": {\"outlinewidth\": 0, \"ticks\": \"\"}}, \"type\": \"scatterpolargl\"}], \"scatterternary\": [{\"marker\": {\"colorbar\": {\"outlinewidth\": 0, \"ticks\": \"\"}}, \"type\": \"scatterternary\"}], \"surface\": [{\"colorbar\": {\"outlinewidth\": 0, \"ticks\": \"\"}, \"colorscale\": [[0.0, \"#0d0887\"], [0.1111111111111111, \"#46039f\"], [0.2222222222222222, \"#7201a8\"], [0.3333333333333333, \"#9c179e\"], [0.4444444444444444, \"#bd3786\"], [0.5555555555555556, \"#d8576b\"], [0.6666666666666666, \"#ed7953\"], [0.7777777777777778, \"#fb9f3a\"], [0.8888888888888888, \"#fdca26\"], [1.0, \"#f0f921\"]], \"type\": \"surface\"}], \"table\": [{\"cells\": {\"fill\": {\"color\": \"#EBF0F8\"}, \"line\": {\"color\": \"white\"}}, \"header\": {\"fill\": {\"color\": \"#C8D4E3\"}, \"line\": {\"color\": \"white\"}}, \"type\": \"table\"}]}, \"layout\": {\"annotationdefaults\": {\"arrowcolor\": \"#2a3f5f\", \"arrowhead\": 0, \"arrowwidth\": 1}, \"coloraxis\": {\"colorbar\": {\"outlinewidth\": 0, \"ticks\": \"\"}}, \"colorscale\": {\"diverging\": [[0, \"#8e0152\"], [0.1, \"#c51b7d\"], [0.2, \"#de77ae\"], [0.3, \"#f1b6da\"], [0.4, \"#fde0ef\"], [0.5, \"#f7f7f7\"], [0.6, \"#e6f5d0\"], [0.7, \"#b8e186\"], [0.8, \"#7fbc41\"], [0.9, \"#4d9221\"], [1, \"#276419\"]], \"sequential\": [[0.0, \"#0d0887\"], [0.1111111111111111, \"#46039f\"], [0.2222222222222222, \"#7201a8\"], [0.3333333333333333, \"#9c179e\"], [0.4444444444444444, \"#bd3786\"], [0.5555555555555556, \"#d8576b\"], [0.6666666666666666, \"#ed7953\"], [0.7777777777777778, \"#fb9f3a\"], [0.8888888888888888, \"#fdca26\"], [1.0, \"#f0f921\"]], \"sequentialminus\": [[0.0, \"#0d0887\"], [0.1111111111111111, \"#46039f\"], [0.2222222222222222, \"#7201a8\"], [0.3333333333333333, \"#9c179e\"], [0.4444444444444444, \"#bd3786\"], [0.5555555555555556, \"#d8576b\"], [0.6666666666666666, \"#ed7953\"], [0.7777777777777778, \"#fb9f3a\"], [0.8888888888888888, \"#fdca26\"], [1.0, \"#f0f921\"]]}, \"colorway\": [\"#636efa\", \"#EF553B\", \"#00cc96\", \"#ab63fa\", \"#FFA15A\", \"#19d3f3\", \"#FF6692\", \"#B6E880\", \"#FF97FF\", \"#FECB52\"], \"font\": {\"color\": \"#2a3f5f\"}, \"geo\": {\"bgcolor\": \"white\", \"lakecolor\": \"white\", \"landcolor\": \"#E5ECF6\", \"showlakes\": true, \"showland\": true, \"subunitcolor\": \"white\"}, \"hoverlabel\": {\"align\": \"left\"}, \"hovermode\": \"closest\", \"mapbox\": {\"style\": \"light\"}, \"paper_bgcolor\": \"white\", \"plot_bgcolor\": \"#E5ECF6\", \"polar\": {\"angularaxis\": {\"gridcolor\": \"white\", \"linecolor\": \"white\", \"ticks\": \"\"}, \"bgcolor\": \"#E5ECF6\", \"radialaxis\": {\"gridcolor\": \"white\", \"linecolor\": \"white\", \"ticks\": \"\"}}, \"scene\": {\"xaxis\": {\"backgroundcolor\": \"#E5ECF6\", \"gridcolor\": \"white\", \"gridwidth\": 2, \"linecolor\": \"white\", \"showbackground\": true, \"ticks\": \"\", \"zerolinecolor\": \"white\"}, \"yaxis\": {\"backgroundcolor\": \"#E5ECF6\", \"gridcolor\": \"white\", \"gridwidth\": 2, \"linecolor\": \"white\", \"showbackground\": true, \"ticks\": \"\", \"zerolinecolor\": \"white\"}, \"zaxis\": {\"backgroundcolor\": \"#E5ECF6\", \"gridcolor\": \"white\", \"gridwidth\": 2, \"linecolor\": \"white\", \"showbackground\": true, \"ticks\": \"\", \"zerolinecolor\": \"white\"}}, \"shapedefaults\": {\"line\": {\"color\": \"#2a3f5f\"}}, \"ternary\": {\"aaxis\": {\"gridcolor\": \"white\", \"linecolor\": \"white\", \"ticks\": \"\"}, \"baxis\": {\"gridcolor\": \"white\", \"linecolor\": \"white\", \"ticks\": \"\"}, \"bgcolor\": \"#E5ECF6\", \"caxis\": {\"gridcolor\": \"white\", \"linecolor\": \"white\", \"ticks\": \"\"}}, \"title\": {\"x\": 0.05}, \"xaxis\": {\"automargin\": true, \"gridcolor\": \"white\", \"linecolor\": \"white\", \"ticks\": \"\", \"title\": {\"standoff\": 15}, \"zerolinecolor\": \"white\", \"zerolinewidth\": 2}, \"yaxis\": {\"automargin\": true, \"gridcolor\": \"white\", \"linecolor\": \"white\", \"ticks\": \"\", \"title\": {\"standoff\": 15}, \"zerolinecolor\": \"white\", \"zerolinewidth\": 2}}}, \"xaxis\": {\"anchor\": \"y\", \"domain\": [0.0, 1.0], \"title\": {\"text\": \"\"}}, \"yaxis\": {\"anchor\": \"x\", \"domain\": [0.0, 1.0], \"tickprefix\": \"$\", \"title\": {\"text\": \"\"}}},\n",
       "                        {\"responsive\": true}\n",
       "                    ).then(function(){\n",
       "                            \n",
       "var gd = document.getElementById('2db41d13-6257-4495-9331-41137cb62f4b');\n",
       "var x = new MutationObserver(function (mutations, observer) {{\n",
       "        var display = window.getComputedStyle(gd).display;\n",
       "        if (!display || display === 'none') {{\n",
       "            console.log([gd, 'removed!']);\n",
       "            Plotly.purge(gd);\n",
       "            observer.disconnect();\n",
       "        }}\n",
       "}});\n",
       "\n",
       "// Listen for the removal of the full notebook cells\n",
       "var notebookContainer = gd.closest('#notebook-container');\n",
       "if (notebookContainer) {{\n",
       "    x.observe(notebookContainer, {childList: true});\n",
       "}}\n",
       "\n",
       "// Listen for the clearing of the current output cell\n",
       "var outputEl = gd.closest('.output');\n",
       "if (outputEl) {{\n",
       "    x.observe(outputEl, {childList: true});\n",
       "}}\n",
       "\n",
       "                        })\n",
       "                };\n",
       "                });\n",
       "            </script>\n",
       "        </div>"
      ]
     },
     "metadata": {},
     "output_type": "display_data"
    },
    {
     "data": {
      "application/vnd.plotly.v1+json": {
       "config": {
        "plotlyServerURL": "https://plot.ly"
       },
       "data": [
        {
         "hovertemplate": "Manufacturer-Id=UN55KU7000FXZA<br>Date-Seen=%{x}<br>Price-Min=%{y}<extra></extra>",
         "legendgroup": "UN55KU7000FXZA",
         "marker": {
          "color": "#636efa",
          "line": {
           "color": "DarkSlateGrey",
           "width": 1
          },
          "size": 7,
          "symbol": "circle"
         },
         "mode": "markers",
         "name": "UN55KU7000FXZA",
         "orientation": "v",
         "showlegend": true,
         "type": "scatter",
         "x": [
          "2017-07-26T01:00:00",
          "2017-07-25T23:00:00",
          "2017-07-23T11:00:00",
          "2017-07-24T21:00:00",
          "2017-07-25T18:00:00",
          "2017-07-10T04:00:00",
          "2017-07-14T12:00:00",
          "2017-07-11T07:00:00",
          "2017-07-11T22:00:00"
         ],
         "xaxis": "x",
         "y": [
          1197.99,
          1197.99,
          489.99,
          489.99,
          489.99,
          499.99,
          499.99,
          499.99,
          499.99
         ],
         "yaxis": "y"
        },
        {
         "hovertemplate": "Manufacturer-Id=XBR55A1E<br>Date-Seen=%{x}<br>Price-Min=%{y}<extra></extra>",
         "legendgroup": "XBR55A1E",
         "marker": {
          "color": "#EF553B",
          "line": {
           "color": "DarkSlateGrey",
           "width": 1
          },
          "size": 7,
          "symbol": "circle"
         },
         "mode": "markers",
         "name": "XBR55A1E",
         "orientation": "v",
         "showlegend": true,
         "type": "scatter",
         "x": [
          "2017-07-27T19:00:00",
          "2017-07-11T22:00:00",
          "2017-06-28T23:00:00",
          "2017-06-27T11:00:00",
          "2017-06-26T22:00:00",
          "2017-06-29T17:00:00",
          "2017-06-25T15:00:00",
          "2017-06-24T03:00:00",
          "2017-06-28T04:00:00",
          "2017-06-24T20:00:00",
          "2017-07-26T15:00:00",
          "2017-07-25T18:00:00",
          "2017-07-23T02:00:00",
          "2017-07-24T14:00:00",
          "2017-06-19T04:00:00",
          "2017-08-22T19:00:00",
          "2017-07-27T21:00:00",
          "2017-07-25T18:00:00",
          "2017-09-28T04:00:00"
         ],
         "xaxis": "x",
         "y": [
          3050,
          2999.99,
          2999.99,
          2999.99,
          2999.99,
          2999.99,
          2999.99,
          2999.99,
          2999.99,
          2999.99,
          3040,
          3040,
          3099.52,
          3099.52,
          3099.52,
          3099.18,
          3050,
          3050,
          2998
         ],
         "yaxis": "y"
        },
        {
         "hovertemplate": "Manufacturer-Id=QN55Q7CAMFXZA<br>Date-Seen=%{x}<br>Price-Min=%{y}<extra></extra>",
         "legendgroup": "QN55Q7CAMFXZA",
         "marker": {
          "color": "#00cc96",
          "line": {
           "color": "DarkSlateGrey",
           "width": 1
          },
          "size": 7,
          "symbol": "circle"
         },
         "mode": "markers",
         "name": "QN55Q7CAMFXZA",
         "orientation": "v",
         "showlegend": true,
         "type": "scatter",
         "x": [
          "2017-07-27T21:00:00",
          "2017-07-25T23:00:00",
          "2017-07-25T23:00:00",
          "2017-07-25T18:00:00",
          "2017-07-22T07:00:00",
          "2017-07-24T14:00:00",
          "2017-07-25T23:00:00",
          "2017-07-16T06:00:00",
          "2017-07-21T02:00:00",
          "2017-07-15T12:00:00",
          "2017-07-17T19:00:00",
          "2017-07-18T08:00:00",
          "2017-08-22T19:00:00",
          "2017-07-25T17:00:00",
          "2017-07-26T18:00:00",
          "2017-07-25T23:00:00",
          "2017-07-26T20:00:00",
          "2017-07-27T11:00:00",
          "2017-07-25T23:00:00",
          "2017-07-09T22:00:00"
         ],
         "xaxis": "x",
         "y": [
          1898.95,
          2197.99,
          2197.99,
          1972.95,
          1997.95,
          1997.95,
          2197.99,
          1998.95,
          1998.95,
          1998.95,
          1998.95,
          1998.95,
          1755.95,
          1982.95,
          1982.95,
          1982.95,
          1900,
          1900,
          2197.99,
          2016.95
         ],
         "yaxis": "y"
        },
        {
         "hovertemplate": "Manufacturer-Id=55H8C<br>Date-Seen=%{x}<br>Price-Min=%{y}<extra></extra>",
         "legendgroup": "55H8C",
         "marker": {
          "color": "#ab63fa",
          "line": {
           "color": "DarkSlateGrey",
           "width": 1
          },
          "size": 7,
          "symbol": "circle"
         },
         "mode": "markers",
         "name": "55H8C",
         "orientation": "v",
         "showlegend": true,
         "type": "scatter",
         "x": [
          "2017-07-25T18:00:00",
          "2017-07-25T18:00:00",
          "2017-07-11T12:00:00",
          "2017-07-11T22:00:00"
         ],
         "xaxis": "x",
         "y": [
          723.6,
          619.96,
          619.96,
          619.96
         ],
         "yaxis": "y"
        },
        {
         "hovertemplate": "Manufacturer-Id=XBR55X700D<br>Date-Seen=%{x}<br>Price-Min=%{y}<extra></extra>",
         "legendgroup": "XBR55X700D",
         "marker": {
          "color": "#FFA15A",
          "line": {
           "color": "DarkSlateGrey",
           "width": 1
          },
          "size": 7,
          "symbol": "circle"
         },
         "mode": "markers",
         "name": "XBR55X700D",
         "orientation": "v",
         "showlegend": true,
         "type": "scatter",
         "x": [
          "2017-07-24T21:00:00",
          "2017-07-25T21:00:00",
          "2017-07-23T08:00:00",
          "2017-07-25T17:00:00",
          "2017-07-24T19:00:00",
          "2017-07-26T23:00:00",
          "2017-07-27T11:00:00",
          "2017-07-09T22:00:00",
          "2017-07-18T14:00:00",
          "2017-07-25T18:00:00",
          "2017-07-25T18:00:00",
          "2017-07-17T06:00:00",
          "2017-07-14T12:00:00",
          "2017-07-18T00:00:00",
          "2017-07-17T21:00:00",
          "2017-07-18T14:00:00",
          "2017-07-15T14:00:00",
          "2017-07-17T10:00:00",
          "2017-09-28T04:00:00",
          "2017-07-26T15:00:00",
          "2017-07-27T19:00:00",
          "2017-07-25T18:00:00",
          "2017-07-25T17:00:00",
          "2017-07-26T20:00:00",
          "2017-07-25T18:00:00",
          "2017-07-21T15:00:00",
          "2017-07-22T04:00:00",
          "2017-07-24T17:00:00",
          "2017-07-15T23:00:00",
          "2017-07-15T12:00:00",
          "2017-07-18T11:00:00",
          "2017-07-17T19:00:00",
          "2017-07-14T10:00:00",
          "2017-07-17T01:00:00"
         ],
         "xaxis": "x",
         "y": [
          798,
          798,
          629.99,
          629.99,
          629.99,
          629.99,
          629.99,
          629.99,
          629.99,
          629.99,
          600,
          699.95,
          848,
          848,
          450,
          450,
          746.24,
          550,
          789.99,
          789.99,
          789.99,
          789.99,
          798,
          798,
          798,
          798,
          798,
          798,
          798,
          798,
          798,
          798,
          798,
          798
         ],
         "yaxis": "y"
        },
        {
         "hovertemplate": "Manufacturer-Id=XBR55X800E<br>Date-Seen=%{x}<br>Price-Min=%{y}<extra></extra>",
         "legendgroup": "XBR55X800E",
         "marker": {
          "color": "#19d3f3",
          "line": {
           "color": "DarkSlateGrey",
           "width": 1
          },
          "size": 7,
          "symbol": "circle"
         },
         "mode": "markers",
         "name": "XBR55X800E",
         "orientation": "v",
         "showlegend": true,
         "type": "scatter",
         "x": [
          "2017-08-28T12:00:00",
          "2017-07-25T21:00:00",
          "2017-07-15T16:00:00",
          "2017-07-09T03:00:00",
          "2017-07-08T07:00:00",
          "2017-06-29T17:00:00",
          "2017-06-29T03:00:00",
          "2017-06-28T04:00:00",
          "2017-07-25T21:00:00",
          "2017-07-25T18:00:00",
          "2017-06-24T22:00:00",
          "2017-06-24T07:00:00",
          "2017-06-20T09:00:00",
          "2017-06-23T12:00:00",
          "2017-06-17T23:00:00",
          "2017-06-28T04:00:00",
          "2017-06-15T17:00:00",
          "2017-07-09T03:00:00",
          "2017-06-07T18:00:00",
          "2017-09-28T04:00:00",
          "2017-07-25T21:00:00",
          "2017-07-23T11:00:00",
          "2017-07-24T21:00:00",
          "2017-07-15T00:00:00",
          "2017-07-15T16:00:00",
          "2017-07-09T03:00:00",
          "2017-07-18T00:00:00",
          "2017-07-11T07:00:00",
          "2017-07-23T08:00:00",
          "2017-07-26T18:00:00",
          "2017-07-25T18:00:00",
          "2017-07-09T22:00:00",
          "2017-07-16T01:00:00",
          "2017-07-18T11:00:00",
          "2017-07-08T22:00:00",
          "2017-06-29T13:00:00",
          "2017-06-27T11:00:00",
          "2017-06-27T20:00:00",
          "2017-06-27T00:00:00"
         ],
         "xaxis": "x",
         "y": [
          898,
          998,
          998,
          998,
          998,
          998,
          998,
          998,
          998,
          998,
          1098,
          1098,
          1098,
          1098,
          1098,
          998,
          1098,
          1295.2,
          1198,
          1099,
          998,
          998,
          998,
          998,
          998,
          998,
          998,
          998,
          998,
          998,
          998,
          998,
          998,
          998,
          998,
          998,
          998,
          998,
          998
         ],
         "yaxis": "y"
        }
       ],
       "layout": {
        "font": {
         "size": 12
        },
        "legend": {
         "title": {
          "text": "Models"
         },
         "tracegroupgap": 0
        },
        "margin": {
         "t": 60
        },
        "showlegend": false,
        "template": {
         "data": {
          "bar": [
           {
            "error_x": {
             "color": "#2a3f5f"
            },
            "error_y": {
             "color": "#2a3f5f"
            },
            "marker": {
             "line": {
              "color": "#E5ECF6",
              "width": 0.5
             }
            },
            "type": "bar"
           }
          ],
          "barpolar": [
           {
            "marker": {
             "line": {
              "color": "#E5ECF6",
              "width": 0.5
             }
            },
            "type": "barpolar"
           }
          ],
          "carpet": [
           {
            "aaxis": {
             "endlinecolor": "#2a3f5f",
             "gridcolor": "white",
             "linecolor": "white",
             "minorgridcolor": "white",
             "startlinecolor": "#2a3f5f"
            },
            "baxis": {
             "endlinecolor": "#2a3f5f",
             "gridcolor": "white",
             "linecolor": "white",
             "minorgridcolor": "white",
             "startlinecolor": "#2a3f5f"
            },
            "type": "carpet"
           }
          ],
          "choropleth": [
           {
            "colorbar": {
             "outlinewidth": 0,
             "ticks": ""
            },
            "type": "choropleth"
           }
          ],
          "contour": [
           {
            "colorbar": {
             "outlinewidth": 0,
             "ticks": ""
            },
            "colorscale": [
             [
              0,
              "#0d0887"
             ],
             [
              0.1111111111111111,
              "#46039f"
             ],
             [
              0.2222222222222222,
              "#7201a8"
             ],
             [
              0.3333333333333333,
              "#9c179e"
             ],
             [
              0.4444444444444444,
              "#bd3786"
             ],
             [
              0.5555555555555556,
              "#d8576b"
             ],
             [
              0.6666666666666666,
              "#ed7953"
             ],
             [
              0.7777777777777778,
              "#fb9f3a"
             ],
             [
              0.8888888888888888,
              "#fdca26"
             ],
             [
              1,
              "#f0f921"
             ]
            ],
            "type": "contour"
           }
          ],
          "contourcarpet": [
           {
            "colorbar": {
             "outlinewidth": 0,
             "ticks": ""
            },
            "type": "contourcarpet"
           }
          ],
          "heatmap": [
           {
            "colorbar": {
             "outlinewidth": 0,
             "ticks": ""
            },
            "colorscale": [
             [
              0,
              "#0d0887"
             ],
             [
              0.1111111111111111,
              "#46039f"
             ],
             [
              0.2222222222222222,
              "#7201a8"
             ],
             [
              0.3333333333333333,
              "#9c179e"
             ],
             [
              0.4444444444444444,
              "#bd3786"
             ],
             [
              0.5555555555555556,
              "#d8576b"
             ],
             [
              0.6666666666666666,
              "#ed7953"
             ],
             [
              0.7777777777777778,
              "#fb9f3a"
             ],
             [
              0.8888888888888888,
              "#fdca26"
             ],
             [
              1,
              "#f0f921"
             ]
            ],
            "type": "heatmap"
           }
          ],
          "heatmapgl": [
           {
            "colorbar": {
             "outlinewidth": 0,
             "ticks": ""
            },
            "colorscale": [
             [
              0,
              "#0d0887"
             ],
             [
              0.1111111111111111,
              "#46039f"
             ],
             [
              0.2222222222222222,
              "#7201a8"
             ],
             [
              0.3333333333333333,
              "#9c179e"
             ],
             [
              0.4444444444444444,
              "#bd3786"
             ],
             [
              0.5555555555555556,
              "#d8576b"
             ],
             [
              0.6666666666666666,
              "#ed7953"
             ],
             [
              0.7777777777777778,
              "#fb9f3a"
             ],
             [
              0.8888888888888888,
              "#fdca26"
             ],
             [
              1,
              "#f0f921"
             ]
            ],
            "type": "heatmapgl"
           }
          ],
          "histogram": [
           {
            "marker": {
             "colorbar": {
              "outlinewidth": 0,
              "ticks": ""
             }
            },
            "type": "histogram"
           }
          ],
          "histogram2d": [
           {
            "colorbar": {
             "outlinewidth": 0,
             "ticks": ""
            },
            "colorscale": [
             [
              0,
              "#0d0887"
             ],
             [
              0.1111111111111111,
              "#46039f"
             ],
             [
              0.2222222222222222,
              "#7201a8"
             ],
             [
              0.3333333333333333,
              "#9c179e"
             ],
             [
              0.4444444444444444,
              "#bd3786"
             ],
             [
              0.5555555555555556,
              "#d8576b"
             ],
             [
              0.6666666666666666,
              "#ed7953"
             ],
             [
              0.7777777777777778,
              "#fb9f3a"
             ],
             [
              0.8888888888888888,
              "#fdca26"
             ],
             [
              1,
              "#f0f921"
             ]
            ],
            "type": "histogram2d"
           }
          ],
          "histogram2dcontour": [
           {
            "colorbar": {
             "outlinewidth": 0,
             "ticks": ""
            },
            "colorscale": [
             [
              0,
              "#0d0887"
             ],
             [
              0.1111111111111111,
              "#46039f"
             ],
             [
              0.2222222222222222,
              "#7201a8"
             ],
             [
              0.3333333333333333,
              "#9c179e"
             ],
             [
              0.4444444444444444,
              "#bd3786"
             ],
             [
              0.5555555555555556,
              "#d8576b"
             ],
             [
              0.6666666666666666,
              "#ed7953"
             ],
             [
              0.7777777777777778,
              "#fb9f3a"
             ],
             [
              0.8888888888888888,
              "#fdca26"
             ],
             [
              1,
              "#f0f921"
             ]
            ],
            "type": "histogram2dcontour"
           }
          ],
          "mesh3d": [
           {
            "colorbar": {
             "outlinewidth": 0,
             "ticks": ""
            },
            "type": "mesh3d"
           }
          ],
          "parcoords": [
           {
            "line": {
             "colorbar": {
              "outlinewidth": 0,
              "ticks": ""
             }
            },
            "type": "parcoords"
           }
          ],
          "pie": [
           {
            "automargin": true,
            "type": "pie"
           }
          ],
          "scatter": [
           {
            "marker": {
             "colorbar": {
              "outlinewidth": 0,
              "ticks": ""
             }
            },
            "type": "scatter"
           }
          ],
          "scatter3d": [
           {
            "line": {
             "colorbar": {
              "outlinewidth": 0,
              "ticks": ""
             }
            },
            "marker": {
             "colorbar": {
              "outlinewidth": 0,
              "ticks": ""
             }
            },
            "type": "scatter3d"
           }
          ],
          "scattercarpet": [
           {
            "marker": {
             "colorbar": {
              "outlinewidth": 0,
              "ticks": ""
             }
            },
            "type": "scattercarpet"
           }
          ],
          "scattergeo": [
           {
            "marker": {
             "colorbar": {
              "outlinewidth": 0,
              "ticks": ""
             }
            },
            "type": "scattergeo"
           }
          ],
          "scattergl": [
           {
            "marker": {
             "colorbar": {
              "outlinewidth": 0,
              "ticks": ""
             }
            },
            "type": "scattergl"
           }
          ],
          "scattermapbox": [
           {
            "marker": {
             "colorbar": {
              "outlinewidth": 0,
              "ticks": ""
             }
            },
            "type": "scattermapbox"
           }
          ],
          "scatterpolar": [
           {
            "marker": {
             "colorbar": {
              "outlinewidth": 0,
              "ticks": ""
             }
            },
            "type": "scatterpolar"
           }
          ],
          "scatterpolargl": [
           {
            "marker": {
             "colorbar": {
              "outlinewidth": 0,
              "ticks": ""
             }
            },
            "type": "scatterpolargl"
           }
          ],
          "scatterternary": [
           {
            "marker": {
             "colorbar": {
              "outlinewidth": 0,
              "ticks": ""
             }
            },
            "type": "scatterternary"
           }
          ],
          "surface": [
           {
            "colorbar": {
             "outlinewidth": 0,
             "ticks": ""
            },
            "colorscale": [
             [
              0,
              "#0d0887"
             ],
             [
              0.1111111111111111,
              "#46039f"
             ],
             [
              0.2222222222222222,
              "#7201a8"
             ],
             [
              0.3333333333333333,
              "#9c179e"
             ],
             [
              0.4444444444444444,
              "#bd3786"
             ],
             [
              0.5555555555555556,
              "#d8576b"
             ],
             [
              0.6666666666666666,
              "#ed7953"
             ],
             [
              0.7777777777777778,
              "#fb9f3a"
             ],
             [
              0.8888888888888888,
              "#fdca26"
             ],
             [
              1,
              "#f0f921"
             ]
            ],
            "type": "surface"
           }
          ],
          "table": [
           {
            "cells": {
             "fill": {
              "color": "#EBF0F8"
             },
             "line": {
              "color": "white"
             }
            },
            "header": {
             "fill": {
              "color": "#C8D4E3"
             },
             "line": {
              "color": "white"
             }
            },
            "type": "table"
           }
          ]
         },
         "layout": {
          "annotationdefaults": {
           "arrowcolor": "#2a3f5f",
           "arrowhead": 0,
           "arrowwidth": 1
          },
          "coloraxis": {
           "colorbar": {
            "outlinewidth": 0,
            "ticks": ""
           }
          },
          "colorscale": {
           "diverging": [
            [
             0,
             "#8e0152"
            ],
            [
             0.1,
             "#c51b7d"
            ],
            [
             0.2,
             "#de77ae"
            ],
            [
             0.3,
             "#f1b6da"
            ],
            [
             0.4,
             "#fde0ef"
            ],
            [
             0.5,
             "#f7f7f7"
            ],
            [
             0.6,
             "#e6f5d0"
            ],
            [
             0.7,
             "#b8e186"
            ],
            [
             0.8,
             "#7fbc41"
            ],
            [
             0.9,
             "#4d9221"
            ],
            [
             1,
             "#276419"
            ]
           ],
           "sequential": [
            [
             0,
             "#0d0887"
            ],
            [
             0.1111111111111111,
             "#46039f"
            ],
            [
             0.2222222222222222,
             "#7201a8"
            ],
            [
             0.3333333333333333,
             "#9c179e"
            ],
            [
             0.4444444444444444,
             "#bd3786"
            ],
            [
             0.5555555555555556,
             "#d8576b"
            ],
            [
             0.6666666666666666,
             "#ed7953"
            ],
            [
             0.7777777777777778,
             "#fb9f3a"
            ],
            [
             0.8888888888888888,
             "#fdca26"
            ],
            [
             1,
             "#f0f921"
            ]
           ],
           "sequentialminus": [
            [
             0,
             "#0d0887"
            ],
            [
             0.1111111111111111,
             "#46039f"
            ],
            [
             0.2222222222222222,
             "#7201a8"
            ],
            [
             0.3333333333333333,
             "#9c179e"
            ],
            [
             0.4444444444444444,
             "#bd3786"
            ],
            [
             0.5555555555555556,
             "#d8576b"
            ],
            [
             0.6666666666666666,
             "#ed7953"
            ],
            [
             0.7777777777777778,
             "#fb9f3a"
            ],
            [
             0.8888888888888888,
             "#fdca26"
            ],
            [
             1,
             "#f0f921"
            ]
           ]
          },
          "colorway": [
           "#636efa",
           "#EF553B",
           "#00cc96",
           "#ab63fa",
           "#FFA15A",
           "#19d3f3",
           "#FF6692",
           "#B6E880",
           "#FF97FF",
           "#FECB52"
          ],
          "font": {
           "color": "#2a3f5f"
          },
          "geo": {
           "bgcolor": "white",
           "lakecolor": "white",
           "landcolor": "#E5ECF6",
           "showlakes": true,
           "showland": true,
           "subunitcolor": "white"
          },
          "hoverlabel": {
           "align": "left"
          },
          "hovermode": "closest",
          "mapbox": {
           "style": "light"
          },
          "paper_bgcolor": "white",
          "plot_bgcolor": "#E5ECF6",
          "polar": {
           "angularaxis": {
            "gridcolor": "white",
            "linecolor": "white",
            "ticks": ""
           },
           "bgcolor": "#E5ECF6",
           "radialaxis": {
            "gridcolor": "white",
            "linecolor": "white",
            "ticks": ""
           }
          },
          "scene": {
           "xaxis": {
            "backgroundcolor": "#E5ECF6",
            "gridcolor": "white",
            "gridwidth": 2,
            "linecolor": "white",
            "showbackground": true,
            "ticks": "",
            "zerolinecolor": "white"
           },
           "yaxis": {
            "backgroundcolor": "#E5ECF6",
            "gridcolor": "white",
            "gridwidth": 2,
            "linecolor": "white",
            "showbackground": true,
            "ticks": "",
            "zerolinecolor": "white"
           },
           "zaxis": {
            "backgroundcolor": "#E5ECF6",
            "gridcolor": "white",
            "gridwidth": 2,
            "linecolor": "white",
            "showbackground": true,
            "ticks": "",
            "zerolinecolor": "white"
           }
          },
          "shapedefaults": {
           "line": {
            "color": "#2a3f5f"
           }
          },
          "ternary": {
           "aaxis": {
            "gridcolor": "white",
            "linecolor": "white",
            "ticks": ""
           },
           "baxis": {
            "gridcolor": "white",
            "linecolor": "white",
            "ticks": ""
           },
           "bgcolor": "#E5ECF6",
           "caxis": {
            "gridcolor": "white",
            "linecolor": "white",
            "ticks": ""
           }
          },
          "title": {
           "x": 0.05
          },
          "xaxis": {
           "automargin": true,
           "gridcolor": "white",
           "linecolor": "white",
           "ticks": "",
           "title": {
            "standoff": 15
           },
           "zerolinecolor": "white",
           "zerolinewidth": 2
          },
          "yaxis": {
           "automargin": true,
           "gridcolor": "white",
           "linecolor": "white",
           "ticks": "",
           "title": {
            "standoff": 15
           },
           "zerolinecolor": "white",
           "zerolinewidth": 2
          }
         }
        },
        "xaxis": {
         "anchor": "y",
         "domain": [
          0,
          1
         ],
         "title": {
          "text": ""
         }
        },
        "yaxis": {
         "anchor": "x",
         "domain": [
          0,
          1
         ],
         "tickprefix": "$",
         "title": {
          "text": ""
         }
        }
       }
      },
      "text/html": [
       "<div>\n",
       "        \n",
       "        \n",
       "            <div id=\"441285b2-1b20-4a85-8c57-e56e9ddecb11\" class=\"plotly-graph-div\" style=\"height:525px; width:100%;\"></div>\n",
       "            <script type=\"text/javascript\">\n",
       "                require([\"plotly\"], function(Plotly) {\n",
       "                    window.PLOTLYENV=window.PLOTLYENV || {};\n",
       "                    \n",
       "                if (document.getElementById(\"441285b2-1b20-4a85-8c57-e56e9ddecb11\")) {\n",
       "                    Plotly.newPlot(\n",
       "                        '441285b2-1b20-4a85-8c57-e56e9ddecb11',\n",
       "                        [{\"hovertemplate\": \"Manufacturer-Id=UN55KU7000FXZA<br>Date-Seen=%{x}<br>Price-Min=%{y}<extra></extra>\", \"legendgroup\": \"UN55KU7000FXZA\", \"marker\": {\"color\": \"#636efa\", \"line\": {\"color\": \"DarkSlateGrey\", \"width\": 1}, \"size\": 7, \"symbol\": \"circle\"}, \"mode\": \"markers\", \"name\": \"UN55KU7000FXZA\", \"orientation\": \"v\", \"showlegend\": true, \"type\": \"scatter\", \"x\": [\"2017-07-26T01:00:00\", \"2017-07-25T23:00:00\", \"2017-07-23T11:00:00\", \"2017-07-24T21:00:00\", \"2017-07-25T18:00:00\", \"2017-07-10T04:00:00\", \"2017-07-14T12:00:00\", \"2017-07-11T07:00:00\", \"2017-07-11T22:00:00\"], \"xaxis\": \"x\", \"y\": [1197.99, 1197.99, 489.99, 489.99, 489.99, 499.99, 499.99, 499.99, 499.99], \"yaxis\": \"y\"}, {\"hovertemplate\": \"Manufacturer-Id=XBR55A1E<br>Date-Seen=%{x}<br>Price-Min=%{y}<extra></extra>\", \"legendgroup\": \"XBR55A1E\", \"marker\": {\"color\": \"#EF553B\", \"line\": {\"color\": \"DarkSlateGrey\", \"width\": 1}, \"size\": 7, \"symbol\": \"circle\"}, \"mode\": \"markers\", \"name\": \"XBR55A1E\", \"orientation\": \"v\", \"showlegend\": true, \"type\": \"scatter\", \"x\": [\"2017-07-27T19:00:00\", \"2017-07-11T22:00:00\", \"2017-06-28T23:00:00\", \"2017-06-27T11:00:00\", \"2017-06-26T22:00:00\", \"2017-06-29T17:00:00\", \"2017-06-25T15:00:00\", \"2017-06-24T03:00:00\", \"2017-06-28T04:00:00\", \"2017-06-24T20:00:00\", \"2017-07-26T15:00:00\", \"2017-07-25T18:00:00\", \"2017-07-23T02:00:00\", \"2017-07-24T14:00:00\", \"2017-06-19T04:00:00\", \"2017-08-22T19:00:00\", \"2017-07-27T21:00:00\", \"2017-07-25T18:00:00\", \"2017-09-28T04:00:00\"], \"xaxis\": \"x\", \"y\": [3050.0, 2999.99, 2999.99, 2999.99, 2999.99, 2999.99, 2999.99, 2999.99, 2999.99, 2999.99, 3040.0, 3040.0, 3099.52, 3099.52, 3099.52, 3099.18, 3050.0, 3050.0, 2998.0], \"yaxis\": \"y\"}, {\"hovertemplate\": \"Manufacturer-Id=QN55Q7CAMFXZA<br>Date-Seen=%{x}<br>Price-Min=%{y}<extra></extra>\", \"legendgroup\": \"QN55Q7CAMFXZA\", \"marker\": {\"color\": \"#00cc96\", \"line\": {\"color\": \"DarkSlateGrey\", \"width\": 1}, \"size\": 7, \"symbol\": \"circle\"}, \"mode\": \"markers\", \"name\": \"QN55Q7CAMFXZA\", \"orientation\": \"v\", \"showlegend\": true, \"type\": \"scatter\", \"x\": [\"2017-07-27T21:00:00\", \"2017-07-25T23:00:00\", \"2017-07-25T23:00:00\", \"2017-07-25T18:00:00\", \"2017-07-22T07:00:00\", \"2017-07-24T14:00:00\", \"2017-07-25T23:00:00\", \"2017-07-16T06:00:00\", \"2017-07-21T02:00:00\", \"2017-07-15T12:00:00\", \"2017-07-17T19:00:00\", \"2017-07-18T08:00:00\", \"2017-08-22T19:00:00\", \"2017-07-25T17:00:00\", \"2017-07-26T18:00:00\", \"2017-07-25T23:00:00\", \"2017-07-26T20:00:00\", \"2017-07-27T11:00:00\", \"2017-07-25T23:00:00\", \"2017-07-09T22:00:00\"], \"xaxis\": \"x\", \"y\": [1898.95, 2197.99, 2197.99, 1972.95, 1997.95, 1997.95, 2197.99, 1998.95, 1998.95, 1998.95, 1998.95, 1998.95, 1755.95, 1982.95, 1982.95, 1982.95, 1900.0, 1900.0, 2197.99, 2016.95], \"yaxis\": \"y\"}, {\"hovertemplate\": \"Manufacturer-Id=55H8C<br>Date-Seen=%{x}<br>Price-Min=%{y}<extra></extra>\", \"legendgroup\": \"55H8C\", \"marker\": {\"color\": \"#ab63fa\", \"line\": {\"color\": \"DarkSlateGrey\", \"width\": 1}, \"size\": 7, \"symbol\": \"circle\"}, \"mode\": \"markers\", \"name\": \"55H8C\", \"orientation\": \"v\", \"showlegend\": true, \"type\": \"scatter\", \"x\": [\"2017-07-25T18:00:00\", \"2017-07-25T18:00:00\", \"2017-07-11T12:00:00\", \"2017-07-11T22:00:00\"], \"xaxis\": \"x\", \"y\": [723.6, 619.96, 619.96, 619.96], \"yaxis\": \"y\"}, {\"hovertemplate\": \"Manufacturer-Id=XBR55X700D<br>Date-Seen=%{x}<br>Price-Min=%{y}<extra></extra>\", \"legendgroup\": \"XBR55X700D\", \"marker\": {\"color\": \"#FFA15A\", \"line\": {\"color\": \"DarkSlateGrey\", \"width\": 1}, \"size\": 7, \"symbol\": \"circle\"}, \"mode\": \"markers\", \"name\": \"XBR55X700D\", \"orientation\": \"v\", \"showlegend\": true, \"type\": \"scatter\", \"x\": [\"2017-07-24T21:00:00\", \"2017-07-25T21:00:00\", \"2017-07-23T08:00:00\", \"2017-07-25T17:00:00\", \"2017-07-24T19:00:00\", \"2017-07-26T23:00:00\", \"2017-07-27T11:00:00\", \"2017-07-09T22:00:00\", \"2017-07-18T14:00:00\", \"2017-07-25T18:00:00\", \"2017-07-25T18:00:00\", \"2017-07-17T06:00:00\", \"2017-07-14T12:00:00\", \"2017-07-18T00:00:00\", \"2017-07-17T21:00:00\", \"2017-07-18T14:00:00\", \"2017-07-15T14:00:00\", \"2017-07-17T10:00:00\", \"2017-09-28T04:00:00\", \"2017-07-26T15:00:00\", \"2017-07-27T19:00:00\", \"2017-07-25T18:00:00\", \"2017-07-25T17:00:00\", \"2017-07-26T20:00:00\", \"2017-07-25T18:00:00\", \"2017-07-21T15:00:00\", \"2017-07-22T04:00:00\", \"2017-07-24T17:00:00\", \"2017-07-15T23:00:00\", \"2017-07-15T12:00:00\", \"2017-07-18T11:00:00\", \"2017-07-17T19:00:00\", \"2017-07-14T10:00:00\", \"2017-07-17T01:00:00\"], \"xaxis\": \"x\", \"y\": [798.0, 798.0, 629.99, 629.99, 629.99, 629.99, 629.99, 629.99, 629.99, 629.99, 600.0, 699.95, 848.0, 848.0, 450.0, 450.0, 746.24, 550.0, 789.99, 789.99, 789.99, 789.99, 798.0, 798.0, 798.0, 798.0, 798.0, 798.0, 798.0, 798.0, 798.0, 798.0, 798.0, 798.0], \"yaxis\": \"y\"}, {\"hovertemplate\": \"Manufacturer-Id=XBR55X800E<br>Date-Seen=%{x}<br>Price-Min=%{y}<extra></extra>\", \"legendgroup\": \"XBR55X800E\", \"marker\": {\"color\": \"#19d3f3\", \"line\": {\"color\": \"DarkSlateGrey\", \"width\": 1}, \"size\": 7, \"symbol\": \"circle\"}, \"mode\": \"markers\", \"name\": \"XBR55X800E\", \"orientation\": \"v\", \"showlegend\": true, \"type\": \"scatter\", \"x\": [\"2017-08-28T12:00:00\", \"2017-07-25T21:00:00\", \"2017-07-15T16:00:00\", \"2017-07-09T03:00:00\", \"2017-07-08T07:00:00\", \"2017-06-29T17:00:00\", \"2017-06-29T03:00:00\", \"2017-06-28T04:00:00\", \"2017-07-25T21:00:00\", \"2017-07-25T18:00:00\", \"2017-06-24T22:00:00\", \"2017-06-24T07:00:00\", \"2017-06-20T09:00:00\", \"2017-06-23T12:00:00\", \"2017-06-17T23:00:00\", \"2017-06-28T04:00:00\", \"2017-06-15T17:00:00\", \"2017-07-09T03:00:00\", \"2017-06-07T18:00:00\", \"2017-09-28T04:00:00\", \"2017-07-25T21:00:00\", \"2017-07-23T11:00:00\", \"2017-07-24T21:00:00\", \"2017-07-15T00:00:00\", \"2017-07-15T16:00:00\", \"2017-07-09T03:00:00\", \"2017-07-18T00:00:00\", \"2017-07-11T07:00:00\", \"2017-07-23T08:00:00\", \"2017-07-26T18:00:00\", \"2017-07-25T18:00:00\", \"2017-07-09T22:00:00\", \"2017-07-16T01:00:00\", \"2017-07-18T11:00:00\", \"2017-07-08T22:00:00\", \"2017-06-29T13:00:00\", \"2017-06-27T11:00:00\", \"2017-06-27T20:00:00\", \"2017-06-27T00:00:00\"], \"xaxis\": \"x\", \"y\": [898.0, 998.0, 998.0, 998.0, 998.0, 998.0, 998.0, 998.0, 998.0, 998.0, 1098.0, 1098.0, 1098.0, 1098.0, 1098.0, 998.0, 1098.0, 1295.2, 1198.0, 1099.0, 998.0, 998.0, 998.0, 998.0, 998.0, 998.0, 998.0, 998.0, 998.0, 998.0, 998.0, 998.0, 998.0, 998.0, 998.0, 998.0, 998.0, 998.0, 998.0], \"yaxis\": \"y\"}],\n",
       "                        {\"font\": {\"size\": 12}, \"legend\": {\"title\": {\"text\": \"Models\"}, \"tracegroupgap\": 0}, \"margin\": {\"t\": 60}, \"showlegend\": false, \"template\": {\"data\": {\"bar\": [{\"error_x\": {\"color\": \"#2a3f5f\"}, \"error_y\": {\"color\": \"#2a3f5f\"}, \"marker\": {\"line\": {\"color\": \"#E5ECF6\", \"width\": 0.5}}, \"type\": \"bar\"}], \"barpolar\": [{\"marker\": {\"line\": {\"color\": \"#E5ECF6\", \"width\": 0.5}}, \"type\": \"barpolar\"}], \"carpet\": [{\"aaxis\": {\"endlinecolor\": \"#2a3f5f\", \"gridcolor\": \"white\", \"linecolor\": \"white\", \"minorgridcolor\": \"white\", \"startlinecolor\": \"#2a3f5f\"}, \"baxis\": {\"endlinecolor\": \"#2a3f5f\", \"gridcolor\": \"white\", \"linecolor\": \"white\", \"minorgridcolor\": \"white\", \"startlinecolor\": \"#2a3f5f\"}, \"type\": \"carpet\"}], \"choropleth\": [{\"colorbar\": {\"outlinewidth\": 0, \"ticks\": \"\"}, \"type\": \"choropleth\"}], \"contour\": [{\"colorbar\": {\"outlinewidth\": 0, \"ticks\": \"\"}, \"colorscale\": [[0.0, \"#0d0887\"], [0.1111111111111111, \"#46039f\"], [0.2222222222222222, \"#7201a8\"], [0.3333333333333333, \"#9c179e\"], [0.4444444444444444, \"#bd3786\"], [0.5555555555555556, \"#d8576b\"], [0.6666666666666666, \"#ed7953\"], [0.7777777777777778, \"#fb9f3a\"], [0.8888888888888888, \"#fdca26\"], [1.0, \"#f0f921\"]], \"type\": \"contour\"}], \"contourcarpet\": [{\"colorbar\": {\"outlinewidth\": 0, \"ticks\": \"\"}, \"type\": \"contourcarpet\"}], \"heatmap\": [{\"colorbar\": {\"outlinewidth\": 0, \"ticks\": \"\"}, \"colorscale\": [[0.0, \"#0d0887\"], [0.1111111111111111, \"#46039f\"], [0.2222222222222222, \"#7201a8\"], [0.3333333333333333, \"#9c179e\"], [0.4444444444444444, \"#bd3786\"], [0.5555555555555556, \"#d8576b\"], [0.6666666666666666, \"#ed7953\"], [0.7777777777777778, \"#fb9f3a\"], [0.8888888888888888, \"#fdca26\"], [1.0, \"#f0f921\"]], \"type\": \"heatmap\"}], \"heatmapgl\": [{\"colorbar\": {\"outlinewidth\": 0, \"ticks\": \"\"}, \"colorscale\": [[0.0, \"#0d0887\"], [0.1111111111111111, \"#46039f\"], [0.2222222222222222, \"#7201a8\"], [0.3333333333333333, \"#9c179e\"], [0.4444444444444444, \"#bd3786\"], [0.5555555555555556, \"#d8576b\"], [0.6666666666666666, \"#ed7953\"], [0.7777777777777778, \"#fb9f3a\"], [0.8888888888888888, \"#fdca26\"], [1.0, \"#f0f921\"]], \"type\": \"heatmapgl\"}], \"histogram\": [{\"marker\": {\"colorbar\": {\"outlinewidth\": 0, \"ticks\": \"\"}}, \"type\": \"histogram\"}], \"histogram2d\": [{\"colorbar\": {\"outlinewidth\": 0, \"ticks\": \"\"}, \"colorscale\": [[0.0, \"#0d0887\"], [0.1111111111111111, \"#46039f\"], [0.2222222222222222, \"#7201a8\"], [0.3333333333333333, \"#9c179e\"], [0.4444444444444444, \"#bd3786\"], [0.5555555555555556, \"#d8576b\"], [0.6666666666666666, \"#ed7953\"], [0.7777777777777778, \"#fb9f3a\"], [0.8888888888888888, \"#fdca26\"], [1.0, \"#f0f921\"]], \"type\": \"histogram2d\"}], \"histogram2dcontour\": [{\"colorbar\": {\"outlinewidth\": 0, \"ticks\": \"\"}, \"colorscale\": [[0.0, \"#0d0887\"], [0.1111111111111111, \"#46039f\"], [0.2222222222222222, \"#7201a8\"], [0.3333333333333333, \"#9c179e\"], [0.4444444444444444, \"#bd3786\"], [0.5555555555555556, \"#d8576b\"], [0.6666666666666666, \"#ed7953\"], [0.7777777777777778, \"#fb9f3a\"], [0.8888888888888888, \"#fdca26\"], [1.0, \"#f0f921\"]], \"type\": \"histogram2dcontour\"}], \"mesh3d\": [{\"colorbar\": {\"outlinewidth\": 0, \"ticks\": \"\"}, \"type\": \"mesh3d\"}], \"parcoords\": [{\"line\": {\"colorbar\": {\"outlinewidth\": 0, \"ticks\": \"\"}}, \"type\": \"parcoords\"}], \"pie\": [{\"automargin\": true, \"type\": \"pie\"}], \"scatter\": [{\"marker\": {\"colorbar\": {\"outlinewidth\": 0, \"ticks\": \"\"}}, \"type\": \"scatter\"}], \"scatter3d\": [{\"line\": {\"colorbar\": {\"outlinewidth\": 0, \"ticks\": \"\"}}, \"marker\": {\"colorbar\": {\"outlinewidth\": 0, \"ticks\": \"\"}}, \"type\": \"scatter3d\"}], \"scattercarpet\": [{\"marker\": {\"colorbar\": {\"outlinewidth\": 0, \"ticks\": \"\"}}, \"type\": \"scattercarpet\"}], \"scattergeo\": [{\"marker\": {\"colorbar\": {\"outlinewidth\": 0, \"ticks\": \"\"}}, \"type\": \"scattergeo\"}], \"scattergl\": [{\"marker\": {\"colorbar\": {\"outlinewidth\": 0, \"ticks\": \"\"}}, \"type\": \"scattergl\"}], \"scattermapbox\": [{\"marker\": {\"colorbar\": {\"outlinewidth\": 0, \"ticks\": \"\"}}, \"type\": \"scattermapbox\"}], \"scatterpolar\": [{\"marker\": {\"colorbar\": {\"outlinewidth\": 0, \"ticks\": \"\"}}, \"type\": \"scatterpolar\"}], \"scatterpolargl\": [{\"marker\": {\"colorbar\": {\"outlinewidth\": 0, \"ticks\": \"\"}}, \"type\": \"scatterpolargl\"}], \"scatterternary\": [{\"marker\": {\"colorbar\": {\"outlinewidth\": 0, \"ticks\": \"\"}}, \"type\": \"scatterternary\"}], \"surface\": [{\"colorbar\": {\"outlinewidth\": 0, \"ticks\": \"\"}, \"colorscale\": [[0.0, \"#0d0887\"], [0.1111111111111111, \"#46039f\"], [0.2222222222222222, \"#7201a8\"], [0.3333333333333333, \"#9c179e\"], [0.4444444444444444, \"#bd3786\"], [0.5555555555555556, \"#d8576b\"], [0.6666666666666666, \"#ed7953\"], [0.7777777777777778, \"#fb9f3a\"], [0.8888888888888888, \"#fdca26\"], [1.0, \"#f0f921\"]], \"type\": \"surface\"}], \"table\": [{\"cells\": {\"fill\": {\"color\": \"#EBF0F8\"}, \"line\": {\"color\": \"white\"}}, \"header\": {\"fill\": {\"color\": \"#C8D4E3\"}, \"line\": {\"color\": \"white\"}}, \"type\": \"table\"}]}, \"layout\": {\"annotationdefaults\": {\"arrowcolor\": \"#2a3f5f\", \"arrowhead\": 0, \"arrowwidth\": 1}, \"coloraxis\": {\"colorbar\": {\"outlinewidth\": 0, \"ticks\": \"\"}}, \"colorscale\": {\"diverging\": [[0, \"#8e0152\"], [0.1, \"#c51b7d\"], [0.2, \"#de77ae\"], [0.3, \"#f1b6da\"], [0.4, \"#fde0ef\"], [0.5, \"#f7f7f7\"], [0.6, \"#e6f5d0\"], [0.7, \"#b8e186\"], [0.8, \"#7fbc41\"], [0.9, \"#4d9221\"], [1, \"#276419\"]], \"sequential\": [[0.0, \"#0d0887\"], [0.1111111111111111, \"#46039f\"], [0.2222222222222222, \"#7201a8\"], [0.3333333333333333, \"#9c179e\"], [0.4444444444444444, \"#bd3786\"], [0.5555555555555556, \"#d8576b\"], [0.6666666666666666, \"#ed7953\"], [0.7777777777777778, \"#fb9f3a\"], [0.8888888888888888, \"#fdca26\"], [1.0, \"#f0f921\"]], \"sequentialminus\": [[0.0, \"#0d0887\"], [0.1111111111111111, \"#46039f\"], [0.2222222222222222, \"#7201a8\"], [0.3333333333333333, \"#9c179e\"], [0.4444444444444444, \"#bd3786\"], [0.5555555555555556, \"#d8576b\"], [0.6666666666666666, \"#ed7953\"], [0.7777777777777778, \"#fb9f3a\"], [0.8888888888888888, \"#fdca26\"], [1.0, \"#f0f921\"]]}, \"colorway\": [\"#636efa\", \"#EF553B\", \"#00cc96\", \"#ab63fa\", \"#FFA15A\", \"#19d3f3\", \"#FF6692\", \"#B6E880\", \"#FF97FF\", \"#FECB52\"], \"font\": {\"color\": \"#2a3f5f\"}, \"geo\": {\"bgcolor\": \"white\", \"lakecolor\": \"white\", \"landcolor\": \"#E5ECF6\", \"showlakes\": true, \"showland\": true, \"subunitcolor\": \"white\"}, \"hoverlabel\": {\"align\": \"left\"}, \"hovermode\": \"closest\", \"mapbox\": {\"style\": \"light\"}, \"paper_bgcolor\": \"white\", \"plot_bgcolor\": \"#E5ECF6\", \"polar\": {\"angularaxis\": {\"gridcolor\": \"white\", \"linecolor\": \"white\", \"ticks\": \"\"}, \"bgcolor\": \"#E5ECF6\", \"radialaxis\": {\"gridcolor\": \"white\", \"linecolor\": \"white\", \"ticks\": \"\"}}, \"scene\": {\"xaxis\": {\"backgroundcolor\": \"#E5ECF6\", \"gridcolor\": \"white\", \"gridwidth\": 2, \"linecolor\": \"white\", \"showbackground\": true, \"ticks\": \"\", \"zerolinecolor\": \"white\"}, \"yaxis\": {\"backgroundcolor\": \"#E5ECF6\", \"gridcolor\": \"white\", \"gridwidth\": 2, \"linecolor\": \"white\", \"showbackground\": true, \"ticks\": \"\", \"zerolinecolor\": \"white\"}, \"zaxis\": {\"backgroundcolor\": \"#E5ECF6\", \"gridcolor\": \"white\", \"gridwidth\": 2, \"linecolor\": \"white\", \"showbackground\": true, \"ticks\": \"\", \"zerolinecolor\": \"white\"}}, \"shapedefaults\": {\"line\": {\"color\": \"#2a3f5f\"}}, \"ternary\": {\"aaxis\": {\"gridcolor\": \"white\", \"linecolor\": \"white\", \"ticks\": \"\"}, \"baxis\": {\"gridcolor\": \"white\", \"linecolor\": \"white\", \"ticks\": \"\"}, \"bgcolor\": \"#E5ECF6\", \"caxis\": {\"gridcolor\": \"white\", \"linecolor\": \"white\", \"ticks\": \"\"}}, \"title\": {\"x\": 0.05}, \"xaxis\": {\"automargin\": true, \"gridcolor\": \"white\", \"linecolor\": \"white\", \"ticks\": \"\", \"title\": {\"standoff\": 15}, \"zerolinecolor\": \"white\", \"zerolinewidth\": 2}, \"yaxis\": {\"automargin\": true, \"gridcolor\": \"white\", \"linecolor\": \"white\", \"ticks\": \"\", \"title\": {\"standoff\": 15}, \"zerolinecolor\": \"white\", \"zerolinewidth\": 2}}}, \"xaxis\": {\"anchor\": \"y\", \"domain\": [0.0, 1.0], \"title\": {\"text\": \"\"}}, \"yaxis\": {\"anchor\": \"x\", \"domain\": [0.0, 1.0], \"tickprefix\": \"$\", \"title\": {\"text\": \"\"}}},\n",
       "                        {\"responsive\": true}\n",
       "                    ).then(function(){\n",
       "                            \n",
       "var gd = document.getElementById('441285b2-1b20-4a85-8c57-e56e9ddecb11');\n",
       "var x = new MutationObserver(function (mutations, observer) {{\n",
       "        var display = window.getComputedStyle(gd).display;\n",
       "        if (!display || display === 'none') {{\n",
       "            console.log([gd, 'removed!']);\n",
       "            Plotly.purge(gd);\n",
       "            observer.disconnect();\n",
       "        }}\n",
       "}});\n",
       "\n",
       "// Listen for the removal of the full notebook cells\n",
       "var notebookContainer = gd.closest('#notebook-container');\n",
       "if (notebookContainer) {{\n",
       "    x.observe(notebookContainer, {childList: true});\n",
       "}}\n",
       "\n",
       "// Listen for the clearing of the current output cell\n",
       "var outputEl = gd.closest('.output');\n",
       "if (outputEl) {{\n",
       "    x.observe(outputEl, {childList: true});\n",
       "}}\n",
       "\n",
       "                        })\n",
       "                };\n",
       "                });\n",
       "            </script>\n",
       "        </div>"
      ]
     },
     "metadata": {},
     "output_type": "display_data"
    },
    {
     "data": {
      "application/vnd.plotly.v1+json": {
       "config": {
        "plotlyServerURL": "https://plot.ly"
       },
       "data": [
        {
         "hovertemplate": "Manufacturer-Id=XBR55A1E<br>Date-Seen=%{x}<br>Price-Min=%{y}<extra></extra>",
         "legendgroup": "XBR55A1E",
         "marker": {
          "color": "#636efa",
          "line": {
           "color": "DarkSlateGrey",
           "width": 1
          },
          "size": 7,
          "symbol": "circle"
         },
         "mode": "markers",
         "name": "XBR55A1E",
         "orientation": "v",
         "showlegend": true,
         "type": "scatter",
         "x": [
          "2018-04-26T17:00:00",
          "2018-06-01T15:00:00",
          "2017-08-29T12:00:00",
          "2018-05-04T11:00:00",
          "2018-01-09T20:00:00",
          "2017-09-24T03:00:00",
          "2018-01-09T20:00:00",
          "2017-12-06T22:00:00",
          "2017-12-06T20:00:00",
          "2017-12-04T21:00:00",
          "2017-11-18T10:00:00",
          "2017-09-24T03:00:00",
          "2017-08-29T12:00:00",
          "2017-08-22T04:00:00",
          "2017-08-19T02:00:00",
          "2017-11-18T10:00:00",
          "2018-04-26T17:00:00",
          "2018-06-01T15:00:00",
          "2017-12-06T20:00:00",
          "2018-05-04T11:00:00",
          "2017-12-04T21:00:00",
          "2017-12-06T22:00:00"
         ],
         "xaxis": "x",
         "y": [
          2998,
          2998,
          2998,
          2998,
          2998,
          2998,
          3298,
          3298,
          3298,
          3298,
          3298,
          3298,
          3298,
          3298,
          3298,
          2798,
          2498,
          2498,
          2498,
          2498,
          2498,
          2498
         ],
         "yaxis": "y"
        },
        {
         "hovertemplate": "Manufacturer-Id=QN55Q8FNBFXZA<br>Date-Seen=%{x}<br>Price-Min=%{y}<extra></extra>",
         "legendgroup": "QN55Q8FNBFXZA",
         "marker": {
          "color": "#EF553B",
          "line": {
           "color": "DarkSlateGrey",
           "width": 1
          },
          "size": 7,
          "symbol": "circle"
         },
         "mode": "markers",
         "name": "QN55Q8FNBFXZA",
         "orientation": "v",
         "showlegend": true,
         "type": "scatter",
         "x": [
          "2018-04-26T17:00:00",
          "2018-06-01T09:00:00",
          "2018-04-26T17:00:00",
          "2018-06-01T09:00:00"
         ],
         "xaxis": "x",
         "y": [
          2097.99,
          1997.99,
          2197.99,
          2197.99
         ],
         "yaxis": "y"
        },
        {
         "hovertemplate": "Manufacturer-Id=XBR55X900F<br>Date-Seen=%{x}<br>Price-Min=%{y}<extra></extra>",
         "legendgroup": "XBR55X900F",
         "marker": {
          "color": "#00cc96",
          "line": {
           "color": "DarkSlateGrey",
           "width": 1
          },
          "size": 7,
          "symbol": "circle"
         },
         "mode": "markers",
         "name": "XBR55X900F",
         "orientation": "v",
         "showlegend": true,
         "type": "scatter",
         "x": [
          "2018-04-26T17:00:00",
          "2018-07-25T18:00:00",
          "2018-03-31T19:00:00",
          "2018-06-01T09:00:00",
          "2018-06-01T09:00:00"
         ],
         "xaxis": "x",
         "y": [
          1498,
          1498,
          1498,
          1498,
          1298
         ],
         "yaxis": "y"
        },
        {
         "hovertemplate": "Manufacturer-Id=UN55MU6490FXZA<br>Date-Seen=%{x}<br>Price-Min=%{y}<extra></extra>",
         "legendgroup": "UN55MU6490FXZA",
         "marker": {
          "color": "#ab63fa",
          "line": {
           "color": "DarkSlateGrey",
           "width": 1
          },
          "size": 7,
          "symbol": "circle"
         },
         "mode": "markers",
         "name": "UN55MU6490FXZA",
         "orientation": "v",
         "showlegend": true,
         "type": "scatter",
         "x": [
          "2017-11-18T13:00:00",
          "2017-12-06T20:00:00",
          "2017-08-29T12:00:00",
          "2017-08-19T05:00:00",
          "2017-12-04T21:00:00",
          "2017-08-22T10:00:00",
          "2018-01-09T20:00:00",
          "2017-10-24T08:00:00",
          "2018-05-06T17:00:00",
          "2017-12-06T22:00:00",
          "2018-03-31T19:00:00",
          "2017-12-06T22:00:00",
          "2017-12-06T20:00:00",
          "2017-12-04T21:00:00",
          "2017-11-18T13:00:00"
         ],
         "xaxis": "x",
         "y": [
          797.99,
          797.99,
          797.99,
          797.99,
          797.99,
          797.99,
          797.99,
          797.99,
          797.99,
          797.99,
          1197.99,
          597.99,
          597.99,
          597.99,
          597.99
         ],
         "yaxis": "y"
        },
        {
         "hovertemplate": "Manufacturer-Id=55UJ7700<br>Date-Seen=%{x}<br>Price-Min=%{y}<extra></extra>",
         "legendgroup": "55UJ7700",
         "marker": {
          "color": "#FFA15A",
          "line": {
           "color": "DarkSlateGrey",
           "width": 1
          },
          "size": 7,
          "symbol": "circle"
         },
         "mode": "markers",
         "name": "55UJ7700",
         "orientation": "v",
         "showlegend": true,
         "type": "scatter",
         "x": [
          "2018-04-26T17:00:00",
          "2018-05-06T17:00:00"
         ],
         "xaxis": "x",
         "y": [
          1296.99,
          1296.99
         ],
         "yaxis": "y"
        },
        {
         "hovertemplate": "Manufacturer-Id=QN55Q7CAMFXZA<br>Date-Seen=%{x}<br>Price-Min=%{y}<extra></extra>",
         "legendgroup": "QN55Q7CAMFXZA",
         "marker": {
          "color": "#19d3f3",
          "line": {
           "color": "DarkSlateGrey",
           "width": 1
          },
          "size": 7,
          "symbol": "circle"
         },
         "mode": "markers",
         "name": "QN55Q7CAMFXZA",
         "orientation": "v",
         "showlegend": true,
         "type": "scatter",
         "x": [
          "2018-01-27T10:00:00",
          "2018-06-01T15:00:00",
          "2018-04-26T17:00:00",
          "2018-01-27T10:00:00",
          "2018-01-09T20:00:00",
          "2018-04-26T17:00:00",
          "2017-12-07T23:00:00",
          "2017-12-08T01:00:00",
          "2017-12-05T10:00:00",
          "2018-04-10T14:00:00",
          "2018-04-26T17:00:00",
          "2018-06-01T15:00:00",
          "2017-12-07T23:00:00",
          "2017-12-08T01:00:00",
          "2017-12-05T10:00:00",
          "2017-08-22T10:00:00",
          "2018-01-27T10:00:00",
          "2018-01-09T20:00:00",
          "2017-09-24T10:00:00",
          "2017-08-19T02:00:00",
          "2017-09-24T10:00:00",
          "2017-08-22T10:00:00",
          "2017-08-19T02:00:00"
         ],
         "xaxis": "x",
         "y": [
          1697.99,
          2797.99,
          1549.95,
          1549.95,
          1997.99,
          1797.99,
          1797.99,
          1797.99,
          1797.99,
          2997.99,
          2997.99,
          2997.99,
          2997.99,
          2997.99,
          2997.99,
          2997.99,
          2997.99,
          2997.99,
          2997.99,
          2997.99,
          2197.99,
          2197.99,
          2197.99
         ],
         "yaxis": "y"
        },
        {
         "hovertemplate": "Manufacturer-Id=XBR55X800E<br>Date-Seen=%{x}<br>Price-Min=%{y}<extra></extra>",
         "legendgroup": "XBR55X800E",
         "marker": {
          "color": "#FF6692",
          "line": {
           "color": "DarkSlateGrey",
           "width": 1
          },
          "size": 7,
          "symbol": "circle"
         },
         "mode": "markers",
         "name": "XBR55X800E",
         "orientation": "v",
         "showlegend": true,
         "type": "scatter",
         "x": [
          "2018-04-26T17:00:00",
          "2017-08-29T12:00:00",
          "2017-08-19T05:00:00",
          "2018-05-04T11:00:00",
          "2017-09-24T03:00:00",
          "2018-04-26T17:00:00",
          "2017-12-06T20:00:00",
          "2017-08-29T12:00:00",
          "2017-08-19T05:00:00",
          "2018-05-04T11:00:00",
          "2017-12-04T21:00:00",
          "2017-08-22T10:00:00",
          "2018-01-09T20:00:00",
          "2017-12-06T22:00:00",
          "2017-09-24T03:00:00",
          "2017-11-18T10:00:00",
          "2017-08-22T10:00:00",
          "2018-01-09T20:00:00",
          "2017-12-06T22:00:00",
          "2017-12-06T20:00:00",
          "2017-12-04T21:00:00",
          "2017-11-18T10:00:00"
         ],
         "xaxis": "x",
         "y": [
          898,
          898,
          898,
          898,
          898,
          1198,
          1198,
          1198,
          1198,
          1198,
          1198,
          1198,
          1198,
          1198,
          1198,
          1198,
          998,
          798,
          798,
          798,
          798,
          798
         ],
         "yaxis": "y"
        }
       ],
       "layout": {
        "font": {
         "size": 12
        },
        "legend": {
         "title": {
          "text": "Models"
         },
         "tracegroupgap": 0
        },
        "margin": {
         "t": 60
        },
        "showlegend": false,
        "template": {
         "data": {
          "bar": [
           {
            "error_x": {
             "color": "#2a3f5f"
            },
            "error_y": {
             "color": "#2a3f5f"
            },
            "marker": {
             "line": {
              "color": "#E5ECF6",
              "width": 0.5
             }
            },
            "type": "bar"
           }
          ],
          "barpolar": [
           {
            "marker": {
             "line": {
              "color": "#E5ECF6",
              "width": 0.5
             }
            },
            "type": "barpolar"
           }
          ],
          "carpet": [
           {
            "aaxis": {
             "endlinecolor": "#2a3f5f",
             "gridcolor": "white",
             "linecolor": "white",
             "minorgridcolor": "white",
             "startlinecolor": "#2a3f5f"
            },
            "baxis": {
             "endlinecolor": "#2a3f5f",
             "gridcolor": "white",
             "linecolor": "white",
             "minorgridcolor": "white",
             "startlinecolor": "#2a3f5f"
            },
            "type": "carpet"
           }
          ],
          "choropleth": [
           {
            "colorbar": {
             "outlinewidth": 0,
             "ticks": ""
            },
            "type": "choropleth"
           }
          ],
          "contour": [
           {
            "colorbar": {
             "outlinewidth": 0,
             "ticks": ""
            },
            "colorscale": [
             [
              0,
              "#0d0887"
             ],
             [
              0.1111111111111111,
              "#46039f"
             ],
             [
              0.2222222222222222,
              "#7201a8"
             ],
             [
              0.3333333333333333,
              "#9c179e"
             ],
             [
              0.4444444444444444,
              "#bd3786"
             ],
             [
              0.5555555555555556,
              "#d8576b"
             ],
             [
              0.6666666666666666,
              "#ed7953"
             ],
             [
              0.7777777777777778,
              "#fb9f3a"
             ],
             [
              0.8888888888888888,
              "#fdca26"
             ],
             [
              1,
              "#f0f921"
             ]
            ],
            "type": "contour"
           }
          ],
          "contourcarpet": [
           {
            "colorbar": {
             "outlinewidth": 0,
             "ticks": ""
            },
            "type": "contourcarpet"
           }
          ],
          "heatmap": [
           {
            "colorbar": {
             "outlinewidth": 0,
             "ticks": ""
            },
            "colorscale": [
             [
              0,
              "#0d0887"
             ],
             [
              0.1111111111111111,
              "#46039f"
             ],
             [
              0.2222222222222222,
              "#7201a8"
             ],
             [
              0.3333333333333333,
              "#9c179e"
             ],
             [
              0.4444444444444444,
              "#bd3786"
             ],
             [
              0.5555555555555556,
              "#d8576b"
             ],
             [
              0.6666666666666666,
              "#ed7953"
             ],
             [
              0.7777777777777778,
              "#fb9f3a"
             ],
             [
              0.8888888888888888,
              "#fdca26"
             ],
             [
              1,
              "#f0f921"
             ]
            ],
            "type": "heatmap"
           }
          ],
          "heatmapgl": [
           {
            "colorbar": {
             "outlinewidth": 0,
             "ticks": ""
            },
            "colorscale": [
             [
              0,
              "#0d0887"
             ],
             [
              0.1111111111111111,
              "#46039f"
             ],
             [
              0.2222222222222222,
              "#7201a8"
             ],
             [
              0.3333333333333333,
              "#9c179e"
             ],
             [
              0.4444444444444444,
              "#bd3786"
             ],
             [
              0.5555555555555556,
              "#d8576b"
             ],
             [
              0.6666666666666666,
              "#ed7953"
             ],
             [
              0.7777777777777778,
              "#fb9f3a"
             ],
             [
              0.8888888888888888,
              "#fdca26"
             ],
             [
              1,
              "#f0f921"
             ]
            ],
            "type": "heatmapgl"
           }
          ],
          "histogram": [
           {
            "marker": {
             "colorbar": {
              "outlinewidth": 0,
              "ticks": ""
             }
            },
            "type": "histogram"
           }
          ],
          "histogram2d": [
           {
            "colorbar": {
             "outlinewidth": 0,
             "ticks": ""
            },
            "colorscale": [
             [
              0,
              "#0d0887"
             ],
             [
              0.1111111111111111,
              "#46039f"
             ],
             [
              0.2222222222222222,
              "#7201a8"
             ],
             [
              0.3333333333333333,
              "#9c179e"
             ],
             [
              0.4444444444444444,
              "#bd3786"
             ],
             [
              0.5555555555555556,
              "#d8576b"
             ],
             [
              0.6666666666666666,
              "#ed7953"
             ],
             [
              0.7777777777777778,
              "#fb9f3a"
             ],
             [
              0.8888888888888888,
              "#fdca26"
             ],
             [
              1,
              "#f0f921"
             ]
            ],
            "type": "histogram2d"
           }
          ],
          "histogram2dcontour": [
           {
            "colorbar": {
             "outlinewidth": 0,
             "ticks": ""
            },
            "colorscale": [
             [
              0,
              "#0d0887"
             ],
             [
              0.1111111111111111,
              "#46039f"
             ],
             [
              0.2222222222222222,
              "#7201a8"
             ],
             [
              0.3333333333333333,
              "#9c179e"
             ],
             [
              0.4444444444444444,
              "#bd3786"
             ],
             [
              0.5555555555555556,
              "#d8576b"
             ],
             [
              0.6666666666666666,
              "#ed7953"
             ],
             [
              0.7777777777777778,
              "#fb9f3a"
             ],
             [
              0.8888888888888888,
              "#fdca26"
             ],
             [
              1,
              "#f0f921"
             ]
            ],
            "type": "histogram2dcontour"
           }
          ],
          "mesh3d": [
           {
            "colorbar": {
             "outlinewidth": 0,
             "ticks": ""
            },
            "type": "mesh3d"
           }
          ],
          "parcoords": [
           {
            "line": {
             "colorbar": {
              "outlinewidth": 0,
              "ticks": ""
             }
            },
            "type": "parcoords"
           }
          ],
          "pie": [
           {
            "automargin": true,
            "type": "pie"
           }
          ],
          "scatter": [
           {
            "marker": {
             "colorbar": {
              "outlinewidth": 0,
              "ticks": ""
             }
            },
            "type": "scatter"
           }
          ],
          "scatter3d": [
           {
            "line": {
             "colorbar": {
              "outlinewidth": 0,
              "ticks": ""
             }
            },
            "marker": {
             "colorbar": {
              "outlinewidth": 0,
              "ticks": ""
             }
            },
            "type": "scatter3d"
           }
          ],
          "scattercarpet": [
           {
            "marker": {
             "colorbar": {
              "outlinewidth": 0,
              "ticks": ""
             }
            },
            "type": "scattercarpet"
           }
          ],
          "scattergeo": [
           {
            "marker": {
             "colorbar": {
              "outlinewidth": 0,
              "ticks": ""
             }
            },
            "type": "scattergeo"
           }
          ],
          "scattergl": [
           {
            "marker": {
             "colorbar": {
              "outlinewidth": 0,
              "ticks": ""
             }
            },
            "type": "scattergl"
           }
          ],
          "scattermapbox": [
           {
            "marker": {
             "colorbar": {
              "outlinewidth": 0,
              "ticks": ""
             }
            },
            "type": "scattermapbox"
           }
          ],
          "scatterpolar": [
           {
            "marker": {
             "colorbar": {
              "outlinewidth": 0,
              "ticks": ""
             }
            },
            "type": "scatterpolar"
           }
          ],
          "scatterpolargl": [
           {
            "marker": {
             "colorbar": {
              "outlinewidth": 0,
              "ticks": ""
             }
            },
            "type": "scatterpolargl"
           }
          ],
          "scatterternary": [
           {
            "marker": {
             "colorbar": {
              "outlinewidth": 0,
              "ticks": ""
             }
            },
            "type": "scatterternary"
           }
          ],
          "surface": [
           {
            "colorbar": {
             "outlinewidth": 0,
             "ticks": ""
            },
            "colorscale": [
             [
              0,
              "#0d0887"
             ],
             [
              0.1111111111111111,
              "#46039f"
             ],
             [
              0.2222222222222222,
              "#7201a8"
             ],
             [
              0.3333333333333333,
              "#9c179e"
             ],
             [
              0.4444444444444444,
              "#bd3786"
             ],
             [
              0.5555555555555556,
              "#d8576b"
             ],
             [
              0.6666666666666666,
              "#ed7953"
             ],
             [
              0.7777777777777778,
              "#fb9f3a"
             ],
             [
              0.8888888888888888,
              "#fdca26"
             ],
             [
              1,
              "#f0f921"
             ]
            ],
            "type": "surface"
           }
          ],
          "table": [
           {
            "cells": {
             "fill": {
              "color": "#EBF0F8"
             },
             "line": {
              "color": "white"
             }
            },
            "header": {
             "fill": {
              "color": "#C8D4E3"
             },
             "line": {
              "color": "white"
             }
            },
            "type": "table"
           }
          ]
         },
         "layout": {
          "annotationdefaults": {
           "arrowcolor": "#2a3f5f",
           "arrowhead": 0,
           "arrowwidth": 1
          },
          "coloraxis": {
           "colorbar": {
            "outlinewidth": 0,
            "ticks": ""
           }
          },
          "colorscale": {
           "diverging": [
            [
             0,
             "#8e0152"
            ],
            [
             0.1,
             "#c51b7d"
            ],
            [
             0.2,
             "#de77ae"
            ],
            [
             0.3,
             "#f1b6da"
            ],
            [
             0.4,
             "#fde0ef"
            ],
            [
             0.5,
             "#f7f7f7"
            ],
            [
             0.6,
             "#e6f5d0"
            ],
            [
             0.7,
             "#b8e186"
            ],
            [
             0.8,
             "#7fbc41"
            ],
            [
             0.9,
             "#4d9221"
            ],
            [
             1,
             "#276419"
            ]
           ],
           "sequential": [
            [
             0,
             "#0d0887"
            ],
            [
             0.1111111111111111,
             "#46039f"
            ],
            [
             0.2222222222222222,
             "#7201a8"
            ],
            [
             0.3333333333333333,
             "#9c179e"
            ],
            [
             0.4444444444444444,
             "#bd3786"
            ],
            [
             0.5555555555555556,
             "#d8576b"
            ],
            [
             0.6666666666666666,
             "#ed7953"
            ],
            [
             0.7777777777777778,
             "#fb9f3a"
            ],
            [
             0.8888888888888888,
             "#fdca26"
            ],
            [
             1,
             "#f0f921"
            ]
           ],
           "sequentialminus": [
            [
             0,
             "#0d0887"
            ],
            [
             0.1111111111111111,
             "#46039f"
            ],
            [
             0.2222222222222222,
             "#7201a8"
            ],
            [
             0.3333333333333333,
             "#9c179e"
            ],
            [
             0.4444444444444444,
             "#bd3786"
            ],
            [
             0.5555555555555556,
             "#d8576b"
            ],
            [
             0.6666666666666666,
             "#ed7953"
            ],
            [
             0.7777777777777778,
             "#fb9f3a"
            ],
            [
             0.8888888888888888,
             "#fdca26"
            ],
            [
             1,
             "#f0f921"
            ]
           ]
          },
          "colorway": [
           "#636efa",
           "#EF553B",
           "#00cc96",
           "#ab63fa",
           "#FFA15A",
           "#19d3f3",
           "#FF6692",
           "#B6E880",
           "#FF97FF",
           "#FECB52"
          ],
          "font": {
           "color": "#2a3f5f"
          },
          "geo": {
           "bgcolor": "white",
           "lakecolor": "white",
           "landcolor": "#E5ECF6",
           "showlakes": true,
           "showland": true,
           "subunitcolor": "white"
          },
          "hoverlabel": {
           "align": "left"
          },
          "hovermode": "closest",
          "mapbox": {
           "style": "light"
          },
          "paper_bgcolor": "white",
          "plot_bgcolor": "#E5ECF6",
          "polar": {
           "angularaxis": {
            "gridcolor": "white",
            "linecolor": "white",
            "ticks": ""
           },
           "bgcolor": "#E5ECF6",
           "radialaxis": {
            "gridcolor": "white",
            "linecolor": "white",
            "ticks": ""
           }
          },
          "scene": {
           "xaxis": {
            "backgroundcolor": "#E5ECF6",
            "gridcolor": "white",
            "gridwidth": 2,
            "linecolor": "white",
            "showbackground": true,
            "ticks": "",
            "zerolinecolor": "white"
           },
           "yaxis": {
            "backgroundcolor": "#E5ECF6",
            "gridcolor": "white",
            "gridwidth": 2,
            "linecolor": "white",
            "showbackground": true,
            "ticks": "",
            "zerolinecolor": "white"
           },
           "zaxis": {
            "backgroundcolor": "#E5ECF6",
            "gridcolor": "white",
            "gridwidth": 2,
            "linecolor": "white",
            "showbackground": true,
            "ticks": "",
            "zerolinecolor": "white"
           }
          },
          "shapedefaults": {
           "line": {
            "color": "#2a3f5f"
           }
          },
          "ternary": {
           "aaxis": {
            "gridcolor": "white",
            "linecolor": "white",
            "ticks": ""
           },
           "baxis": {
            "gridcolor": "white",
            "linecolor": "white",
            "ticks": ""
           },
           "bgcolor": "#E5ECF6",
           "caxis": {
            "gridcolor": "white",
            "linecolor": "white",
            "ticks": ""
           }
          },
          "title": {
           "x": 0.05
          },
          "xaxis": {
           "automargin": true,
           "gridcolor": "white",
           "linecolor": "white",
           "ticks": "",
           "title": {
            "standoff": 15
           },
           "zerolinecolor": "white",
           "zerolinewidth": 2
          },
          "yaxis": {
           "automargin": true,
           "gridcolor": "white",
           "linecolor": "white",
           "ticks": "",
           "title": {
            "standoff": 15
           },
           "zerolinecolor": "white",
           "zerolinewidth": 2
          }
         }
        },
        "xaxis": {
         "anchor": "y",
         "domain": [
          0,
          1
         ],
         "title": {
          "text": ""
         }
        },
        "yaxis": {
         "anchor": "x",
         "domain": [
          0,
          1
         ],
         "tickprefix": "$",
         "title": {
          "text": ""
         }
        }
       }
      },
      "text/html": [
       "<div>\n",
       "        \n",
       "        \n",
       "            <div id=\"2339b2a5-16a5-4146-8773-6e71528e2e0c\" class=\"plotly-graph-div\" style=\"height:525px; width:100%;\"></div>\n",
       "            <script type=\"text/javascript\">\n",
       "                require([\"plotly\"], function(Plotly) {\n",
       "                    window.PLOTLYENV=window.PLOTLYENV || {};\n",
       "                    \n",
       "                if (document.getElementById(\"2339b2a5-16a5-4146-8773-6e71528e2e0c\")) {\n",
       "                    Plotly.newPlot(\n",
       "                        '2339b2a5-16a5-4146-8773-6e71528e2e0c',\n",
       "                        [{\"hovertemplate\": \"Manufacturer-Id=XBR55A1E<br>Date-Seen=%{x}<br>Price-Min=%{y}<extra></extra>\", \"legendgroup\": \"XBR55A1E\", \"marker\": {\"color\": \"#636efa\", \"line\": {\"color\": \"DarkSlateGrey\", \"width\": 1}, \"size\": 7, \"symbol\": \"circle\"}, \"mode\": \"markers\", \"name\": \"XBR55A1E\", \"orientation\": \"v\", \"showlegend\": true, \"type\": \"scatter\", \"x\": [\"2018-04-26T17:00:00\", \"2018-06-01T15:00:00\", \"2017-08-29T12:00:00\", \"2018-05-04T11:00:00\", \"2018-01-09T20:00:00\", \"2017-09-24T03:00:00\", \"2018-01-09T20:00:00\", \"2017-12-06T22:00:00\", \"2017-12-06T20:00:00\", \"2017-12-04T21:00:00\", \"2017-11-18T10:00:00\", \"2017-09-24T03:00:00\", \"2017-08-29T12:00:00\", \"2017-08-22T04:00:00\", \"2017-08-19T02:00:00\", \"2017-11-18T10:00:00\", \"2018-04-26T17:00:00\", \"2018-06-01T15:00:00\", \"2017-12-06T20:00:00\", \"2018-05-04T11:00:00\", \"2017-12-04T21:00:00\", \"2017-12-06T22:00:00\"], \"xaxis\": \"x\", \"y\": [2998.0, 2998.0, 2998.0, 2998.0, 2998.0, 2998.0, 3298.0, 3298.0, 3298.0, 3298.0, 3298.0, 3298.0, 3298.0, 3298.0, 3298.0, 2798.0, 2498.0, 2498.0, 2498.0, 2498.0, 2498.0, 2498.0], \"yaxis\": \"y\"}, {\"hovertemplate\": \"Manufacturer-Id=QN55Q8FNBFXZA<br>Date-Seen=%{x}<br>Price-Min=%{y}<extra></extra>\", \"legendgroup\": \"QN55Q8FNBFXZA\", \"marker\": {\"color\": \"#EF553B\", \"line\": {\"color\": \"DarkSlateGrey\", \"width\": 1}, \"size\": 7, \"symbol\": \"circle\"}, \"mode\": \"markers\", \"name\": \"QN55Q8FNBFXZA\", \"orientation\": \"v\", \"showlegend\": true, \"type\": \"scatter\", \"x\": [\"2018-04-26T17:00:00\", \"2018-06-01T09:00:00\", \"2018-04-26T17:00:00\", \"2018-06-01T09:00:00\"], \"xaxis\": \"x\", \"y\": [2097.99, 1997.99, 2197.99, 2197.99], \"yaxis\": \"y\"}, {\"hovertemplate\": \"Manufacturer-Id=XBR55X900F<br>Date-Seen=%{x}<br>Price-Min=%{y}<extra></extra>\", \"legendgroup\": \"XBR55X900F\", \"marker\": {\"color\": \"#00cc96\", \"line\": {\"color\": \"DarkSlateGrey\", \"width\": 1}, \"size\": 7, \"symbol\": \"circle\"}, \"mode\": \"markers\", \"name\": \"XBR55X900F\", \"orientation\": \"v\", \"showlegend\": true, \"type\": \"scatter\", \"x\": [\"2018-04-26T17:00:00\", \"2018-07-25T18:00:00\", \"2018-03-31T19:00:00\", \"2018-06-01T09:00:00\", \"2018-06-01T09:00:00\"], \"xaxis\": \"x\", \"y\": [1498.0, 1498.0, 1498.0, 1498.0, 1298.0], \"yaxis\": \"y\"}, {\"hovertemplate\": \"Manufacturer-Id=UN55MU6490FXZA<br>Date-Seen=%{x}<br>Price-Min=%{y}<extra></extra>\", \"legendgroup\": \"UN55MU6490FXZA\", \"marker\": {\"color\": \"#ab63fa\", \"line\": {\"color\": \"DarkSlateGrey\", \"width\": 1}, \"size\": 7, \"symbol\": \"circle\"}, \"mode\": \"markers\", \"name\": \"UN55MU6490FXZA\", \"orientation\": \"v\", \"showlegend\": true, \"type\": \"scatter\", \"x\": [\"2017-11-18T13:00:00\", \"2017-12-06T20:00:00\", \"2017-08-29T12:00:00\", \"2017-08-19T05:00:00\", \"2017-12-04T21:00:00\", \"2017-08-22T10:00:00\", \"2018-01-09T20:00:00\", \"2017-10-24T08:00:00\", \"2018-05-06T17:00:00\", \"2017-12-06T22:00:00\", \"2018-03-31T19:00:00\", \"2017-12-06T22:00:00\", \"2017-12-06T20:00:00\", \"2017-12-04T21:00:00\", \"2017-11-18T13:00:00\"], \"xaxis\": \"x\", \"y\": [797.99, 797.99, 797.99, 797.99, 797.99, 797.99, 797.99, 797.99, 797.99, 797.99, 1197.99, 597.99, 597.99, 597.99, 597.99], \"yaxis\": \"y\"}, {\"hovertemplate\": \"Manufacturer-Id=55UJ7700<br>Date-Seen=%{x}<br>Price-Min=%{y}<extra></extra>\", \"legendgroup\": \"55UJ7700\", \"marker\": {\"color\": \"#FFA15A\", \"line\": {\"color\": \"DarkSlateGrey\", \"width\": 1}, \"size\": 7, \"symbol\": \"circle\"}, \"mode\": \"markers\", \"name\": \"55UJ7700\", \"orientation\": \"v\", \"showlegend\": true, \"type\": \"scatter\", \"x\": [\"2018-04-26T17:00:00\", \"2018-05-06T17:00:00\"], \"xaxis\": \"x\", \"y\": [1296.99, 1296.99], \"yaxis\": \"y\"}, {\"hovertemplate\": \"Manufacturer-Id=QN55Q7CAMFXZA<br>Date-Seen=%{x}<br>Price-Min=%{y}<extra></extra>\", \"legendgroup\": \"QN55Q7CAMFXZA\", \"marker\": {\"color\": \"#19d3f3\", \"line\": {\"color\": \"DarkSlateGrey\", \"width\": 1}, \"size\": 7, \"symbol\": \"circle\"}, \"mode\": \"markers\", \"name\": \"QN55Q7CAMFXZA\", \"orientation\": \"v\", \"showlegend\": true, \"type\": \"scatter\", \"x\": [\"2018-01-27T10:00:00\", \"2018-06-01T15:00:00\", \"2018-04-26T17:00:00\", \"2018-01-27T10:00:00\", \"2018-01-09T20:00:00\", \"2018-04-26T17:00:00\", \"2017-12-07T23:00:00\", \"2017-12-08T01:00:00\", \"2017-12-05T10:00:00\", \"2018-04-10T14:00:00\", \"2018-04-26T17:00:00\", \"2018-06-01T15:00:00\", \"2017-12-07T23:00:00\", \"2017-12-08T01:00:00\", \"2017-12-05T10:00:00\", \"2017-08-22T10:00:00\", \"2018-01-27T10:00:00\", \"2018-01-09T20:00:00\", \"2017-09-24T10:00:00\", \"2017-08-19T02:00:00\", \"2017-09-24T10:00:00\", \"2017-08-22T10:00:00\", \"2017-08-19T02:00:00\"], \"xaxis\": \"x\", \"y\": [1697.99, 2797.99, 1549.95, 1549.95, 1997.99, 1797.99, 1797.99, 1797.99, 1797.99, 2997.99, 2997.99, 2997.99, 2997.99, 2997.99, 2997.99, 2997.99, 2997.99, 2997.99, 2997.99, 2997.99, 2197.99, 2197.99, 2197.99], \"yaxis\": \"y\"}, {\"hovertemplate\": \"Manufacturer-Id=XBR55X800E<br>Date-Seen=%{x}<br>Price-Min=%{y}<extra></extra>\", \"legendgroup\": \"XBR55X800E\", \"marker\": {\"color\": \"#FF6692\", \"line\": {\"color\": \"DarkSlateGrey\", \"width\": 1}, \"size\": 7, \"symbol\": \"circle\"}, \"mode\": \"markers\", \"name\": \"XBR55X800E\", \"orientation\": \"v\", \"showlegend\": true, \"type\": \"scatter\", \"x\": [\"2018-04-26T17:00:00\", \"2017-08-29T12:00:00\", \"2017-08-19T05:00:00\", \"2018-05-04T11:00:00\", \"2017-09-24T03:00:00\", \"2018-04-26T17:00:00\", \"2017-12-06T20:00:00\", \"2017-08-29T12:00:00\", \"2017-08-19T05:00:00\", \"2018-05-04T11:00:00\", \"2017-12-04T21:00:00\", \"2017-08-22T10:00:00\", \"2018-01-09T20:00:00\", \"2017-12-06T22:00:00\", \"2017-09-24T03:00:00\", \"2017-11-18T10:00:00\", \"2017-08-22T10:00:00\", \"2018-01-09T20:00:00\", \"2017-12-06T22:00:00\", \"2017-12-06T20:00:00\", \"2017-12-04T21:00:00\", \"2017-11-18T10:00:00\"], \"xaxis\": \"x\", \"y\": [898.0, 898.0, 898.0, 898.0, 898.0, 1198.0, 1198.0, 1198.0, 1198.0, 1198.0, 1198.0, 1198.0, 1198.0, 1198.0, 1198.0, 1198.0, 998.0, 798.0, 798.0, 798.0, 798.0, 798.0], \"yaxis\": \"y\"}],\n",
       "                        {\"font\": {\"size\": 12}, \"legend\": {\"title\": {\"text\": \"Models\"}, \"tracegroupgap\": 0}, \"margin\": {\"t\": 60}, \"showlegend\": false, \"template\": {\"data\": {\"bar\": [{\"error_x\": {\"color\": \"#2a3f5f\"}, \"error_y\": {\"color\": \"#2a3f5f\"}, \"marker\": {\"line\": {\"color\": \"#E5ECF6\", \"width\": 0.5}}, \"type\": \"bar\"}], \"barpolar\": [{\"marker\": {\"line\": {\"color\": \"#E5ECF6\", \"width\": 0.5}}, \"type\": \"barpolar\"}], \"carpet\": [{\"aaxis\": {\"endlinecolor\": \"#2a3f5f\", \"gridcolor\": \"white\", \"linecolor\": \"white\", \"minorgridcolor\": \"white\", \"startlinecolor\": \"#2a3f5f\"}, \"baxis\": {\"endlinecolor\": \"#2a3f5f\", \"gridcolor\": \"white\", \"linecolor\": \"white\", \"minorgridcolor\": \"white\", \"startlinecolor\": \"#2a3f5f\"}, \"type\": \"carpet\"}], \"choropleth\": [{\"colorbar\": {\"outlinewidth\": 0, \"ticks\": \"\"}, \"type\": \"choropleth\"}], \"contour\": [{\"colorbar\": {\"outlinewidth\": 0, \"ticks\": \"\"}, \"colorscale\": [[0.0, \"#0d0887\"], [0.1111111111111111, \"#46039f\"], [0.2222222222222222, \"#7201a8\"], [0.3333333333333333, \"#9c179e\"], [0.4444444444444444, \"#bd3786\"], [0.5555555555555556, \"#d8576b\"], [0.6666666666666666, \"#ed7953\"], [0.7777777777777778, \"#fb9f3a\"], [0.8888888888888888, \"#fdca26\"], [1.0, \"#f0f921\"]], \"type\": \"contour\"}], \"contourcarpet\": [{\"colorbar\": {\"outlinewidth\": 0, \"ticks\": \"\"}, \"type\": \"contourcarpet\"}], \"heatmap\": [{\"colorbar\": {\"outlinewidth\": 0, \"ticks\": \"\"}, \"colorscale\": [[0.0, \"#0d0887\"], [0.1111111111111111, \"#46039f\"], [0.2222222222222222, \"#7201a8\"], [0.3333333333333333, \"#9c179e\"], [0.4444444444444444, \"#bd3786\"], [0.5555555555555556, \"#d8576b\"], [0.6666666666666666, \"#ed7953\"], [0.7777777777777778, \"#fb9f3a\"], [0.8888888888888888, \"#fdca26\"], [1.0, \"#f0f921\"]], \"type\": \"heatmap\"}], \"heatmapgl\": [{\"colorbar\": {\"outlinewidth\": 0, \"ticks\": \"\"}, \"colorscale\": [[0.0, \"#0d0887\"], [0.1111111111111111, \"#46039f\"], [0.2222222222222222, \"#7201a8\"], [0.3333333333333333, \"#9c179e\"], [0.4444444444444444, \"#bd3786\"], [0.5555555555555556, \"#d8576b\"], [0.6666666666666666, \"#ed7953\"], [0.7777777777777778, \"#fb9f3a\"], [0.8888888888888888, \"#fdca26\"], [1.0, \"#f0f921\"]], \"type\": \"heatmapgl\"}], \"histogram\": [{\"marker\": {\"colorbar\": {\"outlinewidth\": 0, \"ticks\": \"\"}}, \"type\": \"histogram\"}], \"histogram2d\": [{\"colorbar\": {\"outlinewidth\": 0, \"ticks\": \"\"}, \"colorscale\": [[0.0, \"#0d0887\"], [0.1111111111111111, \"#46039f\"], [0.2222222222222222, \"#7201a8\"], [0.3333333333333333, \"#9c179e\"], [0.4444444444444444, \"#bd3786\"], [0.5555555555555556, \"#d8576b\"], [0.6666666666666666, \"#ed7953\"], [0.7777777777777778, \"#fb9f3a\"], [0.8888888888888888, \"#fdca26\"], [1.0, \"#f0f921\"]], \"type\": \"histogram2d\"}], \"histogram2dcontour\": [{\"colorbar\": {\"outlinewidth\": 0, \"ticks\": \"\"}, \"colorscale\": [[0.0, \"#0d0887\"], [0.1111111111111111, \"#46039f\"], [0.2222222222222222, \"#7201a8\"], [0.3333333333333333, \"#9c179e\"], [0.4444444444444444, \"#bd3786\"], [0.5555555555555556, \"#d8576b\"], [0.6666666666666666, \"#ed7953\"], [0.7777777777777778, \"#fb9f3a\"], [0.8888888888888888, \"#fdca26\"], [1.0, \"#f0f921\"]], \"type\": \"histogram2dcontour\"}], \"mesh3d\": [{\"colorbar\": {\"outlinewidth\": 0, \"ticks\": \"\"}, \"type\": \"mesh3d\"}], \"parcoords\": [{\"line\": {\"colorbar\": {\"outlinewidth\": 0, \"ticks\": \"\"}}, \"type\": \"parcoords\"}], \"pie\": [{\"automargin\": true, \"type\": \"pie\"}], \"scatter\": [{\"marker\": {\"colorbar\": {\"outlinewidth\": 0, \"ticks\": \"\"}}, \"type\": \"scatter\"}], \"scatter3d\": [{\"line\": {\"colorbar\": {\"outlinewidth\": 0, \"ticks\": \"\"}}, \"marker\": {\"colorbar\": {\"outlinewidth\": 0, \"ticks\": \"\"}}, \"type\": \"scatter3d\"}], \"scattercarpet\": [{\"marker\": {\"colorbar\": {\"outlinewidth\": 0, \"ticks\": \"\"}}, \"type\": \"scattercarpet\"}], \"scattergeo\": [{\"marker\": {\"colorbar\": {\"outlinewidth\": 0, \"ticks\": \"\"}}, \"type\": \"scattergeo\"}], \"scattergl\": [{\"marker\": {\"colorbar\": {\"outlinewidth\": 0, \"ticks\": \"\"}}, \"type\": \"scattergl\"}], \"scattermapbox\": [{\"marker\": {\"colorbar\": {\"outlinewidth\": 0, \"ticks\": \"\"}}, \"type\": \"scattermapbox\"}], \"scatterpolar\": [{\"marker\": {\"colorbar\": {\"outlinewidth\": 0, \"ticks\": \"\"}}, \"type\": \"scatterpolar\"}], \"scatterpolargl\": [{\"marker\": {\"colorbar\": {\"outlinewidth\": 0, \"ticks\": \"\"}}, \"type\": \"scatterpolargl\"}], \"scatterternary\": [{\"marker\": {\"colorbar\": {\"outlinewidth\": 0, \"ticks\": \"\"}}, \"type\": \"scatterternary\"}], \"surface\": [{\"colorbar\": {\"outlinewidth\": 0, \"ticks\": \"\"}, \"colorscale\": [[0.0, \"#0d0887\"], [0.1111111111111111, \"#46039f\"], [0.2222222222222222, \"#7201a8\"], [0.3333333333333333, \"#9c179e\"], [0.4444444444444444, \"#bd3786\"], [0.5555555555555556, \"#d8576b\"], [0.6666666666666666, \"#ed7953\"], [0.7777777777777778, \"#fb9f3a\"], [0.8888888888888888, \"#fdca26\"], [1.0, \"#f0f921\"]], \"type\": \"surface\"}], \"table\": [{\"cells\": {\"fill\": {\"color\": \"#EBF0F8\"}, \"line\": {\"color\": \"white\"}}, \"header\": {\"fill\": {\"color\": \"#C8D4E3\"}, \"line\": {\"color\": \"white\"}}, \"type\": \"table\"}]}, \"layout\": {\"annotationdefaults\": {\"arrowcolor\": \"#2a3f5f\", \"arrowhead\": 0, \"arrowwidth\": 1}, \"coloraxis\": {\"colorbar\": {\"outlinewidth\": 0, \"ticks\": \"\"}}, \"colorscale\": {\"diverging\": [[0, \"#8e0152\"], [0.1, \"#c51b7d\"], [0.2, \"#de77ae\"], [0.3, \"#f1b6da\"], [0.4, \"#fde0ef\"], [0.5, \"#f7f7f7\"], [0.6, \"#e6f5d0\"], [0.7, \"#b8e186\"], [0.8, \"#7fbc41\"], [0.9, \"#4d9221\"], [1, \"#276419\"]], \"sequential\": [[0.0, \"#0d0887\"], [0.1111111111111111, \"#46039f\"], [0.2222222222222222, \"#7201a8\"], [0.3333333333333333, \"#9c179e\"], [0.4444444444444444, \"#bd3786\"], [0.5555555555555556, \"#d8576b\"], [0.6666666666666666, \"#ed7953\"], [0.7777777777777778, \"#fb9f3a\"], [0.8888888888888888, \"#fdca26\"], [1.0, \"#f0f921\"]], \"sequentialminus\": [[0.0, \"#0d0887\"], [0.1111111111111111, \"#46039f\"], [0.2222222222222222, \"#7201a8\"], [0.3333333333333333, \"#9c179e\"], [0.4444444444444444, \"#bd3786\"], [0.5555555555555556, \"#d8576b\"], [0.6666666666666666, \"#ed7953\"], [0.7777777777777778, \"#fb9f3a\"], [0.8888888888888888, \"#fdca26\"], [1.0, \"#f0f921\"]]}, \"colorway\": [\"#636efa\", \"#EF553B\", \"#00cc96\", \"#ab63fa\", \"#FFA15A\", \"#19d3f3\", \"#FF6692\", \"#B6E880\", \"#FF97FF\", \"#FECB52\"], \"font\": {\"color\": \"#2a3f5f\"}, \"geo\": {\"bgcolor\": \"white\", \"lakecolor\": \"white\", \"landcolor\": \"#E5ECF6\", \"showlakes\": true, \"showland\": true, \"subunitcolor\": \"white\"}, \"hoverlabel\": {\"align\": \"left\"}, \"hovermode\": \"closest\", \"mapbox\": {\"style\": \"light\"}, \"paper_bgcolor\": \"white\", \"plot_bgcolor\": \"#E5ECF6\", \"polar\": {\"angularaxis\": {\"gridcolor\": \"white\", \"linecolor\": \"white\", \"ticks\": \"\"}, \"bgcolor\": \"#E5ECF6\", \"radialaxis\": {\"gridcolor\": \"white\", \"linecolor\": \"white\", \"ticks\": \"\"}}, \"scene\": {\"xaxis\": {\"backgroundcolor\": \"#E5ECF6\", \"gridcolor\": \"white\", \"gridwidth\": 2, \"linecolor\": \"white\", \"showbackground\": true, \"ticks\": \"\", \"zerolinecolor\": \"white\"}, \"yaxis\": {\"backgroundcolor\": \"#E5ECF6\", \"gridcolor\": \"white\", \"gridwidth\": 2, \"linecolor\": \"white\", \"showbackground\": true, \"ticks\": \"\", \"zerolinecolor\": \"white\"}, \"zaxis\": {\"backgroundcolor\": \"#E5ECF6\", \"gridcolor\": \"white\", \"gridwidth\": 2, \"linecolor\": \"white\", \"showbackground\": true, \"ticks\": \"\", \"zerolinecolor\": \"white\"}}, \"shapedefaults\": {\"line\": {\"color\": \"#2a3f5f\"}}, \"ternary\": {\"aaxis\": {\"gridcolor\": \"white\", \"linecolor\": \"white\", \"ticks\": \"\"}, \"baxis\": {\"gridcolor\": \"white\", \"linecolor\": \"white\", \"ticks\": \"\"}, \"bgcolor\": \"#E5ECF6\", \"caxis\": {\"gridcolor\": \"white\", \"linecolor\": \"white\", \"ticks\": \"\"}}, \"title\": {\"x\": 0.05}, \"xaxis\": {\"automargin\": true, \"gridcolor\": \"white\", \"linecolor\": \"white\", \"ticks\": \"\", \"title\": {\"standoff\": 15}, \"zerolinecolor\": \"white\", \"zerolinewidth\": 2}, \"yaxis\": {\"automargin\": true, \"gridcolor\": \"white\", \"linecolor\": \"white\", \"ticks\": \"\", \"title\": {\"standoff\": 15}, \"zerolinecolor\": \"white\", \"zerolinewidth\": 2}}}, \"xaxis\": {\"anchor\": \"y\", \"domain\": [0.0, 1.0], \"title\": {\"text\": \"\"}}, \"yaxis\": {\"anchor\": \"x\", \"domain\": [0.0, 1.0], \"tickprefix\": \"$\", \"title\": {\"text\": \"\"}}},\n",
       "                        {\"responsive\": true}\n",
       "                    ).then(function(){\n",
       "                            \n",
       "var gd = document.getElementById('2339b2a5-16a5-4146-8773-6e71528e2e0c');\n",
       "var x = new MutationObserver(function (mutations, observer) {{\n",
       "        var display = window.getComputedStyle(gd).display;\n",
       "        if (!display || display === 'none') {{\n",
       "            console.log([gd, 'removed!']);\n",
       "            Plotly.purge(gd);\n",
       "            observer.disconnect();\n",
       "        }}\n",
       "}});\n",
       "\n",
       "// Listen for the removal of the full notebook cells\n",
       "var notebookContainer = gd.closest('#notebook-container');\n",
       "if (notebookContainer) {{\n",
       "    x.observe(notebookContainer, {childList: true});\n",
       "}}\n",
       "\n",
       "// Listen for the clearing of the current output cell\n",
       "var outputEl = gd.closest('.output');\n",
       "if (outputEl) {{\n",
       "    x.observe(outputEl, {childList: true});\n",
       "}}\n",
       "\n",
       "                        })\n",
       "                };\n",
       "                });\n",
       "            </script>\n",
       "        </div>"
      ]
     },
     "metadata": {},
     "output_type": "display_data"
    }
   ],
   "source": [
    "# plot with plotly\n",
    "fig1 = px.scatter(df.loc[df[\"Website\"] == \"bestbuy\"], x=\"Date-Seen\", y=\"Price-Min\",color=\"Manufacturer-Id\")\n",
    "\n",
    "# styling\n",
    "fig1.update_yaxes(tickprefix=\"$\") # dollar sign on y-axis\n",
    "fig1.update_xaxes(title_text='') # get rid of x-title\n",
    "fig1.update_yaxes(title_text='') # get rid of y-title\n",
    "fig1.update_traces(marker=dict(size=7, line=dict(width=1, color='DarkSlateGrey')), selector=dict(mode='markers')) # style markers\n",
    "fig1.update_layout(showlegend=False,\n",
    "#     title=\"Bestbuy\",\n",
    "    legend_title=\"Models\",\n",
    "    font=dict(\n",
    "        size=12,\n",
    "    )\n",
    ")\n",
    "\n",
    "fig1.show()\n",
    "\n",
    "################################################################################################\n",
    "\n",
    "\n",
    "# plot with plotly\n",
    "fig2 = px.scatter(df.loc[df[\"Website\"] == \"walmart\"], x=\"Date-Seen\", y=\"Price-Min\",color=\"Manufacturer-Id\")\n",
    "\n",
    "# styling\n",
    "fig2.update_yaxes(tickprefix=\"$\") # dollar sign on y-axis\n",
    "fig2.update_xaxes(title_text='') # get rid of x-title\n",
    "fig2.update_yaxes(title_text='') # get rid of y-title\n",
    "fig2.update_traces(marker=dict(size=7, line=dict(width=1, color='DarkSlateGrey')), selector=dict(mode='markers')) # style markers\n",
    "fig2.update_layout(showlegend=False,\n",
    "#     title=\"Walmart\",\n",
    "    legend_title=\"Models\",\n",
    "    font=dict(\n",
    "        size=12,\n",
    "    )\n",
    ")\n",
    "\n",
    "fig2.show()\n",
    "\n",
    "################################################################################################\n",
    "\n",
    "\n",
    "# plot with plotly\n",
    "fig3 = px.scatter(df.loc[df[\"Website\"] == \"ebay\"], x=\"Date-Seen\", y=\"Price-Min\",color=\"Manufacturer-Id\")\n",
    "\n",
    "# styling\n",
    "fig3.update_yaxes(tickprefix=\"$\") # dollar sign on y-axis\n",
    "fig3.update_xaxes(title_text='') # get rid of x-title\n",
    "fig3.update_yaxes(title_text='') # get rid of y-title\n",
    "fig3.update_traces(marker=dict(size=7, line=dict(width=1, color='DarkSlateGrey')), selector=dict(mode='markers')) # style markers\n",
    "fig3.update_layout(showlegend=False,\n",
    "#     title=\"eBay\",\n",
    "    legend_title=\"Models\",\n",
    "    font=dict(\n",
    "        size=12,\n",
    "    )\n",
    ")\n",
    "\n",
    "fig3.show()\n",
    "\n",
    "################################################################################################\n",
    "\n",
    "# plot with plotly\n",
    "fig4 = px.scatter(df.loc[df[\"Website\"] == \"bhphotovideo\"], x=\"Date-Seen\", y=\"Price-Min\",color=\"Manufacturer-Id\")\n",
    "\n",
    "# styling\n",
    "fig4.update_yaxes(tickprefix=\"$\") # dollar sign on y-axis\n",
    "fig4.update_xaxes(title_text='') # get rid of x-title\n",
    "fig4.update_yaxes(title_text='') # get rid of y-title\n",
    "fig4.update_traces(marker=dict(size=7, line=dict(width=1, color='DarkSlateGrey')), selector=dict(mode='markers')) # style markers\n",
    "fig4.update_layout(showlegend=False,\n",
    "#     title=\"B&H Photo Video\",\n",
    "    legend_title=\"Models\",\n",
    "    font=dict(\n",
    "        size=12,\n",
    "    )\n",
    ")\n",
    "\n",
    "fig4.show()"
   ]
  },
  {
   "cell_type": "code",
   "execution_count": 16,
   "metadata": {},
   "outputs": [],
   "source": [
    "# fig1.write_image(\"images/bestbuy_time_series.png\")\n",
    "# fig2.write_image(\"images/walmart_time_series.png\")\n",
    "# fig3.write_image(\"images/ebay_time_series.png\")\n",
    "# fig4.write_image(\"images/bhpv_time_series.png\")"
   ]
  },
  {
   "cell_type": "code",
   "execution_count": 17,
   "metadata": {},
   "outputs": [
    {
     "data": {
      "application/vnd.plotly.v1+json": {
       "config": {
        "plotlyServerURL": "https://plot.ly"
       },
       "data": [
        {
         "hovertemplate": "Manufacturer-Id=55H9D PLUS<br>Website=bestbuy<br>Date-Seen=%{x}<br>Price-Min=%{y}<extra></extra>",
         "legendgroup": "55H9D PLUS",
         "marker": {
          "color": "#636efa",
          "line": {
           "color": "DarkSlateGrey",
           "width": 1
          },
          "size": 8,
          "symbol": "circle"
         },
         "mode": "markers",
         "name": "55H9D PLUS",
         "orientation": "v",
         "showlegend": true,
         "type": "scatter",
         "x": [
          "2018-05-26T15:00:00",
          "2018-05-02T14:00:00",
          "2018-05-26T15:00:00",
          "2018-05-02T14:00:00"
         ],
         "xaxis": "x4",
         "y": [
          799.99,
          799.99,
          599.99,
          699.99
         ],
         "yaxis": "y4"
        },
        {
         "hovertemplate": "Manufacturer-Id=55H9D PLUS<br>Website=walmart<br>Date-Seen=%{x}<br>Price-Min=%{y}<extra></extra>",
         "legendgroup": "55H9D PLUS",
         "marker": {
          "color": "#636efa",
          "line": {
           "color": "DarkSlateGrey",
           "width": 1
          },
          "size": 8,
          "symbol": "circle"
         },
         "mode": "markers",
         "name": "55H9D PLUS",
         "orientation": "v",
         "showlegend": false,
         "type": "scatter",
         "x": [
          "2018-04-26T17:00:00",
          "2018-03-09T18:00:00"
         ],
         "xaxis": "x3",
         "y": [
          599.99,
          699.99
         ],
         "yaxis": "y3"
        },
        {
         "hovertemplate": "Manufacturer-Id=UN55KU7000FXZA<br>Website=bestbuy<br>Date-Seen=%{x}<br>Price-Min=%{y}<extra></extra>",
         "legendgroup": "UN55KU7000FXZA",
         "marker": {
          "color": "#EF553B",
          "line": {
           "color": "DarkSlateGrey",
           "width": 1
          },
          "size": 8,
          "symbol": "circle"
         },
         "mode": "markers",
         "name": "UN55KU7000FXZA",
         "orientation": "v",
         "showlegend": true,
         "type": "scatter",
         "x": [
          "2017-03-30T05:00:00",
          "2017-03-10T19:00:00",
          "2017-03-30T05:00:00",
          "2017-03-10T19:00:00",
          "2017-03-04T10:00:00",
          "2017-03-04T10:00:00"
         ],
         "xaxis": "x4",
         "y": [
          999.99,
          999.99,
          809.99,
          909.99,
          1199.99,
          1
         ],
         "yaxis": "y4"
        },
        {
         "hovertemplate": "Manufacturer-Id=UN55KU7000FXZA<br>Website=walmart<br>Date-Seen=%{x}<br>Price-Min=%{y}<extra></extra>",
         "legendgroup": "UN55KU7000FXZA",
         "marker": {
          "color": "#EF553B",
          "line": {
           "color": "DarkSlateGrey",
           "width": 1
          },
          "size": 8,
          "symbol": "circle"
         },
         "mode": "markers",
         "name": "UN55KU7000FXZA",
         "orientation": "v",
         "showlegend": false,
         "type": "scatter",
         "x": [
          "2017-12-06T01:00:00",
          "2017-11-08T20:00:00",
          "2017-10-24T01:00:00",
          "2017-08-14T14:00:00"
         ],
         "xaxis": "x3",
         "y": [
          1197.99,
          1197.99,
          1197.99,
          1197.99
         ],
         "yaxis": "y3"
        },
        {
         "hovertemplate": "Manufacturer-Id=UN55KU7000FXZA<br>Website=ebay<br>Date-Seen=%{x}<br>Price-Min=%{y}<extra></extra>",
         "legendgroup": "UN55KU7000FXZA",
         "marker": {
          "color": "#EF553B",
          "line": {
           "color": "DarkSlateGrey",
           "width": 1
          },
          "size": 8,
          "symbol": "circle"
         },
         "mode": "markers",
         "name": "UN55KU7000FXZA",
         "orientation": "v",
         "showlegend": false,
         "type": "scatter",
         "x": [
          "2017-07-26T01:00:00",
          "2017-07-25T23:00:00",
          "2017-07-23T11:00:00",
          "2017-07-24T21:00:00",
          "2017-07-25T18:00:00",
          "2017-07-10T04:00:00",
          "2017-07-14T12:00:00",
          "2017-07-11T07:00:00",
          "2017-07-11T22:00:00"
         ],
         "xaxis": "x2",
         "y": [
          1197.99,
          1197.99,
          489.99,
          489.99,
          489.99,
          499.99,
          499.99,
          499.99,
          499.99
         ],
         "yaxis": "y2"
        },
        {
         "hovertemplate": "Manufacturer-Id=XBR55A1E<br>Website=bestbuy<br>Date-Seen=%{x}<br>Price-Min=%{y}<extra></extra>",
         "legendgroup": "XBR55A1E",
         "marker": {
          "color": "#00cc96",
          "line": {
           "color": "DarkSlateGrey",
           "width": 1
          },
          "size": 8,
          "symbol": "circle"
         },
         "mode": "markers",
         "name": "XBR55A1E",
         "orientation": "v",
         "showlegend": true,
         "type": "scatter",
         "x": [
          "2018-05-26T07:00:00",
          "2018-05-26T07:00:00",
          "2017-03-30T02:00:00",
          "2017-08-01T03:00:00",
          "2017-07-26T15:00:00",
          "2017-07-11T05:00:00",
          "2017-08-01T03:00:00",
          "2017-07-26T15:00:00",
          "2017-05-31T19:00:00",
          "2017-05-31T16:00:00",
          "2017-05-09T03:00:00",
          "2017-05-01T06:00:00",
          "2017-05-18T02:00:00",
          "2017-04-04T04:00:00"
         ],
         "xaxis": "x4",
         "y": [
          2799.99,
          2499.99,
          4999.99,
          3219.99,
          3219.99,
          3219.99,
          3499.99,
          3499.99,
          3999.99,
          3999.99,
          3999.99,
          3999.99,
          3999.99,
          3999.99
         ],
         "yaxis": "y4"
        },
        {
         "hovertemplate": "Manufacturer-Id=XBR55A1E<br>Website=walmart<br>Date-Seen=%{x}<br>Price-Min=%{y}<extra></extra>",
         "legendgroup": "XBR55A1E",
         "marker": {
          "color": "#00cc96",
          "line": {
           "color": "DarkSlateGrey",
           "width": 1
          },
          "size": 8,
          "symbol": "circle"
         },
         "mode": "markers",
         "name": "XBR55A1E",
         "orientation": "v",
         "showlegend": false,
         "type": "scatter",
         "x": [
          "2017-12-07T06:00:00",
          "2018-01-10T07:00:00",
          "2017-11-08T20:00:00",
          "2018-03-09T18:00:00",
          "2017-10-28T17:00:00",
          "2017-10-24T22:00:00",
          "2017-11-08T20:00:00",
          "2017-10-30T14:00:00",
          "2017-10-28T18:00:00",
          "2017-10-24T22:00:00",
          "2017-08-15T21:00:00",
          "2017-12-04T20:00:00",
          "2017-07-23T00:00:00",
          "2018-04-26T17:00:00",
          "2018-05-27T16:00:00",
          "2018-05-24T11:00:00",
          "2018-05-28T10:00:00"
         ],
         "xaxis": "x3",
         "y": [
          3596,
          4296,
          2798,
          2798,
          2798,
          2798,
          4096,
          4096,
          4096,
          4096,
          3298,
          2498,
          3498,
          2498,
          2498,
          2498,
          2498
         ],
         "yaxis": "y3"
        },
        {
         "hovertemplate": "Manufacturer-Id=XBR55A1E<br>Website=ebay<br>Date-Seen=%{x}<br>Price-Min=%{y}<extra></extra>",
         "legendgroup": "XBR55A1E",
         "marker": {
          "color": "#00cc96",
          "line": {
           "color": "DarkSlateGrey",
           "width": 1
          },
          "size": 8,
          "symbol": "circle"
         },
         "mode": "markers",
         "name": "XBR55A1E",
         "orientation": "v",
         "showlegend": false,
         "type": "scatter",
         "x": [
          "2017-07-27T19:00:00",
          "2017-07-11T22:00:00",
          "2017-06-28T23:00:00",
          "2017-06-27T11:00:00",
          "2017-06-26T22:00:00",
          "2017-06-29T17:00:00",
          "2017-06-25T15:00:00",
          "2017-06-24T03:00:00",
          "2017-06-28T04:00:00",
          "2017-06-24T20:00:00",
          "2017-07-26T15:00:00",
          "2017-07-25T18:00:00",
          "2017-07-23T02:00:00",
          "2017-07-24T14:00:00",
          "2017-06-19T04:00:00",
          "2017-08-22T19:00:00",
          "2017-07-27T21:00:00",
          "2017-07-25T18:00:00",
          "2017-09-28T04:00:00"
         ],
         "xaxis": "x2",
         "y": [
          3050,
          2999.99,
          2999.99,
          2999.99,
          2999.99,
          2999.99,
          2999.99,
          2999.99,
          2999.99,
          2999.99,
          3040,
          3040,
          3099.52,
          3099.52,
          3099.52,
          3099.18,
          3050,
          3050,
          2998
         ],
         "yaxis": "y2"
        },
        {
         "hovertemplate": "Manufacturer-Id=XBR55A1E<br>Website=bhphotovideo<br>Date-Seen=%{x}<br>Price-Min=%{y}<extra></extra>",
         "legendgroup": "XBR55A1E",
         "marker": {
          "color": "#00cc96",
          "line": {
           "color": "DarkSlateGrey",
           "width": 1
          },
          "size": 8,
          "symbol": "circle"
         },
         "mode": "markers",
         "name": "XBR55A1E",
         "orientation": "v",
         "showlegend": false,
         "type": "scatter",
         "x": [
          "2018-04-26T17:00:00",
          "2018-06-01T15:00:00",
          "2017-08-29T12:00:00",
          "2018-05-04T11:00:00",
          "2018-01-09T20:00:00",
          "2017-09-24T03:00:00",
          "2018-01-09T20:00:00",
          "2017-12-06T22:00:00",
          "2017-12-06T20:00:00",
          "2017-12-04T21:00:00",
          "2017-11-18T10:00:00",
          "2017-09-24T03:00:00",
          "2017-08-29T12:00:00",
          "2017-08-22T04:00:00",
          "2017-08-19T02:00:00",
          "2017-11-18T10:00:00",
          "2018-04-26T17:00:00",
          "2018-06-01T15:00:00",
          "2017-12-06T20:00:00",
          "2018-05-04T11:00:00",
          "2017-12-04T21:00:00",
          "2017-12-06T22:00:00"
         ],
         "xaxis": "x",
         "y": [
          2998,
          2998,
          2998,
          2998,
          2998,
          2998,
          3298,
          3298,
          3298,
          3298,
          3298,
          3298,
          3298,
          3298,
          3298,
          2798,
          2498,
          2498,
          2498,
          2498,
          2498,
          2498
         ],
         "yaxis": "y"
        },
        {
         "hovertemplate": "Manufacturer-Id=QN55Q8FNBFXZA<br>Website=bestbuy<br>Date-Seen=%{x}<br>Price-Min=%{y}<extra></extra>",
         "legendgroup": "QN55Q8FNBFXZA",
         "marker": {
          "color": "#ab63fa",
          "line": {
           "color": "DarkSlateGrey",
           "width": 1
          },
          "size": 8,
          "symbol": "circle"
         },
         "mode": "markers",
         "name": "QN55Q8FNBFXZA",
         "orientation": "v",
         "showlegend": true,
         "type": "scatter",
         "x": [
          "2018-05-26T15:00:00",
          "2018-05-26T15:00:00"
         ],
         "xaxis": "x4",
         "y": [
          2199.99,
          1999.99
         ],
         "yaxis": "y4"
        },
        {
         "hovertemplate": "Manufacturer-Id=QN55Q8FNBFXZA<br>Website=walmart<br>Date-Seen=%{x}<br>Price-Min=%{y}<extra></extra>",
         "legendgroup": "QN55Q8FNBFXZA",
         "marker": {
          "color": "#ab63fa",
          "line": {
           "color": "DarkSlateGrey",
           "width": 1
          },
          "size": 8,
          "symbol": "circle"
         },
         "mode": "markers",
         "name": "QN55Q8FNBFXZA",
         "orientation": "v",
         "showlegend": false,
         "type": "scatter",
         "x": [
          "2018-04-26T17:00:00",
          "2018-05-27T16:00:00",
          "2018-05-24T11:00:00",
          "2018-05-28T10:00:00"
         ],
         "xaxis": "x3",
         "y": [
          2097.99,
          1997.99,
          1997.99,
          1997.99
         ],
         "yaxis": "y3"
        },
        {
         "hovertemplate": "Manufacturer-Id=QN55Q8FNBFXZA<br>Website=bhphotovideo<br>Date-Seen=%{x}<br>Price-Min=%{y}<extra></extra>",
         "legendgroup": "QN55Q8FNBFXZA",
         "marker": {
          "color": "#ab63fa",
          "line": {
           "color": "DarkSlateGrey",
           "width": 1
          },
          "size": 8,
          "symbol": "circle"
         },
         "mode": "markers",
         "name": "QN55Q8FNBFXZA",
         "orientation": "v",
         "showlegend": false,
         "type": "scatter",
         "x": [
          "2018-04-26T17:00:00",
          "2018-06-01T09:00:00",
          "2018-04-26T17:00:00",
          "2018-06-01T09:00:00"
         ],
         "xaxis": "x",
         "y": [
          2097.99,
          1997.99,
          2197.99,
          2197.99
         ],
         "yaxis": "y"
        },
        {
         "hovertemplate": "Manufacturer-Id=XBR55X900F<br>Website=bestbuy<br>Date-Seen=%{x}<br>Price-Min=%{y}<extra></extra>",
         "legendgroup": "XBR55X900F",
         "marker": {
          "color": "#FFA15A",
          "line": {
           "color": "DarkSlateGrey",
           "width": 1
          },
          "size": 8,
          "symbol": "circle"
         },
         "mode": "markers",
         "name": "XBR55X900F",
         "orientation": "v",
         "showlegend": true,
         "type": "scatter",
         "x": [
          "2018-05-25T21:00:00",
          "2018-05-26T15:00:00",
          "2018-05-25T21:00:00",
          "2018-05-26T15:00:00"
         ],
         "xaxis": "x4",
         "y": [
          1499.99,
          1499.99,
          1299.99,
          1299.99
         ],
         "yaxis": "y4"
        },
        {
         "hovertemplate": "Manufacturer-Id=XBR55X900F<br>Website=walmart<br>Date-Seen=%{x}<br>Price-Min=%{y}<extra></extra>",
         "legendgroup": "XBR55X900F",
         "marker": {
          "color": "#FFA15A",
          "line": {
           "color": "DarkSlateGrey",
           "width": 1
          },
          "size": 8,
          "symbol": "circle"
         },
         "mode": "markers",
         "name": "XBR55X900F",
         "orientation": "v",
         "showlegend": false,
         "type": "scatter",
         "x": [
          "2018-04-26T17:00:00",
          "2018-05-27T16:00:00"
         ],
         "xaxis": "x3",
         "y": [
          1498,
          1298
         ],
         "yaxis": "y3"
        },
        {
         "hovertemplate": "Manufacturer-Id=XBR55X900F<br>Website=bhphotovideo<br>Date-Seen=%{x}<br>Price-Min=%{y}<extra></extra>",
         "legendgroup": "XBR55X900F",
         "marker": {
          "color": "#FFA15A",
          "line": {
           "color": "DarkSlateGrey",
           "width": 1
          },
          "size": 8,
          "symbol": "circle"
         },
         "mode": "markers",
         "name": "XBR55X900F",
         "orientation": "v",
         "showlegend": false,
         "type": "scatter",
         "x": [
          "2018-04-26T17:00:00",
          "2018-07-25T18:00:00",
          "2018-03-31T19:00:00",
          "2018-06-01T09:00:00",
          "2018-06-01T09:00:00"
         ],
         "xaxis": "x",
         "y": [
          1498,
          1498,
          1498,
          1498,
          1298
         ],
         "yaxis": "y"
        },
        {
         "hovertemplate": "Manufacturer-Id=UN55MU6490FXZA<br>Website=bestbuy<br>Date-Seen=%{x}<br>Price-Min=%{y}<extra></extra>",
         "legendgroup": "UN55MU6490FXZA",
         "marker": {
          "color": "#19d3f3",
          "line": {
           "color": "DarkSlateGrey",
           "width": 1
          },
          "size": 8,
          "symbol": "circle"
         },
         "mode": "markers",
         "name": "UN55MU6490FXZA",
         "orientation": "v",
         "showlegend": true,
         "type": "scatter",
         "x": [
          "2018-05-26T07:00:00",
          "2018-05-26T07:00:00"
         ],
         "xaxis": "x4",
         "y": [
          549.99,
          799.99
         ],
         "yaxis": "y4"
        },
        {
         "hovertemplate": "Manufacturer-Id=UN55MU6490FXZA<br>Website=walmart<br>Date-Seen=%{x}<br>Price-Min=%{y}<extra></extra>",
         "legendgroup": "UN55MU6490FXZA",
         "marker": {
          "color": "#19d3f3",
          "line": {
           "color": "DarkSlateGrey",
           "width": 1
          },
          "size": 8,
          "symbol": "circle"
         },
         "mode": "markers",
         "name": "UN55MU6490FXZA",
         "orientation": "v",
         "showlegend": false,
         "type": "scatter",
         "x": [
          "2017-10-24T01:00:00",
          "2018-05-27T16:00:00",
          "2018-05-28T11:00:00",
          "2018-05-24T11:00:00",
          "2017-11-16T19:00:00",
          "2017-11-08T20:00:00",
          "2018-04-26T17:00:00",
          "2017-09-17T08:00:00",
          "2018-04-26T17:00:00",
          "2017-11-16T19:00:00",
          "2017-12-06T01:00:00"
         ],
         "xaxis": "x3",
         "y": [
          797.99,
          1097.99,
          1097.99,
          1097.99,
          799.99,
          799.99,
          1197.99,
          797.99,
          747.85,
          597.99,
          797.99
         ],
         "yaxis": "y3"
        },
        {
         "hovertemplate": "Manufacturer-Id=UN55MU6490FXZA<br>Website=bhphotovideo<br>Date-Seen=%{x}<br>Price-Min=%{y}<extra></extra>",
         "legendgroup": "UN55MU6490FXZA",
         "marker": {
          "color": "#19d3f3",
          "line": {
           "color": "DarkSlateGrey",
           "width": 1
          },
          "size": 8,
          "symbol": "circle"
         },
         "mode": "markers",
         "name": "UN55MU6490FXZA",
         "orientation": "v",
         "showlegend": false,
         "type": "scatter",
         "x": [
          "2017-11-18T13:00:00",
          "2017-12-06T20:00:00",
          "2017-08-29T12:00:00",
          "2017-08-19T05:00:00",
          "2017-12-04T21:00:00",
          "2017-08-22T10:00:00",
          "2018-01-09T20:00:00",
          "2017-10-24T08:00:00",
          "2018-05-06T17:00:00",
          "2017-12-06T22:00:00",
          "2018-03-31T19:00:00",
          "2017-12-06T22:00:00",
          "2017-12-06T20:00:00",
          "2017-12-04T21:00:00",
          "2017-11-18T13:00:00"
         ],
         "xaxis": "x",
         "y": [
          797.99,
          797.99,
          797.99,
          797.99,
          797.99,
          797.99,
          797.99,
          797.99,
          797.99,
          797.99,
          1197.99,
          597.99,
          597.99,
          597.99,
          597.99
         ],
         "yaxis": "y"
        },
        {
         "hovertemplate": "Manufacturer-Id=55UJ7700<br>Website=bestbuy<br>Date-Seen=%{x}<br>Price-Min=%{y}<extra></extra>",
         "legendgroup": "55UJ7700",
         "marker": {
          "color": "#FF6692",
          "line": {
           "color": "DarkSlateGrey",
           "width": 1
          },
          "size": 8,
          "symbol": "circle"
         },
         "mode": "markers",
         "name": "55UJ7700",
         "orientation": "v",
         "showlegend": true,
         "type": "scatter",
         "x": [
          "2018-05-26T16:00:00",
          "2018-05-26T16:00:00"
         ],
         "xaxis": "x4",
         "y": [
          799.99,
          751.99
         ],
         "yaxis": "y4"
        },
        {
         "hovertemplate": "Manufacturer-Id=55UJ7700<br>Website=walmart<br>Date-Seen=%{x}<br>Price-Min=%{y}<extra></extra>",
         "legendgroup": "55UJ7700",
         "marker": {
          "color": "#FF6692",
          "line": {
           "color": "DarkSlateGrey",
           "width": 1
          },
          "size": 8,
          "symbol": "circle"
         },
         "mode": "markers",
         "name": "55UJ7700",
         "orientation": "v",
         "showlegend": false,
         "type": "scatter",
         "x": [
          "2018-05-27T16:00:00",
          "2018-05-28T10:00:00",
          "2018-04-26T17:00:00",
          "2018-03-09T18:00:00",
          "2018-03-09T18:00:00",
          "2018-02-05T20:00:00"
         ],
         "xaxis": "x3",
         "y": [
          796.99,
          796.99,
          846.99,
          749,
          659.42,
          796.99
         ],
         "yaxis": "y3"
        },
        {
         "hovertemplate": "Manufacturer-Id=55UJ7700<br>Website=bhphotovideo<br>Date-Seen=%{x}<br>Price-Min=%{y}<extra></extra>",
         "legendgroup": "55UJ7700",
         "marker": {
          "color": "#FF6692",
          "line": {
           "color": "DarkSlateGrey",
           "width": 1
          },
          "size": 8,
          "symbol": "circle"
         },
         "mode": "markers",
         "name": "55UJ7700",
         "orientation": "v",
         "showlegend": false,
         "type": "scatter",
         "x": [
          "2018-04-26T17:00:00",
          "2018-05-06T17:00:00"
         ],
         "xaxis": "x",
         "y": [
          1296.99,
          1296.99
         ],
         "yaxis": "y"
        },
        {
         "hovertemplate": "Manufacturer-Id=QN55Q7CAMFXZA<br>Website=bestbuy<br>Date-Seen=%{x}<br>Price-Min=%{y}<extra></extra>",
         "legendgroup": "QN55Q7CAMFXZA",
         "marker": {
          "color": "#B6E880",
          "line": {
           "color": "DarkSlateGrey",
           "width": 1
          },
          "size": 8,
          "symbol": "circle"
         },
         "mode": "markers",
         "name": "QN55Q7CAMFXZA",
         "orientation": "v",
         "showlegend": true,
         "type": "scatter",
         "x": [
          "2017-08-01T03:00:00",
          "2017-07-26T15:00:00",
          "2017-08-01T03:00:00",
          "2017-07-26T15:00:00",
          "2018-05-26T07:00:00",
          "2018-05-26T07:00:00"
         ],
         "xaxis": "x4",
         "y": [
          2199.99,
          2199.99,
          1759.99,
          1759.99,
          1999.99,
          1299.99
         ],
         "yaxis": "y4"
        },
        {
         "hovertemplate": "Manufacturer-Id=QN55Q7CAMFXZA<br>Website=walmart<br>Date-Seen=%{x}<br>Price-Min=%{y}<extra></extra>",
         "legendgroup": "QN55Q7CAMFXZA",
         "marker": {
          "color": "#B6E880",
          "line": {
           "color": "DarkSlateGrey",
           "width": 1
          },
          "size": 8,
          "symbol": "circle"
         },
         "mode": "markers",
         "name": "QN55Q7CAMFXZA",
         "orientation": "v",
         "showlegend": false,
         "type": "scatter",
         "x": [
          "2017-10-28T18:00:00",
          "2018-03-09T18:00:00",
          "2017-09-18T18:00:00",
          "2017-08-15T21:00:00",
          "2017-07-28T07:00:00",
          "2017-07-22T23:00:00",
          "2017-12-06T01:00:00",
          "2017-11-16T22:00:00",
          "2017-11-08T20:00:00",
          "2017-09-08T03:00:00",
          "2017-10-28T17:00:00",
          "2017-10-24T22:00:00",
          "2017-11-16T23:00:00",
          "2017-11-08T20:00:00",
          "2017-10-28T18:00:00",
          "2017-10-24T22:00:00",
          "2018-05-27T16:00:00",
          "2018-05-24T11:00:00",
          "2018-05-28T10:00:00",
          "2018-04-26T17:00:00",
          "2017-11-16T22:00:00",
          "2018-03-09T18:00:00",
          "2017-11-08T20:00:00",
          "2017-12-07T06:00:00",
          "2017-09-17T08:00:00",
          "2018-05-27T16:00:00",
          "2018-05-24T11:00:00",
          "2017-08-15T15:00:00",
          "2017-07-18T06:00:00",
          "2017-07-21T16:00:00",
          "2017-07-21T14:00:00",
          "2017-07-12T15:00:00",
          "2017-07-16T20:00:00",
          "2017-07-10T18:00:00",
          "2017-07-08T20:00:00",
          "2017-07-14T14:00:00",
          "2017-12-08T10:00:00",
          "2017-12-06T01:00:00",
          "2017-11-16T19:00:00",
          "2017-11-08T20:00:00",
          "2017-10-28T17:00:00",
          "2017-10-24T22:00:00",
          "2017-12-07T06:00:00",
          "2018-04-26T17:00:00",
          "2018-05-24T11:00:00"
         ],
         "xaxis": "x3",
         "y": [
          2395.98,
          1497.99,
          2197.99,
          2197.99,
          2197.99,
          2197.99,
          1797.99,
          1797.99,
          1797.99,
          1897.99,
          1997.99,
          1997.99,
          2075.98,
          2075.98,
          1997.99,
          1997.99,
          1399.99,
          1399.99,
          1399.99,
          1797.99,
          1797.99,
          1797.99,
          1797.99,
          1797.99,
          2475.98,
          1978.01,
          1978.01,
          2197.99,
          2197.99,
          2197.99,
          2197.99,
          2197.99,
          2197.99,
          2197.99,
          2197.99,
          2197.99,
          1599,
          1599,
          1599,
          1599,
          1599,
          1599,
          2125.98,
          2797.99,
          2797.99
         ],
         "yaxis": "y3"
        },
        {
         "hovertemplate": "Manufacturer-Id=QN55Q7CAMFXZA<br>Website=ebay<br>Date-Seen=%{x}<br>Price-Min=%{y}<extra></extra>",
         "legendgroup": "QN55Q7CAMFXZA",
         "marker": {
          "color": "#B6E880",
          "line": {
           "color": "DarkSlateGrey",
           "width": 1
          },
          "size": 8,
          "symbol": "circle"
         },
         "mode": "markers",
         "name": "QN55Q7CAMFXZA",
         "orientation": "v",
         "showlegend": false,
         "type": "scatter",
         "x": [
          "2017-07-27T21:00:00",
          "2017-07-25T23:00:00",
          "2017-07-25T23:00:00",
          "2017-07-25T18:00:00",
          "2017-07-22T07:00:00",
          "2017-07-24T14:00:00",
          "2017-07-25T23:00:00",
          "2017-07-16T06:00:00",
          "2017-07-21T02:00:00",
          "2017-07-15T12:00:00",
          "2017-07-17T19:00:00",
          "2017-07-18T08:00:00",
          "2017-08-22T19:00:00",
          "2017-07-25T17:00:00",
          "2017-07-26T18:00:00",
          "2017-07-25T23:00:00",
          "2017-07-26T20:00:00",
          "2017-07-27T11:00:00",
          "2017-07-25T23:00:00",
          "2017-07-09T22:00:00"
         ],
         "xaxis": "x2",
         "y": [
          1898.95,
          2197.99,
          2197.99,
          1972.95,
          1997.95,
          1997.95,
          2197.99,
          1998.95,
          1998.95,
          1998.95,
          1998.95,
          1998.95,
          1755.95,
          1982.95,
          1982.95,
          1982.95,
          1900,
          1900,
          2197.99,
          2016.95
         ],
         "yaxis": "y2"
        },
        {
         "hovertemplate": "Manufacturer-Id=QN55Q7CAMFXZA<br>Website=bhphotovideo<br>Date-Seen=%{x}<br>Price-Min=%{y}<extra></extra>",
         "legendgroup": "QN55Q7CAMFXZA",
         "marker": {
          "color": "#B6E880",
          "line": {
           "color": "DarkSlateGrey",
           "width": 1
          },
          "size": 8,
          "symbol": "circle"
         },
         "mode": "markers",
         "name": "QN55Q7CAMFXZA",
         "orientation": "v",
         "showlegend": false,
         "type": "scatter",
         "x": [
          "2018-01-27T10:00:00",
          "2018-06-01T15:00:00",
          "2018-04-26T17:00:00",
          "2018-01-27T10:00:00",
          "2018-01-09T20:00:00",
          "2018-04-26T17:00:00",
          "2017-12-07T23:00:00",
          "2017-12-08T01:00:00",
          "2017-12-05T10:00:00",
          "2018-04-10T14:00:00",
          "2018-04-26T17:00:00",
          "2018-06-01T15:00:00",
          "2017-12-07T23:00:00",
          "2017-12-08T01:00:00",
          "2017-12-05T10:00:00",
          "2017-08-22T10:00:00",
          "2018-01-27T10:00:00",
          "2018-01-09T20:00:00",
          "2017-09-24T10:00:00",
          "2017-08-19T02:00:00",
          "2017-09-24T10:00:00",
          "2017-08-22T10:00:00",
          "2017-08-19T02:00:00"
         ],
         "xaxis": "x",
         "y": [
          1697.99,
          2797.99,
          1549.95,
          1549.95,
          1997.99,
          1797.99,
          1797.99,
          1797.99,
          1797.99,
          2997.99,
          2997.99,
          2997.99,
          2997.99,
          2997.99,
          2997.99,
          2997.99,
          2997.99,
          2997.99,
          2997.99,
          2997.99,
          2197.99,
          2197.99,
          2197.99
         ],
         "yaxis": "y"
        },
        {
         "hovertemplate": "Manufacturer-Id=55H8C<br>Website=bestbuy<br>Date-Seen=%{x}<br>Price-Min=%{y}<extra></extra>",
         "legendgroup": "55H8C",
         "marker": {
          "color": "#FF97FF",
          "line": {
           "color": "DarkSlateGrey",
           "width": 1
          },
          "size": 8,
          "symbol": "circle"
         },
         "mode": "markers",
         "name": "55H8C",
         "orientation": "v",
         "showlegend": true,
         "type": "scatter",
         "x": [
          "2017-07-31T22:00:00",
          "2017-08-01T07:00:00",
          "2017-07-26T20:00:00",
          "2017-06-01T19:00:00",
          "2017-05-31T17:00:00",
          "2017-05-09T07:00:00",
          "2017-05-01T20:00:00",
          "2017-05-18T05:00:00",
          "2017-03-30T05:00:00",
          "2017-03-10T19:00:00",
          "2017-03-04T10:00:00",
          "2018-05-25T21:00:00",
          "2018-05-26T16:00:00",
          "2018-05-25T21:00:00",
          "2018-05-26T16:00:00"
         ],
         "xaxis": "x4",
         "y": [
          549.99,
          549.99,
          549.99,
          549.99,
          549.99,
          549.99,
          549.99,
          549.99,
          549.99,
          549.99,
          549.99,
          449.99,
          449.99,
          427.99,
          427.99
         ],
         "yaxis": "y4"
        },
        {
         "hovertemplate": "Manufacturer-Id=55H8C<br>Website=walmart<br>Date-Seen=%{x}<br>Price-Min=%{y}<extra></extra>",
         "legendgroup": "55H8C",
         "marker": {
          "color": "#FF97FF",
          "line": {
           "color": "DarkSlateGrey",
           "width": 1
          },
          "size": 8,
          "symbol": "circle"
         },
         "mode": "markers",
         "name": "55H8C",
         "orientation": "v",
         "showlegend": false,
         "type": "scatter",
         "x": [
          "2017-07-21T16:00:00",
          "2018-04-26T17:00:00",
          "2018-03-09T18:00:00",
          "2017-10-28T17:00:00",
          "2017-10-24T22:00:00"
         ],
         "xaxis": "x3",
         "y": [
          768.98,
          449.99,
          429.99,
          549.99,
          724.7
         ],
         "yaxis": "y3"
        },
        {
         "hovertemplate": "Manufacturer-Id=55H8C<br>Website=ebay<br>Date-Seen=%{x}<br>Price-Min=%{y}<extra></extra>",
         "legendgroup": "55H8C",
         "marker": {
          "color": "#FF97FF",
          "line": {
           "color": "DarkSlateGrey",
           "width": 1
          },
          "size": 8,
          "symbol": "circle"
         },
         "mode": "markers",
         "name": "55H8C",
         "orientation": "v",
         "showlegend": false,
         "type": "scatter",
         "x": [
          "2017-07-25T18:00:00",
          "2017-07-25T18:00:00",
          "2017-07-11T12:00:00",
          "2017-07-11T22:00:00"
         ],
         "xaxis": "x2",
         "y": [
          723.6,
          619.96,
          619.96,
          619.96
         ],
         "yaxis": "y2"
        },
        {
         "hovertemplate": "Manufacturer-Id=XBR55X700D<br>Website=walmart<br>Date-Seen=%{x}<br>Price-Min=%{y}<extra></extra>",
         "legendgroup": "XBR55X700D",
         "marker": {
          "color": "#FECB52",
          "line": {
           "color": "DarkSlateGrey",
           "width": 1
          },
          "size": 8,
          "symbol": "circle"
         },
         "mode": "markers",
         "name": "XBR55X700D",
         "orientation": "v",
         "showlegend": true,
         "type": "scatter",
         "x": [
          "2017-08-14T14:00:00",
          "2017-07-10T18:00:00",
          "2017-07-08T20:00:00",
          "2017-07-18T06:00:00",
          "2017-07-21T16:00:00",
          "2017-07-21T14:00:00",
          "2017-07-12T15:00:00",
          "2017-07-14T14:00:00"
         ],
         "xaxis": "x3",
         "y": [
          798,
          798,
          798,
          848,
          848,
          848,
          848,
          848
         ],
         "yaxis": "y3"
        },
        {
         "hovertemplate": "Manufacturer-Id=XBR55X700D<br>Website=ebay<br>Date-Seen=%{x}<br>Price-Min=%{y}<extra></extra>",
         "legendgroup": "XBR55X700D",
         "marker": {
          "color": "#FECB52",
          "line": {
           "color": "DarkSlateGrey",
           "width": 1
          },
          "size": 8,
          "symbol": "circle"
         },
         "mode": "markers",
         "name": "XBR55X700D",
         "orientation": "v",
         "showlegend": false,
         "type": "scatter",
         "x": [
          "2017-07-24T21:00:00",
          "2017-07-25T21:00:00",
          "2017-07-23T08:00:00",
          "2017-07-25T17:00:00",
          "2017-07-24T19:00:00",
          "2017-07-26T23:00:00",
          "2017-07-27T11:00:00",
          "2017-07-09T22:00:00",
          "2017-07-18T14:00:00",
          "2017-07-25T18:00:00",
          "2017-07-25T18:00:00",
          "2017-07-17T06:00:00",
          "2017-07-14T12:00:00",
          "2017-07-18T00:00:00",
          "2017-07-17T21:00:00",
          "2017-07-18T14:00:00",
          "2017-07-15T14:00:00",
          "2017-07-17T10:00:00",
          "2017-09-28T04:00:00",
          "2017-07-26T15:00:00",
          "2017-07-27T19:00:00",
          "2017-07-25T18:00:00",
          "2017-07-25T17:00:00",
          "2017-07-26T20:00:00",
          "2017-07-25T18:00:00",
          "2017-07-21T15:00:00",
          "2017-07-22T04:00:00",
          "2017-07-24T17:00:00",
          "2017-07-15T23:00:00",
          "2017-07-15T12:00:00",
          "2017-07-18T11:00:00",
          "2017-07-17T19:00:00",
          "2017-07-14T10:00:00",
          "2017-07-17T01:00:00"
         ],
         "xaxis": "x2",
         "y": [
          798,
          798,
          629.99,
          629.99,
          629.99,
          629.99,
          629.99,
          629.99,
          629.99,
          629.99,
          600,
          699.95,
          848,
          848,
          450,
          450,
          746.24,
          550,
          789.99,
          789.99,
          789.99,
          789.99,
          798,
          798,
          798,
          798,
          798,
          798,
          798,
          798,
          798,
          798,
          798,
          798
         ],
         "yaxis": "y2"
        },
        {
         "hovertemplate": "Manufacturer-Id=XBR55X800E<br>Website=bestbuy<br>Date-Seen=%{x}<br>Price-Min=%{y}<extra></extra>",
         "legendgroup": "XBR55X800E",
         "marker": {
          "color": "#636efa",
          "line": {
           "color": "DarkSlateGrey",
           "width": 1
          },
          "size": 8,
          "symbol": "circle"
         },
         "mode": "markers",
         "name": "XBR55X800E",
         "orientation": "v",
         "showlegend": true,
         "type": "scatter",
         "x": [
          "2017-03-30T05:00:00",
          "2017-03-10T19:00:00",
          "2017-03-04T10:00:00",
          "2017-07-26T15:00:00",
          "2017-06-29T22:00:00",
          "2017-08-01T03:00:00",
          "2017-06-01T19:00:00",
          "2017-05-31T17:00:00",
          "2017-05-09T07:00:00",
          "2017-05-01T20:00:00",
          "2017-05-18T05:00:00",
          "2018-05-26T15:00:00",
          "2017-06-01T19:00:00",
          "2017-05-31T17:00:00",
          "2017-08-01T03:00:00",
          "2017-07-26T15:00:00",
          "2017-06-29T22:00:00"
         ],
         "xaxis": "x4",
         "y": [
          1899.99,
          1899.99,
          1899.99,
          909.99,
          909.99,
          919.99,
          1199.99,
          1199.99,
          1199.99,
          1199.99,
          1199.99,
          899.99,
          1091.99,
          1091.99,
          999.99,
          999.99,
          999.99
         ],
         "yaxis": "y4"
        },
        {
         "hovertemplate": "Manufacturer-Id=XBR55X800E<br>Website=walmart<br>Date-Seen=%{x}<br>Price-Min=%{y}<extra></extra>",
         "legendgroup": "XBR55X800E",
         "marker": {
          "color": "#636efa",
          "line": {
           "color": "DarkSlateGrey",
           "width": 1
          },
          "size": 8,
          "symbol": "circle"
         },
         "mode": "markers",
         "name": "XBR55X800E",
         "orientation": "v",
         "showlegend": false,
         "type": "scatter",
         "x": [
          "2017-12-06T01:00:00",
          "2018-01-10T14:00:00",
          "2017-07-21T16:00:00",
          "2017-11-16T19:00:00",
          "2017-10-28T17:00:00",
          "2017-10-24T22:00:00",
          "2018-03-09T18:00:00",
          "2018-04-26T17:00:00",
          "2018-05-27T16:00:00",
          "2018-03-15T19:00:00",
          "2017-10-24T01:00:00",
          "2018-05-28T11:00:00",
          "2018-05-24T11:00:00",
          "2018-03-09T18:00:00",
          "2017-11-16T22:00:00",
          "2018-01-10T07:00:00",
          "2017-07-21T16:00:00",
          "2017-09-15T00:00:00",
          "2017-11-16T19:00:00",
          "2017-10-24T01:00:00"
         ],
         "xaxis": "x3",
         "y": [
          1896,
          695.47,
          998,
          2196,
          2196,
          2196,
          838,
          898,
          898,
          898,
          898,
          898,
          898,
          798,
          798,
          2096,
          998,
          998,
          898,
          898
         ],
         "yaxis": "y3"
        },
        {
         "hovertemplate": "Manufacturer-Id=XBR55X800E<br>Website=ebay<br>Date-Seen=%{x}<br>Price-Min=%{y}<extra></extra>",
         "legendgroup": "XBR55X800E",
         "marker": {
          "color": "#636efa",
          "line": {
           "color": "DarkSlateGrey",
           "width": 1
          },
          "size": 8,
          "symbol": "circle"
         },
         "mode": "markers",
         "name": "XBR55X800E",
         "orientation": "v",
         "showlegend": false,
         "type": "scatter",
         "x": [
          "2017-08-28T12:00:00",
          "2017-07-25T21:00:00",
          "2017-07-15T16:00:00",
          "2017-07-09T03:00:00",
          "2017-07-08T07:00:00",
          "2017-06-29T17:00:00",
          "2017-06-29T03:00:00",
          "2017-06-28T04:00:00",
          "2017-07-25T21:00:00",
          "2017-07-25T18:00:00",
          "2017-06-24T22:00:00",
          "2017-06-24T07:00:00",
          "2017-06-20T09:00:00",
          "2017-06-23T12:00:00",
          "2017-06-17T23:00:00",
          "2017-06-28T04:00:00",
          "2017-06-15T17:00:00",
          "2017-07-09T03:00:00",
          "2017-06-07T18:00:00",
          "2017-09-28T04:00:00",
          "2017-07-25T21:00:00",
          "2017-07-23T11:00:00",
          "2017-07-24T21:00:00",
          "2017-07-15T00:00:00",
          "2017-07-15T16:00:00",
          "2017-07-09T03:00:00",
          "2017-07-18T00:00:00",
          "2017-07-11T07:00:00",
          "2017-07-23T08:00:00",
          "2017-07-26T18:00:00",
          "2017-07-25T18:00:00",
          "2017-07-09T22:00:00",
          "2017-07-16T01:00:00",
          "2017-07-18T11:00:00",
          "2017-07-08T22:00:00",
          "2017-06-29T13:00:00",
          "2017-06-27T11:00:00",
          "2017-06-27T20:00:00",
          "2017-06-27T00:00:00"
         ],
         "xaxis": "x2",
         "y": [
          898,
          998,
          998,
          998,
          998,
          998,
          998,
          998,
          998,
          998,
          1098,
          1098,
          1098,
          1098,
          1098,
          998,
          1098,
          1295.2,
          1198,
          1099,
          998,
          998,
          998,
          998,
          998,
          998,
          998,
          998,
          998,
          998,
          998,
          998,
          998,
          998,
          998,
          998,
          998,
          998,
          998
         ],
         "yaxis": "y2"
        },
        {
         "hovertemplate": "Manufacturer-Id=XBR55X800E<br>Website=bhphotovideo<br>Date-Seen=%{x}<br>Price-Min=%{y}<extra></extra>",
         "legendgroup": "XBR55X800E",
         "marker": {
          "color": "#636efa",
          "line": {
           "color": "DarkSlateGrey",
           "width": 1
          },
          "size": 8,
          "symbol": "circle"
         },
         "mode": "markers",
         "name": "XBR55X800E",
         "orientation": "v",
         "showlegend": false,
         "type": "scatter",
         "x": [
          "2018-04-26T17:00:00",
          "2017-08-29T12:00:00",
          "2017-08-19T05:00:00",
          "2018-05-04T11:00:00",
          "2017-09-24T03:00:00",
          "2018-04-26T17:00:00",
          "2017-12-06T20:00:00",
          "2017-08-29T12:00:00",
          "2017-08-19T05:00:00",
          "2018-05-04T11:00:00",
          "2017-12-04T21:00:00",
          "2017-08-22T10:00:00",
          "2018-01-09T20:00:00",
          "2017-12-06T22:00:00",
          "2017-09-24T03:00:00",
          "2017-11-18T10:00:00",
          "2017-08-22T10:00:00",
          "2018-01-09T20:00:00",
          "2017-12-06T22:00:00",
          "2017-12-06T20:00:00",
          "2017-12-04T21:00:00",
          "2017-11-18T10:00:00"
         ],
         "xaxis": "x",
         "y": [
          898,
          898,
          898,
          898,
          898,
          1198,
          1198,
          1198,
          1198,
          1198,
          1198,
          1198,
          1198,
          1198,
          1198,
          1198,
          998,
          798,
          798,
          798,
          798,
          798
         ],
         "yaxis": "y"
        }
       ],
       "layout": {
        "annotations": [
         {
          "font": {},
          "showarrow": false,
          "text": "bhphotovideo",
          "textangle": 90,
          "x": 0.98,
          "xanchor": "left",
          "xref": "paper",
          "y": 0.11375,
          "yanchor": "middle",
          "yref": "paper"
         },
         {
          "font": {},
          "showarrow": false,
          "text": "ebay",
          "textangle": 90,
          "x": 0.98,
          "xanchor": "left",
          "xref": "paper",
          "y": 0.37124999999999997,
          "yanchor": "middle",
          "yref": "paper"
         },
         {
          "font": {},
          "showarrow": false,
          "text": "walmart",
          "textangle": 90,
          "x": 0.98,
          "xanchor": "left",
          "xref": "paper",
          "y": 0.62875,
          "yanchor": "middle",
          "yref": "paper"
         },
         {
          "font": {},
          "showarrow": false,
          "text": "bestbuy",
          "textangle": 90,
          "x": 0.98,
          "xanchor": "left",
          "xref": "paper",
          "y": 0.88625,
          "yanchor": "middle",
          "yref": "paper"
         }
        ],
        "height": 800,
        "legend": {
         "title": {
          "text": "Manufacturer-Id"
         },
         "tracegroupgap": 0
        },
        "margin": {
         "t": 60
        },
        "showlegend": false,
        "template": {
         "data": {
          "bar": [
           {
            "error_x": {
             "color": "#2a3f5f"
            },
            "error_y": {
             "color": "#2a3f5f"
            },
            "marker": {
             "line": {
              "color": "#E5ECF6",
              "width": 0.5
             }
            },
            "type": "bar"
           }
          ],
          "barpolar": [
           {
            "marker": {
             "line": {
              "color": "#E5ECF6",
              "width": 0.5
             }
            },
            "type": "barpolar"
           }
          ],
          "carpet": [
           {
            "aaxis": {
             "endlinecolor": "#2a3f5f",
             "gridcolor": "white",
             "linecolor": "white",
             "minorgridcolor": "white",
             "startlinecolor": "#2a3f5f"
            },
            "baxis": {
             "endlinecolor": "#2a3f5f",
             "gridcolor": "white",
             "linecolor": "white",
             "minorgridcolor": "white",
             "startlinecolor": "#2a3f5f"
            },
            "type": "carpet"
           }
          ],
          "choropleth": [
           {
            "colorbar": {
             "outlinewidth": 0,
             "ticks": ""
            },
            "type": "choropleth"
           }
          ],
          "contour": [
           {
            "colorbar": {
             "outlinewidth": 0,
             "ticks": ""
            },
            "colorscale": [
             [
              0,
              "#0d0887"
             ],
             [
              0.1111111111111111,
              "#46039f"
             ],
             [
              0.2222222222222222,
              "#7201a8"
             ],
             [
              0.3333333333333333,
              "#9c179e"
             ],
             [
              0.4444444444444444,
              "#bd3786"
             ],
             [
              0.5555555555555556,
              "#d8576b"
             ],
             [
              0.6666666666666666,
              "#ed7953"
             ],
             [
              0.7777777777777778,
              "#fb9f3a"
             ],
             [
              0.8888888888888888,
              "#fdca26"
             ],
             [
              1,
              "#f0f921"
             ]
            ],
            "type": "contour"
           }
          ],
          "contourcarpet": [
           {
            "colorbar": {
             "outlinewidth": 0,
             "ticks": ""
            },
            "type": "contourcarpet"
           }
          ],
          "heatmap": [
           {
            "colorbar": {
             "outlinewidth": 0,
             "ticks": ""
            },
            "colorscale": [
             [
              0,
              "#0d0887"
             ],
             [
              0.1111111111111111,
              "#46039f"
             ],
             [
              0.2222222222222222,
              "#7201a8"
             ],
             [
              0.3333333333333333,
              "#9c179e"
             ],
             [
              0.4444444444444444,
              "#bd3786"
             ],
             [
              0.5555555555555556,
              "#d8576b"
             ],
             [
              0.6666666666666666,
              "#ed7953"
             ],
             [
              0.7777777777777778,
              "#fb9f3a"
             ],
             [
              0.8888888888888888,
              "#fdca26"
             ],
             [
              1,
              "#f0f921"
             ]
            ],
            "type": "heatmap"
           }
          ],
          "heatmapgl": [
           {
            "colorbar": {
             "outlinewidth": 0,
             "ticks": ""
            },
            "colorscale": [
             [
              0,
              "#0d0887"
             ],
             [
              0.1111111111111111,
              "#46039f"
             ],
             [
              0.2222222222222222,
              "#7201a8"
             ],
             [
              0.3333333333333333,
              "#9c179e"
             ],
             [
              0.4444444444444444,
              "#bd3786"
             ],
             [
              0.5555555555555556,
              "#d8576b"
             ],
             [
              0.6666666666666666,
              "#ed7953"
             ],
             [
              0.7777777777777778,
              "#fb9f3a"
             ],
             [
              0.8888888888888888,
              "#fdca26"
             ],
             [
              1,
              "#f0f921"
             ]
            ],
            "type": "heatmapgl"
           }
          ],
          "histogram": [
           {
            "marker": {
             "colorbar": {
              "outlinewidth": 0,
              "ticks": ""
             }
            },
            "type": "histogram"
           }
          ],
          "histogram2d": [
           {
            "colorbar": {
             "outlinewidth": 0,
             "ticks": ""
            },
            "colorscale": [
             [
              0,
              "#0d0887"
             ],
             [
              0.1111111111111111,
              "#46039f"
             ],
             [
              0.2222222222222222,
              "#7201a8"
             ],
             [
              0.3333333333333333,
              "#9c179e"
             ],
             [
              0.4444444444444444,
              "#bd3786"
             ],
             [
              0.5555555555555556,
              "#d8576b"
             ],
             [
              0.6666666666666666,
              "#ed7953"
             ],
             [
              0.7777777777777778,
              "#fb9f3a"
             ],
             [
              0.8888888888888888,
              "#fdca26"
             ],
             [
              1,
              "#f0f921"
             ]
            ],
            "type": "histogram2d"
           }
          ],
          "histogram2dcontour": [
           {
            "colorbar": {
             "outlinewidth": 0,
             "ticks": ""
            },
            "colorscale": [
             [
              0,
              "#0d0887"
             ],
             [
              0.1111111111111111,
              "#46039f"
             ],
             [
              0.2222222222222222,
              "#7201a8"
             ],
             [
              0.3333333333333333,
              "#9c179e"
             ],
             [
              0.4444444444444444,
              "#bd3786"
             ],
             [
              0.5555555555555556,
              "#d8576b"
             ],
             [
              0.6666666666666666,
              "#ed7953"
             ],
             [
              0.7777777777777778,
              "#fb9f3a"
             ],
             [
              0.8888888888888888,
              "#fdca26"
             ],
             [
              1,
              "#f0f921"
             ]
            ],
            "type": "histogram2dcontour"
           }
          ],
          "mesh3d": [
           {
            "colorbar": {
             "outlinewidth": 0,
             "ticks": ""
            },
            "type": "mesh3d"
           }
          ],
          "parcoords": [
           {
            "line": {
             "colorbar": {
              "outlinewidth": 0,
              "ticks": ""
             }
            },
            "type": "parcoords"
           }
          ],
          "pie": [
           {
            "automargin": true,
            "type": "pie"
           }
          ],
          "scatter": [
           {
            "marker": {
             "colorbar": {
              "outlinewidth": 0,
              "ticks": ""
             }
            },
            "type": "scatter"
           }
          ],
          "scatter3d": [
           {
            "line": {
             "colorbar": {
              "outlinewidth": 0,
              "ticks": ""
             }
            },
            "marker": {
             "colorbar": {
              "outlinewidth": 0,
              "ticks": ""
             }
            },
            "type": "scatter3d"
           }
          ],
          "scattercarpet": [
           {
            "marker": {
             "colorbar": {
              "outlinewidth": 0,
              "ticks": ""
             }
            },
            "type": "scattercarpet"
           }
          ],
          "scattergeo": [
           {
            "marker": {
             "colorbar": {
              "outlinewidth": 0,
              "ticks": ""
             }
            },
            "type": "scattergeo"
           }
          ],
          "scattergl": [
           {
            "marker": {
             "colorbar": {
              "outlinewidth": 0,
              "ticks": ""
             }
            },
            "type": "scattergl"
           }
          ],
          "scattermapbox": [
           {
            "marker": {
             "colorbar": {
              "outlinewidth": 0,
              "ticks": ""
             }
            },
            "type": "scattermapbox"
           }
          ],
          "scatterpolar": [
           {
            "marker": {
             "colorbar": {
              "outlinewidth": 0,
              "ticks": ""
             }
            },
            "type": "scatterpolar"
           }
          ],
          "scatterpolargl": [
           {
            "marker": {
             "colorbar": {
              "outlinewidth": 0,
              "ticks": ""
             }
            },
            "type": "scatterpolargl"
           }
          ],
          "scatterternary": [
           {
            "marker": {
             "colorbar": {
              "outlinewidth": 0,
              "ticks": ""
             }
            },
            "type": "scatterternary"
           }
          ],
          "surface": [
           {
            "colorbar": {
             "outlinewidth": 0,
             "ticks": ""
            },
            "colorscale": [
             [
              0,
              "#0d0887"
             ],
             [
              0.1111111111111111,
              "#46039f"
             ],
             [
              0.2222222222222222,
              "#7201a8"
             ],
             [
              0.3333333333333333,
              "#9c179e"
             ],
             [
              0.4444444444444444,
              "#bd3786"
             ],
             [
              0.5555555555555556,
              "#d8576b"
             ],
             [
              0.6666666666666666,
              "#ed7953"
             ],
             [
              0.7777777777777778,
              "#fb9f3a"
             ],
             [
              0.8888888888888888,
              "#fdca26"
             ],
             [
              1,
              "#f0f921"
             ]
            ],
            "type": "surface"
           }
          ],
          "table": [
           {
            "cells": {
             "fill": {
              "color": "#EBF0F8"
             },
             "line": {
              "color": "white"
             }
            },
            "header": {
             "fill": {
              "color": "#C8D4E3"
             },
             "line": {
              "color": "white"
             }
            },
            "type": "table"
           }
          ]
         },
         "layout": {
          "annotationdefaults": {
           "arrowcolor": "#2a3f5f",
           "arrowhead": 0,
           "arrowwidth": 1
          },
          "coloraxis": {
           "colorbar": {
            "outlinewidth": 0,
            "ticks": ""
           }
          },
          "colorscale": {
           "diverging": [
            [
             0,
             "#8e0152"
            ],
            [
             0.1,
             "#c51b7d"
            ],
            [
             0.2,
             "#de77ae"
            ],
            [
             0.3,
             "#f1b6da"
            ],
            [
             0.4,
             "#fde0ef"
            ],
            [
             0.5,
             "#f7f7f7"
            ],
            [
             0.6,
             "#e6f5d0"
            ],
            [
             0.7,
             "#b8e186"
            ],
            [
             0.8,
             "#7fbc41"
            ],
            [
             0.9,
             "#4d9221"
            ],
            [
             1,
             "#276419"
            ]
           ],
           "sequential": [
            [
             0,
             "#0d0887"
            ],
            [
             0.1111111111111111,
             "#46039f"
            ],
            [
             0.2222222222222222,
             "#7201a8"
            ],
            [
             0.3333333333333333,
             "#9c179e"
            ],
            [
             0.4444444444444444,
             "#bd3786"
            ],
            [
             0.5555555555555556,
             "#d8576b"
            ],
            [
             0.6666666666666666,
             "#ed7953"
            ],
            [
             0.7777777777777778,
             "#fb9f3a"
            ],
            [
             0.8888888888888888,
             "#fdca26"
            ],
            [
             1,
             "#f0f921"
            ]
           ],
           "sequentialminus": [
            [
             0,
             "#0d0887"
            ],
            [
             0.1111111111111111,
             "#46039f"
            ],
            [
             0.2222222222222222,
             "#7201a8"
            ],
            [
             0.3333333333333333,
             "#9c179e"
            ],
            [
             0.4444444444444444,
             "#bd3786"
            ],
            [
             0.5555555555555556,
             "#d8576b"
            ],
            [
             0.6666666666666666,
             "#ed7953"
            ],
            [
             0.7777777777777778,
             "#fb9f3a"
            ],
            [
             0.8888888888888888,
             "#fdca26"
            ],
            [
             1,
             "#f0f921"
            ]
           ]
          },
          "colorway": [
           "#636efa",
           "#EF553B",
           "#00cc96",
           "#ab63fa",
           "#FFA15A",
           "#19d3f3",
           "#FF6692",
           "#B6E880",
           "#FF97FF",
           "#FECB52"
          ],
          "font": {
           "color": "#2a3f5f"
          },
          "geo": {
           "bgcolor": "white",
           "lakecolor": "white",
           "landcolor": "#E5ECF6",
           "showlakes": true,
           "showland": true,
           "subunitcolor": "white"
          },
          "hoverlabel": {
           "align": "left"
          },
          "hovermode": "closest",
          "mapbox": {
           "style": "light"
          },
          "paper_bgcolor": "white",
          "plot_bgcolor": "#E5ECF6",
          "polar": {
           "angularaxis": {
            "gridcolor": "white",
            "linecolor": "white",
            "ticks": ""
           },
           "bgcolor": "#E5ECF6",
           "radialaxis": {
            "gridcolor": "white",
            "linecolor": "white",
            "ticks": ""
           }
          },
          "scene": {
           "xaxis": {
            "backgroundcolor": "#E5ECF6",
            "gridcolor": "white",
            "gridwidth": 2,
            "linecolor": "white",
            "showbackground": true,
            "ticks": "",
            "zerolinecolor": "white"
           },
           "yaxis": {
            "backgroundcolor": "#E5ECF6",
            "gridcolor": "white",
            "gridwidth": 2,
            "linecolor": "white",
            "showbackground": true,
            "ticks": "",
            "zerolinecolor": "white"
           },
           "zaxis": {
            "backgroundcolor": "#E5ECF6",
            "gridcolor": "white",
            "gridwidth": 2,
            "linecolor": "white",
            "showbackground": true,
            "ticks": "",
            "zerolinecolor": "white"
           }
          },
          "shapedefaults": {
           "line": {
            "color": "#2a3f5f"
           }
          },
          "ternary": {
           "aaxis": {
            "gridcolor": "white",
            "linecolor": "white",
            "ticks": ""
           },
           "baxis": {
            "gridcolor": "white",
            "linecolor": "white",
            "ticks": ""
           },
           "bgcolor": "#E5ECF6",
           "caxis": {
            "gridcolor": "white",
            "linecolor": "white",
            "ticks": ""
           }
          },
          "title": {
           "x": 0.05
          },
          "xaxis": {
           "automargin": true,
           "gridcolor": "white",
           "linecolor": "white",
           "ticks": "",
           "title": {
            "standoff": 15
           },
           "zerolinecolor": "white",
           "zerolinewidth": 2
          },
          "yaxis": {
           "automargin": true,
           "gridcolor": "white",
           "linecolor": "white",
           "ticks": "",
           "title": {
            "standoff": 15
           },
           "zerolinecolor": "white",
           "zerolinewidth": 2
          }
         }
        },
        "xaxis": {
         "anchor": "y",
         "domain": [
          0,
          0.98
         ],
         "title": {
          "text": ""
         }
        },
        "xaxis2": {
         "anchor": "y2",
         "domain": [
          0,
          0.98
         ],
         "matches": "x",
         "showticklabels": false,
         "title": {
          "text": ""
         }
        },
        "xaxis3": {
         "anchor": "y3",
         "domain": [
          0,
          0.98
         ],
         "matches": "x",
         "showticklabels": false,
         "title": {
          "text": ""
         }
        },
        "xaxis4": {
         "anchor": "y4",
         "domain": [
          0,
          0.98
         ],
         "matches": "x",
         "showticklabels": false,
         "title": {
          "text": ""
         }
        },
        "yaxis": {
         "anchor": "x",
         "domain": [
          0,
          0.2275
         ],
         "tickprefix": "$",
         "title": {
          "text": ""
         }
        },
        "yaxis2": {
         "anchor": "x2",
         "domain": [
          0.2575,
          0.485
         ],
         "matches": "y",
         "tickprefix": "$",
         "title": {
          "text": ""
         }
        },
        "yaxis3": {
         "anchor": "x3",
         "domain": [
          0.515,
          0.7425
         ],
         "matches": "y",
         "tickprefix": "$",
         "title": {
          "text": ""
         }
        },
        "yaxis4": {
         "anchor": "x4",
         "domain": [
          0.7725,
          1
         ],
         "matches": "y",
         "tickprefix": "$",
         "title": {
          "text": ""
         }
        }
       }
      },
      "text/html": [
       "<div>\n",
       "        \n",
       "        \n",
       "            <div id=\"267b13b6-f824-4ff1-bb09-59212368906f\" class=\"plotly-graph-div\" style=\"height:800px; width:100%;\"></div>\n",
       "            <script type=\"text/javascript\">\n",
       "                require([\"plotly\"], function(Plotly) {\n",
       "                    window.PLOTLYENV=window.PLOTLYENV || {};\n",
       "                    \n",
       "                if (document.getElementById(\"267b13b6-f824-4ff1-bb09-59212368906f\")) {\n",
       "                    Plotly.newPlot(\n",
       "                        '267b13b6-f824-4ff1-bb09-59212368906f',\n",
       "                        [{\"hovertemplate\": \"Manufacturer-Id=55H9D PLUS<br>Website=bestbuy<br>Date-Seen=%{x}<br>Price-Min=%{y}<extra></extra>\", \"legendgroup\": \"55H9D PLUS\", \"marker\": {\"color\": \"#636efa\", \"line\": {\"color\": \"DarkSlateGrey\", \"width\": 1}, \"size\": 8, \"symbol\": \"circle\"}, \"mode\": \"markers\", \"name\": \"55H9D PLUS\", \"orientation\": \"v\", \"showlegend\": true, \"type\": \"scatter\", \"x\": [\"2018-05-26T15:00:00\", \"2018-05-02T14:00:00\", \"2018-05-26T15:00:00\", \"2018-05-02T14:00:00\"], \"xaxis\": \"x4\", \"y\": [799.99, 799.99, 599.99, 699.99], \"yaxis\": \"y4\"}, {\"hovertemplate\": \"Manufacturer-Id=55H9D PLUS<br>Website=walmart<br>Date-Seen=%{x}<br>Price-Min=%{y}<extra></extra>\", \"legendgroup\": \"55H9D PLUS\", \"marker\": {\"color\": \"#636efa\", \"line\": {\"color\": \"DarkSlateGrey\", \"width\": 1}, \"size\": 8, \"symbol\": \"circle\"}, \"mode\": \"markers\", \"name\": \"55H9D PLUS\", \"orientation\": \"v\", \"showlegend\": false, \"type\": \"scatter\", \"x\": [\"2018-04-26T17:00:00\", \"2018-03-09T18:00:00\"], \"xaxis\": \"x3\", \"y\": [599.99, 699.99], \"yaxis\": \"y3\"}, {\"hovertemplate\": \"Manufacturer-Id=UN55KU7000FXZA<br>Website=bestbuy<br>Date-Seen=%{x}<br>Price-Min=%{y}<extra></extra>\", \"legendgroup\": \"UN55KU7000FXZA\", \"marker\": {\"color\": \"#EF553B\", \"line\": {\"color\": \"DarkSlateGrey\", \"width\": 1}, \"size\": 8, \"symbol\": \"circle\"}, \"mode\": \"markers\", \"name\": \"UN55KU7000FXZA\", \"orientation\": \"v\", \"showlegend\": true, \"type\": \"scatter\", \"x\": [\"2017-03-30T05:00:00\", \"2017-03-10T19:00:00\", \"2017-03-30T05:00:00\", \"2017-03-10T19:00:00\", \"2017-03-04T10:00:00\", \"2017-03-04T10:00:00\"], \"xaxis\": \"x4\", \"y\": [999.99, 999.99, 809.99, 909.99, 1199.99, 1.0], \"yaxis\": \"y4\"}, {\"hovertemplate\": \"Manufacturer-Id=UN55KU7000FXZA<br>Website=walmart<br>Date-Seen=%{x}<br>Price-Min=%{y}<extra></extra>\", \"legendgroup\": \"UN55KU7000FXZA\", \"marker\": {\"color\": \"#EF553B\", \"line\": {\"color\": \"DarkSlateGrey\", \"width\": 1}, \"size\": 8, \"symbol\": \"circle\"}, \"mode\": \"markers\", \"name\": \"UN55KU7000FXZA\", \"orientation\": \"v\", \"showlegend\": false, \"type\": \"scatter\", \"x\": [\"2017-12-06T01:00:00\", \"2017-11-08T20:00:00\", \"2017-10-24T01:00:00\", \"2017-08-14T14:00:00\"], \"xaxis\": \"x3\", \"y\": [1197.99, 1197.99, 1197.99, 1197.99], \"yaxis\": \"y3\"}, {\"hovertemplate\": \"Manufacturer-Id=UN55KU7000FXZA<br>Website=ebay<br>Date-Seen=%{x}<br>Price-Min=%{y}<extra></extra>\", \"legendgroup\": \"UN55KU7000FXZA\", \"marker\": {\"color\": \"#EF553B\", \"line\": {\"color\": \"DarkSlateGrey\", \"width\": 1}, \"size\": 8, \"symbol\": \"circle\"}, \"mode\": \"markers\", \"name\": \"UN55KU7000FXZA\", \"orientation\": \"v\", \"showlegend\": false, \"type\": \"scatter\", \"x\": [\"2017-07-26T01:00:00\", \"2017-07-25T23:00:00\", \"2017-07-23T11:00:00\", \"2017-07-24T21:00:00\", \"2017-07-25T18:00:00\", \"2017-07-10T04:00:00\", \"2017-07-14T12:00:00\", \"2017-07-11T07:00:00\", \"2017-07-11T22:00:00\"], \"xaxis\": \"x2\", \"y\": [1197.99, 1197.99, 489.99, 489.99, 489.99, 499.99, 499.99, 499.99, 499.99], \"yaxis\": \"y2\"}, {\"hovertemplate\": \"Manufacturer-Id=XBR55A1E<br>Website=bestbuy<br>Date-Seen=%{x}<br>Price-Min=%{y}<extra></extra>\", \"legendgroup\": \"XBR55A1E\", \"marker\": {\"color\": \"#00cc96\", \"line\": {\"color\": \"DarkSlateGrey\", \"width\": 1}, \"size\": 8, \"symbol\": \"circle\"}, \"mode\": \"markers\", \"name\": \"XBR55A1E\", \"orientation\": \"v\", \"showlegend\": true, \"type\": \"scatter\", \"x\": [\"2018-05-26T07:00:00\", \"2018-05-26T07:00:00\", \"2017-03-30T02:00:00\", \"2017-08-01T03:00:00\", \"2017-07-26T15:00:00\", \"2017-07-11T05:00:00\", \"2017-08-01T03:00:00\", \"2017-07-26T15:00:00\", \"2017-05-31T19:00:00\", \"2017-05-31T16:00:00\", \"2017-05-09T03:00:00\", \"2017-05-01T06:00:00\", \"2017-05-18T02:00:00\", \"2017-04-04T04:00:00\"], \"xaxis\": \"x4\", \"y\": [2799.99, 2499.99, 4999.99, 3219.99, 3219.99, 3219.99, 3499.99, 3499.99, 3999.99, 3999.99, 3999.99, 3999.99, 3999.99, 3999.99], \"yaxis\": \"y4\"}, {\"hovertemplate\": \"Manufacturer-Id=XBR55A1E<br>Website=walmart<br>Date-Seen=%{x}<br>Price-Min=%{y}<extra></extra>\", \"legendgroup\": \"XBR55A1E\", \"marker\": {\"color\": \"#00cc96\", \"line\": {\"color\": \"DarkSlateGrey\", \"width\": 1}, \"size\": 8, \"symbol\": \"circle\"}, \"mode\": \"markers\", \"name\": \"XBR55A1E\", \"orientation\": \"v\", \"showlegend\": false, \"type\": \"scatter\", \"x\": [\"2017-12-07T06:00:00\", \"2018-01-10T07:00:00\", \"2017-11-08T20:00:00\", \"2018-03-09T18:00:00\", \"2017-10-28T17:00:00\", \"2017-10-24T22:00:00\", \"2017-11-08T20:00:00\", \"2017-10-30T14:00:00\", \"2017-10-28T18:00:00\", \"2017-10-24T22:00:00\", \"2017-08-15T21:00:00\", \"2017-12-04T20:00:00\", \"2017-07-23T00:00:00\", \"2018-04-26T17:00:00\", \"2018-05-27T16:00:00\", \"2018-05-24T11:00:00\", \"2018-05-28T10:00:00\"], \"xaxis\": \"x3\", \"y\": [3596.0, 4296.0, 2798.0, 2798.0, 2798.0, 2798.0, 4096.0, 4096.0, 4096.0, 4096.0, 3298.0, 2498.0, 3498.0, 2498.0, 2498.0, 2498.0, 2498.0], \"yaxis\": \"y3\"}, {\"hovertemplate\": \"Manufacturer-Id=XBR55A1E<br>Website=ebay<br>Date-Seen=%{x}<br>Price-Min=%{y}<extra></extra>\", \"legendgroup\": \"XBR55A1E\", \"marker\": {\"color\": \"#00cc96\", \"line\": {\"color\": \"DarkSlateGrey\", \"width\": 1}, \"size\": 8, \"symbol\": \"circle\"}, \"mode\": \"markers\", \"name\": \"XBR55A1E\", \"orientation\": \"v\", \"showlegend\": false, \"type\": \"scatter\", \"x\": [\"2017-07-27T19:00:00\", \"2017-07-11T22:00:00\", \"2017-06-28T23:00:00\", \"2017-06-27T11:00:00\", \"2017-06-26T22:00:00\", \"2017-06-29T17:00:00\", \"2017-06-25T15:00:00\", \"2017-06-24T03:00:00\", \"2017-06-28T04:00:00\", \"2017-06-24T20:00:00\", \"2017-07-26T15:00:00\", \"2017-07-25T18:00:00\", \"2017-07-23T02:00:00\", \"2017-07-24T14:00:00\", \"2017-06-19T04:00:00\", \"2017-08-22T19:00:00\", \"2017-07-27T21:00:00\", \"2017-07-25T18:00:00\", \"2017-09-28T04:00:00\"], \"xaxis\": \"x2\", \"y\": [3050.0, 2999.99, 2999.99, 2999.99, 2999.99, 2999.99, 2999.99, 2999.99, 2999.99, 2999.99, 3040.0, 3040.0, 3099.52, 3099.52, 3099.52, 3099.18, 3050.0, 3050.0, 2998.0], \"yaxis\": \"y2\"}, {\"hovertemplate\": \"Manufacturer-Id=XBR55A1E<br>Website=bhphotovideo<br>Date-Seen=%{x}<br>Price-Min=%{y}<extra></extra>\", \"legendgroup\": \"XBR55A1E\", \"marker\": {\"color\": \"#00cc96\", \"line\": {\"color\": \"DarkSlateGrey\", \"width\": 1}, \"size\": 8, \"symbol\": \"circle\"}, \"mode\": \"markers\", \"name\": \"XBR55A1E\", \"orientation\": \"v\", \"showlegend\": false, \"type\": \"scatter\", \"x\": [\"2018-04-26T17:00:00\", \"2018-06-01T15:00:00\", \"2017-08-29T12:00:00\", \"2018-05-04T11:00:00\", \"2018-01-09T20:00:00\", \"2017-09-24T03:00:00\", \"2018-01-09T20:00:00\", \"2017-12-06T22:00:00\", \"2017-12-06T20:00:00\", \"2017-12-04T21:00:00\", \"2017-11-18T10:00:00\", \"2017-09-24T03:00:00\", \"2017-08-29T12:00:00\", \"2017-08-22T04:00:00\", \"2017-08-19T02:00:00\", \"2017-11-18T10:00:00\", \"2018-04-26T17:00:00\", \"2018-06-01T15:00:00\", \"2017-12-06T20:00:00\", \"2018-05-04T11:00:00\", \"2017-12-04T21:00:00\", \"2017-12-06T22:00:00\"], \"xaxis\": \"x\", \"y\": [2998.0, 2998.0, 2998.0, 2998.0, 2998.0, 2998.0, 3298.0, 3298.0, 3298.0, 3298.0, 3298.0, 3298.0, 3298.0, 3298.0, 3298.0, 2798.0, 2498.0, 2498.0, 2498.0, 2498.0, 2498.0, 2498.0], \"yaxis\": \"y\"}, {\"hovertemplate\": \"Manufacturer-Id=QN55Q8FNBFXZA<br>Website=bestbuy<br>Date-Seen=%{x}<br>Price-Min=%{y}<extra></extra>\", \"legendgroup\": \"QN55Q8FNBFXZA\", \"marker\": {\"color\": \"#ab63fa\", \"line\": {\"color\": \"DarkSlateGrey\", \"width\": 1}, \"size\": 8, \"symbol\": \"circle\"}, \"mode\": \"markers\", \"name\": \"QN55Q8FNBFXZA\", \"orientation\": \"v\", \"showlegend\": true, \"type\": \"scatter\", \"x\": [\"2018-05-26T15:00:00\", \"2018-05-26T15:00:00\"], \"xaxis\": \"x4\", \"y\": [2199.99, 1999.99], \"yaxis\": \"y4\"}, {\"hovertemplate\": \"Manufacturer-Id=QN55Q8FNBFXZA<br>Website=walmart<br>Date-Seen=%{x}<br>Price-Min=%{y}<extra></extra>\", \"legendgroup\": \"QN55Q8FNBFXZA\", \"marker\": {\"color\": \"#ab63fa\", \"line\": {\"color\": \"DarkSlateGrey\", \"width\": 1}, \"size\": 8, \"symbol\": \"circle\"}, \"mode\": \"markers\", \"name\": \"QN55Q8FNBFXZA\", \"orientation\": \"v\", \"showlegend\": false, \"type\": \"scatter\", \"x\": [\"2018-04-26T17:00:00\", \"2018-05-27T16:00:00\", \"2018-05-24T11:00:00\", \"2018-05-28T10:00:00\"], \"xaxis\": \"x3\", \"y\": [2097.99, 1997.99, 1997.99, 1997.99], \"yaxis\": \"y3\"}, {\"hovertemplate\": \"Manufacturer-Id=QN55Q8FNBFXZA<br>Website=bhphotovideo<br>Date-Seen=%{x}<br>Price-Min=%{y}<extra></extra>\", \"legendgroup\": \"QN55Q8FNBFXZA\", \"marker\": {\"color\": \"#ab63fa\", \"line\": {\"color\": \"DarkSlateGrey\", \"width\": 1}, \"size\": 8, \"symbol\": \"circle\"}, \"mode\": \"markers\", \"name\": \"QN55Q8FNBFXZA\", \"orientation\": \"v\", \"showlegend\": false, \"type\": \"scatter\", \"x\": [\"2018-04-26T17:00:00\", \"2018-06-01T09:00:00\", \"2018-04-26T17:00:00\", \"2018-06-01T09:00:00\"], \"xaxis\": \"x\", \"y\": [2097.99, 1997.99, 2197.99, 2197.99], \"yaxis\": \"y\"}, {\"hovertemplate\": \"Manufacturer-Id=XBR55X900F<br>Website=bestbuy<br>Date-Seen=%{x}<br>Price-Min=%{y}<extra></extra>\", \"legendgroup\": \"XBR55X900F\", \"marker\": {\"color\": \"#FFA15A\", \"line\": {\"color\": \"DarkSlateGrey\", \"width\": 1}, \"size\": 8, \"symbol\": \"circle\"}, \"mode\": \"markers\", \"name\": \"XBR55X900F\", \"orientation\": \"v\", \"showlegend\": true, \"type\": \"scatter\", \"x\": [\"2018-05-25T21:00:00\", \"2018-05-26T15:00:00\", \"2018-05-25T21:00:00\", \"2018-05-26T15:00:00\"], \"xaxis\": \"x4\", \"y\": [1499.99, 1499.99, 1299.99, 1299.99], \"yaxis\": \"y4\"}, {\"hovertemplate\": \"Manufacturer-Id=XBR55X900F<br>Website=walmart<br>Date-Seen=%{x}<br>Price-Min=%{y}<extra></extra>\", \"legendgroup\": \"XBR55X900F\", \"marker\": {\"color\": \"#FFA15A\", \"line\": {\"color\": \"DarkSlateGrey\", \"width\": 1}, \"size\": 8, \"symbol\": \"circle\"}, \"mode\": \"markers\", \"name\": \"XBR55X900F\", \"orientation\": \"v\", \"showlegend\": false, \"type\": \"scatter\", \"x\": [\"2018-04-26T17:00:00\", \"2018-05-27T16:00:00\"], \"xaxis\": \"x3\", \"y\": [1498.0, 1298.0], \"yaxis\": \"y3\"}, {\"hovertemplate\": \"Manufacturer-Id=XBR55X900F<br>Website=bhphotovideo<br>Date-Seen=%{x}<br>Price-Min=%{y}<extra></extra>\", \"legendgroup\": \"XBR55X900F\", \"marker\": {\"color\": \"#FFA15A\", \"line\": {\"color\": \"DarkSlateGrey\", \"width\": 1}, \"size\": 8, \"symbol\": \"circle\"}, \"mode\": \"markers\", \"name\": \"XBR55X900F\", \"orientation\": \"v\", \"showlegend\": false, \"type\": \"scatter\", \"x\": [\"2018-04-26T17:00:00\", \"2018-07-25T18:00:00\", \"2018-03-31T19:00:00\", \"2018-06-01T09:00:00\", \"2018-06-01T09:00:00\"], \"xaxis\": \"x\", \"y\": [1498.0, 1498.0, 1498.0, 1498.0, 1298.0], \"yaxis\": \"y\"}, {\"hovertemplate\": \"Manufacturer-Id=UN55MU6490FXZA<br>Website=bestbuy<br>Date-Seen=%{x}<br>Price-Min=%{y}<extra></extra>\", \"legendgroup\": \"UN55MU6490FXZA\", \"marker\": {\"color\": \"#19d3f3\", \"line\": {\"color\": \"DarkSlateGrey\", \"width\": 1}, \"size\": 8, \"symbol\": \"circle\"}, \"mode\": \"markers\", \"name\": \"UN55MU6490FXZA\", \"orientation\": \"v\", \"showlegend\": true, \"type\": \"scatter\", \"x\": [\"2018-05-26T07:00:00\", \"2018-05-26T07:00:00\"], \"xaxis\": \"x4\", \"y\": [549.99, 799.99], \"yaxis\": \"y4\"}, {\"hovertemplate\": \"Manufacturer-Id=UN55MU6490FXZA<br>Website=walmart<br>Date-Seen=%{x}<br>Price-Min=%{y}<extra></extra>\", \"legendgroup\": \"UN55MU6490FXZA\", \"marker\": {\"color\": \"#19d3f3\", \"line\": {\"color\": \"DarkSlateGrey\", \"width\": 1}, \"size\": 8, \"symbol\": \"circle\"}, \"mode\": \"markers\", \"name\": \"UN55MU6490FXZA\", \"orientation\": \"v\", \"showlegend\": false, \"type\": \"scatter\", \"x\": [\"2017-10-24T01:00:00\", \"2018-05-27T16:00:00\", \"2018-05-28T11:00:00\", \"2018-05-24T11:00:00\", \"2017-11-16T19:00:00\", \"2017-11-08T20:00:00\", \"2018-04-26T17:00:00\", \"2017-09-17T08:00:00\", \"2018-04-26T17:00:00\", \"2017-11-16T19:00:00\", \"2017-12-06T01:00:00\"], \"xaxis\": \"x3\", \"y\": [797.99, 1097.99, 1097.99, 1097.99, 799.99, 799.99, 1197.99, 797.99, 747.85, 597.99, 797.99], \"yaxis\": \"y3\"}, {\"hovertemplate\": \"Manufacturer-Id=UN55MU6490FXZA<br>Website=bhphotovideo<br>Date-Seen=%{x}<br>Price-Min=%{y}<extra></extra>\", \"legendgroup\": \"UN55MU6490FXZA\", \"marker\": {\"color\": \"#19d3f3\", \"line\": {\"color\": \"DarkSlateGrey\", \"width\": 1}, \"size\": 8, \"symbol\": \"circle\"}, \"mode\": \"markers\", \"name\": \"UN55MU6490FXZA\", \"orientation\": \"v\", \"showlegend\": false, \"type\": \"scatter\", \"x\": [\"2017-11-18T13:00:00\", \"2017-12-06T20:00:00\", \"2017-08-29T12:00:00\", \"2017-08-19T05:00:00\", \"2017-12-04T21:00:00\", \"2017-08-22T10:00:00\", \"2018-01-09T20:00:00\", \"2017-10-24T08:00:00\", \"2018-05-06T17:00:00\", \"2017-12-06T22:00:00\", \"2018-03-31T19:00:00\", \"2017-12-06T22:00:00\", \"2017-12-06T20:00:00\", \"2017-12-04T21:00:00\", \"2017-11-18T13:00:00\"], \"xaxis\": \"x\", \"y\": [797.99, 797.99, 797.99, 797.99, 797.99, 797.99, 797.99, 797.99, 797.99, 797.99, 1197.99, 597.99, 597.99, 597.99, 597.99], \"yaxis\": \"y\"}, {\"hovertemplate\": \"Manufacturer-Id=55UJ7700<br>Website=bestbuy<br>Date-Seen=%{x}<br>Price-Min=%{y}<extra></extra>\", \"legendgroup\": \"55UJ7700\", \"marker\": {\"color\": \"#FF6692\", \"line\": {\"color\": \"DarkSlateGrey\", \"width\": 1}, \"size\": 8, \"symbol\": \"circle\"}, \"mode\": \"markers\", \"name\": \"55UJ7700\", \"orientation\": \"v\", \"showlegend\": true, \"type\": \"scatter\", \"x\": [\"2018-05-26T16:00:00\", \"2018-05-26T16:00:00\"], \"xaxis\": \"x4\", \"y\": [799.99, 751.99], \"yaxis\": \"y4\"}, {\"hovertemplate\": \"Manufacturer-Id=55UJ7700<br>Website=walmart<br>Date-Seen=%{x}<br>Price-Min=%{y}<extra></extra>\", \"legendgroup\": \"55UJ7700\", \"marker\": {\"color\": \"#FF6692\", \"line\": {\"color\": \"DarkSlateGrey\", \"width\": 1}, \"size\": 8, \"symbol\": \"circle\"}, \"mode\": \"markers\", \"name\": \"55UJ7700\", \"orientation\": \"v\", \"showlegend\": false, \"type\": \"scatter\", \"x\": [\"2018-05-27T16:00:00\", \"2018-05-28T10:00:00\", \"2018-04-26T17:00:00\", \"2018-03-09T18:00:00\", \"2018-03-09T18:00:00\", \"2018-02-05T20:00:00\"], \"xaxis\": \"x3\", \"y\": [796.99, 796.99, 846.99, 749.0, 659.42, 796.99], \"yaxis\": \"y3\"}, {\"hovertemplate\": \"Manufacturer-Id=55UJ7700<br>Website=bhphotovideo<br>Date-Seen=%{x}<br>Price-Min=%{y}<extra></extra>\", \"legendgroup\": \"55UJ7700\", \"marker\": {\"color\": \"#FF6692\", \"line\": {\"color\": \"DarkSlateGrey\", \"width\": 1}, \"size\": 8, \"symbol\": \"circle\"}, \"mode\": \"markers\", \"name\": \"55UJ7700\", \"orientation\": \"v\", \"showlegend\": false, \"type\": \"scatter\", \"x\": [\"2018-04-26T17:00:00\", \"2018-05-06T17:00:00\"], \"xaxis\": \"x\", \"y\": [1296.99, 1296.99], \"yaxis\": \"y\"}, {\"hovertemplate\": \"Manufacturer-Id=QN55Q7CAMFXZA<br>Website=bestbuy<br>Date-Seen=%{x}<br>Price-Min=%{y}<extra></extra>\", \"legendgroup\": \"QN55Q7CAMFXZA\", \"marker\": {\"color\": \"#B6E880\", \"line\": {\"color\": \"DarkSlateGrey\", \"width\": 1}, \"size\": 8, \"symbol\": \"circle\"}, \"mode\": \"markers\", \"name\": \"QN55Q7CAMFXZA\", \"orientation\": \"v\", \"showlegend\": true, \"type\": \"scatter\", \"x\": [\"2017-08-01T03:00:00\", \"2017-07-26T15:00:00\", \"2017-08-01T03:00:00\", \"2017-07-26T15:00:00\", \"2018-05-26T07:00:00\", \"2018-05-26T07:00:00\"], \"xaxis\": \"x4\", \"y\": [2199.99, 2199.99, 1759.99, 1759.99, 1999.99, 1299.99], \"yaxis\": \"y4\"}, {\"hovertemplate\": \"Manufacturer-Id=QN55Q7CAMFXZA<br>Website=walmart<br>Date-Seen=%{x}<br>Price-Min=%{y}<extra></extra>\", \"legendgroup\": \"QN55Q7CAMFXZA\", \"marker\": {\"color\": \"#B6E880\", \"line\": {\"color\": \"DarkSlateGrey\", \"width\": 1}, \"size\": 8, \"symbol\": \"circle\"}, \"mode\": \"markers\", \"name\": \"QN55Q7CAMFXZA\", \"orientation\": \"v\", \"showlegend\": false, \"type\": \"scatter\", \"x\": [\"2017-10-28T18:00:00\", \"2018-03-09T18:00:00\", \"2017-09-18T18:00:00\", \"2017-08-15T21:00:00\", \"2017-07-28T07:00:00\", \"2017-07-22T23:00:00\", \"2017-12-06T01:00:00\", \"2017-11-16T22:00:00\", \"2017-11-08T20:00:00\", \"2017-09-08T03:00:00\", \"2017-10-28T17:00:00\", \"2017-10-24T22:00:00\", \"2017-11-16T23:00:00\", \"2017-11-08T20:00:00\", \"2017-10-28T18:00:00\", \"2017-10-24T22:00:00\", \"2018-05-27T16:00:00\", \"2018-05-24T11:00:00\", \"2018-05-28T10:00:00\", \"2018-04-26T17:00:00\", \"2017-11-16T22:00:00\", \"2018-03-09T18:00:00\", \"2017-11-08T20:00:00\", \"2017-12-07T06:00:00\", \"2017-09-17T08:00:00\", \"2018-05-27T16:00:00\", \"2018-05-24T11:00:00\", \"2017-08-15T15:00:00\", \"2017-07-18T06:00:00\", \"2017-07-21T16:00:00\", \"2017-07-21T14:00:00\", \"2017-07-12T15:00:00\", \"2017-07-16T20:00:00\", \"2017-07-10T18:00:00\", \"2017-07-08T20:00:00\", \"2017-07-14T14:00:00\", \"2017-12-08T10:00:00\", \"2017-12-06T01:00:00\", \"2017-11-16T19:00:00\", \"2017-11-08T20:00:00\", \"2017-10-28T17:00:00\", \"2017-10-24T22:00:00\", \"2017-12-07T06:00:00\", \"2018-04-26T17:00:00\", \"2018-05-24T11:00:00\"], \"xaxis\": \"x3\", \"y\": [2395.98, 1497.99, 2197.99, 2197.99, 2197.99, 2197.99, 1797.99, 1797.99, 1797.99, 1897.99, 1997.99, 1997.99, 2075.98, 2075.98, 1997.99, 1997.99, 1399.99, 1399.99, 1399.99, 1797.99, 1797.99, 1797.99, 1797.99, 1797.99, 2475.98, 1978.01, 1978.01, 2197.99, 2197.99, 2197.99, 2197.99, 2197.99, 2197.99, 2197.99, 2197.99, 2197.99, 1599.0, 1599.0, 1599.0, 1599.0, 1599.0, 1599.0, 2125.98, 2797.99, 2797.99], \"yaxis\": \"y3\"}, {\"hovertemplate\": \"Manufacturer-Id=QN55Q7CAMFXZA<br>Website=ebay<br>Date-Seen=%{x}<br>Price-Min=%{y}<extra></extra>\", \"legendgroup\": \"QN55Q7CAMFXZA\", \"marker\": {\"color\": \"#B6E880\", \"line\": {\"color\": \"DarkSlateGrey\", \"width\": 1}, \"size\": 8, \"symbol\": \"circle\"}, \"mode\": \"markers\", \"name\": \"QN55Q7CAMFXZA\", \"orientation\": \"v\", \"showlegend\": false, \"type\": \"scatter\", \"x\": [\"2017-07-27T21:00:00\", \"2017-07-25T23:00:00\", \"2017-07-25T23:00:00\", \"2017-07-25T18:00:00\", \"2017-07-22T07:00:00\", \"2017-07-24T14:00:00\", \"2017-07-25T23:00:00\", \"2017-07-16T06:00:00\", \"2017-07-21T02:00:00\", \"2017-07-15T12:00:00\", \"2017-07-17T19:00:00\", \"2017-07-18T08:00:00\", \"2017-08-22T19:00:00\", \"2017-07-25T17:00:00\", \"2017-07-26T18:00:00\", \"2017-07-25T23:00:00\", \"2017-07-26T20:00:00\", \"2017-07-27T11:00:00\", \"2017-07-25T23:00:00\", \"2017-07-09T22:00:00\"], \"xaxis\": \"x2\", \"y\": [1898.95, 2197.99, 2197.99, 1972.95, 1997.95, 1997.95, 2197.99, 1998.95, 1998.95, 1998.95, 1998.95, 1998.95, 1755.95, 1982.95, 1982.95, 1982.95, 1900.0, 1900.0, 2197.99, 2016.95], \"yaxis\": \"y2\"}, {\"hovertemplate\": \"Manufacturer-Id=QN55Q7CAMFXZA<br>Website=bhphotovideo<br>Date-Seen=%{x}<br>Price-Min=%{y}<extra></extra>\", \"legendgroup\": \"QN55Q7CAMFXZA\", \"marker\": {\"color\": \"#B6E880\", \"line\": {\"color\": \"DarkSlateGrey\", \"width\": 1}, \"size\": 8, \"symbol\": \"circle\"}, \"mode\": \"markers\", \"name\": \"QN55Q7CAMFXZA\", \"orientation\": \"v\", \"showlegend\": false, \"type\": \"scatter\", \"x\": [\"2018-01-27T10:00:00\", \"2018-06-01T15:00:00\", \"2018-04-26T17:00:00\", \"2018-01-27T10:00:00\", \"2018-01-09T20:00:00\", \"2018-04-26T17:00:00\", \"2017-12-07T23:00:00\", \"2017-12-08T01:00:00\", \"2017-12-05T10:00:00\", \"2018-04-10T14:00:00\", \"2018-04-26T17:00:00\", \"2018-06-01T15:00:00\", \"2017-12-07T23:00:00\", \"2017-12-08T01:00:00\", \"2017-12-05T10:00:00\", \"2017-08-22T10:00:00\", \"2018-01-27T10:00:00\", \"2018-01-09T20:00:00\", \"2017-09-24T10:00:00\", \"2017-08-19T02:00:00\", \"2017-09-24T10:00:00\", \"2017-08-22T10:00:00\", \"2017-08-19T02:00:00\"], \"xaxis\": \"x\", \"y\": [1697.99, 2797.99, 1549.95, 1549.95, 1997.99, 1797.99, 1797.99, 1797.99, 1797.99, 2997.99, 2997.99, 2997.99, 2997.99, 2997.99, 2997.99, 2997.99, 2997.99, 2997.99, 2997.99, 2997.99, 2197.99, 2197.99, 2197.99], \"yaxis\": \"y\"}, {\"hovertemplate\": \"Manufacturer-Id=55H8C<br>Website=bestbuy<br>Date-Seen=%{x}<br>Price-Min=%{y}<extra></extra>\", \"legendgroup\": \"55H8C\", \"marker\": {\"color\": \"#FF97FF\", \"line\": {\"color\": \"DarkSlateGrey\", \"width\": 1}, \"size\": 8, \"symbol\": \"circle\"}, \"mode\": \"markers\", \"name\": \"55H8C\", \"orientation\": \"v\", \"showlegend\": true, \"type\": \"scatter\", \"x\": [\"2017-07-31T22:00:00\", \"2017-08-01T07:00:00\", \"2017-07-26T20:00:00\", \"2017-06-01T19:00:00\", \"2017-05-31T17:00:00\", \"2017-05-09T07:00:00\", \"2017-05-01T20:00:00\", \"2017-05-18T05:00:00\", \"2017-03-30T05:00:00\", \"2017-03-10T19:00:00\", \"2017-03-04T10:00:00\", \"2018-05-25T21:00:00\", \"2018-05-26T16:00:00\", \"2018-05-25T21:00:00\", \"2018-05-26T16:00:00\"], \"xaxis\": \"x4\", \"y\": [549.99, 549.99, 549.99, 549.99, 549.99, 549.99, 549.99, 549.99, 549.99, 549.99, 549.99, 449.99, 449.99, 427.99, 427.99], \"yaxis\": \"y4\"}, {\"hovertemplate\": \"Manufacturer-Id=55H8C<br>Website=walmart<br>Date-Seen=%{x}<br>Price-Min=%{y}<extra></extra>\", \"legendgroup\": \"55H8C\", \"marker\": {\"color\": \"#FF97FF\", \"line\": {\"color\": \"DarkSlateGrey\", \"width\": 1}, \"size\": 8, \"symbol\": \"circle\"}, \"mode\": \"markers\", \"name\": \"55H8C\", \"orientation\": \"v\", \"showlegend\": false, \"type\": \"scatter\", \"x\": [\"2017-07-21T16:00:00\", \"2018-04-26T17:00:00\", \"2018-03-09T18:00:00\", \"2017-10-28T17:00:00\", \"2017-10-24T22:00:00\"], \"xaxis\": \"x3\", \"y\": [768.98, 449.99, 429.99, 549.99, 724.7], \"yaxis\": \"y3\"}, {\"hovertemplate\": \"Manufacturer-Id=55H8C<br>Website=ebay<br>Date-Seen=%{x}<br>Price-Min=%{y}<extra></extra>\", \"legendgroup\": \"55H8C\", \"marker\": {\"color\": \"#FF97FF\", \"line\": {\"color\": \"DarkSlateGrey\", \"width\": 1}, \"size\": 8, \"symbol\": \"circle\"}, \"mode\": \"markers\", \"name\": \"55H8C\", \"orientation\": \"v\", \"showlegend\": false, \"type\": \"scatter\", \"x\": [\"2017-07-25T18:00:00\", \"2017-07-25T18:00:00\", \"2017-07-11T12:00:00\", \"2017-07-11T22:00:00\"], \"xaxis\": \"x2\", \"y\": [723.6, 619.96, 619.96, 619.96], \"yaxis\": \"y2\"}, {\"hovertemplate\": \"Manufacturer-Id=XBR55X700D<br>Website=walmart<br>Date-Seen=%{x}<br>Price-Min=%{y}<extra></extra>\", \"legendgroup\": \"XBR55X700D\", \"marker\": {\"color\": \"#FECB52\", \"line\": {\"color\": \"DarkSlateGrey\", \"width\": 1}, \"size\": 8, \"symbol\": \"circle\"}, \"mode\": \"markers\", \"name\": \"XBR55X700D\", \"orientation\": \"v\", \"showlegend\": true, \"type\": \"scatter\", \"x\": [\"2017-08-14T14:00:00\", \"2017-07-10T18:00:00\", \"2017-07-08T20:00:00\", \"2017-07-18T06:00:00\", \"2017-07-21T16:00:00\", \"2017-07-21T14:00:00\", \"2017-07-12T15:00:00\", \"2017-07-14T14:00:00\"], \"xaxis\": \"x3\", \"y\": [798.0, 798.0, 798.0, 848.0, 848.0, 848.0, 848.0, 848.0], \"yaxis\": \"y3\"}, {\"hovertemplate\": \"Manufacturer-Id=XBR55X700D<br>Website=ebay<br>Date-Seen=%{x}<br>Price-Min=%{y}<extra></extra>\", \"legendgroup\": \"XBR55X700D\", \"marker\": {\"color\": \"#FECB52\", \"line\": {\"color\": \"DarkSlateGrey\", \"width\": 1}, \"size\": 8, \"symbol\": \"circle\"}, \"mode\": \"markers\", \"name\": \"XBR55X700D\", \"orientation\": \"v\", \"showlegend\": false, \"type\": \"scatter\", \"x\": [\"2017-07-24T21:00:00\", \"2017-07-25T21:00:00\", \"2017-07-23T08:00:00\", \"2017-07-25T17:00:00\", \"2017-07-24T19:00:00\", \"2017-07-26T23:00:00\", \"2017-07-27T11:00:00\", \"2017-07-09T22:00:00\", \"2017-07-18T14:00:00\", \"2017-07-25T18:00:00\", \"2017-07-25T18:00:00\", \"2017-07-17T06:00:00\", \"2017-07-14T12:00:00\", \"2017-07-18T00:00:00\", \"2017-07-17T21:00:00\", \"2017-07-18T14:00:00\", \"2017-07-15T14:00:00\", \"2017-07-17T10:00:00\", \"2017-09-28T04:00:00\", \"2017-07-26T15:00:00\", \"2017-07-27T19:00:00\", \"2017-07-25T18:00:00\", \"2017-07-25T17:00:00\", \"2017-07-26T20:00:00\", \"2017-07-25T18:00:00\", \"2017-07-21T15:00:00\", \"2017-07-22T04:00:00\", \"2017-07-24T17:00:00\", \"2017-07-15T23:00:00\", \"2017-07-15T12:00:00\", \"2017-07-18T11:00:00\", \"2017-07-17T19:00:00\", \"2017-07-14T10:00:00\", \"2017-07-17T01:00:00\"], \"xaxis\": \"x2\", \"y\": [798.0, 798.0, 629.99, 629.99, 629.99, 629.99, 629.99, 629.99, 629.99, 629.99, 600.0, 699.95, 848.0, 848.0, 450.0, 450.0, 746.24, 550.0, 789.99, 789.99, 789.99, 789.99, 798.0, 798.0, 798.0, 798.0, 798.0, 798.0, 798.0, 798.0, 798.0, 798.0, 798.0, 798.0], \"yaxis\": \"y2\"}, {\"hovertemplate\": \"Manufacturer-Id=XBR55X800E<br>Website=bestbuy<br>Date-Seen=%{x}<br>Price-Min=%{y}<extra></extra>\", \"legendgroup\": \"XBR55X800E\", \"marker\": {\"color\": \"#636efa\", \"line\": {\"color\": \"DarkSlateGrey\", \"width\": 1}, \"size\": 8, \"symbol\": \"circle\"}, \"mode\": \"markers\", \"name\": \"XBR55X800E\", \"orientation\": \"v\", \"showlegend\": true, \"type\": \"scatter\", \"x\": [\"2017-03-30T05:00:00\", \"2017-03-10T19:00:00\", \"2017-03-04T10:00:00\", \"2017-07-26T15:00:00\", \"2017-06-29T22:00:00\", \"2017-08-01T03:00:00\", \"2017-06-01T19:00:00\", \"2017-05-31T17:00:00\", \"2017-05-09T07:00:00\", \"2017-05-01T20:00:00\", \"2017-05-18T05:00:00\", \"2018-05-26T15:00:00\", \"2017-06-01T19:00:00\", \"2017-05-31T17:00:00\", \"2017-08-01T03:00:00\", \"2017-07-26T15:00:00\", \"2017-06-29T22:00:00\"], \"xaxis\": \"x4\", \"y\": [1899.99, 1899.99, 1899.99, 909.99, 909.99, 919.99, 1199.99, 1199.99, 1199.99, 1199.99, 1199.99, 899.99, 1091.99, 1091.99, 999.99, 999.99, 999.99], \"yaxis\": \"y4\"}, {\"hovertemplate\": \"Manufacturer-Id=XBR55X800E<br>Website=walmart<br>Date-Seen=%{x}<br>Price-Min=%{y}<extra></extra>\", \"legendgroup\": \"XBR55X800E\", \"marker\": {\"color\": \"#636efa\", \"line\": {\"color\": \"DarkSlateGrey\", \"width\": 1}, \"size\": 8, \"symbol\": \"circle\"}, \"mode\": \"markers\", \"name\": \"XBR55X800E\", \"orientation\": \"v\", \"showlegend\": false, \"type\": \"scatter\", \"x\": [\"2017-12-06T01:00:00\", \"2018-01-10T14:00:00\", \"2017-07-21T16:00:00\", \"2017-11-16T19:00:00\", \"2017-10-28T17:00:00\", \"2017-10-24T22:00:00\", \"2018-03-09T18:00:00\", \"2018-04-26T17:00:00\", \"2018-05-27T16:00:00\", \"2018-03-15T19:00:00\", \"2017-10-24T01:00:00\", \"2018-05-28T11:00:00\", \"2018-05-24T11:00:00\", \"2018-03-09T18:00:00\", \"2017-11-16T22:00:00\", \"2018-01-10T07:00:00\", \"2017-07-21T16:00:00\", \"2017-09-15T00:00:00\", \"2017-11-16T19:00:00\", \"2017-10-24T01:00:00\"], \"xaxis\": \"x3\", \"y\": [1896.0, 695.47, 998.0, 2196.0, 2196.0, 2196.0, 838.0, 898.0, 898.0, 898.0, 898.0, 898.0, 898.0, 798.0, 798.0, 2096.0, 998.0, 998.0, 898.0, 898.0], \"yaxis\": \"y3\"}, {\"hovertemplate\": \"Manufacturer-Id=XBR55X800E<br>Website=ebay<br>Date-Seen=%{x}<br>Price-Min=%{y}<extra></extra>\", \"legendgroup\": \"XBR55X800E\", \"marker\": {\"color\": \"#636efa\", \"line\": {\"color\": \"DarkSlateGrey\", \"width\": 1}, \"size\": 8, \"symbol\": \"circle\"}, \"mode\": \"markers\", \"name\": \"XBR55X800E\", \"orientation\": \"v\", \"showlegend\": false, \"type\": \"scatter\", \"x\": [\"2017-08-28T12:00:00\", \"2017-07-25T21:00:00\", \"2017-07-15T16:00:00\", \"2017-07-09T03:00:00\", \"2017-07-08T07:00:00\", \"2017-06-29T17:00:00\", \"2017-06-29T03:00:00\", \"2017-06-28T04:00:00\", \"2017-07-25T21:00:00\", \"2017-07-25T18:00:00\", \"2017-06-24T22:00:00\", \"2017-06-24T07:00:00\", \"2017-06-20T09:00:00\", \"2017-06-23T12:00:00\", \"2017-06-17T23:00:00\", \"2017-06-28T04:00:00\", \"2017-06-15T17:00:00\", \"2017-07-09T03:00:00\", \"2017-06-07T18:00:00\", \"2017-09-28T04:00:00\", \"2017-07-25T21:00:00\", \"2017-07-23T11:00:00\", \"2017-07-24T21:00:00\", \"2017-07-15T00:00:00\", \"2017-07-15T16:00:00\", \"2017-07-09T03:00:00\", \"2017-07-18T00:00:00\", \"2017-07-11T07:00:00\", \"2017-07-23T08:00:00\", \"2017-07-26T18:00:00\", \"2017-07-25T18:00:00\", \"2017-07-09T22:00:00\", \"2017-07-16T01:00:00\", \"2017-07-18T11:00:00\", \"2017-07-08T22:00:00\", \"2017-06-29T13:00:00\", \"2017-06-27T11:00:00\", \"2017-06-27T20:00:00\", \"2017-06-27T00:00:00\"], \"xaxis\": \"x2\", \"y\": [898.0, 998.0, 998.0, 998.0, 998.0, 998.0, 998.0, 998.0, 998.0, 998.0, 1098.0, 1098.0, 1098.0, 1098.0, 1098.0, 998.0, 1098.0, 1295.2, 1198.0, 1099.0, 998.0, 998.0, 998.0, 998.0, 998.0, 998.0, 998.0, 998.0, 998.0, 998.0, 998.0, 998.0, 998.0, 998.0, 998.0, 998.0, 998.0, 998.0, 998.0], \"yaxis\": \"y2\"}, {\"hovertemplate\": \"Manufacturer-Id=XBR55X800E<br>Website=bhphotovideo<br>Date-Seen=%{x}<br>Price-Min=%{y}<extra></extra>\", \"legendgroup\": \"XBR55X800E\", \"marker\": {\"color\": \"#636efa\", \"line\": {\"color\": \"DarkSlateGrey\", \"width\": 1}, \"size\": 8, \"symbol\": \"circle\"}, \"mode\": \"markers\", \"name\": \"XBR55X800E\", \"orientation\": \"v\", \"showlegend\": false, \"type\": \"scatter\", \"x\": [\"2018-04-26T17:00:00\", \"2017-08-29T12:00:00\", \"2017-08-19T05:00:00\", \"2018-05-04T11:00:00\", \"2017-09-24T03:00:00\", \"2018-04-26T17:00:00\", \"2017-12-06T20:00:00\", \"2017-08-29T12:00:00\", \"2017-08-19T05:00:00\", \"2018-05-04T11:00:00\", \"2017-12-04T21:00:00\", \"2017-08-22T10:00:00\", \"2018-01-09T20:00:00\", \"2017-12-06T22:00:00\", \"2017-09-24T03:00:00\", \"2017-11-18T10:00:00\", \"2017-08-22T10:00:00\", \"2018-01-09T20:00:00\", \"2017-12-06T22:00:00\", \"2017-12-06T20:00:00\", \"2017-12-04T21:00:00\", \"2017-11-18T10:00:00\"], \"xaxis\": \"x\", \"y\": [898.0, 898.0, 898.0, 898.0, 898.0, 1198.0, 1198.0, 1198.0, 1198.0, 1198.0, 1198.0, 1198.0, 1198.0, 1198.0, 1198.0, 1198.0, 998.0, 798.0, 798.0, 798.0, 798.0, 798.0], \"yaxis\": \"y\"}],\n",
       "                        {\"annotations\": [{\"font\": {}, \"showarrow\": false, \"text\": \"bhphotovideo\", \"textangle\": 90, \"x\": 0.98, \"xanchor\": \"left\", \"xref\": \"paper\", \"y\": 0.11375, \"yanchor\": \"middle\", \"yref\": \"paper\"}, {\"font\": {}, \"showarrow\": false, \"text\": \"ebay\", \"textangle\": 90, \"x\": 0.98, \"xanchor\": \"left\", \"xref\": \"paper\", \"y\": 0.37124999999999997, \"yanchor\": \"middle\", \"yref\": \"paper\"}, {\"font\": {}, \"showarrow\": false, \"text\": \"walmart\", \"textangle\": 90, \"x\": 0.98, \"xanchor\": \"left\", \"xref\": \"paper\", \"y\": 0.62875, \"yanchor\": \"middle\", \"yref\": \"paper\"}, {\"font\": {}, \"showarrow\": false, \"text\": \"bestbuy\", \"textangle\": 90, \"x\": 0.98, \"xanchor\": \"left\", \"xref\": \"paper\", \"y\": 0.88625, \"yanchor\": \"middle\", \"yref\": \"paper\"}], \"height\": 800, \"legend\": {\"title\": {\"text\": \"Manufacturer-Id\"}, \"tracegroupgap\": 0}, \"margin\": {\"t\": 60}, \"showlegend\": false, \"template\": {\"data\": {\"bar\": [{\"error_x\": {\"color\": \"#2a3f5f\"}, \"error_y\": {\"color\": \"#2a3f5f\"}, \"marker\": {\"line\": {\"color\": \"#E5ECF6\", \"width\": 0.5}}, \"type\": \"bar\"}], \"barpolar\": [{\"marker\": {\"line\": {\"color\": \"#E5ECF6\", \"width\": 0.5}}, \"type\": \"barpolar\"}], \"carpet\": [{\"aaxis\": {\"endlinecolor\": \"#2a3f5f\", \"gridcolor\": \"white\", \"linecolor\": \"white\", \"minorgridcolor\": \"white\", \"startlinecolor\": \"#2a3f5f\"}, \"baxis\": {\"endlinecolor\": \"#2a3f5f\", \"gridcolor\": \"white\", \"linecolor\": \"white\", \"minorgridcolor\": \"white\", \"startlinecolor\": \"#2a3f5f\"}, \"type\": \"carpet\"}], \"choropleth\": [{\"colorbar\": {\"outlinewidth\": 0, \"ticks\": \"\"}, \"type\": \"choropleth\"}], \"contour\": [{\"colorbar\": {\"outlinewidth\": 0, \"ticks\": \"\"}, \"colorscale\": [[0.0, \"#0d0887\"], [0.1111111111111111, \"#46039f\"], [0.2222222222222222, \"#7201a8\"], [0.3333333333333333, \"#9c179e\"], [0.4444444444444444, \"#bd3786\"], [0.5555555555555556, \"#d8576b\"], [0.6666666666666666, \"#ed7953\"], [0.7777777777777778, \"#fb9f3a\"], [0.8888888888888888, \"#fdca26\"], [1.0, \"#f0f921\"]], \"type\": \"contour\"}], \"contourcarpet\": [{\"colorbar\": {\"outlinewidth\": 0, \"ticks\": \"\"}, \"type\": \"contourcarpet\"}], \"heatmap\": [{\"colorbar\": {\"outlinewidth\": 0, \"ticks\": \"\"}, \"colorscale\": [[0.0, \"#0d0887\"], [0.1111111111111111, \"#46039f\"], [0.2222222222222222, \"#7201a8\"], [0.3333333333333333, \"#9c179e\"], [0.4444444444444444, \"#bd3786\"], [0.5555555555555556, \"#d8576b\"], [0.6666666666666666, \"#ed7953\"], [0.7777777777777778, \"#fb9f3a\"], [0.8888888888888888, \"#fdca26\"], [1.0, \"#f0f921\"]], \"type\": \"heatmap\"}], \"heatmapgl\": [{\"colorbar\": {\"outlinewidth\": 0, \"ticks\": \"\"}, \"colorscale\": [[0.0, \"#0d0887\"], [0.1111111111111111, \"#46039f\"], [0.2222222222222222, \"#7201a8\"], [0.3333333333333333, \"#9c179e\"], [0.4444444444444444, \"#bd3786\"], [0.5555555555555556, \"#d8576b\"], [0.6666666666666666, \"#ed7953\"], [0.7777777777777778, \"#fb9f3a\"], [0.8888888888888888, \"#fdca26\"], [1.0, \"#f0f921\"]], \"type\": \"heatmapgl\"}], \"histogram\": [{\"marker\": {\"colorbar\": {\"outlinewidth\": 0, \"ticks\": \"\"}}, \"type\": \"histogram\"}], \"histogram2d\": [{\"colorbar\": {\"outlinewidth\": 0, \"ticks\": \"\"}, \"colorscale\": [[0.0, \"#0d0887\"], [0.1111111111111111, \"#46039f\"], [0.2222222222222222, \"#7201a8\"], [0.3333333333333333, \"#9c179e\"], [0.4444444444444444, \"#bd3786\"], [0.5555555555555556, \"#d8576b\"], [0.6666666666666666, \"#ed7953\"], [0.7777777777777778, \"#fb9f3a\"], [0.8888888888888888, \"#fdca26\"], [1.0, \"#f0f921\"]], \"type\": \"histogram2d\"}], \"histogram2dcontour\": [{\"colorbar\": {\"outlinewidth\": 0, \"ticks\": \"\"}, \"colorscale\": [[0.0, \"#0d0887\"], [0.1111111111111111, \"#46039f\"], [0.2222222222222222, \"#7201a8\"], [0.3333333333333333, \"#9c179e\"], [0.4444444444444444, \"#bd3786\"], [0.5555555555555556, \"#d8576b\"], [0.6666666666666666, \"#ed7953\"], [0.7777777777777778, \"#fb9f3a\"], [0.8888888888888888, \"#fdca26\"], [1.0, \"#f0f921\"]], \"type\": \"histogram2dcontour\"}], \"mesh3d\": [{\"colorbar\": {\"outlinewidth\": 0, \"ticks\": \"\"}, \"type\": \"mesh3d\"}], \"parcoords\": [{\"line\": {\"colorbar\": {\"outlinewidth\": 0, \"ticks\": \"\"}}, \"type\": \"parcoords\"}], \"pie\": [{\"automargin\": true, \"type\": \"pie\"}], \"scatter\": [{\"marker\": {\"colorbar\": {\"outlinewidth\": 0, \"ticks\": \"\"}}, \"type\": \"scatter\"}], \"scatter3d\": [{\"line\": {\"colorbar\": {\"outlinewidth\": 0, \"ticks\": \"\"}}, \"marker\": {\"colorbar\": {\"outlinewidth\": 0, \"ticks\": \"\"}}, \"type\": \"scatter3d\"}], \"scattercarpet\": [{\"marker\": {\"colorbar\": {\"outlinewidth\": 0, \"ticks\": \"\"}}, \"type\": \"scattercarpet\"}], \"scattergeo\": [{\"marker\": {\"colorbar\": {\"outlinewidth\": 0, \"ticks\": \"\"}}, \"type\": \"scattergeo\"}], \"scattergl\": [{\"marker\": {\"colorbar\": {\"outlinewidth\": 0, \"ticks\": \"\"}}, \"type\": \"scattergl\"}], \"scattermapbox\": [{\"marker\": {\"colorbar\": {\"outlinewidth\": 0, \"ticks\": \"\"}}, \"type\": \"scattermapbox\"}], \"scatterpolar\": [{\"marker\": {\"colorbar\": {\"outlinewidth\": 0, \"ticks\": \"\"}}, \"type\": \"scatterpolar\"}], \"scatterpolargl\": [{\"marker\": {\"colorbar\": {\"outlinewidth\": 0, \"ticks\": \"\"}}, \"type\": \"scatterpolargl\"}], \"scatterternary\": [{\"marker\": {\"colorbar\": {\"outlinewidth\": 0, \"ticks\": \"\"}}, \"type\": \"scatterternary\"}], \"surface\": [{\"colorbar\": {\"outlinewidth\": 0, \"ticks\": \"\"}, \"colorscale\": [[0.0, \"#0d0887\"], [0.1111111111111111, \"#46039f\"], [0.2222222222222222, \"#7201a8\"], [0.3333333333333333, \"#9c179e\"], [0.4444444444444444, \"#bd3786\"], [0.5555555555555556, \"#d8576b\"], [0.6666666666666666, \"#ed7953\"], [0.7777777777777778, \"#fb9f3a\"], [0.8888888888888888, \"#fdca26\"], [1.0, \"#f0f921\"]], \"type\": \"surface\"}], \"table\": [{\"cells\": {\"fill\": {\"color\": \"#EBF0F8\"}, \"line\": {\"color\": \"white\"}}, \"header\": {\"fill\": {\"color\": \"#C8D4E3\"}, \"line\": {\"color\": \"white\"}}, \"type\": \"table\"}]}, \"layout\": {\"annotationdefaults\": {\"arrowcolor\": \"#2a3f5f\", \"arrowhead\": 0, \"arrowwidth\": 1}, \"coloraxis\": {\"colorbar\": {\"outlinewidth\": 0, \"ticks\": \"\"}}, \"colorscale\": {\"diverging\": [[0, \"#8e0152\"], [0.1, \"#c51b7d\"], [0.2, \"#de77ae\"], [0.3, \"#f1b6da\"], [0.4, \"#fde0ef\"], [0.5, \"#f7f7f7\"], [0.6, \"#e6f5d0\"], [0.7, \"#b8e186\"], [0.8, \"#7fbc41\"], [0.9, \"#4d9221\"], [1, \"#276419\"]], \"sequential\": [[0.0, \"#0d0887\"], [0.1111111111111111, \"#46039f\"], [0.2222222222222222, \"#7201a8\"], [0.3333333333333333, \"#9c179e\"], [0.4444444444444444, \"#bd3786\"], [0.5555555555555556, \"#d8576b\"], [0.6666666666666666, \"#ed7953\"], [0.7777777777777778, \"#fb9f3a\"], [0.8888888888888888, \"#fdca26\"], [1.0, \"#f0f921\"]], \"sequentialminus\": [[0.0, \"#0d0887\"], [0.1111111111111111, \"#46039f\"], [0.2222222222222222, \"#7201a8\"], [0.3333333333333333, \"#9c179e\"], [0.4444444444444444, \"#bd3786\"], [0.5555555555555556, \"#d8576b\"], [0.6666666666666666, \"#ed7953\"], [0.7777777777777778, \"#fb9f3a\"], [0.8888888888888888, \"#fdca26\"], [1.0, \"#f0f921\"]]}, \"colorway\": [\"#636efa\", \"#EF553B\", \"#00cc96\", \"#ab63fa\", \"#FFA15A\", \"#19d3f3\", \"#FF6692\", \"#B6E880\", \"#FF97FF\", \"#FECB52\"], \"font\": {\"color\": \"#2a3f5f\"}, \"geo\": {\"bgcolor\": \"white\", \"lakecolor\": \"white\", \"landcolor\": \"#E5ECF6\", \"showlakes\": true, \"showland\": true, \"subunitcolor\": \"white\"}, \"hoverlabel\": {\"align\": \"left\"}, \"hovermode\": \"closest\", \"mapbox\": {\"style\": \"light\"}, \"paper_bgcolor\": \"white\", \"plot_bgcolor\": \"#E5ECF6\", \"polar\": {\"angularaxis\": {\"gridcolor\": \"white\", \"linecolor\": \"white\", \"ticks\": \"\"}, \"bgcolor\": \"#E5ECF6\", \"radialaxis\": {\"gridcolor\": \"white\", \"linecolor\": \"white\", \"ticks\": \"\"}}, \"scene\": {\"xaxis\": {\"backgroundcolor\": \"#E5ECF6\", \"gridcolor\": \"white\", \"gridwidth\": 2, \"linecolor\": \"white\", \"showbackground\": true, \"ticks\": \"\", \"zerolinecolor\": \"white\"}, \"yaxis\": {\"backgroundcolor\": \"#E5ECF6\", \"gridcolor\": \"white\", \"gridwidth\": 2, \"linecolor\": \"white\", \"showbackground\": true, \"ticks\": \"\", \"zerolinecolor\": \"white\"}, \"zaxis\": {\"backgroundcolor\": \"#E5ECF6\", \"gridcolor\": \"white\", \"gridwidth\": 2, \"linecolor\": \"white\", \"showbackground\": true, \"ticks\": \"\", \"zerolinecolor\": \"white\"}}, \"shapedefaults\": {\"line\": {\"color\": \"#2a3f5f\"}}, \"ternary\": {\"aaxis\": {\"gridcolor\": \"white\", \"linecolor\": \"white\", \"ticks\": \"\"}, \"baxis\": {\"gridcolor\": \"white\", \"linecolor\": \"white\", \"ticks\": \"\"}, \"bgcolor\": \"#E5ECF6\", \"caxis\": {\"gridcolor\": \"white\", \"linecolor\": \"white\", \"ticks\": \"\"}}, \"title\": {\"x\": 0.05}, \"xaxis\": {\"automargin\": true, \"gridcolor\": \"white\", \"linecolor\": \"white\", \"ticks\": \"\", \"title\": {\"standoff\": 15}, \"zerolinecolor\": \"white\", \"zerolinewidth\": 2}, \"yaxis\": {\"automargin\": true, \"gridcolor\": \"white\", \"linecolor\": \"white\", \"ticks\": \"\", \"title\": {\"standoff\": 15}, \"zerolinecolor\": \"white\", \"zerolinewidth\": 2}}}, \"xaxis\": {\"anchor\": \"y\", \"domain\": [0.0, 0.98], \"title\": {\"text\": \"\"}}, \"xaxis2\": {\"anchor\": \"y2\", \"domain\": [0.0, 0.98], \"matches\": \"x\", \"showticklabels\": false, \"title\": {\"text\": \"\"}}, \"xaxis3\": {\"anchor\": \"y3\", \"domain\": [0.0, 0.98], \"matches\": \"x\", \"showticklabels\": false, \"title\": {\"text\": \"\"}}, \"xaxis4\": {\"anchor\": \"y4\", \"domain\": [0.0, 0.98], \"matches\": \"x\", \"showticklabels\": false, \"title\": {\"text\": \"\"}}, \"yaxis\": {\"anchor\": \"x\", \"domain\": [0.0, 0.2275], \"tickprefix\": \"$\", \"title\": {\"text\": \"\"}}, \"yaxis2\": {\"anchor\": \"x2\", \"domain\": [0.2575, 0.485], \"matches\": \"y\", \"tickprefix\": \"$\", \"title\": {\"text\": \"\"}}, \"yaxis3\": {\"anchor\": \"x3\", \"domain\": [0.515, 0.7425], \"matches\": \"y\", \"tickprefix\": \"$\", \"title\": {\"text\": \"\"}}, \"yaxis4\": {\"anchor\": \"x4\", \"domain\": [0.7725, 1.0], \"matches\": \"y\", \"tickprefix\": \"$\", \"title\": {\"text\": \"\"}}},\n",
       "                        {\"responsive\": true}\n",
       "                    ).then(function(){\n",
       "                            \n",
       "var gd = document.getElementById('267b13b6-f824-4ff1-bb09-59212368906f');\n",
       "var x = new MutationObserver(function (mutations, observer) {{\n",
       "        var display = window.getComputedStyle(gd).display;\n",
       "        if (!display || display === 'none') {{\n",
       "            console.log([gd, 'removed!']);\n",
       "            Plotly.purge(gd);\n",
       "            observer.disconnect();\n",
       "        }}\n",
       "}});\n",
       "\n",
       "// Listen for the removal of the full notebook cells\n",
       "var notebookContainer = gd.closest('#notebook-container');\n",
       "if (notebookContainer) {{\n",
       "    x.observe(notebookContainer, {childList: true});\n",
       "}}\n",
       "\n",
       "// Listen for the clearing of the current output cell\n",
       "var outputEl = gd.closest('.output');\n",
       "if (outputEl) {{\n",
       "    x.observe(outputEl, {childList: true});\n",
       "}}\n",
       "\n",
       "                        })\n",
       "                };\n",
       "                });\n",
       "            </script>\n",
       "        </div>"
      ]
     },
     "metadata": {},
     "output_type": "display_data"
    }
   ],
   "source": [
    "fig = px.scatter(df, x=\"Date-Seen\", y=\"Price-Min\",color=\"Manufacturer-Id\", facet_row=\"Website\", height=800)\n",
    "\n",
    "#styling\n",
    "fig.for_each_annotation(lambda a: a.update(text=a.text.split(\"=\")[-1]))\n",
    "fig.update_yaxes(tickprefix=\"$\")\n",
    "fig.update_xaxes(title_text='')\n",
    "fig.update_yaxes(title_text='')\n",
    "fig.update_traces(marker=dict(size=8, line=dict(width=1, color='DarkSlateGrey')), selector=dict(mode='markers')) # style markers\n",
    "fig.update_layout(showlegend=False)\n",
    "fig.show()"
   ]
  },
  {
   "cell_type": "code",
   "execution_count": 18,
   "metadata": {},
   "outputs": [],
   "source": [
    "# fig.write_image(\"images/products_by_website_facet.png\")"
   ]
  },
  {
   "cell_type": "code",
   "execution_count": 19,
   "metadata": {},
   "outputs": [],
   "source": [
    "# df1 = df[df[\"Website\"] == \"bestbuy\"]\n",
    "\n",
    "# # Create as many colors as there are unique df['Website']\n",
    "# ManufacturerId = np.unique(df1['Manufacturer-Id'])\n",
    "# colors = [\"red\", \"blue\", \"green\", \"black\", \"pink\", \"slategray\", \"magenta\", \"cyan\", \"gold\", \"lime\"]\n",
    "\n",
    "\n",
    "# # Draw Plot for Each Website\n",
    "# plt.figure(figsize=(16, 10), dpi= 80, facecolor='w', edgecolor='k')\n",
    "\n",
    "# for i, ManufacturerId in enumerate(ManufacturerId):\n",
    "#     plt.scatter('Date-Seen', 'Price-Min', \n",
    "#                 data=df1.loc[df1[\"Manufacturer-Id\"] == ManufacturerId, :], \n",
    "#                 s=50, c=colors[i], label=str(ManufacturerId))\n",
    "    \n",
    "# plt.title(\"Bestbuy\", fontsize=22)\n",
    "# plt.legend(fontsize=12)"
   ]
  },
  {
   "cell_type": "code",
   "execution_count": 20,
   "metadata": {},
   "outputs": [],
   "source": [
    "# df1 = df[df[\"Website\"] == \"ebay\"]\n",
    "\n",
    "# # Create as many colors as there are unique df['Website']\n",
    "# ManufacturerId = np.unique(df1['Manufacturer-Id'])\n",
    "# colors = [\"red\", \"blue\", \"green\", \"black\", \"pink\", \"slategray\", \"magenta\", \"cyan\", \"gold\", \"lime\"]\n",
    "\n",
    "\n",
    "# # Draw Plot for Each Website\n",
    "# plt.figure(figsize=(16, 10), dpi= 80, facecolor='w', edgecolor='k')\n",
    "\n",
    "# for i, ManufacturerId in enumerate(ManufacturerId):\n",
    "#     plt.scatter('Date-Seen', 'Price-Min', \n",
    "#                 data=df1.loc[df1[\"Manufacturer-Id\"] == ManufacturerId, :], \n",
    "#                 s=50, c=colors[i], label=str(ManufacturerId))\n",
    "    \n",
    "# plt.title(\"eBay\", fontsize=22)\n",
    "# plt.legend(fontsize=12)"
   ]
  },
  {
   "cell_type": "code",
   "execution_count": 21,
   "metadata": {},
   "outputs": [],
   "source": [
    "# df1 = df[df[\"Website\"] == \"walmart\"]\n",
    "\n",
    "# # Create as many colors as there are unique df['Website']\n",
    "# ManufacturerId = np.unique(df1['Manufacturer-Id'])\n",
    "# colors = [\"red\", \"blue\", \"green\", \"black\", \"pink\", \"slategray\", \"magenta\", \"cyan\", \"gold\", \"lime\", \"indigo\"]\n",
    "\n",
    "\n",
    "# # Draw Plot for Each Website\n",
    "# plt.figure(figsize=(16, 10), dpi= 80, facecolor='w', edgecolor='k')\n",
    "\n",
    "# for i, ManufacturerId in enumerate(ManufacturerId):\n",
    "#     plt.scatter('Date-Seen', 'Price-Min', \n",
    "#                 data=df1.loc[df1[\"Manufacturer-Id\"] == ManufacturerId, :], \n",
    "#                 s=50, c=colors[i], label=str(ManufacturerId))\n",
    "    \n",
    "# plt.title(\"Walmart\", fontsize=22)\n",
    "# plt.legend(fontsize=12)"
   ]
  },
  {
   "cell_type": "code",
   "execution_count": 22,
   "metadata": {},
   "outputs": [],
   "source": [
    "# df1 = df[df[\"Website\"] == \"bhphotovideo\"]\n",
    "\n",
    "# # Create as many colors as there are unique df['Website']\n",
    "# ManufacturerId = np.unique(df1['Manufacturer-Id'])\n",
    "# colors = [\"red\", \"blue\", \"green\", \"black\", \"pink\", \"slategray\", \"magenta\", \"cyan\", \"gold\", \"lime\"]\n",
    "\n",
    "\n",
    "# # Draw Plot for Each Website\n",
    "# plt.figure(figsize=(16, 10), dpi= 80, facecolor='w', edgecolor='k')\n",
    "\n",
    "# for i, ManufacturerId in enumerate(ManufacturerId):\n",
    "#     plt.scatter('Date-Seen', 'Price-Min', \n",
    "#                 data=df1.loc[df1[\"Manufacturer-Id\"] == ManufacturerId, :], \n",
    "#                 s=50, c=colors[i], label=str(ManufacturerId))\n",
    "    \n",
    "# plt.title(\"BHPhotovideo\", fontsize=22)\n",
    "# plt.legend(fontsize=12)"
   ]
  },
  {
   "cell_type": "markdown",
   "metadata": {},
   "source": [
    "# Prices overtime for each brand"
   ]
  },
  {
   "cell_type": "code",
   "execution_count": 23,
   "metadata": {},
   "outputs": [],
   "source": [
    "# # Create as many colors as there are unique df['Website']\n",
    "# Brand = np.unique(df['Brand'])\n",
    "# colors = [\"red\", \"blue\", \"green\", \"black\"]\n",
    "\n",
    "\n",
    "# # Draw Plot for Each Website\n",
    "# plt.figure(figsize=(16, 10), dpi= 80, facecolor='w', edgecolor='k')\n",
    "\n",
    "# for i, Brand in enumerate(Brand):\n",
    "#     plt.scatter('Date-Seen', 'Price-Min', \n",
    "#                 data=df.loc[df.Brand==Brand, :], \n",
    "#                 s=50, c=colors[i], label=str(Brand))\n",
    "\n",
    "# plt.title(\"Prices across all websites for each brand\", fontsize=22)\n",
    "# plt.legend(fontsize=12)"
   ]
  },
  {
   "cell_type": "code",
   "execution_count": 24,
   "metadata": {},
   "outputs": [
    {
     "data": {
      "application/vnd.plotly.v1+json": {
       "config": {
        "plotlyServerURL": "https://plot.ly"
       },
       "data": [
        {
         "hovertemplate": "Manufacturer-Id=55H9D PLUS<br>Date-Seen=%{x}<br>Price-Min=%{y}<extra></extra>",
         "legendgroup": "55H9D PLUS",
         "marker": {
          "color": "#636efa",
          "line": {
           "color": "DarkSlateGrey",
           "width": 1
          },
          "size": 7,
          "symbol": "circle"
         },
         "mode": "markers",
         "name": "55H9D PLUS",
         "orientation": "v",
         "showlegend": true,
         "type": "scatter",
         "x": [
          "2018-05-26T15:00:00",
          "2018-05-02T14:00:00",
          "2018-04-26T17:00:00",
          "2018-05-26T15:00:00",
          "2018-03-09T18:00:00",
          "2018-05-02T14:00:00"
         ],
         "xaxis": "x",
         "y": [
          799.99,
          799.99,
          599.99,
          599.99,
          699.99,
          699.99
         ],
         "yaxis": "y"
        },
        {
         "hovertemplate": "Manufacturer-Id=55H8C<br>Date-Seen=%{x}<br>Price-Min=%{y}<extra></extra>",
         "legendgroup": "55H8C",
         "marker": {
          "color": "#EF553B",
          "line": {
           "color": "DarkSlateGrey",
           "width": 1
          },
          "size": 7,
          "symbol": "circle"
         },
         "mode": "markers",
         "name": "55H8C",
         "orientation": "v",
         "showlegend": true,
         "type": "scatter",
         "x": [
          "2017-07-31T22:00:00",
          "2017-08-01T07:00:00",
          "2017-07-26T20:00:00",
          "2017-06-01T19:00:00",
          "2017-05-31T17:00:00",
          "2017-05-09T07:00:00",
          "2017-05-01T20:00:00",
          "2017-05-18T05:00:00",
          "2017-03-30T05:00:00",
          "2017-03-10T19:00:00",
          "2017-03-04T10:00:00",
          "2017-07-21T16:00:00",
          "2018-04-26T17:00:00",
          "2018-03-09T18:00:00",
          "2018-05-25T21:00:00",
          "2018-05-26T16:00:00",
          "2017-07-25T18:00:00",
          "2017-07-25T18:00:00",
          "2017-07-11T12:00:00",
          "2017-07-11T22:00:00",
          "2018-05-25T21:00:00",
          "2018-05-26T16:00:00",
          "2017-10-28T17:00:00",
          "2017-10-24T22:00:00"
         ],
         "xaxis": "x",
         "y": [
          549.99,
          549.99,
          549.99,
          549.99,
          549.99,
          549.99,
          549.99,
          549.99,
          549.99,
          549.99,
          549.99,
          768.98,
          449.99,
          429.99,
          449.99,
          449.99,
          723.6,
          619.96,
          619.96,
          619.96,
          427.99,
          427.99,
          549.99,
          724.7
         ],
         "yaxis": "y"
        }
       ],
       "layout": {
        "font": {
         "size": 12
        },
        "legend": {
         "title": {
          "text": "Models"
         },
         "tracegroupgap": 0
        },
        "margin": {
         "t": 60
        },
        "template": {
         "data": {
          "bar": [
           {
            "error_x": {
             "color": "#2a3f5f"
            },
            "error_y": {
             "color": "#2a3f5f"
            },
            "marker": {
             "line": {
              "color": "#E5ECF6",
              "width": 0.5
             }
            },
            "type": "bar"
           }
          ],
          "barpolar": [
           {
            "marker": {
             "line": {
              "color": "#E5ECF6",
              "width": 0.5
             }
            },
            "type": "barpolar"
           }
          ],
          "carpet": [
           {
            "aaxis": {
             "endlinecolor": "#2a3f5f",
             "gridcolor": "white",
             "linecolor": "white",
             "minorgridcolor": "white",
             "startlinecolor": "#2a3f5f"
            },
            "baxis": {
             "endlinecolor": "#2a3f5f",
             "gridcolor": "white",
             "linecolor": "white",
             "minorgridcolor": "white",
             "startlinecolor": "#2a3f5f"
            },
            "type": "carpet"
           }
          ],
          "choropleth": [
           {
            "colorbar": {
             "outlinewidth": 0,
             "ticks": ""
            },
            "type": "choropleth"
           }
          ],
          "contour": [
           {
            "colorbar": {
             "outlinewidth": 0,
             "ticks": ""
            },
            "colorscale": [
             [
              0,
              "#0d0887"
             ],
             [
              0.1111111111111111,
              "#46039f"
             ],
             [
              0.2222222222222222,
              "#7201a8"
             ],
             [
              0.3333333333333333,
              "#9c179e"
             ],
             [
              0.4444444444444444,
              "#bd3786"
             ],
             [
              0.5555555555555556,
              "#d8576b"
             ],
             [
              0.6666666666666666,
              "#ed7953"
             ],
             [
              0.7777777777777778,
              "#fb9f3a"
             ],
             [
              0.8888888888888888,
              "#fdca26"
             ],
             [
              1,
              "#f0f921"
             ]
            ],
            "type": "contour"
           }
          ],
          "contourcarpet": [
           {
            "colorbar": {
             "outlinewidth": 0,
             "ticks": ""
            },
            "type": "contourcarpet"
           }
          ],
          "heatmap": [
           {
            "colorbar": {
             "outlinewidth": 0,
             "ticks": ""
            },
            "colorscale": [
             [
              0,
              "#0d0887"
             ],
             [
              0.1111111111111111,
              "#46039f"
             ],
             [
              0.2222222222222222,
              "#7201a8"
             ],
             [
              0.3333333333333333,
              "#9c179e"
             ],
             [
              0.4444444444444444,
              "#bd3786"
             ],
             [
              0.5555555555555556,
              "#d8576b"
             ],
             [
              0.6666666666666666,
              "#ed7953"
             ],
             [
              0.7777777777777778,
              "#fb9f3a"
             ],
             [
              0.8888888888888888,
              "#fdca26"
             ],
             [
              1,
              "#f0f921"
             ]
            ],
            "type": "heatmap"
           }
          ],
          "heatmapgl": [
           {
            "colorbar": {
             "outlinewidth": 0,
             "ticks": ""
            },
            "colorscale": [
             [
              0,
              "#0d0887"
             ],
             [
              0.1111111111111111,
              "#46039f"
             ],
             [
              0.2222222222222222,
              "#7201a8"
             ],
             [
              0.3333333333333333,
              "#9c179e"
             ],
             [
              0.4444444444444444,
              "#bd3786"
             ],
             [
              0.5555555555555556,
              "#d8576b"
             ],
             [
              0.6666666666666666,
              "#ed7953"
             ],
             [
              0.7777777777777778,
              "#fb9f3a"
             ],
             [
              0.8888888888888888,
              "#fdca26"
             ],
             [
              1,
              "#f0f921"
             ]
            ],
            "type": "heatmapgl"
           }
          ],
          "histogram": [
           {
            "marker": {
             "colorbar": {
              "outlinewidth": 0,
              "ticks": ""
             }
            },
            "type": "histogram"
           }
          ],
          "histogram2d": [
           {
            "colorbar": {
             "outlinewidth": 0,
             "ticks": ""
            },
            "colorscale": [
             [
              0,
              "#0d0887"
             ],
             [
              0.1111111111111111,
              "#46039f"
             ],
             [
              0.2222222222222222,
              "#7201a8"
             ],
             [
              0.3333333333333333,
              "#9c179e"
             ],
             [
              0.4444444444444444,
              "#bd3786"
             ],
             [
              0.5555555555555556,
              "#d8576b"
             ],
             [
              0.6666666666666666,
              "#ed7953"
             ],
             [
              0.7777777777777778,
              "#fb9f3a"
             ],
             [
              0.8888888888888888,
              "#fdca26"
             ],
             [
              1,
              "#f0f921"
             ]
            ],
            "type": "histogram2d"
           }
          ],
          "histogram2dcontour": [
           {
            "colorbar": {
             "outlinewidth": 0,
             "ticks": ""
            },
            "colorscale": [
             [
              0,
              "#0d0887"
             ],
             [
              0.1111111111111111,
              "#46039f"
             ],
             [
              0.2222222222222222,
              "#7201a8"
             ],
             [
              0.3333333333333333,
              "#9c179e"
             ],
             [
              0.4444444444444444,
              "#bd3786"
             ],
             [
              0.5555555555555556,
              "#d8576b"
             ],
             [
              0.6666666666666666,
              "#ed7953"
             ],
             [
              0.7777777777777778,
              "#fb9f3a"
             ],
             [
              0.8888888888888888,
              "#fdca26"
             ],
             [
              1,
              "#f0f921"
             ]
            ],
            "type": "histogram2dcontour"
           }
          ],
          "mesh3d": [
           {
            "colorbar": {
             "outlinewidth": 0,
             "ticks": ""
            },
            "type": "mesh3d"
           }
          ],
          "parcoords": [
           {
            "line": {
             "colorbar": {
              "outlinewidth": 0,
              "ticks": ""
             }
            },
            "type": "parcoords"
           }
          ],
          "pie": [
           {
            "automargin": true,
            "type": "pie"
           }
          ],
          "scatter": [
           {
            "marker": {
             "colorbar": {
              "outlinewidth": 0,
              "ticks": ""
             }
            },
            "type": "scatter"
           }
          ],
          "scatter3d": [
           {
            "line": {
             "colorbar": {
              "outlinewidth": 0,
              "ticks": ""
             }
            },
            "marker": {
             "colorbar": {
              "outlinewidth": 0,
              "ticks": ""
             }
            },
            "type": "scatter3d"
           }
          ],
          "scattercarpet": [
           {
            "marker": {
             "colorbar": {
              "outlinewidth": 0,
              "ticks": ""
             }
            },
            "type": "scattercarpet"
           }
          ],
          "scattergeo": [
           {
            "marker": {
             "colorbar": {
              "outlinewidth": 0,
              "ticks": ""
             }
            },
            "type": "scattergeo"
           }
          ],
          "scattergl": [
           {
            "marker": {
             "colorbar": {
              "outlinewidth": 0,
              "ticks": ""
             }
            },
            "type": "scattergl"
           }
          ],
          "scattermapbox": [
           {
            "marker": {
             "colorbar": {
              "outlinewidth": 0,
              "ticks": ""
             }
            },
            "type": "scattermapbox"
           }
          ],
          "scatterpolar": [
           {
            "marker": {
             "colorbar": {
              "outlinewidth": 0,
              "ticks": ""
             }
            },
            "type": "scatterpolar"
           }
          ],
          "scatterpolargl": [
           {
            "marker": {
             "colorbar": {
              "outlinewidth": 0,
              "ticks": ""
             }
            },
            "type": "scatterpolargl"
           }
          ],
          "scatterternary": [
           {
            "marker": {
             "colorbar": {
              "outlinewidth": 0,
              "ticks": ""
             }
            },
            "type": "scatterternary"
           }
          ],
          "surface": [
           {
            "colorbar": {
             "outlinewidth": 0,
             "ticks": ""
            },
            "colorscale": [
             [
              0,
              "#0d0887"
             ],
             [
              0.1111111111111111,
              "#46039f"
             ],
             [
              0.2222222222222222,
              "#7201a8"
             ],
             [
              0.3333333333333333,
              "#9c179e"
             ],
             [
              0.4444444444444444,
              "#bd3786"
             ],
             [
              0.5555555555555556,
              "#d8576b"
             ],
             [
              0.6666666666666666,
              "#ed7953"
             ],
             [
              0.7777777777777778,
              "#fb9f3a"
             ],
             [
              0.8888888888888888,
              "#fdca26"
             ],
             [
              1,
              "#f0f921"
             ]
            ],
            "type": "surface"
           }
          ],
          "table": [
           {
            "cells": {
             "fill": {
              "color": "#EBF0F8"
             },
             "line": {
              "color": "white"
             }
            },
            "header": {
             "fill": {
              "color": "#C8D4E3"
             },
             "line": {
              "color": "white"
             }
            },
            "type": "table"
           }
          ]
         },
         "layout": {
          "annotationdefaults": {
           "arrowcolor": "#2a3f5f",
           "arrowhead": 0,
           "arrowwidth": 1
          },
          "coloraxis": {
           "colorbar": {
            "outlinewidth": 0,
            "ticks": ""
           }
          },
          "colorscale": {
           "diverging": [
            [
             0,
             "#8e0152"
            ],
            [
             0.1,
             "#c51b7d"
            ],
            [
             0.2,
             "#de77ae"
            ],
            [
             0.3,
             "#f1b6da"
            ],
            [
             0.4,
             "#fde0ef"
            ],
            [
             0.5,
             "#f7f7f7"
            ],
            [
             0.6,
             "#e6f5d0"
            ],
            [
             0.7,
             "#b8e186"
            ],
            [
             0.8,
             "#7fbc41"
            ],
            [
             0.9,
             "#4d9221"
            ],
            [
             1,
             "#276419"
            ]
           ],
           "sequential": [
            [
             0,
             "#0d0887"
            ],
            [
             0.1111111111111111,
             "#46039f"
            ],
            [
             0.2222222222222222,
             "#7201a8"
            ],
            [
             0.3333333333333333,
             "#9c179e"
            ],
            [
             0.4444444444444444,
             "#bd3786"
            ],
            [
             0.5555555555555556,
             "#d8576b"
            ],
            [
             0.6666666666666666,
             "#ed7953"
            ],
            [
             0.7777777777777778,
             "#fb9f3a"
            ],
            [
             0.8888888888888888,
             "#fdca26"
            ],
            [
             1,
             "#f0f921"
            ]
           ],
           "sequentialminus": [
            [
             0,
             "#0d0887"
            ],
            [
             0.1111111111111111,
             "#46039f"
            ],
            [
             0.2222222222222222,
             "#7201a8"
            ],
            [
             0.3333333333333333,
             "#9c179e"
            ],
            [
             0.4444444444444444,
             "#bd3786"
            ],
            [
             0.5555555555555556,
             "#d8576b"
            ],
            [
             0.6666666666666666,
             "#ed7953"
            ],
            [
             0.7777777777777778,
             "#fb9f3a"
            ],
            [
             0.8888888888888888,
             "#fdca26"
            ],
            [
             1,
             "#f0f921"
            ]
           ]
          },
          "colorway": [
           "#636efa",
           "#EF553B",
           "#00cc96",
           "#ab63fa",
           "#FFA15A",
           "#19d3f3",
           "#FF6692",
           "#B6E880",
           "#FF97FF",
           "#FECB52"
          ],
          "font": {
           "color": "#2a3f5f"
          },
          "geo": {
           "bgcolor": "white",
           "lakecolor": "white",
           "landcolor": "#E5ECF6",
           "showlakes": true,
           "showland": true,
           "subunitcolor": "white"
          },
          "hoverlabel": {
           "align": "left"
          },
          "hovermode": "closest",
          "mapbox": {
           "style": "light"
          },
          "paper_bgcolor": "white",
          "plot_bgcolor": "#E5ECF6",
          "polar": {
           "angularaxis": {
            "gridcolor": "white",
            "linecolor": "white",
            "ticks": ""
           },
           "bgcolor": "#E5ECF6",
           "radialaxis": {
            "gridcolor": "white",
            "linecolor": "white",
            "ticks": ""
           }
          },
          "scene": {
           "xaxis": {
            "backgroundcolor": "#E5ECF6",
            "gridcolor": "white",
            "gridwidth": 2,
            "linecolor": "white",
            "showbackground": true,
            "ticks": "",
            "zerolinecolor": "white"
           },
           "yaxis": {
            "backgroundcolor": "#E5ECF6",
            "gridcolor": "white",
            "gridwidth": 2,
            "linecolor": "white",
            "showbackground": true,
            "ticks": "",
            "zerolinecolor": "white"
           },
           "zaxis": {
            "backgroundcolor": "#E5ECF6",
            "gridcolor": "white",
            "gridwidth": 2,
            "linecolor": "white",
            "showbackground": true,
            "ticks": "",
            "zerolinecolor": "white"
           }
          },
          "shapedefaults": {
           "line": {
            "color": "#2a3f5f"
           }
          },
          "ternary": {
           "aaxis": {
            "gridcolor": "white",
            "linecolor": "white",
            "ticks": ""
           },
           "baxis": {
            "gridcolor": "white",
            "linecolor": "white",
            "ticks": ""
           },
           "bgcolor": "#E5ECF6",
           "caxis": {
            "gridcolor": "white",
            "linecolor": "white",
            "ticks": ""
           }
          },
          "title": {
           "x": 0.05
          },
          "xaxis": {
           "automargin": true,
           "gridcolor": "white",
           "linecolor": "white",
           "ticks": "",
           "title": {
            "standoff": 15
           },
           "zerolinecolor": "white",
           "zerolinewidth": 2
          },
          "yaxis": {
           "automargin": true,
           "gridcolor": "white",
           "linecolor": "white",
           "ticks": "",
           "title": {
            "standoff": 15
           },
           "zerolinecolor": "white",
           "zerolinewidth": 2
          }
         }
        },
        "title": {
         "text": "Hisense prices across all platforms"
        },
        "xaxis": {
         "anchor": "y",
         "domain": [
          0,
          1
         ],
         "title": {
          "text": ""
         }
        },
        "yaxis": {
         "anchor": "x",
         "domain": [
          0,
          1
         ],
         "tickprefix": "$",
         "title": {
          "text": ""
         }
        }
       }
      },
      "text/html": [
       "<div>\n",
       "        \n",
       "        \n",
       "            <div id=\"c04bb73e-2e47-414b-a150-7c1ee5aa163f\" class=\"plotly-graph-div\" style=\"height:525px; width:100%;\"></div>\n",
       "            <script type=\"text/javascript\">\n",
       "                require([\"plotly\"], function(Plotly) {\n",
       "                    window.PLOTLYENV=window.PLOTLYENV || {};\n",
       "                    \n",
       "                if (document.getElementById(\"c04bb73e-2e47-414b-a150-7c1ee5aa163f\")) {\n",
       "                    Plotly.newPlot(\n",
       "                        'c04bb73e-2e47-414b-a150-7c1ee5aa163f',\n",
       "                        [{\"hovertemplate\": \"Manufacturer-Id=55H9D PLUS<br>Date-Seen=%{x}<br>Price-Min=%{y}<extra></extra>\", \"legendgroup\": \"55H9D PLUS\", \"marker\": {\"color\": \"#636efa\", \"line\": {\"color\": \"DarkSlateGrey\", \"width\": 1}, \"size\": 7, \"symbol\": \"circle\"}, \"mode\": \"markers\", \"name\": \"55H9D PLUS\", \"orientation\": \"v\", \"showlegend\": true, \"type\": \"scatter\", \"x\": [\"2018-05-26T15:00:00\", \"2018-05-02T14:00:00\", \"2018-04-26T17:00:00\", \"2018-05-26T15:00:00\", \"2018-03-09T18:00:00\", \"2018-05-02T14:00:00\"], \"xaxis\": \"x\", \"y\": [799.99, 799.99, 599.99, 599.99, 699.99, 699.99], \"yaxis\": \"y\"}, {\"hovertemplate\": \"Manufacturer-Id=55H8C<br>Date-Seen=%{x}<br>Price-Min=%{y}<extra></extra>\", \"legendgroup\": \"55H8C\", \"marker\": {\"color\": \"#EF553B\", \"line\": {\"color\": \"DarkSlateGrey\", \"width\": 1}, \"size\": 7, \"symbol\": \"circle\"}, \"mode\": \"markers\", \"name\": \"55H8C\", \"orientation\": \"v\", \"showlegend\": true, \"type\": \"scatter\", \"x\": [\"2017-07-31T22:00:00\", \"2017-08-01T07:00:00\", \"2017-07-26T20:00:00\", \"2017-06-01T19:00:00\", \"2017-05-31T17:00:00\", \"2017-05-09T07:00:00\", \"2017-05-01T20:00:00\", \"2017-05-18T05:00:00\", \"2017-03-30T05:00:00\", \"2017-03-10T19:00:00\", \"2017-03-04T10:00:00\", \"2017-07-21T16:00:00\", \"2018-04-26T17:00:00\", \"2018-03-09T18:00:00\", \"2018-05-25T21:00:00\", \"2018-05-26T16:00:00\", \"2017-07-25T18:00:00\", \"2017-07-25T18:00:00\", \"2017-07-11T12:00:00\", \"2017-07-11T22:00:00\", \"2018-05-25T21:00:00\", \"2018-05-26T16:00:00\", \"2017-10-28T17:00:00\", \"2017-10-24T22:00:00\"], \"xaxis\": \"x\", \"y\": [549.99, 549.99, 549.99, 549.99, 549.99, 549.99, 549.99, 549.99, 549.99, 549.99, 549.99, 768.98, 449.99, 429.99, 449.99, 449.99, 723.6, 619.96, 619.96, 619.96, 427.99, 427.99, 549.99, 724.7], \"yaxis\": \"y\"}],\n",
       "                        {\"font\": {\"size\": 12}, \"legend\": {\"title\": {\"text\": \"Models\"}, \"tracegroupgap\": 0}, \"margin\": {\"t\": 60}, \"template\": {\"data\": {\"bar\": [{\"error_x\": {\"color\": \"#2a3f5f\"}, \"error_y\": {\"color\": \"#2a3f5f\"}, \"marker\": {\"line\": {\"color\": \"#E5ECF6\", \"width\": 0.5}}, \"type\": \"bar\"}], \"barpolar\": [{\"marker\": {\"line\": {\"color\": \"#E5ECF6\", \"width\": 0.5}}, \"type\": \"barpolar\"}], \"carpet\": [{\"aaxis\": {\"endlinecolor\": \"#2a3f5f\", \"gridcolor\": \"white\", \"linecolor\": \"white\", \"minorgridcolor\": \"white\", \"startlinecolor\": \"#2a3f5f\"}, \"baxis\": {\"endlinecolor\": \"#2a3f5f\", \"gridcolor\": \"white\", \"linecolor\": \"white\", \"minorgridcolor\": \"white\", \"startlinecolor\": \"#2a3f5f\"}, \"type\": \"carpet\"}], \"choropleth\": [{\"colorbar\": {\"outlinewidth\": 0, \"ticks\": \"\"}, \"type\": \"choropleth\"}], \"contour\": [{\"colorbar\": {\"outlinewidth\": 0, \"ticks\": \"\"}, \"colorscale\": [[0.0, \"#0d0887\"], [0.1111111111111111, \"#46039f\"], [0.2222222222222222, \"#7201a8\"], [0.3333333333333333, \"#9c179e\"], [0.4444444444444444, \"#bd3786\"], [0.5555555555555556, \"#d8576b\"], [0.6666666666666666, \"#ed7953\"], [0.7777777777777778, \"#fb9f3a\"], [0.8888888888888888, \"#fdca26\"], [1.0, \"#f0f921\"]], \"type\": \"contour\"}], \"contourcarpet\": [{\"colorbar\": {\"outlinewidth\": 0, \"ticks\": \"\"}, \"type\": \"contourcarpet\"}], \"heatmap\": [{\"colorbar\": {\"outlinewidth\": 0, \"ticks\": \"\"}, \"colorscale\": [[0.0, \"#0d0887\"], [0.1111111111111111, \"#46039f\"], [0.2222222222222222, \"#7201a8\"], [0.3333333333333333, \"#9c179e\"], [0.4444444444444444, \"#bd3786\"], [0.5555555555555556, \"#d8576b\"], [0.6666666666666666, \"#ed7953\"], [0.7777777777777778, \"#fb9f3a\"], [0.8888888888888888, \"#fdca26\"], [1.0, \"#f0f921\"]], \"type\": \"heatmap\"}], \"heatmapgl\": [{\"colorbar\": {\"outlinewidth\": 0, \"ticks\": \"\"}, \"colorscale\": [[0.0, \"#0d0887\"], [0.1111111111111111, \"#46039f\"], [0.2222222222222222, \"#7201a8\"], [0.3333333333333333, \"#9c179e\"], [0.4444444444444444, \"#bd3786\"], [0.5555555555555556, \"#d8576b\"], [0.6666666666666666, \"#ed7953\"], [0.7777777777777778, \"#fb9f3a\"], [0.8888888888888888, \"#fdca26\"], [1.0, \"#f0f921\"]], \"type\": \"heatmapgl\"}], \"histogram\": [{\"marker\": {\"colorbar\": {\"outlinewidth\": 0, \"ticks\": \"\"}}, \"type\": \"histogram\"}], \"histogram2d\": [{\"colorbar\": {\"outlinewidth\": 0, \"ticks\": \"\"}, \"colorscale\": [[0.0, \"#0d0887\"], [0.1111111111111111, \"#46039f\"], [0.2222222222222222, \"#7201a8\"], [0.3333333333333333, \"#9c179e\"], [0.4444444444444444, \"#bd3786\"], [0.5555555555555556, \"#d8576b\"], [0.6666666666666666, \"#ed7953\"], [0.7777777777777778, \"#fb9f3a\"], [0.8888888888888888, \"#fdca26\"], [1.0, \"#f0f921\"]], \"type\": \"histogram2d\"}], \"histogram2dcontour\": [{\"colorbar\": {\"outlinewidth\": 0, \"ticks\": \"\"}, \"colorscale\": [[0.0, \"#0d0887\"], [0.1111111111111111, \"#46039f\"], [0.2222222222222222, \"#7201a8\"], [0.3333333333333333, \"#9c179e\"], [0.4444444444444444, \"#bd3786\"], [0.5555555555555556, \"#d8576b\"], [0.6666666666666666, \"#ed7953\"], [0.7777777777777778, \"#fb9f3a\"], [0.8888888888888888, \"#fdca26\"], [1.0, \"#f0f921\"]], \"type\": \"histogram2dcontour\"}], \"mesh3d\": [{\"colorbar\": {\"outlinewidth\": 0, \"ticks\": \"\"}, \"type\": \"mesh3d\"}], \"parcoords\": [{\"line\": {\"colorbar\": {\"outlinewidth\": 0, \"ticks\": \"\"}}, \"type\": \"parcoords\"}], \"pie\": [{\"automargin\": true, \"type\": \"pie\"}], \"scatter\": [{\"marker\": {\"colorbar\": {\"outlinewidth\": 0, \"ticks\": \"\"}}, \"type\": \"scatter\"}], \"scatter3d\": [{\"line\": {\"colorbar\": {\"outlinewidth\": 0, \"ticks\": \"\"}}, \"marker\": {\"colorbar\": {\"outlinewidth\": 0, \"ticks\": \"\"}}, \"type\": \"scatter3d\"}], \"scattercarpet\": [{\"marker\": {\"colorbar\": {\"outlinewidth\": 0, \"ticks\": \"\"}}, \"type\": \"scattercarpet\"}], \"scattergeo\": [{\"marker\": {\"colorbar\": {\"outlinewidth\": 0, \"ticks\": \"\"}}, \"type\": \"scattergeo\"}], \"scattergl\": [{\"marker\": {\"colorbar\": {\"outlinewidth\": 0, \"ticks\": \"\"}}, \"type\": \"scattergl\"}], \"scattermapbox\": [{\"marker\": {\"colorbar\": {\"outlinewidth\": 0, \"ticks\": \"\"}}, \"type\": \"scattermapbox\"}], \"scatterpolar\": [{\"marker\": {\"colorbar\": {\"outlinewidth\": 0, \"ticks\": \"\"}}, \"type\": \"scatterpolar\"}], \"scatterpolargl\": [{\"marker\": {\"colorbar\": {\"outlinewidth\": 0, \"ticks\": \"\"}}, \"type\": \"scatterpolargl\"}], \"scatterternary\": [{\"marker\": {\"colorbar\": {\"outlinewidth\": 0, \"ticks\": \"\"}}, \"type\": \"scatterternary\"}], \"surface\": [{\"colorbar\": {\"outlinewidth\": 0, \"ticks\": \"\"}, \"colorscale\": [[0.0, \"#0d0887\"], [0.1111111111111111, \"#46039f\"], [0.2222222222222222, \"#7201a8\"], [0.3333333333333333, \"#9c179e\"], [0.4444444444444444, \"#bd3786\"], [0.5555555555555556, \"#d8576b\"], [0.6666666666666666, \"#ed7953\"], [0.7777777777777778, \"#fb9f3a\"], [0.8888888888888888, \"#fdca26\"], [1.0, \"#f0f921\"]], \"type\": \"surface\"}], \"table\": [{\"cells\": {\"fill\": {\"color\": \"#EBF0F8\"}, \"line\": {\"color\": \"white\"}}, \"header\": {\"fill\": {\"color\": \"#C8D4E3\"}, \"line\": {\"color\": \"white\"}}, \"type\": \"table\"}]}, \"layout\": {\"annotationdefaults\": {\"arrowcolor\": \"#2a3f5f\", \"arrowhead\": 0, \"arrowwidth\": 1}, \"coloraxis\": {\"colorbar\": {\"outlinewidth\": 0, \"ticks\": \"\"}}, \"colorscale\": {\"diverging\": [[0, \"#8e0152\"], [0.1, \"#c51b7d\"], [0.2, \"#de77ae\"], [0.3, \"#f1b6da\"], [0.4, \"#fde0ef\"], [0.5, \"#f7f7f7\"], [0.6, \"#e6f5d0\"], [0.7, \"#b8e186\"], [0.8, \"#7fbc41\"], [0.9, \"#4d9221\"], [1, \"#276419\"]], \"sequential\": [[0.0, \"#0d0887\"], [0.1111111111111111, \"#46039f\"], [0.2222222222222222, \"#7201a8\"], [0.3333333333333333, \"#9c179e\"], [0.4444444444444444, \"#bd3786\"], [0.5555555555555556, \"#d8576b\"], [0.6666666666666666, \"#ed7953\"], [0.7777777777777778, \"#fb9f3a\"], [0.8888888888888888, \"#fdca26\"], [1.0, \"#f0f921\"]], \"sequentialminus\": [[0.0, \"#0d0887\"], [0.1111111111111111, \"#46039f\"], [0.2222222222222222, \"#7201a8\"], [0.3333333333333333, \"#9c179e\"], [0.4444444444444444, \"#bd3786\"], [0.5555555555555556, \"#d8576b\"], [0.6666666666666666, \"#ed7953\"], [0.7777777777777778, \"#fb9f3a\"], [0.8888888888888888, \"#fdca26\"], [1.0, \"#f0f921\"]]}, \"colorway\": [\"#636efa\", \"#EF553B\", \"#00cc96\", \"#ab63fa\", \"#FFA15A\", \"#19d3f3\", \"#FF6692\", \"#B6E880\", \"#FF97FF\", \"#FECB52\"], \"font\": {\"color\": \"#2a3f5f\"}, \"geo\": {\"bgcolor\": \"white\", \"lakecolor\": \"white\", \"landcolor\": \"#E5ECF6\", \"showlakes\": true, \"showland\": true, \"subunitcolor\": \"white\"}, \"hoverlabel\": {\"align\": \"left\"}, \"hovermode\": \"closest\", \"mapbox\": {\"style\": \"light\"}, \"paper_bgcolor\": \"white\", \"plot_bgcolor\": \"#E5ECF6\", \"polar\": {\"angularaxis\": {\"gridcolor\": \"white\", \"linecolor\": \"white\", \"ticks\": \"\"}, \"bgcolor\": \"#E5ECF6\", \"radialaxis\": {\"gridcolor\": \"white\", \"linecolor\": \"white\", \"ticks\": \"\"}}, \"scene\": {\"xaxis\": {\"backgroundcolor\": \"#E5ECF6\", \"gridcolor\": \"white\", \"gridwidth\": 2, \"linecolor\": \"white\", \"showbackground\": true, \"ticks\": \"\", \"zerolinecolor\": \"white\"}, \"yaxis\": {\"backgroundcolor\": \"#E5ECF6\", \"gridcolor\": \"white\", \"gridwidth\": 2, \"linecolor\": \"white\", \"showbackground\": true, \"ticks\": \"\", \"zerolinecolor\": \"white\"}, \"zaxis\": {\"backgroundcolor\": \"#E5ECF6\", \"gridcolor\": \"white\", \"gridwidth\": 2, \"linecolor\": \"white\", \"showbackground\": true, \"ticks\": \"\", \"zerolinecolor\": \"white\"}}, \"shapedefaults\": {\"line\": {\"color\": \"#2a3f5f\"}}, \"ternary\": {\"aaxis\": {\"gridcolor\": \"white\", \"linecolor\": \"white\", \"ticks\": \"\"}, \"baxis\": {\"gridcolor\": \"white\", \"linecolor\": \"white\", \"ticks\": \"\"}, \"bgcolor\": \"#E5ECF6\", \"caxis\": {\"gridcolor\": \"white\", \"linecolor\": \"white\", \"ticks\": \"\"}}, \"title\": {\"x\": 0.05}, \"xaxis\": {\"automargin\": true, \"gridcolor\": \"white\", \"linecolor\": \"white\", \"ticks\": \"\", \"title\": {\"standoff\": 15}, \"zerolinecolor\": \"white\", \"zerolinewidth\": 2}, \"yaxis\": {\"automargin\": true, \"gridcolor\": \"white\", \"linecolor\": \"white\", \"ticks\": \"\", \"title\": {\"standoff\": 15}, \"zerolinecolor\": \"white\", \"zerolinewidth\": 2}}}, \"title\": {\"text\": \"Hisense prices across all platforms\"}, \"xaxis\": {\"anchor\": \"y\", \"domain\": [0.0, 1.0], \"title\": {\"text\": \"\"}}, \"yaxis\": {\"anchor\": \"x\", \"domain\": [0.0, 1.0], \"tickprefix\": \"$\", \"title\": {\"text\": \"\"}}},\n",
       "                        {\"responsive\": true}\n",
       "                    ).then(function(){\n",
       "                            \n",
       "var gd = document.getElementById('c04bb73e-2e47-414b-a150-7c1ee5aa163f');\n",
       "var x = new MutationObserver(function (mutations, observer) {{\n",
       "        var display = window.getComputedStyle(gd).display;\n",
       "        if (!display || display === 'none') {{\n",
       "            console.log([gd, 'removed!']);\n",
       "            Plotly.purge(gd);\n",
       "            observer.disconnect();\n",
       "        }}\n",
       "}});\n",
       "\n",
       "// Listen for the removal of the full notebook cells\n",
       "var notebookContainer = gd.closest('#notebook-container');\n",
       "if (notebookContainer) {{\n",
       "    x.observe(notebookContainer, {childList: true});\n",
       "}}\n",
       "\n",
       "// Listen for the clearing of the current output cell\n",
       "var outputEl = gd.closest('.output');\n",
       "if (outputEl) {{\n",
       "    x.observe(outputEl, {childList: true});\n",
       "}}\n",
       "\n",
       "                        })\n",
       "                };\n",
       "                });\n",
       "            </script>\n",
       "        </div>"
      ]
     },
     "metadata": {},
     "output_type": "display_data"
    }
   ],
   "source": [
    "# plot with plotly\n",
    "fig = px.scatter(df.loc[df[\"Brand\"] == \"Hisense\"], x=\"Date-Seen\", y=\"Price-Min\",color=\"Manufacturer-Id\")\n",
    "\n",
    "# styling\n",
    "fig.update_yaxes(tickprefix=\"$\") # dollar sign on y-axis\n",
    "fig.update_xaxes(title_text='') # get rid of x-title\n",
    "fig.update_yaxes(title_text='') # get rid of y-title\n",
    "fig.update_traces(marker=dict(size=7, line=dict(width=1, color='DarkSlateGrey')), selector=dict(mode='markers')) # style markers\n",
    "fig.update_layout(\n",
    "    title=\"Hisense prices across all platforms\",\n",
    "    legend_title=\"Models\",\n",
    "    font=dict(\n",
    "        size=12,\n",
    "    )\n",
    ")\n",
    "\n",
    "fig.show()"
   ]
  },
  {
   "cell_type": "code",
   "execution_count": 25,
   "metadata": {},
   "outputs": [],
   "source": [
    "# df1 = df[df[\"Brand\"] == \"Hisense\"]\n",
    "\n",
    "# # Create as many colors as there are unique df['Website']\n",
    "# ManufacturerId = np.unique(df1['Manufacturer-Id'])\n",
    "# colors = [\"red\", \"blue\", \"green\", \"black\", \"pink\", \"slategray\", \"magenta\", \"cyan\", \"gold\", \"lime\"]\n",
    "\n",
    "\n",
    "# # Draw Plot for Each Website\n",
    "# plt.figure(figsize=(16, 10), dpi= 80, facecolor='w', edgecolor='k')\n",
    "\n",
    "# for i, ManufacturerId in enumerate(ManufacturerId):\n",
    "#     plt.scatter('Date-Seen', 'Price-Min', \n",
    "#                 data=df1.loc[df1[\"Manufacturer-Id\"] == ManufacturerId, :], \n",
    "#                 s=50, c=colors[i], label=str(ManufacturerId))\n",
    "    \n",
    "# plt.title(\"Hisense prices across all websites\", fontsize=22)\n",
    "# plt.legend(fontsize=12)"
   ]
  },
  {
   "cell_type": "code",
   "execution_count": 26,
   "metadata": {},
   "outputs": [],
   "source": [
    "# figure, ((ax1, ax2), (ax3, ax4)) = plt.subplots(2, 2, figsize=(16,10))\n",
    "# ax1.scatter('Date-Seen', 'Price-Min', data=df1.loc[df1.Website==\"bestbuy\"], s=50, c=\"red\")\n",
    "# ax2.scatter('Date-Seen', 'Price-Min', data=df1.loc[df1.Website==\"bhphotovideo\"], s=50, c=\"blue\")\n",
    "# ax3.scatter('Date-Seen', 'Price-Min', data=df1.loc[df1.Website==\"ebay\"], s=50, c=\"green\")\n",
    "# ax4.scatter('Date-Seen', 'Price-Min', data=df1.loc[df1.Website==\"walmart\"], s=50, c=\"black\")\n",
    "# ax1.title.set_text('Hisense - Besbuy')\n",
    "# ax2.title.set_text('Hisense - BHPhotovideo')\n",
    "# ax3.title.set_text('Hisense - eBay')\n",
    "# ax4.title.set_text('Hisense - Walmart')"
   ]
  },
  {
   "cell_type": "code",
   "execution_count": 27,
   "metadata": {},
   "outputs": [
    {
     "data": {
      "application/vnd.plotly.v1+json": {
       "config": {
        "plotlyServerURL": "https://plot.ly"
       },
       "data": [
        {
         "hovertemplate": "Manufacturer-Id=55UJ7700<br>Date-Seen=%{x}<br>Price-Min=%{y}<extra></extra>",
         "legendgroup": "55UJ7700",
         "marker": {
          "color": "#636efa",
          "line": {
           "color": "DarkSlateGrey",
           "width": 1
          },
          "size": 7,
          "symbol": "circle"
         },
         "mode": "markers",
         "name": "55UJ7700",
         "orientation": "v",
         "showlegend": true,
         "type": "scatter",
         "x": [
          "2018-05-27T16:00:00",
          "2018-05-28T10:00:00",
          "2018-04-26T17:00:00",
          "2018-03-09T18:00:00",
          "2018-05-26T16:00:00",
          "2018-03-09T18:00:00",
          "2018-04-26T17:00:00",
          "2018-05-06T17:00:00",
          "2018-02-05T20:00:00",
          "2018-05-26T16:00:00"
         ],
         "xaxis": "x",
         "y": [
          796.99,
          796.99,
          846.99,
          749,
          799.99,
          659.42,
          1296.99,
          1296.99,
          796.99,
          751.99
         ],
         "yaxis": "y"
        }
       ],
       "layout": {
        "font": {
         "size": 12
        },
        "legend": {
         "title": {
          "text": "Models"
         },
         "tracegroupgap": 0
        },
        "margin": {
         "t": 60
        },
        "template": {
         "data": {
          "bar": [
           {
            "error_x": {
             "color": "#2a3f5f"
            },
            "error_y": {
             "color": "#2a3f5f"
            },
            "marker": {
             "line": {
              "color": "#E5ECF6",
              "width": 0.5
             }
            },
            "type": "bar"
           }
          ],
          "barpolar": [
           {
            "marker": {
             "line": {
              "color": "#E5ECF6",
              "width": 0.5
             }
            },
            "type": "barpolar"
           }
          ],
          "carpet": [
           {
            "aaxis": {
             "endlinecolor": "#2a3f5f",
             "gridcolor": "white",
             "linecolor": "white",
             "minorgridcolor": "white",
             "startlinecolor": "#2a3f5f"
            },
            "baxis": {
             "endlinecolor": "#2a3f5f",
             "gridcolor": "white",
             "linecolor": "white",
             "minorgridcolor": "white",
             "startlinecolor": "#2a3f5f"
            },
            "type": "carpet"
           }
          ],
          "choropleth": [
           {
            "colorbar": {
             "outlinewidth": 0,
             "ticks": ""
            },
            "type": "choropleth"
           }
          ],
          "contour": [
           {
            "colorbar": {
             "outlinewidth": 0,
             "ticks": ""
            },
            "colorscale": [
             [
              0,
              "#0d0887"
             ],
             [
              0.1111111111111111,
              "#46039f"
             ],
             [
              0.2222222222222222,
              "#7201a8"
             ],
             [
              0.3333333333333333,
              "#9c179e"
             ],
             [
              0.4444444444444444,
              "#bd3786"
             ],
             [
              0.5555555555555556,
              "#d8576b"
             ],
             [
              0.6666666666666666,
              "#ed7953"
             ],
             [
              0.7777777777777778,
              "#fb9f3a"
             ],
             [
              0.8888888888888888,
              "#fdca26"
             ],
             [
              1,
              "#f0f921"
             ]
            ],
            "type": "contour"
           }
          ],
          "contourcarpet": [
           {
            "colorbar": {
             "outlinewidth": 0,
             "ticks": ""
            },
            "type": "contourcarpet"
           }
          ],
          "heatmap": [
           {
            "colorbar": {
             "outlinewidth": 0,
             "ticks": ""
            },
            "colorscale": [
             [
              0,
              "#0d0887"
             ],
             [
              0.1111111111111111,
              "#46039f"
             ],
             [
              0.2222222222222222,
              "#7201a8"
             ],
             [
              0.3333333333333333,
              "#9c179e"
             ],
             [
              0.4444444444444444,
              "#bd3786"
             ],
             [
              0.5555555555555556,
              "#d8576b"
             ],
             [
              0.6666666666666666,
              "#ed7953"
             ],
             [
              0.7777777777777778,
              "#fb9f3a"
             ],
             [
              0.8888888888888888,
              "#fdca26"
             ],
             [
              1,
              "#f0f921"
             ]
            ],
            "type": "heatmap"
           }
          ],
          "heatmapgl": [
           {
            "colorbar": {
             "outlinewidth": 0,
             "ticks": ""
            },
            "colorscale": [
             [
              0,
              "#0d0887"
             ],
             [
              0.1111111111111111,
              "#46039f"
             ],
             [
              0.2222222222222222,
              "#7201a8"
             ],
             [
              0.3333333333333333,
              "#9c179e"
             ],
             [
              0.4444444444444444,
              "#bd3786"
             ],
             [
              0.5555555555555556,
              "#d8576b"
             ],
             [
              0.6666666666666666,
              "#ed7953"
             ],
             [
              0.7777777777777778,
              "#fb9f3a"
             ],
             [
              0.8888888888888888,
              "#fdca26"
             ],
             [
              1,
              "#f0f921"
             ]
            ],
            "type": "heatmapgl"
           }
          ],
          "histogram": [
           {
            "marker": {
             "colorbar": {
              "outlinewidth": 0,
              "ticks": ""
             }
            },
            "type": "histogram"
           }
          ],
          "histogram2d": [
           {
            "colorbar": {
             "outlinewidth": 0,
             "ticks": ""
            },
            "colorscale": [
             [
              0,
              "#0d0887"
             ],
             [
              0.1111111111111111,
              "#46039f"
             ],
             [
              0.2222222222222222,
              "#7201a8"
             ],
             [
              0.3333333333333333,
              "#9c179e"
             ],
             [
              0.4444444444444444,
              "#bd3786"
             ],
             [
              0.5555555555555556,
              "#d8576b"
             ],
             [
              0.6666666666666666,
              "#ed7953"
             ],
             [
              0.7777777777777778,
              "#fb9f3a"
             ],
             [
              0.8888888888888888,
              "#fdca26"
             ],
             [
              1,
              "#f0f921"
             ]
            ],
            "type": "histogram2d"
           }
          ],
          "histogram2dcontour": [
           {
            "colorbar": {
             "outlinewidth": 0,
             "ticks": ""
            },
            "colorscale": [
             [
              0,
              "#0d0887"
             ],
             [
              0.1111111111111111,
              "#46039f"
             ],
             [
              0.2222222222222222,
              "#7201a8"
             ],
             [
              0.3333333333333333,
              "#9c179e"
             ],
             [
              0.4444444444444444,
              "#bd3786"
             ],
             [
              0.5555555555555556,
              "#d8576b"
             ],
             [
              0.6666666666666666,
              "#ed7953"
             ],
             [
              0.7777777777777778,
              "#fb9f3a"
             ],
             [
              0.8888888888888888,
              "#fdca26"
             ],
             [
              1,
              "#f0f921"
             ]
            ],
            "type": "histogram2dcontour"
           }
          ],
          "mesh3d": [
           {
            "colorbar": {
             "outlinewidth": 0,
             "ticks": ""
            },
            "type": "mesh3d"
           }
          ],
          "parcoords": [
           {
            "line": {
             "colorbar": {
              "outlinewidth": 0,
              "ticks": ""
             }
            },
            "type": "parcoords"
           }
          ],
          "pie": [
           {
            "automargin": true,
            "type": "pie"
           }
          ],
          "scatter": [
           {
            "marker": {
             "colorbar": {
              "outlinewidth": 0,
              "ticks": ""
             }
            },
            "type": "scatter"
           }
          ],
          "scatter3d": [
           {
            "line": {
             "colorbar": {
              "outlinewidth": 0,
              "ticks": ""
             }
            },
            "marker": {
             "colorbar": {
              "outlinewidth": 0,
              "ticks": ""
             }
            },
            "type": "scatter3d"
           }
          ],
          "scattercarpet": [
           {
            "marker": {
             "colorbar": {
              "outlinewidth": 0,
              "ticks": ""
             }
            },
            "type": "scattercarpet"
           }
          ],
          "scattergeo": [
           {
            "marker": {
             "colorbar": {
              "outlinewidth": 0,
              "ticks": ""
             }
            },
            "type": "scattergeo"
           }
          ],
          "scattergl": [
           {
            "marker": {
             "colorbar": {
              "outlinewidth": 0,
              "ticks": ""
             }
            },
            "type": "scattergl"
           }
          ],
          "scattermapbox": [
           {
            "marker": {
             "colorbar": {
              "outlinewidth": 0,
              "ticks": ""
             }
            },
            "type": "scattermapbox"
           }
          ],
          "scatterpolar": [
           {
            "marker": {
             "colorbar": {
              "outlinewidth": 0,
              "ticks": ""
             }
            },
            "type": "scatterpolar"
           }
          ],
          "scatterpolargl": [
           {
            "marker": {
             "colorbar": {
              "outlinewidth": 0,
              "ticks": ""
             }
            },
            "type": "scatterpolargl"
           }
          ],
          "scatterternary": [
           {
            "marker": {
             "colorbar": {
              "outlinewidth": 0,
              "ticks": ""
             }
            },
            "type": "scatterternary"
           }
          ],
          "surface": [
           {
            "colorbar": {
             "outlinewidth": 0,
             "ticks": ""
            },
            "colorscale": [
             [
              0,
              "#0d0887"
             ],
             [
              0.1111111111111111,
              "#46039f"
             ],
             [
              0.2222222222222222,
              "#7201a8"
             ],
             [
              0.3333333333333333,
              "#9c179e"
             ],
             [
              0.4444444444444444,
              "#bd3786"
             ],
             [
              0.5555555555555556,
              "#d8576b"
             ],
             [
              0.6666666666666666,
              "#ed7953"
             ],
             [
              0.7777777777777778,
              "#fb9f3a"
             ],
             [
              0.8888888888888888,
              "#fdca26"
             ],
             [
              1,
              "#f0f921"
             ]
            ],
            "type": "surface"
           }
          ],
          "table": [
           {
            "cells": {
             "fill": {
              "color": "#EBF0F8"
             },
             "line": {
              "color": "white"
             }
            },
            "header": {
             "fill": {
              "color": "#C8D4E3"
             },
             "line": {
              "color": "white"
             }
            },
            "type": "table"
           }
          ]
         },
         "layout": {
          "annotationdefaults": {
           "arrowcolor": "#2a3f5f",
           "arrowhead": 0,
           "arrowwidth": 1
          },
          "coloraxis": {
           "colorbar": {
            "outlinewidth": 0,
            "ticks": ""
           }
          },
          "colorscale": {
           "diverging": [
            [
             0,
             "#8e0152"
            ],
            [
             0.1,
             "#c51b7d"
            ],
            [
             0.2,
             "#de77ae"
            ],
            [
             0.3,
             "#f1b6da"
            ],
            [
             0.4,
             "#fde0ef"
            ],
            [
             0.5,
             "#f7f7f7"
            ],
            [
             0.6,
             "#e6f5d0"
            ],
            [
             0.7,
             "#b8e186"
            ],
            [
             0.8,
             "#7fbc41"
            ],
            [
             0.9,
             "#4d9221"
            ],
            [
             1,
             "#276419"
            ]
           ],
           "sequential": [
            [
             0,
             "#0d0887"
            ],
            [
             0.1111111111111111,
             "#46039f"
            ],
            [
             0.2222222222222222,
             "#7201a8"
            ],
            [
             0.3333333333333333,
             "#9c179e"
            ],
            [
             0.4444444444444444,
             "#bd3786"
            ],
            [
             0.5555555555555556,
             "#d8576b"
            ],
            [
             0.6666666666666666,
             "#ed7953"
            ],
            [
             0.7777777777777778,
             "#fb9f3a"
            ],
            [
             0.8888888888888888,
             "#fdca26"
            ],
            [
             1,
             "#f0f921"
            ]
           ],
           "sequentialminus": [
            [
             0,
             "#0d0887"
            ],
            [
             0.1111111111111111,
             "#46039f"
            ],
            [
             0.2222222222222222,
             "#7201a8"
            ],
            [
             0.3333333333333333,
             "#9c179e"
            ],
            [
             0.4444444444444444,
             "#bd3786"
            ],
            [
             0.5555555555555556,
             "#d8576b"
            ],
            [
             0.6666666666666666,
             "#ed7953"
            ],
            [
             0.7777777777777778,
             "#fb9f3a"
            ],
            [
             0.8888888888888888,
             "#fdca26"
            ],
            [
             1,
             "#f0f921"
            ]
           ]
          },
          "colorway": [
           "#636efa",
           "#EF553B",
           "#00cc96",
           "#ab63fa",
           "#FFA15A",
           "#19d3f3",
           "#FF6692",
           "#B6E880",
           "#FF97FF",
           "#FECB52"
          ],
          "font": {
           "color": "#2a3f5f"
          },
          "geo": {
           "bgcolor": "white",
           "lakecolor": "white",
           "landcolor": "#E5ECF6",
           "showlakes": true,
           "showland": true,
           "subunitcolor": "white"
          },
          "hoverlabel": {
           "align": "left"
          },
          "hovermode": "closest",
          "mapbox": {
           "style": "light"
          },
          "paper_bgcolor": "white",
          "plot_bgcolor": "#E5ECF6",
          "polar": {
           "angularaxis": {
            "gridcolor": "white",
            "linecolor": "white",
            "ticks": ""
           },
           "bgcolor": "#E5ECF6",
           "radialaxis": {
            "gridcolor": "white",
            "linecolor": "white",
            "ticks": ""
           }
          },
          "scene": {
           "xaxis": {
            "backgroundcolor": "#E5ECF6",
            "gridcolor": "white",
            "gridwidth": 2,
            "linecolor": "white",
            "showbackground": true,
            "ticks": "",
            "zerolinecolor": "white"
           },
           "yaxis": {
            "backgroundcolor": "#E5ECF6",
            "gridcolor": "white",
            "gridwidth": 2,
            "linecolor": "white",
            "showbackground": true,
            "ticks": "",
            "zerolinecolor": "white"
           },
           "zaxis": {
            "backgroundcolor": "#E5ECF6",
            "gridcolor": "white",
            "gridwidth": 2,
            "linecolor": "white",
            "showbackground": true,
            "ticks": "",
            "zerolinecolor": "white"
           }
          },
          "shapedefaults": {
           "line": {
            "color": "#2a3f5f"
           }
          },
          "ternary": {
           "aaxis": {
            "gridcolor": "white",
            "linecolor": "white",
            "ticks": ""
           },
           "baxis": {
            "gridcolor": "white",
            "linecolor": "white",
            "ticks": ""
           },
           "bgcolor": "#E5ECF6",
           "caxis": {
            "gridcolor": "white",
            "linecolor": "white",
            "ticks": ""
           }
          },
          "title": {
           "x": 0.05
          },
          "xaxis": {
           "automargin": true,
           "gridcolor": "white",
           "linecolor": "white",
           "ticks": "",
           "title": {
            "standoff": 15
           },
           "zerolinecolor": "white",
           "zerolinewidth": 2
          },
          "yaxis": {
           "automargin": true,
           "gridcolor": "white",
           "linecolor": "white",
           "ticks": "",
           "title": {
            "standoff": 15
           },
           "zerolinecolor": "white",
           "zerolinewidth": 2
          }
         }
        },
        "title": {
         "text": "LG prices across all platforms"
        },
        "xaxis": {
         "anchor": "y",
         "domain": [
          0,
          1
         ],
         "title": {
          "text": ""
         }
        },
        "yaxis": {
         "anchor": "x",
         "domain": [
          0,
          1
         ],
         "tickprefix": "$",
         "title": {
          "text": ""
         }
        }
       }
      },
      "text/html": [
       "<div>\n",
       "        \n",
       "        \n",
       "            <div id=\"16688337-3e01-4229-b32c-0fe368b3c143\" class=\"plotly-graph-div\" style=\"height:525px; width:100%;\"></div>\n",
       "            <script type=\"text/javascript\">\n",
       "                require([\"plotly\"], function(Plotly) {\n",
       "                    window.PLOTLYENV=window.PLOTLYENV || {};\n",
       "                    \n",
       "                if (document.getElementById(\"16688337-3e01-4229-b32c-0fe368b3c143\")) {\n",
       "                    Plotly.newPlot(\n",
       "                        '16688337-3e01-4229-b32c-0fe368b3c143',\n",
       "                        [{\"hovertemplate\": \"Manufacturer-Id=55UJ7700<br>Date-Seen=%{x}<br>Price-Min=%{y}<extra></extra>\", \"legendgroup\": \"55UJ7700\", \"marker\": {\"color\": \"#636efa\", \"line\": {\"color\": \"DarkSlateGrey\", \"width\": 1}, \"size\": 7, \"symbol\": \"circle\"}, \"mode\": \"markers\", \"name\": \"55UJ7700\", \"orientation\": \"v\", \"showlegend\": true, \"type\": \"scatter\", \"x\": [\"2018-05-27T16:00:00\", \"2018-05-28T10:00:00\", \"2018-04-26T17:00:00\", \"2018-03-09T18:00:00\", \"2018-05-26T16:00:00\", \"2018-03-09T18:00:00\", \"2018-04-26T17:00:00\", \"2018-05-06T17:00:00\", \"2018-02-05T20:00:00\", \"2018-05-26T16:00:00\"], \"xaxis\": \"x\", \"y\": [796.99, 796.99, 846.99, 749.0, 799.99, 659.42, 1296.99, 1296.99, 796.99, 751.99], \"yaxis\": \"y\"}],\n",
       "                        {\"font\": {\"size\": 12}, \"legend\": {\"title\": {\"text\": \"Models\"}, \"tracegroupgap\": 0}, \"margin\": {\"t\": 60}, \"template\": {\"data\": {\"bar\": [{\"error_x\": {\"color\": \"#2a3f5f\"}, \"error_y\": {\"color\": \"#2a3f5f\"}, \"marker\": {\"line\": {\"color\": \"#E5ECF6\", \"width\": 0.5}}, \"type\": \"bar\"}], \"barpolar\": [{\"marker\": {\"line\": {\"color\": \"#E5ECF6\", \"width\": 0.5}}, \"type\": \"barpolar\"}], \"carpet\": [{\"aaxis\": {\"endlinecolor\": \"#2a3f5f\", \"gridcolor\": \"white\", \"linecolor\": \"white\", \"minorgridcolor\": \"white\", \"startlinecolor\": \"#2a3f5f\"}, \"baxis\": {\"endlinecolor\": \"#2a3f5f\", \"gridcolor\": \"white\", \"linecolor\": \"white\", \"minorgridcolor\": \"white\", \"startlinecolor\": \"#2a3f5f\"}, \"type\": \"carpet\"}], \"choropleth\": [{\"colorbar\": {\"outlinewidth\": 0, \"ticks\": \"\"}, \"type\": \"choropleth\"}], \"contour\": [{\"colorbar\": {\"outlinewidth\": 0, \"ticks\": \"\"}, \"colorscale\": [[0.0, \"#0d0887\"], [0.1111111111111111, \"#46039f\"], [0.2222222222222222, \"#7201a8\"], [0.3333333333333333, \"#9c179e\"], [0.4444444444444444, \"#bd3786\"], [0.5555555555555556, \"#d8576b\"], [0.6666666666666666, \"#ed7953\"], [0.7777777777777778, \"#fb9f3a\"], [0.8888888888888888, \"#fdca26\"], [1.0, \"#f0f921\"]], \"type\": \"contour\"}], \"contourcarpet\": [{\"colorbar\": {\"outlinewidth\": 0, \"ticks\": \"\"}, \"type\": \"contourcarpet\"}], \"heatmap\": [{\"colorbar\": {\"outlinewidth\": 0, \"ticks\": \"\"}, \"colorscale\": [[0.0, \"#0d0887\"], [0.1111111111111111, \"#46039f\"], [0.2222222222222222, \"#7201a8\"], [0.3333333333333333, \"#9c179e\"], [0.4444444444444444, \"#bd3786\"], [0.5555555555555556, \"#d8576b\"], [0.6666666666666666, \"#ed7953\"], [0.7777777777777778, \"#fb9f3a\"], [0.8888888888888888, \"#fdca26\"], [1.0, \"#f0f921\"]], \"type\": \"heatmap\"}], \"heatmapgl\": [{\"colorbar\": {\"outlinewidth\": 0, \"ticks\": \"\"}, \"colorscale\": [[0.0, \"#0d0887\"], [0.1111111111111111, \"#46039f\"], [0.2222222222222222, \"#7201a8\"], [0.3333333333333333, \"#9c179e\"], [0.4444444444444444, \"#bd3786\"], [0.5555555555555556, \"#d8576b\"], [0.6666666666666666, \"#ed7953\"], [0.7777777777777778, \"#fb9f3a\"], [0.8888888888888888, \"#fdca26\"], [1.0, \"#f0f921\"]], \"type\": \"heatmapgl\"}], \"histogram\": [{\"marker\": {\"colorbar\": {\"outlinewidth\": 0, \"ticks\": \"\"}}, \"type\": \"histogram\"}], \"histogram2d\": [{\"colorbar\": {\"outlinewidth\": 0, \"ticks\": \"\"}, \"colorscale\": [[0.0, \"#0d0887\"], [0.1111111111111111, \"#46039f\"], [0.2222222222222222, \"#7201a8\"], [0.3333333333333333, \"#9c179e\"], [0.4444444444444444, \"#bd3786\"], [0.5555555555555556, \"#d8576b\"], [0.6666666666666666, \"#ed7953\"], [0.7777777777777778, \"#fb9f3a\"], [0.8888888888888888, \"#fdca26\"], [1.0, \"#f0f921\"]], \"type\": \"histogram2d\"}], \"histogram2dcontour\": [{\"colorbar\": {\"outlinewidth\": 0, \"ticks\": \"\"}, \"colorscale\": [[0.0, \"#0d0887\"], [0.1111111111111111, \"#46039f\"], [0.2222222222222222, \"#7201a8\"], [0.3333333333333333, \"#9c179e\"], [0.4444444444444444, \"#bd3786\"], [0.5555555555555556, \"#d8576b\"], [0.6666666666666666, \"#ed7953\"], [0.7777777777777778, \"#fb9f3a\"], [0.8888888888888888, \"#fdca26\"], [1.0, \"#f0f921\"]], \"type\": \"histogram2dcontour\"}], \"mesh3d\": [{\"colorbar\": {\"outlinewidth\": 0, \"ticks\": \"\"}, \"type\": \"mesh3d\"}], \"parcoords\": [{\"line\": {\"colorbar\": {\"outlinewidth\": 0, \"ticks\": \"\"}}, \"type\": \"parcoords\"}], \"pie\": [{\"automargin\": true, \"type\": \"pie\"}], \"scatter\": [{\"marker\": {\"colorbar\": {\"outlinewidth\": 0, \"ticks\": \"\"}}, \"type\": \"scatter\"}], \"scatter3d\": [{\"line\": {\"colorbar\": {\"outlinewidth\": 0, \"ticks\": \"\"}}, \"marker\": {\"colorbar\": {\"outlinewidth\": 0, \"ticks\": \"\"}}, \"type\": \"scatter3d\"}], \"scattercarpet\": [{\"marker\": {\"colorbar\": {\"outlinewidth\": 0, \"ticks\": \"\"}}, \"type\": \"scattercarpet\"}], \"scattergeo\": [{\"marker\": {\"colorbar\": {\"outlinewidth\": 0, \"ticks\": \"\"}}, \"type\": \"scattergeo\"}], \"scattergl\": [{\"marker\": {\"colorbar\": {\"outlinewidth\": 0, \"ticks\": \"\"}}, \"type\": \"scattergl\"}], \"scattermapbox\": [{\"marker\": {\"colorbar\": {\"outlinewidth\": 0, \"ticks\": \"\"}}, \"type\": \"scattermapbox\"}], \"scatterpolar\": [{\"marker\": {\"colorbar\": {\"outlinewidth\": 0, \"ticks\": \"\"}}, \"type\": \"scatterpolar\"}], \"scatterpolargl\": [{\"marker\": {\"colorbar\": {\"outlinewidth\": 0, \"ticks\": \"\"}}, \"type\": \"scatterpolargl\"}], \"scatterternary\": [{\"marker\": {\"colorbar\": {\"outlinewidth\": 0, \"ticks\": \"\"}}, \"type\": \"scatterternary\"}], \"surface\": [{\"colorbar\": {\"outlinewidth\": 0, \"ticks\": \"\"}, \"colorscale\": [[0.0, \"#0d0887\"], [0.1111111111111111, \"#46039f\"], [0.2222222222222222, \"#7201a8\"], [0.3333333333333333, \"#9c179e\"], [0.4444444444444444, \"#bd3786\"], [0.5555555555555556, \"#d8576b\"], [0.6666666666666666, \"#ed7953\"], [0.7777777777777778, \"#fb9f3a\"], [0.8888888888888888, \"#fdca26\"], [1.0, \"#f0f921\"]], \"type\": \"surface\"}], \"table\": [{\"cells\": {\"fill\": {\"color\": \"#EBF0F8\"}, \"line\": {\"color\": \"white\"}}, \"header\": {\"fill\": {\"color\": \"#C8D4E3\"}, \"line\": {\"color\": \"white\"}}, \"type\": \"table\"}]}, \"layout\": {\"annotationdefaults\": {\"arrowcolor\": \"#2a3f5f\", \"arrowhead\": 0, \"arrowwidth\": 1}, \"coloraxis\": {\"colorbar\": {\"outlinewidth\": 0, \"ticks\": \"\"}}, \"colorscale\": {\"diverging\": [[0, \"#8e0152\"], [0.1, \"#c51b7d\"], [0.2, \"#de77ae\"], [0.3, \"#f1b6da\"], [0.4, \"#fde0ef\"], [0.5, \"#f7f7f7\"], [0.6, \"#e6f5d0\"], [0.7, \"#b8e186\"], [0.8, \"#7fbc41\"], [0.9, \"#4d9221\"], [1, \"#276419\"]], \"sequential\": [[0.0, \"#0d0887\"], [0.1111111111111111, \"#46039f\"], [0.2222222222222222, \"#7201a8\"], [0.3333333333333333, \"#9c179e\"], [0.4444444444444444, \"#bd3786\"], [0.5555555555555556, \"#d8576b\"], [0.6666666666666666, \"#ed7953\"], [0.7777777777777778, \"#fb9f3a\"], [0.8888888888888888, \"#fdca26\"], [1.0, \"#f0f921\"]], \"sequentialminus\": [[0.0, \"#0d0887\"], [0.1111111111111111, \"#46039f\"], [0.2222222222222222, \"#7201a8\"], [0.3333333333333333, \"#9c179e\"], [0.4444444444444444, \"#bd3786\"], [0.5555555555555556, \"#d8576b\"], [0.6666666666666666, \"#ed7953\"], [0.7777777777777778, \"#fb9f3a\"], [0.8888888888888888, \"#fdca26\"], [1.0, \"#f0f921\"]]}, \"colorway\": [\"#636efa\", \"#EF553B\", \"#00cc96\", \"#ab63fa\", \"#FFA15A\", \"#19d3f3\", \"#FF6692\", \"#B6E880\", \"#FF97FF\", \"#FECB52\"], \"font\": {\"color\": \"#2a3f5f\"}, \"geo\": {\"bgcolor\": \"white\", \"lakecolor\": \"white\", \"landcolor\": \"#E5ECF6\", \"showlakes\": true, \"showland\": true, \"subunitcolor\": \"white\"}, \"hoverlabel\": {\"align\": \"left\"}, \"hovermode\": \"closest\", \"mapbox\": {\"style\": \"light\"}, \"paper_bgcolor\": \"white\", \"plot_bgcolor\": \"#E5ECF6\", \"polar\": {\"angularaxis\": {\"gridcolor\": \"white\", \"linecolor\": \"white\", \"ticks\": \"\"}, \"bgcolor\": \"#E5ECF6\", \"radialaxis\": {\"gridcolor\": \"white\", \"linecolor\": \"white\", \"ticks\": \"\"}}, \"scene\": {\"xaxis\": {\"backgroundcolor\": \"#E5ECF6\", \"gridcolor\": \"white\", \"gridwidth\": 2, \"linecolor\": \"white\", \"showbackground\": true, \"ticks\": \"\", \"zerolinecolor\": \"white\"}, \"yaxis\": {\"backgroundcolor\": \"#E5ECF6\", \"gridcolor\": \"white\", \"gridwidth\": 2, \"linecolor\": \"white\", \"showbackground\": true, \"ticks\": \"\", \"zerolinecolor\": \"white\"}, \"zaxis\": {\"backgroundcolor\": \"#E5ECF6\", \"gridcolor\": \"white\", \"gridwidth\": 2, \"linecolor\": \"white\", \"showbackground\": true, \"ticks\": \"\", \"zerolinecolor\": \"white\"}}, \"shapedefaults\": {\"line\": {\"color\": \"#2a3f5f\"}}, \"ternary\": {\"aaxis\": {\"gridcolor\": \"white\", \"linecolor\": \"white\", \"ticks\": \"\"}, \"baxis\": {\"gridcolor\": \"white\", \"linecolor\": \"white\", \"ticks\": \"\"}, \"bgcolor\": \"#E5ECF6\", \"caxis\": {\"gridcolor\": \"white\", \"linecolor\": \"white\", \"ticks\": \"\"}}, \"title\": {\"x\": 0.05}, \"xaxis\": {\"automargin\": true, \"gridcolor\": \"white\", \"linecolor\": \"white\", \"ticks\": \"\", \"title\": {\"standoff\": 15}, \"zerolinecolor\": \"white\", \"zerolinewidth\": 2}, \"yaxis\": {\"automargin\": true, \"gridcolor\": \"white\", \"linecolor\": \"white\", \"ticks\": \"\", \"title\": {\"standoff\": 15}, \"zerolinecolor\": \"white\", \"zerolinewidth\": 2}}}, \"title\": {\"text\": \"LG prices across all platforms\"}, \"xaxis\": {\"anchor\": \"y\", \"domain\": [0.0, 1.0], \"title\": {\"text\": \"\"}}, \"yaxis\": {\"anchor\": \"x\", \"domain\": [0.0, 1.0], \"tickprefix\": \"$\", \"title\": {\"text\": \"\"}}},\n",
       "                        {\"responsive\": true}\n",
       "                    ).then(function(){\n",
       "                            \n",
       "var gd = document.getElementById('16688337-3e01-4229-b32c-0fe368b3c143');\n",
       "var x = new MutationObserver(function (mutations, observer) {{\n",
       "        var display = window.getComputedStyle(gd).display;\n",
       "        if (!display || display === 'none') {{\n",
       "            console.log([gd, 'removed!']);\n",
       "            Plotly.purge(gd);\n",
       "            observer.disconnect();\n",
       "        }}\n",
       "}});\n",
       "\n",
       "// Listen for the removal of the full notebook cells\n",
       "var notebookContainer = gd.closest('#notebook-container');\n",
       "if (notebookContainer) {{\n",
       "    x.observe(notebookContainer, {childList: true});\n",
       "}}\n",
       "\n",
       "// Listen for the clearing of the current output cell\n",
       "var outputEl = gd.closest('.output');\n",
       "if (outputEl) {{\n",
       "    x.observe(outputEl, {childList: true});\n",
       "}}\n",
       "\n",
       "                        })\n",
       "                };\n",
       "                });\n",
       "            </script>\n",
       "        </div>"
      ]
     },
     "metadata": {},
     "output_type": "display_data"
    }
   ],
   "source": [
    "# plot with plotly\n",
    "fig = px.scatter(df.loc[df[\"Brand\"] == \"Lg\"], x=\"Date-Seen\", y=\"Price-Min\",color=\"Manufacturer-Id\")\n",
    "\n",
    "# styling\n",
    "fig.update_yaxes(tickprefix=\"$\") # dollar sign on y-axis\n",
    "fig.update_xaxes(title_text='') # get rid of x-title\n",
    "fig.update_yaxes(title_text='') # get rid of y-title\n",
    "fig.update_traces(marker=dict(size=7, line=dict(width=1, color='DarkSlateGrey')), selector=dict(mode='markers')) # style markers\n",
    "fig.update_layout(\n",
    "    title=\"LG prices across all platforms\",\n",
    "    legend_title=\"Models\",\n",
    "    font=dict(\n",
    "        size=12,\n",
    "    )\n",
    ")\n",
    "\n",
    "fig.show()"
   ]
  },
  {
   "cell_type": "code",
   "execution_count": 28,
   "metadata": {},
   "outputs": [],
   "source": [
    "# df1 = df[df[\"Brand\"] == \"Lg\"]\n",
    "\n",
    "# # Create as many colors as there are unique df['Website']\n",
    "# ManufacturerId = np.unique(df1['Manufacturer-Id'])\n",
    "# colors = [\"red\", \"blue\", \"green\", \"black\", \"pink\", \"slategray\", \"magenta\", \"cyan\", \"gold\", \"lime\"]\n",
    "\n",
    "\n",
    "# # Draw Plot for Each Website\n",
    "# plt.figure(figsize=(16, 10), dpi= 80, facecolor='w', edgecolor='k')\n",
    "\n",
    "# for i, ManufacturerId in enumerate(ManufacturerId):\n",
    "#     plt.scatter('Date-Seen', 'Price-Min', \n",
    "#                 data=df1.loc[df1[\"Manufacturer-Id\"] == ManufacturerId, :], \n",
    "#                 s=50, c=colors[i], label=str(ManufacturerId))\n",
    "    \n",
    "# plt.title(\"LG prices across all websites\", fontsize=22)\n",
    "# plt.legend(fontsize=12)"
   ]
  },
  {
   "cell_type": "code",
   "execution_count": 29,
   "metadata": {},
   "outputs": [],
   "source": [
    "# figure, ((ax1, ax2), (ax3, ax4)) = plt.subplots(2, 2, figsize=(16,10))\n",
    "# ax1.scatter('Date-Seen', 'Price-Min', data=df1.loc[df1.Website==\"bestbuy\"], s=50, c=\"red\")\n",
    "# ax2.scatter('Date-Seen', 'Price-Min', data=df1.loc[df1.Website==\"bhphotovideo\"], s=50, c=\"blue\")\n",
    "# ax3.scatter('Date-Seen', 'Price-Min', data=df1.loc[df1.Website==\"ebay\"], s=50, c=\"green\")\n",
    "# ax4.scatter('Date-Seen', 'Price-Min', data=df1.loc[df1.Website==\"walmart\"], s=50, c=\"black\")\n",
    "# ax1.title.set_text('LG - Besbuy')\n",
    "# ax2.title.set_text('LG - BHPhotovideo')\n",
    "# ax3.title.set_text('LG - eBay')\n",
    "# ax4.title.set_text('LG - Walmart')"
   ]
  },
  {
   "cell_type": "code",
   "execution_count": 30,
   "metadata": {},
   "outputs": [
    {
     "data": {
      "application/vnd.plotly.v1+json": {
       "config": {
        "plotlyServerURL": "https://plot.ly"
       },
       "data": [
        {
         "hovertemplate": "Manufacturer-Id=UN55KU7000FXZA<br>Date-Seen=%{x}<br>Price-Min=%{y}<extra></extra>",
         "legendgroup": "UN55KU7000FXZA",
         "marker": {
          "color": "#636efa",
          "line": {
           "color": "DarkSlateGrey",
           "width": 1
          },
          "size": 7,
          "symbol": "circle"
         },
         "mode": "markers",
         "name": "UN55KU7000FXZA",
         "orientation": "v",
         "showlegend": true,
         "type": "scatter",
         "x": [
          "2017-12-06T01:00:00",
          "2017-11-08T20:00:00",
          "2017-10-24T01:00:00",
          "2017-08-14T14:00:00",
          "2017-07-26T01:00:00",
          "2017-07-25T23:00:00",
          "2017-07-23T11:00:00",
          "2017-07-24T21:00:00",
          "2017-07-25T18:00:00",
          "2017-07-10T04:00:00",
          "2017-07-14T12:00:00",
          "2017-07-11T07:00:00",
          "2017-07-11T22:00:00",
          "2017-03-30T05:00:00",
          "2017-03-10T19:00:00",
          "2017-03-30T05:00:00",
          "2017-03-10T19:00:00",
          "2017-03-04T10:00:00",
          "2017-03-04T10:00:00"
         ],
         "xaxis": "x",
         "y": [
          1197.99,
          1197.99,
          1197.99,
          1197.99,
          1197.99,
          1197.99,
          489.99,
          489.99,
          489.99,
          499.99,
          499.99,
          499.99,
          499.99,
          999.99,
          999.99,
          809.99,
          909.99,
          1199.99,
          1
         ],
         "yaxis": "y"
        },
        {
         "hovertemplate": "Manufacturer-Id=QN55Q8FNBFXZA<br>Date-Seen=%{x}<br>Price-Min=%{y}<extra></extra>",
         "legendgroup": "QN55Q8FNBFXZA",
         "marker": {
          "color": "#EF553B",
          "line": {
           "color": "DarkSlateGrey",
           "width": 1
          },
          "size": 7,
          "symbol": "circle"
         },
         "mode": "markers",
         "name": "QN55Q8FNBFXZA",
         "orientation": "v",
         "showlegend": true,
         "type": "scatter",
         "x": [
          "2018-05-26T15:00:00",
          "2018-04-26T17:00:00",
          "2018-04-26T17:00:00",
          "2018-06-01T09:00:00",
          "2018-05-26T15:00:00",
          "2018-04-26T17:00:00",
          "2018-06-01T09:00:00",
          "2018-05-27T16:00:00",
          "2018-05-24T11:00:00",
          "2018-05-28T10:00:00"
         ],
         "xaxis": "x",
         "y": [
          2199.99,
          2097.99,
          2097.99,
          1997.99,
          1999.99,
          2197.99,
          2197.99,
          1997.99,
          1997.99,
          1997.99
         ],
         "yaxis": "y"
        },
        {
         "hovertemplate": "Manufacturer-Id=UN55MU6490FXZA<br>Date-Seen=%{x}<br>Price-Min=%{y}<extra></extra>",
         "legendgroup": "UN55MU6490FXZA",
         "marker": {
          "color": "#00cc96",
          "line": {
           "color": "DarkSlateGrey",
           "width": 1
          },
          "size": 7,
          "symbol": "circle"
         },
         "mode": "markers",
         "name": "UN55MU6490FXZA",
         "orientation": "v",
         "showlegend": true,
         "type": "scatter",
         "x": [
          "2017-10-24T01:00:00",
          "2018-05-26T07:00:00",
          "2018-05-27T16:00:00",
          "2018-05-28T11:00:00",
          "2018-05-24T11:00:00",
          "2017-11-16T19:00:00",
          "2017-11-08T20:00:00",
          "2018-04-26T17:00:00",
          "2018-05-26T07:00:00",
          "2017-09-17T08:00:00",
          "2017-11-18T13:00:00",
          "2017-12-06T20:00:00",
          "2017-08-29T12:00:00",
          "2017-08-19T05:00:00",
          "2017-12-04T21:00:00",
          "2017-08-22T10:00:00",
          "2018-01-09T20:00:00",
          "2017-10-24T08:00:00",
          "2018-05-06T17:00:00",
          "2017-12-06T22:00:00",
          "2018-04-26T17:00:00",
          "2017-11-16T19:00:00",
          "2018-03-31T19:00:00",
          "2017-12-06T22:00:00",
          "2017-12-06T20:00:00",
          "2017-12-04T21:00:00",
          "2017-11-18T13:00:00",
          "2017-12-06T01:00:00"
         ],
         "xaxis": "x",
         "y": [
          797.99,
          549.99,
          1097.99,
          1097.99,
          1097.99,
          799.99,
          799.99,
          1197.99,
          799.99,
          797.99,
          797.99,
          797.99,
          797.99,
          797.99,
          797.99,
          797.99,
          797.99,
          797.99,
          797.99,
          797.99,
          747.85,
          597.99,
          1197.99,
          597.99,
          597.99,
          597.99,
          597.99,
          797.99
         ],
         "yaxis": "y"
        },
        {
         "hovertemplate": "Manufacturer-Id=QN55Q7CAMFXZA<br>Date-Seen=%{x}<br>Price-Min=%{y}<extra></extra>",
         "legendgroup": "QN55Q7CAMFXZA",
         "marker": {
          "color": "#ab63fa",
          "line": {
           "color": "DarkSlateGrey",
           "width": 1
          },
          "size": 7,
          "symbol": "circle"
         },
         "mode": "markers",
         "name": "QN55Q7CAMFXZA",
         "orientation": "v",
         "showlegend": true,
         "type": "scatter",
         "x": [
          "2017-10-28T18:00:00",
          "2018-01-27T10:00:00",
          "2018-03-09T18:00:00",
          "2017-09-18T18:00:00",
          "2017-08-15T21:00:00",
          "2017-07-28T07:00:00",
          "2017-07-22T23:00:00",
          "2017-12-06T01:00:00",
          "2017-11-16T22:00:00",
          "2017-11-08T20:00:00",
          "2017-08-01T03:00:00",
          "2017-07-26T15:00:00",
          "2018-06-01T15:00:00",
          "2017-09-08T03:00:00",
          "2018-04-26T17:00:00",
          "2018-01-27T10:00:00",
          "2017-10-28T17:00:00",
          "2017-10-24T22:00:00",
          "2017-11-16T23:00:00",
          "2017-11-08T20:00:00",
          "2017-10-28T18:00:00",
          "2017-10-24T22:00:00",
          "2017-07-27T21:00:00",
          "2017-08-01T03:00:00",
          "2017-07-26T15:00:00",
          "2018-01-09T20:00:00",
          "2018-05-27T16:00:00",
          "2018-05-24T11:00:00",
          "2018-05-28T10:00:00",
          "2018-05-26T07:00:00",
          "2017-07-25T23:00:00",
          "2018-04-26T17:00:00",
          "2017-11-16T22:00:00",
          "2018-03-09T18:00:00",
          "2017-11-08T20:00:00",
          "2017-12-07T06:00:00",
          "2017-07-25T23:00:00",
          "2017-09-17T08:00:00",
          "2018-05-27T16:00:00",
          "2018-05-24T11:00:00",
          "2017-07-25T18:00:00",
          "2018-05-26T07:00:00",
          "2017-08-15T15:00:00",
          "2017-07-18T06:00:00",
          "2017-07-21T16:00:00",
          "2017-07-21T14:00:00",
          "2017-07-12T15:00:00",
          "2017-07-16T20:00:00",
          "2017-07-10T18:00:00",
          "2017-07-08T20:00:00",
          "2017-07-14T14:00:00",
          "2018-04-26T17:00:00",
          "2017-12-07T23:00:00",
          "2017-12-08T01:00:00",
          "2017-12-05T10:00:00",
          "2017-07-22T07:00:00",
          "2017-07-24T14:00:00",
          "2017-12-08T10:00:00",
          "2017-12-06T01:00:00",
          "2017-11-16T19:00:00",
          "2017-11-08T20:00:00",
          "2017-10-28T17:00:00",
          "2017-10-24T22:00:00",
          "2017-07-25T23:00:00",
          "2017-07-16T06:00:00",
          "2017-07-21T02:00:00",
          "2017-07-15T12:00:00",
          "2017-07-17T19:00:00",
          "2017-07-18T08:00:00",
          "2017-08-22T19:00:00",
          "2017-07-25T17:00:00",
          "2017-07-26T18:00:00",
          "2017-07-25T23:00:00",
          "2017-07-26T20:00:00",
          "2017-07-27T11:00:00",
          "2017-07-25T23:00:00",
          "2017-12-07T06:00:00",
          "2018-04-26T17:00:00",
          "2018-05-24T11:00:00",
          "2017-07-09T22:00:00",
          "2018-04-10T14:00:00",
          "2018-04-26T17:00:00",
          "2018-06-01T15:00:00",
          "2017-12-07T23:00:00",
          "2017-12-08T01:00:00",
          "2017-12-05T10:00:00",
          "2017-08-22T10:00:00",
          "2018-01-27T10:00:00",
          "2018-01-09T20:00:00",
          "2017-09-24T10:00:00",
          "2017-08-19T02:00:00",
          "2017-09-24T10:00:00",
          "2017-08-22T10:00:00",
          "2017-08-19T02:00:00"
         ],
         "xaxis": "x",
         "y": [
          2395.98,
          1697.99,
          1497.99,
          2197.99,
          2197.99,
          2197.99,
          2197.99,
          1797.99,
          1797.99,
          1797.99,
          2199.99,
          2199.99,
          2797.99,
          1897.99,
          1549.95,
          1549.95,
          1997.99,
          1997.99,
          2075.98,
          2075.98,
          1997.99,
          1997.99,
          1898.95,
          1759.99,
          1759.99,
          1997.99,
          1399.99,
          1399.99,
          1399.99,
          1999.99,
          2197.99,
          1797.99,
          1797.99,
          1797.99,
          1797.99,
          1797.99,
          2197.99,
          2475.98,
          1978.01,
          1978.01,
          1972.95,
          1299.99,
          2197.99,
          2197.99,
          2197.99,
          2197.99,
          2197.99,
          2197.99,
          2197.99,
          2197.99,
          2197.99,
          1797.99,
          1797.99,
          1797.99,
          1797.99,
          1997.95,
          1997.95,
          1599,
          1599,
          1599,
          1599,
          1599,
          1599,
          2197.99,
          1998.95,
          1998.95,
          1998.95,
          1998.95,
          1998.95,
          1755.95,
          1982.95,
          1982.95,
          1982.95,
          1900,
          1900,
          2197.99,
          2125.98,
          2797.99,
          2797.99,
          2016.95,
          2997.99,
          2997.99,
          2997.99,
          2997.99,
          2997.99,
          2997.99,
          2997.99,
          2997.99,
          2997.99,
          2997.99,
          2997.99,
          2197.99,
          2197.99,
          2197.99
         ],
         "yaxis": "y"
        }
       ],
       "layout": {
        "font": {
         "size": 12
        },
        "legend": {
         "title": {
          "text": "Models"
         },
         "tracegroupgap": 0
        },
        "margin": {
         "t": 60
        },
        "template": {
         "data": {
          "bar": [
           {
            "error_x": {
             "color": "#2a3f5f"
            },
            "error_y": {
             "color": "#2a3f5f"
            },
            "marker": {
             "line": {
              "color": "#E5ECF6",
              "width": 0.5
             }
            },
            "type": "bar"
           }
          ],
          "barpolar": [
           {
            "marker": {
             "line": {
              "color": "#E5ECF6",
              "width": 0.5
             }
            },
            "type": "barpolar"
           }
          ],
          "carpet": [
           {
            "aaxis": {
             "endlinecolor": "#2a3f5f",
             "gridcolor": "white",
             "linecolor": "white",
             "minorgridcolor": "white",
             "startlinecolor": "#2a3f5f"
            },
            "baxis": {
             "endlinecolor": "#2a3f5f",
             "gridcolor": "white",
             "linecolor": "white",
             "minorgridcolor": "white",
             "startlinecolor": "#2a3f5f"
            },
            "type": "carpet"
           }
          ],
          "choropleth": [
           {
            "colorbar": {
             "outlinewidth": 0,
             "ticks": ""
            },
            "type": "choropleth"
           }
          ],
          "contour": [
           {
            "colorbar": {
             "outlinewidth": 0,
             "ticks": ""
            },
            "colorscale": [
             [
              0,
              "#0d0887"
             ],
             [
              0.1111111111111111,
              "#46039f"
             ],
             [
              0.2222222222222222,
              "#7201a8"
             ],
             [
              0.3333333333333333,
              "#9c179e"
             ],
             [
              0.4444444444444444,
              "#bd3786"
             ],
             [
              0.5555555555555556,
              "#d8576b"
             ],
             [
              0.6666666666666666,
              "#ed7953"
             ],
             [
              0.7777777777777778,
              "#fb9f3a"
             ],
             [
              0.8888888888888888,
              "#fdca26"
             ],
             [
              1,
              "#f0f921"
             ]
            ],
            "type": "contour"
           }
          ],
          "contourcarpet": [
           {
            "colorbar": {
             "outlinewidth": 0,
             "ticks": ""
            },
            "type": "contourcarpet"
           }
          ],
          "heatmap": [
           {
            "colorbar": {
             "outlinewidth": 0,
             "ticks": ""
            },
            "colorscale": [
             [
              0,
              "#0d0887"
             ],
             [
              0.1111111111111111,
              "#46039f"
             ],
             [
              0.2222222222222222,
              "#7201a8"
             ],
             [
              0.3333333333333333,
              "#9c179e"
             ],
             [
              0.4444444444444444,
              "#bd3786"
             ],
             [
              0.5555555555555556,
              "#d8576b"
             ],
             [
              0.6666666666666666,
              "#ed7953"
             ],
             [
              0.7777777777777778,
              "#fb9f3a"
             ],
             [
              0.8888888888888888,
              "#fdca26"
             ],
             [
              1,
              "#f0f921"
             ]
            ],
            "type": "heatmap"
           }
          ],
          "heatmapgl": [
           {
            "colorbar": {
             "outlinewidth": 0,
             "ticks": ""
            },
            "colorscale": [
             [
              0,
              "#0d0887"
             ],
             [
              0.1111111111111111,
              "#46039f"
             ],
             [
              0.2222222222222222,
              "#7201a8"
             ],
             [
              0.3333333333333333,
              "#9c179e"
             ],
             [
              0.4444444444444444,
              "#bd3786"
             ],
             [
              0.5555555555555556,
              "#d8576b"
             ],
             [
              0.6666666666666666,
              "#ed7953"
             ],
             [
              0.7777777777777778,
              "#fb9f3a"
             ],
             [
              0.8888888888888888,
              "#fdca26"
             ],
             [
              1,
              "#f0f921"
             ]
            ],
            "type": "heatmapgl"
           }
          ],
          "histogram": [
           {
            "marker": {
             "colorbar": {
              "outlinewidth": 0,
              "ticks": ""
             }
            },
            "type": "histogram"
           }
          ],
          "histogram2d": [
           {
            "colorbar": {
             "outlinewidth": 0,
             "ticks": ""
            },
            "colorscale": [
             [
              0,
              "#0d0887"
             ],
             [
              0.1111111111111111,
              "#46039f"
             ],
             [
              0.2222222222222222,
              "#7201a8"
             ],
             [
              0.3333333333333333,
              "#9c179e"
             ],
             [
              0.4444444444444444,
              "#bd3786"
             ],
             [
              0.5555555555555556,
              "#d8576b"
             ],
             [
              0.6666666666666666,
              "#ed7953"
             ],
             [
              0.7777777777777778,
              "#fb9f3a"
             ],
             [
              0.8888888888888888,
              "#fdca26"
             ],
             [
              1,
              "#f0f921"
             ]
            ],
            "type": "histogram2d"
           }
          ],
          "histogram2dcontour": [
           {
            "colorbar": {
             "outlinewidth": 0,
             "ticks": ""
            },
            "colorscale": [
             [
              0,
              "#0d0887"
             ],
             [
              0.1111111111111111,
              "#46039f"
             ],
             [
              0.2222222222222222,
              "#7201a8"
             ],
             [
              0.3333333333333333,
              "#9c179e"
             ],
             [
              0.4444444444444444,
              "#bd3786"
             ],
             [
              0.5555555555555556,
              "#d8576b"
             ],
             [
              0.6666666666666666,
              "#ed7953"
             ],
             [
              0.7777777777777778,
              "#fb9f3a"
             ],
             [
              0.8888888888888888,
              "#fdca26"
             ],
             [
              1,
              "#f0f921"
             ]
            ],
            "type": "histogram2dcontour"
           }
          ],
          "mesh3d": [
           {
            "colorbar": {
             "outlinewidth": 0,
             "ticks": ""
            },
            "type": "mesh3d"
           }
          ],
          "parcoords": [
           {
            "line": {
             "colorbar": {
              "outlinewidth": 0,
              "ticks": ""
             }
            },
            "type": "parcoords"
           }
          ],
          "pie": [
           {
            "automargin": true,
            "type": "pie"
           }
          ],
          "scatter": [
           {
            "marker": {
             "colorbar": {
              "outlinewidth": 0,
              "ticks": ""
             }
            },
            "type": "scatter"
           }
          ],
          "scatter3d": [
           {
            "line": {
             "colorbar": {
              "outlinewidth": 0,
              "ticks": ""
             }
            },
            "marker": {
             "colorbar": {
              "outlinewidth": 0,
              "ticks": ""
             }
            },
            "type": "scatter3d"
           }
          ],
          "scattercarpet": [
           {
            "marker": {
             "colorbar": {
              "outlinewidth": 0,
              "ticks": ""
             }
            },
            "type": "scattercarpet"
           }
          ],
          "scattergeo": [
           {
            "marker": {
             "colorbar": {
              "outlinewidth": 0,
              "ticks": ""
             }
            },
            "type": "scattergeo"
           }
          ],
          "scattergl": [
           {
            "marker": {
             "colorbar": {
              "outlinewidth": 0,
              "ticks": ""
             }
            },
            "type": "scattergl"
           }
          ],
          "scattermapbox": [
           {
            "marker": {
             "colorbar": {
              "outlinewidth": 0,
              "ticks": ""
             }
            },
            "type": "scattermapbox"
           }
          ],
          "scatterpolar": [
           {
            "marker": {
             "colorbar": {
              "outlinewidth": 0,
              "ticks": ""
             }
            },
            "type": "scatterpolar"
           }
          ],
          "scatterpolargl": [
           {
            "marker": {
             "colorbar": {
              "outlinewidth": 0,
              "ticks": ""
             }
            },
            "type": "scatterpolargl"
           }
          ],
          "scatterternary": [
           {
            "marker": {
             "colorbar": {
              "outlinewidth": 0,
              "ticks": ""
             }
            },
            "type": "scatterternary"
           }
          ],
          "surface": [
           {
            "colorbar": {
             "outlinewidth": 0,
             "ticks": ""
            },
            "colorscale": [
             [
              0,
              "#0d0887"
             ],
             [
              0.1111111111111111,
              "#46039f"
             ],
             [
              0.2222222222222222,
              "#7201a8"
             ],
             [
              0.3333333333333333,
              "#9c179e"
             ],
             [
              0.4444444444444444,
              "#bd3786"
             ],
             [
              0.5555555555555556,
              "#d8576b"
             ],
             [
              0.6666666666666666,
              "#ed7953"
             ],
             [
              0.7777777777777778,
              "#fb9f3a"
             ],
             [
              0.8888888888888888,
              "#fdca26"
             ],
             [
              1,
              "#f0f921"
             ]
            ],
            "type": "surface"
           }
          ],
          "table": [
           {
            "cells": {
             "fill": {
              "color": "#EBF0F8"
             },
             "line": {
              "color": "white"
             }
            },
            "header": {
             "fill": {
              "color": "#C8D4E3"
             },
             "line": {
              "color": "white"
             }
            },
            "type": "table"
           }
          ]
         },
         "layout": {
          "annotationdefaults": {
           "arrowcolor": "#2a3f5f",
           "arrowhead": 0,
           "arrowwidth": 1
          },
          "coloraxis": {
           "colorbar": {
            "outlinewidth": 0,
            "ticks": ""
           }
          },
          "colorscale": {
           "diverging": [
            [
             0,
             "#8e0152"
            ],
            [
             0.1,
             "#c51b7d"
            ],
            [
             0.2,
             "#de77ae"
            ],
            [
             0.3,
             "#f1b6da"
            ],
            [
             0.4,
             "#fde0ef"
            ],
            [
             0.5,
             "#f7f7f7"
            ],
            [
             0.6,
             "#e6f5d0"
            ],
            [
             0.7,
             "#b8e186"
            ],
            [
             0.8,
             "#7fbc41"
            ],
            [
             0.9,
             "#4d9221"
            ],
            [
             1,
             "#276419"
            ]
           ],
           "sequential": [
            [
             0,
             "#0d0887"
            ],
            [
             0.1111111111111111,
             "#46039f"
            ],
            [
             0.2222222222222222,
             "#7201a8"
            ],
            [
             0.3333333333333333,
             "#9c179e"
            ],
            [
             0.4444444444444444,
             "#bd3786"
            ],
            [
             0.5555555555555556,
             "#d8576b"
            ],
            [
             0.6666666666666666,
             "#ed7953"
            ],
            [
             0.7777777777777778,
             "#fb9f3a"
            ],
            [
             0.8888888888888888,
             "#fdca26"
            ],
            [
             1,
             "#f0f921"
            ]
           ],
           "sequentialminus": [
            [
             0,
             "#0d0887"
            ],
            [
             0.1111111111111111,
             "#46039f"
            ],
            [
             0.2222222222222222,
             "#7201a8"
            ],
            [
             0.3333333333333333,
             "#9c179e"
            ],
            [
             0.4444444444444444,
             "#bd3786"
            ],
            [
             0.5555555555555556,
             "#d8576b"
            ],
            [
             0.6666666666666666,
             "#ed7953"
            ],
            [
             0.7777777777777778,
             "#fb9f3a"
            ],
            [
             0.8888888888888888,
             "#fdca26"
            ],
            [
             1,
             "#f0f921"
            ]
           ]
          },
          "colorway": [
           "#636efa",
           "#EF553B",
           "#00cc96",
           "#ab63fa",
           "#FFA15A",
           "#19d3f3",
           "#FF6692",
           "#B6E880",
           "#FF97FF",
           "#FECB52"
          ],
          "font": {
           "color": "#2a3f5f"
          },
          "geo": {
           "bgcolor": "white",
           "lakecolor": "white",
           "landcolor": "#E5ECF6",
           "showlakes": true,
           "showland": true,
           "subunitcolor": "white"
          },
          "hoverlabel": {
           "align": "left"
          },
          "hovermode": "closest",
          "mapbox": {
           "style": "light"
          },
          "paper_bgcolor": "white",
          "plot_bgcolor": "#E5ECF6",
          "polar": {
           "angularaxis": {
            "gridcolor": "white",
            "linecolor": "white",
            "ticks": ""
           },
           "bgcolor": "#E5ECF6",
           "radialaxis": {
            "gridcolor": "white",
            "linecolor": "white",
            "ticks": ""
           }
          },
          "scene": {
           "xaxis": {
            "backgroundcolor": "#E5ECF6",
            "gridcolor": "white",
            "gridwidth": 2,
            "linecolor": "white",
            "showbackground": true,
            "ticks": "",
            "zerolinecolor": "white"
           },
           "yaxis": {
            "backgroundcolor": "#E5ECF6",
            "gridcolor": "white",
            "gridwidth": 2,
            "linecolor": "white",
            "showbackground": true,
            "ticks": "",
            "zerolinecolor": "white"
           },
           "zaxis": {
            "backgroundcolor": "#E5ECF6",
            "gridcolor": "white",
            "gridwidth": 2,
            "linecolor": "white",
            "showbackground": true,
            "ticks": "",
            "zerolinecolor": "white"
           }
          },
          "shapedefaults": {
           "line": {
            "color": "#2a3f5f"
           }
          },
          "ternary": {
           "aaxis": {
            "gridcolor": "white",
            "linecolor": "white",
            "ticks": ""
           },
           "baxis": {
            "gridcolor": "white",
            "linecolor": "white",
            "ticks": ""
           },
           "bgcolor": "#E5ECF6",
           "caxis": {
            "gridcolor": "white",
            "linecolor": "white",
            "ticks": ""
           }
          },
          "title": {
           "x": 0.05
          },
          "xaxis": {
           "automargin": true,
           "gridcolor": "white",
           "linecolor": "white",
           "ticks": "",
           "title": {
            "standoff": 15
           },
           "zerolinecolor": "white",
           "zerolinewidth": 2
          },
          "yaxis": {
           "automargin": true,
           "gridcolor": "white",
           "linecolor": "white",
           "ticks": "",
           "title": {
            "standoff": 15
           },
           "zerolinecolor": "white",
           "zerolinewidth": 2
          }
         }
        },
        "title": {
         "text": "Samsung prices across all platforms"
        },
        "xaxis": {
         "anchor": "y",
         "domain": [
          0,
          1
         ],
         "title": {
          "text": ""
         }
        },
        "yaxis": {
         "anchor": "x",
         "domain": [
          0,
          1
         ],
         "tickprefix": "$",
         "title": {
          "text": ""
         }
        }
       }
      },
      "text/html": [
       "<div>\n",
       "        \n",
       "        \n",
       "            <div id=\"4a1e7a95-4ab0-435a-8b73-21e825a13796\" class=\"plotly-graph-div\" style=\"height:525px; width:100%;\"></div>\n",
       "            <script type=\"text/javascript\">\n",
       "                require([\"plotly\"], function(Plotly) {\n",
       "                    window.PLOTLYENV=window.PLOTLYENV || {};\n",
       "                    \n",
       "                if (document.getElementById(\"4a1e7a95-4ab0-435a-8b73-21e825a13796\")) {\n",
       "                    Plotly.newPlot(\n",
       "                        '4a1e7a95-4ab0-435a-8b73-21e825a13796',\n",
       "                        [{\"hovertemplate\": \"Manufacturer-Id=UN55KU7000FXZA<br>Date-Seen=%{x}<br>Price-Min=%{y}<extra></extra>\", \"legendgroup\": \"UN55KU7000FXZA\", \"marker\": {\"color\": \"#636efa\", \"line\": {\"color\": \"DarkSlateGrey\", \"width\": 1}, \"size\": 7, \"symbol\": \"circle\"}, \"mode\": \"markers\", \"name\": \"UN55KU7000FXZA\", \"orientation\": \"v\", \"showlegend\": true, \"type\": \"scatter\", \"x\": [\"2017-12-06T01:00:00\", \"2017-11-08T20:00:00\", \"2017-10-24T01:00:00\", \"2017-08-14T14:00:00\", \"2017-07-26T01:00:00\", \"2017-07-25T23:00:00\", \"2017-07-23T11:00:00\", \"2017-07-24T21:00:00\", \"2017-07-25T18:00:00\", \"2017-07-10T04:00:00\", \"2017-07-14T12:00:00\", \"2017-07-11T07:00:00\", \"2017-07-11T22:00:00\", \"2017-03-30T05:00:00\", \"2017-03-10T19:00:00\", \"2017-03-30T05:00:00\", \"2017-03-10T19:00:00\", \"2017-03-04T10:00:00\", \"2017-03-04T10:00:00\"], \"xaxis\": \"x\", \"y\": [1197.99, 1197.99, 1197.99, 1197.99, 1197.99, 1197.99, 489.99, 489.99, 489.99, 499.99, 499.99, 499.99, 499.99, 999.99, 999.99, 809.99, 909.99, 1199.99, 1.0], \"yaxis\": \"y\"}, {\"hovertemplate\": \"Manufacturer-Id=QN55Q8FNBFXZA<br>Date-Seen=%{x}<br>Price-Min=%{y}<extra></extra>\", \"legendgroup\": \"QN55Q8FNBFXZA\", \"marker\": {\"color\": \"#EF553B\", \"line\": {\"color\": \"DarkSlateGrey\", \"width\": 1}, \"size\": 7, \"symbol\": \"circle\"}, \"mode\": \"markers\", \"name\": \"QN55Q8FNBFXZA\", \"orientation\": \"v\", \"showlegend\": true, \"type\": \"scatter\", \"x\": [\"2018-05-26T15:00:00\", \"2018-04-26T17:00:00\", \"2018-04-26T17:00:00\", \"2018-06-01T09:00:00\", \"2018-05-26T15:00:00\", \"2018-04-26T17:00:00\", \"2018-06-01T09:00:00\", \"2018-05-27T16:00:00\", \"2018-05-24T11:00:00\", \"2018-05-28T10:00:00\"], \"xaxis\": \"x\", \"y\": [2199.99, 2097.99, 2097.99, 1997.99, 1999.99, 2197.99, 2197.99, 1997.99, 1997.99, 1997.99], \"yaxis\": \"y\"}, {\"hovertemplate\": \"Manufacturer-Id=UN55MU6490FXZA<br>Date-Seen=%{x}<br>Price-Min=%{y}<extra></extra>\", \"legendgroup\": \"UN55MU6490FXZA\", \"marker\": {\"color\": \"#00cc96\", \"line\": {\"color\": \"DarkSlateGrey\", \"width\": 1}, \"size\": 7, \"symbol\": \"circle\"}, \"mode\": \"markers\", \"name\": \"UN55MU6490FXZA\", \"orientation\": \"v\", \"showlegend\": true, \"type\": \"scatter\", \"x\": [\"2017-10-24T01:00:00\", \"2018-05-26T07:00:00\", \"2018-05-27T16:00:00\", \"2018-05-28T11:00:00\", \"2018-05-24T11:00:00\", \"2017-11-16T19:00:00\", \"2017-11-08T20:00:00\", \"2018-04-26T17:00:00\", \"2018-05-26T07:00:00\", \"2017-09-17T08:00:00\", \"2017-11-18T13:00:00\", \"2017-12-06T20:00:00\", \"2017-08-29T12:00:00\", \"2017-08-19T05:00:00\", \"2017-12-04T21:00:00\", \"2017-08-22T10:00:00\", \"2018-01-09T20:00:00\", \"2017-10-24T08:00:00\", \"2018-05-06T17:00:00\", \"2017-12-06T22:00:00\", \"2018-04-26T17:00:00\", \"2017-11-16T19:00:00\", \"2018-03-31T19:00:00\", \"2017-12-06T22:00:00\", \"2017-12-06T20:00:00\", \"2017-12-04T21:00:00\", \"2017-11-18T13:00:00\", \"2017-12-06T01:00:00\"], \"xaxis\": \"x\", \"y\": [797.99, 549.99, 1097.99, 1097.99, 1097.99, 799.99, 799.99, 1197.99, 799.99, 797.99, 797.99, 797.99, 797.99, 797.99, 797.99, 797.99, 797.99, 797.99, 797.99, 797.99, 747.85, 597.99, 1197.99, 597.99, 597.99, 597.99, 597.99, 797.99], \"yaxis\": \"y\"}, {\"hovertemplate\": \"Manufacturer-Id=QN55Q7CAMFXZA<br>Date-Seen=%{x}<br>Price-Min=%{y}<extra></extra>\", \"legendgroup\": \"QN55Q7CAMFXZA\", \"marker\": {\"color\": \"#ab63fa\", \"line\": {\"color\": \"DarkSlateGrey\", \"width\": 1}, \"size\": 7, \"symbol\": \"circle\"}, \"mode\": \"markers\", \"name\": \"QN55Q7CAMFXZA\", \"orientation\": \"v\", \"showlegend\": true, \"type\": \"scatter\", \"x\": [\"2017-10-28T18:00:00\", \"2018-01-27T10:00:00\", \"2018-03-09T18:00:00\", \"2017-09-18T18:00:00\", \"2017-08-15T21:00:00\", \"2017-07-28T07:00:00\", \"2017-07-22T23:00:00\", \"2017-12-06T01:00:00\", \"2017-11-16T22:00:00\", \"2017-11-08T20:00:00\", \"2017-08-01T03:00:00\", \"2017-07-26T15:00:00\", \"2018-06-01T15:00:00\", \"2017-09-08T03:00:00\", \"2018-04-26T17:00:00\", \"2018-01-27T10:00:00\", \"2017-10-28T17:00:00\", \"2017-10-24T22:00:00\", \"2017-11-16T23:00:00\", \"2017-11-08T20:00:00\", \"2017-10-28T18:00:00\", \"2017-10-24T22:00:00\", \"2017-07-27T21:00:00\", \"2017-08-01T03:00:00\", \"2017-07-26T15:00:00\", \"2018-01-09T20:00:00\", \"2018-05-27T16:00:00\", \"2018-05-24T11:00:00\", \"2018-05-28T10:00:00\", \"2018-05-26T07:00:00\", \"2017-07-25T23:00:00\", \"2018-04-26T17:00:00\", \"2017-11-16T22:00:00\", \"2018-03-09T18:00:00\", \"2017-11-08T20:00:00\", \"2017-12-07T06:00:00\", \"2017-07-25T23:00:00\", \"2017-09-17T08:00:00\", \"2018-05-27T16:00:00\", \"2018-05-24T11:00:00\", \"2017-07-25T18:00:00\", \"2018-05-26T07:00:00\", \"2017-08-15T15:00:00\", \"2017-07-18T06:00:00\", \"2017-07-21T16:00:00\", \"2017-07-21T14:00:00\", \"2017-07-12T15:00:00\", \"2017-07-16T20:00:00\", \"2017-07-10T18:00:00\", \"2017-07-08T20:00:00\", \"2017-07-14T14:00:00\", \"2018-04-26T17:00:00\", \"2017-12-07T23:00:00\", \"2017-12-08T01:00:00\", \"2017-12-05T10:00:00\", \"2017-07-22T07:00:00\", \"2017-07-24T14:00:00\", \"2017-12-08T10:00:00\", \"2017-12-06T01:00:00\", \"2017-11-16T19:00:00\", \"2017-11-08T20:00:00\", \"2017-10-28T17:00:00\", \"2017-10-24T22:00:00\", \"2017-07-25T23:00:00\", \"2017-07-16T06:00:00\", \"2017-07-21T02:00:00\", \"2017-07-15T12:00:00\", \"2017-07-17T19:00:00\", \"2017-07-18T08:00:00\", \"2017-08-22T19:00:00\", \"2017-07-25T17:00:00\", \"2017-07-26T18:00:00\", \"2017-07-25T23:00:00\", \"2017-07-26T20:00:00\", \"2017-07-27T11:00:00\", \"2017-07-25T23:00:00\", \"2017-12-07T06:00:00\", \"2018-04-26T17:00:00\", \"2018-05-24T11:00:00\", \"2017-07-09T22:00:00\", \"2018-04-10T14:00:00\", \"2018-04-26T17:00:00\", \"2018-06-01T15:00:00\", \"2017-12-07T23:00:00\", \"2017-12-08T01:00:00\", \"2017-12-05T10:00:00\", \"2017-08-22T10:00:00\", \"2018-01-27T10:00:00\", \"2018-01-09T20:00:00\", \"2017-09-24T10:00:00\", \"2017-08-19T02:00:00\", \"2017-09-24T10:00:00\", \"2017-08-22T10:00:00\", \"2017-08-19T02:00:00\"], \"xaxis\": \"x\", \"y\": [2395.98, 1697.99, 1497.99, 2197.99, 2197.99, 2197.99, 2197.99, 1797.99, 1797.99, 1797.99, 2199.99, 2199.99, 2797.99, 1897.99, 1549.95, 1549.95, 1997.99, 1997.99, 2075.98, 2075.98, 1997.99, 1997.99, 1898.95, 1759.99, 1759.99, 1997.99, 1399.99, 1399.99, 1399.99, 1999.99, 2197.99, 1797.99, 1797.99, 1797.99, 1797.99, 1797.99, 2197.99, 2475.98, 1978.01, 1978.01, 1972.95, 1299.99, 2197.99, 2197.99, 2197.99, 2197.99, 2197.99, 2197.99, 2197.99, 2197.99, 2197.99, 1797.99, 1797.99, 1797.99, 1797.99, 1997.95, 1997.95, 1599.0, 1599.0, 1599.0, 1599.0, 1599.0, 1599.0, 2197.99, 1998.95, 1998.95, 1998.95, 1998.95, 1998.95, 1755.95, 1982.95, 1982.95, 1982.95, 1900.0, 1900.0, 2197.99, 2125.98, 2797.99, 2797.99, 2016.95, 2997.99, 2997.99, 2997.99, 2997.99, 2997.99, 2997.99, 2997.99, 2997.99, 2997.99, 2997.99, 2997.99, 2197.99, 2197.99, 2197.99], \"yaxis\": \"y\"}],\n",
       "                        {\"font\": {\"size\": 12}, \"legend\": {\"title\": {\"text\": \"Models\"}, \"tracegroupgap\": 0}, \"margin\": {\"t\": 60}, \"template\": {\"data\": {\"bar\": [{\"error_x\": {\"color\": \"#2a3f5f\"}, \"error_y\": {\"color\": \"#2a3f5f\"}, \"marker\": {\"line\": {\"color\": \"#E5ECF6\", \"width\": 0.5}}, \"type\": \"bar\"}], \"barpolar\": [{\"marker\": {\"line\": {\"color\": \"#E5ECF6\", \"width\": 0.5}}, \"type\": \"barpolar\"}], \"carpet\": [{\"aaxis\": {\"endlinecolor\": \"#2a3f5f\", \"gridcolor\": \"white\", \"linecolor\": \"white\", \"minorgridcolor\": \"white\", \"startlinecolor\": \"#2a3f5f\"}, \"baxis\": {\"endlinecolor\": \"#2a3f5f\", \"gridcolor\": \"white\", \"linecolor\": \"white\", \"minorgridcolor\": \"white\", \"startlinecolor\": \"#2a3f5f\"}, \"type\": \"carpet\"}], \"choropleth\": [{\"colorbar\": {\"outlinewidth\": 0, \"ticks\": \"\"}, \"type\": \"choropleth\"}], \"contour\": [{\"colorbar\": {\"outlinewidth\": 0, \"ticks\": \"\"}, \"colorscale\": [[0.0, \"#0d0887\"], [0.1111111111111111, \"#46039f\"], [0.2222222222222222, \"#7201a8\"], [0.3333333333333333, \"#9c179e\"], [0.4444444444444444, \"#bd3786\"], [0.5555555555555556, \"#d8576b\"], [0.6666666666666666, \"#ed7953\"], [0.7777777777777778, \"#fb9f3a\"], [0.8888888888888888, \"#fdca26\"], [1.0, \"#f0f921\"]], \"type\": \"contour\"}], \"contourcarpet\": [{\"colorbar\": {\"outlinewidth\": 0, \"ticks\": \"\"}, \"type\": \"contourcarpet\"}], \"heatmap\": [{\"colorbar\": {\"outlinewidth\": 0, \"ticks\": \"\"}, \"colorscale\": [[0.0, \"#0d0887\"], [0.1111111111111111, \"#46039f\"], [0.2222222222222222, \"#7201a8\"], [0.3333333333333333, \"#9c179e\"], [0.4444444444444444, \"#bd3786\"], [0.5555555555555556, \"#d8576b\"], [0.6666666666666666, \"#ed7953\"], [0.7777777777777778, \"#fb9f3a\"], [0.8888888888888888, \"#fdca26\"], [1.0, \"#f0f921\"]], \"type\": \"heatmap\"}], \"heatmapgl\": [{\"colorbar\": {\"outlinewidth\": 0, \"ticks\": \"\"}, \"colorscale\": [[0.0, \"#0d0887\"], [0.1111111111111111, \"#46039f\"], [0.2222222222222222, \"#7201a8\"], [0.3333333333333333, \"#9c179e\"], [0.4444444444444444, \"#bd3786\"], [0.5555555555555556, \"#d8576b\"], [0.6666666666666666, \"#ed7953\"], [0.7777777777777778, \"#fb9f3a\"], [0.8888888888888888, \"#fdca26\"], [1.0, \"#f0f921\"]], \"type\": \"heatmapgl\"}], \"histogram\": [{\"marker\": {\"colorbar\": {\"outlinewidth\": 0, \"ticks\": \"\"}}, \"type\": \"histogram\"}], \"histogram2d\": [{\"colorbar\": {\"outlinewidth\": 0, \"ticks\": \"\"}, \"colorscale\": [[0.0, \"#0d0887\"], [0.1111111111111111, \"#46039f\"], [0.2222222222222222, \"#7201a8\"], [0.3333333333333333, \"#9c179e\"], [0.4444444444444444, \"#bd3786\"], [0.5555555555555556, \"#d8576b\"], [0.6666666666666666, \"#ed7953\"], [0.7777777777777778, \"#fb9f3a\"], [0.8888888888888888, \"#fdca26\"], [1.0, \"#f0f921\"]], \"type\": \"histogram2d\"}], \"histogram2dcontour\": [{\"colorbar\": {\"outlinewidth\": 0, \"ticks\": \"\"}, \"colorscale\": [[0.0, \"#0d0887\"], [0.1111111111111111, \"#46039f\"], [0.2222222222222222, \"#7201a8\"], [0.3333333333333333, \"#9c179e\"], [0.4444444444444444, \"#bd3786\"], [0.5555555555555556, \"#d8576b\"], [0.6666666666666666, \"#ed7953\"], [0.7777777777777778, \"#fb9f3a\"], [0.8888888888888888, \"#fdca26\"], [1.0, \"#f0f921\"]], \"type\": \"histogram2dcontour\"}], \"mesh3d\": [{\"colorbar\": {\"outlinewidth\": 0, \"ticks\": \"\"}, \"type\": \"mesh3d\"}], \"parcoords\": [{\"line\": {\"colorbar\": {\"outlinewidth\": 0, \"ticks\": \"\"}}, \"type\": \"parcoords\"}], \"pie\": [{\"automargin\": true, \"type\": \"pie\"}], \"scatter\": [{\"marker\": {\"colorbar\": {\"outlinewidth\": 0, \"ticks\": \"\"}}, \"type\": \"scatter\"}], \"scatter3d\": [{\"line\": {\"colorbar\": {\"outlinewidth\": 0, \"ticks\": \"\"}}, \"marker\": {\"colorbar\": {\"outlinewidth\": 0, \"ticks\": \"\"}}, \"type\": \"scatter3d\"}], \"scattercarpet\": [{\"marker\": {\"colorbar\": {\"outlinewidth\": 0, \"ticks\": \"\"}}, \"type\": \"scattercarpet\"}], \"scattergeo\": [{\"marker\": {\"colorbar\": {\"outlinewidth\": 0, \"ticks\": \"\"}}, \"type\": \"scattergeo\"}], \"scattergl\": [{\"marker\": {\"colorbar\": {\"outlinewidth\": 0, \"ticks\": \"\"}}, \"type\": \"scattergl\"}], \"scattermapbox\": [{\"marker\": {\"colorbar\": {\"outlinewidth\": 0, \"ticks\": \"\"}}, \"type\": \"scattermapbox\"}], \"scatterpolar\": [{\"marker\": {\"colorbar\": {\"outlinewidth\": 0, \"ticks\": \"\"}}, \"type\": \"scatterpolar\"}], \"scatterpolargl\": [{\"marker\": {\"colorbar\": {\"outlinewidth\": 0, \"ticks\": \"\"}}, \"type\": \"scatterpolargl\"}], \"scatterternary\": [{\"marker\": {\"colorbar\": {\"outlinewidth\": 0, \"ticks\": \"\"}}, \"type\": \"scatterternary\"}], \"surface\": [{\"colorbar\": {\"outlinewidth\": 0, \"ticks\": \"\"}, \"colorscale\": [[0.0, \"#0d0887\"], [0.1111111111111111, \"#46039f\"], [0.2222222222222222, \"#7201a8\"], [0.3333333333333333, \"#9c179e\"], [0.4444444444444444, \"#bd3786\"], [0.5555555555555556, \"#d8576b\"], [0.6666666666666666, \"#ed7953\"], [0.7777777777777778, \"#fb9f3a\"], [0.8888888888888888, \"#fdca26\"], [1.0, \"#f0f921\"]], \"type\": \"surface\"}], \"table\": [{\"cells\": {\"fill\": {\"color\": \"#EBF0F8\"}, \"line\": {\"color\": \"white\"}}, \"header\": {\"fill\": {\"color\": \"#C8D4E3\"}, \"line\": {\"color\": \"white\"}}, \"type\": \"table\"}]}, \"layout\": {\"annotationdefaults\": {\"arrowcolor\": \"#2a3f5f\", \"arrowhead\": 0, \"arrowwidth\": 1}, \"coloraxis\": {\"colorbar\": {\"outlinewidth\": 0, \"ticks\": \"\"}}, \"colorscale\": {\"diverging\": [[0, \"#8e0152\"], [0.1, \"#c51b7d\"], [0.2, \"#de77ae\"], [0.3, \"#f1b6da\"], [0.4, \"#fde0ef\"], [0.5, \"#f7f7f7\"], [0.6, \"#e6f5d0\"], [0.7, \"#b8e186\"], [0.8, \"#7fbc41\"], [0.9, \"#4d9221\"], [1, \"#276419\"]], \"sequential\": [[0.0, \"#0d0887\"], [0.1111111111111111, \"#46039f\"], [0.2222222222222222, \"#7201a8\"], [0.3333333333333333, \"#9c179e\"], [0.4444444444444444, \"#bd3786\"], [0.5555555555555556, \"#d8576b\"], [0.6666666666666666, \"#ed7953\"], [0.7777777777777778, \"#fb9f3a\"], [0.8888888888888888, \"#fdca26\"], [1.0, \"#f0f921\"]], \"sequentialminus\": [[0.0, \"#0d0887\"], [0.1111111111111111, \"#46039f\"], [0.2222222222222222, \"#7201a8\"], [0.3333333333333333, \"#9c179e\"], [0.4444444444444444, \"#bd3786\"], [0.5555555555555556, \"#d8576b\"], [0.6666666666666666, \"#ed7953\"], [0.7777777777777778, \"#fb9f3a\"], [0.8888888888888888, \"#fdca26\"], [1.0, \"#f0f921\"]]}, \"colorway\": [\"#636efa\", \"#EF553B\", \"#00cc96\", \"#ab63fa\", \"#FFA15A\", \"#19d3f3\", \"#FF6692\", \"#B6E880\", \"#FF97FF\", \"#FECB52\"], \"font\": {\"color\": \"#2a3f5f\"}, \"geo\": {\"bgcolor\": \"white\", \"lakecolor\": \"white\", \"landcolor\": \"#E5ECF6\", \"showlakes\": true, \"showland\": true, \"subunitcolor\": \"white\"}, \"hoverlabel\": {\"align\": \"left\"}, \"hovermode\": \"closest\", \"mapbox\": {\"style\": \"light\"}, \"paper_bgcolor\": \"white\", \"plot_bgcolor\": \"#E5ECF6\", \"polar\": {\"angularaxis\": {\"gridcolor\": \"white\", \"linecolor\": \"white\", \"ticks\": \"\"}, \"bgcolor\": \"#E5ECF6\", \"radialaxis\": {\"gridcolor\": \"white\", \"linecolor\": \"white\", \"ticks\": \"\"}}, \"scene\": {\"xaxis\": {\"backgroundcolor\": \"#E5ECF6\", \"gridcolor\": \"white\", \"gridwidth\": 2, \"linecolor\": \"white\", \"showbackground\": true, \"ticks\": \"\", \"zerolinecolor\": \"white\"}, \"yaxis\": {\"backgroundcolor\": \"#E5ECF6\", \"gridcolor\": \"white\", \"gridwidth\": 2, \"linecolor\": \"white\", \"showbackground\": true, \"ticks\": \"\", \"zerolinecolor\": \"white\"}, \"zaxis\": {\"backgroundcolor\": \"#E5ECF6\", \"gridcolor\": \"white\", \"gridwidth\": 2, \"linecolor\": \"white\", \"showbackground\": true, \"ticks\": \"\", \"zerolinecolor\": \"white\"}}, \"shapedefaults\": {\"line\": {\"color\": \"#2a3f5f\"}}, \"ternary\": {\"aaxis\": {\"gridcolor\": \"white\", \"linecolor\": \"white\", \"ticks\": \"\"}, \"baxis\": {\"gridcolor\": \"white\", \"linecolor\": \"white\", \"ticks\": \"\"}, \"bgcolor\": \"#E5ECF6\", \"caxis\": {\"gridcolor\": \"white\", \"linecolor\": \"white\", \"ticks\": \"\"}}, \"title\": {\"x\": 0.05}, \"xaxis\": {\"automargin\": true, \"gridcolor\": \"white\", \"linecolor\": \"white\", \"ticks\": \"\", \"title\": {\"standoff\": 15}, \"zerolinecolor\": \"white\", \"zerolinewidth\": 2}, \"yaxis\": {\"automargin\": true, \"gridcolor\": \"white\", \"linecolor\": \"white\", \"ticks\": \"\", \"title\": {\"standoff\": 15}, \"zerolinecolor\": \"white\", \"zerolinewidth\": 2}}}, \"title\": {\"text\": \"Samsung prices across all platforms\"}, \"xaxis\": {\"anchor\": \"y\", \"domain\": [0.0, 1.0], \"title\": {\"text\": \"\"}}, \"yaxis\": {\"anchor\": \"x\", \"domain\": [0.0, 1.0], \"tickprefix\": \"$\", \"title\": {\"text\": \"\"}}},\n",
       "                        {\"responsive\": true}\n",
       "                    ).then(function(){\n",
       "                            \n",
       "var gd = document.getElementById('4a1e7a95-4ab0-435a-8b73-21e825a13796');\n",
       "var x = new MutationObserver(function (mutations, observer) {{\n",
       "        var display = window.getComputedStyle(gd).display;\n",
       "        if (!display || display === 'none') {{\n",
       "            console.log([gd, 'removed!']);\n",
       "            Plotly.purge(gd);\n",
       "            observer.disconnect();\n",
       "        }}\n",
       "}});\n",
       "\n",
       "// Listen for the removal of the full notebook cells\n",
       "var notebookContainer = gd.closest('#notebook-container');\n",
       "if (notebookContainer) {{\n",
       "    x.observe(notebookContainer, {childList: true});\n",
       "}}\n",
       "\n",
       "// Listen for the clearing of the current output cell\n",
       "var outputEl = gd.closest('.output');\n",
       "if (outputEl) {{\n",
       "    x.observe(outputEl, {childList: true});\n",
       "}}\n",
       "\n",
       "                        })\n",
       "                };\n",
       "                });\n",
       "            </script>\n",
       "        </div>"
      ]
     },
     "metadata": {},
     "output_type": "display_data"
    }
   ],
   "source": [
    "# plot with plotly\n",
    "fig = px.scatter(df.loc[df[\"Brand\"] == \"Samsung\"], x=\"Date-Seen\", y=\"Price-Min\",color=\"Manufacturer-Id\")\n",
    "\n",
    "# styling\n",
    "fig.update_yaxes(tickprefix=\"$\") # dollar sign on y-axis\n",
    "fig.update_xaxes(title_text='') # get rid of x-title\n",
    "fig.update_yaxes(title_text='') # get rid of y-title\n",
    "fig.update_traces(marker=dict(size=7, line=dict(width=1, color='DarkSlateGrey')), selector=dict(mode='markers')) # style markers\n",
    "fig.update_layout(\n",
    "    title=\"Samsung prices across all platforms\",\n",
    "    legend_title=\"Models\",\n",
    "    font=dict(\n",
    "        size=12,\n",
    "    )\n",
    ")\n",
    "\n",
    "fig.show()"
   ]
  },
  {
   "cell_type": "code",
   "execution_count": 31,
   "metadata": {},
   "outputs": [],
   "source": [
    "# df1 = df[df[\"Brand\"] == \"Samsung\"]\n",
    "\n",
    "# # Create as many colors as there are unique df['Website']\n",
    "# ManufacturerId = np.unique(df1['Manufacturer-Id'])\n",
    "# colors = [\"red\", \"blue\", \"green\", \"black\", \"pink\", \"slategray\", \"magenta\", \"cyan\", \"gold\", \"lime\"]\n",
    "\n",
    "\n",
    "# # Draw Plot for Each Website\n",
    "# plt.figure(figsize=(16, 10), dpi= 80, facecolor='w', edgecolor='k')\n",
    "\n",
    "# for i, ManufacturerId in enumerate(ManufacturerId):\n",
    "#     plt.scatter('Date-Seen', 'Price-Min', \n",
    "#                 data=df1.loc[df1[\"Manufacturer-Id\"] == ManufacturerId, :], \n",
    "#                 s=50, c=colors[i], label=str(ManufacturerId))\n",
    "    \n",
    "# plt.title(\"Samsung prices across all websites\", fontsize=22)\n",
    "# plt.legend(fontsize=12)"
   ]
  },
  {
   "cell_type": "code",
   "execution_count": 32,
   "metadata": {},
   "outputs": [],
   "source": [
    "# figure, ((ax1, ax2), (ax3, ax4)) = plt.subplots(2, 2, figsize=(16,10))\n",
    "# ax1.scatter('Date-Seen', 'Price-Min', data=df1.loc[df1.Website==\"bestbuy\"], s=50, c=\"red\")\n",
    "# ax2.scatter('Date-Seen', 'Price-Min', data=df1.loc[df1.Website==\"bhphotovideo\"], s=50, c=\"blue\")\n",
    "# ax3.scatter('Date-Seen', 'Price-Min', data=df1.loc[df1.Website==\"ebay\"], s=50, c=\"green\")\n",
    "# ax4.scatter('Date-Seen', 'Price-Min', data=df1.loc[df1.Website==\"walmart\"], s=50, c=\"black\")\n",
    "# ax1.title.set_text('Samsung - Besbuy')\n",
    "# ax2.title.set_text('Samsung - BHPhotovideo')\n",
    "# ax3.title.set_text('Samsung - eBay')\n",
    "# ax4.title.set_text('Samsung - Walmart')"
   ]
  },
  {
   "cell_type": "code",
   "execution_count": 33,
   "metadata": {},
   "outputs": [
    {
     "data": {
      "application/vnd.plotly.v1+json": {
       "config": {
        "plotlyServerURL": "https://plot.ly"
       },
       "data": [
        {
         "hovertemplate": "Manufacturer-Id=XBR55A1E<br>Date-Seen=%{x}<br>Price-Min=%{y}<extra></extra>",
         "legendgroup": "XBR55A1E",
         "marker": {
          "color": "#636efa",
          "line": {
           "color": "DarkSlateGrey",
           "width": 1
          },
          "size": 7,
          "symbol": "circle"
         },
         "mode": "markers",
         "name": "XBR55A1E",
         "orientation": "v",
         "showlegend": true,
         "type": "scatter",
         "x": [
          "2017-07-27T19:00:00",
          "2018-05-26T07:00:00",
          "2017-07-11T22:00:00",
          "2017-06-28T23:00:00",
          "2017-06-27T11:00:00",
          "2017-06-26T22:00:00",
          "2017-06-29T17:00:00",
          "2017-06-25T15:00:00",
          "2017-06-24T03:00:00",
          "2017-06-28T04:00:00",
          "2017-06-24T20:00:00",
          "2018-05-26T07:00:00",
          "2017-12-07T06:00:00",
          "2017-03-30T02:00:00",
          "2018-01-10T07:00:00",
          "2017-11-08T20:00:00",
          "2018-03-09T18:00:00",
          "2017-10-28T17:00:00",
          "2017-10-24T22:00:00",
          "2017-11-08T20:00:00",
          "2017-10-30T14:00:00",
          "2017-10-28T18:00:00",
          "2017-10-24T22:00:00",
          "2017-08-15T21:00:00",
          "2017-08-01T03:00:00",
          "2017-07-26T15:00:00",
          "2017-07-11T05:00:00",
          "2017-12-04T20:00:00",
          "2017-08-01T03:00:00",
          "2017-07-26T15:00:00",
          "2017-07-23T00:00:00",
          "2018-04-26T17:00:00",
          "2018-06-01T15:00:00",
          "2017-08-29T12:00:00",
          "2018-05-04T11:00:00",
          "2018-01-09T20:00:00",
          "2017-09-24T03:00:00",
          "2017-05-31T19:00:00",
          "2017-05-31T16:00:00",
          "2017-05-09T03:00:00",
          "2017-05-01T06:00:00",
          "2017-05-18T02:00:00",
          "2017-04-04T04:00:00",
          "2017-07-26T15:00:00",
          "2017-07-25T18:00:00",
          "2017-07-23T02:00:00",
          "2017-07-24T14:00:00",
          "2017-06-19T04:00:00",
          "2018-04-26T17:00:00",
          "2018-05-27T16:00:00",
          "2018-05-24T11:00:00",
          "2018-05-28T10:00:00",
          "2018-01-09T20:00:00",
          "2017-12-06T22:00:00",
          "2017-12-06T20:00:00",
          "2017-12-04T21:00:00",
          "2017-11-18T10:00:00",
          "2017-09-24T03:00:00",
          "2017-08-29T12:00:00",
          "2017-08-22T04:00:00",
          "2017-08-19T02:00:00",
          "2017-08-22T19:00:00",
          "2017-11-18T10:00:00",
          "2018-04-26T17:00:00",
          "2018-06-01T15:00:00",
          "2017-12-06T20:00:00",
          "2018-05-04T11:00:00",
          "2017-12-04T21:00:00",
          "2017-12-06T22:00:00",
          "2017-07-27T21:00:00",
          "2017-07-25T18:00:00",
          "2017-09-28T04:00:00"
         ],
         "xaxis": "x",
         "y": [
          3050,
          2799.99,
          2999.99,
          2999.99,
          2999.99,
          2999.99,
          2999.99,
          2999.99,
          2999.99,
          2999.99,
          2999.99,
          2499.99,
          3596,
          4999.99,
          4296,
          2798,
          2798,
          2798,
          2798,
          4096,
          4096,
          4096,
          4096,
          3298,
          3219.99,
          3219.99,
          3219.99,
          2498,
          3499.99,
          3499.99,
          3498,
          2998,
          2998,
          2998,
          2998,
          2998,
          2998,
          3999.99,
          3999.99,
          3999.99,
          3999.99,
          3999.99,
          3999.99,
          3040,
          3040,
          3099.52,
          3099.52,
          3099.52,
          2498,
          2498,
          2498,
          2498,
          3298,
          3298,
          3298,
          3298,
          3298,
          3298,
          3298,
          3298,
          3298,
          3099.18,
          2798,
          2498,
          2498,
          2498,
          2498,
          2498,
          2498,
          3050,
          3050,
          2998
         ],
         "yaxis": "y"
        },
        {
         "hovertemplate": "Manufacturer-Id=XBR55X900F<br>Date-Seen=%{x}<br>Price-Min=%{y}<extra></extra>",
         "legendgroup": "XBR55X900F",
         "marker": {
          "color": "#EF553B",
          "line": {
           "color": "DarkSlateGrey",
           "width": 1
          },
          "size": 7,
          "symbol": "circle"
         },
         "mode": "markers",
         "name": "XBR55X900F",
         "orientation": "v",
         "showlegend": true,
         "type": "scatter",
         "x": [
          "2018-04-26T17:00:00",
          "2018-05-27T16:00:00",
          "2018-04-26T17:00:00",
          "2018-07-25T18:00:00",
          "2018-03-31T19:00:00",
          "2018-06-01T09:00:00",
          "2018-06-01T09:00:00",
          "2018-05-25T21:00:00",
          "2018-05-26T15:00:00",
          "2018-05-25T21:00:00",
          "2018-05-26T15:00:00"
         ],
         "xaxis": "x",
         "y": [
          1498,
          1298,
          1498,
          1498,
          1498,
          1498,
          1298,
          1499.99,
          1499.99,
          1299.99,
          1299.99
         ],
         "yaxis": "y"
        },
        {
         "hovertemplate": "Manufacturer-Id=XBR55X700D<br>Date-Seen=%{x}<br>Price-Min=%{y}<extra></extra>",
         "legendgroup": "XBR55X700D",
         "marker": {
          "color": "#00cc96",
          "line": {
           "color": "DarkSlateGrey",
           "width": 1
          },
          "size": 7,
          "symbol": "circle"
         },
         "mode": "markers",
         "name": "XBR55X700D",
         "orientation": "v",
         "showlegend": true,
         "type": "scatter",
         "x": [
          "2017-07-24T21:00:00",
          "2017-07-25T21:00:00",
          "2017-07-23T08:00:00",
          "2017-07-25T17:00:00",
          "2017-07-24T19:00:00",
          "2017-07-26T23:00:00",
          "2017-07-27T11:00:00",
          "2017-07-09T22:00:00",
          "2017-07-18T14:00:00",
          "2017-07-25T18:00:00",
          "2017-07-25T18:00:00",
          "2017-07-17T06:00:00",
          "2017-07-14T12:00:00",
          "2017-07-18T00:00:00",
          "2017-07-17T21:00:00",
          "2017-07-18T14:00:00",
          "2017-08-14T14:00:00",
          "2017-07-15T14:00:00",
          "2017-07-17T10:00:00",
          "2017-07-10T18:00:00",
          "2017-07-08T20:00:00",
          "2017-09-28T04:00:00",
          "2017-07-26T15:00:00",
          "2017-07-27T19:00:00",
          "2017-07-25T18:00:00",
          "2017-07-18T06:00:00",
          "2017-07-21T16:00:00",
          "2017-07-21T14:00:00",
          "2017-07-12T15:00:00",
          "2017-07-14T14:00:00",
          "2017-07-25T17:00:00",
          "2017-07-26T20:00:00",
          "2017-07-25T18:00:00",
          "2017-07-21T15:00:00",
          "2017-07-22T04:00:00",
          "2017-07-24T17:00:00",
          "2017-07-15T23:00:00",
          "2017-07-15T12:00:00",
          "2017-07-18T11:00:00",
          "2017-07-17T19:00:00",
          "2017-07-14T10:00:00",
          "2017-07-17T01:00:00"
         ],
         "xaxis": "x",
         "y": [
          798,
          798,
          629.99,
          629.99,
          629.99,
          629.99,
          629.99,
          629.99,
          629.99,
          629.99,
          600,
          699.95,
          848,
          848,
          450,
          450,
          798,
          746.24,
          550,
          798,
          798,
          789.99,
          789.99,
          789.99,
          789.99,
          848,
          848,
          848,
          848,
          848,
          798,
          798,
          798,
          798,
          798,
          798,
          798,
          798,
          798,
          798,
          798,
          798
         ],
         "yaxis": "y"
        },
        {
         "hovertemplate": "Manufacturer-Id=XBR55X800E<br>Date-Seen=%{x}<br>Price-Min=%{y}<extra></extra>",
         "legendgroup": "XBR55X800E",
         "marker": {
          "color": "#ab63fa",
          "line": {
           "color": "DarkSlateGrey",
           "width": 1
          },
          "size": 7,
          "symbol": "circle"
         },
         "mode": "markers",
         "name": "XBR55X800E",
         "orientation": "v",
         "showlegend": true,
         "type": "scatter",
         "x": [
          "2017-12-06T01:00:00",
          "2017-08-28T12:00:00",
          "2017-07-25T21:00:00",
          "2017-07-15T16:00:00",
          "2017-07-09T03:00:00",
          "2017-07-08T07:00:00",
          "2017-06-29T17:00:00",
          "2017-06-29T03:00:00",
          "2017-06-28T04:00:00",
          "2017-03-30T05:00:00",
          "2017-03-10T19:00:00",
          "2017-03-04T10:00:00",
          "2017-07-25T21:00:00",
          "2017-07-25T18:00:00",
          "2017-07-26T15:00:00",
          "2017-06-29T22:00:00",
          "2018-01-10T14:00:00",
          "2017-07-21T16:00:00",
          "2017-06-24T22:00:00",
          "2017-06-24T07:00:00",
          "2017-06-20T09:00:00",
          "2017-06-23T12:00:00",
          "2017-06-17T23:00:00",
          "2018-04-26T17:00:00",
          "2017-08-29T12:00:00",
          "2017-08-19T05:00:00",
          "2018-05-04T11:00:00",
          "2017-09-24T03:00:00",
          "2018-04-26T17:00:00",
          "2017-12-06T20:00:00",
          "2017-08-29T12:00:00",
          "2017-08-19T05:00:00",
          "2018-05-04T11:00:00",
          "2017-12-04T21:00:00",
          "2017-08-22T10:00:00",
          "2018-01-09T20:00:00",
          "2017-12-06T22:00:00",
          "2017-09-24T03:00:00",
          "2017-11-18T10:00:00",
          "2017-11-16T19:00:00",
          "2017-10-28T17:00:00",
          "2017-10-24T22:00:00",
          "2017-08-22T10:00:00",
          "2017-06-28T04:00:00",
          "2017-08-01T03:00:00",
          "2017-06-15T17:00:00",
          "2018-03-09T18:00:00",
          "2017-07-09T03:00:00",
          "2018-04-26T17:00:00",
          "2018-05-27T16:00:00",
          "2018-03-15T19:00:00",
          "2017-10-24T01:00:00",
          "2018-05-28T11:00:00",
          "2018-05-24T11:00:00",
          "2017-06-07T18:00:00",
          "2017-09-28T04:00:00",
          "2018-03-09T18:00:00",
          "2017-11-16T22:00:00",
          "2018-01-10T07:00:00",
          "2017-06-01T19:00:00",
          "2017-05-31T17:00:00",
          "2017-05-09T07:00:00",
          "2017-05-01T20:00:00",
          "2017-05-18T05:00:00",
          "2018-05-26T15:00:00",
          "2017-06-01T19:00:00",
          "2017-05-31T17:00:00",
          "2017-07-21T16:00:00",
          "2017-09-15T00:00:00",
          "2018-01-09T20:00:00",
          "2017-12-06T22:00:00",
          "2017-12-06T20:00:00",
          "2017-12-04T21:00:00",
          "2017-11-18T10:00:00",
          "2017-07-25T21:00:00",
          "2017-07-23T11:00:00",
          "2017-07-24T21:00:00",
          "2017-07-15T00:00:00",
          "2017-07-15T16:00:00",
          "2017-07-09T03:00:00",
          "2017-07-18T00:00:00",
          "2017-07-11T07:00:00",
          "2017-07-23T08:00:00",
          "2017-07-26T18:00:00",
          "2017-07-25T18:00:00",
          "2017-07-09T22:00:00",
          "2017-07-16T01:00:00",
          "2017-07-18T11:00:00",
          "2017-07-08T22:00:00",
          "2017-06-29T13:00:00",
          "2017-06-27T11:00:00",
          "2017-06-27T20:00:00",
          "2017-06-27T00:00:00",
          "2017-11-16T19:00:00",
          "2017-10-24T01:00:00",
          "2017-08-01T03:00:00",
          "2017-07-26T15:00:00",
          "2017-06-29T22:00:00"
         ],
         "xaxis": "x",
         "y": [
          1896,
          898,
          998,
          998,
          998,
          998,
          998,
          998,
          998,
          1899.99,
          1899.99,
          1899.99,
          998,
          998,
          909.99,
          909.99,
          695.47,
          998,
          1098,
          1098,
          1098,
          1098,
          1098,
          898,
          898,
          898,
          898,
          898,
          1198,
          1198,
          1198,
          1198,
          1198,
          1198,
          1198,
          1198,
          1198,
          1198,
          1198,
          2196,
          2196,
          2196,
          998,
          998,
          919.99,
          1098,
          838,
          1295.2,
          898,
          898,
          898,
          898,
          898,
          898,
          1198,
          1099,
          798,
          798,
          2096,
          1199.99,
          1199.99,
          1199.99,
          1199.99,
          1199.99,
          899.99,
          1091.99,
          1091.99,
          998,
          998,
          798,
          798,
          798,
          798,
          798,
          998,
          998,
          998,
          998,
          998,
          998,
          998,
          998,
          998,
          998,
          998,
          998,
          998,
          998,
          998,
          998,
          998,
          998,
          998,
          898,
          898,
          999.99,
          999.99,
          999.99
         ],
         "yaxis": "y"
        }
       ],
       "layout": {
        "font": {
         "size": 12
        },
        "legend": {
         "title": {
          "text": "Models"
         },
         "tracegroupgap": 0
        },
        "margin": {
         "t": 60
        },
        "template": {
         "data": {
          "bar": [
           {
            "error_x": {
             "color": "#2a3f5f"
            },
            "error_y": {
             "color": "#2a3f5f"
            },
            "marker": {
             "line": {
              "color": "#E5ECF6",
              "width": 0.5
             }
            },
            "type": "bar"
           }
          ],
          "barpolar": [
           {
            "marker": {
             "line": {
              "color": "#E5ECF6",
              "width": 0.5
             }
            },
            "type": "barpolar"
           }
          ],
          "carpet": [
           {
            "aaxis": {
             "endlinecolor": "#2a3f5f",
             "gridcolor": "white",
             "linecolor": "white",
             "minorgridcolor": "white",
             "startlinecolor": "#2a3f5f"
            },
            "baxis": {
             "endlinecolor": "#2a3f5f",
             "gridcolor": "white",
             "linecolor": "white",
             "minorgridcolor": "white",
             "startlinecolor": "#2a3f5f"
            },
            "type": "carpet"
           }
          ],
          "choropleth": [
           {
            "colorbar": {
             "outlinewidth": 0,
             "ticks": ""
            },
            "type": "choropleth"
           }
          ],
          "contour": [
           {
            "colorbar": {
             "outlinewidth": 0,
             "ticks": ""
            },
            "colorscale": [
             [
              0,
              "#0d0887"
             ],
             [
              0.1111111111111111,
              "#46039f"
             ],
             [
              0.2222222222222222,
              "#7201a8"
             ],
             [
              0.3333333333333333,
              "#9c179e"
             ],
             [
              0.4444444444444444,
              "#bd3786"
             ],
             [
              0.5555555555555556,
              "#d8576b"
             ],
             [
              0.6666666666666666,
              "#ed7953"
             ],
             [
              0.7777777777777778,
              "#fb9f3a"
             ],
             [
              0.8888888888888888,
              "#fdca26"
             ],
             [
              1,
              "#f0f921"
             ]
            ],
            "type": "contour"
           }
          ],
          "contourcarpet": [
           {
            "colorbar": {
             "outlinewidth": 0,
             "ticks": ""
            },
            "type": "contourcarpet"
           }
          ],
          "heatmap": [
           {
            "colorbar": {
             "outlinewidth": 0,
             "ticks": ""
            },
            "colorscale": [
             [
              0,
              "#0d0887"
             ],
             [
              0.1111111111111111,
              "#46039f"
             ],
             [
              0.2222222222222222,
              "#7201a8"
             ],
             [
              0.3333333333333333,
              "#9c179e"
             ],
             [
              0.4444444444444444,
              "#bd3786"
             ],
             [
              0.5555555555555556,
              "#d8576b"
             ],
             [
              0.6666666666666666,
              "#ed7953"
             ],
             [
              0.7777777777777778,
              "#fb9f3a"
             ],
             [
              0.8888888888888888,
              "#fdca26"
             ],
             [
              1,
              "#f0f921"
             ]
            ],
            "type": "heatmap"
           }
          ],
          "heatmapgl": [
           {
            "colorbar": {
             "outlinewidth": 0,
             "ticks": ""
            },
            "colorscale": [
             [
              0,
              "#0d0887"
             ],
             [
              0.1111111111111111,
              "#46039f"
             ],
             [
              0.2222222222222222,
              "#7201a8"
             ],
             [
              0.3333333333333333,
              "#9c179e"
             ],
             [
              0.4444444444444444,
              "#bd3786"
             ],
             [
              0.5555555555555556,
              "#d8576b"
             ],
             [
              0.6666666666666666,
              "#ed7953"
             ],
             [
              0.7777777777777778,
              "#fb9f3a"
             ],
             [
              0.8888888888888888,
              "#fdca26"
             ],
             [
              1,
              "#f0f921"
             ]
            ],
            "type": "heatmapgl"
           }
          ],
          "histogram": [
           {
            "marker": {
             "colorbar": {
              "outlinewidth": 0,
              "ticks": ""
             }
            },
            "type": "histogram"
           }
          ],
          "histogram2d": [
           {
            "colorbar": {
             "outlinewidth": 0,
             "ticks": ""
            },
            "colorscale": [
             [
              0,
              "#0d0887"
             ],
             [
              0.1111111111111111,
              "#46039f"
             ],
             [
              0.2222222222222222,
              "#7201a8"
             ],
             [
              0.3333333333333333,
              "#9c179e"
             ],
             [
              0.4444444444444444,
              "#bd3786"
             ],
             [
              0.5555555555555556,
              "#d8576b"
             ],
             [
              0.6666666666666666,
              "#ed7953"
             ],
             [
              0.7777777777777778,
              "#fb9f3a"
             ],
             [
              0.8888888888888888,
              "#fdca26"
             ],
             [
              1,
              "#f0f921"
             ]
            ],
            "type": "histogram2d"
           }
          ],
          "histogram2dcontour": [
           {
            "colorbar": {
             "outlinewidth": 0,
             "ticks": ""
            },
            "colorscale": [
             [
              0,
              "#0d0887"
             ],
             [
              0.1111111111111111,
              "#46039f"
             ],
             [
              0.2222222222222222,
              "#7201a8"
             ],
             [
              0.3333333333333333,
              "#9c179e"
             ],
             [
              0.4444444444444444,
              "#bd3786"
             ],
             [
              0.5555555555555556,
              "#d8576b"
             ],
             [
              0.6666666666666666,
              "#ed7953"
             ],
             [
              0.7777777777777778,
              "#fb9f3a"
             ],
             [
              0.8888888888888888,
              "#fdca26"
             ],
             [
              1,
              "#f0f921"
             ]
            ],
            "type": "histogram2dcontour"
           }
          ],
          "mesh3d": [
           {
            "colorbar": {
             "outlinewidth": 0,
             "ticks": ""
            },
            "type": "mesh3d"
           }
          ],
          "parcoords": [
           {
            "line": {
             "colorbar": {
              "outlinewidth": 0,
              "ticks": ""
             }
            },
            "type": "parcoords"
           }
          ],
          "pie": [
           {
            "automargin": true,
            "type": "pie"
           }
          ],
          "scatter": [
           {
            "marker": {
             "colorbar": {
              "outlinewidth": 0,
              "ticks": ""
             }
            },
            "type": "scatter"
           }
          ],
          "scatter3d": [
           {
            "line": {
             "colorbar": {
              "outlinewidth": 0,
              "ticks": ""
             }
            },
            "marker": {
             "colorbar": {
              "outlinewidth": 0,
              "ticks": ""
             }
            },
            "type": "scatter3d"
           }
          ],
          "scattercarpet": [
           {
            "marker": {
             "colorbar": {
              "outlinewidth": 0,
              "ticks": ""
             }
            },
            "type": "scattercarpet"
           }
          ],
          "scattergeo": [
           {
            "marker": {
             "colorbar": {
              "outlinewidth": 0,
              "ticks": ""
             }
            },
            "type": "scattergeo"
           }
          ],
          "scattergl": [
           {
            "marker": {
             "colorbar": {
              "outlinewidth": 0,
              "ticks": ""
             }
            },
            "type": "scattergl"
           }
          ],
          "scattermapbox": [
           {
            "marker": {
             "colorbar": {
              "outlinewidth": 0,
              "ticks": ""
             }
            },
            "type": "scattermapbox"
           }
          ],
          "scatterpolar": [
           {
            "marker": {
             "colorbar": {
              "outlinewidth": 0,
              "ticks": ""
             }
            },
            "type": "scatterpolar"
           }
          ],
          "scatterpolargl": [
           {
            "marker": {
             "colorbar": {
              "outlinewidth": 0,
              "ticks": ""
             }
            },
            "type": "scatterpolargl"
           }
          ],
          "scatterternary": [
           {
            "marker": {
             "colorbar": {
              "outlinewidth": 0,
              "ticks": ""
             }
            },
            "type": "scatterternary"
           }
          ],
          "surface": [
           {
            "colorbar": {
             "outlinewidth": 0,
             "ticks": ""
            },
            "colorscale": [
             [
              0,
              "#0d0887"
             ],
             [
              0.1111111111111111,
              "#46039f"
             ],
             [
              0.2222222222222222,
              "#7201a8"
             ],
             [
              0.3333333333333333,
              "#9c179e"
             ],
             [
              0.4444444444444444,
              "#bd3786"
             ],
             [
              0.5555555555555556,
              "#d8576b"
             ],
             [
              0.6666666666666666,
              "#ed7953"
             ],
             [
              0.7777777777777778,
              "#fb9f3a"
             ],
             [
              0.8888888888888888,
              "#fdca26"
             ],
             [
              1,
              "#f0f921"
             ]
            ],
            "type": "surface"
           }
          ],
          "table": [
           {
            "cells": {
             "fill": {
              "color": "#EBF0F8"
             },
             "line": {
              "color": "white"
             }
            },
            "header": {
             "fill": {
              "color": "#C8D4E3"
             },
             "line": {
              "color": "white"
             }
            },
            "type": "table"
           }
          ]
         },
         "layout": {
          "annotationdefaults": {
           "arrowcolor": "#2a3f5f",
           "arrowhead": 0,
           "arrowwidth": 1
          },
          "coloraxis": {
           "colorbar": {
            "outlinewidth": 0,
            "ticks": ""
           }
          },
          "colorscale": {
           "diverging": [
            [
             0,
             "#8e0152"
            ],
            [
             0.1,
             "#c51b7d"
            ],
            [
             0.2,
             "#de77ae"
            ],
            [
             0.3,
             "#f1b6da"
            ],
            [
             0.4,
             "#fde0ef"
            ],
            [
             0.5,
             "#f7f7f7"
            ],
            [
             0.6,
             "#e6f5d0"
            ],
            [
             0.7,
             "#b8e186"
            ],
            [
             0.8,
             "#7fbc41"
            ],
            [
             0.9,
             "#4d9221"
            ],
            [
             1,
             "#276419"
            ]
           ],
           "sequential": [
            [
             0,
             "#0d0887"
            ],
            [
             0.1111111111111111,
             "#46039f"
            ],
            [
             0.2222222222222222,
             "#7201a8"
            ],
            [
             0.3333333333333333,
             "#9c179e"
            ],
            [
             0.4444444444444444,
             "#bd3786"
            ],
            [
             0.5555555555555556,
             "#d8576b"
            ],
            [
             0.6666666666666666,
             "#ed7953"
            ],
            [
             0.7777777777777778,
             "#fb9f3a"
            ],
            [
             0.8888888888888888,
             "#fdca26"
            ],
            [
             1,
             "#f0f921"
            ]
           ],
           "sequentialminus": [
            [
             0,
             "#0d0887"
            ],
            [
             0.1111111111111111,
             "#46039f"
            ],
            [
             0.2222222222222222,
             "#7201a8"
            ],
            [
             0.3333333333333333,
             "#9c179e"
            ],
            [
             0.4444444444444444,
             "#bd3786"
            ],
            [
             0.5555555555555556,
             "#d8576b"
            ],
            [
             0.6666666666666666,
             "#ed7953"
            ],
            [
             0.7777777777777778,
             "#fb9f3a"
            ],
            [
             0.8888888888888888,
             "#fdca26"
            ],
            [
             1,
             "#f0f921"
            ]
           ]
          },
          "colorway": [
           "#636efa",
           "#EF553B",
           "#00cc96",
           "#ab63fa",
           "#FFA15A",
           "#19d3f3",
           "#FF6692",
           "#B6E880",
           "#FF97FF",
           "#FECB52"
          ],
          "font": {
           "color": "#2a3f5f"
          },
          "geo": {
           "bgcolor": "white",
           "lakecolor": "white",
           "landcolor": "#E5ECF6",
           "showlakes": true,
           "showland": true,
           "subunitcolor": "white"
          },
          "hoverlabel": {
           "align": "left"
          },
          "hovermode": "closest",
          "mapbox": {
           "style": "light"
          },
          "paper_bgcolor": "white",
          "plot_bgcolor": "#E5ECF6",
          "polar": {
           "angularaxis": {
            "gridcolor": "white",
            "linecolor": "white",
            "ticks": ""
           },
           "bgcolor": "#E5ECF6",
           "radialaxis": {
            "gridcolor": "white",
            "linecolor": "white",
            "ticks": ""
           }
          },
          "scene": {
           "xaxis": {
            "backgroundcolor": "#E5ECF6",
            "gridcolor": "white",
            "gridwidth": 2,
            "linecolor": "white",
            "showbackground": true,
            "ticks": "",
            "zerolinecolor": "white"
           },
           "yaxis": {
            "backgroundcolor": "#E5ECF6",
            "gridcolor": "white",
            "gridwidth": 2,
            "linecolor": "white",
            "showbackground": true,
            "ticks": "",
            "zerolinecolor": "white"
           },
           "zaxis": {
            "backgroundcolor": "#E5ECF6",
            "gridcolor": "white",
            "gridwidth": 2,
            "linecolor": "white",
            "showbackground": true,
            "ticks": "",
            "zerolinecolor": "white"
           }
          },
          "shapedefaults": {
           "line": {
            "color": "#2a3f5f"
           }
          },
          "ternary": {
           "aaxis": {
            "gridcolor": "white",
            "linecolor": "white",
            "ticks": ""
           },
           "baxis": {
            "gridcolor": "white",
            "linecolor": "white",
            "ticks": ""
           },
           "bgcolor": "#E5ECF6",
           "caxis": {
            "gridcolor": "white",
            "linecolor": "white",
            "ticks": ""
           }
          },
          "title": {
           "x": 0.05
          },
          "xaxis": {
           "automargin": true,
           "gridcolor": "white",
           "linecolor": "white",
           "ticks": "",
           "title": {
            "standoff": 15
           },
           "zerolinecolor": "white",
           "zerolinewidth": 2
          },
          "yaxis": {
           "automargin": true,
           "gridcolor": "white",
           "linecolor": "white",
           "ticks": "",
           "title": {
            "standoff": 15
           },
           "zerolinecolor": "white",
           "zerolinewidth": 2
          }
         }
        },
        "title": {
         "text": "Sony prices across all platforms"
        },
        "xaxis": {
         "anchor": "y",
         "domain": [
          0,
          1
         ],
         "title": {
          "text": ""
         }
        },
        "yaxis": {
         "anchor": "x",
         "domain": [
          0,
          1
         ],
         "tickprefix": "$",
         "title": {
          "text": ""
         }
        }
       }
      },
      "text/html": [
       "<div>\n",
       "        \n",
       "        \n",
       "            <div id=\"f4c28a78-7eb3-4bde-bc67-648ed541d298\" class=\"plotly-graph-div\" style=\"height:525px; width:100%;\"></div>\n",
       "            <script type=\"text/javascript\">\n",
       "                require([\"plotly\"], function(Plotly) {\n",
       "                    window.PLOTLYENV=window.PLOTLYENV || {};\n",
       "                    \n",
       "                if (document.getElementById(\"f4c28a78-7eb3-4bde-bc67-648ed541d298\")) {\n",
       "                    Plotly.newPlot(\n",
       "                        'f4c28a78-7eb3-4bde-bc67-648ed541d298',\n",
       "                        [{\"hovertemplate\": \"Manufacturer-Id=XBR55A1E<br>Date-Seen=%{x}<br>Price-Min=%{y}<extra></extra>\", \"legendgroup\": \"XBR55A1E\", \"marker\": {\"color\": \"#636efa\", \"line\": {\"color\": \"DarkSlateGrey\", \"width\": 1}, \"size\": 7, \"symbol\": \"circle\"}, \"mode\": \"markers\", \"name\": \"XBR55A1E\", \"orientation\": \"v\", \"showlegend\": true, \"type\": \"scatter\", \"x\": [\"2017-07-27T19:00:00\", \"2018-05-26T07:00:00\", \"2017-07-11T22:00:00\", \"2017-06-28T23:00:00\", \"2017-06-27T11:00:00\", \"2017-06-26T22:00:00\", \"2017-06-29T17:00:00\", \"2017-06-25T15:00:00\", \"2017-06-24T03:00:00\", \"2017-06-28T04:00:00\", \"2017-06-24T20:00:00\", \"2018-05-26T07:00:00\", \"2017-12-07T06:00:00\", \"2017-03-30T02:00:00\", \"2018-01-10T07:00:00\", \"2017-11-08T20:00:00\", \"2018-03-09T18:00:00\", \"2017-10-28T17:00:00\", \"2017-10-24T22:00:00\", \"2017-11-08T20:00:00\", \"2017-10-30T14:00:00\", \"2017-10-28T18:00:00\", \"2017-10-24T22:00:00\", \"2017-08-15T21:00:00\", \"2017-08-01T03:00:00\", \"2017-07-26T15:00:00\", \"2017-07-11T05:00:00\", \"2017-12-04T20:00:00\", \"2017-08-01T03:00:00\", \"2017-07-26T15:00:00\", \"2017-07-23T00:00:00\", \"2018-04-26T17:00:00\", \"2018-06-01T15:00:00\", \"2017-08-29T12:00:00\", \"2018-05-04T11:00:00\", \"2018-01-09T20:00:00\", \"2017-09-24T03:00:00\", \"2017-05-31T19:00:00\", \"2017-05-31T16:00:00\", \"2017-05-09T03:00:00\", \"2017-05-01T06:00:00\", \"2017-05-18T02:00:00\", \"2017-04-04T04:00:00\", \"2017-07-26T15:00:00\", \"2017-07-25T18:00:00\", \"2017-07-23T02:00:00\", \"2017-07-24T14:00:00\", \"2017-06-19T04:00:00\", \"2018-04-26T17:00:00\", \"2018-05-27T16:00:00\", \"2018-05-24T11:00:00\", \"2018-05-28T10:00:00\", \"2018-01-09T20:00:00\", \"2017-12-06T22:00:00\", \"2017-12-06T20:00:00\", \"2017-12-04T21:00:00\", \"2017-11-18T10:00:00\", \"2017-09-24T03:00:00\", \"2017-08-29T12:00:00\", \"2017-08-22T04:00:00\", \"2017-08-19T02:00:00\", \"2017-08-22T19:00:00\", \"2017-11-18T10:00:00\", \"2018-04-26T17:00:00\", \"2018-06-01T15:00:00\", \"2017-12-06T20:00:00\", \"2018-05-04T11:00:00\", \"2017-12-04T21:00:00\", \"2017-12-06T22:00:00\", \"2017-07-27T21:00:00\", \"2017-07-25T18:00:00\", \"2017-09-28T04:00:00\"], \"xaxis\": \"x\", \"y\": [3050.0, 2799.99, 2999.99, 2999.99, 2999.99, 2999.99, 2999.99, 2999.99, 2999.99, 2999.99, 2999.99, 2499.99, 3596.0, 4999.99, 4296.0, 2798.0, 2798.0, 2798.0, 2798.0, 4096.0, 4096.0, 4096.0, 4096.0, 3298.0, 3219.99, 3219.99, 3219.99, 2498.0, 3499.99, 3499.99, 3498.0, 2998.0, 2998.0, 2998.0, 2998.0, 2998.0, 2998.0, 3999.99, 3999.99, 3999.99, 3999.99, 3999.99, 3999.99, 3040.0, 3040.0, 3099.52, 3099.52, 3099.52, 2498.0, 2498.0, 2498.0, 2498.0, 3298.0, 3298.0, 3298.0, 3298.0, 3298.0, 3298.0, 3298.0, 3298.0, 3298.0, 3099.18, 2798.0, 2498.0, 2498.0, 2498.0, 2498.0, 2498.0, 2498.0, 3050.0, 3050.0, 2998.0], \"yaxis\": \"y\"}, {\"hovertemplate\": \"Manufacturer-Id=XBR55X900F<br>Date-Seen=%{x}<br>Price-Min=%{y}<extra></extra>\", \"legendgroup\": \"XBR55X900F\", \"marker\": {\"color\": \"#EF553B\", \"line\": {\"color\": \"DarkSlateGrey\", \"width\": 1}, \"size\": 7, \"symbol\": \"circle\"}, \"mode\": \"markers\", \"name\": \"XBR55X900F\", \"orientation\": \"v\", \"showlegend\": true, \"type\": \"scatter\", \"x\": [\"2018-04-26T17:00:00\", \"2018-05-27T16:00:00\", \"2018-04-26T17:00:00\", \"2018-07-25T18:00:00\", \"2018-03-31T19:00:00\", \"2018-06-01T09:00:00\", \"2018-06-01T09:00:00\", \"2018-05-25T21:00:00\", \"2018-05-26T15:00:00\", \"2018-05-25T21:00:00\", \"2018-05-26T15:00:00\"], \"xaxis\": \"x\", \"y\": [1498.0, 1298.0, 1498.0, 1498.0, 1498.0, 1498.0, 1298.0, 1499.99, 1499.99, 1299.99, 1299.99], \"yaxis\": \"y\"}, {\"hovertemplate\": \"Manufacturer-Id=XBR55X700D<br>Date-Seen=%{x}<br>Price-Min=%{y}<extra></extra>\", \"legendgroup\": \"XBR55X700D\", \"marker\": {\"color\": \"#00cc96\", \"line\": {\"color\": \"DarkSlateGrey\", \"width\": 1}, \"size\": 7, \"symbol\": \"circle\"}, \"mode\": \"markers\", \"name\": \"XBR55X700D\", \"orientation\": \"v\", \"showlegend\": true, \"type\": \"scatter\", \"x\": [\"2017-07-24T21:00:00\", \"2017-07-25T21:00:00\", \"2017-07-23T08:00:00\", \"2017-07-25T17:00:00\", \"2017-07-24T19:00:00\", \"2017-07-26T23:00:00\", \"2017-07-27T11:00:00\", \"2017-07-09T22:00:00\", \"2017-07-18T14:00:00\", \"2017-07-25T18:00:00\", \"2017-07-25T18:00:00\", \"2017-07-17T06:00:00\", \"2017-07-14T12:00:00\", \"2017-07-18T00:00:00\", \"2017-07-17T21:00:00\", \"2017-07-18T14:00:00\", \"2017-08-14T14:00:00\", \"2017-07-15T14:00:00\", \"2017-07-17T10:00:00\", \"2017-07-10T18:00:00\", \"2017-07-08T20:00:00\", \"2017-09-28T04:00:00\", \"2017-07-26T15:00:00\", \"2017-07-27T19:00:00\", \"2017-07-25T18:00:00\", \"2017-07-18T06:00:00\", \"2017-07-21T16:00:00\", \"2017-07-21T14:00:00\", \"2017-07-12T15:00:00\", \"2017-07-14T14:00:00\", \"2017-07-25T17:00:00\", \"2017-07-26T20:00:00\", \"2017-07-25T18:00:00\", \"2017-07-21T15:00:00\", \"2017-07-22T04:00:00\", \"2017-07-24T17:00:00\", \"2017-07-15T23:00:00\", \"2017-07-15T12:00:00\", \"2017-07-18T11:00:00\", \"2017-07-17T19:00:00\", \"2017-07-14T10:00:00\", \"2017-07-17T01:00:00\"], \"xaxis\": \"x\", \"y\": [798.0, 798.0, 629.99, 629.99, 629.99, 629.99, 629.99, 629.99, 629.99, 629.99, 600.0, 699.95, 848.0, 848.0, 450.0, 450.0, 798.0, 746.24, 550.0, 798.0, 798.0, 789.99, 789.99, 789.99, 789.99, 848.0, 848.0, 848.0, 848.0, 848.0, 798.0, 798.0, 798.0, 798.0, 798.0, 798.0, 798.0, 798.0, 798.0, 798.0, 798.0, 798.0], \"yaxis\": \"y\"}, {\"hovertemplate\": \"Manufacturer-Id=XBR55X800E<br>Date-Seen=%{x}<br>Price-Min=%{y}<extra></extra>\", \"legendgroup\": \"XBR55X800E\", \"marker\": {\"color\": \"#ab63fa\", \"line\": {\"color\": \"DarkSlateGrey\", \"width\": 1}, \"size\": 7, \"symbol\": \"circle\"}, \"mode\": \"markers\", \"name\": \"XBR55X800E\", \"orientation\": \"v\", \"showlegend\": true, \"type\": \"scatter\", \"x\": [\"2017-12-06T01:00:00\", \"2017-08-28T12:00:00\", \"2017-07-25T21:00:00\", \"2017-07-15T16:00:00\", \"2017-07-09T03:00:00\", \"2017-07-08T07:00:00\", \"2017-06-29T17:00:00\", \"2017-06-29T03:00:00\", \"2017-06-28T04:00:00\", \"2017-03-30T05:00:00\", \"2017-03-10T19:00:00\", \"2017-03-04T10:00:00\", \"2017-07-25T21:00:00\", \"2017-07-25T18:00:00\", \"2017-07-26T15:00:00\", \"2017-06-29T22:00:00\", \"2018-01-10T14:00:00\", \"2017-07-21T16:00:00\", \"2017-06-24T22:00:00\", \"2017-06-24T07:00:00\", \"2017-06-20T09:00:00\", \"2017-06-23T12:00:00\", \"2017-06-17T23:00:00\", \"2018-04-26T17:00:00\", \"2017-08-29T12:00:00\", \"2017-08-19T05:00:00\", \"2018-05-04T11:00:00\", \"2017-09-24T03:00:00\", \"2018-04-26T17:00:00\", \"2017-12-06T20:00:00\", \"2017-08-29T12:00:00\", \"2017-08-19T05:00:00\", \"2018-05-04T11:00:00\", \"2017-12-04T21:00:00\", \"2017-08-22T10:00:00\", \"2018-01-09T20:00:00\", \"2017-12-06T22:00:00\", \"2017-09-24T03:00:00\", \"2017-11-18T10:00:00\", \"2017-11-16T19:00:00\", \"2017-10-28T17:00:00\", \"2017-10-24T22:00:00\", \"2017-08-22T10:00:00\", \"2017-06-28T04:00:00\", \"2017-08-01T03:00:00\", \"2017-06-15T17:00:00\", \"2018-03-09T18:00:00\", \"2017-07-09T03:00:00\", \"2018-04-26T17:00:00\", \"2018-05-27T16:00:00\", \"2018-03-15T19:00:00\", \"2017-10-24T01:00:00\", \"2018-05-28T11:00:00\", \"2018-05-24T11:00:00\", \"2017-06-07T18:00:00\", \"2017-09-28T04:00:00\", \"2018-03-09T18:00:00\", \"2017-11-16T22:00:00\", \"2018-01-10T07:00:00\", \"2017-06-01T19:00:00\", \"2017-05-31T17:00:00\", \"2017-05-09T07:00:00\", \"2017-05-01T20:00:00\", \"2017-05-18T05:00:00\", \"2018-05-26T15:00:00\", \"2017-06-01T19:00:00\", \"2017-05-31T17:00:00\", \"2017-07-21T16:00:00\", \"2017-09-15T00:00:00\", \"2018-01-09T20:00:00\", \"2017-12-06T22:00:00\", \"2017-12-06T20:00:00\", \"2017-12-04T21:00:00\", \"2017-11-18T10:00:00\", \"2017-07-25T21:00:00\", \"2017-07-23T11:00:00\", \"2017-07-24T21:00:00\", \"2017-07-15T00:00:00\", \"2017-07-15T16:00:00\", \"2017-07-09T03:00:00\", \"2017-07-18T00:00:00\", \"2017-07-11T07:00:00\", \"2017-07-23T08:00:00\", \"2017-07-26T18:00:00\", \"2017-07-25T18:00:00\", \"2017-07-09T22:00:00\", \"2017-07-16T01:00:00\", \"2017-07-18T11:00:00\", \"2017-07-08T22:00:00\", \"2017-06-29T13:00:00\", \"2017-06-27T11:00:00\", \"2017-06-27T20:00:00\", \"2017-06-27T00:00:00\", \"2017-11-16T19:00:00\", \"2017-10-24T01:00:00\", \"2017-08-01T03:00:00\", \"2017-07-26T15:00:00\", \"2017-06-29T22:00:00\"], \"xaxis\": \"x\", \"y\": [1896.0, 898.0, 998.0, 998.0, 998.0, 998.0, 998.0, 998.0, 998.0, 1899.99, 1899.99, 1899.99, 998.0, 998.0, 909.99, 909.99, 695.47, 998.0, 1098.0, 1098.0, 1098.0, 1098.0, 1098.0, 898.0, 898.0, 898.0, 898.0, 898.0, 1198.0, 1198.0, 1198.0, 1198.0, 1198.0, 1198.0, 1198.0, 1198.0, 1198.0, 1198.0, 1198.0, 2196.0, 2196.0, 2196.0, 998.0, 998.0, 919.99, 1098.0, 838.0, 1295.2, 898.0, 898.0, 898.0, 898.0, 898.0, 898.0, 1198.0, 1099.0, 798.0, 798.0, 2096.0, 1199.99, 1199.99, 1199.99, 1199.99, 1199.99, 899.99, 1091.99, 1091.99, 998.0, 998.0, 798.0, 798.0, 798.0, 798.0, 798.0, 998.0, 998.0, 998.0, 998.0, 998.0, 998.0, 998.0, 998.0, 998.0, 998.0, 998.0, 998.0, 998.0, 998.0, 998.0, 998.0, 998.0, 998.0, 998.0, 898.0, 898.0, 999.99, 999.99, 999.99], \"yaxis\": \"y\"}],\n",
       "                        {\"font\": {\"size\": 12}, \"legend\": {\"title\": {\"text\": \"Models\"}, \"tracegroupgap\": 0}, \"margin\": {\"t\": 60}, \"template\": {\"data\": {\"bar\": [{\"error_x\": {\"color\": \"#2a3f5f\"}, \"error_y\": {\"color\": \"#2a3f5f\"}, \"marker\": {\"line\": {\"color\": \"#E5ECF6\", \"width\": 0.5}}, \"type\": \"bar\"}], \"barpolar\": [{\"marker\": {\"line\": {\"color\": \"#E5ECF6\", \"width\": 0.5}}, \"type\": \"barpolar\"}], \"carpet\": [{\"aaxis\": {\"endlinecolor\": \"#2a3f5f\", \"gridcolor\": \"white\", \"linecolor\": \"white\", \"minorgridcolor\": \"white\", \"startlinecolor\": \"#2a3f5f\"}, \"baxis\": {\"endlinecolor\": \"#2a3f5f\", \"gridcolor\": \"white\", \"linecolor\": \"white\", \"minorgridcolor\": \"white\", \"startlinecolor\": \"#2a3f5f\"}, \"type\": \"carpet\"}], \"choropleth\": [{\"colorbar\": {\"outlinewidth\": 0, \"ticks\": \"\"}, \"type\": \"choropleth\"}], \"contour\": [{\"colorbar\": {\"outlinewidth\": 0, \"ticks\": \"\"}, \"colorscale\": [[0.0, \"#0d0887\"], [0.1111111111111111, \"#46039f\"], [0.2222222222222222, \"#7201a8\"], [0.3333333333333333, \"#9c179e\"], [0.4444444444444444, \"#bd3786\"], [0.5555555555555556, \"#d8576b\"], [0.6666666666666666, \"#ed7953\"], [0.7777777777777778, \"#fb9f3a\"], [0.8888888888888888, \"#fdca26\"], [1.0, \"#f0f921\"]], \"type\": \"contour\"}], \"contourcarpet\": [{\"colorbar\": {\"outlinewidth\": 0, \"ticks\": \"\"}, \"type\": \"contourcarpet\"}], \"heatmap\": [{\"colorbar\": {\"outlinewidth\": 0, \"ticks\": \"\"}, \"colorscale\": [[0.0, \"#0d0887\"], [0.1111111111111111, \"#46039f\"], [0.2222222222222222, \"#7201a8\"], [0.3333333333333333, \"#9c179e\"], [0.4444444444444444, \"#bd3786\"], [0.5555555555555556, \"#d8576b\"], [0.6666666666666666, \"#ed7953\"], [0.7777777777777778, \"#fb9f3a\"], [0.8888888888888888, \"#fdca26\"], [1.0, \"#f0f921\"]], \"type\": \"heatmap\"}], \"heatmapgl\": [{\"colorbar\": {\"outlinewidth\": 0, \"ticks\": \"\"}, \"colorscale\": [[0.0, \"#0d0887\"], [0.1111111111111111, \"#46039f\"], [0.2222222222222222, \"#7201a8\"], [0.3333333333333333, \"#9c179e\"], [0.4444444444444444, \"#bd3786\"], [0.5555555555555556, \"#d8576b\"], [0.6666666666666666, \"#ed7953\"], [0.7777777777777778, \"#fb9f3a\"], [0.8888888888888888, \"#fdca26\"], [1.0, \"#f0f921\"]], \"type\": \"heatmapgl\"}], \"histogram\": [{\"marker\": {\"colorbar\": {\"outlinewidth\": 0, \"ticks\": \"\"}}, \"type\": \"histogram\"}], \"histogram2d\": [{\"colorbar\": {\"outlinewidth\": 0, \"ticks\": \"\"}, \"colorscale\": [[0.0, \"#0d0887\"], [0.1111111111111111, \"#46039f\"], [0.2222222222222222, \"#7201a8\"], [0.3333333333333333, \"#9c179e\"], [0.4444444444444444, \"#bd3786\"], [0.5555555555555556, \"#d8576b\"], [0.6666666666666666, \"#ed7953\"], [0.7777777777777778, \"#fb9f3a\"], [0.8888888888888888, \"#fdca26\"], [1.0, \"#f0f921\"]], \"type\": \"histogram2d\"}], \"histogram2dcontour\": [{\"colorbar\": {\"outlinewidth\": 0, \"ticks\": \"\"}, \"colorscale\": [[0.0, \"#0d0887\"], [0.1111111111111111, \"#46039f\"], [0.2222222222222222, \"#7201a8\"], [0.3333333333333333, \"#9c179e\"], [0.4444444444444444, \"#bd3786\"], [0.5555555555555556, \"#d8576b\"], [0.6666666666666666, \"#ed7953\"], [0.7777777777777778, \"#fb9f3a\"], [0.8888888888888888, \"#fdca26\"], [1.0, \"#f0f921\"]], \"type\": \"histogram2dcontour\"}], \"mesh3d\": [{\"colorbar\": {\"outlinewidth\": 0, \"ticks\": \"\"}, \"type\": \"mesh3d\"}], \"parcoords\": [{\"line\": {\"colorbar\": {\"outlinewidth\": 0, \"ticks\": \"\"}}, \"type\": \"parcoords\"}], \"pie\": [{\"automargin\": true, \"type\": \"pie\"}], \"scatter\": [{\"marker\": {\"colorbar\": {\"outlinewidth\": 0, \"ticks\": \"\"}}, \"type\": \"scatter\"}], \"scatter3d\": [{\"line\": {\"colorbar\": {\"outlinewidth\": 0, \"ticks\": \"\"}}, \"marker\": {\"colorbar\": {\"outlinewidth\": 0, \"ticks\": \"\"}}, \"type\": \"scatter3d\"}], \"scattercarpet\": [{\"marker\": {\"colorbar\": {\"outlinewidth\": 0, \"ticks\": \"\"}}, \"type\": \"scattercarpet\"}], \"scattergeo\": [{\"marker\": {\"colorbar\": {\"outlinewidth\": 0, \"ticks\": \"\"}}, \"type\": \"scattergeo\"}], \"scattergl\": [{\"marker\": {\"colorbar\": {\"outlinewidth\": 0, \"ticks\": \"\"}}, \"type\": \"scattergl\"}], \"scattermapbox\": [{\"marker\": {\"colorbar\": {\"outlinewidth\": 0, \"ticks\": \"\"}}, \"type\": \"scattermapbox\"}], \"scatterpolar\": [{\"marker\": {\"colorbar\": {\"outlinewidth\": 0, \"ticks\": \"\"}}, \"type\": \"scatterpolar\"}], \"scatterpolargl\": [{\"marker\": {\"colorbar\": {\"outlinewidth\": 0, \"ticks\": \"\"}}, \"type\": \"scatterpolargl\"}], \"scatterternary\": [{\"marker\": {\"colorbar\": {\"outlinewidth\": 0, \"ticks\": \"\"}}, \"type\": \"scatterternary\"}], \"surface\": [{\"colorbar\": {\"outlinewidth\": 0, \"ticks\": \"\"}, \"colorscale\": [[0.0, \"#0d0887\"], [0.1111111111111111, \"#46039f\"], [0.2222222222222222, \"#7201a8\"], [0.3333333333333333, \"#9c179e\"], [0.4444444444444444, \"#bd3786\"], [0.5555555555555556, \"#d8576b\"], [0.6666666666666666, \"#ed7953\"], [0.7777777777777778, \"#fb9f3a\"], [0.8888888888888888, \"#fdca26\"], [1.0, \"#f0f921\"]], \"type\": \"surface\"}], \"table\": [{\"cells\": {\"fill\": {\"color\": \"#EBF0F8\"}, \"line\": {\"color\": \"white\"}}, \"header\": {\"fill\": {\"color\": \"#C8D4E3\"}, \"line\": {\"color\": \"white\"}}, \"type\": \"table\"}]}, \"layout\": {\"annotationdefaults\": {\"arrowcolor\": \"#2a3f5f\", \"arrowhead\": 0, \"arrowwidth\": 1}, \"coloraxis\": {\"colorbar\": {\"outlinewidth\": 0, \"ticks\": \"\"}}, \"colorscale\": {\"diverging\": [[0, \"#8e0152\"], [0.1, \"#c51b7d\"], [0.2, \"#de77ae\"], [0.3, \"#f1b6da\"], [0.4, \"#fde0ef\"], [0.5, \"#f7f7f7\"], [0.6, \"#e6f5d0\"], [0.7, \"#b8e186\"], [0.8, \"#7fbc41\"], [0.9, \"#4d9221\"], [1, \"#276419\"]], \"sequential\": [[0.0, \"#0d0887\"], [0.1111111111111111, \"#46039f\"], [0.2222222222222222, \"#7201a8\"], [0.3333333333333333, \"#9c179e\"], [0.4444444444444444, \"#bd3786\"], [0.5555555555555556, \"#d8576b\"], [0.6666666666666666, \"#ed7953\"], [0.7777777777777778, \"#fb9f3a\"], [0.8888888888888888, \"#fdca26\"], [1.0, \"#f0f921\"]], \"sequentialminus\": [[0.0, \"#0d0887\"], [0.1111111111111111, \"#46039f\"], [0.2222222222222222, \"#7201a8\"], [0.3333333333333333, \"#9c179e\"], [0.4444444444444444, \"#bd3786\"], [0.5555555555555556, \"#d8576b\"], [0.6666666666666666, \"#ed7953\"], [0.7777777777777778, \"#fb9f3a\"], [0.8888888888888888, \"#fdca26\"], [1.0, \"#f0f921\"]]}, \"colorway\": [\"#636efa\", \"#EF553B\", \"#00cc96\", \"#ab63fa\", \"#FFA15A\", \"#19d3f3\", \"#FF6692\", \"#B6E880\", \"#FF97FF\", \"#FECB52\"], \"font\": {\"color\": \"#2a3f5f\"}, \"geo\": {\"bgcolor\": \"white\", \"lakecolor\": \"white\", \"landcolor\": \"#E5ECF6\", \"showlakes\": true, \"showland\": true, \"subunitcolor\": \"white\"}, \"hoverlabel\": {\"align\": \"left\"}, \"hovermode\": \"closest\", \"mapbox\": {\"style\": \"light\"}, \"paper_bgcolor\": \"white\", \"plot_bgcolor\": \"#E5ECF6\", \"polar\": {\"angularaxis\": {\"gridcolor\": \"white\", \"linecolor\": \"white\", \"ticks\": \"\"}, \"bgcolor\": \"#E5ECF6\", \"radialaxis\": {\"gridcolor\": \"white\", \"linecolor\": \"white\", \"ticks\": \"\"}}, \"scene\": {\"xaxis\": {\"backgroundcolor\": \"#E5ECF6\", \"gridcolor\": \"white\", \"gridwidth\": 2, \"linecolor\": \"white\", \"showbackground\": true, \"ticks\": \"\", \"zerolinecolor\": \"white\"}, \"yaxis\": {\"backgroundcolor\": \"#E5ECF6\", \"gridcolor\": \"white\", \"gridwidth\": 2, \"linecolor\": \"white\", \"showbackground\": true, \"ticks\": \"\", \"zerolinecolor\": \"white\"}, \"zaxis\": {\"backgroundcolor\": \"#E5ECF6\", \"gridcolor\": \"white\", \"gridwidth\": 2, \"linecolor\": \"white\", \"showbackground\": true, \"ticks\": \"\", \"zerolinecolor\": \"white\"}}, \"shapedefaults\": {\"line\": {\"color\": \"#2a3f5f\"}}, \"ternary\": {\"aaxis\": {\"gridcolor\": \"white\", \"linecolor\": \"white\", \"ticks\": \"\"}, \"baxis\": {\"gridcolor\": \"white\", \"linecolor\": \"white\", \"ticks\": \"\"}, \"bgcolor\": \"#E5ECF6\", \"caxis\": {\"gridcolor\": \"white\", \"linecolor\": \"white\", \"ticks\": \"\"}}, \"title\": {\"x\": 0.05}, \"xaxis\": {\"automargin\": true, \"gridcolor\": \"white\", \"linecolor\": \"white\", \"ticks\": \"\", \"title\": {\"standoff\": 15}, \"zerolinecolor\": \"white\", \"zerolinewidth\": 2}, \"yaxis\": {\"automargin\": true, \"gridcolor\": \"white\", \"linecolor\": \"white\", \"ticks\": \"\", \"title\": {\"standoff\": 15}, \"zerolinecolor\": \"white\", \"zerolinewidth\": 2}}}, \"title\": {\"text\": \"Sony prices across all platforms\"}, \"xaxis\": {\"anchor\": \"y\", \"domain\": [0.0, 1.0], \"title\": {\"text\": \"\"}}, \"yaxis\": {\"anchor\": \"x\", \"domain\": [0.0, 1.0], \"tickprefix\": \"$\", \"title\": {\"text\": \"\"}}},\n",
       "                        {\"responsive\": true}\n",
       "                    ).then(function(){\n",
       "                            \n",
       "var gd = document.getElementById('f4c28a78-7eb3-4bde-bc67-648ed541d298');\n",
       "var x = new MutationObserver(function (mutations, observer) {{\n",
       "        var display = window.getComputedStyle(gd).display;\n",
       "        if (!display || display === 'none') {{\n",
       "            console.log([gd, 'removed!']);\n",
       "            Plotly.purge(gd);\n",
       "            observer.disconnect();\n",
       "        }}\n",
       "}});\n",
       "\n",
       "// Listen for the removal of the full notebook cells\n",
       "var notebookContainer = gd.closest('#notebook-container');\n",
       "if (notebookContainer) {{\n",
       "    x.observe(notebookContainer, {childList: true});\n",
       "}}\n",
       "\n",
       "// Listen for the clearing of the current output cell\n",
       "var outputEl = gd.closest('.output');\n",
       "if (outputEl) {{\n",
       "    x.observe(outputEl, {childList: true});\n",
       "}}\n",
       "\n",
       "                        })\n",
       "                };\n",
       "                });\n",
       "            </script>\n",
       "        </div>"
      ]
     },
     "metadata": {},
     "output_type": "display_data"
    }
   ],
   "source": [
    "# plot with plotly\n",
    "fig = px.scatter(df.loc[df[\"Brand\"] == \"Sony\"], x=\"Date-Seen\", y=\"Price-Min\",color=\"Manufacturer-Id\")\n",
    "\n",
    "# styling\n",
    "fig.update_yaxes(tickprefix=\"$\") # dollar sign on y-axis\n",
    "fig.update_xaxes(title_text='') # get rid of x-title\n",
    "fig.update_yaxes(title_text='') # get rid of y-title\n",
    "fig.update_traces(marker=dict(size=7, line=dict(width=1, color='DarkSlateGrey')), selector=dict(mode='markers')) # style markers\n",
    "fig.update_layout(\n",
    "    title=\"Sony prices across all platforms\",\n",
    "    legend_title=\"Models\",\n",
    "    font=dict(\n",
    "        size=12,\n",
    "    )\n",
    ")\n",
    "\n",
    "fig.show()"
   ]
  },
  {
   "cell_type": "code",
   "execution_count": 34,
   "metadata": {},
   "outputs": [],
   "source": [
    "# df1 = df[df[\"Brand\"] == \"Sony\"]\n",
    "\n",
    "# # Create as many colors as there are unique df['Website']\n",
    "# ManufacturerId = np.unique(df1['Manufacturer-Id'])\n",
    "# colors = [\"red\", \"blue\", \"green\", \"black\", \"pink\", \"slategray\", \"magenta\", \"cyan\", \"gold\", \"lime\"]\n",
    "\n",
    "\n",
    "# # Draw Plot for Each Website\n",
    "# plt.figure(figsize=(16, 10), dpi= 80, facecolor='w', edgecolor='k')\n",
    "\n",
    "# for i, ManufacturerId in enumerate(ManufacturerId):\n",
    "#     plt.scatter('Date-Seen', 'Price-Min', \n",
    "#                 data=df1.loc[df1[\"Manufacturer-Id\"] == ManufacturerId, :], \n",
    "#                 s=50, c=colors[i], label=str(ManufacturerId))\n",
    "    \n",
    "# plt.title(\"Sony prices across all websites\", fontsize=22)\n",
    "# plt.legend(fontsize=12)"
   ]
  },
  {
   "cell_type": "code",
   "execution_count": 35,
   "metadata": {},
   "outputs": [],
   "source": [
    "# figure, ((ax1, ax2), (ax3, ax4)) = plt.subplots(2, 2, figsize=(16,10))\n",
    "# ax1.scatter('Date-Seen', 'Price-Min', data=df1.loc[df1.Website==\"bestbuy\"], s=50, c=\"red\")\n",
    "# ax2.scatter('Date-Seen', 'Price-Min', data=df1.loc[df1.Website==\"bhphotovideo\"], s=50, c=\"blue\")\n",
    "# ax3.scatter('Date-Seen', 'Price-Min', data=df1.loc[df1.Website==\"ebay\"], s=50, c=\"green\")\n",
    "# ax4.scatter('Date-Seen', 'Price-Min', data=df1.loc[df1.Website==\"walmart\"], s=50, c=\"black\")\n",
    "# ax1.title.set_text('Sony - Besbuy')\n",
    "# ax2.title.set_text('Sony - BHPhotovideo')\n",
    "# ax3.title.set_text('Sony - eBay')\n",
    "# ax4.title.set_text('Sony - Walmart')"
   ]
  },
  {
   "cell_type": "code",
   "execution_count": 36,
   "metadata": {},
   "outputs": [
    {
     "data": {
      "text/html": [
       "<div>\n",
       "<style scoped>\n",
       "    .dataframe tbody tr th:only-of-type {\n",
       "        vertical-align: middle;\n",
       "    }\n",
       "\n",
       "    .dataframe tbody tr th {\n",
       "        vertical-align: top;\n",
       "    }\n",
       "\n",
       "    .dataframe thead th {\n",
       "        text-align: right;\n",
       "    }\n",
       "</style>\n",
       "<table border=\"1\" class=\"dataframe\">\n",
       "  <thead>\n",
       "    <tr style=\"text-align: right;\">\n",
       "      <th></th>\n",
       "      <th>Price-Max</th>\n",
       "      <th>Price-Min</th>\n",
       "      <th>On-Sale</th>\n",
       "    </tr>\n",
       "    <tr>\n",
       "      <th>Brand</th>\n",
       "      <th></th>\n",
       "      <th></th>\n",
       "      <th></th>\n",
       "    </tr>\n",
       "  </thead>\n",
       "  <tbody>\n",
       "    <tr>\n",
       "      <th>Hisense</th>\n",
       "      <td>595.344667</td>\n",
       "      <td>583.764000</td>\n",
       "      <td>0.200000</td>\n",
       "    </tr>\n",
       "    <tr>\n",
       "      <th>Lg</th>\n",
       "      <td>1194.392000</td>\n",
       "      <td>879.234000</td>\n",
       "      <td>0.700000</td>\n",
       "    </tr>\n",
       "    <tr>\n",
       "      <th>Samsung</th>\n",
       "      <td>2120.806225</td>\n",
       "      <td>1693.442318</td>\n",
       "      <td>0.549669</td>\n",
       "    </tr>\n",
       "    <tr>\n",
       "      <th>Sony</th>\n",
       "      <td>1789.733094</td>\n",
       "      <td>1716.444126</td>\n",
       "      <td>0.246637</td>\n",
       "    </tr>\n",
       "  </tbody>\n",
       "</table>\n",
       "</div>"
      ],
      "text/plain": [
       "           Price-Max    Price-Min   On-Sale\n",
       "Brand                                      \n",
       "Hisense   595.344667   583.764000  0.200000\n",
       "Lg       1194.392000   879.234000  0.700000\n",
       "Samsung  2120.806225  1693.442318  0.549669\n",
       "Sony     1789.733094  1716.444126  0.246637"
      ]
     },
     "execution_count": 36,
     "metadata": {},
     "output_type": "execute_result"
    }
   ],
   "source": [
    "dfAvg = df.groupby(\"Brand\").mean()\n",
    "dfAvg.sort_values(\"Price-Min\")"
   ]
  },
  {
   "cell_type": "markdown",
   "metadata": {},
   "source": [
    "# On sale"
   ]
  },
  {
   "cell_type": "code",
   "execution_count": 37,
   "metadata": {},
   "outputs": [
    {
     "data": {
      "text/html": [
       "<div>\n",
       "<style scoped>\n",
       "    .dataframe tbody tr th:only-of-type {\n",
       "        vertical-align: middle;\n",
       "    }\n",
       "\n",
       "    .dataframe tbody tr th {\n",
       "        vertical-align: top;\n",
       "    }\n",
       "\n",
       "    .dataframe thead th {\n",
       "        text-align: right;\n",
       "    }\n",
       "</style>\n",
       "<table border=\"1\" class=\"dataframe\">\n",
       "  <thead>\n",
       "    <tr style=\"text-align: right;\">\n",
       "      <th></th>\n",
       "      <th></th>\n",
       "      <th>Price-Max</th>\n",
       "      <th>Price-Min</th>\n",
       "    </tr>\n",
       "    <tr>\n",
       "      <th>Brand</th>\n",
       "      <th>On-Sale</th>\n",
       "      <th></th>\n",
       "      <th></th>\n",
       "    </tr>\n",
       "  </thead>\n",
       "  <tbody>\n",
       "    <tr>\n",
       "      <th rowspan=\"2\" valign=\"top\">Hisense</th>\n",
       "      <th>False</th>\n",
       "      <td>584.916250</td>\n",
       "      <td>584.916250</td>\n",
       "    </tr>\n",
       "    <tr>\n",
       "      <th>True</th>\n",
       "      <td>637.058333</td>\n",
       "      <td>579.155000</td>\n",
       "    </tr>\n",
       "    <tr>\n",
       "      <th rowspan=\"2\" valign=\"top\">Lg</th>\n",
       "      <th>False</th>\n",
       "      <td>1131.323333</td>\n",
       "      <td>1131.323333</td>\n",
       "    </tr>\n",
       "    <tr>\n",
       "      <th>True</th>\n",
       "      <td>1221.421429</td>\n",
       "      <td>771.195714</td>\n",
       "    </tr>\n",
       "    <tr>\n",
       "      <th rowspan=\"2\" valign=\"top\">Samsung</th>\n",
       "      <th>False</th>\n",
       "      <td>1650.552353</td>\n",
       "      <td>1650.552353</td>\n",
       "    </tr>\n",
       "    <tr>\n",
       "      <th>True</th>\n",
       "      <td>2506.074458</td>\n",
       "      <td>1728.581084</td>\n",
       "    </tr>\n",
       "    <tr>\n",
       "      <th rowspan=\"2\" valign=\"top\">Sony</th>\n",
       "      <th>False</th>\n",
       "      <td>1711.581429</td>\n",
       "      <td>1711.581429</td>\n",
       "    </tr>\n",
       "    <tr>\n",
       "      <th>True</th>\n",
       "      <td>2028.450909</td>\n",
       "      <td>1731.297455</td>\n",
       "    </tr>\n",
       "  </tbody>\n",
       "</table>\n",
       "</div>"
      ],
      "text/plain": [
       "                   Price-Max    Price-Min\n",
       "Brand   On-Sale                          \n",
       "Hisense False     584.916250   584.916250\n",
       "        True      637.058333   579.155000\n",
       "Lg      False    1131.323333  1131.323333\n",
       "        True     1221.421429   771.195714\n",
       "Samsung False    1650.552353  1650.552353\n",
       "        True     2506.074458  1728.581084\n",
       "Sony    False    1711.581429  1711.581429\n",
       "        True     2028.450909  1731.297455"
      ]
     },
     "execution_count": 37,
     "metadata": {},
     "output_type": "execute_result"
    }
   ],
   "source": [
    "dfAvg = df.groupby([\"Brand\", \"On-Sale\"]).mean()\n",
    "dfAvg"
   ]
  }
 ],
 "metadata": {
  "kernelspec": {
   "display_name": "Python 3",
   "language": "python",
   "name": "python3"
  },
  "language_info": {
   "codemirror_mode": {
    "name": "ipython",
    "version": 3
   },
   "file_extension": ".py",
   "mimetype": "text/x-python",
   "name": "python",
   "nbconvert_exporter": "python",
   "pygments_lexer": "ipython3",
   "version": "3.7.6"
  },
  "toc": {
   "base_numbering": 1,
   "nav_menu": {},
   "number_sections": true,
   "sideBar": true,
   "skip_h1_title": true,
   "title_cell": "Table of Contents",
   "title_sidebar": "Contents",
   "toc_cell": true,
   "toc_position": {},
   "toc_section_display": true,
   "toc_window_display": false
  }
 },
 "nbformat": 4,
 "nbformat_minor": 2
}
